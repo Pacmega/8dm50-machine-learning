{
 "cells": [
  {
   "cell_type": "markdown",
   "metadata": {},
   "source": [
    "# Preliminaries\n",
    "\n",
    "## Dataset\n",
    "\n",
    "In this set of exercises we will use the same dataset as from [week 3](week_3.ipynb). \n",
    "\n",
    "\n",
    "As before, we provide the data already curated in the following two files:\n",
    "\n",
    "`RNA_expression_curated.csv`: [148 cell lines , 238 genes]\n",
    "\n",
    "`drug_response_curated.csv`: [148 cell lines , YM155 drug]\n",
    "\n",
    "The curated data can be read as `pandas` `DataFrame` in the following way:"
   ]
  },
  {
   "cell_type": "code",
   "execution_count": 1,
   "metadata": {},
   "outputs": [],
   "source": [
    "from sklearn.pipeline import Pipeline\n",
    "from sklearn.preprocessing import StandardScaler\n",
    "import pandas as pd\n",
    "\n",
    "gene_expression = pd.read_csv(\"./data/RNA_expression_curated.csv\", sep=',', header=0, index_col=0)\n",
    "drug_response = pd.read_csv(\"./data/drug_response_curated.csv\", sep=',', header=0, index_col=0)"
   ]
  },
  {
   "cell_type": "markdown",
   "metadata": {},
   "source": [
    "The goal of the exercises is to train support vector machine (SVM) and random forests classifiers on this dataset and explore and learn about their hyperparameters. "
   ]
  },
  {
   "cell_type": "markdown",
   "metadata": {},
   "source": [
    "## Tools\n",
    "\n",
    "The `scikit-learn` library provides the required tools for support vector machines, as well as for random forest algorithms."
   ]
  },
  {
   "cell_type": "code",
   "execution_count": 2,
   "metadata": {},
   "outputs": [],
   "source": [
    "from sklearn import svm \n",
    "from sklearn.ensemble import RandomForestClassifier\n",
    "from sklearn.model_selection import GridSearchCV\n",
    "from sklearn.model_selection import train_test_split\n",
    "from sklearn.datasets import make_blobs, make_circles\n",
    "from sklearn.metrics import classification_report"
   ]
  },
  {
   "cell_type": "markdown",
   "metadata": {},
   "source": [
    "Before proceeding, look up the documentation of the imported functions and read about their basic functionality. Below, we list some important parameters of SVMs and random forests that can be tuned during training."
   ]
  },
  {
   "cell_type": "markdown",
   "metadata": {},
   "source": [
    "#### Support Vector Machines (SVM)\n",
    "\n",
    "`C`: error term.\n",
    "\n",
    "`kernel`: similarity function ('linear', 'poly', 'sigmoid' or 'rbf')\n",
    "\n",
    "`gamma`: kernel coef. for 'rbf', 'poly' and 'sigmoid' kernels. It can be thought of as the ‘spread’ of the kernel and therefore the decision region.\n",
    "\n",
    "`degree`: degree for the 'poly' kernel.\n",
    "\n",
    "`coef0`: independt term in the 'poly' and 'sigmoid' kernels\n",
    "\n",
    "\n",
    "#### Random Forests\n",
    "\n",
    "`n_estimators`: number of trees in our random forest.\n",
    "\n",
    "`max_depth`: maximum number of levels in each decision tree\n",
    "\n",
    "`max_features`: maximum number of features to consider per split in an individual tree.\n",
    "\n",
    "`min_sample_leaf`: minimum number of data points per leaf node\n",
    "\n",
    "`min_samples_split`: minimum number of data points placed in a node before the node is split\n",
    "\n",
    "`oob_score`: the out-of-bag (OOB) error is the average error for each observation calculated using predictions from the trees that do not contain that observation in their respective bootstrap sample. Set this parameter to true.\n",
    "\n",
    "`bootstrap`: method for sampling data points (with or without replacement). Set this parameter to true.\n",
    "\n",
    "`criterion`: function used to measure the quality of the split (e.g. 'entropy' or 'gini')\n",
    "\n",
    "# Exercises\n",
    "\n",
    "## Support vector machines\n",
    "\n",
    "The  `make_blobs` and `make_circles` functions can be used to generate linearly and not linearly separable toy datasets. "
   ]
  },
  {
   "cell_type": "code",
   "execution_count": 3,
   "metadata": {},
   "outputs": [],
   "source": [
    "# data generation: linearly separable\n",
    "X, Y = make_blobs(n_samples=200, centers=2, n_features=2, random_state=1234)\n",
    "X = pd.DataFrame(X, columns=['x1', 'x2'])\n",
    "\n",
    "# splitting data into training and test set\n",
    "X_train_blobs, X_test_blobs, Y_train_blobs, Y_test_blobs = train_test_split(X, Y, test_size=0.33, random_state=333)"
   ]
  },
  {
   "cell_type": "markdown",
   "metadata": {},
   "source": [
    "The following code illustrates how to train a linear SVM classifier and plot the data points, the separating hyperplane, the support vectors and the margins that pass through them (considering the training data)"
   ]
  },
  {
   "cell_type": "code",
   "execution_count": 4,
   "metadata": {},
   "outputs": [],
   "source": [
    "def make_plot(model, X_train, Y_train, kernel_type):\n",
    "    # create plot\n",
    "    fig, ax = plt.subplots()\n",
    "\n",
    "    # get colors from qualitative colormap 'Paired'\n",
    "    cmap = plt.cm.get_cmap('Paired')\n",
    "\n",
    "    # plot data points\n",
    "    ax.scatter(X_train.iloc[Y_train == 1, 0], X_train.iloc[Y_train == 1, 1],\n",
    "               c=[cmap(11)], label='1')\n",
    "    ax.scatter(X_train.iloc[Y_train == 0, 0], X_train.iloc[Y_train == 0, 1],\n",
    "               c=[cmap(0)], label='0')\n",
    "    ax.legend(loc='best')\n",
    "\n",
    "    # plot the decision function\n",
    "    # create grid to evaluate model\n",
    "    x1_min, x1_max = X_train.iloc[:, 0].min() - 1, X_train.iloc[:, 0].max() + 1\n",
    "    x2_min, x2_max = X_train.iloc[:, 1].min() - 1, X_train.iloc[:, 1].max() + 1\n",
    "\n",
    "    XX, YY = np.meshgrid(np.arange(x1_min, x1_max, .2),\n",
    "                         np.arange(x2_min, x2_max, .2))\n",
    "\n",
    "    xy = np.vstack([XX.ravel(), YY.ravel()]).T\n",
    "    Z = model.decision_function(xy).reshape(XX.shape)\n",
    "\n",
    "    # plot decision boundary and margins\n",
    "    ax.contour(XX, YY, Z, colors='k', levels=[-1, 0, 1], alpha=0.5,\n",
    "               linestyles=['--', '-', '--'])\n",
    "\n",
    "    # Establish the class for each point in the contour\n",
    "    Z = model.predict(xy).reshape(XX.shape)\n",
    "\n",
    "    # Visualization of the contour\n",
    "    ax.contourf(XX, YY, Z, cmap='bwr', alpha=0.3)\n",
    "\n",
    "    # plot support vectors, whose are responsible for building the margins\n",
    "    ax.scatter(model.support_vectors_[:, 0], model.support_vectors_[:, 1], s=100,\n",
    "               linewidth=1, facecolors='none', edgecolors='k', marker='s')\n",
    "\n",
    "    ax.axis([x1_min, x1_max, x2_min, x2_max])\n",
    "    plt.axis('tight')\n",
    "    plt.title(kernel_type + ' kernel SVM')\n",
    "    return plt"
   ]
  },
  {
   "cell_type": "code",
   "execution_count": 5,
   "metadata": {},
   "outputs": [
    {
     "name": "stderr",
     "output_type": "stream",
     "text": [
      "/home/bas/.local/lib/python3.8/site-packages/sklearn/base.py:450: UserWarning: X does not have valid feature names, but SVC was fitted with feature names\n",
      "  warnings.warn(\n",
      "/home/bas/.local/lib/python3.8/site-packages/sklearn/base.py:450: UserWarning: X does not have valid feature names, but SVC was fitted with feature names\n",
      "  warnings.warn(\n"
     ]
    },
    {
     "data": {
      "image/png": "[encoded data removed]",
      "text/plain": [
       "<Figure size 432x288 with 1 Axes>"
      ]
     },
     "metadata": {
      "needs_background": "light"
     },
     "output_type": "display_data"
    }
   ],
   "source": [
    "import numpy as np\n",
    "import matplotlib.pyplot as plt\n",
    "\n",
    "# build the model\n",
    "linear_blobs_model = svm.SVC(kernel='linear', random_state=33)\n",
    "linear_blobs_model.fit(X_train_blobs, Y_train_blobs)\n",
    "\n",
    "plt = make_plot(linear_blobs_model, X_train_blobs, Y_train_blobs, 'Linear')\n",
    "plt.show()"
   ]
  },
  {
   "cell_type": "markdown",
   "metadata": {},
   "source": [
    "Train a radial basis function (RBF) SVM classifier with `gamma=0.5` and plot the results in the same way."
   ]
  },
  {
   "cell_type": "code",
   "execution_count": 6,
   "metadata": {},
   "outputs": [
    {
     "name": "stderr",
     "output_type": "stream",
     "text": [
      "/home/bas/.local/lib/python3.8/site-packages/sklearn/base.py:450: UserWarning: X does not have valid feature names, but SVC was fitted with feature names\n",
      "  warnings.warn(\n",
      "/home/bas/.local/lib/python3.8/site-packages/sklearn/base.py:450: UserWarning: X does not have valid feature names, but SVC was fitted with feature names\n",
      "  warnings.warn(\n"
     ]
    },
    {
     "data": {
      "image/png": "[encoded data removed]",
      "text/plain": [
       "<Figure size 432x288 with 1 Axes>"
      ]
     },
     "metadata": {
      "needs_background": "light"
     },
     "output_type": "display_data"
    }
   ],
   "source": [
    "import numpy as np\n",
    "import matplotlib.pyplot as plt\n",
    "\n",
    "# build the model\n",
    "rbf_model_blobs = svm.SVC(kernel='rbf', gamma=0.5, random_state=33)\n",
    "rbf_model_blobs.fit(X_train_blobs, Y_train_blobs)\n",
    "\n",
    "fig = make_plot(rbf_model_blobs, X_train_blobs, Y_train_blobs, 'RBF')\n",
    "fig.show()"
   ]
  },
  {
   "cell_type": "code",
   "execution_count": 7,
   "metadata": {},
   "outputs": [],
   "source": [
    "# data generation: not linearly separable\n",
    "X, Y = make_circles(n_samples=200, noise=0.05, random_state=1234)\n",
    "X = pd.DataFrame(X, columns=['x1', 'x2'])\n",
    "\n",
    "# splitting data into training and test set\n",
    "X_train_circles, X_test_circles, Y_train_circles, Y_test_circles \\\n",
    "    = train_test_split(X, Y, test_size=0.33, random_state=333)"
   ]
  },
  {
   "cell_type": "code",
   "execution_count": 8,
   "metadata": {},
   "outputs": [
    {
     "name": "stderr",
     "output_type": "stream",
     "text": [
      "/home/bas/.local/lib/python3.8/site-packages/sklearn/base.py:450: UserWarning: X does not have valid feature names, but SVC was fitted with feature names\n",
      "  warnings.warn(\n",
      "/home/bas/.local/lib/python3.8/site-packages/sklearn/base.py:450: UserWarning: X does not have valid feature names, but SVC was fitted with feature names\n",
      "  warnings.warn(\n"
     ]
    },
    {
     "data": {
      "image/png": "[encoded data removed]",
      "text/plain": [
       "<Figure size 432x288 with 1 Axes>"
      ]
     },
     "metadata": {
      "needs_background": "light"
     },
     "output_type": "display_data"
    }
   ],
   "source": [
    "import numpy as np\n",
    "import matplotlib.pyplot as plt\n",
    "\n",
    "# build the model\n",
    "linear_model_circles = svm.SVC(kernel='linear', random_state=33)\n",
    "linear_model_circles.fit(X_train_circles, Y_train_circles)\n",
    "\n",
    "plt = make_plot(linear_model_circles, X_train_circles, Y_train_circles, 'Linear')\n",
    "plt.show()"
   ]
  },
  {
   "cell_type": "code",
   "execution_count": 9,
   "metadata": {},
   "outputs": [
    {
     "name": "stderr",
     "output_type": "stream",
     "text": [
      "/home/bas/.local/lib/python3.8/site-packages/sklearn/base.py:450: UserWarning: X does not have valid feature names, but SVC was fitted with feature names\n",
      "  warnings.warn(\n",
      "/home/bas/.local/lib/python3.8/site-packages/sklearn/base.py:450: UserWarning: X does not have valid feature names, but SVC was fitted with feature names\n",
      "  warnings.warn(\n"
     ]
    },
    {
     "data": {
      "image/png": "[encoded data removed]",
      "text/plain": [
       "<Figure size 432x288 with 1 Axes>"
      ]
     },
     "metadata": {
      "needs_background": "light"
     },
     "output_type": "display_data"
    }
   ],
   "source": [
    "import numpy as np\n",
    "import matplotlib.pyplot as plt\n",
    "\n",
    "# build the model\n",
    "rbf_model_circles = svm.SVC(kernel='rbf', gamma=0.5, random_state=33)\n",
    "rbf_model_circles.fit(X_train_circles, Y_train_circles)\n",
    "\n",
    "fig = make_plot(rbf_model_circles, X_train_circles, Y_train_circles, 'RBF')\n",
    "fig.show()"
   ]
  },
  {
   "cell_type": "markdown",
   "metadata": {},
   "source": [
    "<p><font color='#770a0a'>When should a RBF kernel be used over a linear kernel? Motivate your answer.</font></p>\n",
    "\n",
    "An RBF kernel is more suitable when the data is not linearly separable, where a linear kernel would struggle if no additional feature engineering is done (or the feature engineering does not make the data fully linearly separable). The RBF kernel may still be able to learn a good solution, while the linear kernel would be unsuccessful. An example of that can be seen above in the two plots for the circle dataset, which is clearly not linearly separable and the linear kernel SVM fails completely while this is a perfect example dataset for the RBF kernel.\n",
    "\n",
    "<p><font color='#770a0a'>Do we need to normalize the data before using a kernel function? Motivate your answer.\n",
    "</font></p>\n",
    "\n",
    "Yes, certainly. Kernel functions calculate the Euclidean distance between points, and if one feature is of a much larger scale than the others this would result in much larger distances in this feature than in any others which makes the model focus much more on separating classes in this single feature than in the space as a whole. This is of course not desired as it would not result in a good separation of classes overall, so normalising the features is necessary."
   ]
  },
  {
   "cell_type": "markdown",
   "metadata": {},
   "source": [
    "## Predicting drug response on cell lines from gene expression data with SVMs\n",
    "\n",
    "Explore the hyper-parameter space of an SVM classifier with cross-validation for the Genomics of Drug Sensitivity in Cancer (GDSC) dataset. The`GridSearchCV` function can be used to specify a grid of parameter values with the `param_grid` parameter.\n",
    "\n",
    "Calculate the precision of your predictions, and compare your calculations with the results of `classification_report`, which displays many classification metrics.\n",
    "\n",
    "\n"
   ]
  },
  {
   "cell_type": "markdown",
   "metadata": {},
   "source": [
    "**Approach:**\n",
    "\n",
    "From dr. Eduati's response on a question how to use this continuous target label for this classification question: \"use the GDSC data and divide them in sensitive and resistant (for example based on the population average) so that you have a classification problem.\"\n",
    "\n",
    "As such, we take the mean and change the target into two groups: either sensitive (response > mean) or resistant (response <= mean)."
   ]
  },
  {
   "cell_type": "code",
   "execution_count": 69,
   "metadata": {},
   "outputs": [],
   "source": [
    "gene_expression = pd.read_csv(\"./data/RNA_expression_curated.csv\", sep=',', header=0, index_col=0)\n",
    "drug_response = pd.read_csv(\"./data/drug_response_curated.csv\", sep=',', header=0, index_col=0)\n",
    "\n",
    "response_mean = drug_response.YM155.mean()\n",
    "categorical_y = [1 if response > response_mean else 0 \\\n",
    "                 for response in drug_response.YM155]\n",
    "\n",
    "gene_train, gene_test, drug_train, drug_test = train_test_split(gene_expression, categorical_y, \n",
    "                                                                train_size = 0.75, random_state = 40)"
   ]
  },
  {
   "cell_type": "code",
   "execution_count": 96,
   "metadata": {
    "scrolled": true
   },
   "outputs": [
    {
     "name": "stdout",
     "output_type": "stream",
     "text": [
      "Fitting 5 folds for each of 2816 candidates, totalling 14080 fits\n"
     ]
    },
    {
     "data": {
      "text/html": [
       "<div>\n",
       "<style scoped>\n",
       "    .dataframe tbody tr th:only-of-type {\n",
       "        vertical-align: middle;\n",
       "    }\n",
       "\n",
       "    .dataframe tbody tr th {\n",
       "        vertical-align: top;\n",
       "    }\n",
       "\n",
       "    .dataframe thead th {\n",
       "        text-align: right;\n",
       "    }\n",
       "</style>\n",
       "<table border=\"1\" class=\"dataframe\">\n",
       "  <thead>\n",
       "    <tr style=\"text-align: right;\">\n",
       "      <th></th>\n",
       "      <th>mean_fit_time</th>\n",
       "      <th>std_fit_time</th>\n",
       "      <th>mean_score_time</th>\n",
       "      <th>std_score_time</th>\n",
       "      <th>param_svm__C</th>\n",
       "      <th>param_svm__degree</th>\n",
       "      <th>param_svm__gamma</th>\n",
       "      <th>param_svm__kernel</th>\n",
       "      <th>params</th>\n",
       "      <th>split0_test_score</th>\n",
       "      <th>split1_test_score</th>\n",
       "      <th>split2_test_score</th>\n",
       "      <th>split3_test_score</th>\n",
       "      <th>split4_test_score</th>\n",
       "      <th>mean_test_score</th>\n",
       "      <th>std_test_score</th>\n",
       "      <th>rank_test_score</th>\n",
       "    </tr>\n",
       "  </thead>\n",
       "  <tbody>\n",
       "    <tr>\n",
       "      <th>1583</th>\n",
       "      <td>0.021770</td>\n",
       "      <td>0.001712</td>\n",
       "      <td>0.008599</td>\n",
       "      <td>0.000989</td>\n",
       "      <td>10.0</td>\n",
       "      <td>1</td>\n",
       "      <td>0.01</td>\n",
       "      <td>sigmoid</td>\n",
       "      <td>{'svm__C': 10.0, 'svm__degree': 1, 'svm__gamma...</td>\n",
       "      <td>0.73913</td>\n",
       "      <td>0.772727</td>\n",
       "      <td>0.863636</td>\n",
       "      <td>0.818182</td>\n",
       "      <td>0.727273</td>\n",
       "      <td>0.78419</td>\n",
       "      <td>0.050732</td>\n",
       "      <td>1</td>\n",
       "    </tr>\n",
       "    <tr>\n",
       "      <th>1679</th>\n",
       "      <td>0.019571</td>\n",
       "      <td>0.001372</td>\n",
       "      <td>0.009277</td>\n",
       "      <td>0.000795</td>\n",
       "      <td>10.0</td>\n",
       "      <td>4</td>\n",
       "      <td>0.01</td>\n",
       "      <td>sigmoid</td>\n",
       "      <td>{'svm__C': 10.0, 'svm__degree': 4, 'svm__gamma...</td>\n",
       "      <td>0.73913</td>\n",
       "      <td>0.772727</td>\n",
       "      <td>0.863636</td>\n",
       "      <td>0.818182</td>\n",
       "      <td>0.727273</td>\n",
       "      <td>0.78419</td>\n",
       "      <td>0.050732</td>\n",
       "      <td>1</td>\n",
       "    </tr>\n",
       "    <tr>\n",
       "      <th>1711</th>\n",
       "      <td>0.022131</td>\n",
       "      <td>0.003395</td>\n",
       "      <td>0.008681</td>\n",
       "      <td>0.000935</td>\n",
       "      <td>10.0</td>\n",
       "      <td>5</td>\n",
       "      <td>0.01</td>\n",
       "      <td>sigmoid</td>\n",
       "      <td>{'svm__C': 10.0, 'svm__degree': 5, 'svm__gamma...</td>\n",
       "      <td>0.73913</td>\n",
       "      <td>0.772727</td>\n",
       "      <td>0.863636</td>\n",
       "      <td>0.818182</td>\n",
       "      <td>0.727273</td>\n",
       "      <td>0.78419</td>\n",
       "      <td>0.050732</td>\n",
       "      <td>1</td>\n",
       "    </tr>\n",
       "    <tr>\n",
       "      <th>1775</th>\n",
       "      <td>0.018076</td>\n",
       "      <td>0.000756</td>\n",
       "      <td>0.008113</td>\n",
       "      <td>0.000981</td>\n",
       "      <td>10.0</td>\n",
       "      <td>7</td>\n",
       "      <td>0.01</td>\n",
       "      <td>sigmoid</td>\n",
       "      <td>{'svm__C': 10.0, 'svm__degree': 7, 'svm__gamma...</td>\n",
       "      <td>0.73913</td>\n",
       "      <td>0.772727</td>\n",
       "      <td>0.863636</td>\n",
       "      <td>0.818182</td>\n",
       "      <td>0.727273</td>\n",
       "      <td>0.78419</td>\n",
       "      <td>0.050732</td>\n",
       "      <td>1</td>\n",
       "    </tr>\n",
       "    <tr>\n",
       "      <th>1615</th>\n",
       "      <td>0.020786</td>\n",
       "      <td>0.006345</td>\n",
       "      <td>0.009494</td>\n",
       "      <td>0.002859</td>\n",
       "      <td>10.0</td>\n",
       "      <td>2</td>\n",
       "      <td>0.01</td>\n",
       "      <td>sigmoid</td>\n",
       "      <td>{'svm__C': 10.0, 'svm__degree': 2, 'svm__gamma...</td>\n",
       "      <td>0.73913</td>\n",
       "      <td>0.772727</td>\n",
       "      <td>0.863636</td>\n",
       "      <td>0.818182</td>\n",
       "      <td>0.727273</td>\n",
       "      <td>0.78419</td>\n",
       "      <td>0.050732</td>\n",
       "      <td>1</td>\n",
       "    </tr>\n",
       "  </tbody>\n",
       "</table>\n",
       "</div>"
      ],
      "text/plain": [
       "      mean_fit_time  std_fit_time  mean_score_time  std_score_time  \\\n",
       "1583       0.021770      0.001712         0.008599        0.000989   \n",
       "1679       0.019571      0.001372         0.009277        0.000795   \n",
       "1711       0.022131      0.003395         0.008681        0.000935   \n",
       "1775       0.018076      0.000756         0.008113        0.000981   \n",
       "1615       0.020786      0.006345         0.009494        0.002859   \n",
       "\n",
       "     param_svm__C param_svm__degree param_svm__gamma param_svm__kernel  \\\n",
       "1583         10.0                 1             0.01           sigmoid   \n",
       "1679         10.0                 4             0.01           sigmoid   \n",
       "1711         10.0                 5             0.01           sigmoid   \n",
       "1775         10.0                 7             0.01           sigmoid   \n",
       "1615         10.0                 2             0.01           sigmoid   \n",
       "\n",
       "                                                 params  split0_test_score  \\\n",
       "1583  {'svm__C': 10.0, 'svm__degree': 1, 'svm__gamma...            0.73913   \n",
       "1679  {'svm__C': 10.0, 'svm__degree': 4, 'svm__gamma...            0.73913   \n",
       "1711  {'svm__C': 10.0, 'svm__degree': 5, 'svm__gamma...            0.73913   \n",
       "1775  {'svm__C': 10.0, 'svm__degree': 7, 'svm__gamma...            0.73913   \n",
       "1615  {'svm__C': 10.0, 'svm__degree': 2, 'svm__gamma...            0.73913   \n",
       "\n",
       "      split1_test_score  split2_test_score  split3_test_score  \\\n",
       "1583           0.772727           0.863636           0.818182   \n",
       "1679           0.772727           0.863636           0.818182   \n",
       "1711           0.772727           0.863636           0.818182   \n",
       "1775           0.772727           0.863636           0.818182   \n",
       "1615           0.772727           0.863636           0.818182   \n",
       "\n",
       "      split4_test_score  mean_test_score  std_test_score  rank_test_score  \n",
       "1583           0.727273          0.78419        0.050732                1  \n",
       "1679           0.727273          0.78419        0.050732                1  \n",
       "1711           0.727273          0.78419        0.050732                1  \n",
       "1775           0.727273          0.78419        0.050732                1  \n",
       "1615           0.727273          0.78419        0.050732                1  "
      ]
     },
     "execution_count": 96,
     "metadata": {},
     "output_type": "execute_result"
    }
   ],
   "source": [
    "pipeline = Pipeline([('scaler', StandardScaler()),\n",
    "                     ('svm', svm.SVC())])\n",
    "\n",
    "c = np.geomspace(1e-5,1e5, num = 11)\n",
    "gamma = np.geomspace(1e-5,1e2, num = 8)\n",
    "kernel = ['linear', 'rbf', 'poly', 'sigmoid']\n",
    "\n",
    "cv_folds = 5\n",
    "\n",
    "params = {'svm__C': c, 'svm__gamma': gamma,\n",
    "          'svm__degree': degree, 'svm__kernel': kernel}\n",
    "\n",
    "# GridSearchCV automatically refits to the best found set of parameters\n",
    "gridsearch = GridSearchCV(pipeline, params, cv=cv_folds, n_jobs = -1,\n",
    "                          refit=True, verbose=2)\n",
    "\n",
    "gridsearch.fit(gene_train, drug_train)\n",
    "\n",
    "sorted_results = pd.DataFrame(gridsearch.cv_results_) \\\n",
    "                   .sort_values(by=['mean_test_score'], ascending=False)\n",
    "sorted_results.head(5)"
   ]
  },
  {
   "cell_type": "code",
   "execution_count": 102,
   "metadata": {},
   "outputs": [
    {
     "name": "stdout",
     "output_type": "stream",
     "text": [
      "Precision: 0.3333333333333333\n"
     ]
    }
   ],
   "source": [
    "from sklearn.metrics import precision_score\n",
    "drug_pred = gridsearch.predict(gene_test)\n",
    "\n",
    "tp = 0\n",
    "fp = 0\n",
    "for truth, pred in zip(drug_test, drug_pred):\n",
    "    # Precision only needs true_pos and false_pos\n",
    "    if truth == 1 and pred == 1:\n",
    "        tp += 1\n",
    "    elif truth == 0 and pred == 1:\n",
    "        fp += 1\n",
    "\n",
    "print(f'Precision: {tp/(tp+fp)}')"
   ]
  },
  {
   "cell_type": "code",
   "execution_count": 103,
   "metadata": {},
   "outputs": [
    {
     "name": "stdout",
     "output_type": "stream",
     "text": [
      "              precision    recall  f1-score   support\n",
      "\n",
      "           0       0.62      0.42      0.50        24\n",
      "           1       0.33      0.54      0.41        13\n",
      "\n",
      "    accuracy                           0.46        37\n",
      "   macro avg       0.48      0.48      0.46        37\n",
      "weighted avg       0.52      0.46      0.47        37\n",
      "\n"
     ]
    }
   ],
   "source": [
    "print(classification_report(drug_test, drug_pred))"
   ]
  },
  {
   "cell_type": "markdown",
   "metadata": {},
   "source": [
    "The calculated precision can also be found in the precision column in the row marked by 1, showing the precision of this SVM in classifying samples of class 1."
   ]
  },
  {
   "cell_type": "markdown",
   "metadata": {},
   "source": [
    "## Random forests\n",
    "\n",
    "Follow the same steps as for SVM. Compare the two algorithms and report which one has better performance.\n",
    "\n",
    "The random forests classifiers allows to perform feature selection. Evaluate the importance of features extracting the top 50 informative features. A bar plot (`plt.bar()`) can be a useful tool to visualize this. "
   ]
  },
  {
   "cell_type": "markdown",
   "metadata": {},
   "source": [
    "## Biomedical applications\n",
    "\n",
    "Driven by technological advances, there has recently been a dramatic increase in availability of biomedical data. Machine learning approaches are well suited to take advantage of this data and have been widely applied to many areas of biology. \n",
    "\n",
    "Example of these applications are genome annotation, biomarker identification, systems biology, genome data analysis, protein  function  prediction, protein  structure prediction, protein localization prediction, identification of protein interactions and drug discovery.\n",
    "\n",
    "SVM and RF methods are among the most popular machine learning methods applied in bioinformatics or computational biology.\n",
    "\n",
    "Perform a literature search and find a biomedical study in which SVM or RF is applied to obtain certain insights. <p><font color='#770a0a'>Explain the motivation behind using that specific algorithm in the study.\n",
    "</font></p>"
   ]
  },
  {
   "cell_type": "code",
   "execution_count": null,
   "metadata": {},
   "outputs": [],
   "source": []
  }
 ],
 "metadata": {
  "kernelspec": {
   "display_name": "Python 3",
   "language": "python",
   "name": "python3"
  },
  "language_info": {
   "codemirror_mode": {
    "name": "ipython",
    "version": 3
   },
   "file_extension": ".py",
   "mimetype": "text/x-python",
   "name": "python",
   "nbconvert_exporter": "python",
   "pygments_lexer": "ipython3",
   "version": "3.8.10"
  }
 },
 "nbformat": 4,
 "nbformat_minor": 2
}
