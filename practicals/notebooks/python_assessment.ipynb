{
 "cells": [
  {
   "cell_type": "code",
   "execution_count": 29,
   "id": "a05d3f3a",
   "metadata": {},
   "outputs": [],
   "source": [
    "def question1(a):\n",
    "    x = np.arange(9)+a\n",
    "    arr_2d = np.reshape(x, (3, 3))\n",
    "    return arr_2d"
   ]
  },
  {
   "cell_type": "code",
   "execution_count": 8,
   "id": "8596631b",
   "metadata": {},
   "outputs": [
    {
     "data": {
      "text/plain": [
       "array([[3, 5],\n",
       "       [5, 7],\n",
       "       [7, 9]])"
      ]
     },
     "execution_count": 8,
     "metadata": {},
     "output_type": "execute_result"
    }
   ],
   "source": [
    "import numpy as np\n",
    "\n",
    "x = np.array([[3], [4], [4]])\n",
    "y = np.array([[5], [7], [9]])\n",
    "np.hstack((x,y))"
   ]
  },
  {
   "cell_type": "code",
   "execution_count": 28,
   "id": "2f3aec37",
   "metadata": {},
   "outputs": [
    {
     "data": {
      "text/plain": [
       "array([[ 3,  4,  5],\n",
       "       [ 6,  7,  8],\n",
       "       [ 9, 10, 11]])"
      ]
     },
     "execution_count": 28,
     "metadata": {},
     "output_type": "execute_result"
    }
   ],
   "source": [
    "a = 3\n",
    "\n",
    "arr_2d"
   ]
  },
  {
   "cell_type": "code",
   "execution_count": 30,
   "id": "cbac2ace",
   "metadata": {},
   "outputs": [
    {
     "data": {
      "text/plain": [
       "array([[ 3,  4,  5],\n",
       "       [ 6,  7,  8],\n",
       "       [ 9, 10, 11]])"
      ]
     },
     "execution_count": 30,
     "metadata": {},
     "output_type": "execute_result"
    }
   ],
   "source": [
    "question1(3)"
   ]
  },
  {
   "cell_type": "code",
   "execution_count": 42,
   "id": "276bb950",
   "metadata": {},
   "outputs": [],
   "source": [
    "def question2(x):\n",
    "    if any(x<0):\n",
    "        return x\n",
    "    else:\n",
    "        array_int16 = x.astype(np.uint16)\n",
    "        return array_int16\n"
   ]
  },
  {
   "cell_type": "code",
   "execution_count": 44,
   "id": "7673f563",
   "metadata": {},
   "outputs": [
    {
     "data": {
      "text/plain": [
       "array([10.2 , -3.1 ,  9.33])"
      ]
     },
     "execution_count": 44,
     "metadata": {},
     "output_type": "execute_result"
    }
   ],
   "source": [
    "question2(np.array([10.2, -3.1, 9.33]))"
   ]
  },
  {
   "cell_type": "code",
   "execution_count": 53,
   "id": "3a633663",
   "metadata": {},
   "outputs": [],
   "source": [
    "def question3(a):\n",
    "    y = np.zeros((a,a))\n",
    "    y[1:-1,1:-1] = 1\n",
    "    return y"
   ]
  },
  {
   "cell_type": "code",
   "execution_count": 54,
   "id": "547f52cd",
   "metadata": {},
   "outputs": [
    {
     "data": {
      "text/plain": [
       "array([[0., 0., 0., 0.],\n",
       "       [0., 1., 1., 0.],\n",
       "       [0., 1., 1., 0.],\n",
       "       [0., 0., 0., 0.]])"
      ]
     },
     "execution_count": 54,
     "metadata": {},
     "output_type": "execute_result"
    }
   ],
   "source": [
    "\n",
    "question3(4)"
   ]
  },
  {
   "cell_type": "code",
   "execution_count": 60,
   "id": "c9932e4f",
   "metadata": {},
   "outputs": [],
   "source": [
    "x = np.asarray([1, 5, 10, 20, 30])\n",
    "y = np.asarray([1, 1.2, 1.8, 3, 10])\n",
    "# y = f(x)"
   ]
  },
  {
   "cell_type": "code",
   "execution_count": 63,
   "id": "175cbad7",
   "metadata": {},
   "outputs": [
    {
     "data": {
      "text/plain": [
       "array(1.89123707)"
      ]
     },
     "execution_count": 63,
     "metadata": {},
     "output_type": "execute_result"
    }
   ],
   "source": [
    "import scipy.interpolate as sc\n",
    "f = sc.interp1d(x, y, kind='quadratic')\n",
    "f(11)"
   ]
  }
 ],
 "metadata": {
  "kernelspec": {
   "display_name": "Python 3",
   "language": "python",
   "name": "python3"
  },
  "language_info": {
   "codemirror_mode": {
    "name": "ipython",
    "version": 3
   },
   "file_extension": ".py",
   "mimetype": "text/x-python",
   "name": "python",
   "nbconvert_exporter": "python",
   "pygments_lexer": "ipython3",
   "version": "3.6.13"
  }
 },
 "nbformat": 4,
 "nbformat_minor": 5
}
