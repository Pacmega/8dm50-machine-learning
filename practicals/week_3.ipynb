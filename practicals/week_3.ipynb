{
 "cells": [
  {
   "cell_type": "markdown",
   "metadata": {},
   "source": [
    "# Preliminaries\n",
    "\n",
    "The `pandas` library allows the user several data structures for different data manipulation tasks:\n",
    "1. Data storage through its `Series` and `DataFrame` data structures.\n",
    "2. Data filtering using multiple methods from the package.\n",
    "3. Reading data from many different file formats such as `csv`, `txt`, `xlsx`, ...\n",
    "\n",
    "Below we provide a brief overview of the `pandas` functionalities needed for these exercises. The complete documentation can be found on the [`pandas` website](https://pandas.pydata.org/).\n",
    "\n",
    "## Pandas data structures\n",
    "\n",
    "### Series\n",
    "The Pandas Series data structure is similar to a one-dimensional array. It can store any type of data. The values are mutable but the size not.\n",
    "\n",
    "To create `Series`, we call the `pd.Series()` method and pass an array. A `Series` may also be created from a numpy array."
   ]
  },
  {
   "cell_type": "code",
   "execution_count": 1,
   "metadata": {},
   "outputs": [
    {
     "name": "stdout",
     "output_type": "stream",
     "text": [
      "0       1\n",
      "1      10\n",
      "2     100\n",
      "3    1000\n",
      "dtype: int64\n",
      "\n",
      "\n",
      "0          PSV\n",
      "1         Ajax\n",
      "2    Feyenoord\n",
      "3       Twente\n",
      "dtype: object\n"
     ]
    }
   ],
   "source": [
    "import pandas as pd\n",
    "import numpy as np\n",
    "\n",
    "first_series = pd.Series([1,10,100,1000])\n",
    "\n",
    "print(first_series)\n",
    "\n",
    "teams = np.array(['PSV','Ajax','Feyenoord','Twente'])\n",
    "second_series = pd.Series(teams)\n",
    "\n",
    "print('\\n')\n",
    "print(second_series)"
   ]
  },
  {
   "cell_type": "markdown",
   "metadata": {},
   "source": [
    "### DataFrame\n",
    "One can think of a `DataFrame` as a table with rows and columns (2D structure). The columns can be of a different type (as opposed to `numpy` arrays) and the size of the `DataFrame` is mutable.\n",
    "\n",
    "To create `DataFrame`, we call the `pd.DataFrame()` method and we can create it from scratch or we can convert a numpy array or a list into a `DataFrame`."
   ]
  },
  {
   "cell_type": "code",
   "execution_count": 2,
   "metadata": {},
   "outputs": [
    {
     "name": "stdout",
     "output_type": "stream",
     "text": [
      "From scratch: \n",
      "    Position       Team  GF  GA  Points\n",
      "0         1        PSV  80  30      79\n",
      "1         2       Ajax  75  25      78\n",
      "2         3  Feyenoord  75  40      70\n",
      "3         4     Twente  70  60      66 \n",
      "\n",
      "From list: \n",
      "   Position       Team  GF  GA Points\n",
      "0        1        PSV  80  30     79\n",
      "1        2       Ajax  75  25     78\n",
      "2        3  Feyenoord  75  40     70\n",
      "3        4     Twente  70  60     66 \n",
      "\n",
      "From numpy array: \n",
      "   Position       Team  GF  GA Points\n",
      "0        1        PSV  80  30     79\n",
      "1        2       Ajax  75  25     78\n",
      "2        3  Feyenoord  75  40     70\n",
      "3        4     Twente  70  60     66 \n",
      "\n"
     ]
    }
   ],
   "source": [
    "# DataFrame from scratch\n",
    "first_dataframe = pd.DataFrame({\n",
    "    \"Position\": [1, 2, 3, 4],\n",
    "    \"Team\": ['PSV','Ajax','Feyenoord','Twente'],\n",
    "    \"GF\": [80, 75, 75, 70],\n",
    "    \"GA\": [30, 25, 40, 60],\n",
    "    \"Points\": [79, 78, 70, 66]\n",
    "})\n",
    "\n",
    "print(\"From scratch: \\n {} \\n\".format(first_dataframe))\n",
    "\n",
    "# DataFrme from a list\n",
    "data = [[1, 2, 3, 4], ['PSV','Ajax','Feyenoord','Twente'], \n",
    "        [80, 75, 75, 70], [30, 25, 40, 60], [79, 78, 70, 66]]\n",
    "columns = [\"Position\", \"Team\", \"GF\", \"GA\", \"Points\"]\n",
    "\n",
    "second_dataframe = pd.DataFrame(data, index=columns)\n",
    "\n",
    "print(\"From list: \\n {} \\n\".format(second_dataframe.T)) # the '.T' operator is explained later on\n",
    "\n",
    "# DataFrame from numpy array\n",
    "data = np.array([[1, 2, 3, 4], ['PSV','Ajax','Feyenoord','Twente'], \n",
    "                 [80, 75, 75, 70], [30, 25, 40, 60], [79, 78, 70, 66]])\n",
    "columns = [\"Position\", \"Team\", \"GF\", \"GA\", \"Points\"]\n",
    "\n",
    "third_dataframe = pd.DataFrame(data.T, columns=columns)\n",
    "\n",
    "print(\"From numpy array: \\n {} \\n\".format(third_dataframe))"
   ]
  },
  {
   "cell_type": "markdown",
   "metadata": {},
   "source": [
    "### DataFrame attributes\n",
    "This section gives a quick overview of some of the `pandas.DataFrame` attributes such as `T`, `index`, `columns`, `iloc`, `loc`, `shape` and `values`."
   ]
  },
  {
   "cell_type": "code",
   "execution_count": 3,
   "metadata": {},
   "outputs": [
    {
     "name": "stdout",
     "output_type": "stream",
     "text": [
      "            0     1          2       3\n",
      "Position    1     2          3       4\n",
      "Team      PSV  Ajax  Feyenoord  Twente\n",
      "GF         80    75         75      70\n",
      "GA         30    25         40      60\n",
      "Points     79    78         70      66\n"
     ]
    }
   ],
   "source": [
    "# transpose the index and columns\n",
    "print(third_dataframe.T)"
   ]
  },
  {
   "cell_type": "code",
   "execution_count": 4,
   "metadata": {},
   "outputs": [
    {
     "name": "stdout",
     "output_type": "stream",
     "text": [
      "RangeIndex(start=0, stop=4, step=1)\n"
     ]
    }
   ],
   "source": [
    "# index makes reference to the row labels\n",
    "print(third_dataframe.index)"
   ]
  },
  {
   "cell_type": "code",
   "execution_count": 5,
   "metadata": {},
   "outputs": [
    {
     "name": "stdout",
     "output_type": "stream",
     "text": [
      "Index(['Position', 'Team', 'GF', 'GA', 'Points'], dtype='object')\n"
     ]
    }
   ],
   "source": [
    "# columns makes reference to the column labels\n",
    "print(third_dataframe.columns)"
   ]
  },
  {
   "cell_type": "code",
   "execution_count": 6,
   "metadata": {},
   "outputs": [
    {
     "name": "stdout",
     "output_type": "stream",
     "text": [
      "0          PSV\n",
      "1         Ajax\n",
      "2    Feyenoord\n",
      "3       Twente\n",
      "Name: Team, dtype: object\n"
     ]
    }
   ],
   "source": [
    "# iloc allows to access the index by integer-location (e.g. all team names, which are in the second columm)\n",
    "print(third_dataframe.iloc[:,1])"
   ]
  },
  {
   "cell_type": "code",
   "execution_count": 7,
   "metadata": {},
   "outputs": [
    {
     "name": "stdout",
     "output_type": "stream",
     "text": [
      "PSV\n"
     ]
    }
   ],
   "source": [
    "# loc allows to access the index by label(s)-location (e.g. all team names, which are in the \"Team\" columm)\n",
    "print(third_dataframe.loc[0, 'Team'])"
   ]
  },
  {
   "cell_type": "code",
   "execution_count": 8,
   "metadata": {},
   "outputs": [
    {
     "name": "stdout",
     "output_type": "stream",
     "text": [
      "(4, 5)\n"
     ]
    }
   ],
   "source": [
    "# shape returns a tuple with the DataFrame dimension, similar to numpy\n",
    "print(third_dataframe.shape)"
   ]
  },
  {
   "cell_type": "code",
   "execution_count": 9,
   "metadata": {},
   "outputs": [
    {
     "name": "stdout",
     "output_type": "stream",
     "text": [
      "[['1' 'PSV' '80' '30' '79']\n",
      " ['2' 'Ajax' '75' '25' '78']\n",
      " ['3' 'Feyenoord' '75' '40' '70']\n",
      " ['4' 'Twente' '70' '60' '66']]\n"
     ]
    }
   ],
   "source": [
    "# values return a Numpy representation of the DataFrame data\n",
    "print(third_dataframe.values)"
   ]
  },
  {
   "cell_type": "markdown",
   "metadata": {},
   "source": [
    "### DataFrame methods\n",
    "This section gives a quick overview of some of the `pandas.DataFrame` methods such as `head`, `describe`, `concat`, `groupby`,`rename`, `filter`, `drop` and `isna`. To import data from CSV or MS Excel files, we can make use of `read_csv` and `read_excel`, respectively."
   ]
  },
  {
   "cell_type": "code",
   "execution_count": 10,
   "metadata": {},
   "outputs": [
    {
     "name": "stdout",
     "output_type": "stream",
     "text": [
      "  Position       Team  GF  GA Points\n",
      "0        1        PSV  80  30     79\n",
      "1        2       Ajax  75  25     78\n",
      "2        3  Feyenoord  75  40     70\n",
      "3        4     Twente  70  60     66\n"
     ]
    }
   ],
   "source": [
    "# print the first few rows in your dataset with head()\n",
    "print(third_dataframe.head()) # In this case, it is not very useful because we don't have thousands of rows"
   ]
  },
  {
   "cell_type": "code",
   "execution_count": 11,
   "metadata": {},
   "outputs": [
    {
     "name": "stdout",
     "output_type": "stream",
     "text": [
      "       Position    Team  GF  GA Points\n",
      "count         4       4   4   4      4\n",
      "unique        4       4   3   4      4\n",
      "top           4  Twente  75  30     78\n",
      "freq          1       1   2   1      1\n"
     ]
    }
   ],
   "source": [
    "# get the summary statistics of the DataFrame with describe()\n",
    "print(third_dataframe.describe())"
   ]
  },
  {
   "cell_type": "code",
   "execution_count": 12,
   "metadata": {},
   "outputs": [
    {
     "name": "stdout",
     "output_type": "stream",
     "text": [
      "  Position  Team  GF  GA Points\n",
      "0        1   PSV  80  30     79\n",
      "1        2  Ajax  75  25     78\n",
      "\n",
      "\n",
      "  Position       Team  GF  GA Points\n",
      "2        3  Feyenoord  75  40     70\n",
      "3        4     Twente  70  60     66\n",
      "\n",
      "\n",
      "  Position       Team  GF  GA Points\n",
      "0        1        PSV  80  30     79\n",
      "1        2       Ajax  75  25     78\n",
      "2        3  Feyenoord  75  40     70\n",
      "3        4     Twente  70  60     66\n"
     ]
    }
   ],
   "source": [
    "# concatenate (join) DataFrame objects using concat()\n",
    "\n",
    "# first, we will split the above DataFrame in two different ones\n",
    "df_a = third_dataframe.loc[[0,1],:]\n",
    "df_b = third_dataframe.loc[[2,3],:]\n",
    "\n",
    "print(df_a)\n",
    "print('\\n')\n",
    "\n",
    "print(df_b)\n",
    "print('\\n')\n",
    "\n",
    "# now, we concatenate both datasets\n",
    "df = pd.concat([df_a, df_b])\n",
    "\n",
    "print(df)"
   ]
  },
  {
   "cell_type": "code",
   "execution_count": 13,
   "metadata": {},
   "outputs": [
    {
     "name": "stdout",
     "output_type": "stream",
     "text": [
      "  Position       Team  GF  GA Points\n",
      "1        2       Ajax  75  25     78\n",
      "2        3  Feyenoord  75  40     70\n"
     ]
    }
   ],
   "source": [
    "# group the data by certain variable via groupby()\n",
    "# here, we have grouped the data by goals for, which in this case is 75\n",
    "\n",
    "group = df.groupby('GF')\n",
    "\n",
    "print(group.get_group('75'))"
   ]
  },
  {
   "cell_type": "code",
   "execution_count": 14,
   "metadata": {},
   "outputs": [
    {
     "name": "stdout",
     "output_type": "stream",
     "text": [
      "  Pos       Club  GF  GA Points\n",
      "0   1        PSV  80  30     79\n",
      "1   2       Ajax  75  25     78\n",
      "2   3  Feyenoord  75  40     70\n",
      "3   4     Twente  70  60     66\n"
     ]
    }
   ],
   "source": [
    "# rename() helps you change the column or index names\n",
    "print(df.rename(columns={'Position':'Pos','Team':'Club'}))"
   ]
  },
  {
   "cell_type": "code",
   "execution_count": 15,
   "metadata": {},
   "outputs": [
    {
     "name": "stdout",
     "output_type": "stream",
     "text": [
      "        Team Points\n",
      "0        PSV     79\n",
      "1       Ajax     78\n",
      "2  Feyenoord     70\n",
      "3     Twente     66\n"
     ]
    }
   ],
   "source": [
    "# build a subset of rows or columns of your dataset according to labels via filter()\n",
    "# here, items refer to the variable names: 'Team' and 'Points'; to select columns, we specify axis=1\n",
    "print(df.filter(items=['Team', 'Points'], axis=1))"
   ]
  },
  {
   "cell_type": "code",
   "execution_count": 16,
   "metadata": {},
   "outputs": [
    {
     "name": "stdout",
     "output_type": "stream",
     "text": [
      "  Position       Team Points\n",
      "0        1        PSV     79\n",
      "1        2       Ajax     78\n",
      "2        3  Feyenoord     70\n",
      "3        4     Twente     66\n"
     ]
    }
   ],
   "source": [
    "# dropping some labels\n",
    "print(df.drop(columns=['GF', 'GA']))"
   ]
  },
  {
   "cell_type": "code",
   "execution_count": 17,
   "metadata": {},
   "outputs": [
    {
     "name": "stdout",
     "output_type": "stream",
     "text": [
      "   Position   Team     GF     GA  Points\n",
      "0     False  False  False  False   False\n",
      "1     False  False  False  False   False\n",
      "2     False  False  False  False   False\n",
      "3     False  False  False  False   False\n",
      "\n",
      "\n",
      "  Position       Team  GF  GA Points     W\n",
      "0        1        PSV  80  30     79   NaN\n",
      "1        2       Ajax  75  25     78  25.0\n",
      "2        3  Feyenoord  75  40     70  24.0\n",
      "3        4     Twente  70  60     66  19.0\n",
      "\n",
      "\n",
      "   Position   Team     GF     GA  Points      W\n",
      "0     False  False  False  False   False   True\n",
      "1     False  False  False  False   False  False\n",
      "2     False  False  False  False   False  False\n",
      "3     False  False  False  False   False  False\n"
     ]
    }
   ],
   "source": [
    "# search for NA (not available) entries in the DataFrame\n",
    "print(df.isna()) # No NA values\n",
    "print('\\n')\n",
    "\n",
    "# create a pandas Series with a NA value\n",
    "# the Series as W (winnin matches)\n",
    "tmp = pd.Series([np.NaN, 25, 24, 19],  name=\"W\")\n",
    "\n",
    "# concatenate the Series with the DataFrame\n",
    "df = pd.concat([df,tmp], axis = 1)\n",
    "print(df)\n",
    "print('\\n')\n",
    "\n",
    "# again, check for NA entries\n",
    "print(df.isna())"
   ]
  },
  {
   "cell_type": "markdown",
   "metadata": {},
   "source": [
    "## Dataset\n",
    "\n",
    "For this week exercises we will use a dataset from the Genomics of Drug Sensitivity in Cancer (GDSC) project (https://www.cancerrxgene.org/). In this study (['Iorio et al., Cell, 2016']()), 265 compounds were tested on 1001 cancer cell lines for which different types of -omics data (RNA expression, DNA methylation, Copy Number Alteration, DNA sequencing) are available. This is a valuable resource to look for biomarkers of drugs sensitivity in order to try to understand why cancer patients responds very differently to cancer drugs and find ways to assign the optimal treatment to each patient.\n",
    "\n",
    "For this exercise we will use a subset of the data, focusing the response to the drug YM155 (Sepantronium bromide) on four cancer types, for a total of 148 cancer cell lines.\n",
    "\n",
    "| ID          | Cancer type                      |\n",
    "|-------------|----------------------------------|\n",
    "|   COAD/READ | Colorectal adenocarcinoma        |\n",
    "|   NB        | Neuroblastoma                    |\n",
    "|   KIRC      | Kidney renal clear cell carcinoma|\n",
    "|   BRCA      | Breast carcinoma                 |\n",
    "\n",
    "We will use the RNA expression data (RMA normalised). Only genes with high variability across cell lines (variance > 5, resulting in 238 genes) have been kept.\n",
    "\n",
    "Drugs have been tested at different concentration, measuring each time the viability of the cells. Drug sensitivity is measured using the natural log of the fitted IC50 metric, which is defined as the half maximal inhibitory concentration. A lower IC50 corresponds to a more sensitive cell line because a lower amount of drug is sufficient to have a strong response, while a higher IC50 corresponds to a more resistant cell line because more drug is needed for killing the cells.\n",
    "\n",
    "Based on the IC50 metric, cells can be classified as sensitive or resistant. The classification is done by computing the $z$-score across all cell lines in the GDSC for each drug, and considering as sensitive the ones with $z$-score < 0 and resistant the ones with $z$-score > 0.\n",
    "\n",
    "The dataset is originally provided as 3 files ([original source](https://www.sciencedirect.com/science/article/pii/S0092867416307462?via%3Dihub)) :\n",
    "\n",
    "`GDSC_RNA_expression.csv`: gene expression matrix with the cell lines in the rows (148) and the genes in the columns (238).\n",
    "\n",
    "`GDSC_drug_response.csv`: vector with the cell lines response to the drug YM155 in terms of log(IC50) and as classification in sensitive or resistant.\n",
    "\n",
    "`GDSC_metadata.csv`: metadata for the 148 cell lines including name, COSMIC ID and tumor type (using the classification from ['The Cancer Genome Atlas TCGA'](https://www.cancer.gov/about-nci/organization/ccg/research/structural-genomics/tcga))\n",
    "\n",
    "For convenience, we provide the data already curated.\n",
    "\n",
    "`RNA_expression_curated.csv`: [148 cell lines , 238 genes]\n",
    "\n",
    "`drug_response_curated.csv`: [148 cell lines , YM155 drug]\n",
    "\n",
    "The curated data cam be read as `pandas` `DataFrame`s in the following way:"
   ]
  },
  {
   "cell_type": "code",
   "execution_count": 9,
   "metadata": {},
   "outputs": [],
   "source": [
    "import pandas as pd\n",
    "\n",
    "gene_expression = pd.read_csv(\"./data/RNA_expression_curated.csv\", sep=',', header=0, index_col=0)\n",
    "drug_response = pd.read_csv(\"./data/drug_response_curated.csv\", sep=',', header=0, index_col=0)"
   ]
  },
  {
   "cell_type": "markdown",
   "metadata": {},
   "source": [
    "You can use the `DataFrame`s directly as inputs to the the `sklearn` models. The advantage over using `numpy` arrays is that the variable are annotated, i.e. each input and output has a name."
   ]
  },
  {
   "cell_type": "markdown",
   "metadata": {},
   "source": [
    "## Tools\n",
    "The `scikit-learn` library provides the required tools for linear regression/classification and shrinkage, as well as for logistic regression."
   ]
  },
  {
   "cell_type": "code",
   "execution_count": 2,
   "metadata": {},
   "outputs": [],
   "source": [
    "from sklearn.linear_model import LinearRegression\n",
    "from sklearn.linear_model import Ridge\n",
    "from sklearn.linear_model import Lasso\n",
    "from sklearn.linear_model import LogisticRegression"
   ]
  },
  {
   "cell_type": "markdown",
   "metadata": {},
   "source": [
    "Note that the notation used for the hyperparameters in the `scikit-learn` library is different from the one used in the lecture. More specifically, in the lecture $\\alpha$ is the tunable parameter to select the compromise between Ridge and Lasso. Whereas, `scikit-learn` library refers to `alpha` as the tunable parameter $\\lambda$. Please check the documentation for more details."
   ]
  },
  {
   "cell_type": "markdown",
   "metadata": {},
   "source": [
    "# Exercises\n",
    "\n",
    "## Selection of the hyperparameter\n",
    "\n",
    "Implement cross-validation (using `sklearn.grid_search.GridSearchCV`) to select the `alpha` hyperparameter of `sklearn.linear_model.Lasso`. \n",
    "\n",
    "\n",
    "## Feature selection\n",
    "\n",
    "Look at the features selected using the hyperparameter which corresponds to the minimum cross-validation error.\n",
    "\n",
    "<p><font color='#770a0a'>Is the partition in training and validation sets playing a role in the selection of the hyperparameter? How will this affect the selection of the relevant features?</font></p>\n",
    "\n",
    "<p><font color='#770a0a'>Should the value of the intercept also be shrunk to zero with Lasso and Ridge regression? Motivate your answer.</font></p>\n",
    "\n",
    "\n",
    "## Bias-variance \n",
    "\n",
    "Show the effect of the regularization on the parameter estimates in terms of bias and variance. For this you can repeat the optimization 100 times using bootstrap and visualise the profile of the Lasso regression coefficient over a grid of the hyperparameter, optionally including the variability as error bars.\n",
    "\n",
    "<p><font color='#770a0a'>Based on the visual analysis of the plot, what are your observation on bias and variance in relation to model complexity? Motivate your answer.</font></p>\n",
    "\n",
    "\n",
    "## Logistic regression\n",
    "\n",
    "<p><font color='#770a0a'>Write the expression of the objective function for the penalized logistic regression with $L_1$ and $L_2$ regularisation (as in Elastic net).</font></p>"
   ]
  },
  {
   "cell_type": "code",
   "execution_count": 205,
   "metadata": {},
   "outputs": [
    {
     "name": "stdout",
     "output_type": "stream",
     "text": [
      "1e-05\n",
      "0.3571521428571429\n",
      "0.7142942857142858\n",
      "1.0714364285714288\n",
      "1.4285785714285717\n",
      "1.7857207142857145\n",
      "2.1428628571428576\n",
      "2.5000050000000003\n",
      "2.8571471428571433\n",
      "3.2142892857142864\n",
      "3.571431428571429\n",
      "3.928573571428572\n",
      "4.285715714285715\n",
      "4.642857857142857\n",
      "5.0\n"
     ]
    }
   ],
   "source": [
    "from sklearn.model_selection import train_test_split\n",
    "from sklearn.preprocessing import StandardScaler\n",
    "from sklearn.pipeline import Pipeline\n",
    "from sklearn.model_selection import GridSearchCV\n",
    "from sklearn.linear_model import Lasso\n",
    "import plotly.express as px\n",
    "import matplotlib.pyplot as plt\n",
    "import pandas as pd\n",
    "import numpy as np\n",
    "from sklearn.utils import resample\n",
    "\n",
    "\n",
    "gene_expression = pd.read_csv(\"./data/RNA_expression_curated.csv\", sep=',', header=0, index_col=0)\n",
    "drug_response = pd.read_csv(\"./data/drug_response_curated.csv\", sep=',', header=0, index_col=0)\n",
    "\n",
    "\n",
    "\n",
    "\n",
    "alpha_values = np.linspace(1e-5,5, num = 15)\n",
    "n_iterations = 1000\n",
    "bootstrap_size = 0.6\n",
    "\n",
    "\n",
    "pipeline = Pipeline([('scaler', StandardScaler()),\n",
    "                     ('lasso', Lasso())])\n",
    "\n",
    "\n",
    "# Initializing DataFrame, to hold bootstrapped statistics\n",
    "bootstrapped_stats = pd.DataFrame()\n",
    "hyperparam_mean = pd.DataFrame()\n",
    "hyperparam_std = pd.DataFrame()\n",
    "rsq = []\n",
    "\n",
    "\n",
    "for a in alpha_values:\n",
    "    rval = []\n",
    "    for i in range(n_iterations):\n",
    "        X_train, y_train = resample(X, y, replace=True,n_samples=int(len(X)*bootstrap_size))\n",
    "        X_test = X[~X.index.isin(X_train.index)]\n",
    "        y_test = y[~y.index.isin(y_train.index)]\n",
    "\n",
    "        pipeline = Pipeline([('scaler', StandardScaler()),\n",
    "                             ('lasso', Lasso(alpha=a))])\n",
    "\n",
    "        pipeline.fit(X_train,y_train)\n",
    "        \n",
    "        r_squared = pipeline.score(X_test, y_test)\n",
    "        \n",
    "        feature_values = list(pipeline.named_steps['lasso'].intercept_) + list(pipeline.named_steps['lasso'].coef_)\n",
    "        \n",
    "        feature_names = ['intercept'] + list(gene_train.columns)\n",
    "        \n",
    "        d = {k:[v] for k,v in zip(feature_names,feature_values)}\n",
    "        bootstrapped_stats_i = pd.DataFrame.from_dict(d)\n",
    "        bootstrapped_stats = pd.concat(objs=[bootstrapped_stats,\n",
    "                                                 bootstrapped_stats_i])\n",
    "        rval.append(r_squared)\n",
    "    \n",
    "    std = np.std(bootstrapped_stats)\n",
    "    mean = np.mean(bootstrapped_stats,axis=0)\n",
    "    meanpd = pd.DataFrame.from_dict({k:[v] for k,v in zip(feature_names,mean)})\n",
    "    stdpd = pd.DataFrame.from_dict({k:[v] for k,v in zip(feature_names,std)})\n",
    "    hyperparam_mean = pd.concat(objs=[hyperparam_mean,meanpd])\n",
    "    hyperparam_std = pd.concat(objs=[hyperparam_std,stdpd])\n",
    "    \n",
    "    rsq.append(np.mean(rval))\n",
    "    \n",
    "    print(a)\n"
   ]
  },
  {
   "cell_type": "code",
   "execution_count": 206,
   "metadata": {},
   "outputs": [
    {
     "data": {
      "application/vnd.plotly.v1+json": {
       "config": {
        "plotlyServerURL": "https://plot.ly"
       },
       "data": [
        {
         "error_y": {
          "array": [
           0.2821541639238671,
           0.2824790566102921,
           0.2743556966509229,
           0.24783720689441835,
           0.299334182351127,
           0.19601254224030706,
           0.23990830957871395,
           0.23601000643911044,
           0.21243190767778958,
           0.23778529631315434,
           0.2326658915034507,
           0.2273441411060579,
           0.20936698910080187,
           0.22910646806377316,
           0.25017672170518834,
           0.27659114196264667,
           0.2724820796570596,
           0.21350054016853268,
           0.25859540325935293,
           0.2874373830312187,
           0.2808096215138235,
           0.2625956178510409,
           0.23569175226421188,
           0.23196835361190657,
           0.27713201639429863,
           0.27879894812602185,
           0.25436863476229427,
           0.22216899821813269,
           0.2689619404597855,
           0.24401237260220177,
           0.22009944617549085,
           0.25006564869175757,
           0.1972880778058926,
           0.19352405694029087,
           0.2304897694449666,
           0.21617306794133334,
           0.253734752090547,
           0.30077564884290736,
           0.24237194374725093,
           0.18907856148543412,
           0.16561018648885054,
           0.2041070095414625,
           0.20826876516281126,
           0.2327803288671302,
           0.2061314449978065,
           0.2206891917560224,
           0.1638968881154691,
           0.1825816324003005,
           0.1401839002563377,
           0.23168927004000955,
           0.24892255432214525,
           0.19199588640142753,
           0.23643185717904544,
           0.1877711051447895,
           0.19528128654936802,
           0.2194200700465513,
           0.20063047634201334,
           0.22461991460696992,
           0.17339117476228808,
           0.2582440058761802,
           0.22598550915761342,
           0.22606062822221695,
           0.1823943546470511,
           0.19490100759766224,
           0.1756766372546253,
           0.24030715787666262,
           0.26326793855536307,
           0.1793358576058963,
           0.2231485152738695,
           0.23418870957081972,
           0.22115032705946303,
           0.17323751517979524,
           0.1948635361395871,
           0.2186273456854679,
           0.16557602933111826,
           0.1809100987141574,
           0.20373688841249266,
           0.15417969616128185,
           0.15384724897740307,
           0.18746785217627995,
           0.21460488832041766,
           0.21367479353961405,
           0.19226764111769368,
           0.193974833130503,
           0.22393501746140096,
           0.17972839833320575,
           0.1840169744566245,
           0.20465807073889664,
           0.19082358965619084,
           0.2096278429706243,
           0.2149157608438664,
           0.1695186767331213,
           0.17309381464815227,
           0.2668044781161561,
           0.1912814820619544,
           0.2207264874643591,
           0.19387146965063967,
           0.2302711974790345,
           0.18955639898219714,
           0.18702494803349093,
           0.18706448438977455,
           0.20023963853337487,
           0.16600090597208522,
           0.23973395228095565,
           0.18527313116201158,
           0.1955000392037455,
           0.164387260134433,
           0.2320681855559886,
           0.19637176731336387,
           0.16538769839597398,
           0.17600452714485398,
           0.18219813550445055,
           0.1486594246178747,
           0.16148135522821355,
           0.1723916467021138,
           0.19581030209418984,
           0.20924166181284945,
           0.24384567562850246,
           0.18403070324617798,
           0.1430520444545633,
           0.1942629858241936,
           0.19937501177764638,
           0.1877179288786416,
           0.17822319729220537,
           0.21009566988716985,
           0.20538372928481088,
           0.1848379399139659,
           0.15489350168953223,
           0.16640810083585167,
           0.1894642862665473,
           0.17513025416596606,
           0.16548712443026212,
           0.17196304799003567,
           0.19143280010194078,
           0.1726784294745086,
           0.16776767796346526,
           0.21009005174773018,
           0.1736141400629308,
           0.1783549996252315,
           0.2422812908695672,
           0.19512605714432163,
           0.2153772611036172,
           0.1892778515741802,
           0.20150816664933316,
           0.19930076334593824,
           0.18965177439529646,
           0.18294762439158882,
           0.13789299898396448,
           0.1808097002561035,
           0.1861950825947989,
           0.18328834714125017,
           0.1638307765073545,
           0.21148985248868368,
           0.17272282635069908,
           0.17644356128552208,
           0.19224207969612345,
           0.1825550450539599,
           0.1995943292200324,
           0.16159879756590234,
           0.12885069144466363,
           0.20029817195911886,
           0.1805885411562975,
           0.18991427209457962,
           0.14830126570515234,
           0.15451460307874,
           0.19103216383763583,
           0.19505319218727732,
           0.17520168364552854,
           0.21848248592823588,
           0.16628433983748792,
           0.19290098250477228,
           0.18020711093364314,
           0.18243079574839674,
           0.18365916823982373,
           0.15749126242377798,
           0.14556453501674724,
           0.15243492780304627,
           0.15991451632435658,
           0.16625921164316598,
           0.19803902625490638,
           0.21615485648514457,
           0.15102406838166707,
           0.17894090992969608,
           0.18129600182436853,
           0.14447274737560034,
           0.17730896337989985,
           0.15234970478628432,
           0.16328076203512681,
           0.14550065266112705,
           0.15743988010031781,
           0.16025768113191993,
           0.1371891825461995,
           0.16901940457605086,
           0.11759910091009274,
           0.1504394035837535,
           0.16567890570480204,
           0.18496712337777235,
           0.15790736212860168,
           0.19535001976343772,
           0.1524302229649791,
           0.16325166186694753,
           0.16367410043595054,
           0.17838313869493078,
           0.16850007080500787,
           0.18534661934668012,
           0.14972942427797076,
           0.15955700577752294,
           0.15103906227246122,
           0.1691009360646327,
           0.16707956296339854,
           0.16891838746805568,
           0.18550509185710246,
           0.1764670642589099,
           0.1740999898794942,
           0.16551026353165568,
           0.15046411636029083,
           0.14191886750050334,
           0.1312496431251755,
           0.15653648481397409,
           0.16412440716675677,
           0.15138537562189733,
           0.1701887048089227,
           0.1456790415370705,
           0.14231402727926085,
           0.1479055240834666,
           0.12578959788245558,
           0.14237610402686732,
           0.16790255356830372,
           0.13645705392736782,
           0.14782827435243778,
           0.17950454067109,
           0.1304442799067085,
           0.15196545190224386,
           0.09193091061545591,
           0.16753408033451275,
           0.18029822570439938,
           0.12369634567269382,
           0.13752449382341675,
           0.15368877483006457
          ]
         },
         "hovertemplate": "x=%{x}<br>y=%{y}<extra></extra>",
         "legendgroup": "",
         "marker": {
          "color": "#636efa",
          "symbol": "circle"
         },
         "mode": "markers",
         "name": "",
         "orientation": "v",
         "showlegend": false,
         "type": "scatter",
         "x": [
          0,
          1,
          2,
          3,
          4,
          5,
          6,
          7,
          8,
          9,
          10,
          11,
          12,
          13,
          14,
          15,
          16,
          17,
          18,
          19,
          20,
          21,
          22,
          23,
          24,
          25,
          26,
          27,
          28,
          29,
          30,
          31,
          32,
          33,
          34,
          35,
          36,
          37,
          38,
          39,
          40,
          41,
          42,
          43,
          44,
          45,
          46,
          47,
          48,
          49,
          50,
          51,
          52,
          53,
          54,
          55,
          56,
          57,
          58,
          59,
          60,
          61,
          62,
          63,
          64,
          65,
          66,
          67,
          68,
          69,
          70,
          71,
          72,
          73,
          74,
          75,
          76,
          77,
          78,
          79,
          80,
          81,
          82,
          83,
          84,
          85,
          86,
          87,
          88,
          89,
          90,
          91,
          92,
          93,
          94,
          95,
          96,
          97,
          98,
          99,
          100,
          101,
          102,
          103,
          104,
          105,
          106,
          107,
          108,
          109,
          110,
          111,
          112,
          113,
          114,
          115,
          116,
          117,
          118,
          119,
          120,
          121,
          122,
          123,
          124,
          125,
          126,
          127,
          128,
          129,
          130,
          131,
          132,
          133,
          134,
          135,
          136,
          137,
          138,
          139,
          140,
          141,
          142,
          143,
          144,
          145,
          146,
          147,
          148,
          149,
          150,
          151,
          152,
          153,
          154,
          155,
          156,
          157,
          158,
          159,
          160,
          161,
          162,
          163,
          164,
          165,
          166,
          167,
          168,
          169,
          170,
          171,
          172,
          173,
          174,
          175,
          176,
          177,
          178,
          179,
          180,
          181,
          182,
          183,
          184,
          185,
          186,
          187,
          188,
          189,
          190,
          191,
          192,
          193,
          194,
          195,
          196,
          197,
          198,
          199,
          200,
          201,
          202,
          203,
          204,
          205,
          206,
          207,
          208,
          209,
          210,
          211,
          212,
          213,
          214,
          215,
          216,
          217,
          218,
          219,
          220,
          221,
          222,
          223,
          224,
          225,
          226,
          227,
          228,
          229,
          230,
          231,
          232,
          233,
          234,
          235,
          236,
          237,
          238
         ],
         "xaxis": "x",
         "y": [
          -2.605494772727271,
          -0.19614635974739603,
          0.09073042524641345,
          -0.1606691264265439,
          0.7734123042932451,
          -0.13871770292595567,
          0.054224334957989735,
          0.23054995001705209,
          0.2110209640411931,
          0.10438213986210922,
          0.14219077184601278,
          0.04143403907034206,
          0.09836621250384414,
          0.25253912809330276,
          0.07386650794782555,
          0.17501758472907525,
          0.3236675705423191,
          -0.014103757655165918,
          0.36392554784677805,
          0.1674106624925776,
          -0.18709907989683627,
          0.6199794606813265,
          0.1791736689459797,
          -0.1349619431545841,
          0.03485808057509257,
          0.8061774848299974,
          -0.1793037339474386,
          0.07112484149811399,
          0.18963778419057084,
          0.14525432235106694,
          0.024138302212699088,
          -0.10170432021081896,
          -0.16202390715950363,
          -0.14951737537051712,
          0.015959760301461342,
          -0.1438631615813362,
          0.42748873294828105,
          -0.08516937656282428,
          -0.08043727028337237,
          -0.17356579453778231,
          -0.14511071422182326,
          0.13373285380308683,
          0.060953990401313836,
          0.0611285092854349,
          0.054730692787616074,
          0.0825866343648956,
          -0.037618590533147395,
          -0.11444744215653592,
          0.03409670874661805,
          0.010044478351694596,
          -0.0918667211529745,
          -0.008284815194352667,
          0.20354922074796758,
          -0.04923343198228707,
          0.05347873257779403,
          0.04439435171485896,
          0.09389444753393507,
          0.1565720481376475,
          -0.13710941110167732,
          -0.30856658186349095,
          0.038196986937977524,
          -0.1546852901629112,
          0.07619926326792867,
          -0.09393280150026291,
          0.1867911431514137,
          -0.2032438114493083,
          0.12488092916330658,
          -0.060956828307663045,
          0.08559731958804527,
          -0.08210800404229869,
          0.04791549584970849,
          0.14802258532049295,
          0.2591648697740168,
          -0.06179193283594143,
          -0.1819405941660288,
          0.027813309199257834,
          -0.08813395751400778,
          -0.06905170382043542,
          -0.0791900254403254,
          0.2807951778094528,
          -0.032094161144192467,
          -0.13991117936764946,
          -0.09365005189395006,
          0.1297526568375784,
          -0.02961596145826001,
          0.18681166401223573,
          -0.004731464126792718,
          0.1533183520713376,
          0.1379893954475991,
          -0.12591373940565728,
          -0.03280916602746938,
          0.08995304291046255,
          0.08085606096654734,
          -0.04207842919873077,
          -0.09325297469261712,
          0.06651432389584744,
          0.037644402284127694,
          0.011475058294724259,
          0.010170861275621584,
          0.015698166611583745,
          0.0024105920210502597,
          0.07096326942595647,
          -0.05033401541693625,
          -0.24484021691035945,
          -0.21092430844934643,
          -0.0700907028034691,
          -0.0366658262377621,
          0.08509626419579043,
          0.04743259766956298,
          -0.07858006773897146,
          -0.20402980711901486,
          -0.15400361945764876,
          -0.010746942952949892,
          0.03297895445852785,
          0.21914821544013485,
          0.11574194572328922,
          0.10678081470481847,
          -0.02937408841934295,
          -0.23974345166458055,
          -0.03982752908162816,
          -0.02461189863948344,
          0.16079802633446047,
          -0.09802149389050796,
          -0.04827726511554137,
          -0.0458998699147055,
          -0.08365783254866062,
          0.0625562139714026,
          -0.03686165346718742,
          -0.1056932909133749,
          -0.12632887518039929,
          0.01843633822892724,
          -0.021603902815788816,
          0.15245160597449703,
          -0.08572962985304655,
          -0.03459842770367893,
          -0.01383196363547843,
          0.07921006622564628,
          -0.10283714372791725,
          0.008138105506590759,
          0.13725336834341534,
          -0.04839635853107312,
          0.05249858391127788,
          0.24185547902794052,
          0.0024325859359239322,
          0.1318002169849724,
          -0.06840359795273775,
          0.11237394119993853,
          -0.14914803254094938,
          -0.08062466559340391,
          -0.15262348394077888,
          0.12961809220992068,
          0.024264647066423162,
          -0.09058670781318055,
          -0.05293838530878348,
          -0.04384782175185852,
          -0.2883756376647056,
          0.05448928589341666,
          -0.07216825726032555,
          -0.014763059562009394,
          -0.04349320874620771,
          -0.13122422988015503,
          0.1568251480992747,
          0.231382384726313,
          0.013049700649748495,
          0.04208543610821422,
          0.05673394188577053,
          0.05976426460890743,
          -0.05977380395074665,
          -0.1928873915743841,
          0.1835977324624468,
          -0.184250378936093,
          0.1439713918104124,
          0.02996107662863717,
          -0.005321012629945764,
          0.09007454492418702,
          0.061272327316358795,
          -0.07109420058888564,
          -0.002389087921409631,
          0.06854775348633674,
          0.024793230382313073,
          -0.004048741170681084,
          -0.13443263605239142,
          0.16512515191020255,
          -0.017796443627209318,
          0.03758421776916899,
          -0.07358103004355136,
          0.023600845577956376,
          0.02903448824795987,
          -0.13591779672380477,
          -0.14708410062630198,
          0.05257295945402034,
          0.11356767974786584,
          0.03554163140712159,
          0.043157870249458344,
          -0.08061584691644576,
          0.1551867600411324,
          0.20676719968040533,
          -0.02119319193896825,
          -0.19083956873412847,
          -0.0628348872847265,
          0.012414298789616819,
          0.08649987076504818,
          -0.018631582377688104,
          0.10523810993556063,
          -0.0674414258358778,
          0.012975752747548796,
          -0.14033426912318137,
          0.08636398669265269,
          0.07351017596253695,
          0.08906596059872002,
          -0.06928163292467586,
          -0.20236328062329623,
          0.014260530953409921,
          0.013205371461332159,
          0.09170196237949728,
          -0.006682780196232174,
          0.2090933633344369,
          -0.044330004918903,
          -0.00040722076256389204,
          -0.012081733090787847,
          -0.009315946568895832,
          0.04386484576146658,
          -0.0042537360139578255,
          0.0035156703064837752,
          0.03597590279049623,
          -0.05415885975129727,
          0.034011035651347124,
          0.10430230145401805,
          0.015871067620581644,
          -0.06475708346450917,
          0.025247949691036022,
          0.057805644459489415,
          -0.03335849408721458,
          -0.012439562751825731,
          -0.1596301949612506,
          0.0822535476232714,
          0.1019783821572678,
          0.10226376324526014,
          0.0915448693328865
         ],
         "yaxis": "y"
        }
       ],
       "layout": {
        "legend": {
         "tracegroupgap": 0
        },
        "margin": {
         "t": 60
        },
        "template": {
         "data": {
          "bar": [
           {
            "error_x": {
             "color": "#2a3f5f"
            },
            "error_y": {
             "color": "#2a3f5f"
            },
            "marker": {
             "line": {
              "color": "#E5ECF6",
              "width": 0.5
             },
             "pattern": {
              "fillmode": "overlay",
              "size": 10,
              "solidity": 0.2
             }
            },
            "type": "bar"
           }
          ],
          "barpolar": [
           {
            "marker": {
             "line": {
              "color": "#E5ECF6",
              "width": 0.5
             },
             "pattern": {
              "fillmode": "overlay",
              "size": 10,
              "solidity": 0.2
             }
            },
            "type": "barpolar"
           }
          ],
          "carpet": [
           {
            "aaxis": {
             "endlinecolor": "#2a3f5f",
             "gridcolor": "white",
             "linecolor": "white",
             "minorgridcolor": "white",
             "startlinecolor": "#2a3f5f"
            },
            "baxis": {
             "endlinecolor": "#2a3f5f",
             "gridcolor": "white",
             "linecolor": "white",
             "minorgridcolor": "white",
             "startlinecolor": "#2a3f5f"
            },
            "type": "carpet"
           }
          ],
          "choropleth": [
           {
            "colorbar": {
             "outlinewidth": 0,
             "ticks": ""
            },
            "type": "choropleth"
           }
          ],
          "contour": [
           {
            "colorbar": {
             "outlinewidth": 0,
             "ticks": ""
            },
            "colorscale": [
             [
              0,
              "#0d0887"
             ],
             [
              0.1111111111111111,
              "#46039f"
             ],
             [
              0.2222222222222222,
              "#7201a8"
             ],
             [
              0.3333333333333333,
              "#9c179e"
             ],
             [
              0.4444444444444444,
              "#bd3786"
             ],
             [
              0.5555555555555556,
              "#d8576b"
             ],
             [
              0.6666666666666666,
              "#ed7953"
             ],
             [
              0.7777777777777778,
              "#fb9f3a"
             ],
             [
              0.8888888888888888,
              "#fdca26"
             ],
             [
              1,
              "#f0f921"
             ]
            ],
            "type": "contour"
           }
          ],
          "contourcarpet": [
           {
            "colorbar": {
             "outlinewidth": 0,
             "ticks": ""
            },
            "type": "contourcarpet"
           }
          ],
          "heatmap": [
           {
            "colorbar": {
             "outlinewidth": 0,
             "ticks": ""
            },
            "colorscale": [
             [
              0,
              "#0d0887"
             ],
             [
              0.1111111111111111,
              "#46039f"
             ],
             [
              0.2222222222222222,
              "#7201a8"
             ],
             [
              0.3333333333333333,
              "#9c179e"
             ],
             [
              0.4444444444444444,
              "#bd3786"
             ],
             [
              0.5555555555555556,
              "#d8576b"
             ],
             [
              0.6666666666666666,
              "#ed7953"
             ],
             [
              0.7777777777777778,
              "#fb9f3a"
             ],
             [
              0.8888888888888888,
              "#fdca26"
             ],
             [
              1,
              "#f0f921"
             ]
            ],
            "type": "heatmap"
           }
          ],
          "heatmapgl": [
           {
            "colorbar": {
             "outlinewidth": 0,
             "ticks": ""
            },
            "colorscale": [
             [
              0,
              "#0d0887"
             ],
             [
              0.1111111111111111,
              "#46039f"
             ],
             [
              0.2222222222222222,
              "#7201a8"
             ],
             [
              0.3333333333333333,
              "#9c179e"
             ],
             [
              0.4444444444444444,
              "#bd3786"
             ],
             [
              0.5555555555555556,
              "#d8576b"
             ],
             [
              0.6666666666666666,
              "#ed7953"
             ],
             [
              0.7777777777777778,
              "#fb9f3a"
             ],
             [
              0.8888888888888888,
              "#fdca26"
             ],
             [
              1,
              "#f0f921"
             ]
            ],
            "type": "heatmapgl"
           }
          ],
          "histogram": [
           {
            "marker": {
             "pattern": {
              "fillmode": "overlay",
              "size": 10,
              "solidity": 0.2
             }
            },
            "type": "histogram"
           }
          ],
          "histogram2d": [
           {
            "colorbar": {
             "outlinewidth": 0,
             "ticks": ""
            },
            "colorscale": [
             [
              0,
              "#0d0887"
             ],
             [
              0.1111111111111111,
              "#46039f"
             ],
             [
              0.2222222222222222,
              "#7201a8"
             ],
             [
              0.3333333333333333,
              "#9c179e"
             ],
             [
              0.4444444444444444,
              "#bd3786"
             ],
             [
              0.5555555555555556,
              "#d8576b"
             ],
             [
              0.6666666666666666,
              "#ed7953"
             ],
             [
              0.7777777777777778,
              "#fb9f3a"
             ],
             [
              0.8888888888888888,
              "#fdca26"
             ],
             [
              1,
              "#f0f921"
             ]
            ],
            "type": "histogram2d"
           }
          ],
          "histogram2dcontour": [
           {
            "colorbar": {
             "outlinewidth": 0,
             "ticks": ""
            },
            "colorscale": [
             [
              0,
              "#0d0887"
             ],
             [
              0.1111111111111111,
              "#46039f"
             ],
             [
              0.2222222222222222,
              "#7201a8"
             ],
             [
              0.3333333333333333,
              "#9c179e"
             ],
             [
              0.4444444444444444,
              "#bd3786"
             ],
             [
              0.5555555555555556,
              "#d8576b"
             ],
             [
              0.6666666666666666,
              "#ed7953"
             ],
             [
              0.7777777777777778,
              "#fb9f3a"
             ],
             [
              0.8888888888888888,
              "#fdca26"
             ],
             [
              1,
              "#f0f921"
             ]
            ],
            "type": "histogram2dcontour"
           }
          ],
          "mesh3d": [
           {
            "colorbar": {
             "outlinewidth": 0,
             "ticks": ""
            },
            "type": "mesh3d"
           }
          ],
          "parcoords": [
           {
            "line": {
             "colorbar": {
              "outlinewidth": 0,
              "ticks": ""
             }
            },
            "type": "parcoords"
           }
          ],
          "pie": [
           {
            "automargin": true,
            "type": "pie"
           }
          ],
          "scatter": [
           {
            "fillpattern": {
             "fillmode": "overlay",
             "size": 10,
             "solidity": 0.2
            },
            "type": "scatter"
           }
          ],
          "scatter3d": [
           {
            "line": {
             "colorbar": {
              "outlinewidth": 0,
              "ticks": ""
             }
            },
            "marker": {
             "colorbar": {
              "outlinewidth": 0,
              "ticks": ""
             }
            },
            "type": "scatter3d"
           }
          ],
          "scattercarpet": [
           {
            "marker": {
             "colorbar": {
              "outlinewidth": 0,
              "ticks": ""
             }
            },
            "type": "scattercarpet"
           }
          ],
          "scattergeo": [
           {
            "marker": {
             "colorbar": {
              "outlinewidth": 0,
              "ticks": ""
             }
            },
            "type": "scattergeo"
           }
          ],
          "scattergl": [
           {
            "marker": {
             "colorbar": {
              "outlinewidth": 0,
              "ticks": ""
             }
            },
            "type": "scattergl"
           }
          ],
          "scattermapbox": [
           {
            "marker": {
             "colorbar": {
              "outlinewidth": 0,
              "ticks": ""
             }
            },
            "type": "scattermapbox"
           }
          ],
          "scatterpolar": [
           {
            "marker": {
             "colorbar": {
              "outlinewidth": 0,
              "ticks": ""
             }
            },
            "type": "scatterpolar"
           }
          ],
          "scatterpolargl": [
           {
            "marker": {
             "colorbar": {
              "outlinewidth": 0,
              "ticks": ""
             }
            },
            "type": "scatterpolargl"
           }
          ],
          "scatterternary": [
           {
            "marker": {
             "colorbar": {
              "outlinewidth": 0,
              "ticks": ""
             }
            },
            "type": "scatterternary"
           }
          ],
          "surface": [
           {
            "colorbar": {
             "outlinewidth": 0,
             "ticks": ""
            },
            "colorscale": [
             [
              0,
              "#0d0887"
             ],
             [
              0.1111111111111111,
              "#46039f"
             ],
             [
              0.2222222222222222,
              "#7201a8"
             ],
             [
              0.3333333333333333,
              "#9c179e"
             ],
             [
              0.4444444444444444,
              "#bd3786"
             ],
             [
              0.5555555555555556,
              "#d8576b"
             ],
             [
              0.6666666666666666,
              "#ed7953"
             ],
             [
              0.7777777777777778,
              "#fb9f3a"
             ],
             [
              0.8888888888888888,
              "#fdca26"
             ],
             [
              1,
              "#f0f921"
             ]
            ],
            "type": "surface"
           }
          ],
          "table": [
           {
            "cells": {
             "fill": {
              "color": "#EBF0F8"
             },
             "line": {
              "color": "white"
             }
            },
            "header": {
             "fill": {
              "color": "#C8D4E3"
             },
             "line": {
              "color": "white"
             }
            },
            "type": "table"
           }
          ]
         },
         "layout": {
          "annotationdefaults": {
           "arrowcolor": "#2a3f5f",
           "arrowhead": 0,
           "arrowwidth": 1
          },
          "autotypenumbers": "strict",
          "coloraxis": {
           "colorbar": {
            "outlinewidth": 0,
            "ticks": ""
           }
          },
          "colorscale": {
           "diverging": [
            [
             0,
             "#8e0152"
            ],
            [
             0.1,
             "#c51b7d"
            ],
            [
             0.2,
             "#de77ae"
            ],
            [
             0.3,
             "#f1b6da"
            ],
            [
             0.4,
             "#fde0ef"
            ],
            [
             0.5,
             "#f7f7f7"
            ],
            [
             0.6,
             "#e6f5d0"
            ],
            [
             0.7,
             "#b8e186"
            ],
            [
             0.8,
             "#7fbc41"
            ],
            [
             0.9,
             "#4d9221"
            ],
            [
             1,
             "#276419"
            ]
           ],
           "sequential": [
            [
             0,
             "#0d0887"
            ],
            [
             0.1111111111111111,
             "#46039f"
            ],
            [
             0.2222222222222222,
             "#7201a8"
            ],
            [
             0.3333333333333333,
             "#9c179e"
            ],
            [
             0.4444444444444444,
             "#bd3786"
            ],
            [
             0.5555555555555556,
             "#d8576b"
            ],
            [
             0.6666666666666666,
             "#ed7953"
            ],
            [
             0.7777777777777778,
             "#fb9f3a"
            ],
            [
             0.8888888888888888,
             "#fdca26"
            ],
            [
             1,
             "#f0f921"
            ]
           ],
           "sequentialminus": [
            [
             0,
             "#0d0887"
            ],
            [
             0.1111111111111111,
             "#46039f"
            ],
            [
             0.2222222222222222,
             "#7201a8"
            ],
            [
             0.3333333333333333,
             "#9c179e"
            ],
            [
             0.4444444444444444,
             "#bd3786"
            ],
            [
             0.5555555555555556,
             "#d8576b"
            ],
            [
             0.6666666666666666,
             "#ed7953"
            ],
            [
             0.7777777777777778,
             "#fb9f3a"
            ],
            [
             0.8888888888888888,
             "#fdca26"
            ],
            [
             1,
             "#f0f921"
            ]
           ]
          },
          "colorway": [
           "#636efa",
           "#EF553B",
           "#00cc96",
           "#ab63fa",
           "#FFA15A",
           "#19d3f3",
           "#FF6692",
           "#B6E880",
           "#FF97FF",
           "#FECB52"
          ],
          "font": {
           "color": "#2a3f5f"
          },
          "geo": {
           "bgcolor": "white",
           "lakecolor": "white",
           "landcolor": "#E5ECF6",
           "showlakes": true,
           "showland": true,
           "subunitcolor": "white"
          },
          "hoverlabel": {
           "align": "left"
          },
          "hovermode": "closest",
          "mapbox": {
           "style": "light"
          },
          "paper_bgcolor": "white",
          "plot_bgcolor": "#E5ECF6",
          "polar": {
           "angularaxis": {
            "gridcolor": "white",
            "linecolor": "white",
            "ticks": ""
           },
           "bgcolor": "#E5ECF6",
           "radialaxis": {
            "gridcolor": "white",
            "linecolor": "white",
            "ticks": ""
           }
          },
          "scene": {
           "xaxis": {
            "backgroundcolor": "#E5ECF6",
            "gridcolor": "white",
            "gridwidth": 2,
            "linecolor": "white",
            "showbackground": true,
            "ticks": "",
            "zerolinecolor": "white"
           },
           "yaxis": {
            "backgroundcolor": "#E5ECF6",
            "gridcolor": "white",
            "gridwidth": 2,
            "linecolor": "white",
            "showbackground": true,
            "ticks": "",
            "zerolinecolor": "white"
           },
           "zaxis": {
            "backgroundcolor": "#E5ECF6",
            "gridcolor": "white",
            "gridwidth": 2,
            "linecolor": "white",
            "showbackground": true,
            "ticks": "",
            "zerolinecolor": "white"
           }
          },
          "shapedefaults": {
           "line": {
            "color": "#2a3f5f"
           }
          },
          "ternary": {
           "aaxis": {
            "gridcolor": "white",
            "linecolor": "white",
            "ticks": ""
           },
           "baxis": {
            "gridcolor": "white",
            "linecolor": "white",
            "ticks": ""
           },
           "bgcolor": "#E5ECF6",
           "caxis": {
            "gridcolor": "white",
            "linecolor": "white",
            "ticks": ""
           }
          },
          "title": {
           "x": 0.05
          },
          "xaxis": {
           "automargin": true,
           "gridcolor": "white",
           "linecolor": "white",
           "ticks": "",
           "title": {
            "standoff": 15
           },
           "zerolinecolor": "white",
           "zerolinewidth": 2
          },
          "yaxis": {
           "automargin": true,
           "gridcolor": "white",
           "linecolor": "white",
           "ticks": "",
           "title": {
            "standoff": 15
           },
           "zerolinecolor": "white",
           "zerolinewidth": 2
          }
         }
        },
        "title": {
         "text": "alpha = 1e-05, Rsquared = -0.5586782193351426"
        },
        "xaxis": {
         "anchor": "y",
         "domain": [
          0,
          1
         ],
         "title": {
          "text": "Feature number"
         }
        },
        "yaxis": {
         "anchor": "x",
         "domain": [
          0,
          1
         ],
         "title": {
          "text": "Coefficient value"
         }
        }
       }
      },
      "text/html": [
       "<div>                            <div id=\"4c1aa0a9-1cd6-4064-95e6-a363e01a01fa\" class=\"plotly-graph-div\" style=\"height:525px; width:100%;\"></div>            <script type=\"text/javascript\">                require([\"plotly\"], function(Plotly) {                    window.PLOTLYENV=window.PLOTLYENV || {};                                    if (document.getElementById(\"4c1aa0a9-1cd6-4064-95e6-a363e01a01fa\")) {                    Plotly.newPlot(                        \"4c1aa0a9-1cd6-4064-95e6-a363e01a01fa\",                        [{\"error_y\":{\"array\":[0.2821541639238671,0.2824790566102921,0.2743556966509229,0.24783720689441835,0.299334182351127,0.19601254224030706,0.23990830957871395,0.23601000643911044,0.21243190767778958,0.23778529631315434,0.2326658915034507,0.2273441411060579,0.20936698910080187,0.22910646806377316,0.25017672170518834,0.27659114196264667,0.2724820796570596,0.21350054016853268,0.25859540325935293,0.2874373830312187,0.2808096215138235,0.2625956178510409,0.23569175226421188,0.23196835361190657,0.27713201639429863,0.27879894812602185,0.25436863476229427,0.22216899821813269,0.2689619404597855,0.24401237260220177,0.22009944617549085,0.25006564869175757,0.1972880778058926,0.19352405694029087,0.2304897694449666,0.21617306794133334,0.253734752090547,0.30077564884290736,0.24237194374725093,0.18907856148543412,0.16561018648885054,0.2041070095414625,0.20826876516281126,0.2327803288671302,0.2061314449978065,0.2206891917560224,0.1638968881154691,0.1825816324003005,0.1401839002563377,0.23168927004000955,0.24892255432214525,0.19199588640142753,0.23643185717904544,0.1877711051447895,0.19528128654936802,0.2194200700465513,0.20063047634201334,0.22461991460696992,0.17339117476228808,0.2582440058761802,0.22598550915761342,0.22606062822221695,0.1823943546470511,0.19490100759766224,0.1756766372546253,0.24030715787666262,0.26326793855536307,0.1793358576058963,0.2231485152738695,0.23418870957081972,0.22115032705946303,0.17323751517979524,0.1948635361395871,0.2186273456854679,0.16557602933111826,0.1809100987141574,0.20373688841249266,0.15417969616128185,0.15384724897740307,0.18746785217627995,0.21460488832041766,0.21367479353961405,0.19226764111769368,0.193974833130503,0.22393501746140096,0.17972839833320575,0.1840169744566245,0.20465807073889664,0.19082358965619084,0.2096278429706243,0.2149157608438664,0.1695186767331213,0.17309381464815227,0.2668044781161561,0.1912814820619544,0.2207264874643591,0.19387146965063967,0.2302711974790345,0.18955639898219714,0.18702494803349093,0.18706448438977455,0.20023963853337487,0.16600090597208522,0.23973395228095565,0.18527313116201158,0.1955000392037455,0.164387260134433,0.2320681855559886,0.19637176731336387,0.16538769839597398,0.17600452714485398,0.18219813550445055,0.1486594246178747,0.16148135522821355,0.1723916467021138,0.19581030209418984,0.20924166181284945,0.24384567562850246,0.18403070324617798,0.1430520444545633,0.1942629858241936,0.19937501177764638,0.1877179288786416,0.17822319729220537,0.21009566988716985,0.20538372928481088,0.1848379399139659,0.15489350168953223,0.16640810083585167,0.1894642862665473,0.17513025416596606,0.16548712443026212,0.17196304799003567,0.19143280010194078,0.1726784294745086,0.16776767796346526,0.21009005174773018,0.1736141400629308,0.1783549996252315,0.2422812908695672,0.19512605714432163,0.2153772611036172,0.1892778515741802,0.20150816664933316,0.19930076334593824,0.18965177439529646,0.18294762439158882,0.13789299898396448,0.1808097002561035,0.1861950825947989,0.18328834714125017,0.1638307765073545,0.21148985248868368,0.17272282635069908,0.17644356128552208,0.19224207969612345,0.1825550450539599,0.1995943292200324,0.16159879756590234,0.12885069144466363,0.20029817195911886,0.1805885411562975,0.18991427209457962,0.14830126570515234,0.15451460307874,0.19103216383763583,0.19505319218727732,0.17520168364552854,0.21848248592823588,0.16628433983748792,0.19290098250477228,0.18020711093364314,0.18243079574839674,0.18365916823982373,0.15749126242377798,0.14556453501674724,0.15243492780304627,0.15991451632435658,0.16625921164316598,0.19803902625490638,0.21615485648514457,0.15102406838166707,0.17894090992969608,0.18129600182436853,0.14447274737560034,0.17730896337989985,0.15234970478628432,0.16328076203512681,0.14550065266112705,0.15743988010031781,0.16025768113191993,0.1371891825461995,0.16901940457605086,0.11759910091009274,0.1504394035837535,0.16567890570480204,0.18496712337777235,0.15790736212860168,0.19535001976343772,0.1524302229649791,0.16325166186694753,0.16367410043595054,0.17838313869493078,0.16850007080500787,0.18534661934668012,0.14972942427797076,0.15955700577752294,0.15103906227246122,0.1691009360646327,0.16707956296339854,0.16891838746805568,0.18550509185710246,0.1764670642589099,0.1740999898794942,0.16551026353165568,0.15046411636029083,0.14191886750050334,0.1312496431251755,0.15653648481397409,0.16412440716675677,0.15138537562189733,0.1701887048089227,0.1456790415370705,0.14231402727926085,0.1479055240834666,0.12578959788245558,0.14237610402686732,0.16790255356830372,0.13645705392736782,0.14782827435243778,0.17950454067109,0.1304442799067085,0.15196545190224386,0.09193091061545591,0.16753408033451275,0.18029822570439938,0.12369634567269382,0.13752449382341675,0.15368877483006457]},\"hovertemplate\":\"x=%{x}<br>y=%{y}<extra></extra>\",\"legendgroup\":\"\",\"marker\":{\"color\":\"#636efa\",\"symbol\":\"circle\"},\"mode\":\"markers\",\"name\":\"\",\"orientation\":\"v\",\"showlegend\":false,\"x\":[0,1,2,3,4,5,6,7,8,9,10,11,12,13,14,15,16,17,18,19,20,21,22,23,24,25,26,27,28,29,30,31,32,33,34,35,36,37,38,39,40,41,42,43,44,45,46,47,48,49,50,51,52,53,54,55,56,57,58,59,60,61,62,63,64,65,66,67,68,69,70,71,72,73,74,75,76,77,78,79,80,81,82,83,84,85,86,87,88,89,90,91,92,93,94,95,96,97,98,99,100,101,102,103,104,105,106,107,108,109,110,111,112,113,114,115,116,117,118,119,120,121,122,123,124,125,126,127,128,129,130,131,132,133,134,135,136,137,138,139,140,141,142,143,144,145,146,147,148,149,150,151,152,153,154,155,156,157,158,159,160,161,162,163,164,165,166,167,168,169,170,171,172,173,174,175,176,177,178,179,180,181,182,183,184,185,186,187,188,189,190,191,192,193,194,195,196,197,198,199,200,201,202,203,204,205,206,207,208,209,210,211,212,213,214,215,216,217,218,219,220,221,222,223,224,225,226,227,228,229,230,231,232,233,234,235,236,237,238],\"xaxis\":\"x\",\"y\":[-2.605494772727271,-0.19614635974739603,0.09073042524641345,-0.1606691264265439,0.7734123042932451,-0.13871770292595567,0.054224334957989735,0.23054995001705209,0.2110209640411931,0.10438213986210922,0.14219077184601278,0.04143403907034206,0.09836621250384414,0.25253912809330276,0.07386650794782555,0.17501758472907525,0.3236675705423191,-0.014103757655165918,0.36392554784677805,0.1674106624925776,-0.18709907989683627,0.6199794606813265,0.1791736689459797,-0.1349619431545841,0.03485808057509257,0.8061774848299974,-0.1793037339474386,0.07112484149811399,0.18963778419057084,0.14525432235106694,0.024138302212699088,-0.10170432021081896,-0.16202390715950363,-0.14951737537051712,0.015959760301461342,-0.1438631615813362,0.42748873294828105,-0.08516937656282428,-0.08043727028337237,-0.17356579453778231,-0.14511071422182326,0.13373285380308683,0.060953990401313836,0.0611285092854349,0.054730692787616074,0.0825866343648956,-0.037618590533147395,-0.11444744215653592,0.03409670874661805,0.010044478351694596,-0.0918667211529745,-0.008284815194352667,0.20354922074796758,-0.04923343198228707,0.05347873257779403,0.04439435171485896,0.09389444753393507,0.1565720481376475,-0.13710941110167732,-0.30856658186349095,0.038196986937977524,-0.1546852901629112,0.07619926326792867,-0.09393280150026291,0.1867911431514137,-0.2032438114493083,0.12488092916330658,-0.060956828307663045,0.08559731958804527,-0.08210800404229869,0.04791549584970849,0.14802258532049295,0.2591648697740168,-0.06179193283594143,-0.1819405941660288,0.027813309199257834,-0.08813395751400778,-0.06905170382043542,-0.0791900254403254,0.2807951778094528,-0.032094161144192467,-0.13991117936764946,-0.09365005189395006,0.1297526568375784,-0.02961596145826001,0.18681166401223573,-0.004731464126792718,0.1533183520713376,0.1379893954475991,-0.12591373940565728,-0.03280916602746938,0.08995304291046255,0.08085606096654734,-0.04207842919873077,-0.09325297469261712,0.06651432389584744,0.037644402284127694,0.011475058294724259,0.010170861275621584,0.015698166611583745,0.0024105920210502597,0.07096326942595647,-0.05033401541693625,-0.24484021691035945,-0.21092430844934643,-0.0700907028034691,-0.0366658262377621,0.08509626419579043,0.04743259766956298,-0.07858006773897146,-0.20402980711901486,-0.15400361945764876,-0.010746942952949892,0.03297895445852785,0.21914821544013485,0.11574194572328922,0.10678081470481847,-0.02937408841934295,-0.23974345166458055,-0.03982752908162816,-0.02461189863948344,0.16079802633446047,-0.09802149389050796,-0.04827726511554137,-0.0458998699147055,-0.08365783254866062,0.0625562139714026,-0.03686165346718742,-0.1056932909133749,-0.12632887518039929,0.01843633822892724,-0.021603902815788816,0.15245160597449703,-0.08572962985304655,-0.03459842770367893,-0.01383196363547843,0.07921006622564628,-0.10283714372791725,0.008138105506590759,0.13725336834341534,-0.04839635853107312,0.05249858391127788,0.24185547902794052,0.0024325859359239322,0.1318002169849724,-0.06840359795273775,0.11237394119993853,-0.14914803254094938,-0.08062466559340391,-0.15262348394077888,0.12961809220992068,0.024264647066423162,-0.09058670781318055,-0.05293838530878348,-0.04384782175185852,-0.2883756376647056,0.05448928589341666,-0.07216825726032555,-0.014763059562009394,-0.04349320874620771,-0.13122422988015503,0.1568251480992747,0.231382384726313,0.013049700649748495,0.04208543610821422,0.05673394188577053,0.05976426460890743,-0.05977380395074665,-0.1928873915743841,0.1835977324624468,-0.184250378936093,0.1439713918104124,0.02996107662863717,-0.005321012629945764,0.09007454492418702,0.061272327316358795,-0.07109420058888564,-0.002389087921409631,0.06854775348633674,0.024793230382313073,-0.004048741170681084,-0.13443263605239142,0.16512515191020255,-0.017796443627209318,0.03758421776916899,-0.07358103004355136,0.023600845577956376,0.02903448824795987,-0.13591779672380477,-0.14708410062630198,0.05257295945402034,0.11356767974786584,0.03554163140712159,0.043157870249458344,-0.08061584691644576,0.1551867600411324,0.20676719968040533,-0.02119319193896825,-0.19083956873412847,-0.0628348872847265,0.012414298789616819,0.08649987076504818,-0.018631582377688104,0.10523810993556063,-0.0674414258358778,0.012975752747548796,-0.14033426912318137,0.08636398669265269,0.07351017596253695,0.08906596059872002,-0.06928163292467586,-0.20236328062329623,0.014260530953409921,0.013205371461332159,0.09170196237949728,-0.006682780196232174,0.2090933633344369,-0.044330004918903,-0.00040722076256389204,-0.012081733090787847,-0.009315946568895832,0.04386484576146658,-0.0042537360139578255,0.0035156703064837752,0.03597590279049623,-0.05415885975129727,0.034011035651347124,0.10430230145401805,0.015871067620581644,-0.06475708346450917,0.025247949691036022,0.057805644459489415,-0.03335849408721458,-0.012439562751825731,-0.1596301949612506,0.0822535476232714,0.1019783821572678,0.10226376324526014,0.0915448693328865],\"yaxis\":\"y\",\"type\":\"scatter\"}],                        {\"template\":{\"data\":{\"histogram2dcontour\":[{\"type\":\"histogram2dcontour\",\"colorbar\":{\"outlinewidth\":0,\"ticks\":\"\"},\"colorscale\":[[0.0,\"#0d0887\"],[0.1111111111111111,\"#46039f\"],[0.2222222222222222,\"#7201a8\"],[0.3333333333333333,\"#9c179e\"],[0.4444444444444444,\"#bd3786\"],[0.5555555555555556,\"#d8576b\"],[0.6666666666666666,\"#ed7953\"],[0.7777777777777778,\"#fb9f3a\"],[0.8888888888888888,\"#fdca26\"],[1.0,\"#f0f921\"]]}],\"choropleth\":[{\"type\":\"choropleth\",\"colorbar\":{\"outlinewidth\":0,\"ticks\":\"\"}}],\"histogram2d\":[{\"type\":\"histogram2d\",\"colorbar\":{\"outlinewidth\":0,\"ticks\":\"\"},\"colorscale\":[[0.0,\"#0d0887\"],[0.1111111111111111,\"#46039f\"],[0.2222222222222222,\"#7201a8\"],[0.3333333333333333,\"#9c179e\"],[0.4444444444444444,\"#bd3786\"],[0.5555555555555556,\"#d8576b\"],[0.6666666666666666,\"#ed7953\"],[0.7777777777777778,\"#fb9f3a\"],[0.8888888888888888,\"#fdca26\"],[1.0,\"#f0f921\"]]}],\"heatmap\":[{\"type\":\"heatmap\",\"colorbar\":{\"outlinewidth\":0,\"ticks\":\"\"},\"colorscale\":[[0.0,\"#0d0887\"],[0.1111111111111111,\"#46039f\"],[0.2222222222222222,\"#7201a8\"],[0.3333333333333333,\"#9c179e\"],[0.4444444444444444,\"#bd3786\"],[0.5555555555555556,\"#d8576b\"],[0.6666666666666666,\"#ed7953\"],[0.7777777777777778,\"#fb9f3a\"],[0.8888888888888888,\"#fdca26\"],[1.0,\"#f0f921\"]]}],\"heatmapgl\":[{\"type\":\"heatmapgl\",\"colorbar\":{\"outlinewidth\":0,\"ticks\":\"\"},\"colorscale\":[[0.0,\"#0d0887\"],[0.1111111111111111,\"#46039f\"],[0.2222222222222222,\"#7201a8\"],[0.3333333333333333,\"#9c179e\"],[0.4444444444444444,\"#bd3786\"],[0.5555555555555556,\"#d8576b\"],[0.6666666666666666,\"#ed7953\"],[0.7777777777777778,\"#fb9f3a\"],[0.8888888888888888,\"#fdca26\"],[1.0,\"#f0f921\"]]}],\"contourcarpet\":[{\"type\":\"contourcarpet\",\"colorbar\":{\"outlinewidth\":0,\"ticks\":\"\"}}],\"contour\":[{\"type\":\"contour\",\"colorbar\":{\"outlinewidth\":0,\"ticks\":\"\"},\"colorscale\":[[0.0,\"#0d0887\"],[0.1111111111111111,\"#46039f\"],[0.2222222222222222,\"#7201a8\"],[0.3333333333333333,\"#9c179e\"],[0.4444444444444444,\"#bd3786\"],[0.5555555555555556,\"#d8576b\"],[0.6666666666666666,\"#ed7953\"],[0.7777777777777778,\"#fb9f3a\"],[0.8888888888888888,\"#fdca26\"],[1.0,\"#f0f921\"]]}],\"surface\":[{\"type\":\"surface\",\"colorbar\":{\"outlinewidth\":0,\"ticks\":\"\"},\"colorscale\":[[0.0,\"#0d0887\"],[0.1111111111111111,\"#46039f\"],[0.2222222222222222,\"#7201a8\"],[0.3333333333333333,\"#9c179e\"],[0.4444444444444444,\"#bd3786\"],[0.5555555555555556,\"#d8576b\"],[0.6666666666666666,\"#ed7953\"],[0.7777777777777778,\"#fb9f3a\"],[0.8888888888888888,\"#fdca26\"],[1.0,\"#f0f921\"]]}],\"mesh3d\":[{\"type\":\"mesh3d\",\"colorbar\":{\"outlinewidth\":0,\"ticks\":\"\"}}],\"scatter\":[{\"fillpattern\":{\"fillmode\":\"overlay\",\"size\":10,\"solidity\":0.2},\"type\":\"scatter\"}],\"parcoords\":[{\"type\":\"parcoords\",\"line\":{\"colorbar\":{\"outlinewidth\":0,\"ticks\":\"\"}}}],\"scatterpolargl\":[{\"type\":\"scatterpolargl\",\"marker\":{\"colorbar\":{\"outlinewidth\":0,\"ticks\":\"\"}}}],\"bar\":[{\"error_x\":{\"color\":\"#2a3f5f\"},\"error_y\":{\"color\":\"#2a3f5f\"},\"marker\":{\"line\":{\"color\":\"#E5ECF6\",\"width\":0.5},\"pattern\":{\"fillmode\":\"overlay\",\"size\":10,\"solidity\":0.2}},\"type\":\"bar\"}],\"scattergeo\":[{\"type\":\"scattergeo\",\"marker\":{\"colorbar\":{\"outlinewidth\":0,\"ticks\":\"\"}}}],\"scatterpolar\":[{\"type\":\"scatterpolar\",\"marker\":{\"colorbar\":{\"outlinewidth\":0,\"ticks\":\"\"}}}],\"histogram\":[{\"marker\":{\"pattern\":{\"fillmode\":\"overlay\",\"size\":10,\"solidity\":0.2}},\"type\":\"histogram\"}],\"scattergl\":[{\"type\":\"scattergl\",\"marker\":{\"colorbar\":{\"outlinewidth\":0,\"ticks\":\"\"}}}],\"scatter3d\":[{\"type\":\"scatter3d\",\"line\":{\"colorbar\":{\"outlinewidth\":0,\"ticks\":\"\"}},\"marker\":{\"colorbar\":{\"outlinewidth\":0,\"ticks\":\"\"}}}],\"scattermapbox\":[{\"type\":\"scattermapbox\",\"marker\":{\"colorbar\":{\"outlinewidth\":0,\"ticks\":\"\"}}}],\"scatterternary\":[{\"type\":\"scatterternary\",\"marker\":{\"colorbar\":{\"outlinewidth\":0,\"ticks\":\"\"}}}],\"scattercarpet\":[{\"type\":\"scattercarpet\",\"marker\":{\"colorbar\":{\"outlinewidth\":0,\"ticks\":\"\"}}}],\"carpet\":[{\"aaxis\":{\"endlinecolor\":\"#2a3f5f\",\"gridcolor\":\"white\",\"linecolor\":\"white\",\"minorgridcolor\":\"white\",\"startlinecolor\":\"#2a3f5f\"},\"baxis\":{\"endlinecolor\":\"#2a3f5f\",\"gridcolor\":\"white\",\"linecolor\":\"white\",\"minorgridcolor\":\"white\",\"startlinecolor\":\"#2a3f5f\"},\"type\":\"carpet\"}],\"table\":[{\"cells\":{\"fill\":{\"color\":\"#EBF0F8\"},\"line\":{\"color\":\"white\"}},\"header\":{\"fill\":{\"color\":\"#C8D4E3\"},\"line\":{\"color\":\"white\"}},\"type\":\"table\"}],\"barpolar\":[{\"marker\":{\"line\":{\"color\":\"#E5ECF6\",\"width\":0.5},\"pattern\":{\"fillmode\":\"overlay\",\"size\":10,\"solidity\":0.2}},\"type\":\"barpolar\"}],\"pie\":[{\"automargin\":true,\"type\":\"pie\"}]},\"layout\":{\"autotypenumbers\":\"strict\",\"colorway\":[\"#636efa\",\"#EF553B\",\"#00cc96\",\"#ab63fa\",\"#FFA15A\",\"#19d3f3\",\"#FF6692\",\"#B6E880\",\"#FF97FF\",\"#FECB52\"],\"font\":{\"color\":\"#2a3f5f\"},\"hovermode\":\"closest\",\"hoverlabel\":{\"align\":\"left\"},\"paper_bgcolor\":\"white\",\"plot_bgcolor\":\"#E5ECF6\",\"polar\":{\"bgcolor\":\"#E5ECF6\",\"angularaxis\":{\"gridcolor\":\"white\",\"linecolor\":\"white\",\"ticks\":\"\"},\"radialaxis\":{\"gridcolor\":\"white\",\"linecolor\":\"white\",\"ticks\":\"\"}},\"ternary\":{\"bgcolor\":\"#E5ECF6\",\"aaxis\":{\"gridcolor\":\"white\",\"linecolor\":\"white\",\"ticks\":\"\"},\"baxis\":{\"gridcolor\":\"white\",\"linecolor\":\"white\",\"ticks\":\"\"},\"caxis\":{\"gridcolor\":\"white\",\"linecolor\":\"white\",\"ticks\":\"\"}},\"coloraxis\":{\"colorbar\":{\"outlinewidth\":0,\"ticks\":\"\"}},\"colorscale\":{\"sequential\":[[0.0,\"#0d0887\"],[0.1111111111111111,\"#46039f\"],[0.2222222222222222,\"#7201a8\"],[0.3333333333333333,\"#9c179e\"],[0.4444444444444444,\"#bd3786\"],[0.5555555555555556,\"#d8576b\"],[0.6666666666666666,\"#ed7953\"],[0.7777777777777778,\"#fb9f3a\"],[0.8888888888888888,\"#fdca26\"],[1.0,\"#f0f921\"]],\"sequentialminus\":[[0.0,\"#0d0887\"],[0.1111111111111111,\"#46039f\"],[0.2222222222222222,\"#7201a8\"],[0.3333333333333333,\"#9c179e\"],[0.4444444444444444,\"#bd3786\"],[0.5555555555555556,\"#d8576b\"],[0.6666666666666666,\"#ed7953\"],[0.7777777777777778,\"#fb9f3a\"],[0.8888888888888888,\"#fdca26\"],[1.0,\"#f0f921\"]],\"diverging\":[[0,\"#8e0152\"],[0.1,\"#c51b7d\"],[0.2,\"#de77ae\"],[0.3,\"#f1b6da\"],[0.4,\"#fde0ef\"],[0.5,\"#f7f7f7\"],[0.6,\"#e6f5d0\"],[0.7,\"#b8e186\"],[0.8,\"#7fbc41\"],[0.9,\"#4d9221\"],[1,\"#276419\"]]},\"xaxis\":{\"gridcolor\":\"white\",\"linecolor\":\"white\",\"ticks\":\"\",\"title\":{\"standoff\":15},\"zerolinecolor\":\"white\",\"automargin\":true,\"zerolinewidth\":2},\"yaxis\":{\"gridcolor\":\"white\",\"linecolor\":\"white\",\"ticks\":\"\",\"title\":{\"standoff\":15},\"zerolinecolor\":\"white\",\"automargin\":true,\"zerolinewidth\":2},\"scene\":{\"xaxis\":{\"backgroundcolor\":\"#E5ECF6\",\"gridcolor\":\"white\",\"linecolor\":\"white\",\"showbackground\":true,\"ticks\":\"\",\"zerolinecolor\":\"white\",\"gridwidth\":2},\"yaxis\":{\"backgroundcolor\":\"#E5ECF6\",\"gridcolor\":\"white\",\"linecolor\":\"white\",\"showbackground\":true,\"ticks\":\"\",\"zerolinecolor\":\"white\",\"gridwidth\":2},\"zaxis\":{\"backgroundcolor\":\"#E5ECF6\",\"gridcolor\":\"white\",\"linecolor\":\"white\",\"showbackground\":true,\"ticks\":\"\",\"zerolinecolor\":\"white\",\"gridwidth\":2}},\"shapedefaults\":{\"line\":{\"color\":\"#2a3f5f\"}},\"annotationdefaults\":{\"arrowcolor\":\"#2a3f5f\",\"arrowhead\":0,\"arrowwidth\":1},\"geo\":{\"bgcolor\":\"white\",\"landcolor\":\"#E5ECF6\",\"subunitcolor\":\"white\",\"showland\":true,\"showlakes\":true,\"lakecolor\":\"white\"},\"title\":{\"x\":0.05},\"mapbox\":{\"style\":\"light\"}}},\"xaxis\":{\"anchor\":\"y\",\"domain\":[0.0,1.0],\"title\":{\"text\":\"Feature number\"}},\"yaxis\":{\"anchor\":\"x\",\"domain\":[0.0,1.0],\"title\":{\"text\":\"Coefficient value\"}},\"legend\":{\"tracegroupgap\":0},\"margin\":{\"t\":60},\"title\":{\"text\":\"alpha = 1e-05, Rsquared = -0.5586782193351426\"}},                        {\"responsive\": true}                    ).then(function(){\n",
       "                            \n",
       "var gd = document.getElementById('4c1aa0a9-1cd6-4064-95e6-a363e01a01fa');\n",
       "var x = new MutationObserver(function (mutations, observer) {{\n",
       "        var display = window.getComputedStyle(gd).display;\n",
       "        if (!display || display === 'none') {{\n",
       "            console.log([gd, 'removed!']);\n",
       "            Plotly.purge(gd);\n",
       "            observer.disconnect();\n",
       "        }}\n",
       "}});\n",
       "\n",
       "// Listen for the removal of the full notebook cells\n",
       "var notebookContainer = gd.closest('#notebook-container');\n",
       "if (notebookContainer) {{\n",
       "    x.observe(notebookContainer, {childList: true});\n",
       "}}\n",
       "\n",
       "// Listen for the clearing of the current output cell\n",
       "var outputEl = gd.closest('.output');\n",
       "if (outputEl) {{\n",
       "    x.observe(outputEl, {childList: true});\n",
       "}}\n",
       "\n",
       "                        })                };                });            </script>        </div>"
      ]
     },
     "metadata": {},
     "output_type": "display_data"
    },
    {
     "data": {
      "application/vnd.plotly.v1+json": {
       "config": {
        "plotlyServerURL": "https://plot.ly"
       },
       "data": [
        {
         "error_y": {
          "array": [
           0.2867267812522752,
           0.2224625190279094,
           0.19974203204009902,
           0.19278957126072876,
           0.4314676818144827,
           0.15498744669816597,
           0.17211904405052558,
           0.20281502530454215,
           0.18356502803102337,
           0.1766384884506363,
           0.17921300418214078,
           0.16219337048114119,
           0.15599436538613765,
           0.2050722896851552,
           0.18116821445615225,
           0.2143899452893231,
           0.24893193052757953,
           0.15159815903887955,
           0.2564481581008391,
           0.2203599426529578,
           0.22080365202808006,
           0.3519132241169547,
           0.1892015834450483,
           0.17740024657541287,
           0.19785951660748305,
           0.29857718500614283,
           0.2012299038977864,
           0.16366315853144942,
           0.21260775288602327,
           0.18719614421154135,
           0.15629736944485842,
           0.1847796161070421,
           0.16136305735158404,
           0.15606344400411953,
           0.16332706518964965,
           0.16893652644300353,
           0.2789274030158015,
           0.2191392898172861,
           0.17728955821865927,
           0.15939454967181824,
           0.1385957191830855,
           0.15907454313738503,
           0.15667891974549944,
           0.16812985027933294,
           0.1571302876340335,
           0.1664249802264317,
           0.11771472896624512,
           0.14167049792698444,
           0.1005902227916899,
           0.16651877029124412,
           0.18282025054581347,
           0.13587375708790042,
           0.1959222494210275,
           0.13503694557356255,
           0.14181703742241428,
           0.15924963554667418,
           0.14950259072994126,
           0.17711109076125328,
           0.14047062823197498,
           0.2386013703410777,
           0.16122274212546828,
           0.17978050072102872,
           0.13465963114140078,
           0.14574899649763728,
           0.15539641860332462,
           0.19803539227029496,
           0.1964844272413824,
           0.1305311548719504,
           0.16431414247995968,
           0.17478446342538345,
           0.15972342198126127,
           0.14327571380679682,
           0.18890924372889015,
           0.1579000894827052,
           0.14826615634321824,
           0.12909734944591722,
           0.1539369605984057,
           0.1143768801538259,
           0.11576810027493331,
           0.19421523997221346,
           0.15607726940468977,
           0.16655199222843922,
           0.14403310131097868,
           0.15247550207089766,
           0.16147349503064384,
           0.15772063288125393,
           0.13016390299175631,
           0.16402339996879328,
           0.15156624372616728,
           0.16166077232536494,
           0.15295508795601312,
           0.13907180560108476,
           0.12929954192620535,
           0.19476429568127737,
           0.14616244652428456,
           0.16054946004521126,
           0.13844057008739033,
           0.16416472107135943,
           0.13413551208359636,
           0.13334906229740995,
           0.13230696194116984,
           0.14768539333580238,
           0.12007420254030196,
           0.20915857955474518,
           0.1681795493193097,
           0.16583741474319785,
           0.11767617155005247,
           0.16989271054628563,
           0.14090012195890583,
           0.12362980101887557,
           0.16115675474947042,
           0.1505555059908617,
           0.10527365357390937,
           0.11537350623677499,
           0.1641755357309132,
           0.1501717583668929,
           0.16152112065019777,
           0.17487655157118692,
           0.1768446952959682,
           0.10332809904918687,
           0.13814696275590033,
           0.1627759702821113,
           0.14610310052564712,
           0.1283163589133954,
           0.15032372967479626,
           0.15371177248083703,
           0.13449734337592922,
           0.11108219204037673,
           0.13212845650364755,
           0.14876396256712643,
           0.14663225031214475,
           0.11751457922452291,
           0.14372791777753027,
           0.1427619450765352,
           0.12333179512545418,
           0.1190357269471424,
           0.15439116205064266,
           0.1331056192115091,
           0.13105943138362644,
           0.18747155906907811,
           0.14020980937853664,
           0.15635999425472838,
           0.1806458916126635,
           0.14341254849194837,
           0.15631268615322838,
           0.13850717230563483,
           0.14228034189049554,
           0.12288654844789342,
           0.13406162733854468,
           0.15280364642312363,
           0.14556394265274775,
           0.11647941852454675,
           0.15715571076494828,
           0.12497387978007188,
           0.1276091018220158,
           0.1981631542506733,
           0.1803902951167945,
           0.14906480712808834,
           0.11450577570271898,
           0.09367051374175844,
           0.15613126954937936,
           0.1516484510897892,
           0.17611285275389044,
           0.10561975178683516,
           0.16294997027832459,
           0.1395993567466261,
           0.14179801082717133,
           0.12760997892775772,
           0.18417038745632744,
           0.14917989367031023,
           0.1658651618314091,
           0.14851062211817123,
           0.12986416562429187,
           0.1331228361849946,
           0.12012537109512657,
           0.10739058693971996,
           0.11373528555549242,
           0.11312844631126831,
           0.1224725483724138,
           0.14143643781758633,
           0.16077654163922414,
           0.12618288993975205,
           0.15101862036795716,
           0.12850837645485522,
           0.10403832778257346,
           0.1313914075200849,
           0.10939647020079313,
           0.1267710722875437,
           0.12360418568415109,
           0.13342447709196253,
           0.1163281616691732,
           0.11265742862352418,
           0.1333118751575138,
           0.09557490152671186,
           0.11392100592855657,
           0.1420101595459187,
           0.16843386337644184,
           0.11216410091881528,
           0.17101787933753385,
           0.12190884771751692,
           0.11561996641426504,
           0.12375458902835719,
           0.1273740250936506,
           0.13036590616449595,
           0.13618003563881348,
           0.10607328969702261,
           0.13344755263351837,
           0.11678693919756414,
           0.1271955684995419,
           0.12868358356232762,
           0.13497581622078778,
           0.16637556611642465,
           0.12621597368159845,
           0.12520626010076027,
           0.13157526807451964,
           0.10697703325724173,
           0.1449945655717704,
           0.0954176175780506,
           0.11092077923421612,
           0.15895505963299347,
           0.10933368831977246,
           0.12349794993369664,
           0.10345598006770296,
           0.1008569850916904,
           0.10743041274506637,
           0.09326703151329038,
           0.10351271733707904,
           0.13983903896983746,
           0.10083886976090647,
           0.1094673862081354,
           0.12814215258498646,
           0.096660375609833,
           0.10879331344239958,
           0.06570105812259747,
           0.14310515559024878,
           0.13553894514165196,
           0.10394904111259917,
           0.11026501491269673,
           0.11863157795718669
          ]
         },
         "hovertemplate": "x=%{x}<br>y=%{y}<extra></extra>",
         "legendgroup": "",
         "marker": {
          "color": "#636efa",
          "symbol": "circle"
         },
         "mode": "markers",
         "name": "",
         "orientation": "v",
         "showlegend": false,
         "type": "scatter",
         "x": [
          0,
          1,
          2,
          3,
          4,
          5,
          6,
          7,
          8,
          9,
          10,
          11,
          12,
          13,
          14,
          15,
          16,
          17,
          18,
          19,
          20,
          21,
          22,
          23,
          24,
          25,
          26,
          27,
          28,
          29,
          30,
          31,
          32,
          33,
          34,
          35,
          36,
          37,
          38,
          39,
          40,
          41,
          42,
          43,
          44,
          45,
          46,
          47,
          48,
          49,
          50,
          51,
          52,
          53,
          54,
          55,
          56,
          57,
          58,
          59,
          60,
          61,
          62,
          63,
          64,
          65,
          66,
          67,
          68,
          69,
          70,
          71,
          72,
          73,
          74,
          75,
          76,
          77,
          78,
          79,
          80,
          81,
          82,
          83,
          84,
          85,
          86,
          87,
          88,
          89,
          90,
          91,
          92,
          93,
          94,
          95,
          96,
          97,
          98,
          99,
          100,
          101,
          102,
          103,
          104,
          105,
          106,
          107,
          108,
          109,
          110,
          111,
          112,
          113,
          114,
          115,
          116,
          117,
          118,
          119,
          120,
          121,
          122,
          123,
          124,
          125,
          126,
          127,
          128,
          129,
          130,
          131,
          132,
          133,
          134,
          135,
          136,
          137,
          138,
          139,
          140,
          141,
          142,
          143,
          144,
          145,
          146,
          147,
          148,
          149,
          150,
          151,
          152,
          153,
          154,
          155,
          156,
          157,
          158,
          159,
          160,
          161,
          162,
          163,
          164,
          165,
          166,
          167,
          168,
          169,
          170,
          171,
          172,
          173,
          174,
          175,
          176,
          177,
          178,
          179,
          180,
          181,
          182,
          183,
          184,
          185,
          186,
          187,
          188,
          189,
          190,
          191,
          192,
          193,
          194,
          195,
          196,
          197,
          198,
          199,
          200,
          201,
          202,
          203,
          204,
          205,
          206,
          207,
          208,
          209,
          210,
          211,
          212,
          213,
          214,
          215,
          216,
          217,
          218,
          219,
          220,
          221,
          222,
          223,
          224,
          225,
          226,
          227,
          228,
          229,
          230,
          231,
          232,
          233,
          234,
          235,
          236,
          237,
          238
         ],
         "xaxis": "x",
         "y": [
          -2.5986550568181834,
          -0.09836653170094277,
          0.0466914513435238,
          -0.08032105003639671,
          0.4012626817339215,
          -0.06935885146297784,
          0.027045032349405976,
          0.11529730320072427,
          0.10551048202059655,
          0.05468875839700488,
          0.0711522445618507,
          0.020441933124595208,
          0.04920953737735898,
          0.1289017230466211,
          0.037690995749517016,
          0.08731213404534534,
          0.18219346990679092,
          -0.0078165783747909,
          0.18604157315764241,
          0.08652151460507698,
          -0.0979886849677662,
          0.336113453360719,
          0.08962292652183784,
          -0.06770145042142693,
          0.020347260897285786,
          0.856857767772724,
          -0.08958317148000348,
          0.04096308227819787,
          0.09473128809475316,
          0.07266295836688537,
          0.012400187226270664,
          -0.04994354248631439,
          -0.08095651476761805,
          -0.07615482129519564,
          0.0076456454217795795,
          -0.0719315807906681,
          0.21593498009318,
          -0.04714994659936329,
          -0.041784094934249595,
          -0.08678289726889116,
          -0.07190755199285047,
          0.06684512635463159,
          0.038637954134455824,
          0.030814844655909116,
          0.0384630819248459,
          0.05143901083882189,
          -0.01856107318123298,
          -0.058843656039070234,
          0.01702424809531027,
          0.001393714952057287,
          -0.048899998677333585,
          -0.00402537697596383,
          0.1042557103514826,
          -0.024616715991143536,
          0.029720022364292185,
          0.02727505377038233,
          0.047123817316906236,
          0.08020986128162773,
          -0.06855470555083866,
          -0.1612057375673788,
          0.019448467349623008,
          -0.07542779119324708,
          0.03902393211060904,
          -0.047103636647928944,
          0.09343293188759422,
          -0.10258615500649508,
          0.06472658295969363,
          -0.030307619125874468,
          0.04432377038987482,
          -0.047482992558912966,
          0.025993116876298555,
          0.07461104705546988,
          0.13426667241083826,
          -0.03182031956071445,
          -0.09145164431637379,
          0.013383254397879836,
          -0.05107445852144631,
          -0.03450839966046237,
          -0.0395950127201627,
          0.1450139823643705,
          -0.02118204947053214,
          -0.07023935363955569,
          -0.04784999021888147,
          0.066990055519214,
          -0.018454638635125697,
          0.09340583200611786,
          -0.0024213548137061672,
          0.07649128827092232,
          0.06943845486083891,
          -0.06600657415644505,
          -0.016861496342566975,
          0.06117992882788047,
          0.04134845609910365,
          -0.019720919783373283,
          -0.05391685650925004,
          0.03513684969144387,
          0.018794583350799216,
          0.004201002168472204,
          0.005123847433159041,
          0.009472343723760032,
          0.0013397896499166087,
          0.0406791967423991,
          -0.025237067487543136,
          -0.13019407532073562,
          -0.10546698213620266,
          -0.06642604338604088,
          -0.01833291311888105,
          0.0439300772659696,
          0.023863609664196844,
          -0.03904719483879187,
          -0.10862960002606141,
          -0.07657474769430966,
          -0.005332159229086778,
          0.016519325964579158,
          0.11729537344687421,
          0.05908116476914643,
          0.06488955214175979,
          -0.015461141313221887,
          -0.12007861127131804,
          -0.020079317069335686,
          -0.012656737226951808,
          0.08391146857491642,
          -0.044058425932352485,
          -0.024128886876073532,
          -0.022954744940742608,
          -0.04717527260987472,
          0.031409083358112086,
          -0.018453327456752752,
          -0.05786265686735622,
          -0.06245271916741791,
          0.03701841026423185,
          -0.010801951407894408,
          0.07603482248954006,
          -0.044095411002614736,
          -0.017345884833415457,
          -0.007148044232443758,
          0.039990094387901326,
          -0.05170931729315555,
          0.010235010554069307,
          0.07725065829185022,
          -0.02409716948856885,
          0.02383969622766111,
          0.12563059514890207,
          0.0010049063428739533,
          0.07009046276034327,
          -0.03434826904042307,
          0.06126691778898214,
          -0.07443514430095398,
          -0.04051885766296995,
          -0.0771269928534503,
          0.06629126731850897,
          0.012132323533211581,
          -0.04797466383182451,
          -0.026450036997764294,
          -0.024039591148874828,
          -0.1441878188323528,
          0.0877325131265025,
          -0.04326455036143929,
          -0.007381529781004697,
          -0.021746604373103856,
          -0.06630737438431626,
          0.08511263171170406,
          0.13328053298461975,
          0.007011121638451327,
          0.06781256077815513,
          0.03101044222896365,
          0.029801908029984177,
          -0.03000445134740429,
          -0.10850567112753809,
          0.09178739997795207,
          -0.09102516102196816,
          0.07788304892753503,
          0.015011007352676076,
          0.0021578020807024984,
          0.04503727246209351,
          0.030643864036829022,
          -0.03575207091829677,
          -0.0010799518491215613,
          0.034270319651139955,
          0.013707813345553942,
          0.0058808263127578895,
          -0.0676712997847776,
          0.08469266631192449,
          -0.008926595003184476,
          0.018933488809819998,
          -0.036465319553012215,
          0.013050209155695887,
          0.022616524175148534,
          -0.06776622445623602,
          -0.07354205031315099,
          0.02628647972701017,
          0.05746810168834505,
          0.037172297678597,
          0.028873428932649818,
          -0.040475492658121726,
          0.0762412927250567,
          0.11213629892695308,
          -0.010628358247875273,
          -0.10729864978184218,
          -0.02609240483296907,
          0.006260964050238446,
          0.04300984899508492,
          -0.010632286341209059,
          0.052713678994991214,
          -0.034067524755608286,
          0.006487876373774398,
          -0.06963449222619619,
          0.04607572456371631,
          0.040939182480343894,
          0.053588032327618634,
          -0.05101951928513744,
          -0.11084884752516445,
          0.009156667047353578,
          0.0037319898482045502,
          0.056028005386833814,
          -0.004006780843863085,
          0.10503863634488442,
          -0.0221650024594515,
          -0.0004250111620657958,
          0.03237753561705783,
          -0.00262259922243831,
          0.02160538107993348,
          -0.0015915340473117408,
          0.0018325330936497604,
          0.019621780943962754,
          -0.02677918755137794,
          0.01970651054436572,
          0.06472425288567266,
          0.009956591470004524,
          -0.03229759908235352,
          0.012587569098615031,
          0.028902822229744708,
          -0.016638136280058932,
          -0.006323535114292348,
          -0.08259579929037579,
          0.03957501261042543,
          0.05388269562382649,
          0.05178441303713518,
          0.0475516392135341
         ],
         "yaxis": "y"
        }
       ],
       "layout": {
        "legend": {
         "tracegroupgap": 0
        },
        "margin": {
         "t": 60
        },
        "template": {
         "data": {
          "bar": [
           {
            "error_x": {
             "color": "#2a3f5f"
            },
            "error_y": {
             "color": "#2a3f5f"
            },
            "marker": {
             "line": {
              "color": "#E5ECF6",
              "width": 0.5
             },
             "pattern": {
              "fillmode": "overlay",
              "size": 10,
              "solidity": 0.2
             }
            },
            "type": "bar"
           }
          ],
          "barpolar": [
           {
            "marker": {
             "line": {
              "color": "#E5ECF6",
              "width": 0.5
             },
             "pattern": {
              "fillmode": "overlay",
              "size": 10,
              "solidity": 0.2
             }
            },
            "type": "barpolar"
           }
          ],
          "carpet": [
           {
            "aaxis": {
             "endlinecolor": "#2a3f5f",
             "gridcolor": "white",
             "linecolor": "white",
             "minorgridcolor": "white",
             "startlinecolor": "#2a3f5f"
            },
            "baxis": {
             "endlinecolor": "#2a3f5f",
             "gridcolor": "white",
             "linecolor": "white",
             "minorgridcolor": "white",
             "startlinecolor": "#2a3f5f"
            },
            "type": "carpet"
           }
          ],
          "choropleth": [
           {
            "colorbar": {
             "outlinewidth": 0,
             "ticks": ""
            },
            "type": "choropleth"
           }
          ],
          "contour": [
           {
            "colorbar": {
             "outlinewidth": 0,
             "ticks": ""
            },
            "colorscale": [
             [
              0,
              "#0d0887"
             ],
             [
              0.1111111111111111,
              "#46039f"
             ],
             [
              0.2222222222222222,
              "#7201a8"
             ],
             [
              0.3333333333333333,
              "#9c179e"
             ],
             [
              0.4444444444444444,
              "#bd3786"
             ],
             [
              0.5555555555555556,
              "#d8576b"
             ],
             [
              0.6666666666666666,
              "#ed7953"
             ],
             [
              0.7777777777777778,
              "#fb9f3a"
             ],
             [
              0.8888888888888888,
              "#fdca26"
             ],
             [
              1,
              "#f0f921"
             ]
            ],
            "type": "contour"
           }
          ],
          "contourcarpet": [
           {
            "colorbar": {
             "outlinewidth": 0,
             "ticks": ""
            },
            "type": "contourcarpet"
           }
          ],
          "heatmap": [
           {
            "colorbar": {
             "outlinewidth": 0,
             "ticks": ""
            },
            "colorscale": [
             [
              0,
              "#0d0887"
             ],
             [
              0.1111111111111111,
              "#46039f"
             ],
             [
              0.2222222222222222,
              "#7201a8"
             ],
             [
              0.3333333333333333,
              "#9c179e"
             ],
             [
              0.4444444444444444,
              "#bd3786"
             ],
             [
              0.5555555555555556,
              "#d8576b"
             ],
             [
              0.6666666666666666,
              "#ed7953"
             ],
             [
              0.7777777777777778,
              "#fb9f3a"
             ],
             [
              0.8888888888888888,
              "#fdca26"
             ],
             [
              1,
              "#f0f921"
             ]
            ],
            "type": "heatmap"
           }
          ],
          "heatmapgl": [
           {
            "colorbar": {
             "outlinewidth": 0,
             "ticks": ""
            },
            "colorscale": [
             [
              0,
              "#0d0887"
             ],
             [
              0.1111111111111111,
              "#46039f"
             ],
             [
              0.2222222222222222,
              "#7201a8"
             ],
             [
              0.3333333333333333,
              "#9c179e"
             ],
             [
              0.4444444444444444,
              "#bd3786"
             ],
             [
              0.5555555555555556,
              "#d8576b"
             ],
             [
              0.6666666666666666,
              "#ed7953"
             ],
             [
              0.7777777777777778,
              "#fb9f3a"
             ],
             [
              0.8888888888888888,
              "#fdca26"
             ],
             [
              1,
              "#f0f921"
             ]
            ],
            "type": "heatmapgl"
           }
          ],
          "histogram": [
           {
            "marker": {
             "pattern": {
              "fillmode": "overlay",
              "size": 10,
              "solidity": 0.2
             }
            },
            "type": "histogram"
           }
          ],
          "histogram2d": [
           {
            "colorbar": {
             "outlinewidth": 0,
             "ticks": ""
            },
            "colorscale": [
             [
              0,
              "#0d0887"
             ],
             [
              0.1111111111111111,
              "#46039f"
             ],
             [
              0.2222222222222222,
              "#7201a8"
             ],
             [
              0.3333333333333333,
              "#9c179e"
             ],
             [
              0.4444444444444444,
              "#bd3786"
             ],
             [
              0.5555555555555556,
              "#d8576b"
             ],
             [
              0.6666666666666666,
              "#ed7953"
             ],
             [
              0.7777777777777778,
              "#fb9f3a"
             ],
             [
              0.8888888888888888,
              "#fdca26"
             ],
             [
              1,
              "#f0f921"
             ]
            ],
            "type": "histogram2d"
           }
          ],
          "histogram2dcontour": [
           {
            "colorbar": {
             "outlinewidth": 0,
             "ticks": ""
            },
            "colorscale": [
             [
              0,
              "#0d0887"
             ],
             [
              0.1111111111111111,
              "#46039f"
             ],
             [
              0.2222222222222222,
              "#7201a8"
             ],
             [
              0.3333333333333333,
              "#9c179e"
             ],
             [
              0.4444444444444444,
              "#bd3786"
             ],
             [
              0.5555555555555556,
              "#d8576b"
             ],
             [
              0.6666666666666666,
              "#ed7953"
             ],
             [
              0.7777777777777778,
              "#fb9f3a"
             ],
             [
              0.8888888888888888,
              "#fdca26"
             ],
             [
              1,
              "#f0f921"
             ]
            ],
            "type": "histogram2dcontour"
           }
          ],
          "mesh3d": [
           {
            "colorbar": {
             "outlinewidth": 0,
             "ticks": ""
            },
            "type": "mesh3d"
           }
          ],
          "parcoords": [
           {
            "line": {
             "colorbar": {
              "outlinewidth": 0,
              "ticks": ""
             }
            },
            "type": "parcoords"
           }
          ],
          "pie": [
           {
            "automargin": true,
            "type": "pie"
           }
          ],
          "scatter": [
           {
            "fillpattern": {
             "fillmode": "overlay",
             "size": 10,
             "solidity": 0.2
            },
            "type": "scatter"
           }
          ],
          "scatter3d": [
           {
            "line": {
             "colorbar": {
              "outlinewidth": 0,
              "ticks": ""
             }
            },
            "marker": {
             "colorbar": {
              "outlinewidth": 0,
              "ticks": ""
             }
            },
            "type": "scatter3d"
           }
          ],
          "scattercarpet": [
           {
            "marker": {
             "colorbar": {
              "outlinewidth": 0,
              "ticks": ""
             }
            },
            "type": "scattercarpet"
           }
          ],
          "scattergeo": [
           {
            "marker": {
             "colorbar": {
              "outlinewidth": 0,
              "ticks": ""
             }
            },
            "type": "scattergeo"
           }
          ],
          "scattergl": [
           {
            "marker": {
             "colorbar": {
              "outlinewidth": 0,
              "ticks": ""
             }
            },
            "type": "scattergl"
           }
          ],
          "scattermapbox": [
           {
            "marker": {
             "colorbar": {
              "outlinewidth": 0,
              "ticks": ""
             }
            },
            "type": "scattermapbox"
           }
          ],
          "scatterpolar": [
           {
            "marker": {
             "colorbar": {
              "outlinewidth": 0,
              "ticks": ""
             }
            },
            "type": "scatterpolar"
           }
          ],
          "scatterpolargl": [
           {
            "marker": {
             "colorbar": {
              "outlinewidth": 0,
              "ticks": ""
             }
            },
            "type": "scatterpolargl"
           }
          ],
          "scatterternary": [
           {
            "marker": {
             "colorbar": {
              "outlinewidth": 0,
              "ticks": ""
             }
            },
            "type": "scatterternary"
           }
          ],
          "surface": [
           {
            "colorbar": {
             "outlinewidth": 0,
             "ticks": ""
            },
            "colorscale": [
             [
              0,
              "#0d0887"
             ],
             [
              0.1111111111111111,
              "#46039f"
             ],
             [
              0.2222222222222222,
              "#7201a8"
             ],
             [
              0.3333333333333333,
              "#9c179e"
             ],
             [
              0.4444444444444444,
              "#bd3786"
             ],
             [
              0.5555555555555556,
              "#d8576b"
             ],
             [
              0.6666666666666666,
              "#ed7953"
             ],
             [
              0.7777777777777778,
              "#fb9f3a"
             ],
             [
              0.8888888888888888,
              "#fdca26"
             ],
             [
              1,
              "#f0f921"
             ]
            ],
            "type": "surface"
           }
          ],
          "table": [
           {
            "cells": {
             "fill": {
              "color": "#EBF0F8"
             },
             "line": {
              "color": "white"
             }
            },
            "header": {
             "fill": {
              "color": "#C8D4E3"
             },
             "line": {
              "color": "white"
             }
            },
            "type": "table"
           }
          ]
         },
         "layout": {
          "annotationdefaults": {
           "arrowcolor": "#2a3f5f",
           "arrowhead": 0,
           "arrowwidth": 1
          },
          "autotypenumbers": "strict",
          "coloraxis": {
           "colorbar": {
            "outlinewidth": 0,
            "ticks": ""
           }
          },
          "colorscale": {
           "diverging": [
            [
             0,
             "#8e0152"
            ],
            [
             0.1,
             "#c51b7d"
            ],
            [
             0.2,
             "#de77ae"
            ],
            [
             0.3,
             "#f1b6da"
            ],
            [
             0.4,
             "#fde0ef"
            ],
            [
             0.5,
             "#f7f7f7"
            ],
            [
             0.6,
             "#e6f5d0"
            ],
            [
             0.7,
             "#b8e186"
            ],
            [
             0.8,
             "#7fbc41"
            ],
            [
             0.9,
             "#4d9221"
            ],
            [
             1,
             "#276419"
            ]
           ],
           "sequential": [
            [
             0,
             "#0d0887"
            ],
            [
             0.1111111111111111,
             "#46039f"
            ],
            [
             0.2222222222222222,
             "#7201a8"
            ],
            [
             0.3333333333333333,
             "#9c179e"
            ],
            [
             0.4444444444444444,
             "#bd3786"
            ],
            [
             0.5555555555555556,
             "#d8576b"
            ],
            [
             0.6666666666666666,
             "#ed7953"
            ],
            [
             0.7777777777777778,
             "#fb9f3a"
            ],
            [
             0.8888888888888888,
             "#fdca26"
            ],
            [
             1,
             "#f0f921"
            ]
           ],
           "sequentialminus": [
            [
             0,
             "#0d0887"
            ],
            [
             0.1111111111111111,
             "#46039f"
            ],
            [
             0.2222222222222222,
             "#7201a8"
            ],
            [
             0.3333333333333333,
             "#9c179e"
            ],
            [
             0.4444444444444444,
             "#bd3786"
            ],
            [
             0.5555555555555556,
             "#d8576b"
            ],
            [
             0.6666666666666666,
             "#ed7953"
            ],
            [
             0.7777777777777778,
             "#fb9f3a"
            ],
            [
             0.8888888888888888,
             "#fdca26"
            ],
            [
             1,
             "#f0f921"
            ]
           ]
          },
          "colorway": [
           "#636efa",
           "#EF553B",
           "#00cc96",
           "#ab63fa",
           "#FFA15A",
           "#19d3f3",
           "#FF6692",
           "#B6E880",
           "#FF97FF",
           "#FECB52"
          ],
          "font": {
           "color": "#2a3f5f"
          },
          "geo": {
           "bgcolor": "white",
           "lakecolor": "white",
           "landcolor": "#E5ECF6",
           "showlakes": true,
           "showland": true,
           "subunitcolor": "white"
          },
          "hoverlabel": {
           "align": "left"
          },
          "hovermode": "closest",
          "mapbox": {
           "style": "light"
          },
          "paper_bgcolor": "white",
          "plot_bgcolor": "#E5ECF6",
          "polar": {
           "angularaxis": {
            "gridcolor": "white",
            "linecolor": "white",
            "ticks": ""
           },
           "bgcolor": "#E5ECF6",
           "radialaxis": {
            "gridcolor": "white",
            "linecolor": "white",
            "ticks": ""
           }
          },
          "scene": {
           "xaxis": {
            "backgroundcolor": "#E5ECF6",
            "gridcolor": "white",
            "gridwidth": 2,
            "linecolor": "white",
            "showbackground": true,
            "ticks": "",
            "zerolinecolor": "white"
           },
           "yaxis": {
            "backgroundcolor": "#E5ECF6",
            "gridcolor": "white",
            "gridwidth": 2,
            "linecolor": "white",
            "showbackground": true,
            "ticks": "",
            "zerolinecolor": "white"
           },
           "zaxis": {
            "backgroundcolor": "#E5ECF6",
            "gridcolor": "white",
            "gridwidth": 2,
            "linecolor": "white",
            "showbackground": true,
            "ticks": "",
            "zerolinecolor": "white"
           }
          },
          "shapedefaults": {
           "line": {
            "color": "#2a3f5f"
           }
          },
          "ternary": {
           "aaxis": {
            "gridcolor": "white",
            "linecolor": "white",
            "ticks": ""
           },
           "baxis": {
            "gridcolor": "white",
            "linecolor": "white",
            "ticks": ""
           },
           "bgcolor": "#E5ECF6",
           "caxis": {
            "gridcolor": "white",
            "linecolor": "white",
            "ticks": ""
           }
          },
          "title": {
           "x": 0.05
          },
          "xaxis": {
           "automargin": true,
           "gridcolor": "white",
           "linecolor": "white",
           "ticks": "",
           "title": {
            "standoff": 15
           },
           "zerolinecolor": "white",
           "zerolinewidth": 2
          },
          "yaxis": {
           "automargin": true,
           "gridcolor": "white",
           "linecolor": "white",
           "ticks": "",
           "title": {
            "standoff": 15
           },
           "zerolinecolor": "white",
           "zerolinewidth": 2
          }
         }
        },
        "title": {
         "text": "alpha = 0.3571521428571429, Rsquared = 0.22218292583322433"
        },
        "xaxis": {
         "anchor": "y",
         "domain": [
          0,
          1
         ],
         "title": {
          "text": "Feature number"
         }
        },
        "yaxis": {
         "anchor": "x",
         "domain": [
          0,
          1
         ],
         "title": {
          "text": "Coefficient value"
         }
        }
       }
      },
      "text/html": [
       "<div>                            <div id=\"d1f593e9-98a9-47c3-8970-df44f919276e\" class=\"plotly-graph-div\" style=\"height:525px; width:100%;\"></div>            <script type=\"text/javascript\">                require([\"plotly\"], function(Plotly) {                    window.PLOTLYENV=window.PLOTLYENV || {};                                    if (document.getElementById(\"d1f593e9-98a9-47c3-8970-df44f919276e\")) {                    Plotly.newPlot(                        \"d1f593e9-98a9-47c3-8970-df44f919276e\",                        [{\"error_y\":{\"array\":[0.2867267812522752,0.2224625190279094,0.19974203204009902,0.19278957126072876,0.4314676818144827,0.15498744669816597,0.17211904405052558,0.20281502530454215,0.18356502803102337,0.1766384884506363,0.17921300418214078,0.16219337048114119,0.15599436538613765,0.2050722896851552,0.18116821445615225,0.2143899452893231,0.24893193052757953,0.15159815903887955,0.2564481581008391,0.2203599426529578,0.22080365202808006,0.3519132241169547,0.1892015834450483,0.17740024657541287,0.19785951660748305,0.29857718500614283,0.2012299038977864,0.16366315853144942,0.21260775288602327,0.18719614421154135,0.15629736944485842,0.1847796161070421,0.16136305735158404,0.15606344400411953,0.16332706518964965,0.16893652644300353,0.2789274030158015,0.2191392898172861,0.17728955821865927,0.15939454967181824,0.1385957191830855,0.15907454313738503,0.15667891974549944,0.16812985027933294,0.1571302876340335,0.1664249802264317,0.11771472896624512,0.14167049792698444,0.1005902227916899,0.16651877029124412,0.18282025054581347,0.13587375708790042,0.1959222494210275,0.13503694557356255,0.14181703742241428,0.15924963554667418,0.14950259072994126,0.17711109076125328,0.14047062823197498,0.2386013703410777,0.16122274212546828,0.17978050072102872,0.13465963114140078,0.14574899649763728,0.15539641860332462,0.19803539227029496,0.1964844272413824,0.1305311548719504,0.16431414247995968,0.17478446342538345,0.15972342198126127,0.14327571380679682,0.18890924372889015,0.1579000894827052,0.14826615634321824,0.12909734944591722,0.1539369605984057,0.1143768801538259,0.11576810027493331,0.19421523997221346,0.15607726940468977,0.16655199222843922,0.14403310131097868,0.15247550207089766,0.16147349503064384,0.15772063288125393,0.13016390299175631,0.16402339996879328,0.15156624372616728,0.16166077232536494,0.15295508795601312,0.13907180560108476,0.12929954192620535,0.19476429568127737,0.14616244652428456,0.16054946004521126,0.13844057008739033,0.16416472107135943,0.13413551208359636,0.13334906229740995,0.13230696194116984,0.14768539333580238,0.12007420254030196,0.20915857955474518,0.1681795493193097,0.16583741474319785,0.11767617155005247,0.16989271054628563,0.14090012195890583,0.12362980101887557,0.16115675474947042,0.1505555059908617,0.10527365357390937,0.11537350623677499,0.1641755357309132,0.1501717583668929,0.16152112065019777,0.17487655157118692,0.1768446952959682,0.10332809904918687,0.13814696275590033,0.1627759702821113,0.14610310052564712,0.1283163589133954,0.15032372967479626,0.15371177248083703,0.13449734337592922,0.11108219204037673,0.13212845650364755,0.14876396256712643,0.14663225031214475,0.11751457922452291,0.14372791777753027,0.1427619450765352,0.12333179512545418,0.1190357269471424,0.15439116205064266,0.1331056192115091,0.13105943138362644,0.18747155906907811,0.14020980937853664,0.15635999425472838,0.1806458916126635,0.14341254849194837,0.15631268615322838,0.13850717230563483,0.14228034189049554,0.12288654844789342,0.13406162733854468,0.15280364642312363,0.14556394265274775,0.11647941852454675,0.15715571076494828,0.12497387978007188,0.1276091018220158,0.1981631542506733,0.1803902951167945,0.14906480712808834,0.11450577570271898,0.09367051374175844,0.15613126954937936,0.1516484510897892,0.17611285275389044,0.10561975178683516,0.16294997027832459,0.1395993567466261,0.14179801082717133,0.12760997892775772,0.18417038745632744,0.14917989367031023,0.1658651618314091,0.14851062211817123,0.12986416562429187,0.1331228361849946,0.12012537109512657,0.10739058693971996,0.11373528555549242,0.11312844631126831,0.1224725483724138,0.14143643781758633,0.16077654163922414,0.12618288993975205,0.15101862036795716,0.12850837645485522,0.10403832778257346,0.1313914075200849,0.10939647020079313,0.1267710722875437,0.12360418568415109,0.13342447709196253,0.1163281616691732,0.11265742862352418,0.1333118751575138,0.09557490152671186,0.11392100592855657,0.1420101595459187,0.16843386337644184,0.11216410091881528,0.17101787933753385,0.12190884771751692,0.11561996641426504,0.12375458902835719,0.1273740250936506,0.13036590616449595,0.13618003563881348,0.10607328969702261,0.13344755263351837,0.11678693919756414,0.1271955684995419,0.12868358356232762,0.13497581622078778,0.16637556611642465,0.12621597368159845,0.12520626010076027,0.13157526807451964,0.10697703325724173,0.1449945655717704,0.0954176175780506,0.11092077923421612,0.15895505963299347,0.10933368831977246,0.12349794993369664,0.10345598006770296,0.1008569850916904,0.10743041274506637,0.09326703151329038,0.10351271733707904,0.13983903896983746,0.10083886976090647,0.1094673862081354,0.12814215258498646,0.096660375609833,0.10879331344239958,0.06570105812259747,0.14310515559024878,0.13553894514165196,0.10394904111259917,0.11026501491269673,0.11863157795718669]},\"hovertemplate\":\"x=%{x}<br>y=%{y}<extra></extra>\",\"legendgroup\":\"\",\"marker\":{\"color\":\"#636efa\",\"symbol\":\"circle\"},\"mode\":\"markers\",\"name\":\"\",\"orientation\":\"v\",\"showlegend\":false,\"x\":[0,1,2,3,4,5,6,7,8,9,10,11,12,13,14,15,16,17,18,19,20,21,22,23,24,25,26,27,28,29,30,31,32,33,34,35,36,37,38,39,40,41,42,43,44,45,46,47,48,49,50,51,52,53,54,55,56,57,58,59,60,61,62,63,64,65,66,67,68,69,70,71,72,73,74,75,76,77,78,79,80,81,82,83,84,85,86,87,88,89,90,91,92,93,94,95,96,97,98,99,100,101,102,103,104,105,106,107,108,109,110,111,112,113,114,115,116,117,118,119,120,121,122,123,124,125,126,127,128,129,130,131,132,133,134,135,136,137,138,139,140,141,142,143,144,145,146,147,148,149,150,151,152,153,154,155,156,157,158,159,160,161,162,163,164,165,166,167,168,169,170,171,172,173,174,175,176,177,178,179,180,181,182,183,184,185,186,187,188,189,190,191,192,193,194,195,196,197,198,199,200,201,202,203,204,205,206,207,208,209,210,211,212,213,214,215,216,217,218,219,220,221,222,223,224,225,226,227,228,229,230,231,232,233,234,235,236,237,238],\"xaxis\":\"x\",\"y\":[-2.5986550568181834,-0.09836653170094277,0.0466914513435238,-0.08032105003639671,0.4012626817339215,-0.06935885146297784,0.027045032349405976,0.11529730320072427,0.10551048202059655,0.05468875839700488,0.0711522445618507,0.020441933124595208,0.04920953737735898,0.1289017230466211,0.037690995749517016,0.08731213404534534,0.18219346990679092,-0.0078165783747909,0.18604157315764241,0.08652151460507698,-0.0979886849677662,0.336113453360719,0.08962292652183784,-0.06770145042142693,0.020347260897285786,0.856857767772724,-0.08958317148000348,0.04096308227819787,0.09473128809475316,0.07266295836688537,0.012400187226270664,-0.04994354248631439,-0.08095651476761805,-0.07615482129519564,0.0076456454217795795,-0.0719315807906681,0.21593498009318,-0.04714994659936329,-0.041784094934249595,-0.08678289726889116,-0.07190755199285047,0.06684512635463159,0.038637954134455824,0.030814844655909116,0.0384630819248459,0.05143901083882189,-0.01856107318123298,-0.058843656039070234,0.01702424809531027,0.001393714952057287,-0.048899998677333585,-0.00402537697596383,0.1042557103514826,-0.024616715991143536,0.029720022364292185,0.02727505377038233,0.047123817316906236,0.08020986128162773,-0.06855470555083866,-0.1612057375673788,0.019448467349623008,-0.07542779119324708,0.03902393211060904,-0.047103636647928944,0.09343293188759422,-0.10258615500649508,0.06472658295969363,-0.030307619125874468,0.04432377038987482,-0.047482992558912966,0.025993116876298555,0.07461104705546988,0.13426667241083826,-0.03182031956071445,-0.09145164431637379,0.013383254397879836,-0.05107445852144631,-0.03450839966046237,-0.0395950127201627,0.1450139823643705,-0.02118204947053214,-0.07023935363955569,-0.04784999021888147,0.066990055519214,-0.018454638635125697,0.09340583200611786,-0.0024213548137061672,0.07649128827092232,0.06943845486083891,-0.06600657415644505,-0.016861496342566975,0.06117992882788047,0.04134845609910365,-0.019720919783373283,-0.05391685650925004,0.03513684969144387,0.018794583350799216,0.004201002168472204,0.005123847433159041,0.009472343723760032,0.0013397896499166087,0.0406791967423991,-0.025237067487543136,-0.13019407532073562,-0.10546698213620266,-0.06642604338604088,-0.01833291311888105,0.0439300772659696,0.023863609664196844,-0.03904719483879187,-0.10862960002606141,-0.07657474769430966,-0.005332159229086778,0.016519325964579158,0.11729537344687421,0.05908116476914643,0.06488955214175979,-0.015461141313221887,-0.12007861127131804,-0.020079317069335686,-0.012656737226951808,0.08391146857491642,-0.044058425932352485,-0.024128886876073532,-0.022954744940742608,-0.04717527260987472,0.031409083358112086,-0.018453327456752752,-0.05786265686735622,-0.06245271916741791,0.03701841026423185,-0.010801951407894408,0.07603482248954006,-0.044095411002614736,-0.017345884833415457,-0.007148044232443758,0.039990094387901326,-0.05170931729315555,0.010235010554069307,0.07725065829185022,-0.02409716948856885,0.02383969622766111,0.12563059514890207,0.0010049063428739533,0.07009046276034327,-0.03434826904042307,0.06126691778898214,-0.07443514430095398,-0.04051885766296995,-0.0771269928534503,0.06629126731850897,0.012132323533211581,-0.04797466383182451,-0.026450036997764294,-0.024039591148874828,-0.1441878188323528,0.0877325131265025,-0.04326455036143929,-0.007381529781004697,-0.021746604373103856,-0.06630737438431626,0.08511263171170406,0.13328053298461975,0.007011121638451327,0.06781256077815513,0.03101044222896365,0.029801908029984177,-0.03000445134740429,-0.10850567112753809,0.09178739997795207,-0.09102516102196816,0.07788304892753503,0.015011007352676076,0.0021578020807024984,0.04503727246209351,0.030643864036829022,-0.03575207091829677,-0.0010799518491215613,0.034270319651139955,0.013707813345553942,0.0058808263127578895,-0.0676712997847776,0.08469266631192449,-0.008926595003184476,0.018933488809819998,-0.036465319553012215,0.013050209155695887,0.022616524175148534,-0.06776622445623602,-0.07354205031315099,0.02628647972701017,0.05746810168834505,0.037172297678597,0.028873428932649818,-0.040475492658121726,0.0762412927250567,0.11213629892695308,-0.010628358247875273,-0.10729864978184218,-0.02609240483296907,0.006260964050238446,0.04300984899508492,-0.010632286341209059,0.052713678994991214,-0.034067524755608286,0.006487876373774398,-0.06963449222619619,0.04607572456371631,0.040939182480343894,0.053588032327618634,-0.05101951928513744,-0.11084884752516445,0.009156667047353578,0.0037319898482045502,0.056028005386833814,-0.004006780843863085,0.10503863634488442,-0.0221650024594515,-0.0004250111620657958,0.03237753561705783,-0.00262259922243831,0.02160538107993348,-0.0015915340473117408,0.0018325330936497604,0.019621780943962754,-0.02677918755137794,0.01970651054436572,0.06472425288567266,0.009956591470004524,-0.03229759908235352,0.012587569098615031,0.028902822229744708,-0.016638136280058932,-0.006323535114292348,-0.08259579929037579,0.03957501261042543,0.05388269562382649,0.05178441303713518,0.0475516392135341],\"yaxis\":\"y\",\"type\":\"scatter\"}],                        {\"template\":{\"data\":{\"histogram2dcontour\":[{\"type\":\"histogram2dcontour\",\"colorbar\":{\"outlinewidth\":0,\"ticks\":\"\"},\"colorscale\":[[0.0,\"#0d0887\"],[0.1111111111111111,\"#46039f\"],[0.2222222222222222,\"#7201a8\"],[0.3333333333333333,\"#9c179e\"],[0.4444444444444444,\"#bd3786\"],[0.5555555555555556,\"#d8576b\"],[0.6666666666666666,\"#ed7953\"],[0.7777777777777778,\"#fb9f3a\"],[0.8888888888888888,\"#fdca26\"],[1.0,\"#f0f921\"]]}],\"choropleth\":[{\"type\":\"choropleth\",\"colorbar\":{\"outlinewidth\":0,\"ticks\":\"\"}}],\"histogram2d\":[{\"type\":\"histogram2d\",\"colorbar\":{\"outlinewidth\":0,\"ticks\":\"\"},\"colorscale\":[[0.0,\"#0d0887\"],[0.1111111111111111,\"#46039f\"],[0.2222222222222222,\"#7201a8\"],[0.3333333333333333,\"#9c179e\"],[0.4444444444444444,\"#bd3786\"],[0.5555555555555556,\"#d8576b\"],[0.6666666666666666,\"#ed7953\"],[0.7777777777777778,\"#fb9f3a\"],[0.8888888888888888,\"#fdca26\"],[1.0,\"#f0f921\"]]}],\"heatmap\":[{\"type\":\"heatmap\",\"colorbar\":{\"outlinewidth\":0,\"ticks\":\"\"},\"colorscale\":[[0.0,\"#0d0887\"],[0.1111111111111111,\"#46039f\"],[0.2222222222222222,\"#7201a8\"],[0.3333333333333333,\"#9c179e\"],[0.4444444444444444,\"#bd3786\"],[0.5555555555555556,\"#d8576b\"],[0.6666666666666666,\"#ed7953\"],[0.7777777777777778,\"#fb9f3a\"],[0.8888888888888888,\"#fdca26\"],[1.0,\"#f0f921\"]]}],\"heatmapgl\":[{\"type\":\"heatmapgl\",\"colorbar\":{\"outlinewidth\":0,\"ticks\":\"\"},\"colorscale\":[[0.0,\"#0d0887\"],[0.1111111111111111,\"#46039f\"],[0.2222222222222222,\"#7201a8\"],[0.3333333333333333,\"#9c179e\"],[0.4444444444444444,\"#bd3786\"],[0.5555555555555556,\"#d8576b\"],[0.6666666666666666,\"#ed7953\"],[0.7777777777777778,\"#fb9f3a\"],[0.8888888888888888,\"#fdca26\"],[1.0,\"#f0f921\"]]}],\"contourcarpet\":[{\"type\":\"contourcarpet\",\"colorbar\":{\"outlinewidth\":0,\"ticks\":\"\"}}],\"contour\":[{\"type\":\"contour\",\"colorbar\":{\"outlinewidth\":0,\"ticks\":\"\"},\"colorscale\":[[0.0,\"#0d0887\"],[0.1111111111111111,\"#46039f\"],[0.2222222222222222,\"#7201a8\"],[0.3333333333333333,\"#9c179e\"],[0.4444444444444444,\"#bd3786\"],[0.5555555555555556,\"#d8576b\"],[0.6666666666666666,\"#ed7953\"],[0.7777777777777778,\"#fb9f3a\"],[0.8888888888888888,\"#fdca26\"],[1.0,\"#f0f921\"]]}],\"surface\":[{\"type\":\"surface\",\"colorbar\":{\"outlinewidth\":0,\"ticks\":\"\"},\"colorscale\":[[0.0,\"#0d0887\"],[0.1111111111111111,\"#46039f\"],[0.2222222222222222,\"#7201a8\"],[0.3333333333333333,\"#9c179e\"],[0.4444444444444444,\"#bd3786\"],[0.5555555555555556,\"#d8576b\"],[0.6666666666666666,\"#ed7953\"],[0.7777777777777778,\"#fb9f3a\"],[0.8888888888888888,\"#fdca26\"],[1.0,\"#f0f921\"]]}],\"mesh3d\":[{\"type\":\"mesh3d\",\"colorbar\":{\"outlinewidth\":0,\"ticks\":\"\"}}],\"scatter\":[{\"fillpattern\":{\"fillmode\":\"overlay\",\"size\":10,\"solidity\":0.2},\"type\":\"scatter\"}],\"parcoords\":[{\"type\":\"parcoords\",\"line\":{\"colorbar\":{\"outlinewidth\":0,\"ticks\":\"\"}}}],\"scatterpolargl\":[{\"type\":\"scatterpolargl\",\"marker\":{\"colorbar\":{\"outlinewidth\":0,\"ticks\":\"\"}}}],\"bar\":[{\"error_x\":{\"color\":\"#2a3f5f\"},\"error_y\":{\"color\":\"#2a3f5f\"},\"marker\":{\"line\":{\"color\":\"#E5ECF6\",\"width\":0.5},\"pattern\":{\"fillmode\":\"overlay\",\"size\":10,\"solidity\":0.2}},\"type\":\"bar\"}],\"scattergeo\":[{\"type\":\"scattergeo\",\"marker\":{\"colorbar\":{\"outlinewidth\":0,\"ticks\":\"\"}}}],\"scatterpolar\":[{\"type\":\"scatterpolar\",\"marker\":{\"colorbar\":{\"outlinewidth\":0,\"ticks\":\"\"}}}],\"histogram\":[{\"marker\":{\"pattern\":{\"fillmode\":\"overlay\",\"size\":10,\"solidity\":0.2}},\"type\":\"histogram\"}],\"scattergl\":[{\"type\":\"scattergl\",\"marker\":{\"colorbar\":{\"outlinewidth\":0,\"ticks\":\"\"}}}],\"scatter3d\":[{\"type\":\"scatter3d\",\"line\":{\"colorbar\":{\"outlinewidth\":0,\"ticks\":\"\"}},\"marker\":{\"colorbar\":{\"outlinewidth\":0,\"ticks\":\"\"}}}],\"scattermapbox\":[{\"type\":\"scattermapbox\",\"marker\":{\"colorbar\":{\"outlinewidth\":0,\"ticks\":\"\"}}}],\"scatterternary\":[{\"type\":\"scatterternary\",\"marker\":{\"colorbar\":{\"outlinewidth\":0,\"ticks\":\"\"}}}],\"scattercarpet\":[{\"type\":\"scattercarpet\",\"marker\":{\"colorbar\":{\"outlinewidth\":0,\"ticks\":\"\"}}}],\"carpet\":[{\"aaxis\":{\"endlinecolor\":\"#2a3f5f\",\"gridcolor\":\"white\",\"linecolor\":\"white\",\"minorgridcolor\":\"white\",\"startlinecolor\":\"#2a3f5f\"},\"baxis\":{\"endlinecolor\":\"#2a3f5f\",\"gridcolor\":\"white\",\"linecolor\":\"white\",\"minorgridcolor\":\"white\",\"startlinecolor\":\"#2a3f5f\"},\"type\":\"carpet\"}],\"table\":[{\"cells\":{\"fill\":{\"color\":\"#EBF0F8\"},\"line\":{\"color\":\"white\"}},\"header\":{\"fill\":{\"color\":\"#C8D4E3\"},\"line\":{\"color\":\"white\"}},\"type\":\"table\"}],\"barpolar\":[{\"marker\":{\"line\":{\"color\":\"#E5ECF6\",\"width\":0.5},\"pattern\":{\"fillmode\":\"overlay\",\"size\":10,\"solidity\":0.2}},\"type\":\"barpolar\"}],\"pie\":[{\"automargin\":true,\"type\":\"pie\"}]},\"layout\":{\"autotypenumbers\":\"strict\",\"colorway\":[\"#636efa\",\"#EF553B\",\"#00cc96\",\"#ab63fa\",\"#FFA15A\",\"#19d3f3\",\"#FF6692\",\"#B6E880\",\"#FF97FF\",\"#FECB52\"],\"font\":{\"color\":\"#2a3f5f\"},\"hovermode\":\"closest\",\"hoverlabel\":{\"align\":\"left\"},\"paper_bgcolor\":\"white\",\"plot_bgcolor\":\"#E5ECF6\",\"polar\":{\"bgcolor\":\"#E5ECF6\",\"angularaxis\":{\"gridcolor\":\"white\",\"linecolor\":\"white\",\"ticks\":\"\"},\"radialaxis\":{\"gridcolor\":\"white\",\"linecolor\":\"white\",\"ticks\":\"\"}},\"ternary\":{\"bgcolor\":\"#E5ECF6\",\"aaxis\":{\"gridcolor\":\"white\",\"linecolor\":\"white\",\"ticks\":\"\"},\"baxis\":{\"gridcolor\":\"white\",\"linecolor\":\"white\",\"ticks\":\"\"},\"caxis\":{\"gridcolor\":\"white\",\"linecolor\":\"white\",\"ticks\":\"\"}},\"coloraxis\":{\"colorbar\":{\"outlinewidth\":0,\"ticks\":\"\"}},\"colorscale\":{\"sequential\":[[0.0,\"#0d0887\"],[0.1111111111111111,\"#46039f\"],[0.2222222222222222,\"#7201a8\"],[0.3333333333333333,\"#9c179e\"],[0.4444444444444444,\"#bd3786\"],[0.5555555555555556,\"#d8576b\"],[0.6666666666666666,\"#ed7953\"],[0.7777777777777778,\"#fb9f3a\"],[0.8888888888888888,\"#fdca26\"],[1.0,\"#f0f921\"]],\"sequentialminus\":[[0.0,\"#0d0887\"],[0.1111111111111111,\"#46039f\"],[0.2222222222222222,\"#7201a8\"],[0.3333333333333333,\"#9c179e\"],[0.4444444444444444,\"#bd3786\"],[0.5555555555555556,\"#d8576b\"],[0.6666666666666666,\"#ed7953\"],[0.7777777777777778,\"#fb9f3a\"],[0.8888888888888888,\"#fdca26\"],[1.0,\"#f0f921\"]],\"diverging\":[[0,\"#8e0152\"],[0.1,\"#c51b7d\"],[0.2,\"#de77ae\"],[0.3,\"#f1b6da\"],[0.4,\"#fde0ef\"],[0.5,\"#f7f7f7\"],[0.6,\"#e6f5d0\"],[0.7,\"#b8e186\"],[0.8,\"#7fbc41\"],[0.9,\"#4d9221\"],[1,\"#276419\"]]},\"xaxis\":{\"gridcolor\":\"white\",\"linecolor\":\"white\",\"ticks\":\"\",\"title\":{\"standoff\":15},\"zerolinecolor\":\"white\",\"automargin\":true,\"zerolinewidth\":2},\"yaxis\":{\"gridcolor\":\"white\",\"linecolor\":\"white\",\"ticks\":\"\",\"title\":{\"standoff\":15},\"zerolinecolor\":\"white\",\"automargin\":true,\"zerolinewidth\":2},\"scene\":{\"xaxis\":{\"backgroundcolor\":\"#E5ECF6\",\"gridcolor\":\"white\",\"linecolor\":\"white\",\"showbackground\":true,\"ticks\":\"\",\"zerolinecolor\":\"white\",\"gridwidth\":2},\"yaxis\":{\"backgroundcolor\":\"#E5ECF6\",\"gridcolor\":\"white\",\"linecolor\":\"white\",\"showbackground\":true,\"ticks\":\"\",\"zerolinecolor\":\"white\",\"gridwidth\":2},\"zaxis\":{\"backgroundcolor\":\"#E5ECF6\",\"gridcolor\":\"white\",\"linecolor\":\"white\",\"showbackground\":true,\"ticks\":\"\",\"zerolinecolor\":\"white\",\"gridwidth\":2}},\"shapedefaults\":{\"line\":{\"color\":\"#2a3f5f\"}},\"annotationdefaults\":{\"arrowcolor\":\"#2a3f5f\",\"arrowhead\":0,\"arrowwidth\":1},\"geo\":{\"bgcolor\":\"white\",\"landcolor\":\"#E5ECF6\",\"subunitcolor\":\"white\",\"showland\":true,\"showlakes\":true,\"lakecolor\":\"white\"},\"title\":{\"x\":0.05},\"mapbox\":{\"style\":\"light\"}}},\"xaxis\":{\"anchor\":\"y\",\"domain\":[0.0,1.0],\"title\":{\"text\":\"Feature number\"}},\"yaxis\":{\"anchor\":\"x\",\"domain\":[0.0,1.0],\"title\":{\"text\":\"Coefficient value\"}},\"legend\":{\"tracegroupgap\":0},\"margin\":{\"t\":60},\"title\":{\"text\":\"alpha = 0.3571521428571429, Rsquared = 0.22218292583322433\"}},                        {\"responsive\": true}                    ).then(function(){\n",
       "                            \n",
       "var gd = document.getElementById('d1f593e9-98a9-47c3-8970-df44f919276e');\n",
       "var x = new MutationObserver(function (mutations, observer) {{\n",
       "        var display = window.getComputedStyle(gd).display;\n",
       "        if (!display || display === 'none') {{\n",
       "            console.log([gd, 'removed!']);\n",
       "            Plotly.purge(gd);\n",
       "            observer.disconnect();\n",
       "        }}\n",
       "}});\n",
       "\n",
       "// Listen for the removal of the full notebook cells\n",
       "var notebookContainer = gd.closest('#notebook-container');\n",
       "if (notebookContainer) {{\n",
       "    x.observe(notebookContainer, {childList: true});\n",
       "}}\n",
       "\n",
       "// Listen for the clearing of the current output cell\n",
       "var outputEl = gd.closest('.output');\n",
       "if (outputEl) {{\n",
       "    x.observe(outputEl, {childList: true});\n",
       "}}\n",
       "\n",
       "                        })                };                });            </script>        </div>"
      ]
     },
     "metadata": {},
     "output_type": "display_data"
    },
    {
     "data": {
      "application/vnd.plotly.v1+json": {
       "config": {
        "plotlyServerURL": "https://plot.ly"
       },
       "data": [
        {
         "error_y": {
          "array": [
           0.29012433720938435,
           0.18746536964676494,
           0.1645672640047889,
           0.16190184093363863,
           0.39761317416006575,
           0.1307023558219308,
           0.14111952894069596,
           0.1742892051181418,
           0.15791757369261009,
           0.14656565693029194,
           0.15012183534281867,
           0.13278024096819155,
           0.1294641131447243,
           0.17811230871101136,
           0.14899046129429191,
           0.17982247707425103,
           0.22051015858410297,
           0.12383421208250442,
           0.2269716789370432,
           0.18453221043933626,
           0.18615269005557794,
           0.3253294800493017,
           0.1601554706407178,
           0.14832099487576,
           0.16185450591582304,
           0.3034361763851917,
           0.16970641765457306,
           0.13608955207367954,
           0.17924691763442352,
           0.1566399715656667,
           0.12775127139945364,
           0.1527525637601858,
           0.1371682390487936,
           0.1323857599507286,
           0.13340468637804687,
           0.14204287475965144,
           0.24945692306255846,
           0.1803192289199874,
           0.1460920163273101,
           0.13642347358592577,
           0.11824275794960315,
           0.13365162154768928,
           0.12929997451877367,
           0.1380617659397127,
           0.13088982637891713,
           0.13818004243773802,
           0.09651112277226244,
           0.119082194670146,
           0.0825414755915039,
           0.13608259577810738,
           0.15106834951509845,
           0.11095668549819701,
           0.16734763172670988,
           0.11086794117411952,
           0.1167229069133355,
           0.13068100078366657,
           0.12407321141916838,
           0.14947172434274686,
           0.11915978053839632,
           0.20908029275660728,
           0.13196057531571567,
           0.1510729577775281,
           0.1114774676333824,
           0.12105743588678078,
           0.13430798231042693,
           0.16879892885891715,
           0.16330470564543667,
           0.10753159634233633,
           0.13581009064260974,
           0.14458820617107151,
           0.13101389597833654,
           0.12215382412394281,
           0.16669063586556263,
           0.12985141902388317,
           0.12850591218439525,
           0.10560396525859388,
           0.12804969551313597,
           0.09479456359036019,
           0.09634950747277524,
           0.17265826903257872,
           0.12795274664245376,
           0.13996211006752218,
           0.11976306104416856,
           0.12843518301531567,
           0.1321383649777019,
           0.1360980394684047,
           0.10628451113796589,
           0.13870900257679203,
           0.12804799965813707,
           0.13564531142444355,
           0.125210655307511,
           0.12239278581543563,
           0.10735694300247275,
           0.15956817611619634,
           0.12254971918451864,
           0.13214060084644513,
           0.1133829408114037,
           0.1340588133262907,
           0.1095478186996148,
           0.10910924508592852,
           0.10803002830553098,
           0.12235797929627888,
           0.09875936177557718,
           0.1814708004995207,
           0.1460413691380034,
           0.1402272629931541,
           0.09647007567745361,
           0.14025409558598423,
           0.11559316105328532,
           0.10260784735495121,
           0.14221972306502087,
           0.12816987301165442,
           0.0859923230842787,
           0.09452339622715873,
           0.14498792233360516,
           0.12573610393572218,
           0.1355124291758633,
           0.1429835107351824,
           0.15509209568499016,
           0.08489636444686867,
           0.11295421191622738,
           0.13867174231365267,
           0.12171856625652375,
           0.10538550087522076,
           0.12321489035675776,
           0.12746440958784142,
           0.11081028496482712,
           0.09113315323084989,
           0.11289661350983833,
           0.12507111890745998,
           0.12156157952462442,
           0.09608527595049196,
           0.12275079578727456,
           0.11844769441314892,
           0.1010314305190322,
           0.09725065827351972,
           0.1274843113615092,
           0.1113804003224532,
           0.1071562510683971,
           0.15732684262996852,
           0.11504648605033123,
           0.12831476361443195,
           0.15892828710948173,
           0.11709914960940754,
           0.13203728609828427,
           0.11424390470137785,
           0.11970828553320038,
           0.10629508410857295,
           0.11111489309147607,
           0.12995335582622358,
           0.12289017026356573,
           0.0952768575069056,
           0.13033443676511225,
           0.1027997150223405,
           0.10480920752155727,
           0.1754967769297902,
           0.1712858553810892,
           0.12415984920809667,
           0.09355830622873386,
           0.07716563748153325,
           0.13125682025965346,
           0.1321207667953215,
           0.15675895356228184,
           0.08630174613622575,
           0.15560758064091326,
           0.11494861016298963,
           0.11663743978107244,
           0.1051487700213228,
           0.15886518827156773,
           0.12926187787345617,
           0.1421609032260905,
           0.1269835714575015,
           0.10626950527537407,
           0.10878501406593523,
           0.10035345341237296,
           0.0888660176181367,
           0.0943814436989181,
           0.09237039255134413,
           0.10130886387356879,
           0.1156717962478844,
           0.13341211519790505,
           0.10785357353087852,
           0.12961716117316727,
           0.10501099683739704,
           0.08541454201181062,
           0.10872848804200802,
           0.08953341334517292,
           0.10852126337883693,
           0.10598585364951622,
           0.11433447869811562,
           0.09578645532690762,
           0.09588828186092127,
           0.1107305369481262,
           0.08204093131960713,
           0.09495291497630884,
           0.12141849333803846,
           0.1473328959132462,
           0.0917185533197712,
           0.1489979573509927,
           0.10182423361081615,
           0.09444943335133343,
           0.10305925159539192,
           0.10432232531483931,
           0.10930542369735743,
           0.11234431455992547,
           0.08666246259198125,
           0.11483926081061693,
           0.09789569356190579,
           0.10563264920355264,
           0.10809539974465165,
           0.11532462775358387,
           0.14555795081772177,
           0.10314570372991688,
           0.1022818119138612,
           0.11062895824289377,
           0.0873668017629525,
           0.12832544327367376,
           0.07860570034014776,
           0.09056923012092388,
           0.13656113597079989,
           0.08941291430758848,
           0.1013538792632908,
           0.08447697191213908,
           0.08235391443558923,
           0.08935998569943078,
           0.07719145374085025,
           0.08504957979841118,
           0.11851327503083857,
           0.08363931577732894,
           0.09067232047515979,
           0.1049539633511013,
           0.08009030704557663,
           0.08917496251528022,
           0.0537274484197356,
           0.12316143221167919,
           0.11231852194282649,
           0.08903074743648151,
           0.09328182623365971,
           0.09942158655581836
          ]
         },
         "hovertemplate": "x=%{x}<br>y=%{y}<extra></extra>",
         "legendgroup": "",
         "marker": {
          "color": "#636efa",
          "symbol": "circle"
         },
         "mode": "markers",
         "name": "",
         "orientation": "v",
         "showlegend": false,
         "type": "scatter",
         "x": [
          0,
          1,
          2,
          3,
          4,
          5,
          6,
          7,
          8,
          9,
          10,
          11,
          12,
          13,
          14,
          15,
          16,
          17,
          18,
          19,
          20,
          21,
          22,
          23,
          24,
          25,
          26,
          27,
          28,
          29,
          30,
          31,
          32,
          33,
          34,
          35,
          36,
          37,
          38,
          39,
          40,
          41,
          42,
          43,
          44,
          45,
          46,
          47,
          48,
          49,
          50,
          51,
          52,
          53,
          54,
          55,
          56,
          57,
          58,
          59,
          60,
          61,
          62,
          63,
          64,
          65,
          66,
          67,
          68,
          69,
          70,
          71,
          72,
          73,
          74,
          75,
          76,
          77,
          78,
          79,
          80,
          81,
          82,
          83,
          84,
          85,
          86,
          87,
          88,
          89,
          90,
          91,
          92,
          93,
          94,
          95,
          96,
          97,
          98,
          99,
          100,
          101,
          102,
          103,
          104,
          105,
          106,
          107,
          108,
          109,
          110,
          111,
          112,
          113,
          114,
          115,
          116,
          117,
          118,
          119,
          120,
          121,
          122,
          123,
          124,
          125,
          126,
          127,
          128,
          129,
          130,
          131,
          132,
          133,
          134,
          135,
          136,
          137,
          138,
          139,
          140,
          141,
          142,
          143,
          144,
          145,
          146,
          147,
          148,
          149,
          150,
          151,
          152,
          153,
          154,
          155,
          156,
          157,
          158,
          159,
          160,
          161,
          162,
          163,
          164,
          165,
          166,
          167,
          168,
          169,
          170,
          171,
          172,
          173,
          174,
          175,
          176,
          177,
          178,
          179,
          180,
          181,
          182,
          183,
          184,
          185,
          186,
          187,
          188,
          189,
          190,
          191,
          192,
          193,
          194,
          195,
          196,
          197,
          198,
          199,
          200,
          201,
          202,
          203,
          204,
          205,
          206,
          207,
          208,
          209,
          210,
          211,
          212,
          213,
          214,
          215,
          216,
          217,
          218,
          219,
          220,
          221,
          222,
          223,
          224,
          225,
          226,
          227,
          228,
          229,
          230,
          231,
          232,
          233,
          234,
          235,
          236,
          237,
          238
         ],
         "xaxis": "x",
         "y": [
          -2.604516818181817,
          -0.06557768780062852,
          0.031127634229015867,
          -0.053547366690931145,
          0.2737206366285998,
          -0.04623923430865189,
          0.018008267326874914,
          0.07686486880048285,
          0.07034032134706437,
          0.03656377976581748,
          0.047434829707900465,
          0.013631988671885477,
          0.03280635825157266,
          0.08598719944289332,
          0.02515727986674884,
          0.05820808936356355,
          0.12370955669340154,
          -0.0052110522498606,
          0.12437403645991761,
          0.058004244127837494,
          -0.06568669630431434,
          0.23877711480697963,
          0.059748617681225226,
          -0.045134300280951285,
          0.013645955406029378,
          0.8003965616764689,
          -0.05963432682418709,
          0.02887967200929665,
          0.0632001345370677,
          0.04843260456988182,
          0.008259083399821694,
          -0.03323133921390614,
          -0.053971009845078695,
          -0.05076988086346376,
          0.005097096947853053,
          -0.04795438719377873,
          0.14395665339545333,
          -0.031396717581030166,
          -0.027928980993296104,
          -0.05785526484592744,
          -0.04782771795038389,
          0.04456341756975439,
          0.02598734900544884,
          0.02049073727363106,
          0.027577507406322112,
          0.03470089833375927,
          -0.012374048787488654,
          -0.03946209262459918,
          0.011320939437626163,
          0.0006881939878524777,
          -0.03266397550487233,
          -0.0026835846506425534,
          0.06950783800602889,
          -0.0164292178835021,
          0.019986629572081624,
          0.018276153074258544,
          0.03141587821127082,
          0.053474430788364884,
          -0.04570313703389244,
          -0.10775745931115621,
          0.012988949146761932,
          -0.05022623808666825,
          0.026015954740406026,
          -0.03140242443195263,
          0.06228862125839615,
          -0.0683641649901993,
          0.04315105530646242,
          -0.020205079417249645,
          0.029493701470719703,
          -0.03210401538234426,
          0.01739977026340944,
          0.04976025284736126,
          0.08963025279422325,
          -0.021360545301296704,
          -0.06096776287758252,
          0.0088961748719983,
          -0.03431791552956429,
          -0.023005599773641576,
          -0.02639667514677513,
          0.09682939319866278,
          -0.014359147506531863,
          -0.046826235759703794,
          -0.03197323278021983,
          0.04467192432398328,
          -0.01237130354728923,
          0.06227055467074524,
          -0.0016142365424707782,
          0.05096816867891109,
          0.046367280449513514,
          -0.04417131555449669,
          -0.011273553397298179,
          0.047696206056451626,
          0.027565637399402435,
          -0.012727926852774666,
          -0.036843775613559525,
          0.02340138758110523,
          0.012529722233866144,
          0.002777147109948836,
          0.003415898288772694,
          0.006489036064228983,
          0.0008931930999444057,
          0.027644626259390823,
          -0.01682471165836209,
          -0.08679605021382375,
          -0.07031132142413511,
          -0.04746374202316169,
          -0.012221942079254032,
          0.029286718177313067,
          0.01590907310946456,
          -0.026031463225861244,
          -0.07510420676145604,
          -0.0509800373055503,
          -0.0035547728193911854,
          0.011012883976386105,
          0.07827943868441102,
          0.039403656620467,
          0.04372374459857371,
          -0.010292411966442615,
          -0.08005240751421203,
          -0.013386211379557124,
          -0.008437824817967872,
          0.05594387542085142,
          -0.028588704847157816,
          -0.016085924584049022,
          -0.015303163293828404,
          -0.03150196617345517,
          0.020939388905408057,
          -0.012340291102348726,
          -0.04097813801016741,
          -0.041561819266224986,
          0.025902570673366664,
          -0.007201300938596273,
          0.05064253459758944,
          -0.029544093837320384,
          -0.011563923222276971,
          -0.004765362821629172,
          0.026705588947806273,
          -0.03447287819543703,
          0.006939884955504784,
          0.05186239438407375,
          -0.016087275967674917,
          0.01564820151149334,
          0.08383654452564539,
          0.00065665309245057,
          0.04715356214137421,
          -0.022898846026948715,
          0.04098250935933075,
          -0.04962342953396932,
          -0.0270125717753133,
          -0.051417995235633535,
          0.04421655149460136,
          0.00808821568880772,
          -0.032321407532678974,
          -0.017633357998509527,
          -0.016064826571649923,
          -0.09612521255490188,
          0.08588426011766158,
          -0.02999534204955629,
          -0.004921019854003132,
          -0.014497736248735904,
          -0.04420491625621084,
          0.059528043010284144,
          0.0895546649942874,
          0.0046798767835385694,
          0.06774977361978678,
          0.02080714537221152,
          0.01984508601891367,
          -0.020002967564936195,
          -0.07290519455622442,
          0.06119159998530138,
          -0.06057045061565406,
          0.052542614063272194,
          0.010007338235117385,
          0.0015603162929921858,
          0.030024848308062343,
          0.02042924269121935,
          -0.023834713945531178,
          -0.0007199678994143741,
          0.022886055213401073,
          0.009167788717419625,
          0.006055760672078666,
          -0.04511419985651839,
          0.056575130806314176,
          -0.005951063335456317,
          0.012622325873213332,
          -0.02429688585895907,
          0.008711397473836134,
          0.01779135103930414,
          -0.04507181974462857,
          -0.04901151398185251,
          0.017524319818006777,
          0.038326999299372805,
          0.02580923806380312,
          0.021387741952258336,
          -0.026983661772081148,
          0.05078652294190424,
          0.07480238415249275,
          -0.007085572165250182,
          -0.07301907532916815,
          -0.01626182657455027,
          0.004173976033492297,
          0.028673232663389947,
          -0.007357547139286407,
          0.035142452663327474,
          -0.022711683170405526,
          0.0043252509158495985,
          -0.0458451008777556,
          0.03082959027736365,
          0.027292788320229265,
          0.0358524978041449,
          -0.037369919798390785,
          -0.07405817219683808,
          0.006112307140060278,
          0.0024040700224109584,
          0.03749000248194676,
          -0.002671187229242057,
          0.07002575756325628,
          -0.014776668306301,
          -0.0003079465501344535,
          0.0291259365906451,
          -0.001652433851131975,
          0.014401731518179825,
          -0.0010502730922614567,
          0.0012216887290998403,
          0.013928182502501446,
          -0.01785279170091863,
          0.013178273861675608,
          0.044082610395623126,
          0.007215830584987095,
          -0.021519958052908572,
          0.00828928462312105,
          0.01926854815316314,
          -0.011092090853372623,
          -0.004215690076194899,
          -0.05506386619358386,
          0.026271938528937472,
          0.03669795680414354,
          0.03452294202475679,
          0.03171996072314103
         ],
         "yaxis": "y"
        }
       ],
       "layout": {
        "legend": {
         "tracegroupgap": 0
        },
        "margin": {
         "t": 60
        },
        "template": {
         "data": {
          "bar": [
           {
            "error_x": {
             "color": "#2a3f5f"
            },
            "error_y": {
             "color": "#2a3f5f"
            },
            "marker": {
             "line": {
              "color": "#E5ECF6",
              "width": 0.5
             },
             "pattern": {
              "fillmode": "overlay",
              "size": 10,
              "solidity": 0.2
             }
            },
            "type": "bar"
           }
          ],
          "barpolar": [
           {
            "marker": {
             "line": {
              "color": "#E5ECF6",
              "width": 0.5
             },
             "pattern": {
              "fillmode": "overlay",
              "size": 10,
              "solidity": 0.2
             }
            },
            "type": "barpolar"
           }
          ],
          "carpet": [
           {
            "aaxis": {
             "endlinecolor": "#2a3f5f",
             "gridcolor": "white",
             "linecolor": "white",
             "minorgridcolor": "white",
             "startlinecolor": "#2a3f5f"
            },
            "baxis": {
             "endlinecolor": "#2a3f5f",
             "gridcolor": "white",
             "linecolor": "white",
             "minorgridcolor": "white",
             "startlinecolor": "#2a3f5f"
            },
            "type": "carpet"
           }
          ],
          "choropleth": [
           {
            "colorbar": {
             "outlinewidth": 0,
             "ticks": ""
            },
            "type": "choropleth"
           }
          ],
          "contour": [
           {
            "colorbar": {
             "outlinewidth": 0,
             "ticks": ""
            },
            "colorscale": [
             [
              0,
              "#0d0887"
             ],
             [
              0.1111111111111111,
              "#46039f"
             ],
             [
              0.2222222222222222,
              "#7201a8"
             ],
             [
              0.3333333333333333,
              "#9c179e"
             ],
             [
              0.4444444444444444,
              "#bd3786"
             ],
             [
              0.5555555555555556,
              "#d8576b"
             ],
             [
              0.6666666666666666,
              "#ed7953"
             ],
             [
              0.7777777777777778,
              "#fb9f3a"
             ],
             [
              0.8888888888888888,
              "#fdca26"
             ],
             [
              1,
              "#f0f921"
             ]
            ],
            "type": "contour"
           }
          ],
          "contourcarpet": [
           {
            "colorbar": {
             "outlinewidth": 0,
             "ticks": ""
            },
            "type": "contourcarpet"
           }
          ],
          "heatmap": [
           {
            "colorbar": {
             "outlinewidth": 0,
             "ticks": ""
            },
            "colorscale": [
             [
              0,
              "#0d0887"
             ],
             [
              0.1111111111111111,
              "#46039f"
             ],
             [
              0.2222222222222222,
              "#7201a8"
             ],
             [
              0.3333333333333333,
              "#9c179e"
             ],
             [
              0.4444444444444444,
              "#bd3786"
             ],
             [
              0.5555555555555556,
              "#d8576b"
             ],
             [
              0.6666666666666666,
              "#ed7953"
             ],
             [
              0.7777777777777778,
              "#fb9f3a"
             ],
             [
              0.8888888888888888,
              "#fdca26"
             ],
             [
              1,
              "#f0f921"
             ]
            ],
            "type": "heatmap"
           }
          ],
          "heatmapgl": [
           {
            "colorbar": {
             "outlinewidth": 0,
             "ticks": ""
            },
            "colorscale": [
             [
              0,
              "#0d0887"
             ],
             [
              0.1111111111111111,
              "#46039f"
             ],
             [
              0.2222222222222222,
              "#7201a8"
             ],
             [
              0.3333333333333333,
              "#9c179e"
             ],
             [
              0.4444444444444444,
              "#bd3786"
             ],
             [
              0.5555555555555556,
              "#d8576b"
             ],
             [
              0.6666666666666666,
              "#ed7953"
             ],
             [
              0.7777777777777778,
              "#fb9f3a"
             ],
             [
              0.8888888888888888,
              "#fdca26"
             ],
             [
              1,
              "#f0f921"
             ]
            ],
            "type": "heatmapgl"
           }
          ],
          "histogram": [
           {
            "marker": {
             "pattern": {
              "fillmode": "overlay",
              "size": 10,
              "solidity": 0.2
             }
            },
            "type": "histogram"
           }
          ],
          "histogram2d": [
           {
            "colorbar": {
             "outlinewidth": 0,
             "ticks": ""
            },
            "colorscale": [
             [
              0,
              "#0d0887"
             ],
             [
              0.1111111111111111,
              "#46039f"
             ],
             [
              0.2222222222222222,
              "#7201a8"
             ],
             [
              0.3333333333333333,
              "#9c179e"
             ],
             [
              0.4444444444444444,
              "#bd3786"
             ],
             [
              0.5555555555555556,
              "#d8576b"
             ],
             [
              0.6666666666666666,
              "#ed7953"
             ],
             [
              0.7777777777777778,
              "#fb9f3a"
             ],
             [
              0.8888888888888888,
              "#fdca26"
             ],
             [
              1,
              "#f0f921"
             ]
            ],
            "type": "histogram2d"
           }
          ],
          "histogram2dcontour": [
           {
            "colorbar": {
             "outlinewidth": 0,
             "ticks": ""
            },
            "colorscale": [
             [
              0,
              "#0d0887"
             ],
             [
              0.1111111111111111,
              "#46039f"
             ],
             [
              0.2222222222222222,
              "#7201a8"
             ],
             [
              0.3333333333333333,
              "#9c179e"
             ],
             [
              0.4444444444444444,
              "#bd3786"
             ],
             [
              0.5555555555555556,
              "#d8576b"
             ],
             [
              0.6666666666666666,
              "#ed7953"
             ],
             [
              0.7777777777777778,
              "#fb9f3a"
             ],
             [
              0.8888888888888888,
              "#fdca26"
             ],
             [
              1,
              "#f0f921"
             ]
            ],
            "type": "histogram2dcontour"
           }
          ],
          "mesh3d": [
           {
            "colorbar": {
             "outlinewidth": 0,
             "ticks": ""
            },
            "type": "mesh3d"
           }
          ],
          "parcoords": [
           {
            "line": {
             "colorbar": {
              "outlinewidth": 0,
              "ticks": ""
             }
            },
            "type": "parcoords"
           }
          ],
          "pie": [
           {
            "automargin": true,
            "type": "pie"
           }
          ],
          "scatter": [
           {
            "fillpattern": {
             "fillmode": "overlay",
             "size": 10,
             "solidity": 0.2
            },
            "type": "scatter"
           }
          ],
          "scatter3d": [
           {
            "line": {
             "colorbar": {
              "outlinewidth": 0,
              "ticks": ""
             }
            },
            "marker": {
             "colorbar": {
              "outlinewidth": 0,
              "ticks": ""
             }
            },
            "type": "scatter3d"
           }
          ],
          "scattercarpet": [
           {
            "marker": {
             "colorbar": {
              "outlinewidth": 0,
              "ticks": ""
             }
            },
            "type": "scattercarpet"
           }
          ],
          "scattergeo": [
           {
            "marker": {
             "colorbar": {
              "outlinewidth": 0,
              "ticks": ""
             }
            },
            "type": "scattergeo"
           }
          ],
          "scattergl": [
           {
            "marker": {
             "colorbar": {
              "outlinewidth": 0,
              "ticks": ""
             }
            },
            "type": "scattergl"
           }
          ],
          "scattermapbox": [
           {
            "marker": {
             "colorbar": {
              "outlinewidth": 0,
              "ticks": ""
             }
            },
            "type": "scattermapbox"
           }
          ],
          "scatterpolar": [
           {
            "marker": {
             "colorbar": {
              "outlinewidth": 0,
              "ticks": ""
             }
            },
            "type": "scatterpolar"
           }
          ],
          "scatterpolargl": [
           {
            "marker": {
             "colorbar": {
              "outlinewidth": 0,
              "ticks": ""
             }
            },
            "type": "scatterpolargl"
           }
          ],
          "scatterternary": [
           {
            "marker": {
             "colorbar": {
              "outlinewidth": 0,
              "ticks": ""
             }
            },
            "type": "scatterternary"
           }
          ],
          "surface": [
           {
            "colorbar": {
             "outlinewidth": 0,
             "ticks": ""
            },
            "colorscale": [
             [
              0,
              "#0d0887"
             ],
             [
              0.1111111111111111,
              "#46039f"
             ],
             [
              0.2222222222222222,
              "#7201a8"
             ],
             [
              0.3333333333333333,
              "#9c179e"
             ],
             [
              0.4444444444444444,
              "#bd3786"
             ],
             [
              0.5555555555555556,
              "#d8576b"
             ],
             [
              0.6666666666666666,
              "#ed7953"
             ],
             [
              0.7777777777777778,
              "#fb9f3a"
             ],
             [
              0.8888888888888888,
              "#fdca26"
             ],
             [
              1,
              "#f0f921"
             ]
            ],
            "type": "surface"
           }
          ],
          "table": [
           {
            "cells": {
             "fill": {
              "color": "#EBF0F8"
             },
             "line": {
              "color": "white"
             }
            },
            "header": {
             "fill": {
              "color": "#C8D4E3"
             },
             "line": {
              "color": "white"
             }
            },
            "type": "table"
           }
          ]
         },
         "layout": {
          "annotationdefaults": {
           "arrowcolor": "#2a3f5f",
           "arrowhead": 0,
           "arrowwidth": 1
          },
          "autotypenumbers": "strict",
          "coloraxis": {
           "colorbar": {
            "outlinewidth": 0,
            "ticks": ""
           }
          },
          "colorscale": {
           "diverging": [
            [
             0,
             "#8e0152"
            ],
            [
             0.1,
             "#c51b7d"
            ],
            [
             0.2,
             "#de77ae"
            ],
            [
             0.3,
             "#f1b6da"
            ],
            [
             0.4,
             "#fde0ef"
            ],
            [
             0.5,
             "#f7f7f7"
            ],
            [
             0.6,
             "#e6f5d0"
            ],
            [
             0.7,
             "#b8e186"
            ],
            [
             0.8,
             "#7fbc41"
            ],
            [
             0.9,
             "#4d9221"
            ],
            [
             1,
             "#276419"
            ]
           ],
           "sequential": [
            [
             0,
             "#0d0887"
            ],
            [
             0.1111111111111111,
             "#46039f"
            ],
            [
             0.2222222222222222,
             "#7201a8"
            ],
            [
             0.3333333333333333,
             "#9c179e"
            ],
            [
             0.4444444444444444,
             "#bd3786"
            ],
            [
             0.5555555555555556,
             "#d8576b"
            ],
            [
             0.6666666666666666,
             "#ed7953"
            ],
            [
             0.7777777777777778,
             "#fb9f3a"
            ],
            [
             0.8888888888888888,
             "#fdca26"
            ],
            [
             1,
             "#f0f921"
            ]
           ],
           "sequentialminus": [
            [
             0,
             "#0d0887"
            ],
            [
             0.1111111111111111,
             "#46039f"
            ],
            [
             0.2222222222222222,
             "#7201a8"
            ],
            [
             0.3333333333333333,
             "#9c179e"
            ],
            [
             0.4444444444444444,
             "#bd3786"
            ],
            [
             0.5555555555555556,
             "#d8576b"
            ],
            [
             0.6666666666666666,
             "#ed7953"
            ],
            [
             0.7777777777777778,
             "#fb9f3a"
            ],
            [
             0.8888888888888888,
             "#fdca26"
            ],
            [
             1,
             "#f0f921"
            ]
           ]
          },
          "colorway": [
           "#636efa",
           "#EF553B",
           "#00cc96",
           "#ab63fa",
           "#FFA15A",
           "#19d3f3",
           "#FF6692",
           "#B6E880",
           "#FF97FF",
           "#FECB52"
          ],
          "font": {
           "color": "#2a3f5f"
          },
          "geo": {
           "bgcolor": "white",
           "lakecolor": "white",
           "landcolor": "#E5ECF6",
           "showlakes": true,
           "showland": true,
           "subunitcolor": "white"
          },
          "hoverlabel": {
           "align": "left"
          },
          "hovermode": "closest",
          "mapbox": {
           "style": "light"
          },
          "paper_bgcolor": "white",
          "plot_bgcolor": "#E5ECF6",
          "polar": {
           "angularaxis": {
            "gridcolor": "white",
            "linecolor": "white",
            "ticks": ""
           },
           "bgcolor": "#E5ECF6",
           "radialaxis": {
            "gridcolor": "white",
            "linecolor": "white",
            "ticks": ""
           }
          },
          "scene": {
           "xaxis": {
            "backgroundcolor": "#E5ECF6",
            "gridcolor": "white",
            "gridwidth": 2,
            "linecolor": "white",
            "showbackground": true,
            "ticks": "",
            "zerolinecolor": "white"
           },
           "yaxis": {
            "backgroundcolor": "#E5ECF6",
            "gridcolor": "white",
            "gridwidth": 2,
            "linecolor": "white",
            "showbackground": true,
            "ticks": "",
            "zerolinecolor": "white"
           },
           "zaxis": {
            "backgroundcolor": "#E5ECF6",
            "gridcolor": "white",
            "gridwidth": 2,
            "linecolor": "white",
            "showbackground": true,
            "ticks": "",
            "zerolinecolor": "white"
           }
          },
          "shapedefaults": {
           "line": {
            "color": "#2a3f5f"
           }
          },
          "ternary": {
           "aaxis": {
            "gridcolor": "white",
            "linecolor": "white",
            "ticks": ""
           },
           "baxis": {
            "gridcolor": "white",
            "linecolor": "white",
            "ticks": ""
           },
           "bgcolor": "#E5ECF6",
           "caxis": {
            "gridcolor": "white",
            "linecolor": "white",
            "ticks": ""
           }
          },
          "title": {
           "x": 0.05
          },
          "xaxis": {
           "automargin": true,
           "gridcolor": "white",
           "linecolor": "white",
           "ticks": "",
           "title": {
            "standoff": 15
           },
           "zerolinecolor": "white",
           "zerolinewidth": 2
          },
          "yaxis": {
           "automargin": true,
           "gridcolor": "white",
           "linecolor": "white",
           "ticks": "",
           "title": {
            "standoff": 15
           },
           "zerolinecolor": "white",
           "zerolinewidth": 2
          }
         }
        },
        "title": {
         "text": "alpha = 0.7142942857142858, Rsquared = 0.20923218239243965"
        },
        "xaxis": {
         "anchor": "y",
         "domain": [
          0,
          1
         ],
         "title": {
          "text": "Feature number"
         }
        },
        "yaxis": {
         "anchor": "x",
         "domain": [
          0,
          1
         ],
         "title": {
          "text": "Coefficient value"
         }
        }
       }
      },
      "text/html": [
       "<div>                            <div id=\"d156957c-e5a0-4188-9a79-f250f68bb156\" class=\"plotly-graph-div\" style=\"height:525px; width:100%;\"></div>            <script type=\"text/javascript\">                require([\"plotly\"], function(Plotly) {                    window.PLOTLYENV=window.PLOTLYENV || {};                                    if (document.getElementById(\"d156957c-e5a0-4188-9a79-f250f68bb156\")) {                    Plotly.newPlot(                        \"d156957c-e5a0-4188-9a79-f250f68bb156\",                        [{\"error_y\":{\"array\":[0.29012433720938435,0.18746536964676494,0.1645672640047889,0.16190184093363863,0.39761317416006575,0.1307023558219308,0.14111952894069596,0.1742892051181418,0.15791757369261009,0.14656565693029194,0.15012183534281867,0.13278024096819155,0.1294641131447243,0.17811230871101136,0.14899046129429191,0.17982247707425103,0.22051015858410297,0.12383421208250442,0.2269716789370432,0.18453221043933626,0.18615269005557794,0.3253294800493017,0.1601554706407178,0.14832099487576,0.16185450591582304,0.3034361763851917,0.16970641765457306,0.13608955207367954,0.17924691763442352,0.1566399715656667,0.12775127139945364,0.1527525637601858,0.1371682390487936,0.1323857599507286,0.13340468637804687,0.14204287475965144,0.24945692306255846,0.1803192289199874,0.1460920163273101,0.13642347358592577,0.11824275794960315,0.13365162154768928,0.12929997451877367,0.1380617659397127,0.13088982637891713,0.13818004243773802,0.09651112277226244,0.119082194670146,0.0825414755915039,0.13608259577810738,0.15106834951509845,0.11095668549819701,0.16734763172670988,0.11086794117411952,0.1167229069133355,0.13068100078366657,0.12407321141916838,0.14947172434274686,0.11915978053839632,0.20908029275660728,0.13196057531571567,0.1510729577775281,0.1114774676333824,0.12105743588678078,0.13430798231042693,0.16879892885891715,0.16330470564543667,0.10753159634233633,0.13581009064260974,0.14458820617107151,0.13101389597833654,0.12215382412394281,0.16669063586556263,0.12985141902388317,0.12850591218439525,0.10560396525859388,0.12804969551313597,0.09479456359036019,0.09634950747277524,0.17265826903257872,0.12795274664245376,0.13996211006752218,0.11976306104416856,0.12843518301531567,0.1321383649777019,0.1360980394684047,0.10628451113796589,0.13870900257679203,0.12804799965813707,0.13564531142444355,0.125210655307511,0.12239278581543563,0.10735694300247275,0.15956817611619634,0.12254971918451864,0.13214060084644513,0.1133829408114037,0.1340588133262907,0.1095478186996148,0.10910924508592852,0.10803002830553098,0.12235797929627888,0.09875936177557718,0.1814708004995207,0.1460413691380034,0.1402272629931541,0.09647007567745361,0.14025409558598423,0.11559316105328532,0.10260784735495121,0.14221972306502087,0.12816987301165442,0.0859923230842787,0.09452339622715873,0.14498792233360516,0.12573610393572218,0.1355124291758633,0.1429835107351824,0.15509209568499016,0.08489636444686867,0.11295421191622738,0.13867174231365267,0.12171856625652375,0.10538550087522076,0.12321489035675776,0.12746440958784142,0.11081028496482712,0.09113315323084989,0.11289661350983833,0.12507111890745998,0.12156157952462442,0.09608527595049196,0.12275079578727456,0.11844769441314892,0.1010314305190322,0.09725065827351972,0.1274843113615092,0.1113804003224532,0.1071562510683971,0.15732684262996852,0.11504648605033123,0.12831476361443195,0.15892828710948173,0.11709914960940754,0.13203728609828427,0.11424390470137785,0.11970828553320038,0.10629508410857295,0.11111489309147607,0.12995335582622358,0.12289017026356573,0.0952768575069056,0.13033443676511225,0.1027997150223405,0.10480920752155727,0.1754967769297902,0.1712858553810892,0.12415984920809667,0.09355830622873386,0.07716563748153325,0.13125682025965346,0.1321207667953215,0.15675895356228184,0.08630174613622575,0.15560758064091326,0.11494861016298963,0.11663743978107244,0.1051487700213228,0.15886518827156773,0.12926187787345617,0.1421609032260905,0.1269835714575015,0.10626950527537407,0.10878501406593523,0.10035345341237296,0.0888660176181367,0.0943814436989181,0.09237039255134413,0.10130886387356879,0.1156717962478844,0.13341211519790505,0.10785357353087852,0.12961716117316727,0.10501099683739704,0.08541454201181062,0.10872848804200802,0.08953341334517292,0.10852126337883693,0.10598585364951622,0.11433447869811562,0.09578645532690762,0.09588828186092127,0.1107305369481262,0.08204093131960713,0.09495291497630884,0.12141849333803846,0.1473328959132462,0.0917185533197712,0.1489979573509927,0.10182423361081615,0.09444943335133343,0.10305925159539192,0.10432232531483931,0.10930542369735743,0.11234431455992547,0.08666246259198125,0.11483926081061693,0.09789569356190579,0.10563264920355264,0.10809539974465165,0.11532462775358387,0.14555795081772177,0.10314570372991688,0.1022818119138612,0.11062895824289377,0.0873668017629525,0.12832544327367376,0.07860570034014776,0.09056923012092388,0.13656113597079989,0.08941291430758848,0.1013538792632908,0.08447697191213908,0.08235391443558923,0.08935998569943078,0.07719145374085025,0.08504957979841118,0.11851327503083857,0.08363931577732894,0.09067232047515979,0.1049539633511013,0.08009030704557663,0.08917496251528022,0.0537274484197356,0.12316143221167919,0.11231852194282649,0.08903074743648151,0.09328182623365971,0.09942158655581836]},\"hovertemplate\":\"x=%{x}<br>y=%{y}<extra></extra>\",\"legendgroup\":\"\",\"marker\":{\"color\":\"#636efa\",\"symbol\":\"circle\"},\"mode\":\"markers\",\"name\":\"\",\"orientation\":\"v\",\"showlegend\":false,\"x\":[0,1,2,3,4,5,6,7,8,9,10,11,12,13,14,15,16,17,18,19,20,21,22,23,24,25,26,27,28,29,30,31,32,33,34,35,36,37,38,39,40,41,42,43,44,45,46,47,48,49,50,51,52,53,54,55,56,57,58,59,60,61,62,63,64,65,66,67,68,69,70,71,72,73,74,75,76,77,78,79,80,81,82,83,84,85,86,87,88,89,90,91,92,93,94,95,96,97,98,99,100,101,102,103,104,105,106,107,108,109,110,111,112,113,114,115,116,117,118,119,120,121,122,123,124,125,126,127,128,129,130,131,132,133,134,135,136,137,138,139,140,141,142,143,144,145,146,147,148,149,150,151,152,153,154,155,156,157,158,159,160,161,162,163,164,165,166,167,168,169,170,171,172,173,174,175,176,177,178,179,180,181,182,183,184,185,186,187,188,189,190,191,192,193,194,195,196,197,198,199,200,201,202,203,204,205,206,207,208,209,210,211,212,213,214,215,216,217,218,219,220,221,222,223,224,225,226,227,228,229,230,231,232,233,234,235,236,237,238],\"xaxis\":\"x\",\"y\":[-2.604516818181817,-0.06557768780062852,0.031127634229015867,-0.053547366690931145,0.2737206366285998,-0.04623923430865189,0.018008267326874914,0.07686486880048285,0.07034032134706437,0.03656377976581748,0.047434829707900465,0.013631988671885477,0.03280635825157266,0.08598719944289332,0.02515727986674884,0.05820808936356355,0.12370955669340154,-0.0052110522498606,0.12437403645991761,0.058004244127837494,-0.06568669630431434,0.23877711480697963,0.059748617681225226,-0.045134300280951285,0.013645955406029378,0.8003965616764689,-0.05963432682418709,0.02887967200929665,0.0632001345370677,0.04843260456988182,0.008259083399821694,-0.03323133921390614,-0.053971009845078695,-0.05076988086346376,0.005097096947853053,-0.04795438719377873,0.14395665339545333,-0.031396717581030166,-0.027928980993296104,-0.05785526484592744,-0.04782771795038389,0.04456341756975439,0.02598734900544884,0.02049073727363106,0.027577507406322112,0.03470089833375927,-0.012374048787488654,-0.03946209262459918,0.011320939437626163,0.0006881939878524777,-0.03266397550487233,-0.0026835846506425534,0.06950783800602889,-0.0164292178835021,0.019986629572081624,0.018276153074258544,0.03141587821127082,0.053474430788364884,-0.04570313703389244,-0.10775745931115621,0.012988949146761932,-0.05022623808666825,0.026015954740406026,-0.03140242443195263,0.06228862125839615,-0.0683641649901993,0.04315105530646242,-0.020205079417249645,0.029493701470719703,-0.03210401538234426,0.01739977026340944,0.04976025284736126,0.08963025279422325,-0.021360545301296704,-0.06096776287758252,0.0088961748719983,-0.03431791552956429,-0.023005599773641576,-0.02639667514677513,0.09682939319866278,-0.014359147506531863,-0.046826235759703794,-0.03197323278021983,0.04467192432398328,-0.01237130354728923,0.06227055467074524,-0.0016142365424707782,0.05096816867891109,0.046367280449513514,-0.04417131555449669,-0.011273553397298179,0.047696206056451626,0.027565637399402435,-0.012727926852774666,-0.036843775613559525,0.02340138758110523,0.012529722233866144,0.002777147109948836,0.003415898288772694,0.006489036064228983,0.0008931930999444057,0.027644626259390823,-0.01682471165836209,-0.08679605021382375,-0.07031132142413511,-0.04746374202316169,-0.012221942079254032,0.029286718177313067,0.01590907310946456,-0.026031463225861244,-0.07510420676145604,-0.0509800373055503,-0.0035547728193911854,0.011012883976386105,0.07827943868441102,0.039403656620467,0.04372374459857371,-0.010292411966442615,-0.08005240751421203,-0.013386211379557124,-0.008437824817967872,0.05594387542085142,-0.028588704847157816,-0.016085924584049022,-0.015303163293828404,-0.03150196617345517,0.020939388905408057,-0.012340291102348726,-0.04097813801016741,-0.041561819266224986,0.025902570673366664,-0.007201300938596273,0.05064253459758944,-0.029544093837320384,-0.011563923222276971,-0.004765362821629172,0.026705588947806273,-0.03447287819543703,0.006939884955504784,0.05186239438407375,-0.016087275967674917,0.01564820151149334,0.08383654452564539,0.00065665309245057,0.04715356214137421,-0.022898846026948715,0.04098250935933075,-0.04962342953396932,-0.0270125717753133,-0.051417995235633535,0.04421655149460136,0.00808821568880772,-0.032321407532678974,-0.017633357998509527,-0.016064826571649923,-0.09612521255490188,0.08588426011766158,-0.02999534204955629,-0.004921019854003132,-0.014497736248735904,-0.04420491625621084,0.059528043010284144,0.0895546649942874,0.0046798767835385694,0.06774977361978678,0.02080714537221152,0.01984508601891367,-0.020002967564936195,-0.07290519455622442,0.06119159998530138,-0.06057045061565406,0.052542614063272194,0.010007338235117385,0.0015603162929921858,0.030024848308062343,0.02042924269121935,-0.023834713945531178,-0.0007199678994143741,0.022886055213401073,0.009167788717419625,0.006055760672078666,-0.04511419985651839,0.056575130806314176,-0.005951063335456317,0.012622325873213332,-0.02429688585895907,0.008711397473836134,0.01779135103930414,-0.04507181974462857,-0.04901151398185251,0.017524319818006777,0.038326999299372805,0.02580923806380312,0.021387741952258336,-0.026983661772081148,0.05078652294190424,0.07480238415249275,-0.007085572165250182,-0.07301907532916815,-0.01626182657455027,0.004173976033492297,0.028673232663389947,-0.007357547139286407,0.035142452663327474,-0.022711683170405526,0.0043252509158495985,-0.0458451008777556,0.03082959027736365,0.027292788320229265,0.0358524978041449,-0.037369919798390785,-0.07405817219683808,0.006112307140060278,0.0024040700224109584,0.03749000248194676,-0.002671187229242057,0.07002575756325628,-0.014776668306301,-0.0003079465501344535,0.0291259365906451,-0.001652433851131975,0.014401731518179825,-0.0010502730922614567,0.0012216887290998403,0.013928182502501446,-0.01785279170091863,0.013178273861675608,0.044082610395623126,0.007215830584987095,-0.021519958052908572,0.00828928462312105,0.01926854815316314,-0.011092090853372623,-0.004215690076194899,-0.05506386619358386,0.026271938528937472,0.03669795680414354,0.03452294202475679,0.03171996072314103],\"yaxis\":\"y\",\"type\":\"scatter\"}],                        {\"template\":{\"data\":{\"histogram2dcontour\":[{\"type\":\"histogram2dcontour\",\"colorbar\":{\"outlinewidth\":0,\"ticks\":\"\"},\"colorscale\":[[0.0,\"#0d0887\"],[0.1111111111111111,\"#46039f\"],[0.2222222222222222,\"#7201a8\"],[0.3333333333333333,\"#9c179e\"],[0.4444444444444444,\"#bd3786\"],[0.5555555555555556,\"#d8576b\"],[0.6666666666666666,\"#ed7953\"],[0.7777777777777778,\"#fb9f3a\"],[0.8888888888888888,\"#fdca26\"],[1.0,\"#f0f921\"]]}],\"choropleth\":[{\"type\":\"choropleth\",\"colorbar\":{\"outlinewidth\":0,\"ticks\":\"\"}}],\"histogram2d\":[{\"type\":\"histogram2d\",\"colorbar\":{\"outlinewidth\":0,\"ticks\":\"\"},\"colorscale\":[[0.0,\"#0d0887\"],[0.1111111111111111,\"#46039f\"],[0.2222222222222222,\"#7201a8\"],[0.3333333333333333,\"#9c179e\"],[0.4444444444444444,\"#bd3786\"],[0.5555555555555556,\"#d8576b\"],[0.6666666666666666,\"#ed7953\"],[0.7777777777777778,\"#fb9f3a\"],[0.8888888888888888,\"#fdca26\"],[1.0,\"#f0f921\"]]}],\"heatmap\":[{\"type\":\"heatmap\",\"colorbar\":{\"outlinewidth\":0,\"ticks\":\"\"},\"colorscale\":[[0.0,\"#0d0887\"],[0.1111111111111111,\"#46039f\"],[0.2222222222222222,\"#7201a8\"],[0.3333333333333333,\"#9c179e\"],[0.4444444444444444,\"#bd3786\"],[0.5555555555555556,\"#d8576b\"],[0.6666666666666666,\"#ed7953\"],[0.7777777777777778,\"#fb9f3a\"],[0.8888888888888888,\"#fdca26\"],[1.0,\"#f0f921\"]]}],\"heatmapgl\":[{\"type\":\"heatmapgl\",\"colorbar\":{\"outlinewidth\":0,\"ticks\":\"\"},\"colorscale\":[[0.0,\"#0d0887\"],[0.1111111111111111,\"#46039f\"],[0.2222222222222222,\"#7201a8\"],[0.3333333333333333,\"#9c179e\"],[0.4444444444444444,\"#bd3786\"],[0.5555555555555556,\"#d8576b\"],[0.6666666666666666,\"#ed7953\"],[0.7777777777777778,\"#fb9f3a\"],[0.8888888888888888,\"#fdca26\"],[1.0,\"#f0f921\"]]}],\"contourcarpet\":[{\"type\":\"contourcarpet\",\"colorbar\":{\"outlinewidth\":0,\"ticks\":\"\"}}],\"contour\":[{\"type\":\"contour\",\"colorbar\":{\"outlinewidth\":0,\"ticks\":\"\"},\"colorscale\":[[0.0,\"#0d0887\"],[0.1111111111111111,\"#46039f\"],[0.2222222222222222,\"#7201a8\"],[0.3333333333333333,\"#9c179e\"],[0.4444444444444444,\"#bd3786\"],[0.5555555555555556,\"#d8576b\"],[0.6666666666666666,\"#ed7953\"],[0.7777777777777778,\"#fb9f3a\"],[0.8888888888888888,\"#fdca26\"],[1.0,\"#f0f921\"]]}],\"surface\":[{\"type\":\"surface\",\"colorbar\":{\"outlinewidth\":0,\"ticks\":\"\"},\"colorscale\":[[0.0,\"#0d0887\"],[0.1111111111111111,\"#46039f\"],[0.2222222222222222,\"#7201a8\"],[0.3333333333333333,\"#9c179e\"],[0.4444444444444444,\"#bd3786\"],[0.5555555555555556,\"#d8576b\"],[0.6666666666666666,\"#ed7953\"],[0.7777777777777778,\"#fb9f3a\"],[0.8888888888888888,\"#fdca26\"],[1.0,\"#f0f921\"]]}],\"mesh3d\":[{\"type\":\"mesh3d\",\"colorbar\":{\"outlinewidth\":0,\"ticks\":\"\"}}],\"scatter\":[{\"fillpattern\":{\"fillmode\":\"overlay\",\"size\":10,\"solidity\":0.2},\"type\":\"scatter\"}],\"parcoords\":[{\"type\":\"parcoords\",\"line\":{\"colorbar\":{\"outlinewidth\":0,\"ticks\":\"\"}}}],\"scatterpolargl\":[{\"type\":\"scatterpolargl\",\"marker\":{\"colorbar\":{\"outlinewidth\":0,\"ticks\":\"\"}}}],\"bar\":[{\"error_x\":{\"color\":\"#2a3f5f\"},\"error_y\":{\"color\":\"#2a3f5f\"},\"marker\":{\"line\":{\"color\":\"#E5ECF6\",\"width\":0.5},\"pattern\":{\"fillmode\":\"overlay\",\"size\":10,\"solidity\":0.2}},\"type\":\"bar\"}],\"scattergeo\":[{\"type\":\"scattergeo\",\"marker\":{\"colorbar\":{\"outlinewidth\":0,\"ticks\":\"\"}}}],\"scatterpolar\":[{\"type\":\"scatterpolar\",\"marker\":{\"colorbar\":{\"outlinewidth\":0,\"ticks\":\"\"}}}],\"histogram\":[{\"marker\":{\"pattern\":{\"fillmode\":\"overlay\",\"size\":10,\"solidity\":0.2}},\"type\":\"histogram\"}],\"scattergl\":[{\"type\":\"scattergl\",\"marker\":{\"colorbar\":{\"outlinewidth\":0,\"ticks\":\"\"}}}],\"scatter3d\":[{\"type\":\"scatter3d\",\"line\":{\"colorbar\":{\"outlinewidth\":0,\"ticks\":\"\"}},\"marker\":{\"colorbar\":{\"outlinewidth\":0,\"ticks\":\"\"}}}],\"scattermapbox\":[{\"type\":\"scattermapbox\",\"marker\":{\"colorbar\":{\"outlinewidth\":0,\"ticks\":\"\"}}}],\"scatterternary\":[{\"type\":\"scatterternary\",\"marker\":{\"colorbar\":{\"outlinewidth\":0,\"ticks\":\"\"}}}],\"scattercarpet\":[{\"type\":\"scattercarpet\",\"marker\":{\"colorbar\":{\"outlinewidth\":0,\"ticks\":\"\"}}}],\"carpet\":[{\"aaxis\":{\"endlinecolor\":\"#2a3f5f\",\"gridcolor\":\"white\",\"linecolor\":\"white\",\"minorgridcolor\":\"white\",\"startlinecolor\":\"#2a3f5f\"},\"baxis\":{\"endlinecolor\":\"#2a3f5f\",\"gridcolor\":\"white\",\"linecolor\":\"white\",\"minorgridcolor\":\"white\",\"startlinecolor\":\"#2a3f5f\"},\"type\":\"carpet\"}],\"table\":[{\"cells\":{\"fill\":{\"color\":\"#EBF0F8\"},\"line\":{\"color\":\"white\"}},\"header\":{\"fill\":{\"color\":\"#C8D4E3\"},\"line\":{\"color\":\"white\"}},\"type\":\"table\"}],\"barpolar\":[{\"marker\":{\"line\":{\"color\":\"#E5ECF6\",\"width\":0.5},\"pattern\":{\"fillmode\":\"overlay\",\"size\":10,\"solidity\":0.2}},\"type\":\"barpolar\"}],\"pie\":[{\"automargin\":true,\"type\":\"pie\"}]},\"layout\":{\"autotypenumbers\":\"strict\",\"colorway\":[\"#636efa\",\"#EF553B\",\"#00cc96\",\"#ab63fa\",\"#FFA15A\",\"#19d3f3\",\"#FF6692\",\"#B6E880\",\"#FF97FF\",\"#FECB52\"],\"font\":{\"color\":\"#2a3f5f\"},\"hovermode\":\"closest\",\"hoverlabel\":{\"align\":\"left\"},\"paper_bgcolor\":\"white\",\"plot_bgcolor\":\"#E5ECF6\",\"polar\":{\"bgcolor\":\"#E5ECF6\",\"angularaxis\":{\"gridcolor\":\"white\",\"linecolor\":\"white\",\"ticks\":\"\"},\"radialaxis\":{\"gridcolor\":\"white\",\"linecolor\":\"white\",\"ticks\":\"\"}},\"ternary\":{\"bgcolor\":\"#E5ECF6\",\"aaxis\":{\"gridcolor\":\"white\",\"linecolor\":\"white\",\"ticks\":\"\"},\"baxis\":{\"gridcolor\":\"white\",\"linecolor\":\"white\",\"ticks\":\"\"},\"caxis\":{\"gridcolor\":\"white\",\"linecolor\":\"white\",\"ticks\":\"\"}},\"coloraxis\":{\"colorbar\":{\"outlinewidth\":0,\"ticks\":\"\"}},\"colorscale\":{\"sequential\":[[0.0,\"#0d0887\"],[0.1111111111111111,\"#46039f\"],[0.2222222222222222,\"#7201a8\"],[0.3333333333333333,\"#9c179e\"],[0.4444444444444444,\"#bd3786\"],[0.5555555555555556,\"#d8576b\"],[0.6666666666666666,\"#ed7953\"],[0.7777777777777778,\"#fb9f3a\"],[0.8888888888888888,\"#fdca26\"],[1.0,\"#f0f921\"]],\"sequentialminus\":[[0.0,\"#0d0887\"],[0.1111111111111111,\"#46039f\"],[0.2222222222222222,\"#7201a8\"],[0.3333333333333333,\"#9c179e\"],[0.4444444444444444,\"#bd3786\"],[0.5555555555555556,\"#d8576b\"],[0.6666666666666666,\"#ed7953\"],[0.7777777777777778,\"#fb9f3a\"],[0.8888888888888888,\"#fdca26\"],[1.0,\"#f0f921\"]],\"diverging\":[[0,\"#8e0152\"],[0.1,\"#c51b7d\"],[0.2,\"#de77ae\"],[0.3,\"#f1b6da\"],[0.4,\"#fde0ef\"],[0.5,\"#f7f7f7\"],[0.6,\"#e6f5d0\"],[0.7,\"#b8e186\"],[0.8,\"#7fbc41\"],[0.9,\"#4d9221\"],[1,\"#276419\"]]},\"xaxis\":{\"gridcolor\":\"white\",\"linecolor\":\"white\",\"ticks\":\"\",\"title\":{\"standoff\":15},\"zerolinecolor\":\"white\",\"automargin\":true,\"zerolinewidth\":2},\"yaxis\":{\"gridcolor\":\"white\",\"linecolor\":\"white\",\"ticks\":\"\",\"title\":{\"standoff\":15},\"zerolinecolor\":\"white\",\"automargin\":true,\"zerolinewidth\":2},\"scene\":{\"xaxis\":{\"backgroundcolor\":\"#E5ECF6\",\"gridcolor\":\"white\",\"linecolor\":\"white\",\"showbackground\":true,\"ticks\":\"\",\"zerolinecolor\":\"white\",\"gridwidth\":2},\"yaxis\":{\"backgroundcolor\":\"#E5ECF6\",\"gridcolor\":\"white\",\"linecolor\":\"white\",\"showbackground\":true,\"ticks\":\"\",\"zerolinecolor\":\"white\",\"gridwidth\":2},\"zaxis\":{\"backgroundcolor\":\"#E5ECF6\",\"gridcolor\":\"white\",\"linecolor\":\"white\",\"showbackground\":true,\"ticks\":\"\",\"zerolinecolor\":\"white\",\"gridwidth\":2}},\"shapedefaults\":{\"line\":{\"color\":\"#2a3f5f\"}},\"annotationdefaults\":{\"arrowcolor\":\"#2a3f5f\",\"arrowhead\":0,\"arrowwidth\":1},\"geo\":{\"bgcolor\":\"white\",\"landcolor\":\"#E5ECF6\",\"subunitcolor\":\"white\",\"showland\":true,\"showlakes\":true,\"lakecolor\":\"white\"},\"title\":{\"x\":0.05},\"mapbox\":{\"style\":\"light\"}}},\"xaxis\":{\"anchor\":\"y\",\"domain\":[0.0,1.0],\"title\":{\"text\":\"Feature number\"}},\"yaxis\":{\"anchor\":\"x\",\"domain\":[0.0,1.0],\"title\":{\"text\":\"Coefficient value\"}},\"legend\":{\"tracegroupgap\":0},\"margin\":{\"t\":60},\"title\":{\"text\":\"alpha = 0.7142942857142858, Rsquared = 0.20923218239243965\"}},                        {\"responsive\": true}                    ).then(function(){\n",
       "                            \n",
       "var gd = document.getElementById('d156957c-e5a0-4188-9a79-f250f68bb156');\n",
       "var x = new MutationObserver(function (mutations, observer) {{\n",
       "        var display = window.getComputedStyle(gd).display;\n",
       "        if (!display || display === 'none') {{\n",
       "            console.log([gd, 'removed!']);\n",
       "            Plotly.purge(gd);\n",
       "            observer.disconnect();\n",
       "        }}\n",
       "}});\n",
       "\n",
       "// Listen for the removal of the full notebook cells\n",
       "var notebookContainer = gd.closest('#notebook-container');\n",
       "if (notebookContainer) {{\n",
       "    x.observe(notebookContainer, {childList: true});\n",
       "}}\n",
       "\n",
       "// Listen for the clearing of the current output cell\n",
       "var outputEl = gd.closest('.output');\n",
       "if (outputEl) {{\n",
       "    x.observe(outputEl, {childList: true});\n",
       "}}\n",
       "\n",
       "                        })                };                });            </script>        </div>"
      ]
     },
     "metadata": {},
     "output_type": "display_data"
    },
    {
     "data": {
      "application/vnd.plotly.v1+json": {
       "config": {
        "plotlyServerURL": "https://plot.ly"
       },
       "data": [
        {
         "error_y": {
          "array": [
           0.2911786791031466,
           0.16481437991219766,
           0.14315537918255353,
           0.14211536568290328,
           0.3637284899689672,
           0.11494875765345625,
           0.12246161400049392,
           0.15456498399050148,
           0.1401112958046827,
           0.1279132106814068,
           0.13162184815045402,
           0.11514246665661487,
           0.11301555493972537,
           0.15867997069110445,
           0.12948855086241334,
           0.15775733424620034,
           0.1983231279017939,
           0.10726730926222734,
           0.20380757151509996,
           0.16176908265033263,
           0.16370287764599942,
           0.2995172137261574,
           0.14109105864171959,
           0.12992803908239817,
           0.14029450958696432,
           0.3302966727346428,
           0.14924032692448652,
           0.11859443127281254,
           0.1576261916675611,
           0.13726573677117146,
           0.11069363280748042,
           0.13306791370890544,
           0.12106819342732558,
           0.11673811921920828,
           0.11555292763582281,
           0.12475300822856482,
           0.22484934285766936,
           0.15675170522281415,
           0.12709607850778623,
           0.12077304768506153,
           0.10447447939072124,
           0.11734318415027087,
           0.11255609629302428,
           0.11993077699161941,
           0.11419359500658181,
           0.12060709622899819,
           0.08375265409053041,
           0.10455243580387272,
           0.07165090426989996,
           0.11785289337995067,
           0.13159135623920973,
           0.09609833425998245,
           0.1480195883927503,
           0.09627764608251717,
           0.1014548052288933,
           0.11344942179871029,
           0.1083082446405224,
           0.131500974516454,
           0.10507585646203747,
           0.1869842633655657,
           0.1144195294878892,
           0.13262835477302418,
           0.09719735052413947,
           0.10571694819847456,
           0.11940038378351471,
           0.14915133207826103,
           0.14265499538955523,
           0.09353517595201907,
           0.11830633011476491,
           0.12598578244681108,
           0.11371124265236558,
           0.10796033104442355,
           0.1494845233776402,
           0.11283436725928796,
           0.11437778355275392,
           0.09153680800713766,
           0.11188550292345636,
           0.08269669140082692,
           0.0842203525206962,
           0.15528747370228382,
           0.11098472525785856,
           0.12289497450082389,
           0.10463781353175335,
           0.11289760219513521,
           0.11456049642060595,
           0.12090931056547831,
           0.09204774066107434,
           0.12213606945881379,
           0.11269573435977803,
           0.1190173278245051,
           0.10854543330129227,
           0.10961421613956505,
           0.0937369162956057,
           0.13830548986406063,
           0.10734204619615101,
           0.114884870502736,
           0.0983422839570783,
           0.11610456569501033,
           0.0948827236860907,
           0.09453314601428232,
           0.09355754832255041,
           0.10664506177619563,
           0.08583783811169073,
           0.16158985120617855,
           0.13008843716816276,
           0.12316251148593083,
           0.0837129894412657,
           0.12212382843053946,
           0.10034336126804685,
           0.0895730690898626,
           0.12739276304735098,
           0.11317218319469817,
           0.07448744222291125,
           0.08199844512711493,
           0.1300579157129668,
           0.11021931502134553,
           0.11890656546006903,
           0.12391743799484141,
           0.13871460394772472,
           0.07375522842543683,
           0.09788942695025457,
           0.12251208536990413,
           0.10615466450705256,
           0.09153193310461613,
           0.10691277720876755,
           0.11122702857144208,
           0.09639191001811633,
           0.07910430920904275,
           0.09995481393059702,
           0.10979969600349256,
           0.10587792863290932,
           0.08327069534783733,
           0.10854350894004614,
           0.10337336340405893,
           0.08763895124085515,
           0.08424681465197278,
           0.11100860359757836,
           0.09760643578457283,
           0.0928486778735857,
           0.13808737016757444,
           0.0998764013589255,
           0.11133023549577838,
           0.14234291866753887,
           0.1014112369423334,
           0.11615628327554894,
           0.09943374319901768,
           0.10517829556393442,
           0.0945288293141091,
           0.0969365999966263,
           0.11472410573526214,
           0.1081345335817532,
           0.08258647460987067,
           0.11374811296983615,
           0.08935399503065192,
           0.09103360496744596,
           0.15758124769844487,
           0.15705337108289247,
           0.1083749951213209,
           0.08105188511143677,
           0.06712161554046851,
           0.11527208525911425,
           0.11738704244333806,
           0.14118705418921929,
           0.07476697147389834,
           0.1420791194808494,
           0.09995781770606464,
           0.10137584482431398,
           0.09147251027569062,
           0.14115271239762273,
           0.1150371767578616,
           0.12587767061121505,
           0.1122998519364094,
           0.09213405093711885,
           0.09421300838548745,
           0.08787571546267614,
           0.07746696510387518,
           0.08238574047693493,
           0.0799957139876961,
           0.08829394987835205,
           0.10025334109657798,
           0.11666001119556187,
           0.09542490272677685,
           0.11489384718196424,
           0.09097869219833297,
           0.07417281222608273,
           0.09474756768980631,
           0.07762991151961866,
           0.09564081403316257,
           0.09383843192258975,
           0.10126538825606572,
           0.08329985205733678,
           0.08468383398145132,
           0.09654447552232959,
           0.07362301478636966,
           0.08305759551279193,
           0.1074264920280885,
           0.13164107846784642,
           0.07948983121900437,
           0.13288541613708263,
           0.08950819036107978,
           0.08181557452299372,
           0.09011138069319043,
           0.09084799389170103,
           0.09587657551947668,
           0.09778880362310909,
           0.0750752590973517,
           0.10190638500167662,
           0.0858247461129437,
           0.09224077454411451,
           0.09489190895033779,
           0.10120723113961108,
           0.130071913561902,
           0.08936600139000517,
           0.08858476422282385,
           0.09717307294241921,
           0.07567071028768842,
           0.11519544610778977,
           0.06837457645676752,
           0.078498097123526,
           0.11942407727365957,
           0.07743716103743936,
           0.08799628391045518,
           0.07316061723275351,
           0.07132254387833355,
           0.07795769677836868,
           0.06729525098495277,
           0.07387581344414527,
           0.10439474540075545,
           0.0728924257858095,
           0.07907550276002945,
           0.09097467141589724,
           0.06986027046704066,
           0.07737699541599333,
           0.04656512958534767,
           0.10929345494290774,
           0.09793366655525661,
           0.07885890152146495,
           0.08215590736671463,
           0.08719026974243585
          ]
         },
         "hovertemplate": "x=%{x}<br>y=%{y}<extra></extra>",
         "legendgroup": "",
         "marker": {
          "color": "#636efa",
          "symbol": "circle"
         },
         "mode": "markers",
         "name": "",
         "orientation": "v",
         "showlegend": false,
         "type": "scatter",
         "x": [
          0,
          1,
          2,
          3,
          4,
          5,
          6,
          7,
          8,
          9,
          10,
          11,
          12,
          13,
          14,
          15,
          16,
          17,
          18,
          19,
          20,
          21,
          22,
          23,
          24,
          25,
          26,
          27,
          28,
          29,
          30,
          31,
          32,
          33,
          34,
          35,
          36,
          37,
          38,
          39,
          40,
          41,
          42,
          43,
          44,
          45,
          46,
          47,
          48,
          49,
          50,
          51,
          52,
          53,
          54,
          55,
          56,
          57,
          58,
          59,
          60,
          61,
          62,
          63,
          64,
          65,
          66,
          67,
          68,
          69,
          70,
          71,
          72,
          73,
          74,
          75,
          76,
          77,
          78,
          79,
          80,
          81,
          82,
          83,
          84,
          85,
          86,
          87,
          88,
          89,
          90,
          91,
          92,
          93,
          94,
          95,
          96,
          97,
          98,
          99,
          100,
          101,
          102,
          103,
          104,
          105,
          106,
          107,
          108,
          109,
          110,
          111,
          112,
          113,
          114,
          115,
          116,
          117,
          118,
          119,
          120,
          121,
          122,
          123,
          124,
          125,
          126,
          127,
          128,
          129,
          130,
          131,
          132,
          133,
          134,
          135,
          136,
          137,
          138,
          139,
          140,
          141,
          142,
          143,
          144,
          145,
          146,
          147,
          148,
          149,
          150,
          151,
          152,
          153,
          154,
          155,
          156,
          157,
          158,
          159,
          160,
          161,
          162,
          163,
          164,
          165,
          166,
          167,
          168,
          169,
          170,
          171,
          172,
          173,
          174,
          175,
          176,
          177,
          178,
          179,
          180,
          181,
          182,
          183,
          184,
          185,
          186,
          187,
          188,
          189,
          190,
          191,
          192,
          193,
          194,
          195,
          196,
          197,
          198,
          199,
          200,
          201,
          202,
          203,
          204,
          205,
          206,
          207,
          208,
          209,
          210,
          211,
          212,
          213,
          214,
          215,
          216,
          217,
          218,
          219,
          220,
          221,
          222,
          223,
          224,
          225,
          226,
          227,
          228,
          229,
          230,
          231,
          232,
          233,
          234,
          235,
          236,
          237,
          238
         ],
         "xaxis": "x",
         "y": [
          -2.601541420454543,
          -0.049183265850471385,
          0.0233457256717619,
          -0.040160525018198355,
          0.20679989699380755,
          -0.03467942573148892,
          0.013506200495156186,
          0.05764865160036214,
          0.05275524101029828,
          0.027422834824363116,
          0.03557612228092535,
          0.010223991503914108,
          0.02460476868867949,
          0.06449039958216998,
          0.018867959900061633,
          0.04365606702267267,
          0.09284566199521894,
          -0.00390828918739545,
          0.0932805273449382,
          0.04351962089467931,
          -0.04926502222823575,
          0.1856391801505353,
          0.04481146326091892,
          -0.033850725210713466,
          0.01023693866378842,
          0.7091750524535171,
          -0.044697628021215366,
          0.021776421320775487,
          0.04740010090280078,
          0.03632445342741136,
          0.006194312549866271,
          -0.02492350441042961,
          -0.04047825738380902,
          -0.03807741064759782,
          0.0038228227108897898,
          -0.03596579039533405,
          0.10796749004659,
          -0.023547538185772626,
          -0.020946735744972078,
          -0.04339144863444558,
          -0.03587078846278791,
          0.033422563177315796,
          0.01954027206052792,
          0.01532462419138345,
          0.02093405958644928,
          0.026025673750319455,
          -0.00928053659061649,
          -0.029635669926133965,
          0.008490704578219623,
          0.0005067722229088048,
          -0.024497981628654245,
          -0.002012688487981915,
          0.052130878504521666,
          -0.012321913412626576,
          0.01498997217906122,
          0.013707114805693909,
          0.023561908658453118,
          0.04010582309127366,
          -0.03427735277541933,
          -0.08081809448336716,
          0.00974171186007145,
          -0.03766967856500118,
          0.01951196605530452,
          -0.023551818323964472,
          0.04671646594379711,
          -0.05127312374264948,
          0.03236329147984682,
          -0.015153809562937234,
          0.02212027610303978,
          -0.024083861772940203,
          0.01304982769755708,
          0.037320189635520945,
          0.06722268959566743,
          -0.01602040897597253,
          -0.04572582215818689,
          0.006672131153998724,
          -0.02573843664717322,
          -0.017254199830231184,
          -0.01979750636008135,
          0.0726404784453783,
          -0.010775572005992242,
          -0.035119676819777845,
          -0.023979924585164875,
          0.03350394324298746,
          -0.009278477660466923,
          0.04670291600305893,
          -0.0012106774068530836,
          0.03822612650918332,
          0.03477546033713513,
          -0.03315036307348746,
          -0.008455165047973634,
          0.037918961602762764,
          0.020674228049551824,
          -0.009528618284119146,
          -0.027728756291627563,
          0.017551040685828922,
          0.009397291675399608,
          0.002082860332461627,
          0.0025619237165795204,
          0.0048667770481717375,
          0.0006698948249583043,
          0.020757218191493697,
          -0.012618533743771568,
          -0.06509703766036781,
          -0.05273349106810133,
          -0.03563132858515632,
          -0.009166456559440525,
          0.0219650386329848,
          0.011931804832098422,
          -0.019523597419395935,
          -0.05661612914636027,
          -0.03823502797916272,
          -0.002666079614543389,
          0.008259662982289579,
          0.05870957901330826,
          0.029552742465350248,
          0.03284537153941337,
          -0.007696384083951242,
          -0.06003930563565902,
          -0.010055551286268326,
          -0.006328368613475904,
          0.04195790656563857,
          -0.02141477579968024,
          -0.012064443438036766,
          -0.011477372470371304,
          -0.02362647463009138,
          0.015704541679056043,
          -0.009255218326761546,
          -0.03138723619346469,
          -0.03117136444966874,
          0.01946189051147244,
          -0.005400975703947204,
          0.03798190094819208,
          -0.022158070377990287,
          -0.008672942416707729,
          -0.003574022116221879,
          0.020029191710854703,
          -0.025854658646577777,
          0.005204913716628588,
          0.03889679578805531,
          -0.012065456975756188,
          0.011736151133620006,
          0.06287740839423404,
          0.0004924898193379275,
          0.03536517160603066,
          -0.017174134520211534,
          0.030736882019498066,
          -0.03721757215047699,
          -0.020259428831484974,
          -0.03856349642672515,
          0.03316241362095102,
          0.006066161766605791,
          -0.024295994564557506,
          -0.013225018498882147,
          -0.012048619928737443,
          -0.0720939094161764,
          0.07251841391554657,
          -0.02265500010528282,
          -0.0036907648905023485,
          -0.010873302186551928,
          -0.03315368719215813,
          0.04502280823972551,
          0.06716599874571554,
          0.003509907587653927,
          0.05763597990034644,
          0.015621140062930005,
          0.014883814514185254,
          -0.015002225673702145,
          -0.05470212757519964,
          0.045893699988976036,
          -0.04542783796174054,
          0.03940696054745415,
          0.007505503676338038,
          0.0011702372197441393,
          0.022518636231046756,
          0.015321932018414511,
          -0.017876035459148384,
          -0.0005399759245607806,
          0.017164541410050804,
          0.006875841538064718,
          0.005161010372913159,
          -0.0338356498923888,
          0.04243134810473563,
          -0.004463297501592238,
          0.009466744404909999,
          -0.018222664394219303,
          0.006533548105377101,
          0.01442288195246774,
          -0.03380386480847143,
          -0.03675863548638938,
          0.013143239863505084,
          0.028745249474529604,
          0.019356928547852342,
          0.016969160665257544,
          -0.020237746329060863,
          0.03808989220642818,
          0.05610178811436957,
          -0.005314179123937637,
          -0.05489577860411926,
          -0.011775179342746625,
          0.003130482025119223,
          0.02150492449754246,
          -0.0058328137845681475,
          0.026356839497495607,
          -0.017033762377804143,
          0.003243938186887199,
          -0.034097502400331006,
          0.023122192708022737,
          0.020469591240171947,
          0.02688937335310868,
          -0.028126813196925775,
          -0.05554362914762856,
          0.004584230355045208,
          0.0018030525168082187,
          0.028117501861460073,
          -0.0020033904219315425,
          0.05251931817244221,
          -0.01108250122972575,
          -0.00030080250962749485,
          0.022687756493258483,
          -0.0012393253883489811,
          0.010801298638634868,
          -0.0007877048191960925,
          0.0009162665468248802,
          0.010663421260993377,
          -0.01338959377568897,
          0.009883705396256706,
          0.03306464368604674,
          0.005663677861005429,
          -0.01613996853968143,
          0.006196064554720639,
          0.014451411114872354,
          -0.008319068140029466,
          -0.003161767557146174,
          -0.041297899645187895,
          0.019703953896703104,
          0.027728805902573712,
          0.02589220651856759,
          0.023789970542355772
         ],
         "yaxis": "y"
        }
       ],
       "layout": {
        "legend": {
         "tracegroupgap": 0
        },
        "margin": {
         "t": 60
        },
        "template": {
         "data": {
          "bar": [
           {
            "error_x": {
             "color": "#2a3f5f"
            },
            "error_y": {
             "color": "#2a3f5f"
            },
            "marker": {
             "line": {
              "color": "#E5ECF6",
              "width": 0.5
             },
             "pattern": {
              "fillmode": "overlay",
              "size": 10,
              "solidity": 0.2
             }
            },
            "type": "bar"
           }
          ],
          "barpolar": [
           {
            "marker": {
             "line": {
              "color": "#E5ECF6",
              "width": 0.5
             },
             "pattern": {
              "fillmode": "overlay",
              "size": 10,
              "solidity": 0.2
             }
            },
            "type": "barpolar"
           }
          ],
          "carpet": [
           {
            "aaxis": {
             "endlinecolor": "#2a3f5f",
             "gridcolor": "white",
             "linecolor": "white",
             "minorgridcolor": "white",
             "startlinecolor": "#2a3f5f"
            },
            "baxis": {
             "endlinecolor": "#2a3f5f",
             "gridcolor": "white",
             "linecolor": "white",
             "minorgridcolor": "white",
             "startlinecolor": "#2a3f5f"
            },
            "type": "carpet"
           }
          ],
          "choropleth": [
           {
            "colorbar": {
             "outlinewidth": 0,
             "ticks": ""
            },
            "type": "choropleth"
           }
          ],
          "contour": [
           {
            "colorbar": {
             "outlinewidth": 0,
             "ticks": ""
            },
            "colorscale": [
             [
              0,
              "#0d0887"
             ],
             [
              0.1111111111111111,
              "#46039f"
             ],
             [
              0.2222222222222222,
              "#7201a8"
             ],
             [
              0.3333333333333333,
              "#9c179e"
             ],
             [
              0.4444444444444444,
              "#bd3786"
             ],
             [
              0.5555555555555556,
              "#d8576b"
             ],
             [
              0.6666666666666666,
              "#ed7953"
             ],
             [
              0.7777777777777778,
              "#fb9f3a"
             ],
             [
              0.8888888888888888,
              "#fdca26"
             ],
             [
              1,
              "#f0f921"
             ]
            ],
            "type": "contour"
           }
          ],
          "contourcarpet": [
           {
            "colorbar": {
             "outlinewidth": 0,
             "ticks": ""
            },
            "type": "contourcarpet"
           }
          ],
          "heatmap": [
           {
            "colorbar": {
             "outlinewidth": 0,
             "ticks": ""
            },
            "colorscale": [
             [
              0,
              "#0d0887"
             ],
             [
              0.1111111111111111,
              "#46039f"
             ],
             [
              0.2222222222222222,
              "#7201a8"
             ],
             [
              0.3333333333333333,
              "#9c179e"
             ],
             [
              0.4444444444444444,
              "#bd3786"
             ],
             [
              0.5555555555555556,
              "#d8576b"
             ],
             [
              0.6666666666666666,
              "#ed7953"
             ],
             [
              0.7777777777777778,
              "#fb9f3a"
             ],
             [
              0.8888888888888888,
              "#fdca26"
             ],
             [
              1,
              "#f0f921"
             ]
            ],
            "type": "heatmap"
           }
          ],
          "heatmapgl": [
           {
            "colorbar": {
             "outlinewidth": 0,
             "ticks": ""
            },
            "colorscale": [
             [
              0,
              "#0d0887"
             ],
             [
              0.1111111111111111,
              "#46039f"
             ],
             [
              0.2222222222222222,
              "#7201a8"
             ],
             [
              0.3333333333333333,
              "#9c179e"
             ],
             [
              0.4444444444444444,
              "#bd3786"
             ],
             [
              0.5555555555555556,
              "#d8576b"
             ],
             [
              0.6666666666666666,
              "#ed7953"
             ],
             [
              0.7777777777777778,
              "#fb9f3a"
             ],
             [
              0.8888888888888888,
              "#fdca26"
             ],
             [
              1,
              "#f0f921"
             ]
            ],
            "type": "heatmapgl"
           }
          ],
          "histogram": [
           {
            "marker": {
             "pattern": {
              "fillmode": "overlay",
              "size": 10,
              "solidity": 0.2
             }
            },
            "type": "histogram"
           }
          ],
          "histogram2d": [
           {
            "colorbar": {
             "outlinewidth": 0,
             "ticks": ""
            },
            "colorscale": [
             [
              0,
              "#0d0887"
             ],
             [
              0.1111111111111111,
              "#46039f"
             ],
             [
              0.2222222222222222,
              "#7201a8"
             ],
             [
              0.3333333333333333,
              "#9c179e"
             ],
             [
              0.4444444444444444,
              "#bd3786"
             ],
             [
              0.5555555555555556,
              "#d8576b"
             ],
             [
              0.6666666666666666,
              "#ed7953"
             ],
             [
              0.7777777777777778,
              "#fb9f3a"
             ],
             [
              0.8888888888888888,
              "#fdca26"
             ],
             [
              1,
              "#f0f921"
             ]
            ],
            "type": "histogram2d"
           }
          ],
          "histogram2dcontour": [
           {
            "colorbar": {
             "outlinewidth": 0,
             "ticks": ""
            },
            "colorscale": [
             [
              0,
              "#0d0887"
             ],
             [
              0.1111111111111111,
              "#46039f"
             ],
             [
              0.2222222222222222,
              "#7201a8"
             ],
             [
              0.3333333333333333,
              "#9c179e"
             ],
             [
              0.4444444444444444,
              "#bd3786"
             ],
             [
              0.5555555555555556,
              "#d8576b"
             ],
             [
              0.6666666666666666,
              "#ed7953"
             ],
             [
              0.7777777777777778,
              "#fb9f3a"
             ],
             [
              0.8888888888888888,
              "#fdca26"
             ],
             [
              1,
              "#f0f921"
             ]
            ],
            "type": "histogram2dcontour"
           }
          ],
          "mesh3d": [
           {
            "colorbar": {
             "outlinewidth": 0,
             "ticks": ""
            },
            "type": "mesh3d"
           }
          ],
          "parcoords": [
           {
            "line": {
             "colorbar": {
              "outlinewidth": 0,
              "ticks": ""
             }
            },
            "type": "parcoords"
           }
          ],
          "pie": [
           {
            "automargin": true,
            "type": "pie"
           }
          ],
          "scatter": [
           {
            "fillpattern": {
             "fillmode": "overlay",
             "size": 10,
             "solidity": 0.2
            },
            "type": "scatter"
           }
          ],
          "scatter3d": [
           {
            "line": {
             "colorbar": {
              "outlinewidth": 0,
              "ticks": ""
             }
            },
            "marker": {
             "colorbar": {
              "outlinewidth": 0,
              "ticks": ""
             }
            },
            "type": "scatter3d"
           }
          ],
          "scattercarpet": [
           {
            "marker": {
             "colorbar": {
              "outlinewidth": 0,
              "ticks": ""
             }
            },
            "type": "scattercarpet"
           }
          ],
          "scattergeo": [
           {
            "marker": {
             "colorbar": {
              "outlinewidth": 0,
              "ticks": ""
             }
            },
            "type": "scattergeo"
           }
          ],
          "scattergl": [
           {
            "marker": {
             "colorbar": {
              "outlinewidth": 0,
              "ticks": ""
             }
            },
            "type": "scattergl"
           }
          ],
          "scattermapbox": [
           {
            "marker": {
             "colorbar": {
              "outlinewidth": 0,
              "ticks": ""
             }
            },
            "type": "scattermapbox"
           }
          ],
          "scatterpolar": [
           {
            "marker": {
             "colorbar": {
              "outlinewidth": 0,
              "ticks": ""
             }
            },
            "type": "scatterpolar"
           }
          ],
          "scatterpolargl": [
           {
            "marker": {
             "colorbar": {
              "outlinewidth": 0,
              "ticks": ""
             }
            },
            "type": "scatterpolargl"
           }
          ],
          "scatterternary": [
           {
            "marker": {
             "colorbar": {
              "outlinewidth": 0,
              "ticks": ""
             }
            },
            "type": "scatterternary"
           }
          ],
          "surface": [
           {
            "colorbar": {
             "outlinewidth": 0,
             "ticks": ""
            },
            "colorscale": [
             [
              0,
              "#0d0887"
             ],
             [
              0.1111111111111111,
              "#46039f"
             ],
             [
              0.2222222222222222,
              "#7201a8"
             ],
             [
              0.3333333333333333,
              "#9c179e"
             ],
             [
              0.4444444444444444,
              "#bd3786"
             ],
             [
              0.5555555555555556,
              "#d8576b"
             ],
             [
              0.6666666666666666,
              "#ed7953"
             ],
             [
              0.7777777777777778,
              "#fb9f3a"
             ],
             [
              0.8888888888888888,
              "#fdca26"
             ],
             [
              1,
              "#f0f921"
             ]
            ],
            "type": "surface"
           }
          ],
          "table": [
           {
            "cells": {
             "fill": {
              "color": "#EBF0F8"
             },
             "line": {
              "color": "white"
             }
            },
            "header": {
             "fill": {
              "color": "#C8D4E3"
             },
             "line": {
              "color": "white"
             }
            },
            "type": "table"
           }
          ]
         },
         "layout": {
          "annotationdefaults": {
           "arrowcolor": "#2a3f5f",
           "arrowhead": 0,
           "arrowwidth": 1
          },
          "autotypenumbers": "strict",
          "coloraxis": {
           "colorbar": {
            "outlinewidth": 0,
            "ticks": ""
           }
          },
          "colorscale": {
           "diverging": [
            [
             0,
             "#8e0152"
            ],
            [
             0.1,
             "#c51b7d"
            ],
            [
             0.2,
             "#de77ae"
            ],
            [
             0.3,
             "#f1b6da"
            ],
            [
             0.4,
             "#fde0ef"
            ],
            [
             0.5,
             "#f7f7f7"
            ],
            [
             0.6,
             "#e6f5d0"
            ],
            [
             0.7,
             "#b8e186"
            ],
            [
             0.8,
             "#7fbc41"
            ],
            [
             0.9,
             "#4d9221"
            ],
            [
             1,
             "#276419"
            ]
           ],
           "sequential": [
            [
             0,
             "#0d0887"
            ],
            [
             0.1111111111111111,
             "#46039f"
            ],
            [
             0.2222222222222222,
             "#7201a8"
            ],
            [
             0.3333333333333333,
             "#9c179e"
            ],
            [
             0.4444444444444444,
             "#bd3786"
            ],
            [
             0.5555555555555556,
             "#d8576b"
            ],
            [
             0.6666666666666666,
             "#ed7953"
            ],
            [
             0.7777777777777778,
             "#fb9f3a"
            ],
            [
             0.8888888888888888,
             "#fdca26"
            ],
            [
             1,
             "#f0f921"
            ]
           ],
           "sequentialminus": [
            [
             0,
             "#0d0887"
            ],
            [
             0.1111111111111111,
             "#46039f"
            ],
            [
             0.2222222222222222,
             "#7201a8"
            ],
            [
             0.3333333333333333,
             "#9c179e"
            ],
            [
             0.4444444444444444,
             "#bd3786"
            ],
            [
             0.5555555555555556,
             "#d8576b"
            ],
            [
             0.6666666666666666,
             "#ed7953"
            ],
            [
             0.7777777777777778,
             "#fb9f3a"
            ],
            [
             0.8888888888888888,
             "#fdca26"
            ],
            [
             1,
             "#f0f921"
            ]
           ]
          },
          "colorway": [
           "#636efa",
           "#EF553B",
           "#00cc96",
           "#ab63fa",
           "#FFA15A",
           "#19d3f3",
           "#FF6692",
           "#B6E880",
           "#FF97FF",
           "#FECB52"
          ],
          "font": {
           "color": "#2a3f5f"
          },
          "geo": {
           "bgcolor": "white",
           "lakecolor": "white",
           "landcolor": "#E5ECF6",
           "showlakes": true,
           "showland": true,
           "subunitcolor": "white"
          },
          "hoverlabel": {
           "align": "left"
          },
          "hovermode": "closest",
          "mapbox": {
           "style": "light"
          },
          "paper_bgcolor": "white",
          "plot_bgcolor": "#E5ECF6",
          "polar": {
           "angularaxis": {
            "gridcolor": "white",
            "linecolor": "white",
            "ticks": ""
           },
           "bgcolor": "#E5ECF6",
           "radialaxis": {
            "gridcolor": "white",
            "linecolor": "white",
            "ticks": ""
           }
          },
          "scene": {
           "xaxis": {
            "backgroundcolor": "#E5ECF6",
            "gridcolor": "white",
            "gridwidth": 2,
            "linecolor": "white",
            "showbackground": true,
            "ticks": "",
            "zerolinecolor": "white"
           },
           "yaxis": {
            "backgroundcolor": "#E5ECF6",
            "gridcolor": "white",
            "gridwidth": 2,
            "linecolor": "white",
            "showbackground": true,
            "ticks": "",
            "zerolinecolor": "white"
           },
           "zaxis": {
            "backgroundcolor": "#E5ECF6",
            "gridcolor": "white",
            "gridwidth": 2,
            "linecolor": "white",
            "showbackground": true,
            "ticks": "",
            "zerolinecolor": "white"
           }
          },
          "shapedefaults": {
           "line": {
            "color": "#2a3f5f"
           }
          },
          "ternary": {
           "aaxis": {
            "gridcolor": "white",
            "linecolor": "white",
            "ticks": ""
           },
           "baxis": {
            "gridcolor": "white",
            "linecolor": "white",
            "ticks": ""
           },
           "bgcolor": "#E5ECF6",
           "caxis": {
            "gridcolor": "white",
            "linecolor": "white",
            "ticks": ""
           }
          },
          "title": {
           "x": 0.05
          },
          "xaxis": {
           "automargin": true,
           "gridcolor": "white",
           "linecolor": "white",
           "ticks": "",
           "title": {
            "standoff": 15
           },
           "zerolinecolor": "white",
           "zerolinewidth": 2
          },
          "yaxis": {
           "automargin": true,
           "gridcolor": "white",
           "linecolor": "white",
           "ticks": "",
           "title": {
            "standoff": 15
           },
           "zerolinecolor": "white",
           "zerolinewidth": 2
          }
         }
        },
        "title": {
         "text": "alpha = 1.0714364285714288, Rsquared = 0.1292292268870341"
        },
        "xaxis": {
         "anchor": "y",
         "domain": [
          0,
          1
         ],
         "title": {
          "text": "Feature number"
         }
        },
        "yaxis": {
         "anchor": "x",
         "domain": [
          0,
          1
         ],
         "title": {
          "text": "Coefficient value"
         }
        }
       }
      },
      "text/html": [
       "<div>                            <div id=\"941b6c87-dd13-48a9-9eb8-3bb6e6e28cff\" class=\"plotly-graph-div\" style=\"height:525px; width:100%;\"></div>            <script type=\"text/javascript\">                require([\"plotly\"], function(Plotly) {                    window.PLOTLYENV=window.PLOTLYENV || {};                                    if (document.getElementById(\"941b6c87-dd13-48a9-9eb8-3bb6e6e28cff\")) {                    Plotly.newPlot(                        \"941b6c87-dd13-48a9-9eb8-3bb6e6e28cff\",                        [{\"error_y\":{\"array\":[0.2911786791031466,0.16481437991219766,0.14315537918255353,0.14211536568290328,0.3637284899689672,0.11494875765345625,0.12246161400049392,0.15456498399050148,0.1401112958046827,0.1279132106814068,0.13162184815045402,0.11514246665661487,0.11301555493972537,0.15867997069110445,0.12948855086241334,0.15775733424620034,0.1983231279017939,0.10726730926222734,0.20380757151509996,0.16176908265033263,0.16370287764599942,0.2995172137261574,0.14109105864171959,0.12992803908239817,0.14029450958696432,0.3302966727346428,0.14924032692448652,0.11859443127281254,0.1576261916675611,0.13726573677117146,0.11069363280748042,0.13306791370890544,0.12106819342732558,0.11673811921920828,0.11555292763582281,0.12475300822856482,0.22484934285766936,0.15675170522281415,0.12709607850778623,0.12077304768506153,0.10447447939072124,0.11734318415027087,0.11255609629302428,0.11993077699161941,0.11419359500658181,0.12060709622899819,0.08375265409053041,0.10455243580387272,0.07165090426989996,0.11785289337995067,0.13159135623920973,0.09609833425998245,0.1480195883927503,0.09627764608251717,0.1014548052288933,0.11344942179871029,0.1083082446405224,0.131500974516454,0.10507585646203747,0.1869842633655657,0.1144195294878892,0.13262835477302418,0.09719735052413947,0.10571694819847456,0.11940038378351471,0.14915133207826103,0.14265499538955523,0.09353517595201907,0.11830633011476491,0.12598578244681108,0.11371124265236558,0.10796033104442355,0.1494845233776402,0.11283436725928796,0.11437778355275392,0.09153680800713766,0.11188550292345636,0.08269669140082692,0.0842203525206962,0.15528747370228382,0.11098472525785856,0.12289497450082389,0.10463781353175335,0.11289760219513521,0.11456049642060595,0.12090931056547831,0.09204774066107434,0.12213606945881379,0.11269573435977803,0.1190173278245051,0.10854543330129227,0.10961421613956505,0.0937369162956057,0.13830548986406063,0.10734204619615101,0.114884870502736,0.0983422839570783,0.11610456569501033,0.0948827236860907,0.09453314601428232,0.09355754832255041,0.10664506177619563,0.08583783811169073,0.16158985120617855,0.13008843716816276,0.12316251148593083,0.0837129894412657,0.12212382843053946,0.10034336126804685,0.0895730690898626,0.12739276304735098,0.11317218319469817,0.07448744222291125,0.08199844512711493,0.1300579157129668,0.11021931502134553,0.11890656546006903,0.12391743799484141,0.13871460394772472,0.07375522842543683,0.09788942695025457,0.12251208536990413,0.10615466450705256,0.09153193310461613,0.10691277720876755,0.11122702857144208,0.09639191001811633,0.07910430920904275,0.09995481393059702,0.10979969600349256,0.10587792863290932,0.08327069534783733,0.10854350894004614,0.10337336340405893,0.08763895124085515,0.08424681465197278,0.11100860359757836,0.09760643578457283,0.0928486778735857,0.13808737016757444,0.0998764013589255,0.11133023549577838,0.14234291866753887,0.1014112369423334,0.11615628327554894,0.09943374319901768,0.10517829556393442,0.0945288293141091,0.0969365999966263,0.11472410573526214,0.1081345335817532,0.08258647460987067,0.11374811296983615,0.08935399503065192,0.09103360496744596,0.15758124769844487,0.15705337108289247,0.1083749951213209,0.08105188511143677,0.06712161554046851,0.11527208525911425,0.11738704244333806,0.14118705418921929,0.07476697147389834,0.1420791194808494,0.09995781770606464,0.10137584482431398,0.09147251027569062,0.14115271239762273,0.1150371767578616,0.12587767061121505,0.1122998519364094,0.09213405093711885,0.09421300838548745,0.08787571546267614,0.07746696510387518,0.08238574047693493,0.0799957139876961,0.08829394987835205,0.10025334109657798,0.11666001119556187,0.09542490272677685,0.11489384718196424,0.09097869219833297,0.07417281222608273,0.09474756768980631,0.07762991151961866,0.09564081403316257,0.09383843192258975,0.10126538825606572,0.08329985205733678,0.08468383398145132,0.09654447552232959,0.07362301478636966,0.08305759551279193,0.1074264920280885,0.13164107846784642,0.07948983121900437,0.13288541613708263,0.08950819036107978,0.08181557452299372,0.09011138069319043,0.09084799389170103,0.09587657551947668,0.09778880362310909,0.0750752590973517,0.10190638500167662,0.0858247461129437,0.09224077454411451,0.09489190895033779,0.10120723113961108,0.130071913561902,0.08936600139000517,0.08858476422282385,0.09717307294241921,0.07567071028768842,0.11519544610778977,0.06837457645676752,0.078498097123526,0.11942407727365957,0.07743716103743936,0.08799628391045518,0.07316061723275351,0.07132254387833355,0.07795769677836868,0.06729525098495277,0.07387581344414527,0.10439474540075545,0.0728924257858095,0.07907550276002945,0.09097467141589724,0.06986027046704066,0.07737699541599333,0.04656512958534767,0.10929345494290774,0.09793366655525661,0.07885890152146495,0.08215590736671463,0.08719026974243585]},\"hovertemplate\":\"x=%{x}<br>y=%{y}<extra></extra>\",\"legendgroup\":\"\",\"marker\":{\"color\":\"#636efa\",\"symbol\":\"circle\"},\"mode\":\"markers\",\"name\":\"\",\"orientation\":\"v\",\"showlegend\":false,\"x\":[0,1,2,3,4,5,6,7,8,9,10,11,12,13,14,15,16,17,18,19,20,21,22,23,24,25,26,27,28,29,30,31,32,33,34,35,36,37,38,39,40,41,42,43,44,45,46,47,48,49,50,51,52,53,54,55,56,57,58,59,60,61,62,63,64,65,66,67,68,69,70,71,72,73,74,75,76,77,78,79,80,81,82,83,84,85,86,87,88,89,90,91,92,93,94,95,96,97,98,99,100,101,102,103,104,105,106,107,108,109,110,111,112,113,114,115,116,117,118,119,120,121,122,123,124,125,126,127,128,129,130,131,132,133,134,135,136,137,138,139,140,141,142,143,144,145,146,147,148,149,150,151,152,153,154,155,156,157,158,159,160,161,162,163,164,165,166,167,168,169,170,171,172,173,174,175,176,177,178,179,180,181,182,183,184,185,186,187,188,189,190,191,192,193,194,195,196,197,198,199,200,201,202,203,204,205,206,207,208,209,210,211,212,213,214,215,216,217,218,219,220,221,222,223,224,225,226,227,228,229,230,231,232,233,234,235,236,237,238],\"xaxis\":\"x\",\"y\":[-2.601541420454543,-0.049183265850471385,0.0233457256717619,-0.040160525018198355,0.20679989699380755,-0.03467942573148892,0.013506200495156186,0.05764865160036214,0.05275524101029828,0.027422834824363116,0.03557612228092535,0.010223991503914108,0.02460476868867949,0.06449039958216998,0.018867959900061633,0.04365606702267267,0.09284566199521894,-0.00390828918739545,0.0932805273449382,0.04351962089467931,-0.04926502222823575,0.1856391801505353,0.04481146326091892,-0.033850725210713466,0.01023693866378842,0.7091750524535171,-0.044697628021215366,0.021776421320775487,0.04740010090280078,0.03632445342741136,0.006194312549866271,-0.02492350441042961,-0.04047825738380902,-0.03807741064759782,0.0038228227108897898,-0.03596579039533405,0.10796749004659,-0.023547538185772626,-0.020946735744972078,-0.04339144863444558,-0.03587078846278791,0.033422563177315796,0.01954027206052792,0.01532462419138345,0.02093405958644928,0.026025673750319455,-0.00928053659061649,-0.029635669926133965,0.008490704578219623,0.0005067722229088048,-0.024497981628654245,-0.002012688487981915,0.052130878504521666,-0.012321913412626576,0.01498997217906122,0.013707114805693909,0.023561908658453118,0.04010582309127366,-0.03427735277541933,-0.08081809448336716,0.00974171186007145,-0.03766967856500118,0.01951196605530452,-0.023551818323964472,0.04671646594379711,-0.05127312374264948,0.03236329147984682,-0.015153809562937234,0.02212027610303978,-0.024083861772940203,0.01304982769755708,0.037320189635520945,0.06722268959566743,-0.01602040897597253,-0.04572582215818689,0.006672131153998724,-0.02573843664717322,-0.017254199830231184,-0.01979750636008135,0.0726404784453783,-0.010775572005992242,-0.035119676819777845,-0.023979924585164875,0.03350394324298746,-0.009278477660466923,0.04670291600305893,-0.0012106774068530836,0.03822612650918332,0.03477546033713513,-0.03315036307348746,-0.008455165047973634,0.037918961602762764,0.020674228049551824,-0.009528618284119146,-0.027728756291627563,0.017551040685828922,0.009397291675399608,0.002082860332461627,0.0025619237165795204,0.0048667770481717375,0.0006698948249583043,0.020757218191493697,-0.012618533743771568,-0.06509703766036781,-0.05273349106810133,-0.03563132858515632,-0.009166456559440525,0.0219650386329848,0.011931804832098422,-0.019523597419395935,-0.05661612914636027,-0.03823502797916272,-0.002666079614543389,0.008259662982289579,0.05870957901330826,0.029552742465350248,0.03284537153941337,-0.007696384083951242,-0.06003930563565902,-0.010055551286268326,-0.006328368613475904,0.04195790656563857,-0.02141477579968024,-0.012064443438036766,-0.011477372470371304,-0.02362647463009138,0.015704541679056043,-0.009255218326761546,-0.03138723619346469,-0.03117136444966874,0.01946189051147244,-0.005400975703947204,0.03798190094819208,-0.022158070377990287,-0.008672942416707729,-0.003574022116221879,0.020029191710854703,-0.025854658646577777,0.005204913716628588,0.03889679578805531,-0.012065456975756188,0.011736151133620006,0.06287740839423404,0.0004924898193379275,0.03536517160603066,-0.017174134520211534,0.030736882019498066,-0.03721757215047699,-0.020259428831484974,-0.03856349642672515,0.03316241362095102,0.006066161766605791,-0.024295994564557506,-0.013225018498882147,-0.012048619928737443,-0.0720939094161764,0.07251841391554657,-0.02265500010528282,-0.0036907648905023485,-0.010873302186551928,-0.03315368719215813,0.04502280823972551,0.06716599874571554,0.003509907587653927,0.05763597990034644,0.015621140062930005,0.014883814514185254,-0.015002225673702145,-0.05470212757519964,0.045893699988976036,-0.04542783796174054,0.03940696054745415,0.007505503676338038,0.0011702372197441393,0.022518636231046756,0.015321932018414511,-0.017876035459148384,-0.0005399759245607806,0.017164541410050804,0.006875841538064718,0.005161010372913159,-0.0338356498923888,0.04243134810473563,-0.004463297501592238,0.009466744404909999,-0.018222664394219303,0.006533548105377101,0.01442288195246774,-0.03380386480847143,-0.03675863548638938,0.013143239863505084,0.028745249474529604,0.019356928547852342,0.016969160665257544,-0.020237746329060863,0.03808989220642818,0.05610178811436957,-0.005314179123937637,-0.05489577860411926,-0.011775179342746625,0.003130482025119223,0.02150492449754246,-0.0058328137845681475,0.026356839497495607,-0.017033762377804143,0.003243938186887199,-0.034097502400331006,0.023122192708022737,0.020469591240171947,0.02688937335310868,-0.028126813196925775,-0.05554362914762856,0.004584230355045208,0.0018030525168082187,0.028117501861460073,-0.0020033904219315425,0.05251931817244221,-0.01108250122972575,-0.00030080250962749485,0.022687756493258483,-0.0012393253883489811,0.010801298638634868,-0.0007877048191960925,0.0009162665468248802,0.010663421260993377,-0.01338959377568897,0.009883705396256706,0.03306464368604674,0.005663677861005429,-0.01613996853968143,0.006196064554720639,0.014451411114872354,-0.008319068140029466,-0.003161767557146174,-0.041297899645187895,0.019703953896703104,0.027728805902573712,0.02589220651856759,0.023789970542355772],\"yaxis\":\"y\",\"type\":\"scatter\"}],                        {\"template\":{\"data\":{\"histogram2dcontour\":[{\"type\":\"histogram2dcontour\",\"colorbar\":{\"outlinewidth\":0,\"ticks\":\"\"},\"colorscale\":[[0.0,\"#0d0887\"],[0.1111111111111111,\"#46039f\"],[0.2222222222222222,\"#7201a8\"],[0.3333333333333333,\"#9c179e\"],[0.4444444444444444,\"#bd3786\"],[0.5555555555555556,\"#d8576b\"],[0.6666666666666666,\"#ed7953\"],[0.7777777777777778,\"#fb9f3a\"],[0.8888888888888888,\"#fdca26\"],[1.0,\"#f0f921\"]]}],\"choropleth\":[{\"type\":\"choropleth\",\"colorbar\":{\"outlinewidth\":0,\"ticks\":\"\"}}],\"histogram2d\":[{\"type\":\"histogram2d\",\"colorbar\":{\"outlinewidth\":0,\"ticks\":\"\"},\"colorscale\":[[0.0,\"#0d0887\"],[0.1111111111111111,\"#46039f\"],[0.2222222222222222,\"#7201a8\"],[0.3333333333333333,\"#9c179e\"],[0.4444444444444444,\"#bd3786\"],[0.5555555555555556,\"#d8576b\"],[0.6666666666666666,\"#ed7953\"],[0.7777777777777778,\"#fb9f3a\"],[0.8888888888888888,\"#fdca26\"],[1.0,\"#f0f921\"]]}],\"heatmap\":[{\"type\":\"heatmap\",\"colorbar\":{\"outlinewidth\":0,\"ticks\":\"\"},\"colorscale\":[[0.0,\"#0d0887\"],[0.1111111111111111,\"#46039f\"],[0.2222222222222222,\"#7201a8\"],[0.3333333333333333,\"#9c179e\"],[0.4444444444444444,\"#bd3786\"],[0.5555555555555556,\"#d8576b\"],[0.6666666666666666,\"#ed7953\"],[0.7777777777777778,\"#fb9f3a\"],[0.8888888888888888,\"#fdca26\"],[1.0,\"#f0f921\"]]}],\"heatmapgl\":[{\"type\":\"heatmapgl\",\"colorbar\":{\"outlinewidth\":0,\"ticks\":\"\"},\"colorscale\":[[0.0,\"#0d0887\"],[0.1111111111111111,\"#46039f\"],[0.2222222222222222,\"#7201a8\"],[0.3333333333333333,\"#9c179e\"],[0.4444444444444444,\"#bd3786\"],[0.5555555555555556,\"#d8576b\"],[0.6666666666666666,\"#ed7953\"],[0.7777777777777778,\"#fb9f3a\"],[0.8888888888888888,\"#fdca26\"],[1.0,\"#f0f921\"]]}],\"contourcarpet\":[{\"type\":\"contourcarpet\",\"colorbar\":{\"outlinewidth\":0,\"ticks\":\"\"}}],\"contour\":[{\"type\":\"contour\",\"colorbar\":{\"outlinewidth\":0,\"ticks\":\"\"},\"colorscale\":[[0.0,\"#0d0887\"],[0.1111111111111111,\"#46039f\"],[0.2222222222222222,\"#7201a8\"],[0.3333333333333333,\"#9c179e\"],[0.4444444444444444,\"#bd3786\"],[0.5555555555555556,\"#d8576b\"],[0.6666666666666666,\"#ed7953\"],[0.7777777777777778,\"#fb9f3a\"],[0.8888888888888888,\"#fdca26\"],[1.0,\"#f0f921\"]]}],\"surface\":[{\"type\":\"surface\",\"colorbar\":{\"outlinewidth\":0,\"ticks\":\"\"},\"colorscale\":[[0.0,\"#0d0887\"],[0.1111111111111111,\"#46039f\"],[0.2222222222222222,\"#7201a8\"],[0.3333333333333333,\"#9c179e\"],[0.4444444444444444,\"#bd3786\"],[0.5555555555555556,\"#d8576b\"],[0.6666666666666666,\"#ed7953\"],[0.7777777777777778,\"#fb9f3a\"],[0.8888888888888888,\"#fdca26\"],[1.0,\"#f0f921\"]]}],\"mesh3d\":[{\"type\":\"mesh3d\",\"colorbar\":{\"outlinewidth\":0,\"ticks\":\"\"}}],\"scatter\":[{\"fillpattern\":{\"fillmode\":\"overlay\",\"size\":10,\"solidity\":0.2},\"type\":\"scatter\"}],\"parcoords\":[{\"type\":\"parcoords\",\"line\":{\"colorbar\":{\"outlinewidth\":0,\"ticks\":\"\"}}}],\"scatterpolargl\":[{\"type\":\"scatterpolargl\",\"marker\":{\"colorbar\":{\"outlinewidth\":0,\"ticks\":\"\"}}}],\"bar\":[{\"error_x\":{\"color\":\"#2a3f5f\"},\"error_y\":{\"color\":\"#2a3f5f\"},\"marker\":{\"line\":{\"color\":\"#E5ECF6\",\"width\":0.5},\"pattern\":{\"fillmode\":\"overlay\",\"size\":10,\"solidity\":0.2}},\"type\":\"bar\"}],\"scattergeo\":[{\"type\":\"scattergeo\",\"marker\":{\"colorbar\":{\"outlinewidth\":0,\"ticks\":\"\"}}}],\"scatterpolar\":[{\"type\":\"scatterpolar\",\"marker\":{\"colorbar\":{\"outlinewidth\":0,\"ticks\":\"\"}}}],\"histogram\":[{\"marker\":{\"pattern\":{\"fillmode\":\"overlay\",\"size\":10,\"solidity\":0.2}},\"type\":\"histogram\"}],\"scattergl\":[{\"type\":\"scattergl\",\"marker\":{\"colorbar\":{\"outlinewidth\":0,\"ticks\":\"\"}}}],\"scatter3d\":[{\"type\":\"scatter3d\",\"line\":{\"colorbar\":{\"outlinewidth\":0,\"ticks\":\"\"}},\"marker\":{\"colorbar\":{\"outlinewidth\":0,\"ticks\":\"\"}}}],\"scattermapbox\":[{\"type\":\"scattermapbox\",\"marker\":{\"colorbar\":{\"outlinewidth\":0,\"ticks\":\"\"}}}],\"scatterternary\":[{\"type\":\"scatterternary\",\"marker\":{\"colorbar\":{\"outlinewidth\":0,\"ticks\":\"\"}}}],\"scattercarpet\":[{\"type\":\"scattercarpet\",\"marker\":{\"colorbar\":{\"outlinewidth\":0,\"ticks\":\"\"}}}],\"carpet\":[{\"aaxis\":{\"endlinecolor\":\"#2a3f5f\",\"gridcolor\":\"white\",\"linecolor\":\"white\",\"minorgridcolor\":\"white\",\"startlinecolor\":\"#2a3f5f\"},\"baxis\":{\"endlinecolor\":\"#2a3f5f\",\"gridcolor\":\"white\",\"linecolor\":\"white\",\"minorgridcolor\":\"white\",\"startlinecolor\":\"#2a3f5f\"},\"type\":\"carpet\"}],\"table\":[{\"cells\":{\"fill\":{\"color\":\"#EBF0F8\"},\"line\":{\"color\":\"white\"}},\"header\":{\"fill\":{\"color\":\"#C8D4E3\"},\"line\":{\"color\":\"white\"}},\"type\":\"table\"}],\"barpolar\":[{\"marker\":{\"line\":{\"color\":\"#E5ECF6\",\"width\":0.5},\"pattern\":{\"fillmode\":\"overlay\",\"size\":10,\"solidity\":0.2}},\"type\":\"barpolar\"}],\"pie\":[{\"automargin\":true,\"type\":\"pie\"}]},\"layout\":{\"autotypenumbers\":\"strict\",\"colorway\":[\"#636efa\",\"#EF553B\",\"#00cc96\",\"#ab63fa\",\"#FFA15A\",\"#19d3f3\",\"#FF6692\",\"#B6E880\",\"#FF97FF\",\"#FECB52\"],\"font\":{\"color\":\"#2a3f5f\"},\"hovermode\":\"closest\",\"hoverlabel\":{\"align\":\"left\"},\"paper_bgcolor\":\"white\",\"plot_bgcolor\":\"#E5ECF6\",\"polar\":{\"bgcolor\":\"#E5ECF6\",\"angularaxis\":{\"gridcolor\":\"white\",\"linecolor\":\"white\",\"ticks\":\"\"},\"radialaxis\":{\"gridcolor\":\"white\",\"linecolor\":\"white\",\"ticks\":\"\"}},\"ternary\":{\"bgcolor\":\"#E5ECF6\",\"aaxis\":{\"gridcolor\":\"white\",\"linecolor\":\"white\",\"ticks\":\"\"},\"baxis\":{\"gridcolor\":\"white\",\"linecolor\":\"white\",\"ticks\":\"\"},\"caxis\":{\"gridcolor\":\"white\",\"linecolor\":\"white\",\"ticks\":\"\"}},\"coloraxis\":{\"colorbar\":{\"outlinewidth\":0,\"ticks\":\"\"}},\"colorscale\":{\"sequential\":[[0.0,\"#0d0887\"],[0.1111111111111111,\"#46039f\"],[0.2222222222222222,\"#7201a8\"],[0.3333333333333333,\"#9c179e\"],[0.4444444444444444,\"#bd3786\"],[0.5555555555555556,\"#d8576b\"],[0.6666666666666666,\"#ed7953\"],[0.7777777777777778,\"#fb9f3a\"],[0.8888888888888888,\"#fdca26\"],[1.0,\"#f0f921\"]],\"sequentialminus\":[[0.0,\"#0d0887\"],[0.1111111111111111,\"#46039f\"],[0.2222222222222222,\"#7201a8\"],[0.3333333333333333,\"#9c179e\"],[0.4444444444444444,\"#bd3786\"],[0.5555555555555556,\"#d8576b\"],[0.6666666666666666,\"#ed7953\"],[0.7777777777777778,\"#fb9f3a\"],[0.8888888888888888,\"#fdca26\"],[1.0,\"#f0f921\"]],\"diverging\":[[0,\"#8e0152\"],[0.1,\"#c51b7d\"],[0.2,\"#de77ae\"],[0.3,\"#f1b6da\"],[0.4,\"#fde0ef\"],[0.5,\"#f7f7f7\"],[0.6,\"#e6f5d0\"],[0.7,\"#b8e186\"],[0.8,\"#7fbc41\"],[0.9,\"#4d9221\"],[1,\"#276419\"]]},\"xaxis\":{\"gridcolor\":\"white\",\"linecolor\":\"white\",\"ticks\":\"\",\"title\":{\"standoff\":15},\"zerolinecolor\":\"white\",\"automargin\":true,\"zerolinewidth\":2},\"yaxis\":{\"gridcolor\":\"white\",\"linecolor\":\"white\",\"ticks\":\"\",\"title\":{\"standoff\":15},\"zerolinecolor\":\"white\",\"automargin\":true,\"zerolinewidth\":2},\"scene\":{\"xaxis\":{\"backgroundcolor\":\"#E5ECF6\",\"gridcolor\":\"white\",\"linecolor\":\"white\",\"showbackground\":true,\"ticks\":\"\",\"zerolinecolor\":\"white\",\"gridwidth\":2},\"yaxis\":{\"backgroundcolor\":\"#E5ECF6\",\"gridcolor\":\"white\",\"linecolor\":\"white\",\"showbackground\":true,\"ticks\":\"\",\"zerolinecolor\":\"white\",\"gridwidth\":2},\"zaxis\":{\"backgroundcolor\":\"#E5ECF6\",\"gridcolor\":\"white\",\"linecolor\":\"white\",\"showbackground\":true,\"ticks\":\"\",\"zerolinecolor\":\"white\",\"gridwidth\":2}},\"shapedefaults\":{\"line\":{\"color\":\"#2a3f5f\"}},\"annotationdefaults\":{\"arrowcolor\":\"#2a3f5f\",\"arrowhead\":0,\"arrowwidth\":1},\"geo\":{\"bgcolor\":\"white\",\"landcolor\":\"#E5ECF6\",\"subunitcolor\":\"white\",\"showland\":true,\"showlakes\":true,\"lakecolor\":\"white\"},\"title\":{\"x\":0.05},\"mapbox\":{\"style\":\"light\"}}},\"xaxis\":{\"anchor\":\"y\",\"domain\":[0.0,1.0],\"title\":{\"text\":\"Feature number\"}},\"yaxis\":{\"anchor\":\"x\",\"domain\":[0.0,1.0],\"title\":{\"text\":\"Coefficient value\"}},\"legend\":{\"tracegroupgap\":0},\"margin\":{\"t\":60},\"title\":{\"text\":\"alpha = 1.0714364285714288, Rsquared = 0.1292292268870341\"}},                        {\"responsive\": true}                    ).then(function(){\n",
       "                            \n",
       "var gd = document.getElementById('941b6c87-dd13-48a9-9eb8-3bb6e6e28cff');\n",
       "var x = new MutationObserver(function (mutations, observer) {{\n",
       "        var display = window.getComputedStyle(gd).display;\n",
       "        if (!display || display === 'none') {{\n",
       "            console.log([gd, 'removed!']);\n",
       "            Plotly.purge(gd);\n",
       "            observer.disconnect();\n",
       "        }}\n",
       "}});\n",
       "\n",
       "// Listen for the removal of the full notebook cells\n",
       "var notebookContainer = gd.closest('#notebook-container');\n",
       "if (notebookContainer) {{\n",
       "    x.observe(notebookContainer, {childList: true});\n",
       "}}\n",
       "\n",
       "// Listen for the clearing of the current output cell\n",
       "var outputEl = gd.closest('.output');\n",
       "if (outputEl) {{\n",
       "    x.observe(outputEl, {childList: true});\n",
       "}}\n",
       "\n",
       "                        })                };                });            </script>        </div>"
      ]
     },
     "metadata": {},
     "output_type": "display_data"
    },
    {
     "data": {
      "application/vnd.plotly.v1+json": {
       "config": {
        "plotlyServerURL": "https://plot.ly"
       },
       "data": [
        {
         "error_y": {
          "array": [
           0.29382295747212717,
           0.14872142698018015,
           0.12838213947531246,
           0.12812291197794445,
           0.3356368466576262,
           0.10374487707790923,
           0.10966614935873062,
           0.1401570766882822,
           0.12708358919350607,
           0.114933691634026,
           0.11858311180216585,
           0.1030677199834141,
           0.10156217637204613,
           0.1442529318278998,
           0.116063723140714,
           0.14217889279649037,
           0.18123162296027465,
           0.09595553379034077,
           0.18607047603148935,
           0.14573407997334953,
           0.14774042272205246,
           0.2780499688989477,
           0.12746230902208783,
           0.11699733213799861,
           0.12555001681525316,
           0.37591375640996033,
           0.13467665208392166,
           0.10643088890826753,
           0.1422543362087291,
           0.12363098535462147,
           0.09903839354802325,
           0.11943636254762831,
           0.10949047565490515,
           0.10551878058113476,
           0.10336499167476444,
           0.11250607335722955,
           0.2056961307655813,
           0.14051902191854895,
           0.11398654769656921,
           0.10940819936386409,
           0.09453997900127073,
           0.10580297316197874,
           0.10097619227981848,
           0.10744434872484948,
           0.10248053126590538,
           0.10837541713736185,
           0.07500257456429525,
           0.09426289373413839,
           0.064176447365324,
           0.10541102728518341,
           0.11810610571058093,
           0.08595673344435456,
           0.13402484619407296,
           0.08625428010350306,
           0.09094181593620392,
           0.10162026689877098,
           0.09733122239049864,
           0.1187070400875508,
           0.09497756785217981,
           0.17033949072495652,
           0.10241409636654852,
           0.11957953479236248,
           0.08728559245504021,
           0.0950242527597022,
           0.10841747934979556,
           0.13497231272931817,
           0.12824952003550708,
           0.08387970781650568,
           0.10618568290761797,
           0.11309614974283123,
           0.10184029185398488,
           0.09770974317889565,
           0.13638005933050892,
           0.10112536827348365,
           0.10392477099458584,
           0.08191649742006271,
           0.10060162697945678,
           0.07428746462762521,
           0.07574407451583837,
           0.14190004174936072,
           0.09936128755595454,
           0.11081463115507559,
           0.0940811538080981,
           0.10186411114410528,
           0.10253321557300879,
           0.10974623038286153,
           0.08233142636327674,
           0.11030672440944306,
           0.10175340808532658,
           0.1072750246306088,
           0.09714487759532989,
           0.09943736941466856,
           0.08424770248591743,
           0.12376289408321195,
           0.09664800601483817,
           0.102995694186728,
           0.08804029364811193,
           0.1038504225765617,
           0.08487187493965907,
           0.08457542337642263,
           0.08368084416372432,
           0.09574692317836928,
           0.07694143191002328,
           0.14685722283979846,
           0.11825114190027278,
           0.11107807182652205,
           0.07496489517829459,
           0.10958365591623266,
           0.08987664321224696,
           0.08049630489614065,
           0.11617031075824812,
           0.10237314695550756,
           0.06663212825664454,
           0.07341601683436086,
           0.1186740894153023,
           0.09928935621192833,
           0.10716104668970335,
           0.1108778726520126,
           0.1263730509012526,
           0.06609118877685688,
           0.08759155008792768,
           0.110855957878176,
           0.09533323165032233,
           0.08201075508473558,
           0.09573583632583306,
           0.09993235290144178,
           0.08644409450188298,
           0.07084983301995096,
           0.0902789161844844,
           0.09899617784456217,
           0.09501952981593773,
           0.07451090020353004,
           0.09826583655756876,
           0.09288379095642946,
           0.07846339151797517,
           0.07536620200500081,
           0.09961182169523372,
           0.0879122698208482,
           0.08307247538497141,
           0.12448522464712908,
           0.08946244172305438,
           0.09968738650094268,
           0.12977586891887535,
           0.09070518171492753,
           0.10485197648851113,
           0.08920116351650248,
           0.09487433811516759,
           0.08584977160995744,
           0.08708062154221083,
           0.10376530860778,
           0.09762387613029304,
           0.07390743103208999,
           0.10220251376387851,
           0.08009552622111846,
           0.08156543916048249,
           0.14386481426999356,
           0.14411864888525316,
           0.09735958270690766,
           0.07251004029353207,
           0.060192737188805204,
           0.10395186207038165,
           0.10653123786078132,
           0.12910782640300125,
           0.06688834824473266,
           0.12951377175945475,
           0.08962307436786893,
           0.09086855341973703,
           0.08203527773423652,
           0.12813290840204786,
           0.10451716940734161,
           0.11404534414302339,
           0.10167335325584957,
           0.08246186929325727,
           0.08426797655135575,
           0.07911287714965207,
           0.06955908569014024,
           0.07403415840098716,
           0.07155066776040338,
           0.07927040245379861,
           0.08971148350305669,
           0.10442797020555072,
           0.0864170460089495,
           0.10415634394763089,
           0.08139339844992247,
           0.06645016131477938,
           0.08505769657195265,
           0.0694834691863414,
           0.08644653782617726,
           0.08501384151249965,
           0.09176020189695495,
           0.07469090602528529,
           0.07661127651340563,
           0.08669843777343363,
           0.06627941410960948,
           0.07472872244412052,
           0.09728563785931568,
           0.11986277375768943,
           0.07112963583304371,
           0.12087919804574587,
           0.08019699301806875,
           0.07318878721809977,
           0.08105579947648478,
           0.08129040453817814,
           0.08640025153205912,
           0.08772994893962549,
           0.06716188892831806,
           0.09216263554432456,
           0.07731915263103976,
           0.08290795533172704,
           0.08555270686122095,
           0.09121897679350953,
           0.1184422953017501,
           0.07995241203630464,
           0.07923590424592675,
           0.08763891778089393,
           0.06768668471764043,
           0.10515377904852453,
           0.06131653657763113,
           0.07021093560660958,
           0.10722750948821208,
           0.06926367645467801,
           0.07882476561337422,
           0.06543760392713306,
           0.06379387540605262,
           0.06985782245439762,
           0.06042851677428379,
           0.06619470273976916,
           0.09430553324046376,
           0.06529023266154226,
           0.0710213199181449,
           0.08140795579018505,
           0.06275173971370403,
           0.06928804109542674,
           0.041668315522637035,
           0.09914096064243108,
           0.08794840398683296,
           0.07140030075302267,
           0.07420875628618927,
           0.07856378645376108
          ]
         },
         "hovertemplate": "x=%{x}<br>y=%{y}<extra></extra>",
         "legendgroup": "",
         "marker": {
          "color": "#636efa",
          "symbol": "circle"
         },
         "mode": "markers",
         "name": "",
         "orientation": "v",
         "showlegend": false,
         "type": "scatter",
         "x": [
          0,
          1,
          2,
          3,
          4,
          5,
          6,
          7,
          8,
          9,
          10,
          11,
          12,
          13,
          14,
          15,
          16,
          17,
          18,
          19,
          20,
          21,
          22,
          23,
          24,
          25,
          26,
          27,
          28,
          29,
          30,
          31,
          32,
          33,
          34,
          35,
          36,
          37,
          38,
          39,
          40,
          41,
          42,
          43,
          44,
          45,
          46,
          47,
          48,
          49,
          50,
          51,
          52,
          53,
          54,
          55,
          56,
          57,
          58,
          59,
          60,
          61,
          62,
          63,
          64,
          65,
          66,
          67,
          68,
          69,
          70,
          71,
          72,
          73,
          74,
          75,
          76,
          77,
          78,
          79,
          80,
          81,
          82,
          83,
          84,
          85,
          86,
          87,
          88,
          89,
          90,
          91,
          92,
          93,
          94,
          95,
          96,
          97,
          98,
          99,
          100,
          101,
          102,
          103,
          104,
          105,
          106,
          107,
          108,
          109,
          110,
          111,
          112,
          113,
          114,
          115,
          116,
          117,
          118,
          119,
          120,
          121,
          122,
          123,
          124,
          125,
          126,
          127,
          128,
          129,
          130,
          131,
          132,
          133,
          134,
          135,
          136,
          137,
          138,
          139,
          140,
          141,
          142,
          143,
          144,
          145,
          146,
          147,
          148,
          149,
          150,
          151,
          152,
          153,
          154,
          155,
          156,
          157,
          158,
          159,
          160,
          161,
          162,
          163,
          164,
          165,
          166,
          167,
          168,
          169,
          170,
          171,
          172,
          173,
          174,
          175,
          176,
          177,
          178,
          179,
          180,
          181,
          182,
          183,
          184,
          185,
          186,
          187,
          188,
          189,
          190,
          191,
          192,
          193,
          194,
          195,
          196,
          197,
          198,
          199,
          200,
          201,
          202,
          203,
          204,
          205,
          206,
          207,
          208,
          209,
          210,
          211,
          212,
          213,
          214,
          215,
          216,
          217,
          218,
          219,
          220,
          221,
          222,
          223,
          224,
          225,
          226,
          227,
          228,
          229,
          230,
          231,
          232,
          233,
          234,
          235,
          236,
          237,
          238
         ],
         "xaxis": "x",
         "y": [
          -2.6034016818181835,
          -0.03934661268037711,
          0.01867658053740952,
          -0.032128420014558685,
          0.16560020609788953,
          -0.027743540585191136,
          0.01080496039612495,
          0.04611892128028971,
          0.04220419280823862,
          0.02193826785949049,
          0.02846089782474028,
          0.008179193203131287,
          0.019683814950943592,
          0.051592319665735985,
          0.015094367920049305,
          0.03492485361813813,
          0.07427652959617516,
          -0.00312663134991636,
          0.07462442187595057,
          0.03481569671574345,
          -0.0394120177825886,
          0.150202085675783,
          0.03584917060873514,
          -0.027080580168570772,
          0.008189550931030735,
          0.6008857686930225,
          -0.03575810241697229,
          0.017426001823834664,
          0.03792008072224062,
          0.02905956274192909,
          0.004955450039893017,
          -0.019938803528343686,
          -0.03238260590704722,
          -0.030461928518078257,
          0.0030582581687118317,
          -0.028772632316267237,
          0.086373992037272,
          -0.0188380305486181,
          -0.01675738859597766,
          -0.03471315890755646,
          -0.02869663077023033,
          0.026738050541852635,
          0.015632217648422337,
          0.01225969935310676,
          0.016747247669159422,
          0.020820539000255565,
          -0.007424429272493193,
          -0.02370853594090717,
          0.006792563662575698,
          0.0004054177783270438,
          -0.019598385302923394,
          -0.001610150790385532,
          0.041704702803617336,
          -0.00985753073010126,
          0.011991977743248975,
          0.010965691844555127,
          0.018849526926762495,
          0.03208465847301893,
          -0.027421882220335463,
          -0.06465447558669372,
          0.0077933694880571594,
          -0.03013574285200095,
          0.015609572844243615,
          -0.01884145465917158,
          0.03737317275503769,
          -0.041018498994119586,
          0.02589063318387745,
          -0.012123047650349788,
          0.017696220882431824,
          -0.019267089418352163,
          0.010439862158045663,
          0.029856151708416757,
          0.05377815167653394,
          -0.012816327180778023,
          -0.03658065772654952,
          0.0053377049231989795,
          -0.020590749317738577,
          -0.013803359864184947,
          -0.01583800508806508,
          0.058112382756302636,
          -0.008620457604793793,
          -0.028095741455822276,
          -0.019183939668131898,
          0.026803154594389967,
          -0.007422782128373538,
          0.03736233280244714,
          -0.000968541925482467,
          0.030580901207346654,
          0.027820368269708108,
          -0.02652029045878997,
          -0.006764132038378908,
          0.03068992442943219,
          0.01653938243964146,
          -0.007622894627295316,
          -0.022183915977563775,
          0.014040832548663139,
          0.007517833340319686,
          0.0016662882659693014,
          0.0020495389732636165,
          0.0038934216385373903,
          0.0005359158599666434,
          0.016605774553194955,
          -0.010094826995017254,
          -0.05207763012829426,
          -0.04218679285448106,
          -0.02850506286812506,
          -0.0073331652475524195,
          0.01757203090638784,
          0.009545443865678738,
          -0.015618877935516747,
          -0.04532573815546985,
          -0.03058802238333018,
          -0.0021328636916347113,
          0.006607730385831663,
          0.04696766321064661,
          0.0236421939722802,
          0.026281456213889713,
          -0.006157107267160994,
          -0.04803144450852721,
          -0.00804444102901466,
          -0.005062694890780723,
          0.033566325252510854,
          -0.01713182063974419,
          -0.009651554750429413,
          -0.009181897976297043,
          -0.018901179704073102,
          0.012563633343244835,
          -0.007404174661409236,
          -0.025117017328237082,
          -0.024937091559734993,
          0.015569512409177953,
          -0.004320780563157763,
          0.030385520758553664,
          -0.01772645630239223,
          -0.006938353933366183,
          -0.0028592176929775033,
          0.016023353368683765,
          -0.02068372691726222,
          0.00416393097330287,
          0.03111743663044425,
          -0.00965236558060495,
          0.009388920906896005,
          0.05030192671538723,
          0.00039399185547034203,
          0.028292137284824527,
          -0.013739307616169228,
          0.024589505615598452,
          -0.02977405772038159,
          -0.01620754306518798,
          -0.030850797141380122,
          0.02652993089676082,
          0.004852929413284633,
          -0.019436795651646004,
          -0.010580014799105718,
          -0.009638895942989955,
          -0.05767512753294112,
          0.05975849190326601,
          -0.018139648085138377,
          -0.002952611912401879,
          -0.008698641749241542,
          -0.026522949753726505,
          0.036048519675776255,
          0.053732798996572434,
          0.0028079260701231418,
          0.04700981219652619,
          0.012496912050344004,
          0.011907051611348203,
          -0.012001780538961717,
          -0.04376170206015971,
          0.03671495999118083,
          -0.036342270369392436,
          0.031525568437963315,
          0.006004402941070431,
          0.0009361897757953115,
          0.018014908984837406,
          0.01225754561473161,
          -0.014300828367318707,
          -0.00043198073964862446,
          0.013731633128040644,
          0.005500673230451775,
          0.004225109944471085,
          -0.027068519913911036,
          0.033945078483788506,
          -0.00357063800127379,
          0.007573395523927999,
          -0.014578131515375443,
          0.005226838484301681,
          0.012105310432238281,
          -0.027043091846777143,
          -0.029406908389111506,
          0.010514591890804068,
          0.022996199579623684,
          0.015485542838281872,
          0.01366561376928071,
          -0.01619019706324869,
          0.030471913765142546,
          0.04488143049149566,
          -0.0042513432991501095,
          -0.043950597116837756,
          -0.0094201434741973,
          0.0025043856200953783,
          0.017203939598033968,
          -0.004666251027654517,
          0.021085471597996484,
          -0.013627009902243315,
          0.0025951505495097594,
          -0.02727800192026481,
          0.01849775416641819,
          0.016375672992137557,
          0.021511498682486942,
          -0.02250145055754062,
          -0.04443490331810285,
          0.0036673842840361666,
          0.001442442013446575,
          0.02249400148916806,
          -0.001602712337545234,
          0.04201545453795377,
          -0.0088660009837806,
          -0.00024064200770199587,
          0.018197919475187785,
          -0.000991460310679185,
          0.008641038910907894,
          -0.0006301638553568741,
          0.0007330132374599042,
          0.008530737008794703,
          -0.010711675020551176,
          0.007906964317005365,
          0.02645171494883739,
          0.004580982843652427,
          -0.012911974831745145,
          0.004956851643776511,
          0.011561128891897882,
          -0.006655254512023573,
          -0.002529414045716939,
          -0.033038319716150316,
          0.015763163117362484,
          0.02218304472205897,
          0.020713765214854074,
          0.01903197643388462
         ],
         "yaxis": "y"
        }
       ],
       "layout": {
        "legend": {
         "tracegroupgap": 0
        },
        "margin": {
         "t": 60
        },
        "template": {
         "data": {
          "bar": [
           {
            "error_x": {
             "color": "#2a3f5f"
            },
            "error_y": {
             "color": "#2a3f5f"
            },
            "marker": {
             "line": {
              "color": "#E5ECF6",
              "width": 0.5
             },
             "pattern": {
              "fillmode": "overlay",
              "size": 10,
              "solidity": 0.2
             }
            },
            "type": "bar"
           }
          ],
          "barpolar": [
           {
            "marker": {
             "line": {
              "color": "#E5ECF6",
              "width": 0.5
             },
             "pattern": {
              "fillmode": "overlay",
              "size": 10,
              "solidity": 0.2
             }
            },
            "type": "barpolar"
           }
          ],
          "carpet": [
           {
            "aaxis": {
             "endlinecolor": "#2a3f5f",
             "gridcolor": "white",
             "linecolor": "white",
             "minorgridcolor": "white",
             "startlinecolor": "#2a3f5f"
            },
            "baxis": {
             "endlinecolor": "#2a3f5f",
             "gridcolor": "white",
             "linecolor": "white",
             "minorgridcolor": "white",
             "startlinecolor": "#2a3f5f"
            },
            "type": "carpet"
           }
          ],
          "choropleth": [
           {
            "colorbar": {
             "outlinewidth": 0,
             "ticks": ""
            },
            "type": "choropleth"
           }
          ],
          "contour": [
           {
            "colorbar": {
             "outlinewidth": 0,
             "ticks": ""
            },
            "colorscale": [
             [
              0,
              "#0d0887"
             ],
             [
              0.1111111111111111,
              "#46039f"
             ],
             [
              0.2222222222222222,
              "#7201a8"
             ],
             [
              0.3333333333333333,
              "#9c179e"
             ],
             [
              0.4444444444444444,
              "#bd3786"
             ],
             [
              0.5555555555555556,
              "#d8576b"
             ],
             [
              0.6666666666666666,
              "#ed7953"
             ],
             [
              0.7777777777777778,
              "#fb9f3a"
             ],
             [
              0.8888888888888888,
              "#fdca26"
             ],
             [
              1,
              "#f0f921"
             ]
            ],
            "type": "contour"
           }
          ],
          "contourcarpet": [
           {
            "colorbar": {
             "outlinewidth": 0,
             "ticks": ""
            },
            "type": "contourcarpet"
           }
          ],
          "heatmap": [
           {
            "colorbar": {
             "outlinewidth": 0,
             "ticks": ""
            },
            "colorscale": [
             [
              0,
              "#0d0887"
             ],
             [
              0.1111111111111111,
              "#46039f"
             ],
             [
              0.2222222222222222,
              "#7201a8"
             ],
             [
              0.3333333333333333,
              "#9c179e"
             ],
             [
              0.4444444444444444,
              "#bd3786"
             ],
             [
              0.5555555555555556,
              "#d8576b"
             ],
             [
              0.6666666666666666,
              "#ed7953"
             ],
             [
              0.7777777777777778,
              "#fb9f3a"
             ],
             [
              0.8888888888888888,
              "#fdca26"
             ],
             [
              1,
              "#f0f921"
             ]
            ],
            "type": "heatmap"
           }
          ],
          "heatmapgl": [
           {
            "colorbar": {
             "outlinewidth": 0,
             "ticks": ""
            },
            "colorscale": [
             [
              0,
              "#0d0887"
             ],
             [
              0.1111111111111111,
              "#46039f"
             ],
             [
              0.2222222222222222,
              "#7201a8"
             ],
             [
              0.3333333333333333,
              "#9c179e"
             ],
             [
              0.4444444444444444,
              "#bd3786"
             ],
             [
              0.5555555555555556,
              "#d8576b"
             ],
             [
              0.6666666666666666,
              "#ed7953"
             ],
             [
              0.7777777777777778,
              "#fb9f3a"
             ],
             [
              0.8888888888888888,
              "#fdca26"
             ],
             [
              1,
              "#f0f921"
             ]
            ],
            "type": "heatmapgl"
           }
          ],
          "histogram": [
           {
            "marker": {
             "pattern": {
              "fillmode": "overlay",
              "size": 10,
              "solidity": 0.2
             }
            },
            "type": "histogram"
           }
          ],
          "histogram2d": [
           {
            "colorbar": {
             "outlinewidth": 0,
             "ticks": ""
            },
            "colorscale": [
             [
              0,
              "#0d0887"
             ],
             [
              0.1111111111111111,
              "#46039f"
             ],
             [
              0.2222222222222222,
              "#7201a8"
             ],
             [
              0.3333333333333333,
              "#9c179e"
             ],
             [
              0.4444444444444444,
              "#bd3786"
             ],
             [
              0.5555555555555556,
              "#d8576b"
             ],
             [
              0.6666666666666666,
              "#ed7953"
             ],
             [
              0.7777777777777778,
              "#fb9f3a"
             ],
             [
              0.8888888888888888,
              "#fdca26"
             ],
             [
              1,
              "#f0f921"
             ]
            ],
            "type": "histogram2d"
           }
          ],
          "histogram2dcontour": [
           {
            "colorbar": {
             "outlinewidth": 0,
             "ticks": ""
            },
            "colorscale": [
             [
              0,
              "#0d0887"
             ],
             [
              0.1111111111111111,
              "#46039f"
             ],
             [
              0.2222222222222222,
              "#7201a8"
             ],
             [
              0.3333333333333333,
              "#9c179e"
             ],
             [
              0.4444444444444444,
              "#bd3786"
             ],
             [
              0.5555555555555556,
              "#d8576b"
             ],
             [
              0.6666666666666666,
              "#ed7953"
             ],
             [
              0.7777777777777778,
              "#fb9f3a"
             ],
             [
              0.8888888888888888,
              "#fdca26"
             ],
             [
              1,
              "#f0f921"
             ]
            ],
            "type": "histogram2dcontour"
           }
          ],
          "mesh3d": [
           {
            "colorbar": {
             "outlinewidth": 0,
             "ticks": ""
            },
            "type": "mesh3d"
           }
          ],
          "parcoords": [
           {
            "line": {
             "colorbar": {
              "outlinewidth": 0,
              "ticks": ""
             }
            },
            "type": "parcoords"
           }
          ],
          "pie": [
           {
            "automargin": true,
            "type": "pie"
           }
          ],
          "scatter": [
           {
            "fillpattern": {
             "fillmode": "overlay",
             "size": 10,
             "solidity": 0.2
            },
            "type": "scatter"
           }
          ],
          "scatter3d": [
           {
            "line": {
             "colorbar": {
              "outlinewidth": 0,
              "ticks": ""
             }
            },
            "marker": {
             "colorbar": {
              "outlinewidth": 0,
              "ticks": ""
             }
            },
            "type": "scatter3d"
           }
          ],
          "scattercarpet": [
           {
            "marker": {
             "colorbar": {
              "outlinewidth": 0,
              "ticks": ""
             }
            },
            "type": "scattercarpet"
           }
          ],
          "scattergeo": [
           {
            "marker": {
             "colorbar": {
              "outlinewidth": 0,
              "ticks": ""
             }
            },
            "type": "scattergeo"
           }
          ],
          "scattergl": [
           {
            "marker": {
             "colorbar": {
              "outlinewidth": 0,
              "ticks": ""
             }
            },
            "type": "scattergl"
           }
          ],
          "scattermapbox": [
           {
            "marker": {
             "colorbar": {
              "outlinewidth": 0,
              "ticks": ""
             }
            },
            "type": "scattermapbox"
           }
          ],
          "scatterpolar": [
           {
            "marker": {
             "colorbar": {
              "outlinewidth": 0,
              "ticks": ""
             }
            },
            "type": "scatterpolar"
           }
          ],
          "scatterpolargl": [
           {
            "marker": {
             "colorbar": {
              "outlinewidth": 0,
              "ticks": ""
             }
            },
            "type": "scatterpolargl"
           }
          ],
          "scatterternary": [
           {
            "marker": {
             "colorbar": {
              "outlinewidth": 0,
              "ticks": ""
             }
            },
            "type": "scatterternary"
           }
          ],
          "surface": [
           {
            "colorbar": {
             "outlinewidth": 0,
             "ticks": ""
            },
            "colorscale": [
             [
              0,
              "#0d0887"
             ],
             [
              0.1111111111111111,
              "#46039f"
             ],
             [
              0.2222222222222222,
              "#7201a8"
             ],
             [
              0.3333333333333333,
              "#9c179e"
             ],
             [
              0.4444444444444444,
              "#bd3786"
             ],
             [
              0.5555555555555556,
              "#d8576b"
             ],
             [
              0.6666666666666666,
              "#ed7953"
             ],
             [
              0.7777777777777778,
              "#fb9f3a"
             ],
             [
              0.8888888888888888,
              "#fdca26"
             ],
             [
              1,
              "#f0f921"
             ]
            ],
            "type": "surface"
           }
          ],
          "table": [
           {
            "cells": {
             "fill": {
              "color": "#EBF0F8"
             },
             "line": {
              "color": "white"
             }
            },
            "header": {
             "fill": {
              "color": "#C8D4E3"
             },
             "line": {
              "color": "white"
             }
            },
            "type": "table"
           }
          ]
         },
         "layout": {
          "annotationdefaults": {
           "arrowcolor": "#2a3f5f",
           "arrowhead": 0,
           "arrowwidth": 1
          },
          "autotypenumbers": "strict",
          "coloraxis": {
           "colorbar": {
            "outlinewidth": 0,
            "ticks": ""
           }
          },
          "colorscale": {
           "diverging": [
            [
             0,
             "#8e0152"
            ],
            [
             0.1,
             "#c51b7d"
            ],
            [
             0.2,
             "#de77ae"
            ],
            [
             0.3,
             "#f1b6da"
            ],
            [
             0.4,
             "#fde0ef"
            ],
            [
             0.5,
             "#f7f7f7"
            ],
            [
             0.6,
             "#e6f5d0"
            ],
            [
             0.7,
             "#b8e186"
            ],
            [
             0.8,
             "#7fbc41"
            ],
            [
             0.9,
             "#4d9221"
            ],
            [
             1,
             "#276419"
            ]
           ],
           "sequential": [
            [
             0,
             "#0d0887"
            ],
            [
             0.1111111111111111,
             "#46039f"
            ],
            [
             0.2222222222222222,
             "#7201a8"
            ],
            [
             0.3333333333333333,
             "#9c179e"
            ],
            [
             0.4444444444444444,
             "#bd3786"
            ],
            [
             0.5555555555555556,
             "#d8576b"
            ],
            [
             0.6666666666666666,
             "#ed7953"
            ],
            [
             0.7777777777777778,
             "#fb9f3a"
            ],
            [
             0.8888888888888888,
             "#fdca26"
            ],
            [
             1,
             "#f0f921"
            ]
           ],
           "sequentialminus": [
            [
             0,
             "#0d0887"
            ],
            [
             0.1111111111111111,
             "#46039f"
            ],
            [
             0.2222222222222222,
             "#7201a8"
            ],
            [
             0.3333333333333333,
             "#9c179e"
            ],
            [
             0.4444444444444444,
             "#bd3786"
            ],
            [
             0.5555555555555556,
             "#d8576b"
            ],
            [
             0.6666666666666666,
             "#ed7953"
            ],
            [
             0.7777777777777778,
             "#fb9f3a"
            ],
            [
             0.8888888888888888,
             "#fdca26"
            ],
            [
             1,
             "#f0f921"
            ]
           ]
          },
          "colorway": [
           "#636efa",
           "#EF553B",
           "#00cc96",
           "#ab63fa",
           "#FFA15A",
           "#19d3f3",
           "#FF6692",
           "#B6E880",
           "#FF97FF",
           "#FECB52"
          ],
          "font": {
           "color": "#2a3f5f"
          },
          "geo": {
           "bgcolor": "white",
           "lakecolor": "white",
           "landcolor": "#E5ECF6",
           "showlakes": true,
           "showland": true,
           "subunitcolor": "white"
          },
          "hoverlabel": {
           "align": "left"
          },
          "hovermode": "closest",
          "mapbox": {
           "style": "light"
          },
          "paper_bgcolor": "white",
          "plot_bgcolor": "#E5ECF6",
          "polar": {
           "angularaxis": {
            "gridcolor": "white",
            "linecolor": "white",
            "ticks": ""
           },
           "bgcolor": "#E5ECF6",
           "radialaxis": {
            "gridcolor": "white",
            "linecolor": "white",
            "ticks": ""
           }
          },
          "scene": {
           "xaxis": {
            "backgroundcolor": "#E5ECF6",
            "gridcolor": "white",
            "gridwidth": 2,
            "linecolor": "white",
            "showbackground": true,
            "ticks": "",
            "zerolinecolor": "white"
           },
           "yaxis": {
            "backgroundcolor": "#E5ECF6",
            "gridcolor": "white",
            "gridwidth": 2,
            "linecolor": "white",
            "showbackground": true,
            "ticks": "",
            "zerolinecolor": "white"
           },
           "zaxis": {
            "backgroundcolor": "#E5ECF6",
            "gridcolor": "white",
            "gridwidth": 2,
            "linecolor": "white",
            "showbackground": true,
            "ticks": "",
            "zerolinecolor": "white"
           }
          },
          "shapedefaults": {
           "line": {
            "color": "#2a3f5f"
           }
          },
          "ternary": {
           "aaxis": {
            "gridcolor": "white",
            "linecolor": "white",
            "ticks": ""
           },
           "baxis": {
            "gridcolor": "white",
            "linecolor": "white",
            "ticks": ""
           },
           "bgcolor": "#E5ECF6",
           "caxis": {
            "gridcolor": "white",
            "linecolor": "white",
            "ticks": ""
           }
          },
          "title": {
           "x": 0.05
          },
          "xaxis": {
           "automargin": true,
           "gridcolor": "white",
           "linecolor": "white",
           "ticks": "",
           "title": {
            "standoff": 15
           },
           "zerolinecolor": "white",
           "zerolinewidth": 2
          },
          "yaxis": {
           "automargin": true,
           "gridcolor": "white",
           "linecolor": "white",
           "ticks": "",
           "title": {
            "standoff": 15
           },
           "zerolinecolor": "white",
           "zerolinewidth": 2
          }
         }
        },
        "title": {
         "text": "alpha = 1.4285785714285717, Rsquared = 0.02830674266781805"
        },
        "xaxis": {
         "anchor": "y",
         "domain": [
          0,
          1
         ],
         "title": {
          "text": "Feature number"
         }
        },
        "yaxis": {
         "anchor": "x",
         "domain": [
          0,
          1
         ],
         "title": {
          "text": "Coefficient value"
         }
        }
       }
      },
      "text/html": [
       "<div>                            <div id=\"84b93099-a9f6-4a3b-bb5b-369a5e01cc46\" class=\"plotly-graph-div\" style=\"height:525px; width:100%;\"></div>            <script type=\"text/javascript\">                require([\"plotly\"], function(Plotly) {                    window.PLOTLYENV=window.PLOTLYENV || {};                                    if (document.getElementById(\"84b93099-a9f6-4a3b-bb5b-369a5e01cc46\")) {                    Plotly.newPlot(                        \"84b93099-a9f6-4a3b-bb5b-369a5e01cc46\",                        [{\"error_y\":{\"array\":[0.29382295747212717,0.14872142698018015,0.12838213947531246,0.12812291197794445,0.3356368466576262,0.10374487707790923,0.10966614935873062,0.1401570766882822,0.12708358919350607,0.114933691634026,0.11858311180216585,0.1030677199834141,0.10156217637204613,0.1442529318278998,0.116063723140714,0.14217889279649037,0.18123162296027465,0.09595553379034077,0.18607047603148935,0.14573407997334953,0.14774042272205246,0.2780499688989477,0.12746230902208783,0.11699733213799861,0.12555001681525316,0.37591375640996033,0.13467665208392166,0.10643088890826753,0.1422543362087291,0.12363098535462147,0.09903839354802325,0.11943636254762831,0.10949047565490515,0.10551878058113476,0.10336499167476444,0.11250607335722955,0.2056961307655813,0.14051902191854895,0.11398654769656921,0.10940819936386409,0.09453997900127073,0.10580297316197874,0.10097619227981848,0.10744434872484948,0.10248053126590538,0.10837541713736185,0.07500257456429525,0.09426289373413839,0.064176447365324,0.10541102728518341,0.11810610571058093,0.08595673344435456,0.13402484619407296,0.08625428010350306,0.09094181593620392,0.10162026689877098,0.09733122239049864,0.1187070400875508,0.09497756785217981,0.17033949072495652,0.10241409636654852,0.11957953479236248,0.08728559245504021,0.0950242527597022,0.10841747934979556,0.13497231272931817,0.12824952003550708,0.08387970781650568,0.10618568290761797,0.11309614974283123,0.10184029185398488,0.09770974317889565,0.13638005933050892,0.10112536827348365,0.10392477099458584,0.08191649742006271,0.10060162697945678,0.07428746462762521,0.07574407451583837,0.14190004174936072,0.09936128755595454,0.11081463115507559,0.0940811538080981,0.10186411114410528,0.10253321557300879,0.10974623038286153,0.08233142636327674,0.11030672440944306,0.10175340808532658,0.1072750246306088,0.09714487759532989,0.09943736941466856,0.08424770248591743,0.12376289408321195,0.09664800601483817,0.102995694186728,0.08804029364811193,0.1038504225765617,0.08487187493965907,0.08457542337642263,0.08368084416372432,0.09574692317836928,0.07694143191002328,0.14685722283979846,0.11825114190027278,0.11107807182652205,0.07496489517829459,0.10958365591623266,0.08987664321224696,0.08049630489614065,0.11617031075824812,0.10237314695550756,0.06663212825664454,0.07341601683436086,0.1186740894153023,0.09928935621192833,0.10716104668970335,0.1108778726520126,0.1263730509012526,0.06609118877685688,0.08759155008792768,0.110855957878176,0.09533323165032233,0.08201075508473558,0.09573583632583306,0.09993235290144178,0.08644409450188298,0.07084983301995096,0.0902789161844844,0.09899617784456217,0.09501952981593773,0.07451090020353004,0.09826583655756876,0.09288379095642946,0.07846339151797517,0.07536620200500081,0.09961182169523372,0.0879122698208482,0.08307247538497141,0.12448522464712908,0.08946244172305438,0.09968738650094268,0.12977586891887535,0.09070518171492753,0.10485197648851113,0.08920116351650248,0.09487433811516759,0.08584977160995744,0.08708062154221083,0.10376530860778,0.09762387613029304,0.07390743103208999,0.10220251376387851,0.08009552622111846,0.08156543916048249,0.14386481426999356,0.14411864888525316,0.09735958270690766,0.07251004029353207,0.060192737188805204,0.10395186207038165,0.10653123786078132,0.12910782640300125,0.06688834824473266,0.12951377175945475,0.08962307436786893,0.09086855341973703,0.08203527773423652,0.12813290840204786,0.10451716940734161,0.11404534414302339,0.10167335325584957,0.08246186929325727,0.08426797655135575,0.07911287714965207,0.06955908569014024,0.07403415840098716,0.07155066776040338,0.07927040245379861,0.08971148350305669,0.10442797020555072,0.0864170460089495,0.10415634394763089,0.08139339844992247,0.06645016131477938,0.08505769657195265,0.0694834691863414,0.08644653782617726,0.08501384151249965,0.09176020189695495,0.07469090602528529,0.07661127651340563,0.08669843777343363,0.06627941410960948,0.07472872244412052,0.09728563785931568,0.11986277375768943,0.07112963583304371,0.12087919804574587,0.08019699301806875,0.07318878721809977,0.08105579947648478,0.08129040453817814,0.08640025153205912,0.08772994893962549,0.06716188892831806,0.09216263554432456,0.07731915263103976,0.08290795533172704,0.08555270686122095,0.09121897679350953,0.1184422953017501,0.07995241203630464,0.07923590424592675,0.08763891778089393,0.06768668471764043,0.10515377904852453,0.06131653657763113,0.07021093560660958,0.10722750948821208,0.06926367645467801,0.07882476561337422,0.06543760392713306,0.06379387540605262,0.06985782245439762,0.06042851677428379,0.06619470273976916,0.09430553324046376,0.06529023266154226,0.0710213199181449,0.08140795579018505,0.06275173971370403,0.06928804109542674,0.041668315522637035,0.09914096064243108,0.08794840398683296,0.07140030075302267,0.07420875628618927,0.07856378645376108]},\"hovertemplate\":\"x=%{x}<br>y=%{y}<extra></extra>\",\"legendgroup\":\"\",\"marker\":{\"color\":\"#636efa\",\"symbol\":\"circle\"},\"mode\":\"markers\",\"name\":\"\",\"orientation\":\"v\",\"showlegend\":false,\"x\":[0,1,2,3,4,5,6,7,8,9,10,11,12,13,14,15,16,17,18,19,20,21,22,23,24,25,26,27,28,29,30,31,32,33,34,35,36,37,38,39,40,41,42,43,44,45,46,47,48,49,50,51,52,53,54,55,56,57,58,59,60,61,62,63,64,65,66,67,68,69,70,71,72,73,74,75,76,77,78,79,80,81,82,83,84,85,86,87,88,89,90,91,92,93,94,95,96,97,98,99,100,101,102,103,104,105,106,107,108,109,110,111,112,113,114,115,116,117,118,119,120,121,122,123,124,125,126,127,128,129,130,131,132,133,134,135,136,137,138,139,140,141,142,143,144,145,146,147,148,149,150,151,152,153,154,155,156,157,158,159,160,161,162,163,164,165,166,167,168,169,170,171,172,173,174,175,176,177,178,179,180,181,182,183,184,185,186,187,188,189,190,191,192,193,194,195,196,197,198,199,200,201,202,203,204,205,206,207,208,209,210,211,212,213,214,215,216,217,218,219,220,221,222,223,224,225,226,227,228,229,230,231,232,233,234,235,236,237,238],\"xaxis\":\"x\",\"y\":[-2.6034016818181835,-0.03934661268037711,0.01867658053740952,-0.032128420014558685,0.16560020609788953,-0.027743540585191136,0.01080496039612495,0.04611892128028971,0.04220419280823862,0.02193826785949049,0.02846089782474028,0.008179193203131287,0.019683814950943592,0.051592319665735985,0.015094367920049305,0.03492485361813813,0.07427652959617516,-0.00312663134991636,0.07462442187595057,0.03481569671574345,-0.0394120177825886,0.150202085675783,0.03584917060873514,-0.027080580168570772,0.008189550931030735,0.6008857686930225,-0.03575810241697229,0.017426001823834664,0.03792008072224062,0.02905956274192909,0.004955450039893017,-0.019938803528343686,-0.03238260590704722,-0.030461928518078257,0.0030582581687118317,-0.028772632316267237,0.086373992037272,-0.0188380305486181,-0.01675738859597766,-0.03471315890755646,-0.02869663077023033,0.026738050541852635,0.015632217648422337,0.01225969935310676,0.016747247669159422,0.020820539000255565,-0.007424429272493193,-0.02370853594090717,0.006792563662575698,0.0004054177783270438,-0.019598385302923394,-0.001610150790385532,0.041704702803617336,-0.00985753073010126,0.011991977743248975,0.010965691844555127,0.018849526926762495,0.03208465847301893,-0.027421882220335463,-0.06465447558669372,0.0077933694880571594,-0.03013574285200095,0.015609572844243615,-0.01884145465917158,0.03737317275503769,-0.041018498994119586,0.02589063318387745,-0.012123047650349788,0.017696220882431824,-0.019267089418352163,0.010439862158045663,0.029856151708416757,0.05377815167653394,-0.012816327180778023,-0.03658065772654952,0.0053377049231989795,-0.020590749317738577,-0.013803359864184947,-0.01583800508806508,0.058112382756302636,-0.008620457604793793,-0.028095741455822276,-0.019183939668131898,0.026803154594389967,-0.007422782128373538,0.03736233280244714,-0.000968541925482467,0.030580901207346654,0.027820368269708108,-0.02652029045878997,-0.006764132038378908,0.03068992442943219,0.01653938243964146,-0.007622894627295316,-0.022183915977563775,0.014040832548663139,0.007517833340319686,0.0016662882659693014,0.0020495389732636165,0.0038934216385373903,0.0005359158599666434,0.016605774553194955,-0.010094826995017254,-0.05207763012829426,-0.04218679285448106,-0.02850506286812506,-0.0073331652475524195,0.01757203090638784,0.009545443865678738,-0.015618877935516747,-0.04532573815546985,-0.03058802238333018,-0.0021328636916347113,0.006607730385831663,0.04696766321064661,0.0236421939722802,0.026281456213889713,-0.006157107267160994,-0.04803144450852721,-0.00804444102901466,-0.005062694890780723,0.033566325252510854,-0.01713182063974419,-0.009651554750429413,-0.009181897976297043,-0.018901179704073102,0.012563633343244835,-0.007404174661409236,-0.025117017328237082,-0.024937091559734993,0.015569512409177953,-0.004320780563157763,0.030385520758553664,-0.01772645630239223,-0.006938353933366183,-0.0028592176929775033,0.016023353368683765,-0.02068372691726222,0.00416393097330287,0.03111743663044425,-0.00965236558060495,0.009388920906896005,0.05030192671538723,0.00039399185547034203,0.028292137284824527,-0.013739307616169228,0.024589505615598452,-0.02977405772038159,-0.01620754306518798,-0.030850797141380122,0.02652993089676082,0.004852929413284633,-0.019436795651646004,-0.010580014799105718,-0.009638895942989955,-0.05767512753294112,0.05975849190326601,-0.018139648085138377,-0.002952611912401879,-0.008698641749241542,-0.026522949753726505,0.036048519675776255,0.053732798996572434,0.0028079260701231418,0.04700981219652619,0.012496912050344004,0.011907051611348203,-0.012001780538961717,-0.04376170206015971,0.03671495999118083,-0.036342270369392436,0.031525568437963315,0.006004402941070431,0.0009361897757953115,0.018014908984837406,0.01225754561473161,-0.014300828367318707,-0.00043198073964862446,0.013731633128040644,0.005500673230451775,0.004225109944471085,-0.027068519913911036,0.033945078483788506,-0.00357063800127379,0.007573395523927999,-0.014578131515375443,0.005226838484301681,0.012105310432238281,-0.027043091846777143,-0.029406908389111506,0.010514591890804068,0.022996199579623684,0.015485542838281872,0.01366561376928071,-0.01619019706324869,0.030471913765142546,0.04488143049149566,-0.0042513432991501095,-0.043950597116837756,-0.0094201434741973,0.0025043856200953783,0.017203939598033968,-0.004666251027654517,0.021085471597996484,-0.013627009902243315,0.0025951505495097594,-0.02727800192026481,0.01849775416641819,0.016375672992137557,0.021511498682486942,-0.02250145055754062,-0.04443490331810285,0.0036673842840361666,0.001442442013446575,0.02249400148916806,-0.001602712337545234,0.04201545453795377,-0.0088660009837806,-0.00024064200770199587,0.018197919475187785,-0.000991460310679185,0.008641038910907894,-0.0006301638553568741,0.0007330132374599042,0.008530737008794703,-0.010711675020551176,0.007906964317005365,0.02645171494883739,0.004580982843652427,-0.012911974831745145,0.004956851643776511,0.011561128891897882,-0.006655254512023573,-0.002529414045716939,-0.033038319716150316,0.015763163117362484,0.02218304472205897,0.020713765214854074,0.01903197643388462],\"yaxis\":\"y\",\"type\":\"scatter\"}],                        {\"template\":{\"data\":{\"histogram2dcontour\":[{\"type\":\"histogram2dcontour\",\"colorbar\":{\"outlinewidth\":0,\"ticks\":\"\"},\"colorscale\":[[0.0,\"#0d0887\"],[0.1111111111111111,\"#46039f\"],[0.2222222222222222,\"#7201a8\"],[0.3333333333333333,\"#9c179e\"],[0.4444444444444444,\"#bd3786\"],[0.5555555555555556,\"#d8576b\"],[0.6666666666666666,\"#ed7953\"],[0.7777777777777778,\"#fb9f3a\"],[0.8888888888888888,\"#fdca26\"],[1.0,\"#f0f921\"]]}],\"choropleth\":[{\"type\":\"choropleth\",\"colorbar\":{\"outlinewidth\":0,\"ticks\":\"\"}}],\"histogram2d\":[{\"type\":\"histogram2d\",\"colorbar\":{\"outlinewidth\":0,\"ticks\":\"\"},\"colorscale\":[[0.0,\"#0d0887\"],[0.1111111111111111,\"#46039f\"],[0.2222222222222222,\"#7201a8\"],[0.3333333333333333,\"#9c179e\"],[0.4444444444444444,\"#bd3786\"],[0.5555555555555556,\"#d8576b\"],[0.6666666666666666,\"#ed7953\"],[0.7777777777777778,\"#fb9f3a\"],[0.8888888888888888,\"#fdca26\"],[1.0,\"#f0f921\"]]}],\"heatmap\":[{\"type\":\"heatmap\",\"colorbar\":{\"outlinewidth\":0,\"ticks\":\"\"},\"colorscale\":[[0.0,\"#0d0887\"],[0.1111111111111111,\"#46039f\"],[0.2222222222222222,\"#7201a8\"],[0.3333333333333333,\"#9c179e\"],[0.4444444444444444,\"#bd3786\"],[0.5555555555555556,\"#d8576b\"],[0.6666666666666666,\"#ed7953\"],[0.7777777777777778,\"#fb9f3a\"],[0.8888888888888888,\"#fdca26\"],[1.0,\"#f0f921\"]]}],\"heatmapgl\":[{\"type\":\"heatmapgl\",\"colorbar\":{\"outlinewidth\":0,\"ticks\":\"\"},\"colorscale\":[[0.0,\"#0d0887\"],[0.1111111111111111,\"#46039f\"],[0.2222222222222222,\"#7201a8\"],[0.3333333333333333,\"#9c179e\"],[0.4444444444444444,\"#bd3786\"],[0.5555555555555556,\"#d8576b\"],[0.6666666666666666,\"#ed7953\"],[0.7777777777777778,\"#fb9f3a\"],[0.8888888888888888,\"#fdca26\"],[1.0,\"#f0f921\"]]}],\"contourcarpet\":[{\"type\":\"contourcarpet\",\"colorbar\":{\"outlinewidth\":0,\"ticks\":\"\"}}],\"contour\":[{\"type\":\"contour\",\"colorbar\":{\"outlinewidth\":0,\"ticks\":\"\"},\"colorscale\":[[0.0,\"#0d0887\"],[0.1111111111111111,\"#46039f\"],[0.2222222222222222,\"#7201a8\"],[0.3333333333333333,\"#9c179e\"],[0.4444444444444444,\"#bd3786\"],[0.5555555555555556,\"#d8576b\"],[0.6666666666666666,\"#ed7953\"],[0.7777777777777778,\"#fb9f3a\"],[0.8888888888888888,\"#fdca26\"],[1.0,\"#f0f921\"]]}],\"surface\":[{\"type\":\"surface\",\"colorbar\":{\"outlinewidth\":0,\"ticks\":\"\"},\"colorscale\":[[0.0,\"#0d0887\"],[0.1111111111111111,\"#46039f\"],[0.2222222222222222,\"#7201a8\"],[0.3333333333333333,\"#9c179e\"],[0.4444444444444444,\"#bd3786\"],[0.5555555555555556,\"#d8576b\"],[0.6666666666666666,\"#ed7953\"],[0.7777777777777778,\"#fb9f3a\"],[0.8888888888888888,\"#fdca26\"],[1.0,\"#f0f921\"]]}],\"mesh3d\":[{\"type\":\"mesh3d\",\"colorbar\":{\"outlinewidth\":0,\"ticks\":\"\"}}],\"scatter\":[{\"fillpattern\":{\"fillmode\":\"overlay\",\"size\":10,\"solidity\":0.2},\"type\":\"scatter\"}],\"parcoords\":[{\"type\":\"parcoords\",\"line\":{\"colorbar\":{\"outlinewidth\":0,\"ticks\":\"\"}}}],\"scatterpolargl\":[{\"type\":\"scatterpolargl\",\"marker\":{\"colorbar\":{\"outlinewidth\":0,\"ticks\":\"\"}}}],\"bar\":[{\"error_x\":{\"color\":\"#2a3f5f\"},\"error_y\":{\"color\":\"#2a3f5f\"},\"marker\":{\"line\":{\"color\":\"#E5ECF6\",\"width\":0.5},\"pattern\":{\"fillmode\":\"overlay\",\"size\":10,\"solidity\":0.2}},\"type\":\"bar\"}],\"scattergeo\":[{\"type\":\"scattergeo\",\"marker\":{\"colorbar\":{\"outlinewidth\":0,\"ticks\":\"\"}}}],\"scatterpolar\":[{\"type\":\"scatterpolar\",\"marker\":{\"colorbar\":{\"outlinewidth\":0,\"ticks\":\"\"}}}],\"histogram\":[{\"marker\":{\"pattern\":{\"fillmode\":\"overlay\",\"size\":10,\"solidity\":0.2}},\"type\":\"histogram\"}],\"scattergl\":[{\"type\":\"scattergl\",\"marker\":{\"colorbar\":{\"outlinewidth\":0,\"ticks\":\"\"}}}],\"scatter3d\":[{\"type\":\"scatter3d\",\"line\":{\"colorbar\":{\"outlinewidth\":0,\"ticks\":\"\"}},\"marker\":{\"colorbar\":{\"outlinewidth\":0,\"ticks\":\"\"}}}],\"scattermapbox\":[{\"type\":\"scattermapbox\",\"marker\":{\"colorbar\":{\"outlinewidth\":0,\"ticks\":\"\"}}}],\"scatterternary\":[{\"type\":\"scatterternary\",\"marker\":{\"colorbar\":{\"outlinewidth\":0,\"ticks\":\"\"}}}],\"scattercarpet\":[{\"type\":\"scattercarpet\",\"marker\":{\"colorbar\":{\"outlinewidth\":0,\"ticks\":\"\"}}}],\"carpet\":[{\"aaxis\":{\"endlinecolor\":\"#2a3f5f\",\"gridcolor\":\"white\",\"linecolor\":\"white\",\"minorgridcolor\":\"white\",\"startlinecolor\":\"#2a3f5f\"},\"baxis\":{\"endlinecolor\":\"#2a3f5f\",\"gridcolor\":\"white\",\"linecolor\":\"white\",\"minorgridcolor\":\"white\",\"startlinecolor\":\"#2a3f5f\"},\"type\":\"carpet\"}],\"table\":[{\"cells\":{\"fill\":{\"color\":\"#EBF0F8\"},\"line\":{\"color\":\"white\"}},\"header\":{\"fill\":{\"color\":\"#C8D4E3\"},\"line\":{\"color\":\"white\"}},\"type\":\"table\"}],\"barpolar\":[{\"marker\":{\"line\":{\"color\":\"#E5ECF6\",\"width\":0.5},\"pattern\":{\"fillmode\":\"overlay\",\"size\":10,\"solidity\":0.2}},\"type\":\"barpolar\"}],\"pie\":[{\"automargin\":true,\"type\":\"pie\"}]},\"layout\":{\"autotypenumbers\":\"strict\",\"colorway\":[\"#636efa\",\"#EF553B\",\"#00cc96\",\"#ab63fa\",\"#FFA15A\",\"#19d3f3\",\"#FF6692\",\"#B6E880\",\"#FF97FF\",\"#FECB52\"],\"font\":{\"color\":\"#2a3f5f\"},\"hovermode\":\"closest\",\"hoverlabel\":{\"align\":\"left\"},\"paper_bgcolor\":\"white\",\"plot_bgcolor\":\"#E5ECF6\",\"polar\":{\"bgcolor\":\"#E5ECF6\",\"angularaxis\":{\"gridcolor\":\"white\",\"linecolor\":\"white\",\"ticks\":\"\"},\"radialaxis\":{\"gridcolor\":\"white\",\"linecolor\":\"white\",\"ticks\":\"\"}},\"ternary\":{\"bgcolor\":\"#E5ECF6\",\"aaxis\":{\"gridcolor\":\"white\",\"linecolor\":\"white\",\"ticks\":\"\"},\"baxis\":{\"gridcolor\":\"white\",\"linecolor\":\"white\",\"ticks\":\"\"},\"caxis\":{\"gridcolor\":\"white\",\"linecolor\":\"white\",\"ticks\":\"\"}},\"coloraxis\":{\"colorbar\":{\"outlinewidth\":0,\"ticks\":\"\"}},\"colorscale\":{\"sequential\":[[0.0,\"#0d0887\"],[0.1111111111111111,\"#46039f\"],[0.2222222222222222,\"#7201a8\"],[0.3333333333333333,\"#9c179e\"],[0.4444444444444444,\"#bd3786\"],[0.5555555555555556,\"#d8576b\"],[0.6666666666666666,\"#ed7953\"],[0.7777777777777778,\"#fb9f3a\"],[0.8888888888888888,\"#fdca26\"],[1.0,\"#f0f921\"]],\"sequentialminus\":[[0.0,\"#0d0887\"],[0.1111111111111111,\"#46039f\"],[0.2222222222222222,\"#7201a8\"],[0.3333333333333333,\"#9c179e\"],[0.4444444444444444,\"#bd3786\"],[0.5555555555555556,\"#d8576b\"],[0.6666666666666666,\"#ed7953\"],[0.7777777777777778,\"#fb9f3a\"],[0.8888888888888888,\"#fdca26\"],[1.0,\"#f0f921\"]],\"diverging\":[[0,\"#8e0152\"],[0.1,\"#c51b7d\"],[0.2,\"#de77ae\"],[0.3,\"#f1b6da\"],[0.4,\"#fde0ef\"],[0.5,\"#f7f7f7\"],[0.6,\"#e6f5d0\"],[0.7,\"#b8e186\"],[0.8,\"#7fbc41\"],[0.9,\"#4d9221\"],[1,\"#276419\"]]},\"xaxis\":{\"gridcolor\":\"white\",\"linecolor\":\"white\",\"ticks\":\"\",\"title\":{\"standoff\":15},\"zerolinecolor\":\"white\",\"automargin\":true,\"zerolinewidth\":2},\"yaxis\":{\"gridcolor\":\"white\",\"linecolor\":\"white\",\"ticks\":\"\",\"title\":{\"standoff\":15},\"zerolinecolor\":\"white\",\"automargin\":true,\"zerolinewidth\":2},\"scene\":{\"xaxis\":{\"backgroundcolor\":\"#E5ECF6\",\"gridcolor\":\"white\",\"linecolor\":\"white\",\"showbackground\":true,\"ticks\":\"\",\"zerolinecolor\":\"white\",\"gridwidth\":2},\"yaxis\":{\"backgroundcolor\":\"#E5ECF6\",\"gridcolor\":\"white\",\"linecolor\":\"white\",\"showbackground\":true,\"ticks\":\"\",\"zerolinecolor\":\"white\",\"gridwidth\":2},\"zaxis\":{\"backgroundcolor\":\"#E5ECF6\",\"gridcolor\":\"white\",\"linecolor\":\"white\",\"showbackground\":true,\"ticks\":\"\",\"zerolinecolor\":\"white\",\"gridwidth\":2}},\"shapedefaults\":{\"line\":{\"color\":\"#2a3f5f\"}},\"annotationdefaults\":{\"arrowcolor\":\"#2a3f5f\",\"arrowhead\":0,\"arrowwidth\":1},\"geo\":{\"bgcolor\":\"white\",\"landcolor\":\"#E5ECF6\",\"subunitcolor\":\"white\",\"showland\":true,\"showlakes\":true,\"lakecolor\":\"white\"},\"title\":{\"x\":0.05},\"mapbox\":{\"style\":\"light\"}}},\"xaxis\":{\"anchor\":\"y\",\"domain\":[0.0,1.0],\"title\":{\"text\":\"Feature number\"}},\"yaxis\":{\"anchor\":\"x\",\"domain\":[0.0,1.0],\"title\":{\"text\":\"Coefficient value\"}},\"legend\":{\"tracegroupgap\":0},\"margin\":{\"t\":60},\"title\":{\"text\":\"alpha = 1.4285785714285717, Rsquared = 0.02830674266781805\"}},                        {\"responsive\": true}                    ).then(function(){\n",
       "                            \n",
       "var gd = document.getElementById('84b93099-a9f6-4a3b-bb5b-369a5e01cc46');\n",
       "var x = new MutationObserver(function (mutations, observer) {{\n",
       "        var display = window.getComputedStyle(gd).display;\n",
       "        if (!display || display === 'none') {{\n",
       "            console.log([gd, 'removed!']);\n",
       "            Plotly.purge(gd);\n",
       "            observer.disconnect();\n",
       "        }}\n",
       "}});\n",
       "\n",
       "// Listen for the removal of the full notebook cells\n",
       "var notebookContainer = gd.closest('#notebook-container');\n",
       "if (notebookContainer) {{\n",
       "    x.observe(notebookContainer, {childList: true});\n",
       "}}\n",
       "\n",
       "// Listen for the clearing of the current output cell\n",
       "var outputEl = gd.closest('.output');\n",
       "if (outputEl) {{\n",
       "    x.observe(outputEl, {childList: true});\n",
       "}}\n",
       "\n",
       "                        })                };                });            </script>        </div>"
      ]
     },
     "metadata": {},
     "output_type": "display_data"
    },
    {
     "data": {
      "application/vnd.plotly.v1+json": {
       "config": {
        "plotlyServerURL": "https://plot.ly"
       },
       "data": [
        {
         "error_y": {
          "array": [
           0.29487263543534653,
           0.1365530691442873,
           0.1174028304351254,
           0.11757097077396794,
           0.3125468820977913,
           0.09526840822678603,
           0.1001919914327033,
           0.12909459912902185,
           0.11707228639727249,
           0.10523769948736576,
           0.10876947407570675,
           0.09413688955224316,
           0.09300291705966697,
           0.13308060292242962,
           0.10610042865568131,
           0.13044196812143102,
           0.16774087564759502,
           0.08760276712200275,
           0.1721200068442692,
           0.13366763566349407,
           0.13566538808887568,
           0.2599085431197281,
           0.11712114120337964,
           0.10727923855961098,
           0.11465159123178725,
           0.4060136186343689,
           0.12366253676149537,
           0.09737447063214442,
           0.13062654015205705,
           0.1133775535210045,
           0.09042813050561703,
           0.10928290508645713,
           0.10067661286415068,
           0.09699170026135369,
           0.09436577914230045,
           0.10326177873625572,
           0.1905131432371991,
           0.12846770266441132,
           0.10424224485360536,
           0.10070992994847303,
           0.08696290907537219,
           0.0970971292960693,
           0.09236214552915904,
           0.09818918011907254,
           0.09375946325259021,
           0.09923658675277125,
           0.06852355565957402,
           0.08650229082326971,
           0.05863947914034162,
           0.09622678104026652,
           0.10806274536840503,
           0.07846969755909157,
           0.12333065234702927,
           0.07882467881418796,
           0.08313834758739387,
           0.09285615986949196,
           0.08912811142890066,
           0.10902191007330639,
           0.0873024675061776,
           0.15735374771159696,
           0.0935359552194222,
           0.10973690370113848,
           0.07989255516155916,
           0.08702861286260287,
           0.09994641134486368,
           0.124156973044845,
           0.11747219601457812,
           0.0767045201701519,
           0.0971579125279463,
           0.10349158262509031,
           0.09304842003502627,
           0.08988770252324021,
           0.1261002759577422,
           0.09243789123055361,
           0.09584441434295726,
           0.07480564297570858,
           0.09215634591323613,
           0.06800969819355994,
           0.06939603670113942,
           0.13133438034719405,
           0.0907609077298239,
           0.1016999027341352,
           0.08618101472445183,
           0.09352375807136255,
           0.09364046153963929,
           0.1011471387055633,
           0.07515883244053141,
           0.10133870066535013,
           0.0934645723378444,
           0.09842574137035265,
           0.08871655624977172,
           0.0915116093586379,
           0.07715388970572984,
           0.11301525968352022,
           0.08861366565034948,
           0.09416727367406888,
           0.0804182449344593,
           0.09480406558658476,
           0.07748083234710572,
           0.07722007885823774,
           0.07639007105851549,
           0.08762339833475197,
           0.07033827905030134,
           0.1354592717393246,
           0.1090869434439805,
           0.10195489665459101,
           0.06848782167403022,
           0.10024985600846224,
           0.08212285974651541,
           0.07371291907683297,
           0.10738538408546075,
           0.09414615884268371,
           0.06083172623856994,
           0.06706457425890562,
           0.10973908347300747,
           0.0910656134621346,
           0.09831331329147666,
           0.10124319307223915,
           0.11674277733196274,
           0.06040716527022226,
           0.07998203683779566,
           0.10196742302043994,
           0.08726082360418433,
           0.07495159197635724,
           0.08746142752387746,
           0.09149689242804994,
           0.07905108556449439,
           0.06473558916870968,
           0.08294288597528543,
           0.09084733676648461,
           0.08693442291885223,
           0.0680378924647317,
           0.09041595827518471,
           0.08504787784574248,
           0.07167360780953223,
           0.06880786610571542,
           0.09112860111909267,
           0.08062190534068914,
           0.07585032348194383,
           0.11422913242153077,
           0.08174684757394797,
           0.09106896196482848,
           0.11994266034768354,
           0.0828022537008743,
           0.09629531175378253,
           0.08158997590422269,
           0.0870914940220788,
           0.07915139697127446,
           0.07972251558904563,
           0.09541954675934901,
           0.08966478032215879,
           0.0674921817431627,
           0.09357848157736826,
           0.073223114744684,
           0.07454531946299361,
           0.13307732142840825,
           0.13344927897014425,
           0.08913346492590196,
           0.06620145346814348,
           0.0550437452672828,
           0.09540804519347858,
           0.09817283767509616,
           0.1195478743706313,
           0.06106939499257355,
           0.11955420667982192,
           0.08194675233011928,
           0.08306986841879689,
           0.07502107434815188,
           0.11810032214921085,
           0.09638682229888974,
           0.10498598037345246,
           0.09355530601307702,
           0.07531029531459328,
           0.076926577262995,
           0.0725312393722489,
           0.06366257167980949,
           0.06779344993849508,
           0.06531672296194942,
           0.07254437145971525,
           0.08192065863443208,
           0.09534226161685934,
           0.07952999068819991,
           0.09591918781834997,
           0.07431358231911199,
           0.060726046892226854,
           0.07783653847366999,
           0.06345934260694323,
           0.07904337939934593,
           0.07825834026274595,
           0.08447910176653267,
           0.06829566573595931,
           0.07045935720643078,
           0.07935461611504435,
           0.06071851425494962,
           0.06848399471340587,
           0.0895323572255891,
           0.11069028989850285,
           0.0649515037913979,
           0.1115561257021049,
           0.07329363057621362,
           0.0668184349500651,
           0.07427074280995144,
           0.07422802061379069,
           0.07926276439558015,
           0.08024697904020964,
           0.0613177638219645,
           0.08474454893288952,
           0.07091825800279386,
           0.0759299174400552,
           0.0785089684219473,
           0.08369233142283289,
           0.1093833247821883,
           0.07299902857993593,
           0.07233415107926493,
           0.08044102356682184,
           0.061792093632184034,
           0.09726053349776237,
           0.05607152168917398,
           0.06409358476858215,
           0.09811953949384407,
           0.06322987629986612,
           0.07202886149690285,
           0.0597365479427374,
           0.058236215040735596,
           0.06385037372892889,
           0.05530769212497628,
           0.06049902674784635,
           0.08665135667842153,
           0.059633920367119495,
           0.06501162971980956,
           0.07433791276425607,
           0.05744604319106809,
           0.06329964920657592,
           0.03804947263171874,
           0.09133661112753344,
           0.08050017934282197,
           0.06570145563125589,
           0.06818143394103852,
           0.07206847378504605
          ]
         },
         "hovertemplate": "x=%{x}<br>y=%{y}<extra></extra>",
         "legendgroup": "",
         "marker": {
          "color": "#636efa",
          "symbol": "circle"
         },
         "mode": "markers",
         "name": "",
         "orientation": "v",
         "showlegend": false,
         "type": "scatter",
         "x": [
          0,
          1,
          2,
          3,
          4,
          5,
          6,
          7,
          8,
          9,
          10,
          11,
          12,
          13,
          14,
          15,
          16,
          17,
          18,
          19,
          20,
          21,
          22,
          23,
          24,
          25,
          26,
          27,
          28,
          29,
          30,
          31,
          32,
          33,
          34,
          35,
          36,
          37,
          38,
          39,
          40,
          41,
          42,
          43,
          44,
          45,
          46,
          47,
          48,
          49,
          50,
          51,
          52,
          53,
          54,
          55,
          56,
          57,
          58,
          59,
          60,
          61,
          62,
          63,
          64,
          65,
          66,
          67,
          68,
          69,
          70,
          71,
          72,
          73,
          74,
          75,
          76,
          77,
          78,
          79,
          80,
          81,
          82,
          83,
          84,
          85,
          86,
          87,
          88,
          89,
          90,
          91,
          92,
          93,
          94,
          95,
          96,
          97,
          98,
          99,
          100,
          101,
          102,
          103,
          104,
          105,
          106,
          107,
          108,
          109,
          110,
          111,
          112,
          113,
          114,
          115,
          116,
          117,
          118,
          119,
          120,
          121,
          122,
          123,
          124,
          125,
          126,
          127,
          128,
          129,
          130,
          131,
          132,
          133,
          134,
          135,
          136,
          137,
          138,
          139,
          140,
          141,
          142,
          143,
          144,
          145,
          146,
          147,
          148,
          149,
          150,
          151,
          152,
          153,
          154,
          155,
          156,
          157,
          158,
          159,
          160,
          161,
          162,
          163,
          164,
          165,
          166,
          167,
          168,
          169,
          170,
          171,
          172,
          173,
          174,
          175,
          176,
          177,
          178,
          179,
          180,
          181,
          182,
          183,
          184,
          185,
          186,
          187,
          188,
          189,
          190,
          191,
          192,
          193,
          194,
          195,
          196,
          197,
          198,
          199,
          200,
          201,
          202,
          203,
          204,
          205,
          206,
          207,
          208,
          209,
          210,
          211,
          212,
          213,
          214,
          215,
          216,
          217,
          218,
          219,
          220,
          221,
          222,
          223,
          224,
          225,
          226,
          227,
          228,
          229,
          230,
          231,
          232,
          233,
          234,
          235,
          236,
          237,
          238
         ],
         "xaxis": "x",
         "y": [
          -2.6034348295454555,
          -0.03278884390031426,
          0.015563817114507933,
          -0.026773683345465572,
          0.13800017174824128,
          -0.023119617154325946,
          0.009004133663437457,
          0.038432434400241425,
          0.03517016067353219,
          0.01828188988290874,
          0.023717414853950233,
          0.006815994335942739,
          0.01640317912578633,
          0.04299359972144666,
          0.01257863993337442,
          0.029104044681781776,
          0.06189710799681263,
          -0.0026055261249303,
          0.062187018229958806,
          0.029013080596452877,
          -0.03284334815215717,
          0.125261297507529,
          0.029874308840612613,
          -0.022567150140475643,
          0.0068246257758589465,
          0.5048071118858611,
          -0.029798418680810245,
          0.014521668186528888,
          0.03160006726853385,
          0.02421630228494091,
          0.004129541699910847,
          -0.01661566960695307,
          -0.026985504922539347,
          -0.02538494043173188,
          0.0025485484739265264,
          -0.023977193596889365,
          0.07197832669772666,
          -0.015698358790515083,
          -0.013964490496648052,
          -0.02892763242296372,
          -0.023913858975191944,
          0.022281708784877195,
          0.013026848040351948,
          0.010216416127588966,
          0.01395603972429952,
          0.017350449166879636,
          -0.006187024393744327,
          -0.01975711328408931,
          0.0056604697188130815,
          0.0003378481486058698,
          -0.016331987752436165,
          -0.0013417923253212767,
          0.034753919003014444,
          -0.00821460894175105,
          0.009993314786040812,
          0.009138076537129272,
          0.01570793910563541,
          0.026737215394182442,
          -0.02285156851694622,
          -0.053878729655578106,
          0.006494474573380966,
          -0.025113119043334124,
          0.013007977370203013,
          -0.015701212215976316,
          0.031144310629198074,
          -0.03418208249509965,
          0.02157552765323121,
          -0.010102539708624823,
          0.014746850735359852,
          -0.016055907848626802,
          0.00869988513170472,
          0.02488012642368063,
          0.044815126397111625,
          -0.010680272650648352,
          -0.03048388143879126,
          0.00444808743599915,
          -0.017158957764782146,
          -0.011502799886820788,
          -0.013198337573387566,
          0.048426985630252196,
          -0.007183714670661494,
          -0.023413117879851897,
          -0.015986616390109915,
          0.02233596216199164,
          -0.006185651773644615,
          0.03113527733537262,
          -0.0008071182712353891,
          0.025484084339455544,
          0.023183640224756757,
          -0.02210024204899164,
          -0.0056367766986490896,
          0.025604509889621246,
          0.013782818699701218,
          -0.006352412189412764,
          -0.01848659664796981,
          0.011700693790552615,
          0.006264861116933072,
          0.001388573554974418,
          0.001707949144386347,
          0.0032445180321144917,
          0.0004465965499722029,
          0.013838145460995797,
          -0.008412355829181045,
          -0.043398025106911875,
          -0.035155660712067556,
          -0.023754219056770883,
          -0.006110971039627016,
          0.014643359088656533,
          0.00795453655473228,
          -0.013015731612930622,
          -0.037771448462891544,
          -0.02549001865277515,
          -0.0017773864096955927,
          0.0055064419881930525,
          0.03913971934220551,
          0.0197018283102335,
          0.02190121351157476,
          -0.005130922722634161,
          -0.04002620375710601,
          -0.006703700857512217,
          -0.004218912408983936,
          0.02797193771042571,
          -0.014276517199786827,
          -0.008042962292024511,
          -0.007651581646914202,
          -0.015750983086727587,
          0.010469694452704029,
          -0.006170145551174363,
          -0.0209308477735309,
          -0.020780909633112493,
          0.01297459367431496,
          -0.0036006504692981363,
          0.02532126729879472,
          -0.014772046918660192,
          -0.005781961611138486,
          -0.002382681410814586,
          0.013352794473903137,
          -0.017236439097718517,
          0.003469942477752392,
          0.025931197192036876,
          -0.008043637983837459,
          0.00782410075574667,
          0.041918272262822694,
          0.000328326546225285,
          0.023576781070687104,
          -0.011449423013474357,
          0.020491254679665376,
          -0.02481171476698466,
          -0.01350628588765665,
          -0.025708997617816767,
          0.02210827574730068,
          0.00404410784440386,
          -0.016197329709705003,
          -0.008816678999254764,
          -0.008032413285824961,
          -0.04806260627745094,
          0.04988764314532348,
          -0.01511637340428198,
          -0.002460509927001566,
          -0.007248868124367952,
          -0.02210245812810542,
          0.03004043306314688,
          0.0447773324971437,
          0.0023399383917692847,
          0.03927105055483728,
          0.010414093375286669,
          0.009922543009456835,
          -0.010001483782468098,
          -0.036468085050133096,
          0.03059579999265069,
          -0.03028522530782703,
          0.026271307031636097,
          0.0050036691175586925,
          0.0007801581464960929,
          0.015012424154031171,
          0.010214621345609675,
          -0.011917356972765589,
          -0.00035998394970718705,
          0.011443027606700537,
          0.0045838943587098125,
          0.0035209249537259037,
          -0.022557099928259196,
          0.028287565403157088,
          -0.0029755316677281584,
          0.006311162936606666,
          -0.012148442929479536,
          0.004355698736918067,
          0.0100877586935319,
          -0.022535909872314287,
          -0.024505756990926254,
          0.008762159909003388,
          0.019163499649686402,
          0.01290461903190156,
          0.011388011474400592,
          -0.013491830886040574,
          0.02539326147095212,
          0.03740119207624638,
          -0.003542786082625091,
          -0.036625497597364796,
          -0.007850119561831084,
          0.0020869880167461484,
          0.014336616331694974,
          -0.0038885425230454312,
          0.017571226331663737,
          -0.011355841585202763,
          0.0021626254579247993,
          -0.02273166826688734,
          0.015414795138681825,
          0.013646394160114633,
          0.01792624890207245,
          -0.018751208797950517,
          -0.03702908609841904,
          0.003056153570030139,
          0.0012020350112054792,
          0.01874500124097338,
          -0.0013355936146210285,
          0.03501287878162814,
          -0.0073883341531505,
          -0.00020053500641832987,
          0.015164932895989821,
          -0.0008262169255659875,
          0.007200865759089912,
          -0.0005251365461307284,
          0.0006108443645499201,
          0.0071089475073289185,
          -0.008926395850459314,
          0.006589136930837804,
          0.022043095790697825,
          0.0038306852649501546,
          -0.010759979026454286,
          0.004130709703147092,
          0.00963427407658157,
          -0.005546045426686312,
          -0.0021078450380974494,
          -0.02753193309679193,
          0.013135969264468736,
          0.018485870601715807,
          0.017261471012378394,
          0.015859980361570516
         ],
         "yaxis": "y"
        }
       ],
       "layout": {
        "legend": {
         "tracegroupgap": 0
        },
        "margin": {
         "t": 60
        },
        "template": {
         "data": {
          "bar": [
           {
            "error_x": {
             "color": "#2a3f5f"
            },
            "error_y": {
             "color": "#2a3f5f"
            },
            "marker": {
             "line": {
              "color": "#E5ECF6",
              "width": 0.5
             },
             "pattern": {
              "fillmode": "overlay",
              "size": 10,
              "solidity": 0.2
             }
            },
            "type": "bar"
           }
          ],
          "barpolar": [
           {
            "marker": {
             "line": {
              "color": "#E5ECF6",
              "width": 0.5
             },
             "pattern": {
              "fillmode": "overlay",
              "size": 10,
              "solidity": 0.2
             }
            },
            "type": "barpolar"
           }
          ],
          "carpet": [
           {
            "aaxis": {
             "endlinecolor": "#2a3f5f",
             "gridcolor": "white",
             "linecolor": "white",
             "minorgridcolor": "white",
             "startlinecolor": "#2a3f5f"
            },
            "baxis": {
             "endlinecolor": "#2a3f5f",
             "gridcolor": "white",
             "linecolor": "white",
             "minorgridcolor": "white",
             "startlinecolor": "#2a3f5f"
            },
            "type": "carpet"
           }
          ],
          "choropleth": [
           {
            "colorbar": {
             "outlinewidth": 0,
             "ticks": ""
            },
            "type": "choropleth"
           }
          ],
          "contour": [
           {
            "colorbar": {
             "outlinewidth": 0,
             "ticks": ""
            },
            "colorscale": [
             [
              0,
              "#0d0887"
             ],
             [
              0.1111111111111111,
              "#46039f"
             ],
             [
              0.2222222222222222,
              "#7201a8"
             ],
             [
              0.3333333333333333,
              "#9c179e"
             ],
             [
              0.4444444444444444,
              "#bd3786"
             ],
             [
              0.5555555555555556,
              "#d8576b"
             ],
             [
              0.6666666666666666,
              "#ed7953"
             ],
             [
              0.7777777777777778,
              "#fb9f3a"
             ],
             [
              0.8888888888888888,
              "#fdca26"
             ],
             [
              1,
              "#f0f921"
             ]
            ],
            "type": "contour"
           }
          ],
          "contourcarpet": [
           {
            "colorbar": {
             "outlinewidth": 0,
             "ticks": ""
            },
            "type": "contourcarpet"
           }
          ],
          "heatmap": [
           {
            "colorbar": {
             "outlinewidth": 0,
             "ticks": ""
            },
            "colorscale": [
             [
              0,
              "#0d0887"
             ],
             [
              0.1111111111111111,
              "#46039f"
             ],
             [
              0.2222222222222222,
              "#7201a8"
             ],
             [
              0.3333333333333333,
              "#9c179e"
             ],
             [
              0.4444444444444444,
              "#bd3786"
             ],
             [
              0.5555555555555556,
              "#d8576b"
             ],
             [
              0.6666666666666666,
              "#ed7953"
             ],
             [
              0.7777777777777778,
              "#fb9f3a"
             ],
             [
              0.8888888888888888,
              "#fdca26"
             ],
             [
              1,
              "#f0f921"
             ]
            ],
            "type": "heatmap"
           }
          ],
          "heatmapgl": [
           {
            "colorbar": {
             "outlinewidth": 0,
             "ticks": ""
            },
            "colorscale": [
             [
              0,
              "#0d0887"
             ],
             [
              0.1111111111111111,
              "#46039f"
             ],
             [
              0.2222222222222222,
              "#7201a8"
             ],
             [
              0.3333333333333333,
              "#9c179e"
             ],
             [
              0.4444444444444444,
              "#bd3786"
             ],
             [
              0.5555555555555556,
              "#d8576b"
             ],
             [
              0.6666666666666666,
              "#ed7953"
             ],
             [
              0.7777777777777778,
              "#fb9f3a"
             ],
             [
              0.8888888888888888,
              "#fdca26"
             ],
             [
              1,
              "#f0f921"
             ]
            ],
            "type": "heatmapgl"
           }
          ],
          "histogram": [
           {
            "marker": {
             "pattern": {
              "fillmode": "overlay",
              "size": 10,
              "solidity": 0.2
             }
            },
            "type": "histogram"
           }
          ],
          "histogram2d": [
           {
            "colorbar": {
             "outlinewidth": 0,
             "ticks": ""
            },
            "colorscale": [
             [
              0,
              "#0d0887"
             ],
             [
              0.1111111111111111,
              "#46039f"
             ],
             [
              0.2222222222222222,
              "#7201a8"
             ],
             [
              0.3333333333333333,
              "#9c179e"
             ],
             [
              0.4444444444444444,
              "#bd3786"
             ],
             [
              0.5555555555555556,
              "#d8576b"
             ],
             [
              0.6666666666666666,
              "#ed7953"
             ],
             [
              0.7777777777777778,
              "#fb9f3a"
             ],
             [
              0.8888888888888888,
              "#fdca26"
             ],
             [
              1,
              "#f0f921"
             ]
            ],
            "type": "histogram2d"
           }
          ],
          "histogram2dcontour": [
           {
            "colorbar": {
             "outlinewidth": 0,
             "ticks": ""
            },
            "colorscale": [
             [
              0,
              "#0d0887"
             ],
             [
              0.1111111111111111,
              "#46039f"
             ],
             [
              0.2222222222222222,
              "#7201a8"
             ],
             [
              0.3333333333333333,
              "#9c179e"
             ],
             [
              0.4444444444444444,
              "#bd3786"
             ],
             [
              0.5555555555555556,
              "#d8576b"
             ],
             [
              0.6666666666666666,
              "#ed7953"
             ],
             [
              0.7777777777777778,
              "#fb9f3a"
             ],
             [
              0.8888888888888888,
              "#fdca26"
             ],
             [
              1,
              "#f0f921"
             ]
            ],
            "type": "histogram2dcontour"
           }
          ],
          "mesh3d": [
           {
            "colorbar": {
             "outlinewidth": 0,
             "ticks": ""
            },
            "type": "mesh3d"
           }
          ],
          "parcoords": [
           {
            "line": {
             "colorbar": {
              "outlinewidth": 0,
              "ticks": ""
             }
            },
            "type": "parcoords"
           }
          ],
          "pie": [
           {
            "automargin": true,
            "type": "pie"
           }
          ],
          "scatter": [
           {
            "fillpattern": {
             "fillmode": "overlay",
             "size": 10,
             "solidity": 0.2
            },
            "type": "scatter"
           }
          ],
          "scatter3d": [
           {
            "line": {
             "colorbar": {
              "outlinewidth": 0,
              "ticks": ""
             }
            },
            "marker": {
             "colorbar": {
              "outlinewidth": 0,
              "ticks": ""
             }
            },
            "type": "scatter3d"
           }
          ],
          "scattercarpet": [
           {
            "marker": {
             "colorbar": {
              "outlinewidth": 0,
              "ticks": ""
             }
            },
            "type": "scattercarpet"
           }
          ],
          "scattergeo": [
           {
            "marker": {
             "colorbar": {
              "outlinewidth": 0,
              "ticks": ""
             }
            },
            "type": "scattergeo"
           }
          ],
          "scattergl": [
           {
            "marker": {
             "colorbar": {
              "outlinewidth": 0,
              "ticks": ""
             }
            },
            "type": "scattergl"
           }
          ],
          "scattermapbox": [
           {
            "marker": {
             "colorbar": {
              "outlinewidth": 0,
              "ticks": ""
             }
            },
            "type": "scattermapbox"
           }
          ],
          "scatterpolar": [
           {
            "marker": {
             "colorbar": {
              "outlinewidth": 0,
              "ticks": ""
             }
            },
            "type": "scatterpolar"
           }
          ],
          "scatterpolargl": [
           {
            "marker": {
             "colorbar": {
              "outlinewidth": 0,
              "ticks": ""
             }
            },
            "type": "scatterpolargl"
           }
          ],
          "scatterternary": [
           {
            "marker": {
             "colorbar": {
              "outlinewidth": 0,
              "ticks": ""
             }
            },
            "type": "scatterternary"
           }
          ],
          "surface": [
           {
            "colorbar": {
             "outlinewidth": 0,
             "ticks": ""
            },
            "colorscale": [
             [
              0,
              "#0d0887"
             ],
             [
              0.1111111111111111,
              "#46039f"
             ],
             [
              0.2222222222222222,
              "#7201a8"
             ],
             [
              0.3333333333333333,
              "#9c179e"
             ],
             [
              0.4444444444444444,
              "#bd3786"
             ],
             [
              0.5555555555555556,
              "#d8576b"
             ],
             [
              0.6666666666666666,
              "#ed7953"
             ],
             [
              0.7777777777777778,
              "#fb9f3a"
             ],
             [
              0.8888888888888888,
              "#fdca26"
             ],
             [
              1,
              "#f0f921"
             ]
            ],
            "type": "surface"
           }
          ],
          "table": [
           {
            "cells": {
             "fill": {
              "color": "#EBF0F8"
             },
             "line": {
              "color": "white"
             }
            },
            "header": {
             "fill": {
              "color": "#C8D4E3"
             },
             "line": {
              "color": "white"
             }
            },
            "type": "table"
           }
          ]
         },
         "layout": {
          "annotationdefaults": {
           "arrowcolor": "#2a3f5f",
           "arrowhead": 0,
           "arrowwidth": 1
          },
          "autotypenumbers": "strict",
          "coloraxis": {
           "colorbar": {
            "outlinewidth": 0,
            "ticks": ""
           }
          },
          "colorscale": {
           "diverging": [
            [
             0,
             "#8e0152"
            ],
            [
             0.1,
             "#c51b7d"
            ],
            [
             0.2,
             "#de77ae"
            ],
            [
             0.3,
             "#f1b6da"
            ],
            [
             0.4,
             "#fde0ef"
            ],
            [
             0.5,
             "#f7f7f7"
            ],
            [
             0.6,
             "#e6f5d0"
            ],
            [
             0.7,
             "#b8e186"
            ],
            [
             0.8,
             "#7fbc41"
            ],
            [
             0.9,
             "#4d9221"
            ],
            [
             1,
             "#276419"
            ]
           ],
           "sequential": [
            [
             0,
             "#0d0887"
            ],
            [
             0.1111111111111111,
             "#46039f"
            ],
            [
             0.2222222222222222,
             "#7201a8"
            ],
            [
             0.3333333333333333,
             "#9c179e"
            ],
            [
             0.4444444444444444,
             "#bd3786"
            ],
            [
             0.5555555555555556,
             "#d8576b"
            ],
            [
             0.6666666666666666,
             "#ed7953"
            ],
            [
             0.7777777777777778,
             "#fb9f3a"
            ],
            [
             0.8888888888888888,
             "#fdca26"
            ],
            [
             1,
             "#f0f921"
            ]
           ],
           "sequentialminus": [
            [
             0,
             "#0d0887"
            ],
            [
             0.1111111111111111,
             "#46039f"
            ],
            [
             0.2222222222222222,
             "#7201a8"
            ],
            [
             0.3333333333333333,
             "#9c179e"
            ],
            [
             0.4444444444444444,
             "#bd3786"
            ],
            [
             0.5555555555555556,
             "#d8576b"
            ],
            [
             0.6666666666666666,
             "#ed7953"
            ],
            [
             0.7777777777777778,
             "#fb9f3a"
            ],
            [
             0.8888888888888888,
             "#fdca26"
            ],
            [
             1,
             "#f0f921"
            ]
           ]
          },
          "colorway": [
           "#636efa",
           "#EF553B",
           "#00cc96",
           "#ab63fa",
           "#FFA15A",
           "#19d3f3",
           "#FF6692",
           "#B6E880",
           "#FF97FF",
           "#FECB52"
          ],
          "font": {
           "color": "#2a3f5f"
          },
          "geo": {
           "bgcolor": "white",
           "lakecolor": "white",
           "landcolor": "#E5ECF6",
           "showlakes": true,
           "showland": true,
           "subunitcolor": "white"
          },
          "hoverlabel": {
           "align": "left"
          },
          "hovermode": "closest",
          "mapbox": {
           "style": "light"
          },
          "paper_bgcolor": "white",
          "plot_bgcolor": "#E5ECF6",
          "polar": {
           "angularaxis": {
            "gridcolor": "white",
            "linecolor": "white",
            "ticks": ""
           },
           "bgcolor": "#E5ECF6",
           "radialaxis": {
            "gridcolor": "white",
            "linecolor": "white",
            "ticks": ""
           }
          },
          "scene": {
           "xaxis": {
            "backgroundcolor": "#E5ECF6",
            "gridcolor": "white",
            "gridwidth": 2,
            "linecolor": "white",
            "showbackground": true,
            "ticks": "",
            "zerolinecolor": "white"
           },
           "yaxis": {
            "backgroundcolor": "#E5ECF6",
            "gridcolor": "white",
            "gridwidth": 2,
            "linecolor": "white",
            "showbackground": true,
            "ticks": "",
            "zerolinecolor": "white"
           },
           "zaxis": {
            "backgroundcolor": "#E5ECF6",
            "gridcolor": "white",
            "gridwidth": 2,
            "linecolor": "white",
            "showbackground": true,
            "ticks": "",
            "zerolinecolor": "white"
           }
          },
          "shapedefaults": {
           "line": {
            "color": "#2a3f5f"
           }
          },
          "ternary": {
           "aaxis": {
            "gridcolor": "white",
            "linecolor": "white",
            "ticks": ""
           },
           "baxis": {
            "gridcolor": "white",
            "linecolor": "white",
            "ticks": ""
           },
           "bgcolor": "#E5ECF6",
           "caxis": {
            "gridcolor": "white",
            "linecolor": "white",
            "ticks": ""
           }
          },
          "title": {
           "x": 0.05
          },
          "xaxis": {
           "automargin": true,
           "gridcolor": "white",
           "linecolor": "white",
           "ticks": "",
           "title": {
            "standoff": 15
           },
           "zerolinecolor": "white",
           "zerolinewidth": 2
          },
          "yaxis": {
           "automargin": true,
           "gridcolor": "white",
           "linecolor": "white",
           "ticks": "",
           "title": {
            "standoff": 15
           },
           "zerolinecolor": "white",
           "zerolinewidth": 2
          }
         }
        },
        "title": {
         "text": "alpha = 1.7857207142857145, Rsquared = -0.024481712428273666"
        },
        "xaxis": {
         "anchor": "y",
         "domain": [
          0,
          1
         ],
         "title": {
          "text": "Feature number"
         }
        },
        "yaxis": {
         "anchor": "x",
         "domain": [
          0,
          1
         ],
         "title": {
          "text": "Coefficient value"
         }
        }
       }
      },
      "text/html": [
       "<div>                            <div id=\"e58a88be-0dac-4d40-91ed-610a6f966f7a\" class=\"plotly-graph-div\" style=\"height:525px; width:100%;\"></div>            <script type=\"text/javascript\">                require([\"plotly\"], function(Plotly) {                    window.PLOTLYENV=window.PLOTLYENV || {};                                    if (document.getElementById(\"e58a88be-0dac-4d40-91ed-610a6f966f7a\")) {                    Plotly.newPlot(                        \"e58a88be-0dac-4d40-91ed-610a6f966f7a\",                        [{\"error_y\":{\"array\":[0.29487263543534653,0.1365530691442873,0.1174028304351254,0.11757097077396794,0.3125468820977913,0.09526840822678603,0.1001919914327033,0.12909459912902185,0.11707228639727249,0.10523769948736576,0.10876947407570675,0.09413688955224316,0.09300291705966697,0.13308060292242962,0.10610042865568131,0.13044196812143102,0.16774087564759502,0.08760276712200275,0.1721200068442692,0.13366763566349407,0.13566538808887568,0.2599085431197281,0.11712114120337964,0.10727923855961098,0.11465159123178725,0.4060136186343689,0.12366253676149537,0.09737447063214442,0.13062654015205705,0.1133775535210045,0.09042813050561703,0.10928290508645713,0.10067661286415068,0.09699170026135369,0.09436577914230045,0.10326177873625572,0.1905131432371991,0.12846770266441132,0.10424224485360536,0.10070992994847303,0.08696290907537219,0.0970971292960693,0.09236214552915904,0.09818918011907254,0.09375946325259021,0.09923658675277125,0.06852355565957402,0.08650229082326971,0.05863947914034162,0.09622678104026652,0.10806274536840503,0.07846969755909157,0.12333065234702927,0.07882467881418796,0.08313834758739387,0.09285615986949196,0.08912811142890066,0.10902191007330639,0.0873024675061776,0.15735374771159696,0.0935359552194222,0.10973690370113848,0.07989255516155916,0.08702861286260287,0.09994641134486368,0.124156973044845,0.11747219601457812,0.0767045201701519,0.0971579125279463,0.10349158262509031,0.09304842003502627,0.08988770252324021,0.1261002759577422,0.09243789123055361,0.09584441434295726,0.07480564297570858,0.09215634591323613,0.06800969819355994,0.06939603670113942,0.13133438034719405,0.0907609077298239,0.1016999027341352,0.08618101472445183,0.09352375807136255,0.09364046153963929,0.1011471387055633,0.07515883244053141,0.10133870066535013,0.0934645723378444,0.09842574137035265,0.08871655624977172,0.0915116093586379,0.07715388970572984,0.11301525968352022,0.08861366565034948,0.09416727367406888,0.0804182449344593,0.09480406558658476,0.07748083234710572,0.07722007885823774,0.07639007105851549,0.08762339833475197,0.07033827905030134,0.1354592717393246,0.1090869434439805,0.10195489665459101,0.06848782167403022,0.10024985600846224,0.08212285974651541,0.07371291907683297,0.10738538408546075,0.09414615884268371,0.06083172623856994,0.06706457425890562,0.10973908347300747,0.0910656134621346,0.09831331329147666,0.10124319307223915,0.11674277733196274,0.06040716527022226,0.07998203683779566,0.10196742302043994,0.08726082360418433,0.07495159197635724,0.08746142752387746,0.09149689242804994,0.07905108556449439,0.06473558916870968,0.08294288597528543,0.09084733676648461,0.08693442291885223,0.0680378924647317,0.09041595827518471,0.08504787784574248,0.07167360780953223,0.06880786610571542,0.09112860111909267,0.08062190534068914,0.07585032348194383,0.11422913242153077,0.08174684757394797,0.09106896196482848,0.11994266034768354,0.0828022537008743,0.09629531175378253,0.08158997590422269,0.0870914940220788,0.07915139697127446,0.07972251558904563,0.09541954675934901,0.08966478032215879,0.0674921817431627,0.09357848157736826,0.073223114744684,0.07454531946299361,0.13307732142840825,0.13344927897014425,0.08913346492590196,0.06620145346814348,0.0550437452672828,0.09540804519347858,0.09817283767509616,0.1195478743706313,0.06106939499257355,0.11955420667982192,0.08194675233011928,0.08306986841879689,0.07502107434815188,0.11810032214921085,0.09638682229888974,0.10498598037345246,0.09355530601307702,0.07531029531459328,0.076926577262995,0.0725312393722489,0.06366257167980949,0.06779344993849508,0.06531672296194942,0.07254437145971525,0.08192065863443208,0.09534226161685934,0.07952999068819991,0.09591918781834997,0.07431358231911199,0.060726046892226854,0.07783653847366999,0.06345934260694323,0.07904337939934593,0.07825834026274595,0.08447910176653267,0.06829566573595931,0.07045935720643078,0.07935461611504435,0.06071851425494962,0.06848399471340587,0.0895323572255891,0.11069028989850285,0.0649515037913979,0.1115561257021049,0.07329363057621362,0.0668184349500651,0.07427074280995144,0.07422802061379069,0.07926276439558015,0.08024697904020964,0.0613177638219645,0.08474454893288952,0.07091825800279386,0.0759299174400552,0.0785089684219473,0.08369233142283289,0.1093833247821883,0.07299902857993593,0.07233415107926493,0.08044102356682184,0.061792093632184034,0.09726053349776237,0.05607152168917398,0.06409358476858215,0.09811953949384407,0.06322987629986612,0.07202886149690285,0.0597365479427374,0.058236215040735596,0.06385037372892889,0.05530769212497628,0.06049902674784635,0.08665135667842153,0.059633920367119495,0.06501162971980956,0.07433791276425607,0.05744604319106809,0.06329964920657592,0.03804947263171874,0.09133661112753344,0.08050017934282197,0.06570145563125589,0.06818143394103852,0.07206847378504605]},\"hovertemplate\":\"x=%{x}<br>y=%{y}<extra></extra>\",\"legendgroup\":\"\",\"marker\":{\"color\":\"#636efa\",\"symbol\":\"circle\"},\"mode\":\"markers\",\"name\":\"\",\"orientation\":\"v\",\"showlegend\":false,\"x\":[0,1,2,3,4,5,6,7,8,9,10,11,12,13,14,15,16,17,18,19,20,21,22,23,24,25,26,27,28,29,30,31,32,33,34,35,36,37,38,39,40,41,42,43,44,45,46,47,48,49,50,51,52,53,54,55,56,57,58,59,60,61,62,63,64,65,66,67,68,69,70,71,72,73,74,75,76,77,78,79,80,81,82,83,84,85,86,87,88,89,90,91,92,93,94,95,96,97,98,99,100,101,102,103,104,105,106,107,108,109,110,111,112,113,114,115,116,117,118,119,120,121,122,123,124,125,126,127,128,129,130,131,132,133,134,135,136,137,138,139,140,141,142,143,144,145,146,147,148,149,150,151,152,153,154,155,156,157,158,159,160,161,162,163,164,165,166,167,168,169,170,171,172,173,174,175,176,177,178,179,180,181,182,183,184,185,186,187,188,189,190,191,192,193,194,195,196,197,198,199,200,201,202,203,204,205,206,207,208,209,210,211,212,213,214,215,216,217,218,219,220,221,222,223,224,225,226,227,228,229,230,231,232,233,234,235,236,237,238],\"xaxis\":\"x\",\"y\":[-2.6034348295454555,-0.03278884390031426,0.015563817114507933,-0.026773683345465572,0.13800017174824128,-0.023119617154325946,0.009004133663437457,0.038432434400241425,0.03517016067353219,0.01828188988290874,0.023717414853950233,0.006815994335942739,0.01640317912578633,0.04299359972144666,0.01257863993337442,0.029104044681781776,0.06189710799681263,-0.0026055261249303,0.062187018229958806,0.029013080596452877,-0.03284334815215717,0.125261297507529,0.029874308840612613,-0.022567150140475643,0.0068246257758589465,0.5048071118858611,-0.029798418680810245,0.014521668186528888,0.03160006726853385,0.02421630228494091,0.004129541699910847,-0.01661566960695307,-0.026985504922539347,-0.02538494043173188,0.0025485484739265264,-0.023977193596889365,0.07197832669772666,-0.015698358790515083,-0.013964490496648052,-0.02892763242296372,-0.023913858975191944,0.022281708784877195,0.013026848040351948,0.010216416127588966,0.01395603972429952,0.017350449166879636,-0.006187024393744327,-0.01975711328408931,0.0056604697188130815,0.0003378481486058698,-0.016331987752436165,-0.0013417923253212767,0.034753919003014444,-0.00821460894175105,0.009993314786040812,0.009138076537129272,0.01570793910563541,0.026737215394182442,-0.02285156851694622,-0.053878729655578106,0.006494474573380966,-0.025113119043334124,0.013007977370203013,-0.015701212215976316,0.031144310629198074,-0.03418208249509965,0.02157552765323121,-0.010102539708624823,0.014746850735359852,-0.016055907848626802,0.00869988513170472,0.02488012642368063,0.044815126397111625,-0.010680272650648352,-0.03048388143879126,0.00444808743599915,-0.017158957764782146,-0.011502799886820788,-0.013198337573387566,0.048426985630252196,-0.007183714670661494,-0.023413117879851897,-0.015986616390109915,0.02233596216199164,-0.006185651773644615,0.03113527733537262,-0.0008071182712353891,0.025484084339455544,0.023183640224756757,-0.02210024204899164,-0.0056367766986490896,0.025604509889621246,0.013782818699701218,-0.006352412189412764,-0.01848659664796981,0.011700693790552615,0.006264861116933072,0.001388573554974418,0.001707949144386347,0.0032445180321144917,0.0004465965499722029,0.013838145460995797,-0.008412355829181045,-0.043398025106911875,-0.035155660712067556,-0.023754219056770883,-0.006110971039627016,0.014643359088656533,0.00795453655473228,-0.013015731612930622,-0.037771448462891544,-0.02549001865277515,-0.0017773864096955927,0.0055064419881930525,0.03913971934220551,0.0197018283102335,0.02190121351157476,-0.005130922722634161,-0.04002620375710601,-0.006703700857512217,-0.004218912408983936,0.02797193771042571,-0.014276517199786827,-0.008042962292024511,-0.007651581646914202,-0.015750983086727587,0.010469694452704029,-0.006170145551174363,-0.0209308477735309,-0.020780909633112493,0.01297459367431496,-0.0036006504692981363,0.02532126729879472,-0.014772046918660192,-0.005781961611138486,-0.002382681410814586,0.013352794473903137,-0.017236439097718517,0.003469942477752392,0.025931197192036876,-0.008043637983837459,0.00782410075574667,0.041918272262822694,0.000328326546225285,0.023576781070687104,-0.011449423013474357,0.020491254679665376,-0.02481171476698466,-0.01350628588765665,-0.025708997617816767,0.02210827574730068,0.00404410784440386,-0.016197329709705003,-0.008816678999254764,-0.008032413285824961,-0.04806260627745094,0.04988764314532348,-0.01511637340428198,-0.002460509927001566,-0.007248868124367952,-0.02210245812810542,0.03004043306314688,0.0447773324971437,0.0023399383917692847,0.03927105055483728,0.010414093375286669,0.009922543009456835,-0.010001483782468098,-0.036468085050133096,0.03059579999265069,-0.03028522530782703,0.026271307031636097,0.0050036691175586925,0.0007801581464960929,0.015012424154031171,0.010214621345609675,-0.011917356972765589,-0.00035998394970718705,0.011443027606700537,0.0045838943587098125,0.0035209249537259037,-0.022557099928259196,0.028287565403157088,-0.0029755316677281584,0.006311162936606666,-0.012148442929479536,0.004355698736918067,0.0100877586935319,-0.022535909872314287,-0.024505756990926254,0.008762159909003388,0.019163499649686402,0.01290461903190156,0.011388011474400592,-0.013491830886040574,0.02539326147095212,0.03740119207624638,-0.003542786082625091,-0.036625497597364796,-0.007850119561831084,0.0020869880167461484,0.014336616331694974,-0.0038885425230454312,0.017571226331663737,-0.011355841585202763,0.0021626254579247993,-0.02273166826688734,0.015414795138681825,0.013646394160114633,0.01792624890207245,-0.018751208797950517,-0.03702908609841904,0.003056153570030139,0.0012020350112054792,0.01874500124097338,-0.0013355936146210285,0.03501287878162814,-0.0073883341531505,-0.00020053500641832987,0.015164932895989821,-0.0008262169255659875,0.007200865759089912,-0.0005251365461307284,0.0006108443645499201,0.0071089475073289185,-0.008926395850459314,0.006589136930837804,0.022043095790697825,0.0038306852649501546,-0.010759979026454286,0.004130709703147092,0.00963427407658157,-0.005546045426686312,-0.0021078450380974494,-0.02753193309679193,0.013135969264468736,0.018485870601715807,0.017261471012378394,0.015859980361570516],\"yaxis\":\"y\",\"type\":\"scatter\"}],                        {\"template\":{\"data\":{\"histogram2dcontour\":[{\"type\":\"histogram2dcontour\",\"colorbar\":{\"outlinewidth\":0,\"ticks\":\"\"},\"colorscale\":[[0.0,\"#0d0887\"],[0.1111111111111111,\"#46039f\"],[0.2222222222222222,\"#7201a8\"],[0.3333333333333333,\"#9c179e\"],[0.4444444444444444,\"#bd3786\"],[0.5555555555555556,\"#d8576b\"],[0.6666666666666666,\"#ed7953\"],[0.7777777777777778,\"#fb9f3a\"],[0.8888888888888888,\"#fdca26\"],[1.0,\"#f0f921\"]]}],\"choropleth\":[{\"type\":\"choropleth\",\"colorbar\":{\"outlinewidth\":0,\"ticks\":\"\"}}],\"histogram2d\":[{\"type\":\"histogram2d\",\"colorbar\":{\"outlinewidth\":0,\"ticks\":\"\"},\"colorscale\":[[0.0,\"#0d0887\"],[0.1111111111111111,\"#46039f\"],[0.2222222222222222,\"#7201a8\"],[0.3333333333333333,\"#9c179e\"],[0.4444444444444444,\"#bd3786\"],[0.5555555555555556,\"#d8576b\"],[0.6666666666666666,\"#ed7953\"],[0.7777777777777778,\"#fb9f3a\"],[0.8888888888888888,\"#fdca26\"],[1.0,\"#f0f921\"]]}],\"heatmap\":[{\"type\":\"heatmap\",\"colorbar\":{\"outlinewidth\":0,\"ticks\":\"\"},\"colorscale\":[[0.0,\"#0d0887\"],[0.1111111111111111,\"#46039f\"],[0.2222222222222222,\"#7201a8\"],[0.3333333333333333,\"#9c179e\"],[0.4444444444444444,\"#bd3786\"],[0.5555555555555556,\"#d8576b\"],[0.6666666666666666,\"#ed7953\"],[0.7777777777777778,\"#fb9f3a\"],[0.8888888888888888,\"#fdca26\"],[1.0,\"#f0f921\"]]}],\"heatmapgl\":[{\"type\":\"heatmapgl\",\"colorbar\":{\"outlinewidth\":0,\"ticks\":\"\"},\"colorscale\":[[0.0,\"#0d0887\"],[0.1111111111111111,\"#46039f\"],[0.2222222222222222,\"#7201a8\"],[0.3333333333333333,\"#9c179e\"],[0.4444444444444444,\"#bd3786\"],[0.5555555555555556,\"#d8576b\"],[0.6666666666666666,\"#ed7953\"],[0.7777777777777778,\"#fb9f3a\"],[0.8888888888888888,\"#fdca26\"],[1.0,\"#f0f921\"]]}],\"contourcarpet\":[{\"type\":\"contourcarpet\",\"colorbar\":{\"outlinewidth\":0,\"ticks\":\"\"}}],\"contour\":[{\"type\":\"contour\",\"colorbar\":{\"outlinewidth\":0,\"ticks\":\"\"},\"colorscale\":[[0.0,\"#0d0887\"],[0.1111111111111111,\"#46039f\"],[0.2222222222222222,\"#7201a8\"],[0.3333333333333333,\"#9c179e\"],[0.4444444444444444,\"#bd3786\"],[0.5555555555555556,\"#d8576b\"],[0.6666666666666666,\"#ed7953\"],[0.7777777777777778,\"#fb9f3a\"],[0.8888888888888888,\"#fdca26\"],[1.0,\"#f0f921\"]]}],\"surface\":[{\"type\":\"surface\",\"colorbar\":{\"outlinewidth\":0,\"ticks\":\"\"},\"colorscale\":[[0.0,\"#0d0887\"],[0.1111111111111111,\"#46039f\"],[0.2222222222222222,\"#7201a8\"],[0.3333333333333333,\"#9c179e\"],[0.4444444444444444,\"#bd3786\"],[0.5555555555555556,\"#d8576b\"],[0.6666666666666666,\"#ed7953\"],[0.7777777777777778,\"#fb9f3a\"],[0.8888888888888888,\"#fdca26\"],[1.0,\"#f0f921\"]]}],\"mesh3d\":[{\"type\":\"mesh3d\",\"colorbar\":{\"outlinewidth\":0,\"ticks\":\"\"}}],\"scatter\":[{\"fillpattern\":{\"fillmode\":\"overlay\",\"size\":10,\"solidity\":0.2},\"type\":\"scatter\"}],\"parcoords\":[{\"type\":\"parcoords\",\"line\":{\"colorbar\":{\"outlinewidth\":0,\"ticks\":\"\"}}}],\"scatterpolargl\":[{\"type\":\"scatterpolargl\",\"marker\":{\"colorbar\":{\"outlinewidth\":0,\"ticks\":\"\"}}}],\"bar\":[{\"error_x\":{\"color\":\"#2a3f5f\"},\"error_y\":{\"color\":\"#2a3f5f\"},\"marker\":{\"line\":{\"color\":\"#E5ECF6\",\"width\":0.5},\"pattern\":{\"fillmode\":\"overlay\",\"size\":10,\"solidity\":0.2}},\"type\":\"bar\"}],\"scattergeo\":[{\"type\":\"scattergeo\",\"marker\":{\"colorbar\":{\"outlinewidth\":0,\"ticks\":\"\"}}}],\"scatterpolar\":[{\"type\":\"scatterpolar\",\"marker\":{\"colorbar\":{\"outlinewidth\":0,\"ticks\":\"\"}}}],\"histogram\":[{\"marker\":{\"pattern\":{\"fillmode\":\"overlay\",\"size\":10,\"solidity\":0.2}},\"type\":\"histogram\"}],\"scattergl\":[{\"type\":\"scattergl\",\"marker\":{\"colorbar\":{\"outlinewidth\":0,\"ticks\":\"\"}}}],\"scatter3d\":[{\"type\":\"scatter3d\",\"line\":{\"colorbar\":{\"outlinewidth\":0,\"ticks\":\"\"}},\"marker\":{\"colorbar\":{\"outlinewidth\":0,\"ticks\":\"\"}}}],\"scattermapbox\":[{\"type\":\"scattermapbox\",\"marker\":{\"colorbar\":{\"outlinewidth\":0,\"ticks\":\"\"}}}],\"scatterternary\":[{\"type\":\"scatterternary\",\"marker\":{\"colorbar\":{\"outlinewidth\":0,\"ticks\":\"\"}}}],\"scattercarpet\":[{\"type\":\"scattercarpet\",\"marker\":{\"colorbar\":{\"outlinewidth\":0,\"ticks\":\"\"}}}],\"carpet\":[{\"aaxis\":{\"endlinecolor\":\"#2a3f5f\",\"gridcolor\":\"white\",\"linecolor\":\"white\",\"minorgridcolor\":\"white\",\"startlinecolor\":\"#2a3f5f\"},\"baxis\":{\"endlinecolor\":\"#2a3f5f\",\"gridcolor\":\"white\",\"linecolor\":\"white\",\"minorgridcolor\":\"white\",\"startlinecolor\":\"#2a3f5f\"},\"type\":\"carpet\"}],\"table\":[{\"cells\":{\"fill\":{\"color\":\"#EBF0F8\"},\"line\":{\"color\":\"white\"}},\"header\":{\"fill\":{\"color\":\"#C8D4E3\"},\"line\":{\"color\":\"white\"}},\"type\":\"table\"}],\"barpolar\":[{\"marker\":{\"line\":{\"color\":\"#E5ECF6\",\"width\":0.5},\"pattern\":{\"fillmode\":\"overlay\",\"size\":10,\"solidity\":0.2}},\"type\":\"barpolar\"}],\"pie\":[{\"automargin\":true,\"type\":\"pie\"}]},\"layout\":{\"autotypenumbers\":\"strict\",\"colorway\":[\"#636efa\",\"#EF553B\",\"#00cc96\",\"#ab63fa\",\"#FFA15A\",\"#19d3f3\",\"#FF6692\",\"#B6E880\",\"#FF97FF\",\"#FECB52\"],\"font\":{\"color\":\"#2a3f5f\"},\"hovermode\":\"closest\",\"hoverlabel\":{\"align\":\"left\"},\"paper_bgcolor\":\"white\",\"plot_bgcolor\":\"#E5ECF6\",\"polar\":{\"bgcolor\":\"#E5ECF6\",\"angularaxis\":{\"gridcolor\":\"white\",\"linecolor\":\"white\",\"ticks\":\"\"},\"radialaxis\":{\"gridcolor\":\"white\",\"linecolor\":\"white\",\"ticks\":\"\"}},\"ternary\":{\"bgcolor\":\"#E5ECF6\",\"aaxis\":{\"gridcolor\":\"white\",\"linecolor\":\"white\",\"ticks\":\"\"},\"baxis\":{\"gridcolor\":\"white\",\"linecolor\":\"white\",\"ticks\":\"\"},\"caxis\":{\"gridcolor\":\"white\",\"linecolor\":\"white\",\"ticks\":\"\"}},\"coloraxis\":{\"colorbar\":{\"outlinewidth\":0,\"ticks\":\"\"}},\"colorscale\":{\"sequential\":[[0.0,\"#0d0887\"],[0.1111111111111111,\"#46039f\"],[0.2222222222222222,\"#7201a8\"],[0.3333333333333333,\"#9c179e\"],[0.4444444444444444,\"#bd3786\"],[0.5555555555555556,\"#d8576b\"],[0.6666666666666666,\"#ed7953\"],[0.7777777777777778,\"#fb9f3a\"],[0.8888888888888888,\"#fdca26\"],[1.0,\"#f0f921\"]],\"sequentialminus\":[[0.0,\"#0d0887\"],[0.1111111111111111,\"#46039f\"],[0.2222222222222222,\"#7201a8\"],[0.3333333333333333,\"#9c179e\"],[0.4444444444444444,\"#bd3786\"],[0.5555555555555556,\"#d8576b\"],[0.6666666666666666,\"#ed7953\"],[0.7777777777777778,\"#fb9f3a\"],[0.8888888888888888,\"#fdca26\"],[1.0,\"#f0f921\"]],\"diverging\":[[0,\"#8e0152\"],[0.1,\"#c51b7d\"],[0.2,\"#de77ae\"],[0.3,\"#f1b6da\"],[0.4,\"#fde0ef\"],[0.5,\"#f7f7f7\"],[0.6,\"#e6f5d0\"],[0.7,\"#b8e186\"],[0.8,\"#7fbc41\"],[0.9,\"#4d9221\"],[1,\"#276419\"]]},\"xaxis\":{\"gridcolor\":\"white\",\"linecolor\":\"white\",\"ticks\":\"\",\"title\":{\"standoff\":15},\"zerolinecolor\":\"white\",\"automargin\":true,\"zerolinewidth\":2},\"yaxis\":{\"gridcolor\":\"white\",\"linecolor\":\"white\",\"ticks\":\"\",\"title\":{\"standoff\":15},\"zerolinecolor\":\"white\",\"automargin\":true,\"zerolinewidth\":2},\"scene\":{\"xaxis\":{\"backgroundcolor\":\"#E5ECF6\",\"gridcolor\":\"white\",\"linecolor\":\"white\",\"showbackground\":true,\"ticks\":\"\",\"zerolinecolor\":\"white\",\"gridwidth\":2},\"yaxis\":{\"backgroundcolor\":\"#E5ECF6\",\"gridcolor\":\"white\",\"linecolor\":\"white\",\"showbackground\":true,\"ticks\":\"\",\"zerolinecolor\":\"white\",\"gridwidth\":2},\"zaxis\":{\"backgroundcolor\":\"#E5ECF6\",\"gridcolor\":\"white\",\"linecolor\":\"white\",\"showbackground\":true,\"ticks\":\"\",\"zerolinecolor\":\"white\",\"gridwidth\":2}},\"shapedefaults\":{\"line\":{\"color\":\"#2a3f5f\"}},\"annotationdefaults\":{\"arrowcolor\":\"#2a3f5f\",\"arrowhead\":0,\"arrowwidth\":1},\"geo\":{\"bgcolor\":\"white\",\"landcolor\":\"#E5ECF6\",\"subunitcolor\":\"white\",\"showland\":true,\"showlakes\":true,\"lakecolor\":\"white\"},\"title\":{\"x\":0.05},\"mapbox\":{\"style\":\"light\"}}},\"xaxis\":{\"anchor\":\"y\",\"domain\":[0.0,1.0],\"title\":{\"text\":\"Feature number\"}},\"yaxis\":{\"anchor\":\"x\",\"domain\":[0.0,1.0],\"title\":{\"text\":\"Coefficient value\"}},\"legend\":{\"tracegroupgap\":0},\"margin\":{\"t\":60},\"title\":{\"text\":\"alpha = 1.7857207142857145, Rsquared = -0.024481712428273666\"}},                        {\"responsive\": true}                    ).then(function(){\n",
       "                            \n",
       "var gd = document.getElementById('e58a88be-0dac-4d40-91ed-610a6f966f7a');\n",
       "var x = new MutationObserver(function (mutations, observer) {{\n",
       "        var display = window.getComputedStyle(gd).display;\n",
       "        if (!display || display === 'none') {{\n",
       "            console.log([gd, 'removed!']);\n",
       "            Plotly.purge(gd);\n",
       "            observer.disconnect();\n",
       "        }}\n",
       "}});\n",
       "\n",
       "// Listen for the removal of the full notebook cells\n",
       "var notebookContainer = gd.closest('#notebook-container');\n",
       "if (notebookContainer) {{\n",
       "    x.observe(notebookContainer, {childList: true});\n",
       "}}\n",
       "\n",
       "// Listen for the clearing of the current output cell\n",
       "var outputEl = gd.closest('.output');\n",
       "if (outputEl) {{\n",
       "    x.observe(outputEl, {childList: true});\n",
       "}}\n",
       "\n",
       "                        })                };                });            </script>        </div>"
      ]
     },
     "metadata": {},
     "output_type": "display_data"
    },
    {
     "data": {
      "application/vnd.plotly.v1+json": {
       "config": {
        "plotlyServerURL": "https://plot.ly"
       },
       "data": [
        {
         "error_y": {
          "array": [
           0.29643383312848415,
           0.12694316250246773,
           0.10883025796379314,
           0.1092520185033785,
           0.2933639354250327,
           0.08857166170923596,
           0.09281325586214041,
           0.120272629429437,
           0.10908434214756575,
           0.09764097579010156,
           0.10104238666182977,
           0.08718645438751742,
           0.08629507685013361,
           0.1241238244836738,
           0.09832847631366136,
           0.12119446074864623,
           0.15680102880732946,
           0.08110952717267164,
           0.16083112040042857,
           0.12416793267026156,
           0.12612645170542922,
           0.24458817069519512,
           0.10893585812412734,
           0.09963471330589319,
           0.10617360857417636,
           0.41522689119994194,
           0.11496312101334741,
           0.09029434287191625,
           0.1214411498675339,
           0.10530871049101985,
           0.0837326508050238,
           0.10134323606526162,
           0.0936855444518732,
           0.09023515173543563,
           0.08737028660233116,
           0.0959693002234214,
           0.17817018363110765,
           0.11906477033256598,
           0.09663319640003566,
           0.09378714797022208,
           0.08094571539633298,
           0.09023197462762923,
           0.08563214654133676,
           0.09097578561377107,
           0.0869416621372388,
           0.09207561608918402,
           0.06347741655217891,
           0.08038341875093534,
           0.05432573019246062,
           0.08908876646490785,
           0.10020975901381679,
           0.07265034049253793,
           0.11482781264338818,
           0.07303406227782205,
           0.07705054811868736,
           0.08602754857014508,
           0.08269946653267024,
           0.10136737599764534,
           0.08122096844900688,
           0.14689618614190708,
           0.08662728228758146,
           0.10197597855522629,
           0.07410606028836568,
           0.0807599498609428,
           0.0931719700796458,
           0.11556768091396949,
           0.10901985659743751,
           0.07110252317082458,
           0.09009864619299207,
           0.09597917241960371,
           0.08619987260166179,
           0.08367401333494981,
           0.11779471215582123,
           0.08566242314559026,
           0.0893735540618475,
           0.06927405648220795,
           0.08553121483622231,
           0.06309327181428188,
           0.06441402954370273,
           0.12276718093258557,
           0.08406586511031719,
           0.0945115902201171,
           0.07998398538396292,
           0.08693822470564898,
           0.08672123851817758,
           0.09427572101131253,
           0.06958413092900054,
           0.0942442534311009,
           0.08691083759722755,
           0.0914520996392134,
           0.08215925157238382,
           0.08519572672418584,
           0.07159326011635656,
           0.10465540866116486,
           0.08229495962613706,
           0.08727804566755568,
           0.07448509560254982,
           0.08777285440996321,
           0.07173580163179517,
           0.07150091560654379,
           0.07072363586905107,
           0.08126789698270506,
           0.06518709233905885,
           0.12632702395661513,
           0.10174135820883706,
           0.09475717812619534,
           0.06344344998334916,
           0.0929546718853905,
           0.0760819294985049,
           0.0683967152283381,
           0.10029427761077471,
           0.08761760769695061,
           0.056322669002663084,
           0.06211962200800159,
           0.1025176437103158,
           0.08459178113602057,
           0.09134251495470314,
           0.09375017738577476,
           0.10898655378673025,
           0.05597534324209727,
           0.07406369245091915,
           0.09490957036618732,
           0.0809421398001121,
           0.06944874241463128,
           0.08101780290619802,
           0.08488878395382451,
           0.0732787243153087,
           0.05997238775989999,
           0.07713869570195424,
           0.08442205659282923,
           0.08061358874056132,
           0.06300344826433484,
           0.08417655290874004,
           0.07890852677804118,
           0.06638770491814383,
           0.06370916145653041,
           0.0844979777903521,
           0.07488467556221469,
           0.07023425076447813,
           0.10614419717145915,
           0.07573519635502321,
           0.08435791632843972,
           0.11200993065400523,
           0.07666007687577922,
           0.08953305676101034,
           0.07564381501918033,
           0.0809492583586473,
           0.07379250558196422,
           0.0739598701459361,
           0.08879822246209387,
           0.08337316090540488,
           0.06250164110508766,
           0.08682204106735229,
           0.06786159885425196,
           0.06907276752145625,
           0.12434827414281534,
           0.12477722876152944,
           0.08269091211777221,
           0.06129668353198325,
           0.05102369598423156,
           0.08866864545022594,
           0.09149624951756634,
           0.11178342911656251,
           0.05654520208627569,
           0.1115354837409867,
           0.07595542048854428,
           0.07698609320500033,
           0.06954413737432454,
           0.1100818195907889,
           0.08987681335958508,
           0.09777415922345101,
           0.08710187459419917,
           0.0697457663997324,
           0.07122069465860908,
           0.06735604847446089,
           0.05904837144011047,
           0.06290292460593176,
           0.060471666171323435,
           0.06728229626823036,
           0.07586075234767994,
           0.08827838032233247,
           0.07405234664464669,
           0.08935388517430273,
           0.06880888653607592,
           0.0562647533585058,
           0.07218791100941988,
           0.058771702124736286,
           0.07326552897376923,
           0.07288103976037817,
           0.07868114099120173,
           0.06330379730800696,
           0.06557645811189293,
           0.07360674454765657,
           0.05635548896937881,
           0.06357938848144978,
           0.08336576794212473,
           0.10331163344817441,
           0.06014618543208011,
           0.1040730579414917,
           0.06791229490301544,
           0.0618661606061696,
           0.06894411333054504,
           0.06873526327192407,
           0.07364020258388844,
           0.07440045972014667,
           0.056774261993157625,
           0.0788604026958593,
           0.06587874867425365,
           0.0704594460961409,
           0.07295536006529338,
           0.07776137140099473,
           0.1020948750838294,
           0.06759242859114757,
           0.06696973191539053,
           0.0747622214257418,
           0.057210271296768686,
           0.0908754572609411,
           0.051976481683196615,
           0.059339170537213416,
           0.09099590710898488,
           0.05854020432463719,
           0.06673335673039037,
           0.055305602058785645,
           0.053916682125620966,
           0.059166277673219476,
           0.051300156581965704,
           0.05605865265284644,
           0.08059353904182942,
           0.05522655235174997,
           0.06030672735387095,
           0.06883871094293775,
           0.05329144479162198,
           0.05863621268876023,
           0.035234687657410266,
           0.08510831734640843,
           0.0746703004709439,
           0.06117071760083172,
           0.06341207692992754,
           0.06695285582272276
          ]
         },
         "hovertemplate": "x=%{x}<br>y=%{y}<extra></extra>",
         "legendgroup": "",
         "marker": {
          "color": "#636efa",
          "symbol": "circle"
         },
         "mode": "markers",
         "name": "",
         "orientation": "v",
         "showlegend": false,
         "type": "scatter",
         "x": [
          0,
          1,
          2,
          3,
          4,
          5,
          6,
          7,
          8,
          9,
          10,
          11,
          12,
          13,
          14,
          15,
          16,
          17,
          18,
          19,
          20,
          21,
          22,
          23,
          24,
          25,
          26,
          27,
          28,
          29,
          30,
          31,
          32,
          33,
          34,
          35,
          36,
          37,
          38,
          39,
          40,
          41,
          42,
          43,
          44,
          45,
          46,
          47,
          48,
          49,
          50,
          51,
          52,
          53,
          54,
          55,
          56,
          57,
          58,
          59,
          60,
          61,
          62,
          63,
          64,
          65,
          66,
          67,
          68,
          69,
          70,
          71,
          72,
          73,
          74,
          75,
          76,
          77,
          78,
          79,
          80,
          81,
          82,
          83,
          84,
          85,
          86,
          87,
          88,
          89,
          90,
          91,
          92,
          93,
          94,
          95,
          96,
          97,
          98,
          99,
          100,
          101,
          102,
          103,
          104,
          105,
          106,
          107,
          108,
          109,
          110,
          111,
          112,
          113,
          114,
          115,
          116,
          117,
          118,
          119,
          120,
          121,
          122,
          123,
          124,
          125,
          126,
          127,
          128,
          129,
          130,
          131,
          132,
          133,
          134,
          135,
          136,
          137,
          138,
          139,
          140,
          141,
          142,
          143,
          144,
          145,
          146,
          147,
          148,
          149,
          150,
          151,
          152,
          153,
          154,
          155,
          156,
          157,
          158,
          159,
          160,
          161,
          162,
          163,
          164,
          165,
          166,
          167,
          168,
          169,
          170,
          171,
          172,
          173,
          174,
          175,
          176,
          177,
          178,
          179,
          180,
          181,
          182,
          183,
          184,
          185,
          186,
          187,
          188,
          189,
          190,
          191,
          192,
          193,
          194,
          195,
          196,
          197,
          198,
          199,
          200,
          201,
          202,
          203,
          204,
          205,
          206,
          207,
          208,
          209,
          210,
          211,
          212,
          213,
          214,
          215,
          216,
          217,
          218,
          219,
          220,
          221,
          222,
          223,
          224,
          225,
          226,
          227,
          228,
          229,
          230,
          231,
          232,
          233,
          234,
          235,
          236,
          237,
          238
         ],
         "xaxis": "x",
         "y": [
          -2.6029603409090933,
          -0.028104723343126508,
          0.01334041466957823,
          -0.02294887143897049,
          0.11828586149849252,
          -0.019816814703707955,
          0.0077178288543749635,
          0.032942086628778365,
          0.03014585200588473,
          0.015670191328207492,
          0.02032921273195734,
          0.00584228085937949,
          0.014059867822102567,
          0.036851656904097134,
          0.01078169137146379,
          0.02494632401295581,
          0.05305466399726797,
          -0.0022333081070831143,
          0.053303158482821834,
          0.024868354796959608,
          -0.02815144127327757,
          0.10736682643502488,
          0.02560655043481081,
          -0.01934327154897912,
          0.005849679236450526,
          0.43280661463593595,
          -0.02554150172640878,
          0.012447144159881903,
          0.02708577194445759,
          0.020756830529949352,
          0.003539607171352155,
          -0.014242002520245491,
          -0.02313043279074801,
          -0.0217585203700559,
          0.0021844701205084513,
          -0.02055188022590517,
          0.06169570859805143,
          -0.013455736106155787,
          -0.011969563282841187,
          -0.024795113505397474,
          -0.02049759340730738,
          0.01909860752989474,
          0.011165869748873099,
          0.008756928109361971,
          0.011962319763685303,
          0.014871813571611117,
          -0.005303163766066566,
          -0.016934668529219408,
          0.00485183118755407,
          0.00028958412737645987,
          -0.013998846644945282,
          -0.0011501077074182373,
          0.02978907343115524,
          -0.007041093378643757,
          0.008565698388034983,
          0.007832637031825091,
          0.013463947804830352,
          0.022917613195013523,
          -0.019587058728811047,
          -0.04618176827620981,
          0.0055666924914694,
          -0.021525530608572107,
          0.01114969488874544,
          -0.01345818189940827,
          0.02669512339645549,
          -0.02929892785294256,
          0.018493309417055324,
          -0.008659319750249847,
          0.012640157773165588,
          -0.013762206727394402,
          0.007457044398604045,
          0.021325822648869112,
          0.03841296548323853,
          -0.009154519414841446,
          -0.026129041233249654,
          0.003812646373713557,
          -0.014707678084098983,
          -0.009859542760132105,
          -0.011312860777189343,
          0.04150884482593045,
          -0.006157469717709852,
          -0.020068386754158767,
          -0.013702814048665642,
          0.019145110424564262,
          -0.005301987234552527,
          0.02668738057317653,
          -0.0006918156610589049,
          0.021843500862390466,
          0.01987169162122008,
          -0.018943064613421406,
          -0.004831522884556363,
          0.021946722762532497,
          0.0118138445997439,
          -0.005444924733782369,
          -0.01584565426968841,
          0.010029166106187957,
          0.0053698809573712045,
          0.0011902059042637868,
          0.0014639564094740115,
          0.002781015456098136,
          0.00038279704283331674,
          0.011861267537996397,
          -0.007210590710726611,
          -0.037198307234495895,
          -0.030133423467486473,
          -0.0203607591915179,
          -0.0052379751768231566,
          0.012551450647419886,
          0.006818174189770526,
          -0.011156341382511962,
          -0.032375527253907035,
          -0.021848587416664414,
          -0.001523474065453365,
          0.004719807418451187,
          0.03354833086474758,
          0.016887281408771573,
          0.018772468724206938,
          -0.004397933762257853,
          -0.03430817464894801,
          -0.005746029306439043,
          -0.003616210636271945,
          0.023975946608936323,
          -0.012237014742674423,
          -0.0068939676788781525,
          -0.006558498554497888,
          -0.013500842645766504,
          0.008974023816603453,
          -0.0052886961867208825,
          -0.01794072666302649,
          -0.017812208256953566,
          0.011121080292269965,
          -0.003086271830826974,
          0.0217039433989669,
          -0.012661754501708736,
          -0.004955967095261559,
          -0.002042298352126788,
          0.011445252406202687,
          -0.0147740906551873,
          0.0029742364095020502,
          0.022226740450317323,
          -0.006894546843289251,
          0.006706372076354289,
          0.03592994765384802,
          0.0002814227539073871,
          0.020208669489160374,
          -0.00981379115440659,
          0.017563932582570323,
          -0.02126718408598685,
          -0.01157681647513427,
          -0.02203628367241437,
          0.01894995064054344,
          0.003466378152346166,
          -0.013883425465461433,
          -0.007557153427932655,
          -0.006884925673564253,
          -0.041196519666386516,
          0.04276083698170584,
          -0.012956891489384554,
          -0.0021090085088584848,
          -0.006213315535172531,
          -0.018944964109804646,
          0.025748942625554466,
          0.03838057071183745,
          0.002005661478659387,
          0.033660900475574816,
          0.008926365750245717,
          0.008505036865248717,
          -0.008572700384972655,
          -0.031258358614399795,
          0.026224971422272023,
          -0.025958764549566023,
          0.0225182631699738,
          0.004288859243621736,
          0.0006687069827109367,
          0.012867792132026717,
          0.008755389724808292,
          -0.010214877405227647,
          -0.0003085576711775889,
          0.009808309377171889,
          0.003929052307465554,
          0.0030179356746222034,
          -0.019334657081365024,
          0.024246484631277505,
          -0.0025504557151955643,
          0.005409568231377142,
          -0.010412951082411031,
          0.0037334560602154867,
          0.00865132239453688,
          -0.019316494176269388,
          -0.021004934563651073,
          0.007510422779145762,
          0.016425856842588345,
          0.011061102027344194,
          0.009761152692343365,
          -0.011564426473749063,
          0.021765652689387533,
          0.03205816463678261,
          -0.0030366737851072207,
          -0.031393283654884106,
          -0.006728673910140929,
          0.0017888468714966988,
          0.012288528284309978,
          -0.0033330364483246553,
          0.01506105114142606,
          -0.009733578501602369,
          0.0018536789639355424,
          -0.019484287085903433,
          0.013212681547441565,
          0.011696909280098255,
          0.015365356201776387,
          -0.016072464683957587,
          -0.031739216655787744,
          0.002619560202882976,
          0.0010303157238904107,
          0.016067143920834328,
          -0.0011447945268180243,
          0.030011038955681264,
          -0.006332857845557572,
          -0.00017188714835856848,
          0.012998513910848419,
          -0.0007081859361994179,
          0.006172170650648496,
          -0.00045011703954062434,
          0.0005235808838999315,
          0.006093383577710502,
          -0.00765119644325084,
          0.005647831655003832,
          0.01889408210631242,
          0.003283444512814418,
          -0.009222839165532246,
          0.0035406083169832224,
          0.008257949208498488,
          -0.004753753222873981,
          -0.0018067243183692422,
          -0.023598799797250228,
          0.011259402226687488,
          0.015845031944327834,
          0.014795546582038624,
          0.013594268881346155
         ],
         "yaxis": "y"
        }
       ],
       "layout": {
        "legend": {
         "tracegroupgap": 0
        },
        "margin": {
         "t": 60
        },
        "template": {
         "data": {
          "bar": [
           {
            "error_x": {
             "color": "#2a3f5f"
            },
            "error_y": {
             "color": "#2a3f5f"
            },
            "marker": {
             "line": {
              "color": "#E5ECF6",
              "width": 0.5
             },
             "pattern": {
              "fillmode": "overlay",
              "size": 10,
              "solidity": 0.2
             }
            },
            "type": "bar"
           }
          ],
          "barpolar": [
           {
            "marker": {
             "line": {
              "color": "#E5ECF6",
              "width": 0.5
             },
             "pattern": {
              "fillmode": "overlay",
              "size": 10,
              "solidity": 0.2
             }
            },
            "type": "barpolar"
           }
          ],
          "carpet": [
           {
            "aaxis": {
             "endlinecolor": "#2a3f5f",
             "gridcolor": "white",
             "linecolor": "white",
             "minorgridcolor": "white",
             "startlinecolor": "#2a3f5f"
            },
            "baxis": {
             "endlinecolor": "#2a3f5f",
             "gridcolor": "white",
             "linecolor": "white",
             "minorgridcolor": "white",
             "startlinecolor": "#2a3f5f"
            },
            "type": "carpet"
           }
          ],
          "choropleth": [
           {
            "colorbar": {
             "outlinewidth": 0,
             "ticks": ""
            },
            "type": "choropleth"
           }
          ],
          "contour": [
           {
            "colorbar": {
             "outlinewidth": 0,
             "ticks": ""
            },
            "colorscale": [
             [
              0,
              "#0d0887"
             ],
             [
              0.1111111111111111,
              "#46039f"
             ],
             [
              0.2222222222222222,
              "#7201a8"
             ],
             [
              0.3333333333333333,
              "#9c179e"
             ],
             [
              0.4444444444444444,
              "#bd3786"
             ],
             [
              0.5555555555555556,
              "#d8576b"
             ],
             [
              0.6666666666666666,
              "#ed7953"
             ],
             [
              0.7777777777777778,
              "#fb9f3a"
             ],
             [
              0.8888888888888888,
              "#fdca26"
             ],
             [
              1,
              "#f0f921"
             ]
            ],
            "type": "contour"
           }
          ],
          "contourcarpet": [
           {
            "colorbar": {
             "outlinewidth": 0,
             "ticks": ""
            },
            "type": "contourcarpet"
           }
          ],
          "heatmap": [
           {
            "colorbar": {
             "outlinewidth": 0,
             "ticks": ""
            },
            "colorscale": [
             [
              0,
              "#0d0887"
             ],
             [
              0.1111111111111111,
              "#46039f"
             ],
             [
              0.2222222222222222,
              "#7201a8"
             ],
             [
              0.3333333333333333,
              "#9c179e"
             ],
             [
              0.4444444444444444,
              "#bd3786"
             ],
             [
              0.5555555555555556,
              "#d8576b"
             ],
             [
              0.6666666666666666,
              "#ed7953"
             ],
             [
              0.7777777777777778,
              "#fb9f3a"
             ],
             [
              0.8888888888888888,
              "#fdca26"
             ],
             [
              1,
              "#f0f921"
             ]
            ],
            "type": "heatmap"
           }
          ],
          "heatmapgl": [
           {
            "colorbar": {
             "outlinewidth": 0,
             "ticks": ""
            },
            "colorscale": [
             [
              0,
              "#0d0887"
             ],
             [
              0.1111111111111111,
              "#46039f"
             ],
             [
              0.2222222222222222,
              "#7201a8"
             ],
             [
              0.3333333333333333,
              "#9c179e"
             ],
             [
              0.4444444444444444,
              "#bd3786"
             ],
             [
              0.5555555555555556,
              "#d8576b"
             ],
             [
              0.6666666666666666,
              "#ed7953"
             ],
             [
              0.7777777777777778,
              "#fb9f3a"
             ],
             [
              0.8888888888888888,
              "#fdca26"
             ],
             [
              1,
              "#f0f921"
             ]
            ],
            "type": "heatmapgl"
           }
          ],
          "histogram": [
           {
            "marker": {
             "pattern": {
              "fillmode": "overlay",
              "size": 10,
              "solidity": 0.2
             }
            },
            "type": "histogram"
           }
          ],
          "histogram2d": [
           {
            "colorbar": {
             "outlinewidth": 0,
             "ticks": ""
            },
            "colorscale": [
             [
              0,
              "#0d0887"
             ],
             [
              0.1111111111111111,
              "#46039f"
             ],
             [
              0.2222222222222222,
              "#7201a8"
             ],
             [
              0.3333333333333333,
              "#9c179e"
             ],
             [
              0.4444444444444444,
              "#bd3786"
             ],
             [
              0.5555555555555556,
              "#d8576b"
             ],
             [
              0.6666666666666666,
              "#ed7953"
             ],
             [
              0.7777777777777778,
              "#fb9f3a"
             ],
             [
              0.8888888888888888,
              "#fdca26"
             ],
             [
              1,
              "#f0f921"
             ]
            ],
            "type": "histogram2d"
           }
          ],
          "histogram2dcontour": [
           {
            "colorbar": {
             "outlinewidth": 0,
             "ticks": ""
            },
            "colorscale": [
             [
              0,
              "#0d0887"
             ],
             [
              0.1111111111111111,
              "#46039f"
             ],
             [
              0.2222222222222222,
              "#7201a8"
             ],
             [
              0.3333333333333333,
              "#9c179e"
             ],
             [
              0.4444444444444444,
              "#bd3786"
             ],
             [
              0.5555555555555556,
              "#d8576b"
             ],
             [
              0.6666666666666666,
              "#ed7953"
             ],
             [
              0.7777777777777778,
              "#fb9f3a"
             ],
             [
              0.8888888888888888,
              "#fdca26"
             ],
             [
              1,
              "#f0f921"
             ]
            ],
            "type": "histogram2dcontour"
           }
          ],
          "mesh3d": [
           {
            "colorbar": {
             "outlinewidth": 0,
             "ticks": ""
            },
            "type": "mesh3d"
           }
          ],
          "parcoords": [
           {
            "line": {
             "colorbar": {
              "outlinewidth": 0,
              "ticks": ""
             }
            },
            "type": "parcoords"
           }
          ],
          "pie": [
           {
            "automargin": true,
            "type": "pie"
           }
          ],
          "scatter": [
           {
            "fillpattern": {
             "fillmode": "overlay",
             "size": 10,
             "solidity": 0.2
            },
            "type": "scatter"
           }
          ],
          "scatter3d": [
           {
            "line": {
             "colorbar": {
              "outlinewidth": 0,
              "ticks": ""
             }
            },
            "marker": {
             "colorbar": {
              "outlinewidth": 0,
              "ticks": ""
             }
            },
            "type": "scatter3d"
           }
          ],
          "scattercarpet": [
           {
            "marker": {
             "colorbar": {
              "outlinewidth": 0,
              "ticks": ""
             }
            },
            "type": "scattercarpet"
           }
          ],
          "scattergeo": [
           {
            "marker": {
             "colorbar": {
              "outlinewidth": 0,
              "ticks": ""
             }
            },
            "type": "scattergeo"
           }
          ],
          "scattergl": [
           {
            "marker": {
             "colorbar": {
              "outlinewidth": 0,
              "ticks": ""
             }
            },
            "type": "scattergl"
           }
          ],
          "scattermapbox": [
           {
            "marker": {
             "colorbar": {
              "outlinewidth": 0,
              "ticks": ""
             }
            },
            "type": "scattermapbox"
           }
          ],
          "scatterpolar": [
           {
            "marker": {
             "colorbar": {
              "outlinewidth": 0,
              "ticks": ""
             }
            },
            "type": "scatterpolar"
           }
          ],
          "scatterpolargl": [
           {
            "marker": {
             "colorbar": {
              "outlinewidth": 0,
              "ticks": ""
             }
            },
            "type": "scatterpolargl"
           }
          ],
          "scatterternary": [
           {
            "marker": {
             "colorbar": {
              "outlinewidth": 0,
              "ticks": ""
             }
            },
            "type": "scatterternary"
           }
          ],
          "surface": [
           {
            "colorbar": {
             "outlinewidth": 0,
             "ticks": ""
            },
            "colorscale": [
             [
              0,
              "#0d0887"
             ],
             [
              0.1111111111111111,
              "#46039f"
             ],
             [
              0.2222222222222222,
              "#7201a8"
             ],
             [
              0.3333333333333333,
              "#9c179e"
             ],
             [
              0.4444444444444444,
              "#bd3786"
             ],
             [
              0.5555555555555556,
              "#d8576b"
             ],
             [
              0.6666666666666666,
              "#ed7953"
             ],
             [
              0.7777777777777778,
              "#fb9f3a"
             ],
             [
              0.8888888888888888,
              "#fdca26"
             ],
             [
              1,
              "#f0f921"
             ]
            ],
            "type": "surface"
           }
          ],
          "table": [
           {
            "cells": {
             "fill": {
              "color": "#EBF0F8"
             },
             "line": {
              "color": "white"
             }
            },
            "header": {
             "fill": {
              "color": "#C8D4E3"
             },
             "line": {
              "color": "white"
             }
            },
            "type": "table"
           }
          ]
         },
         "layout": {
          "annotationdefaults": {
           "arrowcolor": "#2a3f5f",
           "arrowhead": 0,
           "arrowwidth": 1
          },
          "autotypenumbers": "strict",
          "coloraxis": {
           "colorbar": {
            "outlinewidth": 0,
            "ticks": ""
           }
          },
          "colorscale": {
           "diverging": [
            [
             0,
             "#8e0152"
            ],
            [
             0.1,
             "#c51b7d"
            ],
            [
             0.2,
             "#de77ae"
            ],
            [
             0.3,
             "#f1b6da"
            ],
            [
             0.4,
             "#fde0ef"
            ],
            [
             0.5,
             "#f7f7f7"
            ],
            [
             0.6,
             "#e6f5d0"
            ],
            [
             0.7,
             "#b8e186"
            ],
            [
             0.8,
             "#7fbc41"
            ],
            [
             0.9,
             "#4d9221"
            ],
            [
             1,
             "#276419"
            ]
           ],
           "sequential": [
            [
             0,
             "#0d0887"
            ],
            [
             0.1111111111111111,
             "#46039f"
            ],
            [
             0.2222222222222222,
             "#7201a8"
            ],
            [
             0.3333333333333333,
             "#9c179e"
            ],
            [
             0.4444444444444444,
             "#bd3786"
            ],
            [
             0.5555555555555556,
             "#d8576b"
            ],
            [
             0.6666666666666666,
             "#ed7953"
            ],
            [
             0.7777777777777778,
             "#fb9f3a"
            ],
            [
             0.8888888888888888,
             "#fdca26"
            ],
            [
             1,
             "#f0f921"
            ]
           ],
           "sequentialminus": [
            [
             0,
             "#0d0887"
            ],
            [
             0.1111111111111111,
             "#46039f"
            ],
            [
             0.2222222222222222,
             "#7201a8"
            ],
            [
             0.3333333333333333,
             "#9c179e"
            ],
            [
             0.4444444444444444,
             "#bd3786"
            ],
            [
             0.5555555555555556,
             "#d8576b"
            ],
            [
             0.6666666666666666,
             "#ed7953"
            ],
            [
             0.7777777777777778,
             "#fb9f3a"
            ],
            [
             0.8888888888888888,
             "#fdca26"
            ],
            [
             1,
             "#f0f921"
            ]
           ]
          },
          "colorway": [
           "#636efa",
           "#EF553B",
           "#00cc96",
           "#ab63fa",
           "#FFA15A",
           "#19d3f3",
           "#FF6692",
           "#B6E880",
           "#FF97FF",
           "#FECB52"
          ],
          "font": {
           "color": "#2a3f5f"
          },
          "geo": {
           "bgcolor": "white",
           "lakecolor": "white",
           "landcolor": "#E5ECF6",
           "showlakes": true,
           "showland": true,
           "subunitcolor": "white"
          },
          "hoverlabel": {
           "align": "left"
          },
          "hovermode": "closest",
          "mapbox": {
           "style": "light"
          },
          "paper_bgcolor": "white",
          "plot_bgcolor": "#E5ECF6",
          "polar": {
           "angularaxis": {
            "gridcolor": "white",
            "linecolor": "white",
            "ticks": ""
           },
           "bgcolor": "#E5ECF6",
           "radialaxis": {
            "gridcolor": "white",
            "linecolor": "white",
            "ticks": ""
           }
          },
          "scene": {
           "xaxis": {
            "backgroundcolor": "#E5ECF6",
            "gridcolor": "white",
            "gridwidth": 2,
            "linecolor": "white",
            "showbackground": true,
            "ticks": "",
            "zerolinecolor": "white"
           },
           "yaxis": {
            "backgroundcolor": "#E5ECF6",
            "gridcolor": "white",
            "gridwidth": 2,
            "linecolor": "white",
            "showbackground": true,
            "ticks": "",
            "zerolinecolor": "white"
           },
           "zaxis": {
            "backgroundcolor": "#E5ECF6",
            "gridcolor": "white",
            "gridwidth": 2,
            "linecolor": "white",
            "showbackground": true,
            "ticks": "",
            "zerolinecolor": "white"
           }
          },
          "shapedefaults": {
           "line": {
            "color": "#2a3f5f"
           }
          },
          "ternary": {
           "aaxis": {
            "gridcolor": "white",
            "linecolor": "white",
            "ticks": ""
           },
           "baxis": {
            "gridcolor": "white",
            "linecolor": "white",
            "ticks": ""
           },
           "bgcolor": "#E5ECF6",
           "caxis": {
            "gridcolor": "white",
            "linecolor": "white",
            "ticks": ""
           }
          },
          "title": {
           "x": 0.05
          },
          "xaxis": {
           "automargin": true,
           "gridcolor": "white",
           "linecolor": "white",
           "ticks": "",
           "title": {
            "standoff": 15
           },
           "zerolinecolor": "white",
           "zerolinewidth": 2
          },
          "yaxis": {
           "automargin": true,
           "gridcolor": "white",
           "linecolor": "white",
           "ticks": "",
           "title": {
            "standoff": 15
           },
           "zerolinecolor": "white",
           "zerolinewidth": 2
          }
         }
        },
        "title": {
         "text": "alpha = 2.1428628571428576, Rsquared = -0.03507368929362728"
        },
        "xaxis": {
         "anchor": "y",
         "domain": [
          0,
          1
         ],
         "title": {
          "text": "Feature number"
         }
        },
        "yaxis": {
         "anchor": "x",
         "domain": [
          0,
          1
         ],
         "title": {
          "text": "Coefficient value"
         }
        }
       }
      },
      "text/html": [
       "<div>                            <div id=\"0f52cc01-aa87-4f57-986d-f5f8e41d61b6\" class=\"plotly-graph-div\" style=\"height:525px; width:100%;\"></div>            <script type=\"text/javascript\">                require([\"plotly\"], function(Plotly) {                    window.PLOTLYENV=window.PLOTLYENV || {};                                    if (document.getElementById(\"0f52cc01-aa87-4f57-986d-f5f8e41d61b6\")) {                    Plotly.newPlot(                        \"0f52cc01-aa87-4f57-986d-f5f8e41d61b6\",                        [{\"error_y\":{\"array\":[0.29643383312848415,0.12694316250246773,0.10883025796379314,0.1092520185033785,0.2933639354250327,0.08857166170923596,0.09281325586214041,0.120272629429437,0.10908434214756575,0.09764097579010156,0.10104238666182977,0.08718645438751742,0.08629507685013361,0.1241238244836738,0.09832847631366136,0.12119446074864623,0.15680102880732946,0.08110952717267164,0.16083112040042857,0.12416793267026156,0.12612645170542922,0.24458817069519512,0.10893585812412734,0.09963471330589319,0.10617360857417636,0.41522689119994194,0.11496312101334741,0.09029434287191625,0.1214411498675339,0.10530871049101985,0.0837326508050238,0.10134323606526162,0.0936855444518732,0.09023515173543563,0.08737028660233116,0.0959693002234214,0.17817018363110765,0.11906477033256598,0.09663319640003566,0.09378714797022208,0.08094571539633298,0.09023197462762923,0.08563214654133676,0.09097578561377107,0.0869416621372388,0.09207561608918402,0.06347741655217891,0.08038341875093534,0.05432573019246062,0.08908876646490785,0.10020975901381679,0.07265034049253793,0.11482781264338818,0.07303406227782205,0.07705054811868736,0.08602754857014508,0.08269946653267024,0.10136737599764534,0.08122096844900688,0.14689618614190708,0.08662728228758146,0.10197597855522629,0.07410606028836568,0.0807599498609428,0.0931719700796458,0.11556768091396949,0.10901985659743751,0.07110252317082458,0.09009864619299207,0.09597917241960371,0.08619987260166179,0.08367401333494981,0.11779471215582123,0.08566242314559026,0.0893735540618475,0.06927405648220795,0.08553121483622231,0.06309327181428188,0.06441402954370273,0.12276718093258557,0.08406586511031719,0.0945115902201171,0.07998398538396292,0.08693822470564898,0.08672123851817758,0.09427572101131253,0.06958413092900054,0.0942442534311009,0.08691083759722755,0.0914520996392134,0.08215925157238382,0.08519572672418584,0.07159326011635656,0.10465540866116486,0.08229495962613706,0.08727804566755568,0.07448509560254982,0.08777285440996321,0.07173580163179517,0.07150091560654379,0.07072363586905107,0.08126789698270506,0.06518709233905885,0.12632702395661513,0.10174135820883706,0.09475717812619534,0.06344344998334916,0.0929546718853905,0.0760819294985049,0.0683967152283381,0.10029427761077471,0.08761760769695061,0.056322669002663084,0.06211962200800159,0.1025176437103158,0.08459178113602057,0.09134251495470314,0.09375017738577476,0.10898655378673025,0.05597534324209727,0.07406369245091915,0.09490957036618732,0.0809421398001121,0.06944874241463128,0.08101780290619802,0.08488878395382451,0.0732787243153087,0.05997238775989999,0.07713869570195424,0.08442205659282923,0.08061358874056132,0.06300344826433484,0.08417655290874004,0.07890852677804118,0.06638770491814383,0.06370916145653041,0.0844979777903521,0.07488467556221469,0.07023425076447813,0.10614419717145915,0.07573519635502321,0.08435791632843972,0.11200993065400523,0.07666007687577922,0.08953305676101034,0.07564381501918033,0.0809492583586473,0.07379250558196422,0.0739598701459361,0.08879822246209387,0.08337316090540488,0.06250164110508766,0.08682204106735229,0.06786159885425196,0.06907276752145625,0.12434827414281534,0.12477722876152944,0.08269091211777221,0.06129668353198325,0.05102369598423156,0.08866864545022594,0.09149624951756634,0.11178342911656251,0.05654520208627569,0.1115354837409867,0.07595542048854428,0.07698609320500033,0.06954413737432454,0.1100818195907889,0.08987681335958508,0.09777415922345101,0.08710187459419917,0.0697457663997324,0.07122069465860908,0.06735604847446089,0.05904837144011047,0.06290292460593176,0.060471666171323435,0.06728229626823036,0.07586075234767994,0.08827838032233247,0.07405234664464669,0.08935388517430273,0.06880888653607592,0.0562647533585058,0.07218791100941988,0.058771702124736286,0.07326552897376923,0.07288103976037817,0.07868114099120173,0.06330379730800696,0.06557645811189293,0.07360674454765657,0.05635548896937881,0.06357938848144978,0.08336576794212473,0.10331163344817441,0.06014618543208011,0.1040730579414917,0.06791229490301544,0.0618661606061696,0.06894411333054504,0.06873526327192407,0.07364020258388844,0.07440045972014667,0.056774261993157625,0.0788604026958593,0.06587874867425365,0.0704594460961409,0.07295536006529338,0.07776137140099473,0.1020948750838294,0.06759242859114757,0.06696973191539053,0.0747622214257418,0.057210271296768686,0.0908754572609411,0.051976481683196615,0.059339170537213416,0.09099590710898488,0.05854020432463719,0.06673335673039037,0.055305602058785645,0.053916682125620966,0.059166277673219476,0.051300156581965704,0.05605865265284644,0.08059353904182942,0.05522655235174997,0.06030672735387095,0.06883871094293775,0.05329144479162198,0.05863621268876023,0.035234687657410266,0.08510831734640843,0.0746703004709439,0.06117071760083172,0.06341207692992754,0.06695285582272276]},\"hovertemplate\":\"x=%{x}<br>y=%{y}<extra></extra>\",\"legendgroup\":\"\",\"marker\":{\"color\":\"#636efa\",\"symbol\":\"circle\"},\"mode\":\"markers\",\"name\":\"\",\"orientation\":\"v\",\"showlegend\":false,\"x\":[0,1,2,3,4,5,6,7,8,9,10,11,12,13,14,15,16,17,18,19,20,21,22,23,24,25,26,27,28,29,30,31,32,33,34,35,36,37,38,39,40,41,42,43,44,45,46,47,48,49,50,51,52,53,54,55,56,57,58,59,60,61,62,63,64,65,66,67,68,69,70,71,72,73,74,75,76,77,78,79,80,81,82,83,84,85,86,87,88,89,90,91,92,93,94,95,96,97,98,99,100,101,102,103,104,105,106,107,108,109,110,111,112,113,114,115,116,117,118,119,120,121,122,123,124,125,126,127,128,129,130,131,132,133,134,135,136,137,138,139,140,141,142,143,144,145,146,147,148,149,150,151,152,153,154,155,156,157,158,159,160,161,162,163,164,165,166,167,168,169,170,171,172,173,174,175,176,177,178,179,180,181,182,183,184,185,186,187,188,189,190,191,192,193,194,195,196,197,198,199,200,201,202,203,204,205,206,207,208,209,210,211,212,213,214,215,216,217,218,219,220,221,222,223,224,225,226,227,228,229,230,231,232,233,234,235,236,237,238],\"xaxis\":\"x\",\"y\":[-2.6029603409090933,-0.028104723343126508,0.01334041466957823,-0.02294887143897049,0.11828586149849252,-0.019816814703707955,0.0077178288543749635,0.032942086628778365,0.03014585200588473,0.015670191328207492,0.02032921273195734,0.00584228085937949,0.014059867822102567,0.036851656904097134,0.01078169137146379,0.02494632401295581,0.05305466399726797,-0.0022333081070831143,0.053303158482821834,0.024868354796959608,-0.02815144127327757,0.10736682643502488,0.02560655043481081,-0.01934327154897912,0.005849679236450526,0.43280661463593595,-0.02554150172640878,0.012447144159881903,0.02708577194445759,0.020756830529949352,0.003539607171352155,-0.014242002520245491,-0.02313043279074801,-0.0217585203700559,0.0021844701205084513,-0.02055188022590517,0.06169570859805143,-0.013455736106155787,-0.011969563282841187,-0.024795113505397474,-0.02049759340730738,0.01909860752989474,0.011165869748873099,0.008756928109361971,0.011962319763685303,0.014871813571611117,-0.005303163766066566,-0.016934668529219408,0.00485183118755407,0.00028958412737645987,-0.013998846644945282,-0.0011501077074182373,0.02978907343115524,-0.007041093378643757,0.008565698388034983,0.007832637031825091,0.013463947804830352,0.022917613195013523,-0.019587058728811047,-0.04618176827620981,0.0055666924914694,-0.021525530608572107,0.01114969488874544,-0.01345818189940827,0.02669512339645549,-0.02929892785294256,0.018493309417055324,-0.008659319750249847,0.012640157773165588,-0.013762206727394402,0.007457044398604045,0.021325822648869112,0.03841296548323853,-0.009154519414841446,-0.026129041233249654,0.003812646373713557,-0.014707678084098983,-0.009859542760132105,-0.011312860777189343,0.04150884482593045,-0.006157469717709852,-0.020068386754158767,-0.013702814048665642,0.019145110424564262,-0.005301987234552527,0.02668738057317653,-0.0006918156610589049,0.021843500862390466,0.01987169162122008,-0.018943064613421406,-0.004831522884556363,0.021946722762532497,0.0118138445997439,-0.005444924733782369,-0.01584565426968841,0.010029166106187957,0.0053698809573712045,0.0011902059042637868,0.0014639564094740115,0.002781015456098136,0.00038279704283331674,0.011861267537996397,-0.007210590710726611,-0.037198307234495895,-0.030133423467486473,-0.0203607591915179,-0.0052379751768231566,0.012551450647419886,0.006818174189770526,-0.011156341382511962,-0.032375527253907035,-0.021848587416664414,-0.001523474065453365,0.004719807418451187,0.03354833086474758,0.016887281408771573,0.018772468724206938,-0.004397933762257853,-0.03430817464894801,-0.005746029306439043,-0.003616210636271945,0.023975946608936323,-0.012237014742674423,-0.0068939676788781525,-0.006558498554497888,-0.013500842645766504,0.008974023816603453,-0.0052886961867208825,-0.01794072666302649,-0.017812208256953566,0.011121080292269965,-0.003086271830826974,0.0217039433989669,-0.012661754501708736,-0.004955967095261559,-0.002042298352126788,0.011445252406202687,-0.0147740906551873,0.0029742364095020502,0.022226740450317323,-0.006894546843289251,0.006706372076354289,0.03592994765384802,0.0002814227539073871,0.020208669489160374,-0.00981379115440659,0.017563932582570323,-0.02126718408598685,-0.01157681647513427,-0.02203628367241437,0.01894995064054344,0.003466378152346166,-0.013883425465461433,-0.007557153427932655,-0.006884925673564253,-0.041196519666386516,0.04276083698170584,-0.012956891489384554,-0.0021090085088584848,-0.006213315535172531,-0.018944964109804646,0.025748942625554466,0.03838057071183745,0.002005661478659387,0.033660900475574816,0.008926365750245717,0.008505036865248717,-0.008572700384972655,-0.031258358614399795,0.026224971422272023,-0.025958764549566023,0.0225182631699738,0.004288859243621736,0.0006687069827109367,0.012867792132026717,0.008755389724808292,-0.010214877405227647,-0.0003085576711775889,0.009808309377171889,0.003929052307465554,0.0030179356746222034,-0.019334657081365024,0.024246484631277505,-0.0025504557151955643,0.005409568231377142,-0.010412951082411031,0.0037334560602154867,0.00865132239453688,-0.019316494176269388,-0.021004934563651073,0.007510422779145762,0.016425856842588345,0.011061102027344194,0.009761152692343365,-0.011564426473749063,0.021765652689387533,0.03205816463678261,-0.0030366737851072207,-0.031393283654884106,-0.006728673910140929,0.0017888468714966988,0.012288528284309978,-0.0033330364483246553,0.01506105114142606,-0.009733578501602369,0.0018536789639355424,-0.019484287085903433,0.013212681547441565,0.011696909280098255,0.015365356201776387,-0.016072464683957587,-0.031739216655787744,0.002619560202882976,0.0010303157238904107,0.016067143920834328,-0.0011447945268180243,0.030011038955681264,-0.006332857845557572,-0.00017188714835856848,0.012998513910848419,-0.0007081859361994179,0.006172170650648496,-0.00045011703954062434,0.0005235808838999315,0.006093383577710502,-0.00765119644325084,0.005647831655003832,0.01889408210631242,0.003283444512814418,-0.009222839165532246,0.0035406083169832224,0.008257949208498488,-0.004753753222873981,-0.0018067243183692422,-0.023598799797250228,0.011259402226687488,0.015845031944327834,0.014795546582038624,0.013594268881346155],\"yaxis\":\"y\",\"type\":\"scatter\"}],                        {\"template\":{\"data\":{\"histogram2dcontour\":[{\"type\":\"histogram2dcontour\",\"colorbar\":{\"outlinewidth\":0,\"ticks\":\"\"},\"colorscale\":[[0.0,\"#0d0887\"],[0.1111111111111111,\"#46039f\"],[0.2222222222222222,\"#7201a8\"],[0.3333333333333333,\"#9c179e\"],[0.4444444444444444,\"#bd3786\"],[0.5555555555555556,\"#d8576b\"],[0.6666666666666666,\"#ed7953\"],[0.7777777777777778,\"#fb9f3a\"],[0.8888888888888888,\"#fdca26\"],[1.0,\"#f0f921\"]]}],\"choropleth\":[{\"type\":\"choropleth\",\"colorbar\":{\"outlinewidth\":0,\"ticks\":\"\"}}],\"histogram2d\":[{\"type\":\"histogram2d\",\"colorbar\":{\"outlinewidth\":0,\"ticks\":\"\"},\"colorscale\":[[0.0,\"#0d0887\"],[0.1111111111111111,\"#46039f\"],[0.2222222222222222,\"#7201a8\"],[0.3333333333333333,\"#9c179e\"],[0.4444444444444444,\"#bd3786\"],[0.5555555555555556,\"#d8576b\"],[0.6666666666666666,\"#ed7953\"],[0.7777777777777778,\"#fb9f3a\"],[0.8888888888888888,\"#fdca26\"],[1.0,\"#f0f921\"]]}],\"heatmap\":[{\"type\":\"heatmap\",\"colorbar\":{\"outlinewidth\":0,\"ticks\":\"\"},\"colorscale\":[[0.0,\"#0d0887\"],[0.1111111111111111,\"#46039f\"],[0.2222222222222222,\"#7201a8\"],[0.3333333333333333,\"#9c179e\"],[0.4444444444444444,\"#bd3786\"],[0.5555555555555556,\"#d8576b\"],[0.6666666666666666,\"#ed7953\"],[0.7777777777777778,\"#fb9f3a\"],[0.8888888888888888,\"#fdca26\"],[1.0,\"#f0f921\"]]}],\"heatmapgl\":[{\"type\":\"heatmapgl\",\"colorbar\":{\"outlinewidth\":0,\"ticks\":\"\"},\"colorscale\":[[0.0,\"#0d0887\"],[0.1111111111111111,\"#46039f\"],[0.2222222222222222,\"#7201a8\"],[0.3333333333333333,\"#9c179e\"],[0.4444444444444444,\"#bd3786\"],[0.5555555555555556,\"#d8576b\"],[0.6666666666666666,\"#ed7953\"],[0.7777777777777778,\"#fb9f3a\"],[0.8888888888888888,\"#fdca26\"],[1.0,\"#f0f921\"]]}],\"contourcarpet\":[{\"type\":\"contourcarpet\",\"colorbar\":{\"outlinewidth\":0,\"ticks\":\"\"}}],\"contour\":[{\"type\":\"contour\",\"colorbar\":{\"outlinewidth\":0,\"ticks\":\"\"},\"colorscale\":[[0.0,\"#0d0887\"],[0.1111111111111111,\"#46039f\"],[0.2222222222222222,\"#7201a8\"],[0.3333333333333333,\"#9c179e\"],[0.4444444444444444,\"#bd3786\"],[0.5555555555555556,\"#d8576b\"],[0.6666666666666666,\"#ed7953\"],[0.7777777777777778,\"#fb9f3a\"],[0.8888888888888888,\"#fdca26\"],[1.0,\"#f0f921\"]]}],\"surface\":[{\"type\":\"surface\",\"colorbar\":{\"outlinewidth\":0,\"ticks\":\"\"},\"colorscale\":[[0.0,\"#0d0887\"],[0.1111111111111111,\"#46039f\"],[0.2222222222222222,\"#7201a8\"],[0.3333333333333333,\"#9c179e\"],[0.4444444444444444,\"#bd3786\"],[0.5555555555555556,\"#d8576b\"],[0.6666666666666666,\"#ed7953\"],[0.7777777777777778,\"#fb9f3a\"],[0.8888888888888888,\"#fdca26\"],[1.0,\"#f0f921\"]]}],\"mesh3d\":[{\"type\":\"mesh3d\",\"colorbar\":{\"outlinewidth\":0,\"ticks\":\"\"}}],\"scatter\":[{\"fillpattern\":{\"fillmode\":\"overlay\",\"size\":10,\"solidity\":0.2},\"type\":\"scatter\"}],\"parcoords\":[{\"type\":\"parcoords\",\"line\":{\"colorbar\":{\"outlinewidth\":0,\"ticks\":\"\"}}}],\"scatterpolargl\":[{\"type\":\"scatterpolargl\",\"marker\":{\"colorbar\":{\"outlinewidth\":0,\"ticks\":\"\"}}}],\"bar\":[{\"error_x\":{\"color\":\"#2a3f5f\"},\"error_y\":{\"color\":\"#2a3f5f\"},\"marker\":{\"line\":{\"color\":\"#E5ECF6\",\"width\":0.5},\"pattern\":{\"fillmode\":\"overlay\",\"size\":10,\"solidity\":0.2}},\"type\":\"bar\"}],\"scattergeo\":[{\"type\":\"scattergeo\",\"marker\":{\"colorbar\":{\"outlinewidth\":0,\"ticks\":\"\"}}}],\"scatterpolar\":[{\"type\":\"scatterpolar\",\"marker\":{\"colorbar\":{\"outlinewidth\":0,\"ticks\":\"\"}}}],\"histogram\":[{\"marker\":{\"pattern\":{\"fillmode\":\"overlay\",\"size\":10,\"solidity\":0.2}},\"type\":\"histogram\"}],\"scattergl\":[{\"type\":\"scattergl\",\"marker\":{\"colorbar\":{\"outlinewidth\":0,\"ticks\":\"\"}}}],\"scatter3d\":[{\"type\":\"scatter3d\",\"line\":{\"colorbar\":{\"outlinewidth\":0,\"ticks\":\"\"}},\"marker\":{\"colorbar\":{\"outlinewidth\":0,\"ticks\":\"\"}}}],\"scattermapbox\":[{\"type\":\"scattermapbox\",\"marker\":{\"colorbar\":{\"outlinewidth\":0,\"ticks\":\"\"}}}],\"scatterternary\":[{\"type\":\"scatterternary\",\"marker\":{\"colorbar\":{\"outlinewidth\":0,\"ticks\":\"\"}}}],\"scattercarpet\":[{\"type\":\"scattercarpet\",\"marker\":{\"colorbar\":{\"outlinewidth\":0,\"ticks\":\"\"}}}],\"carpet\":[{\"aaxis\":{\"endlinecolor\":\"#2a3f5f\",\"gridcolor\":\"white\",\"linecolor\":\"white\",\"minorgridcolor\":\"white\",\"startlinecolor\":\"#2a3f5f\"},\"baxis\":{\"endlinecolor\":\"#2a3f5f\",\"gridcolor\":\"white\",\"linecolor\":\"white\",\"minorgridcolor\":\"white\",\"startlinecolor\":\"#2a3f5f\"},\"type\":\"carpet\"}],\"table\":[{\"cells\":{\"fill\":{\"color\":\"#EBF0F8\"},\"line\":{\"color\":\"white\"}},\"header\":{\"fill\":{\"color\":\"#C8D4E3\"},\"line\":{\"color\":\"white\"}},\"type\":\"table\"}],\"barpolar\":[{\"marker\":{\"line\":{\"color\":\"#E5ECF6\",\"width\":0.5},\"pattern\":{\"fillmode\":\"overlay\",\"size\":10,\"solidity\":0.2}},\"type\":\"barpolar\"}],\"pie\":[{\"automargin\":true,\"type\":\"pie\"}]},\"layout\":{\"autotypenumbers\":\"strict\",\"colorway\":[\"#636efa\",\"#EF553B\",\"#00cc96\",\"#ab63fa\",\"#FFA15A\",\"#19d3f3\",\"#FF6692\",\"#B6E880\",\"#FF97FF\",\"#FECB52\"],\"font\":{\"color\":\"#2a3f5f\"},\"hovermode\":\"closest\",\"hoverlabel\":{\"align\":\"left\"},\"paper_bgcolor\":\"white\",\"plot_bgcolor\":\"#E5ECF6\",\"polar\":{\"bgcolor\":\"#E5ECF6\",\"angularaxis\":{\"gridcolor\":\"white\",\"linecolor\":\"white\",\"ticks\":\"\"},\"radialaxis\":{\"gridcolor\":\"white\",\"linecolor\":\"white\",\"ticks\":\"\"}},\"ternary\":{\"bgcolor\":\"#E5ECF6\",\"aaxis\":{\"gridcolor\":\"white\",\"linecolor\":\"white\",\"ticks\":\"\"},\"baxis\":{\"gridcolor\":\"white\",\"linecolor\":\"white\",\"ticks\":\"\"},\"caxis\":{\"gridcolor\":\"white\",\"linecolor\":\"white\",\"ticks\":\"\"}},\"coloraxis\":{\"colorbar\":{\"outlinewidth\":0,\"ticks\":\"\"}},\"colorscale\":{\"sequential\":[[0.0,\"#0d0887\"],[0.1111111111111111,\"#46039f\"],[0.2222222222222222,\"#7201a8\"],[0.3333333333333333,\"#9c179e\"],[0.4444444444444444,\"#bd3786\"],[0.5555555555555556,\"#d8576b\"],[0.6666666666666666,\"#ed7953\"],[0.7777777777777778,\"#fb9f3a\"],[0.8888888888888888,\"#fdca26\"],[1.0,\"#f0f921\"]],\"sequentialminus\":[[0.0,\"#0d0887\"],[0.1111111111111111,\"#46039f\"],[0.2222222222222222,\"#7201a8\"],[0.3333333333333333,\"#9c179e\"],[0.4444444444444444,\"#bd3786\"],[0.5555555555555556,\"#d8576b\"],[0.6666666666666666,\"#ed7953\"],[0.7777777777777778,\"#fb9f3a\"],[0.8888888888888888,\"#fdca26\"],[1.0,\"#f0f921\"]],\"diverging\":[[0,\"#8e0152\"],[0.1,\"#c51b7d\"],[0.2,\"#de77ae\"],[0.3,\"#f1b6da\"],[0.4,\"#fde0ef\"],[0.5,\"#f7f7f7\"],[0.6,\"#e6f5d0\"],[0.7,\"#b8e186\"],[0.8,\"#7fbc41\"],[0.9,\"#4d9221\"],[1,\"#276419\"]]},\"xaxis\":{\"gridcolor\":\"white\",\"linecolor\":\"white\",\"ticks\":\"\",\"title\":{\"standoff\":15},\"zerolinecolor\":\"white\",\"automargin\":true,\"zerolinewidth\":2},\"yaxis\":{\"gridcolor\":\"white\",\"linecolor\":\"white\",\"ticks\":\"\",\"title\":{\"standoff\":15},\"zerolinecolor\":\"white\",\"automargin\":true,\"zerolinewidth\":2},\"scene\":{\"xaxis\":{\"backgroundcolor\":\"#E5ECF6\",\"gridcolor\":\"white\",\"linecolor\":\"white\",\"showbackground\":true,\"ticks\":\"\",\"zerolinecolor\":\"white\",\"gridwidth\":2},\"yaxis\":{\"backgroundcolor\":\"#E5ECF6\",\"gridcolor\":\"white\",\"linecolor\":\"white\",\"showbackground\":true,\"ticks\":\"\",\"zerolinecolor\":\"white\",\"gridwidth\":2},\"zaxis\":{\"backgroundcolor\":\"#E5ECF6\",\"gridcolor\":\"white\",\"linecolor\":\"white\",\"showbackground\":true,\"ticks\":\"\",\"zerolinecolor\":\"white\",\"gridwidth\":2}},\"shapedefaults\":{\"line\":{\"color\":\"#2a3f5f\"}},\"annotationdefaults\":{\"arrowcolor\":\"#2a3f5f\",\"arrowhead\":0,\"arrowwidth\":1},\"geo\":{\"bgcolor\":\"white\",\"landcolor\":\"#E5ECF6\",\"subunitcolor\":\"white\",\"showland\":true,\"showlakes\":true,\"lakecolor\":\"white\"},\"title\":{\"x\":0.05},\"mapbox\":{\"style\":\"light\"}}},\"xaxis\":{\"anchor\":\"y\",\"domain\":[0.0,1.0],\"title\":{\"text\":\"Feature number\"}},\"yaxis\":{\"anchor\":\"x\",\"domain\":[0.0,1.0],\"title\":{\"text\":\"Coefficient value\"}},\"legend\":{\"tracegroupgap\":0},\"margin\":{\"t\":60},\"title\":{\"text\":\"alpha = 2.1428628571428576, Rsquared = -0.03507368929362728\"}},                        {\"responsive\": true}                    ).then(function(){\n",
       "                            \n",
       "var gd = document.getElementById('0f52cc01-aa87-4f57-986d-f5f8e41d61b6');\n",
       "var x = new MutationObserver(function (mutations, observer) {{\n",
       "        var display = window.getComputedStyle(gd).display;\n",
       "        if (!display || display === 'none') {{\n",
       "            console.log([gd, 'removed!']);\n",
       "            Plotly.purge(gd);\n",
       "            observer.disconnect();\n",
       "        }}\n",
       "}});\n",
       "\n",
       "// Listen for the removal of the full notebook cells\n",
       "var notebookContainer = gd.closest('#notebook-container');\n",
       "if (notebookContainer) {{\n",
       "    x.observe(notebookContainer, {childList: true});\n",
       "}}\n",
       "\n",
       "// Listen for the clearing of the current output cell\n",
       "var outputEl = gd.closest('.output');\n",
       "if (outputEl) {{\n",
       "    x.observe(outputEl, {childList: true});\n",
       "}}\n",
       "\n",
       "                        })                };                });            </script>        </div>"
      ]
     },
     "metadata": {},
     "output_type": "display_data"
    },
    {
     "data": {
      "application/vnd.plotly.v1+json": {
       "config": {
        "plotlyServerURL": "https://plot.ly"
       },
       "data": [
        {
         "error_y": {
          "array": [
           0.29626137115674456,
           0.11910767533138633,
           0.10189694313979558,
           0.10247734151520507,
           0.27719113265004247,
           0.08311001194381908,
           0.0868563631218515,
           0.11303100855881772,
           0.10252495535015382,
           0.09148167959138359,
           0.09475531950450639,
           0.08157834464151177,
           0.08085546666568892,
           0.11674510464610173,
           0.09204695747233906,
           0.1136668434557736,
           0.14771970338521237,
           0.07587461037313019,
           0.15147302498750276,
           0.11643928633187271,
           0.1183472715299238,
           0.2315303148887225,
           0.1022514558537445,
           0.09341903215741493,
           0.0993351571118052,
           0.41394443591386965,
           0.1078693982459372,
           0.08456287856951354,
           0.11395043019316471,
           0.09874617827983787,
           0.07833347017112507,
           0.09491485709545996,
           0.08796803999229932,
           0.08471343777600418,
           0.08173061260004127,
           0.09002800148135413,
           0.1679072905460515,
           0.11146376175146076,
           0.09047871584310602,
           0.08811225214018945,
           0.07602063396351687,
           0.08464028807607574,
           0.08018661337411027,
           0.08514931979505208,
           0.08142264600808174,
           0.0862691703561222,
           0.05940358258099616,
           0.07540009382788715,
           0.050842394292610886,
           0.08333496531189587,
           0.09385190618417459,
           0.06795923522604248,
           0.10786244201478346,
           0.06835678426556623,
           0.07212983826754228,
           0.08051308528623428,
           0.07748631371706696,
           0.09512293314883917,
           0.07625091497115631,
           0.13825501246667887,
           0.08105331332896955,
           0.0956550647676541,
           0.06941787723123284,
           0.07567501968807548,
           0.08760041593162864,
           0.10853705926981101,
           0.10216197684879151,
           0.0665719464658695,
           0.08438317679685398,
           0.08989558826129598,
           0.08067030341770855,
           0.07858699433250127,
           0.11091678801622364,
           0.08018703507015167,
           0.08404672146032076,
           0.06481221292011977,
           0.08015484802852678,
           0.059108360130065526,
           0.06036985343591556,
           0.11565578032081013,
           0.078662779370501,
           0.08865627616676229,
           0.07495528804648761,
           0.08156937442392835,
           0.08113923962543122,
           0.08862742962260801,
           0.06509039649095501,
           0.08845291921921017,
           0.08156284345128303,
           0.08577469792556805,
           0.07686955183477023,
           0.08002314842786724,
           0.06708323683801899,
           0.09791273106634328,
           0.07715805355195153,
           0.08170848482566197,
           0.06969705646335915,
           0.08210493081665547,
           0.06710444463914701,
           0.06688930577745597,
           0.0661560247734935,
           0.07612030036319578,
           0.06102355343884278,
           0.11880675942243188,
           0.09569067881715768,
           0.08889263193283702,
           0.059371190674099225,
           0.08705016063053987,
           0.07120384165846601,
           0.06408556832188472,
           0.09442572992143744,
           0.08227667267013952,
           0.052687441763504386,
           0.058128547287691915,
           0.09653618174956236,
           0.0793252157179131,
           0.08566835774660747,
           0.0877073218243249,
           0.10257704533416363,
           0.05239461220356237,
           0.06929056224804116,
           0.08913317009782337,
           0.07582252009752868,
           0.06500334674308987,
           0.07581624815931831,
           0.07953161961305932,
           0.06861019104918852,
           0.05612629182734421,
           0.07240017661080514,
           0.07918901509451781,
           0.07549674947551713,
           0.05894316742842209,
           0.07906644589469493,
           0.0739308538531329,
           0.06212163769444693,
           0.05959829106629729,
           0.07913120223079725,
           0.07021840212307037,
           0.0657054889118031,
           0.09956053977624116,
           0.07088047394882374,
           0.07894076879933154,
           0.10544735828361415,
           0.07170899612772307,
           0.0840167537630309,
           0.070832706904465,
           0.07594357055038006,
           0.06938398017513335,
           0.0692889841432073,
           0.08338222851749925,
           0.07823985618447056,
           0.05847617013696471,
           0.08134427109556693,
           0.06352789538889271,
           0.06465176662111526,
           0.11711237234735608,
           0.11757201290793401,
           0.07746886837265954,
           0.057342039346614984,
           0.04777251104444867,
           0.08317823371291166,
           0.08600950366895058,
           0.10533142922315078,
           0.05289735224477742,
           0.10492412325494878,
           0.0711110938215623,
           0.07206880698709649,
           0.06511433607015957,
           0.10348973281884372,
           0.08451824621277217,
           0.09186139610696283,
           0.08181598564686902,
           0.06525660746163547,
           0.06662122663470671,
           0.06314936997679994,
           0.05531053915301901,
           0.05893719774385995,
           0.05656615615100095,
           0.06302036308221362,
           0.07097313223840925,
           0.0825828950737408,
           0.06956413466087136,
           0.08396667723348611,
           0.06437034622559724,
           0.052661255674055,
           0.06761336529098279,
           0.05498975717332657,
           0.06859332498265201,
           0.06847262936271943,
           0.0739265767503772,
           0.05926735074992341,
           0.061581232617878,
           0.0689499133258532,
           0.052814484339044336,
           0.05959591999711353,
           0.0783130612784543,
           0.09721902811436807,
           0.056270567426961605,
           0.09790349566112122,
           0.0635650987806511,
           0.057873518094983985,
           0.06461923792208485,
           0.06430539966626418,
           0.06906395307065193,
           0.06966966572477537,
           0.0531109974299793,
           0.07404806256436892,
           0.061778657087889224,
           0.06602220297471448,
           0.06843242500415248,
           0.07293305987430161,
           0.09607614185398093,
           0.06323286245462348,
           0.06264537473589238,
           0.07013523743645081,
           0.053516647793176796,
           0.0855836730767649,
           0.048664636145729925,
           0.05550674055053088,
           0.08522736280644087,
           0.05475984785064145,
           0.06245670503713393,
           0.0517338677914189,
           0.05043473524005761,
           0.05538166105979172,
           0.048053571229758556,
           0.052471323731235225,
           0.07564687104678594,
           0.051671121013702304,
           0.05649417858940624,
           0.06440336344946353,
           0.04992433790916371,
           0.054871681525936106,
           0.03296444812476952,
           0.0799931795558533,
           0.06994685820156786,
           0.05745941910410057,
           0.05951804891983236,
           0.06278982595516665
          ]
         },
         "hovertemplate": "x=%{x}<br>y=%{y}<extra></extra>",
         "legendgroup": "",
         "marker": {
          "color": "#636efa",
          "symbol": "circle"
         },
         "mode": "markers",
         "name": "",
         "orientation": "v",
         "showlegend": false,
         "type": "scatter",
         "x": [
          0,
          1,
          2,
          3,
          4,
          5,
          6,
          7,
          8,
          9,
          10,
          11,
          12,
          13,
          14,
          15,
          16,
          17,
          18,
          19,
          20,
          21,
          22,
          23,
          24,
          25,
          26,
          27,
          28,
          29,
          30,
          31,
          32,
          33,
          34,
          35,
          36,
          37,
          38,
          39,
          40,
          41,
          42,
          43,
          44,
          45,
          46,
          47,
          48,
          49,
          50,
          51,
          52,
          53,
          54,
          55,
          56,
          57,
          58,
          59,
          60,
          61,
          62,
          63,
          64,
          65,
          66,
          67,
          68,
          69,
          70,
          71,
          72,
          73,
          74,
          75,
          76,
          77,
          78,
          79,
          80,
          81,
          82,
          83,
          84,
          85,
          86,
          87,
          88,
          89,
          90,
          91,
          92,
          93,
          94,
          95,
          96,
          97,
          98,
          99,
          100,
          101,
          102,
          103,
          104,
          105,
          106,
          107,
          108,
          109,
          110,
          111,
          112,
          113,
          114,
          115,
          116,
          117,
          118,
          119,
          120,
          121,
          122,
          123,
          124,
          125,
          126,
          127,
          128,
          129,
          130,
          131,
          132,
          133,
          134,
          135,
          136,
          137,
          138,
          139,
          140,
          141,
          142,
          143,
          144,
          145,
          146,
          147,
          148,
          149,
          150,
          151,
          152,
          153,
          154,
          155,
          156,
          157,
          158,
          159,
          160,
          161,
          162,
          163,
          164,
          165,
          166,
          167,
          168,
          169,
          170,
          171,
          172,
          173,
          174,
          175,
          176,
          177,
          178,
          179,
          180,
          181,
          182,
          183,
          184,
          185,
          186,
          187,
          188,
          189,
          190,
          191,
          192,
          193,
          194,
          195,
          196,
          197,
          198,
          199,
          200,
          201,
          202,
          203,
          204,
          205,
          206,
          207,
          208,
          209,
          210,
          211,
          212,
          213,
          214,
          215,
          216,
          217,
          218,
          219,
          220,
          221,
          222,
          223,
          224,
          225,
          226,
          227,
          228,
          229,
          230,
          231,
          232,
          233,
          234,
          235,
          236,
          237,
          238
         ],
         "xaxis": "x",
         "y": [
          -2.602472414772729,
          -0.024591632925235692,
          0.01167286283588095,
          -0.020080262509099178,
          0.10350012881118095,
          -0.01733971286574446,
          0.006753100247578093,
          0.02882432580018107,
          0.02637762050514914,
          0.013711417412181558,
          0.017788061140462674,
          0.005111995751957054,
          0.012302384344339745,
          0.03224519979108499,
          0.009433979950030816,
          0.021828033511336335,
          0.04642283099760947,
          -0.001954144593697725,
          0.0466402636724691,
          0.021759810447339656,
          -0.024632511114117874,
          0.09394597313064676,
          0.02240573163045946,
          -0.016925362605356733,
          0.00511846933189421,
          0.3787057878064439,
          -0.022348814010607683,
          0.010891251139896665,
          0.02370005045140039,
          0.01816222671370568,
          0.0030971562749331355,
          -0.012461752205214805,
          -0.02023912869190451,
          -0.01903870532379891,
          0.0019114113554448949,
          -0.017982895197667024,
          0.053983745023295,
          -0.011773769092886313,
          -0.010473367872486039,
          -0.02169572431722279,
          -0.017935394231393956,
          0.016711281588657898,
          0.00977013603026396,
          0.007662312095691725,
          0.01046702979322464,
          0.013012836875159728,
          -0.004640268295308245,
          -0.014817834963066982,
          0.004245352289109812,
          0.0002533861114544024,
          -0.012248990814327123,
          -0.0010063442439909576,
          0.026065439252260833,
          -0.006160956706313288,
          0.00749498608953061,
          0.006853557402846954,
          0.011780954329226559,
          0.02005291154563683,
          -0.017138676387709665,
          -0.04040904724168358,
          0.004870855930035725,
          -0.01883483928250059,
          0.00975598302765226,
          -0.011775909161982236,
          0.023358232971898554,
          -0.02563656187132474,
          0.01618164573992341,
          -0.007576904781468617,
          0.01106013805151989,
          -0.012041930886470101,
          0.00652491384877854,
          0.018660094817760473,
          0.03361134479783372,
          -0.008010204487986264,
          -0.022862911079093447,
          0.003336065576999362,
          -0.01286921832358661,
          -0.008627099915115592,
          -0.009898753180040675,
          0.03632023922268915,
          -0.005387786002996121,
          -0.017559838409888923,
          -0.011989962292582437,
          0.01675197162149373,
          -0.004639238830233461,
          0.023351458001529466,
          -0.0006053387034265418,
          0.01911306325459166,
          0.017387730168567567,
          -0.01657518153674373,
          -0.004227582523986817,
          0.019203382417215933,
          0.010337114024775912,
          -0.004764309142059573,
          -0.013864947485977358,
          0.008775520342914461,
          0.004698645837699804,
          0.0010414301662308135,
          0.0012809618582897602,
          0.0024333885240858688,
          0.00033494741247915217,
          0.010378609095746848,
          -0.006309266871885784,
          -0.032548518830183906,
          -0.026366745534050665,
          -0.01781566429257816,
          -0.0045832282797202625,
          0.0109825193164924,
          0.005965902416049211,
          -0.009761798709697967,
          -0.028328586347168658,
          -0.01911751398958136,
          -0.0013330398072716944,
          0.004129831491144789,
          0.02935478950665413,
          0.014776371232675124,
          0.01642591013368107,
          -0.003848192041975621,
          -0.03001965281782951,
          -0.005027775643134163,
          -0.003164184306737952,
          0.020978953282819283,
          -0.01070738789984012,
          -0.006032221719018383,
          -0.005738686235185652,
          -0.01181323731504569,
          0.007852270839528021,
          -0.004627609163380773,
          -0.015698135830148178,
          -0.01558568222483437,
          0.00973094525573622,
          -0.002700487851973602,
          0.01899095047409604,
          -0.011079035188995143,
          -0.004336471208353864,
          -0.0017870110581109395,
          0.010014595855427352,
          -0.012927329323288888,
          0.002602456858314294,
          0.019448397894027657,
          -0.006032728487878094,
          0.005868075566810003,
          0.03143870419711702,
          0.00024624490966896375,
          0.01768258580301533,
          -0.008587067260105767,
          0.015368441009749033,
          -0.018608786075238495,
          -0.010129714415742487,
          -0.019281748213362575,
          0.01658120681047551,
          0.0030330808833028953,
          -0.012147997282278753,
          -0.006612509249441074,
          -0.006024309964368721,
          -0.0360469547080882,
          0.03741573235899261,
          -0.011337280053211485,
          -0.0018453824452511743,
          -0.005436651093275964,
          -0.016576843596079065,
          0.022530324797360158,
          0.03358299937285777,
          0.0017549537938269634,
          0.029453287916127963,
          0.007810570031465003,
          0.007441907257092627,
          -0.007501112836851073,
          -0.02735106378759982,
          0.022946849994488018,
          -0.02271391898087027,
          0.019703480273727075,
          0.003752751838169019,
          0.0005851186098720697,
          0.011259318115523378,
          0.007660966009207256,
          -0.008938017729574192,
          -0.0002699879622803903,
          0.008582270705025402,
          0.003437920769032359,
          0.002640693715294428,
          -0.0169178249461944,
          0.021215674052367815,
          -0.002231648750796119,
          0.004733372202454999,
          -0.009111332197109651,
          0.0032667740526885506,
          0.007569907095219769,
          -0.016901932404235716,
          -0.01837931774319469,
          0.006571619931752542,
          0.014372624737264802,
          0.009678464273926171,
          0.008541008605800444,
          -0.010118873164530431,
          0.01904494610321409,
          0.028050894057184785,
          -0.0026570895619688183,
          -0.027469123198023596,
          -0.005887589671373312,
          0.0015652410125596115,
          0.01075246224877123,
          -0.0029164068922840737,
          0.013178419748747804,
          -0.008516881188902072,
          0.0016219690934435994,
          -0.017048751200165503,
          0.011561096354011369,
          0.010234795620085974,
          0.01344468667655434,
          -0.014063406598462887,
          -0.02777181457381428,
          0.002292115177522604,
          0.0009015262584041093,
          0.014058750930730037,
          -0.0010016952109657713,
          0.026259659086221104,
          -0.005541250614862875,
          -0.00015040125481374743,
          0.011373699671992366,
          -0.0006196626941744906,
          0.005400649319317434,
          -0.00039385240959804627,
          0.0004581332734124401,
          0.005331710630496689,
          -0.006694796887844485,
          0.004941852698128353,
          0.01653232184302337,
          0.0028730139487126156,
          -0.008069984269840715,
          0.0030980322773603193,
          0.007225705557436177,
          -0.004159534070014733,
          -0.001580883778573087,
          -0.020648949822593948,
          0.009851976948351552,
          0.013864402951286856,
          0.012946103259283795,
          0.011894985271177886
         ],
         "yaxis": "y"
        }
       ],
       "layout": {
        "legend": {
         "tracegroupgap": 0
        },
        "margin": {
         "t": 60
        },
        "template": {
         "data": {
          "bar": [
           {
            "error_x": {
             "color": "#2a3f5f"
            },
            "error_y": {
             "color": "#2a3f5f"
            },
            "marker": {
             "line": {
              "color": "#E5ECF6",
              "width": 0.5
             },
             "pattern": {
              "fillmode": "overlay",
              "size": 10,
              "solidity": 0.2
             }
            },
            "type": "bar"
           }
          ],
          "barpolar": [
           {
            "marker": {
             "line": {
              "color": "#E5ECF6",
              "width": 0.5
             },
             "pattern": {
              "fillmode": "overlay",
              "size": 10,
              "solidity": 0.2
             }
            },
            "type": "barpolar"
           }
          ],
          "carpet": [
           {
            "aaxis": {
             "endlinecolor": "#2a3f5f",
             "gridcolor": "white",
             "linecolor": "white",
             "minorgridcolor": "white",
             "startlinecolor": "#2a3f5f"
            },
            "baxis": {
             "endlinecolor": "#2a3f5f",
             "gridcolor": "white",
             "linecolor": "white",
             "minorgridcolor": "white",
             "startlinecolor": "#2a3f5f"
            },
            "type": "carpet"
           }
          ],
          "choropleth": [
           {
            "colorbar": {
             "outlinewidth": 0,
             "ticks": ""
            },
            "type": "choropleth"
           }
          ],
          "contour": [
           {
            "colorbar": {
             "outlinewidth": 0,
             "ticks": ""
            },
            "colorscale": [
             [
              0,
              "#0d0887"
             ],
             [
              0.1111111111111111,
              "#46039f"
             ],
             [
              0.2222222222222222,
              "#7201a8"
             ],
             [
              0.3333333333333333,
              "#9c179e"
             ],
             [
              0.4444444444444444,
              "#bd3786"
             ],
             [
              0.5555555555555556,
              "#d8576b"
             ],
             [
              0.6666666666666666,
              "#ed7953"
             ],
             [
              0.7777777777777778,
              "#fb9f3a"
             ],
             [
              0.8888888888888888,
              "#fdca26"
             ],
             [
              1,
              "#f0f921"
             ]
            ],
            "type": "contour"
           }
          ],
          "contourcarpet": [
           {
            "colorbar": {
             "outlinewidth": 0,
             "ticks": ""
            },
            "type": "contourcarpet"
           }
          ],
          "heatmap": [
           {
            "colorbar": {
             "outlinewidth": 0,
             "ticks": ""
            },
            "colorscale": [
             [
              0,
              "#0d0887"
             ],
             [
              0.1111111111111111,
              "#46039f"
             ],
             [
              0.2222222222222222,
              "#7201a8"
             ],
             [
              0.3333333333333333,
              "#9c179e"
             ],
             [
              0.4444444444444444,
              "#bd3786"
             ],
             [
              0.5555555555555556,
              "#d8576b"
             ],
             [
              0.6666666666666666,
              "#ed7953"
             ],
             [
              0.7777777777777778,
              "#fb9f3a"
             ],
             [
              0.8888888888888888,
              "#fdca26"
             ],
             [
              1,
              "#f0f921"
             ]
            ],
            "type": "heatmap"
           }
          ],
          "heatmapgl": [
           {
            "colorbar": {
             "outlinewidth": 0,
             "ticks": ""
            },
            "colorscale": [
             [
              0,
              "#0d0887"
             ],
             [
              0.1111111111111111,
              "#46039f"
             ],
             [
              0.2222222222222222,
              "#7201a8"
             ],
             [
              0.3333333333333333,
              "#9c179e"
             ],
             [
              0.4444444444444444,
              "#bd3786"
             ],
             [
              0.5555555555555556,
              "#d8576b"
             ],
             [
              0.6666666666666666,
              "#ed7953"
             ],
             [
              0.7777777777777778,
              "#fb9f3a"
             ],
             [
              0.8888888888888888,
              "#fdca26"
             ],
             [
              1,
              "#f0f921"
             ]
            ],
            "type": "heatmapgl"
           }
          ],
          "histogram": [
           {
            "marker": {
             "pattern": {
              "fillmode": "overlay",
              "size": 10,
              "solidity": 0.2
             }
            },
            "type": "histogram"
           }
          ],
          "histogram2d": [
           {
            "colorbar": {
             "outlinewidth": 0,
             "ticks": ""
            },
            "colorscale": [
             [
              0,
              "#0d0887"
             ],
             [
              0.1111111111111111,
              "#46039f"
             ],
             [
              0.2222222222222222,
              "#7201a8"
             ],
             [
              0.3333333333333333,
              "#9c179e"
             ],
             [
              0.4444444444444444,
              "#bd3786"
             ],
             [
              0.5555555555555556,
              "#d8576b"
             ],
             [
              0.6666666666666666,
              "#ed7953"
             ],
             [
              0.7777777777777778,
              "#fb9f3a"
             ],
             [
              0.8888888888888888,
              "#fdca26"
             ],
             [
              1,
              "#f0f921"
             ]
            ],
            "type": "histogram2d"
           }
          ],
          "histogram2dcontour": [
           {
            "colorbar": {
             "outlinewidth": 0,
             "ticks": ""
            },
            "colorscale": [
             [
              0,
              "#0d0887"
             ],
             [
              0.1111111111111111,
              "#46039f"
             ],
             [
              0.2222222222222222,
              "#7201a8"
             ],
             [
              0.3333333333333333,
              "#9c179e"
             ],
             [
              0.4444444444444444,
              "#bd3786"
             ],
             [
              0.5555555555555556,
              "#d8576b"
             ],
             [
              0.6666666666666666,
              "#ed7953"
             ],
             [
              0.7777777777777778,
              "#fb9f3a"
             ],
             [
              0.8888888888888888,
              "#fdca26"
             ],
             [
              1,
              "#f0f921"
             ]
            ],
            "type": "histogram2dcontour"
           }
          ],
          "mesh3d": [
           {
            "colorbar": {
             "outlinewidth": 0,
             "ticks": ""
            },
            "type": "mesh3d"
           }
          ],
          "parcoords": [
           {
            "line": {
             "colorbar": {
              "outlinewidth": 0,
              "ticks": ""
             }
            },
            "type": "parcoords"
           }
          ],
          "pie": [
           {
            "automargin": true,
            "type": "pie"
           }
          ],
          "scatter": [
           {
            "fillpattern": {
             "fillmode": "overlay",
             "size": 10,
             "solidity": 0.2
            },
            "type": "scatter"
           }
          ],
          "scatter3d": [
           {
            "line": {
             "colorbar": {
              "outlinewidth": 0,
              "ticks": ""
             }
            },
            "marker": {
             "colorbar": {
              "outlinewidth": 0,
              "ticks": ""
             }
            },
            "type": "scatter3d"
           }
          ],
          "scattercarpet": [
           {
            "marker": {
             "colorbar": {
              "outlinewidth": 0,
              "ticks": ""
             }
            },
            "type": "scattercarpet"
           }
          ],
          "scattergeo": [
           {
            "marker": {
             "colorbar": {
              "outlinewidth": 0,
              "ticks": ""
             }
            },
            "type": "scattergeo"
           }
          ],
          "scattergl": [
           {
            "marker": {
             "colorbar": {
              "outlinewidth": 0,
              "ticks": ""
             }
            },
            "type": "scattergl"
           }
          ],
          "scattermapbox": [
           {
            "marker": {
             "colorbar": {
              "outlinewidth": 0,
              "ticks": ""
             }
            },
            "type": "scattermapbox"
           }
          ],
          "scatterpolar": [
           {
            "marker": {
             "colorbar": {
              "outlinewidth": 0,
              "ticks": ""
             }
            },
            "type": "scatterpolar"
           }
          ],
          "scatterpolargl": [
           {
            "marker": {
             "colorbar": {
              "outlinewidth": 0,
              "ticks": ""
             }
            },
            "type": "scatterpolargl"
           }
          ],
          "scatterternary": [
           {
            "marker": {
             "colorbar": {
              "outlinewidth": 0,
              "ticks": ""
             }
            },
            "type": "scatterternary"
           }
          ],
          "surface": [
           {
            "colorbar": {
             "outlinewidth": 0,
             "ticks": ""
            },
            "colorscale": [
             [
              0,
              "#0d0887"
             ],
             [
              0.1111111111111111,
              "#46039f"
             ],
             [
              0.2222222222222222,
              "#7201a8"
             ],
             [
              0.3333333333333333,
              "#9c179e"
             ],
             [
              0.4444444444444444,
              "#bd3786"
             ],
             [
              0.5555555555555556,
              "#d8576b"
             ],
             [
              0.6666666666666666,
              "#ed7953"
             ],
             [
              0.7777777777777778,
              "#fb9f3a"
             ],
             [
              0.8888888888888888,
              "#fdca26"
             ],
             [
              1,
              "#f0f921"
             ]
            ],
            "type": "surface"
           }
          ],
          "table": [
           {
            "cells": {
             "fill": {
              "color": "#EBF0F8"
             },
             "line": {
              "color": "white"
             }
            },
            "header": {
             "fill": {
              "color": "#C8D4E3"
             },
             "line": {
              "color": "white"
             }
            },
            "type": "table"
           }
          ]
         },
         "layout": {
          "annotationdefaults": {
           "arrowcolor": "#2a3f5f",
           "arrowhead": 0,
           "arrowwidth": 1
          },
          "autotypenumbers": "strict",
          "coloraxis": {
           "colorbar": {
            "outlinewidth": 0,
            "ticks": ""
           }
          },
          "colorscale": {
           "diverging": [
            [
             0,
             "#8e0152"
            ],
            [
             0.1,
             "#c51b7d"
            ],
            [
             0.2,
             "#de77ae"
            ],
            [
             0.3,
             "#f1b6da"
            ],
            [
             0.4,
             "#fde0ef"
            ],
            [
             0.5,
             "#f7f7f7"
            ],
            [
             0.6,
             "#e6f5d0"
            ],
            [
             0.7,
             "#b8e186"
            ],
            [
             0.8,
             "#7fbc41"
            ],
            [
             0.9,
             "#4d9221"
            ],
            [
             1,
             "#276419"
            ]
           ],
           "sequential": [
            [
             0,
             "#0d0887"
            ],
            [
             0.1111111111111111,
             "#46039f"
            ],
            [
             0.2222222222222222,
             "#7201a8"
            ],
            [
             0.3333333333333333,
             "#9c179e"
            ],
            [
             0.4444444444444444,
             "#bd3786"
            ],
            [
             0.5555555555555556,
             "#d8576b"
            ],
            [
             0.6666666666666666,
             "#ed7953"
            ],
            [
             0.7777777777777778,
             "#fb9f3a"
            ],
            [
             0.8888888888888888,
             "#fdca26"
            ],
            [
             1,
             "#f0f921"
            ]
           ],
           "sequentialminus": [
            [
             0,
             "#0d0887"
            ],
            [
             0.1111111111111111,
             "#46039f"
            ],
            [
             0.2222222222222222,
             "#7201a8"
            ],
            [
             0.3333333333333333,
             "#9c179e"
            ],
            [
             0.4444444444444444,
             "#bd3786"
            ],
            [
             0.5555555555555556,
             "#d8576b"
            ],
            [
             0.6666666666666666,
             "#ed7953"
            ],
            [
             0.7777777777777778,
             "#fb9f3a"
            ],
            [
             0.8888888888888888,
             "#fdca26"
            ],
            [
             1,
             "#f0f921"
            ]
           ]
          },
          "colorway": [
           "#636efa",
           "#EF553B",
           "#00cc96",
           "#ab63fa",
           "#FFA15A",
           "#19d3f3",
           "#FF6692",
           "#B6E880",
           "#FF97FF",
           "#FECB52"
          ],
          "font": {
           "color": "#2a3f5f"
          },
          "geo": {
           "bgcolor": "white",
           "lakecolor": "white",
           "landcolor": "#E5ECF6",
           "showlakes": true,
           "showland": true,
           "subunitcolor": "white"
          },
          "hoverlabel": {
           "align": "left"
          },
          "hovermode": "closest",
          "mapbox": {
           "style": "light"
          },
          "paper_bgcolor": "white",
          "plot_bgcolor": "#E5ECF6",
          "polar": {
           "angularaxis": {
            "gridcolor": "white",
            "linecolor": "white",
            "ticks": ""
           },
           "bgcolor": "#E5ECF6",
           "radialaxis": {
            "gridcolor": "white",
            "linecolor": "white",
            "ticks": ""
           }
          },
          "scene": {
           "xaxis": {
            "backgroundcolor": "#E5ECF6",
            "gridcolor": "white",
            "gridwidth": 2,
            "linecolor": "white",
            "showbackground": true,
            "ticks": "",
            "zerolinecolor": "white"
           },
           "yaxis": {
            "backgroundcolor": "#E5ECF6",
            "gridcolor": "white",
            "gridwidth": 2,
            "linecolor": "white",
            "showbackground": true,
            "ticks": "",
            "zerolinecolor": "white"
           },
           "zaxis": {
            "backgroundcolor": "#E5ECF6",
            "gridcolor": "white",
            "gridwidth": 2,
            "linecolor": "white",
            "showbackground": true,
            "ticks": "",
            "zerolinecolor": "white"
           }
          },
          "shapedefaults": {
           "line": {
            "color": "#2a3f5f"
           }
          },
          "ternary": {
           "aaxis": {
            "gridcolor": "white",
            "linecolor": "white",
            "ticks": ""
           },
           "baxis": {
            "gridcolor": "white",
            "linecolor": "white",
            "ticks": ""
           },
           "bgcolor": "#E5ECF6",
           "caxis": {
            "gridcolor": "white",
            "linecolor": "white",
            "ticks": ""
           }
          },
          "title": {
           "x": 0.05
          },
          "xaxis": {
           "automargin": true,
           "gridcolor": "white",
           "linecolor": "white",
           "ticks": "",
           "title": {
            "standoff": 15
           },
           "zerolinecolor": "white",
           "zerolinewidth": 2
          },
          "yaxis": {
           "automargin": true,
           "gridcolor": "white",
           "linecolor": "white",
           "ticks": "",
           "title": {
            "standoff": 15
           },
           "zerolinecolor": "white",
           "zerolinewidth": 2
          }
         }
        },
        "title": {
         "text": "alpha = 2.5000050000000003, Rsquared = -0.032260430590317565"
        },
        "xaxis": {
         "anchor": "y",
         "domain": [
          0,
          1
         ],
         "title": {
          "text": "Feature number"
         }
        },
        "yaxis": {
         "anchor": "x",
         "domain": [
          0,
          1
         ],
         "title": {
          "text": "Coefficient value"
         }
        }
       }
      },
      "text/html": [
       "<div>                            <div id=\"4c87a4b6-8c73-4f7e-8a4d-c2b100f84ec3\" class=\"plotly-graph-div\" style=\"height:525px; width:100%;\"></div>            <script type=\"text/javascript\">                require([\"plotly\"], function(Plotly) {                    window.PLOTLYENV=window.PLOTLYENV || {};                                    if (document.getElementById(\"4c87a4b6-8c73-4f7e-8a4d-c2b100f84ec3\")) {                    Plotly.newPlot(                        \"4c87a4b6-8c73-4f7e-8a4d-c2b100f84ec3\",                        [{\"error_y\":{\"array\":[0.29626137115674456,0.11910767533138633,0.10189694313979558,0.10247734151520507,0.27719113265004247,0.08311001194381908,0.0868563631218515,0.11303100855881772,0.10252495535015382,0.09148167959138359,0.09475531950450639,0.08157834464151177,0.08085546666568892,0.11674510464610173,0.09204695747233906,0.1136668434557736,0.14771970338521237,0.07587461037313019,0.15147302498750276,0.11643928633187271,0.1183472715299238,0.2315303148887225,0.1022514558537445,0.09341903215741493,0.0993351571118052,0.41394443591386965,0.1078693982459372,0.08456287856951354,0.11395043019316471,0.09874617827983787,0.07833347017112507,0.09491485709545996,0.08796803999229932,0.08471343777600418,0.08173061260004127,0.09002800148135413,0.1679072905460515,0.11146376175146076,0.09047871584310602,0.08811225214018945,0.07602063396351687,0.08464028807607574,0.08018661337411027,0.08514931979505208,0.08142264600808174,0.0862691703561222,0.05940358258099616,0.07540009382788715,0.050842394292610886,0.08333496531189587,0.09385190618417459,0.06795923522604248,0.10786244201478346,0.06835678426556623,0.07212983826754228,0.08051308528623428,0.07748631371706696,0.09512293314883917,0.07625091497115631,0.13825501246667887,0.08105331332896955,0.0956550647676541,0.06941787723123284,0.07567501968807548,0.08760041593162864,0.10853705926981101,0.10216197684879151,0.0665719464658695,0.08438317679685398,0.08989558826129598,0.08067030341770855,0.07858699433250127,0.11091678801622364,0.08018703507015167,0.08404672146032076,0.06481221292011977,0.08015484802852678,0.059108360130065526,0.06036985343591556,0.11565578032081013,0.078662779370501,0.08865627616676229,0.07495528804648761,0.08156937442392835,0.08113923962543122,0.08862742962260801,0.06509039649095501,0.08845291921921017,0.08156284345128303,0.08577469792556805,0.07686955183477023,0.08002314842786724,0.06708323683801899,0.09791273106634328,0.07715805355195153,0.08170848482566197,0.06969705646335915,0.08210493081665547,0.06710444463914701,0.06688930577745597,0.0661560247734935,0.07612030036319578,0.06102355343884278,0.11880675942243188,0.09569067881715768,0.08889263193283702,0.059371190674099225,0.08705016063053987,0.07120384165846601,0.06408556832188472,0.09442572992143744,0.08227667267013952,0.052687441763504386,0.058128547287691915,0.09653618174956236,0.0793252157179131,0.08566835774660747,0.0877073218243249,0.10257704533416363,0.05239461220356237,0.06929056224804116,0.08913317009782337,0.07582252009752868,0.06500334674308987,0.07581624815931831,0.07953161961305932,0.06861019104918852,0.05612629182734421,0.07240017661080514,0.07918901509451781,0.07549674947551713,0.05894316742842209,0.07906644589469493,0.0739308538531329,0.06212163769444693,0.05959829106629729,0.07913120223079725,0.07021840212307037,0.0657054889118031,0.09956053977624116,0.07088047394882374,0.07894076879933154,0.10544735828361415,0.07170899612772307,0.0840167537630309,0.070832706904465,0.07594357055038006,0.06938398017513335,0.0692889841432073,0.08338222851749925,0.07823985618447056,0.05847617013696471,0.08134427109556693,0.06352789538889271,0.06465176662111526,0.11711237234735608,0.11757201290793401,0.07746886837265954,0.057342039346614984,0.04777251104444867,0.08317823371291166,0.08600950366895058,0.10533142922315078,0.05289735224477742,0.10492412325494878,0.0711110938215623,0.07206880698709649,0.06511433607015957,0.10348973281884372,0.08451824621277217,0.09186139610696283,0.08181598564686902,0.06525660746163547,0.06662122663470671,0.06314936997679994,0.05531053915301901,0.05893719774385995,0.05656615615100095,0.06302036308221362,0.07097313223840925,0.0825828950737408,0.06956413466087136,0.08396667723348611,0.06437034622559724,0.052661255674055,0.06761336529098279,0.05498975717332657,0.06859332498265201,0.06847262936271943,0.0739265767503772,0.05926735074992341,0.061581232617878,0.0689499133258532,0.052814484339044336,0.05959591999711353,0.0783130612784543,0.09721902811436807,0.056270567426961605,0.09790349566112122,0.0635650987806511,0.057873518094983985,0.06461923792208485,0.06430539966626418,0.06906395307065193,0.06966966572477537,0.0531109974299793,0.07404806256436892,0.061778657087889224,0.06602220297471448,0.06843242500415248,0.07293305987430161,0.09607614185398093,0.06323286245462348,0.06264537473589238,0.07013523743645081,0.053516647793176796,0.0855836730767649,0.048664636145729925,0.05550674055053088,0.08522736280644087,0.05475984785064145,0.06245670503713393,0.0517338677914189,0.05043473524005761,0.05538166105979172,0.048053571229758556,0.052471323731235225,0.07564687104678594,0.051671121013702304,0.05649417858940624,0.06440336344946353,0.04992433790916371,0.054871681525936106,0.03296444812476952,0.0799931795558533,0.06994685820156786,0.05745941910410057,0.05951804891983236,0.06278982595516665]},\"hovertemplate\":\"x=%{x}<br>y=%{y}<extra></extra>\",\"legendgroup\":\"\",\"marker\":{\"color\":\"#636efa\",\"symbol\":\"circle\"},\"mode\":\"markers\",\"name\":\"\",\"orientation\":\"v\",\"showlegend\":false,\"x\":[0,1,2,3,4,5,6,7,8,9,10,11,12,13,14,15,16,17,18,19,20,21,22,23,24,25,26,27,28,29,30,31,32,33,34,35,36,37,38,39,40,41,42,43,44,45,46,47,48,49,50,51,52,53,54,55,56,57,58,59,60,61,62,63,64,65,66,67,68,69,70,71,72,73,74,75,76,77,78,79,80,81,82,83,84,85,86,87,88,89,90,91,92,93,94,95,96,97,98,99,100,101,102,103,104,105,106,107,108,109,110,111,112,113,114,115,116,117,118,119,120,121,122,123,124,125,126,127,128,129,130,131,132,133,134,135,136,137,138,139,140,141,142,143,144,145,146,147,148,149,150,151,152,153,154,155,156,157,158,159,160,161,162,163,164,165,166,167,168,169,170,171,172,173,174,175,176,177,178,179,180,181,182,183,184,185,186,187,188,189,190,191,192,193,194,195,196,197,198,199,200,201,202,203,204,205,206,207,208,209,210,211,212,213,214,215,216,217,218,219,220,221,222,223,224,225,226,227,228,229,230,231,232,233,234,235,236,237,238],\"xaxis\":\"x\",\"y\":[-2.602472414772729,-0.024591632925235692,0.01167286283588095,-0.020080262509099178,0.10350012881118095,-0.01733971286574446,0.006753100247578093,0.02882432580018107,0.02637762050514914,0.013711417412181558,0.017788061140462674,0.005111995751957054,0.012302384344339745,0.03224519979108499,0.009433979950030816,0.021828033511336335,0.04642283099760947,-0.001954144593697725,0.0466402636724691,0.021759810447339656,-0.024632511114117874,0.09394597313064676,0.02240573163045946,-0.016925362605356733,0.00511846933189421,0.3787057878064439,-0.022348814010607683,0.010891251139896665,0.02370005045140039,0.01816222671370568,0.0030971562749331355,-0.012461752205214805,-0.02023912869190451,-0.01903870532379891,0.0019114113554448949,-0.017982895197667024,0.053983745023295,-0.011773769092886313,-0.010473367872486039,-0.02169572431722279,-0.017935394231393956,0.016711281588657898,0.00977013603026396,0.007662312095691725,0.01046702979322464,0.013012836875159728,-0.004640268295308245,-0.014817834963066982,0.004245352289109812,0.0002533861114544024,-0.012248990814327123,-0.0010063442439909576,0.026065439252260833,-0.006160956706313288,0.00749498608953061,0.006853557402846954,0.011780954329226559,0.02005291154563683,-0.017138676387709665,-0.04040904724168358,0.004870855930035725,-0.01883483928250059,0.00975598302765226,-0.011775909161982236,0.023358232971898554,-0.02563656187132474,0.01618164573992341,-0.007576904781468617,0.01106013805151989,-0.012041930886470101,0.00652491384877854,0.018660094817760473,0.03361134479783372,-0.008010204487986264,-0.022862911079093447,0.003336065576999362,-0.01286921832358661,-0.008627099915115592,-0.009898753180040675,0.03632023922268915,-0.005387786002996121,-0.017559838409888923,-0.011989962292582437,0.01675197162149373,-0.004639238830233461,0.023351458001529466,-0.0006053387034265418,0.01911306325459166,0.017387730168567567,-0.01657518153674373,-0.004227582523986817,0.019203382417215933,0.010337114024775912,-0.004764309142059573,-0.013864947485977358,0.008775520342914461,0.004698645837699804,0.0010414301662308135,0.0012809618582897602,0.0024333885240858688,0.00033494741247915217,0.010378609095746848,-0.006309266871885784,-0.032548518830183906,-0.026366745534050665,-0.01781566429257816,-0.0045832282797202625,0.0109825193164924,0.005965902416049211,-0.009761798709697967,-0.028328586347168658,-0.01911751398958136,-0.0013330398072716944,0.004129831491144789,0.02935478950665413,0.014776371232675124,0.01642591013368107,-0.003848192041975621,-0.03001965281782951,-0.005027775643134163,-0.003164184306737952,0.020978953282819283,-0.01070738789984012,-0.006032221719018383,-0.005738686235185652,-0.01181323731504569,0.007852270839528021,-0.004627609163380773,-0.015698135830148178,-0.01558568222483437,0.00973094525573622,-0.002700487851973602,0.01899095047409604,-0.011079035188995143,-0.004336471208353864,-0.0017870110581109395,0.010014595855427352,-0.012927329323288888,0.002602456858314294,0.019448397894027657,-0.006032728487878094,0.005868075566810003,0.03143870419711702,0.00024624490966896375,0.01768258580301533,-0.008587067260105767,0.015368441009749033,-0.018608786075238495,-0.010129714415742487,-0.019281748213362575,0.01658120681047551,0.0030330808833028953,-0.012147997282278753,-0.006612509249441074,-0.006024309964368721,-0.0360469547080882,0.03741573235899261,-0.011337280053211485,-0.0018453824452511743,-0.005436651093275964,-0.016576843596079065,0.022530324797360158,0.03358299937285777,0.0017549537938269634,0.029453287916127963,0.007810570031465003,0.007441907257092627,-0.007501112836851073,-0.02735106378759982,0.022946849994488018,-0.02271391898087027,0.019703480273727075,0.003752751838169019,0.0005851186098720697,0.011259318115523378,0.007660966009207256,-0.008938017729574192,-0.0002699879622803903,0.008582270705025402,0.003437920769032359,0.002640693715294428,-0.0169178249461944,0.021215674052367815,-0.002231648750796119,0.004733372202454999,-0.009111332197109651,0.0032667740526885506,0.007569907095219769,-0.016901932404235716,-0.01837931774319469,0.006571619931752542,0.014372624737264802,0.009678464273926171,0.008541008605800444,-0.010118873164530431,0.01904494610321409,0.028050894057184785,-0.0026570895619688183,-0.027469123198023596,-0.005887589671373312,0.0015652410125596115,0.01075246224877123,-0.0029164068922840737,0.013178419748747804,-0.008516881188902072,0.0016219690934435994,-0.017048751200165503,0.011561096354011369,0.010234795620085974,0.01344468667655434,-0.014063406598462887,-0.02777181457381428,0.002292115177522604,0.0009015262584041093,0.014058750930730037,-0.0010016952109657713,0.026259659086221104,-0.005541250614862875,-0.00015040125481374743,0.011373699671992366,-0.0006196626941744906,0.005400649319317434,-0.00039385240959804627,0.0004581332734124401,0.005331710630496689,-0.006694796887844485,0.004941852698128353,0.01653232184302337,0.0028730139487126156,-0.008069984269840715,0.0030980322773603193,0.007225705557436177,-0.004159534070014733,-0.001580883778573087,-0.020648949822593948,0.009851976948351552,0.013864402951286856,0.012946103259283795,0.011894985271177886],\"yaxis\":\"y\",\"type\":\"scatter\"}],                        {\"template\":{\"data\":{\"histogram2dcontour\":[{\"type\":\"histogram2dcontour\",\"colorbar\":{\"outlinewidth\":0,\"ticks\":\"\"},\"colorscale\":[[0.0,\"#0d0887\"],[0.1111111111111111,\"#46039f\"],[0.2222222222222222,\"#7201a8\"],[0.3333333333333333,\"#9c179e\"],[0.4444444444444444,\"#bd3786\"],[0.5555555555555556,\"#d8576b\"],[0.6666666666666666,\"#ed7953\"],[0.7777777777777778,\"#fb9f3a\"],[0.8888888888888888,\"#fdca26\"],[1.0,\"#f0f921\"]]}],\"choropleth\":[{\"type\":\"choropleth\",\"colorbar\":{\"outlinewidth\":0,\"ticks\":\"\"}}],\"histogram2d\":[{\"type\":\"histogram2d\",\"colorbar\":{\"outlinewidth\":0,\"ticks\":\"\"},\"colorscale\":[[0.0,\"#0d0887\"],[0.1111111111111111,\"#46039f\"],[0.2222222222222222,\"#7201a8\"],[0.3333333333333333,\"#9c179e\"],[0.4444444444444444,\"#bd3786\"],[0.5555555555555556,\"#d8576b\"],[0.6666666666666666,\"#ed7953\"],[0.7777777777777778,\"#fb9f3a\"],[0.8888888888888888,\"#fdca26\"],[1.0,\"#f0f921\"]]}],\"heatmap\":[{\"type\":\"heatmap\",\"colorbar\":{\"outlinewidth\":0,\"ticks\":\"\"},\"colorscale\":[[0.0,\"#0d0887\"],[0.1111111111111111,\"#46039f\"],[0.2222222222222222,\"#7201a8\"],[0.3333333333333333,\"#9c179e\"],[0.4444444444444444,\"#bd3786\"],[0.5555555555555556,\"#d8576b\"],[0.6666666666666666,\"#ed7953\"],[0.7777777777777778,\"#fb9f3a\"],[0.8888888888888888,\"#fdca26\"],[1.0,\"#f0f921\"]]}],\"heatmapgl\":[{\"type\":\"heatmapgl\",\"colorbar\":{\"outlinewidth\":0,\"ticks\":\"\"},\"colorscale\":[[0.0,\"#0d0887\"],[0.1111111111111111,\"#46039f\"],[0.2222222222222222,\"#7201a8\"],[0.3333333333333333,\"#9c179e\"],[0.4444444444444444,\"#bd3786\"],[0.5555555555555556,\"#d8576b\"],[0.6666666666666666,\"#ed7953\"],[0.7777777777777778,\"#fb9f3a\"],[0.8888888888888888,\"#fdca26\"],[1.0,\"#f0f921\"]]}],\"contourcarpet\":[{\"type\":\"contourcarpet\",\"colorbar\":{\"outlinewidth\":0,\"ticks\":\"\"}}],\"contour\":[{\"type\":\"contour\",\"colorbar\":{\"outlinewidth\":0,\"ticks\":\"\"},\"colorscale\":[[0.0,\"#0d0887\"],[0.1111111111111111,\"#46039f\"],[0.2222222222222222,\"#7201a8\"],[0.3333333333333333,\"#9c179e\"],[0.4444444444444444,\"#bd3786\"],[0.5555555555555556,\"#d8576b\"],[0.6666666666666666,\"#ed7953\"],[0.7777777777777778,\"#fb9f3a\"],[0.8888888888888888,\"#fdca26\"],[1.0,\"#f0f921\"]]}],\"surface\":[{\"type\":\"surface\",\"colorbar\":{\"outlinewidth\":0,\"ticks\":\"\"},\"colorscale\":[[0.0,\"#0d0887\"],[0.1111111111111111,\"#46039f\"],[0.2222222222222222,\"#7201a8\"],[0.3333333333333333,\"#9c179e\"],[0.4444444444444444,\"#bd3786\"],[0.5555555555555556,\"#d8576b\"],[0.6666666666666666,\"#ed7953\"],[0.7777777777777778,\"#fb9f3a\"],[0.8888888888888888,\"#fdca26\"],[1.0,\"#f0f921\"]]}],\"mesh3d\":[{\"type\":\"mesh3d\",\"colorbar\":{\"outlinewidth\":0,\"ticks\":\"\"}}],\"scatter\":[{\"fillpattern\":{\"fillmode\":\"overlay\",\"size\":10,\"solidity\":0.2},\"type\":\"scatter\"}],\"parcoords\":[{\"type\":\"parcoords\",\"line\":{\"colorbar\":{\"outlinewidth\":0,\"ticks\":\"\"}}}],\"scatterpolargl\":[{\"type\":\"scatterpolargl\",\"marker\":{\"colorbar\":{\"outlinewidth\":0,\"ticks\":\"\"}}}],\"bar\":[{\"error_x\":{\"color\":\"#2a3f5f\"},\"error_y\":{\"color\":\"#2a3f5f\"},\"marker\":{\"line\":{\"color\":\"#E5ECF6\",\"width\":0.5},\"pattern\":{\"fillmode\":\"overlay\",\"size\":10,\"solidity\":0.2}},\"type\":\"bar\"}],\"scattergeo\":[{\"type\":\"scattergeo\",\"marker\":{\"colorbar\":{\"outlinewidth\":0,\"ticks\":\"\"}}}],\"scatterpolar\":[{\"type\":\"scatterpolar\",\"marker\":{\"colorbar\":{\"outlinewidth\":0,\"ticks\":\"\"}}}],\"histogram\":[{\"marker\":{\"pattern\":{\"fillmode\":\"overlay\",\"size\":10,\"solidity\":0.2}},\"type\":\"histogram\"}],\"scattergl\":[{\"type\":\"scattergl\",\"marker\":{\"colorbar\":{\"outlinewidth\":0,\"ticks\":\"\"}}}],\"scatter3d\":[{\"type\":\"scatter3d\",\"line\":{\"colorbar\":{\"outlinewidth\":0,\"ticks\":\"\"}},\"marker\":{\"colorbar\":{\"outlinewidth\":0,\"ticks\":\"\"}}}],\"scattermapbox\":[{\"type\":\"scattermapbox\",\"marker\":{\"colorbar\":{\"outlinewidth\":0,\"ticks\":\"\"}}}],\"scatterternary\":[{\"type\":\"scatterternary\",\"marker\":{\"colorbar\":{\"outlinewidth\":0,\"ticks\":\"\"}}}],\"scattercarpet\":[{\"type\":\"scattercarpet\",\"marker\":{\"colorbar\":{\"outlinewidth\":0,\"ticks\":\"\"}}}],\"carpet\":[{\"aaxis\":{\"endlinecolor\":\"#2a3f5f\",\"gridcolor\":\"white\",\"linecolor\":\"white\",\"minorgridcolor\":\"white\",\"startlinecolor\":\"#2a3f5f\"},\"baxis\":{\"endlinecolor\":\"#2a3f5f\",\"gridcolor\":\"white\",\"linecolor\":\"white\",\"minorgridcolor\":\"white\",\"startlinecolor\":\"#2a3f5f\"},\"type\":\"carpet\"}],\"table\":[{\"cells\":{\"fill\":{\"color\":\"#EBF0F8\"},\"line\":{\"color\":\"white\"}},\"header\":{\"fill\":{\"color\":\"#C8D4E3\"},\"line\":{\"color\":\"white\"}},\"type\":\"table\"}],\"barpolar\":[{\"marker\":{\"line\":{\"color\":\"#E5ECF6\",\"width\":0.5},\"pattern\":{\"fillmode\":\"overlay\",\"size\":10,\"solidity\":0.2}},\"type\":\"barpolar\"}],\"pie\":[{\"automargin\":true,\"type\":\"pie\"}]},\"layout\":{\"autotypenumbers\":\"strict\",\"colorway\":[\"#636efa\",\"#EF553B\",\"#00cc96\",\"#ab63fa\",\"#FFA15A\",\"#19d3f3\",\"#FF6692\",\"#B6E880\",\"#FF97FF\",\"#FECB52\"],\"font\":{\"color\":\"#2a3f5f\"},\"hovermode\":\"closest\",\"hoverlabel\":{\"align\":\"left\"},\"paper_bgcolor\":\"white\",\"plot_bgcolor\":\"#E5ECF6\",\"polar\":{\"bgcolor\":\"#E5ECF6\",\"angularaxis\":{\"gridcolor\":\"white\",\"linecolor\":\"white\",\"ticks\":\"\"},\"radialaxis\":{\"gridcolor\":\"white\",\"linecolor\":\"white\",\"ticks\":\"\"}},\"ternary\":{\"bgcolor\":\"#E5ECF6\",\"aaxis\":{\"gridcolor\":\"white\",\"linecolor\":\"white\",\"ticks\":\"\"},\"baxis\":{\"gridcolor\":\"white\",\"linecolor\":\"white\",\"ticks\":\"\"},\"caxis\":{\"gridcolor\":\"white\",\"linecolor\":\"white\",\"ticks\":\"\"}},\"coloraxis\":{\"colorbar\":{\"outlinewidth\":0,\"ticks\":\"\"}},\"colorscale\":{\"sequential\":[[0.0,\"#0d0887\"],[0.1111111111111111,\"#46039f\"],[0.2222222222222222,\"#7201a8\"],[0.3333333333333333,\"#9c179e\"],[0.4444444444444444,\"#bd3786\"],[0.5555555555555556,\"#d8576b\"],[0.6666666666666666,\"#ed7953\"],[0.7777777777777778,\"#fb9f3a\"],[0.8888888888888888,\"#fdca26\"],[1.0,\"#f0f921\"]],\"sequentialminus\":[[0.0,\"#0d0887\"],[0.1111111111111111,\"#46039f\"],[0.2222222222222222,\"#7201a8\"],[0.3333333333333333,\"#9c179e\"],[0.4444444444444444,\"#bd3786\"],[0.5555555555555556,\"#d8576b\"],[0.6666666666666666,\"#ed7953\"],[0.7777777777777778,\"#fb9f3a\"],[0.8888888888888888,\"#fdca26\"],[1.0,\"#f0f921\"]],\"diverging\":[[0,\"#8e0152\"],[0.1,\"#c51b7d\"],[0.2,\"#de77ae\"],[0.3,\"#f1b6da\"],[0.4,\"#fde0ef\"],[0.5,\"#f7f7f7\"],[0.6,\"#e6f5d0\"],[0.7,\"#b8e186\"],[0.8,\"#7fbc41\"],[0.9,\"#4d9221\"],[1,\"#276419\"]]},\"xaxis\":{\"gridcolor\":\"white\",\"linecolor\":\"white\",\"ticks\":\"\",\"title\":{\"standoff\":15},\"zerolinecolor\":\"white\",\"automargin\":true,\"zerolinewidth\":2},\"yaxis\":{\"gridcolor\":\"white\",\"linecolor\":\"white\",\"ticks\":\"\",\"title\":{\"standoff\":15},\"zerolinecolor\":\"white\",\"automargin\":true,\"zerolinewidth\":2},\"scene\":{\"xaxis\":{\"backgroundcolor\":\"#E5ECF6\",\"gridcolor\":\"white\",\"linecolor\":\"white\",\"showbackground\":true,\"ticks\":\"\",\"zerolinecolor\":\"white\",\"gridwidth\":2},\"yaxis\":{\"backgroundcolor\":\"#E5ECF6\",\"gridcolor\":\"white\",\"linecolor\":\"white\",\"showbackground\":true,\"ticks\":\"\",\"zerolinecolor\":\"white\",\"gridwidth\":2},\"zaxis\":{\"backgroundcolor\":\"#E5ECF6\",\"gridcolor\":\"white\",\"linecolor\":\"white\",\"showbackground\":true,\"ticks\":\"\",\"zerolinecolor\":\"white\",\"gridwidth\":2}},\"shapedefaults\":{\"line\":{\"color\":\"#2a3f5f\"}},\"annotationdefaults\":{\"arrowcolor\":\"#2a3f5f\",\"arrowhead\":0,\"arrowwidth\":1},\"geo\":{\"bgcolor\":\"white\",\"landcolor\":\"#E5ECF6\",\"subunitcolor\":\"white\",\"showland\":true,\"showlakes\":true,\"lakecolor\":\"white\"},\"title\":{\"x\":0.05},\"mapbox\":{\"style\":\"light\"}}},\"xaxis\":{\"anchor\":\"y\",\"domain\":[0.0,1.0],\"title\":{\"text\":\"Feature number\"}},\"yaxis\":{\"anchor\":\"x\",\"domain\":[0.0,1.0],\"title\":{\"text\":\"Coefficient value\"}},\"legend\":{\"tracegroupgap\":0},\"margin\":{\"t\":60},\"title\":{\"text\":\"alpha = 2.5000050000000003, Rsquared = -0.032260430590317565\"}},                        {\"responsive\": true}                    ).then(function(){\n",
       "                            \n",
       "var gd = document.getElementById('4c87a4b6-8c73-4f7e-8a4d-c2b100f84ec3');\n",
       "var x = new MutationObserver(function (mutations, observer) {{\n",
       "        var display = window.getComputedStyle(gd).display;\n",
       "        if (!display || display === 'none') {{\n",
       "            console.log([gd, 'removed!']);\n",
       "            Plotly.purge(gd);\n",
       "            observer.disconnect();\n",
       "        }}\n",
       "}});\n",
       "\n",
       "// Listen for the removal of the full notebook cells\n",
       "var notebookContainer = gd.closest('#notebook-container');\n",
       "if (notebookContainer) {{\n",
       "    x.observe(notebookContainer, {childList: true});\n",
       "}}\n",
       "\n",
       "// Listen for the clearing of the current output cell\n",
       "var outputEl = gd.closest('.output');\n",
       "if (outputEl) {{\n",
       "    x.observe(outputEl, {childList: true});\n",
       "}}\n",
       "\n",
       "                        })                };                });            </script>        </div>"
      ]
     },
     "metadata": {},
     "output_type": "display_data"
    },
    {
     "data": {
      "application/vnd.plotly.v1+json": {
       "config": {
        "plotlyServerURL": "https://plot.ly"
       },
       "data": [
        {
         "error_y": {
          "array": [
           0.2952924905656565,
           0.11256142062839913,
           0.09613937358012245,
           0.09682243728261519,
           0.2633547282150945,
           0.0785461301339178,
           0.08191646132871476,
           0.10695097380135463,
           0.09701626545032158,
           0.08635732958386436,
           0.08951090714351236,
           0.07692957775713724,
           0.07632924593167939,
           0.11053384623886005,
           0.08683333341695178,
           0.10738545997071171,
           0.14003353254565815,
           0.07153790477576547,
           0.14356037483669185,
           0.10999279705438206,
           0.11184709611663432,
           0.22027646518415253,
           0.09666041299202958,
           0.08823677910817064,
           0.0936678975398754,
           0.4080145286609827,
           0.10194248351205133,
           0.07980008554656216,
           0.10769137304525958,
           0.09327359781674907,
           0.07385991767432724,
           0.08957224335563309,
           0.08318060485649095,
           0.08009239797395216,
           0.07705870189339753,
           0.08506715080335361,
           0.15921100796152465,
           0.10515416233352626,
           0.08536762830540942,
           0.08335236834370624,
           0.07189423607810641,
           0.07997226199540923,
           0.07566299043950402,
           0.08031565564258548,
           0.07683645242115816,
           0.08143809992507094,
           0.05602521716262845,
           0.07124025466040698,
           0.04795323290917722,
           0.07856899913024669,
           0.088568121470458,
           0.06407336196663707,
           0.10202307398173337,
           0.06447647248854714,
           0.06804544373529539,
           0.07593901605883388,
           0.07314855522473139,
           0.08990391082227134,
           0.0720915416238745,
           0.13096523988873315,
           0.07643312684435508,
           0.09037850389678645,
           0.06551957906862395,
           0.07144300982122853,
           0.08291605327307318,
           0.10264640127985647,
           0.09645338989838449,
           0.06280978613090142,
           0.0796331163761178,
           0.08483882130197713,
           0.07608432955077124,
           0.07432424142543537,
           0.1051054860010858,
           0.07564296167499228,
           0.07956509886711127,
           0.06111453390492739,
           0.07567886261155253,
           0.05579380999192924,
           0.05700219458577313,
           0.10963710981713023,
           0.07418330580737191,
           0.08376791315859536,
           0.07076890999808723,
           0.0770843335820993,
           0.07651270105157394,
           0.08388038639731223,
           0.061368109201557317,
           0.08361025364051484,
           0.07709209502773924,
           0.08103675488667268,
           0.07248548561226681,
           0.07568753731096567,
           0.06333005988291827,
           0.09232514994380726,
           0.0728756924504823,
           0.07708484867528155,
           0.06572760428012607,
           0.0774099630276548,
           0.06326795789670835,
           0.06306847889198049,
           0.062372587136486496,
           0.07184098811030872,
           0.057567715161007706,
           0.11247817712645462,
           0.09059777305327996,
           0.08399558953835544,
           0.05599422414659604,
           0.08214422121361395,
           0.0671578024434448,
           0.060498287553161056,
           0.0894694789231598,
           0.07780351138234196,
           0.049675963009061845,
           0.054819486123815875,
           0.09148153056421617,
           0.07493256213195912,
           0.08093369833020578,
           0.08270009915130878,
           0.09716963993707904,
           0.049423378303403875,
           0.0653353364864534,
           0.08429379227380855,
           0.0715653127516679,
           0.06131505644673896,
           0.07150299234644107,
           0.07507498094892542,
           0.06473336232187071,
           0.05293635636033674,
           0.06843759101907838,
           0.07482061807025062,
           0.07124468283585442,
           0.05557863121925177,
           0.07478309837284311,
           0.06978958525989845,
           0.05858469509915578,
           0.056192614154383855,
           0.07467196848146371,
           0.06632708462202887,
           0.061953127833790034,
           0.09406535679354308,
           0.0668536401017826,
           0.07444891470397447,
           0.0999064750024287,
           0.06760793420259342,
           0.07940644502659049,
           0.06683622070487456,
           0.07176299961419913,
           0.06567673715873075,
           0.06540380252964872,
           0.07884671806005211,
           0.07394907308741461,
           0.055140101554777984,
           0.07678707954498992,
           0.05993071449100814,
           0.0609836656176163,
           0.11099422863661687,
           0.11146988343797404,
           0.07312520230399185,
           0.05406570371725453,
           0.045072750497246516,
           0.07859403980544835,
           0.08139907969744396,
           0.09986668035731094,
           0.049875151519570685,
           0.09935552371406844,
           0.06708910160410006,
           0.06798736153321093,
           0.06143562930580708,
           0.09794894305194075,
           0.08001022367427171,
           0.08690142959684558,
           0.07738499340996173,
           0.0615358223508388,
           0.06281136400175413,
           0.05964285359745015,
           0.05220282578110072,
           0.05563747530199164,
           0.0533311509634961,
           0.059477353995291984,
           0.06692283287619438,
           0.07786432282886692,
           0.06580084601578222,
           0.07944482100684203,
           0.06069299674044327,
           0.049671787411816604,
           0.06381077030354494,
           0.051855004266828146,
           0.06471414948835733,
           0.06477477337464228,
           0.06993757221270816,
           0.05591594747918612,
           0.05823477917048898,
           0.06507772188981725,
           0.049866267211701926,
           0.056277491250203926,
           0.0740764570475604,
           0.09208193211865298,
           0.05305897110766956,
           0.09270710702619428,
           0.059958306303018225,
           0.05456589343071919,
           0.06101724397519643,
           0.06063463970677238,
           0.06524569880023232,
           0.06573970231710588,
           0.05007612300674747,
           0.07001848083614061,
           0.0583586875635217,
           0.0623293780579836,
           0.06465691467314402,
           0.06890384096428805,
           0.09100096267926909,
           0.05962086621213018,
           0.0590633052565876,
           0.06627157910857517,
           0.05045696145481878,
           0.0811099881633953,
           0.04591449569019289,
           0.05233227820539209,
           0.08043259052176974,
           0.05162844694996226,
           0.05890920157005594,
           0.04877531536143794,
           0.04755054236786073,
           0.052241209384146524,
           0.04535416915161118,
           0.0494948110362346,
           0.07150955012315081,
           0.04872436653633607,
           0.053323568158365406,
           0.06072787861545911,
           0.04712386249005218,
           0.05175003035726727,
           0.03108315053872641,
           0.07569696447287734,
           0.06601917282327223,
           0.05434820088630305,
           0.05626145746873289,
           0.05931672748558166
          ]
         },
         "hovertemplate": "x=%{x}<br>y=%{y}<extra></extra>",
         "legendgroup": "",
         "marker": {
          "color": "#636efa",
          "symbol": "circle"
         },
         "mode": "markers",
         "name": "",
         "orientation": "v",
         "showlegend": false,
         "type": "scatter",
         "x": [
          0,
          1,
          2,
          3,
          4,
          5,
          6,
          7,
          8,
          9,
          10,
          11,
          12,
          13,
          14,
          15,
          16,
          17,
          18,
          19,
          20,
          21,
          22,
          23,
          24,
          25,
          26,
          27,
          28,
          29,
          30,
          31,
          32,
          33,
          34,
          35,
          36,
          37,
          38,
          39,
          40,
          41,
          42,
          43,
          44,
          45,
          46,
          47,
          48,
          49,
          50,
          51,
          52,
          53,
          54,
          55,
          56,
          57,
          58,
          59,
          60,
          61,
          62,
          63,
          64,
          65,
          66,
          67,
          68,
          69,
          70,
          71,
          72,
          73,
          74,
          75,
          76,
          77,
          78,
          79,
          80,
          81,
          82,
          83,
          84,
          85,
          86,
          87,
          88,
          89,
          90,
          91,
          92,
          93,
          94,
          95,
          96,
          97,
          98,
          99,
          100,
          101,
          102,
          103,
          104,
          105,
          106,
          107,
          108,
          109,
          110,
          111,
          112,
          113,
          114,
          115,
          116,
          117,
          118,
          119,
          120,
          121,
          122,
          123,
          124,
          125,
          126,
          127,
          128,
          129,
          130,
          131,
          132,
          133,
          134,
          135,
          136,
          137,
          138,
          139,
          140,
          141,
          142,
          143,
          144,
          145,
          146,
          147,
          148,
          149,
          150,
          151,
          152,
          153,
          154,
          155,
          156,
          157,
          158,
          159,
          160,
          161,
          162,
          163,
          164,
          165,
          166,
          167,
          168,
          169,
          170,
          171,
          172,
          173,
          174,
          175,
          176,
          177,
          178,
          179,
          180,
          181,
          182,
          183,
          184,
          185,
          186,
          187,
          188,
          189,
          190,
          191,
          192,
          193,
          194,
          195,
          196,
          197,
          198,
          199,
          200,
          201,
          202,
          203,
          204,
          205,
          206,
          207,
          208,
          209,
          210,
          211,
          212,
          213,
          214,
          215,
          216,
          217,
          218,
          219,
          220,
          221,
          222,
          223,
          224,
          225,
          226,
          227,
          228,
          229,
          230,
          231,
          232,
          233,
          234,
          235,
          236,
          237,
          238
         ],
         "xaxis": "x",
         "y": [
          -2.6023126893939446,
          -0.02185922926687617,
          0.010375878076338623,
          -0.01784912223031038,
          0.09200011449882751,
          -0.015413078102883964,
          0.006002755775624972,
          0.025621622933494282,
          0.02344677378235479,
          0.012187926588605829,
          0.015811609902633486,
          0.004543996223961826,
          0.01093545275052422,
          0.02866239981429777,
          0.008385759955582947,
          0.019402696454521185,
          0.04126473866454176,
          -0.0017370174166202001,
          0.04145801215330587,
          0.019342053730968582,
          -0.021895565434771443,
          0.08350753167168601,
          0.019916205893741743,
          -0.015044766760317095,
          0.004549750517239298,
          0.33662736693906126,
          -0.019865612453873496,
          0.009681112124352591,
          0.021066711512355903,
          0.01614420152329394,
          0.0027530277999405646,
          -0.011077113071302047,
          -0.017990336615026234,
          -0.01692329362115459,
          0.0016990323159510176,
          -0.015984795731259577,
          0.04798555113181778,
          -0.010465572527010056,
          -0.009309660331098701,
          -0.019285088281975813,
          -0.01594257265012796,
          0.014854472523251464,
          0.008684565360234632,
          0.0068109440850593105,
          0.009304026482866346,
          0.011566966111253092,
          -0.004124682929162885,
          -0.01317140885605954,
          0.003773646479208721,
          0.00022523209907057988,
          -0.010887991834957441,
          -0.0008945282168808512,
          0.023169279335342963,
          -0.005476405961167366,
          0.006662209857360542,
          0.0060920510247528484,
          0.01047195940375694,
          0.017824810262788295,
          -0.01523437901129748,
          -0.03591915310371874,
          0.00432964971558731,
          -0.01674207936222275,
          0.008671984913468675,
          -0.010467474810650877,
          0.020762873752798717,
          -0.022788054996733104,
          0.01438368510215414,
          -0.0067350264724165484,
          0.009831233823573234,
          -0.0107039385657512,
          0.00579992342113648,
          0.016586750949120422,
          0.029876750931407747,
          -0.0071201817670989015,
          -0.020322587625860842,
          0.002965391623999433,
          -0.011439305176521431,
          -0.007668533257880526,
          -0.00879889171559171,
          0.0322846570868348,
          -0.004789143113774329,
          -0.015608745253234597,
          -0.010657744260073277,
          0.01489064144132776,
          -0.00412376784909641,
          0.02075685155691508,
          -0.0005380788474902594,
          0.016989389559637028,
          0.015455760149837839,
          -0.01473349469932776,
          -0.0037578511324327267,
          0.0170696732597475,
          0.009188545799800812,
          -0.004234941459608509,
          -0.012324397765313208,
          0.007800462527035077,
          0.0041765740779553815,
          0.0009257157033162786,
          0.0011386327629242313,
          0.002163012021409661,
          0.0002977310333148019,
          0.00922543030733053,
          -0.00560823721945403,
          -0.02893201673794125,
          -0.02343710714137837,
          -0.015836146037847255,
          -0.004073980693084678,
          0.009762239392437689,
          0.0053030243698215206,
          -0.008677154408620415,
          -0.025180965641927695,
          -0.016993345768516764,
          -0.001184924273130395,
          0.003670961325462035,
          0.026093146228137007,
          0.013134552206822333,
          0.014600809007716507,
          -0.0034206151484227746,
          -0.026684135838070677,
          -0.004469133905008145,
          -0.0028126082726559576,
          0.01864795847361714,
          -0.009517678133191217,
          -0.005361974861349674,
          -0.005101054431276135,
          -0.010500655391151725,
          0.006979796301802685,
          -0.0041134303674495755,
          -0.013953898515687268,
          -0.013853939755408329,
          0.008649729116209974,
          -0.0024004336461987577,
          0.016880844865863144,
          -0.009848031279106795,
          -0.0038546410740923237,
          -0.0015884542738763907,
          0.00890186298260209,
          -0.01149095939847901,
          0.0023132949851682612,
          0.01728746479469125,
          -0.005362425322558306,
          0.00521606717049778,
          0.027945514841881795,
          0.00021888436415019,
          0.015717854047124738,
          -0.007632948675649571,
          0.013660836453110252,
          -0.016541143177989773,
          -0.0090041905917711,
          -0.017139331745211178,
          0.014738850498200454,
          0.0026960718962692402,
          -0.010798219806470003,
          -0.005877785999503176,
          -0.005354942190549975,
          -0.032041737518300625,
          0.03325842876354898,
          -0.01007758226952132,
          -0.0016403399513343772,
          -0.004832578749578635,
          -0.014734972085403614,
          0.02002695537543125,
          0.029851554998095796,
          0.0015599589278461898,
          0.02618070036989152,
          0.00694272891685778,
          0.006615028672971224,
          -0.006667655854978732,
          -0.02431205670008873,
          0.02039719999510046,
          -0.02019015020521802,
          0.017514204687757398,
          0.0033357794117057945,
          0.0005201054309973952,
          0.010008282769354114,
          0.006809747563739783,
          -0.007944904648510392,
          -0.00023998929980479137,
          0.0076286850711336915,
          0.0030559295724732084,
          0.002347283302483936,
          -0.015038066618839463,
          0.01885837693543806,
          -0.001983687778485439,
          0.004207441957737777,
          -0.008098961952986358,
          0.0029037991579453784,
          0.006728806306862017,
          -0.015023939914876192,
          -0.01633717132728417,
          0.005841439939335593,
          0.012775666433124269,
          0.00860307935460104,
          0.007592007649600395,
          -0.00899455392402705,
          0.016928840980634748,
          0.02493412805083092,
          -0.0023618573884167274,
          -0.024416998398243198,
          -0.005233413041220722,
          0.0013913253444974324,
          0.009557744221129982,
          -0.0025923616820302878,
          0.011714150887775825,
          -0.007570561056801842,
          0.0014417503052831997,
          -0.015154445511258226,
          0.01027653009245455,
          0.009097596106743088,
          0.011950832601381635,
          -0.012500805865300344,
          -0.024686057398946026,
          0.002037435713353426,
          0.0008013566741369861,
          0.012496667493982256,
          -0.0008903957430806856,
          0.023341919187752094,
          -0.004925556102100334,
          -0.0001336900042788866,
          0.010109955263993215,
          -0.0005508112837106583,
          0.0048005771727266085,
          -0.00035009103075381894,
          0.0004072295763666134,
          0.004739298338219279,
          -0.005950930566972876,
          0.00439275795389187,
          0.014695397193798549,
          0.0025537901766334364,
          -0.007173319350969524,
          0.0027538064687647286,
          0.006422849384387713,
          -0.003697363617790874,
          -0.0014052300253982995,
          -0.018354622064527953,
          0.008757312842979158,
          0.012323913734477205,
          0.011507647341585596,
          0.01057332024104701
         ],
         "yaxis": "y"
        }
       ],
       "layout": {
        "legend": {
         "tracegroupgap": 0
        },
        "margin": {
         "t": 60
        },
        "template": {
         "data": {
          "bar": [
           {
            "error_x": {
             "color": "#2a3f5f"
            },
            "error_y": {
             "color": "#2a3f5f"
            },
            "marker": {
             "line": {
              "color": "#E5ECF6",
              "width": 0.5
             },
             "pattern": {
              "fillmode": "overlay",
              "size": 10,
              "solidity": 0.2
             }
            },
            "type": "bar"
           }
          ],
          "barpolar": [
           {
            "marker": {
             "line": {
              "color": "#E5ECF6",
              "width": 0.5
             },
             "pattern": {
              "fillmode": "overlay",
              "size": 10,
              "solidity": 0.2
             }
            },
            "type": "barpolar"
           }
          ],
          "carpet": [
           {
            "aaxis": {
             "endlinecolor": "#2a3f5f",
             "gridcolor": "white",
             "linecolor": "white",
             "minorgridcolor": "white",
             "startlinecolor": "#2a3f5f"
            },
            "baxis": {
             "endlinecolor": "#2a3f5f",
             "gridcolor": "white",
             "linecolor": "white",
             "minorgridcolor": "white",
             "startlinecolor": "#2a3f5f"
            },
            "type": "carpet"
           }
          ],
          "choropleth": [
           {
            "colorbar": {
             "outlinewidth": 0,
             "ticks": ""
            },
            "type": "choropleth"
           }
          ],
          "contour": [
           {
            "colorbar": {
             "outlinewidth": 0,
             "ticks": ""
            },
            "colorscale": [
             [
              0,
              "#0d0887"
             ],
             [
              0.1111111111111111,
              "#46039f"
             ],
             [
              0.2222222222222222,
              "#7201a8"
             ],
             [
              0.3333333333333333,
              "#9c179e"
             ],
             [
              0.4444444444444444,
              "#bd3786"
             ],
             [
              0.5555555555555556,
              "#d8576b"
             ],
             [
              0.6666666666666666,
              "#ed7953"
             ],
             [
              0.7777777777777778,
              "#fb9f3a"
             ],
             [
              0.8888888888888888,
              "#fdca26"
             ],
             [
              1,
              "#f0f921"
             ]
            ],
            "type": "contour"
           }
          ],
          "contourcarpet": [
           {
            "colorbar": {
             "outlinewidth": 0,
             "ticks": ""
            },
            "type": "contourcarpet"
           }
          ],
          "heatmap": [
           {
            "colorbar": {
             "outlinewidth": 0,
             "ticks": ""
            },
            "colorscale": [
             [
              0,
              "#0d0887"
             ],
             [
              0.1111111111111111,
              "#46039f"
             ],
             [
              0.2222222222222222,
              "#7201a8"
             ],
             [
              0.3333333333333333,
              "#9c179e"
             ],
             [
              0.4444444444444444,
              "#bd3786"
             ],
             [
              0.5555555555555556,
              "#d8576b"
             ],
             [
              0.6666666666666666,
              "#ed7953"
             ],
             [
              0.7777777777777778,
              "#fb9f3a"
             ],
             [
              0.8888888888888888,
              "#fdca26"
             ],
             [
              1,
              "#f0f921"
             ]
            ],
            "type": "heatmap"
           }
          ],
          "heatmapgl": [
           {
            "colorbar": {
             "outlinewidth": 0,
             "ticks": ""
            },
            "colorscale": [
             [
              0,
              "#0d0887"
             ],
             [
              0.1111111111111111,
              "#46039f"
             ],
             [
              0.2222222222222222,
              "#7201a8"
             ],
             [
              0.3333333333333333,
              "#9c179e"
             ],
             [
              0.4444444444444444,
              "#bd3786"
             ],
             [
              0.5555555555555556,
              "#d8576b"
             ],
             [
              0.6666666666666666,
              "#ed7953"
             ],
             [
              0.7777777777777778,
              "#fb9f3a"
             ],
             [
              0.8888888888888888,
              "#fdca26"
             ],
             [
              1,
              "#f0f921"
             ]
            ],
            "type": "heatmapgl"
           }
          ],
          "histogram": [
           {
            "marker": {
             "pattern": {
              "fillmode": "overlay",
              "size": 10,
              "solidity": 0.2
             }
            },
            "type": "histogram"
           }
          ],
          "histogram2d": [
           {
            "colorbar": {
             "outlinewidth": 0,
             "ticks": ""
            },
            "colorscale": [
             [
              0,
              "#0d0887"
             ],
             [
              0.1111111111111111,
              "#46039f"
             ],
             [
              0.2222222222222222,
              "#7201a8"
             ],
             [
              0.3333333333333333,
              "#9c179e"
             ],
             [
              0.4444444444444444,
              "#bd3786"
             ],
             [
              0.5555555555555556,
              "#d8576b"
             ],
             [
              0.6666666666666666,
              "#ed7953"
             ],
             [
              0.7777777777777778,
              "#fb9f3a"
             ],
             [
              0.8888888888888888,
              "#fdca26"
             ],
             [
              1,
              "#f0f921"
             ]
            ],
            "type": "histogram2d"
           }
          ],
          "histogram2dcontour": [
           {
            "colorbar": {
             "outlinewidth": 0,
             "ticks": ""
            },
            "colorscale": [
             [
              0,
              "#0d0887"
             ],
             [
              0.1111111111111111,
              "#46039f"
             ],
             [
              0.2222222222222222,
              "#7201a8"
             ],
             [
              0.3333333333333333,
              "#9c179e"
             ],
             [
              0.4444444444444444,
              "#bd3786"
             ],
             [
              0.5555555555555556,
              "#d8576b"
             ],
             [
              0.6666666666666666,
              "#ed7953"
             ],
             [
              0.7777777777777778,
              "#fb9f3a"
             ],
             [
              0.8888888888888888,
              "#fdca26"
             ],
             [
              1,
              "#f0f921"
             ]
            ],
            "type": "histogram2dcontour"
           }
          ],
          "mesh3d": [
           {
            "colorbar": {
             "outlinewidth": 0,
             "ticks": ""
            },
            "type": "mesh3d"
           }
          ],
          "parcoords": [
           {
            "line": {
             "colorbar": {
              "outlinewidth": 0,
              "ticks": ""
             }
            },
            "type": "parcoords"
           }
          ],
          "pie": [
           {
            "automargin": true,
            "type": "pie"
           }
          ],
          "scatter": [
           {
            "fillpattern": {
             "fillmode": "overlay",
             "size": 10,
             "solidity": 0.2
            },
            "type": "scatter"
           }
          ],
          "scatter3d": [
           {
            "line": {
             "colorbar": {
              "outlinewidth": 0,
              "ticks": ""
             }
            },
            "marker": {
             "colorbar": {
              "outlinewidth": 0,
              "ticks": ""
             }
            },
            "type": "scatter3d"
           }
          ],
          "scattercarpet": [
           {
            "marker": {
             "colorbar": {
              "outlinewidth": 0,
              "ticks": ""
             }
            },
            "type": "scattercarpet"
           }
          ],
          "scattergeo": [
           {
            "marker": {
             "colorbar": {
              "outlinewidth": 0,
              "ticks": ""
             }
            },
            "type": "scattergeo"
           }
          ],
          "scattergl": [
           {
            "marker": {
             "colorbar": {
              "outlinewidth": 0,
              "ticks": ""
             }
            },
            "type": "scattergl"
           }
          ],
          "scattermapbox": [
           {
            "marker": {
             "colorbar": {
              "outlinewidth": 0,
              "ticks": ""
             }
            },
            "type": "scattermapbox"
           }
          ],
          "scatterpolar": [
           {
            "marker": {
             "colorbar": {
              "outlinewidth": 0,
              "ticks": ""
             }
            },
            "type": "scatterpolar"
           }
          ],
          "scatterpolargl": [
           {
            "marker": {
             "colorbar": {
              "outlinewidth": 0,
              "ticks": ""
             }
            },
            "type": "scatterpolargl"
           }
          ],
          "scatterternary": [
           {
            "marker": {
             "colorbar": {
              "outlinewidth": 0,
              "ticks": ""
             }
            },
            "type": "scatterternary"
           }
          ],
          "surface": [
           {
            "colorbar": {
             "outlinewidth": 0,
             "ticks": ""
            },
            "colorscale": [
             [
              0,
              "#0d0887"
             ],
             [
              0.1111111111111111,
              "#46039f"
             ],
             [
              0.2222222222222222,
              "#7201a8"
             ],
             [
              0.3333333333333333,
              "#9c179e"
             ],
             [
              0.4444444444444444,
              "#bd3786"
             ],
             [
              0.5555555555555556,
              "#d8576b"
             ],
             [
              0.6666666666666666,
              "#ed7953"
             ],
             [
              0.7777777777777778,
              "#fb9f3a"
             ],
             [
              0.8888888888888888,
              "#fdca26"
             ],
             [
              1,
              "#f0f921"
             ]
            ],
            "type": "surface"
           }
          ],
          "table": [
           {
            "cells": {
             "fill": {
              "color": "#EBF0F8"
             },
             "line": {
              "color": "white"
             }
            },
            "header": {
             "fill": {
              "color": "#C8D4E3"
             },
             "line": {
              "color": "white"
             }
            },
            "type": "table"
           }
          ]
         },
         "layout": {
          "annotationdefaults": {
           "arrowcolor": "#2a3f5f",
           "arrowhead": 0,
           "arrowwidth": 1
          },
          "autotypenumbers": "strict",
          "coloraxis": {
           "colorbar": {
            "outlinewidth": 0,
            "ticks": ""
           }
          },
          "colorscale": {
           "diverging": [
            [
             0,
             "#8e0152"
            ],
            [
             0.1,
             "#c51b7d"
            ],
            [
             0.2,
             "#de77ae"
            ],
            [
             0.3,
             "#f1b6da"
            ],
            [
             0.4,
             "#fde0ef"
            ],
            [
             0.5,
             "#f7f7f7"
            ],
            [
             0.6,
             "#e6f5d0"
            ],
            [
             0.7,
             "#b8e186"
            ],
            [
             0.8,
             "#7fbc41"
            ],
            [
             0.9,
             "#4d9221"
            ],
            [
             1,
             "#276419"
            ]
           ],
           "sequential": [
            [
             0,
             "#0d0887"
            ],
            [
             0.1111111111111111,
             "#46039f"
            ],
            [
             0.2222222222222222,
             "#7201a8"
            ],
            [
             0.3333333333333333,
             "#9c179e"
            ],
            [
             0.4444444444444444,
             "#bd3786"
            ],
            [
             0.5555555555555556,
             "#d8576b"
            ],
            [
             0.6666666666666666,
             "#ed7953"
            ],
            [
             0.7777777777777778,
             "#fb9f3a"
            ],
            [
             0.8888888888888888,
             "#fdca26"
            ],
            [
             1,
             "#f0f921"
            ]
           ],
           "sequentialminus": [
            [
             0,
             "#0d0887"
            ],
            [
             0.1111111111111111,
             "#46039f"
            ],
            [
             0.2222222222222222,
             "#7201a8"
            ],
            [
             0.3333333333333333,
             "#9c179e"
            ],
            [
             0.4444444444444444,
             "#bd3786"
            ],
            [
             0.5555555555555556,
             "#d8576b"
            ],
            [
             0.6666666666666666,
             "#ed7953"
            ],
            [
             0.7777777777777778,
             "#fb9f3a"
            ],
            [
             0.8888888888888888,
             "#fdca26"
            ],
            [
             1,
             "#f0f921"
            ]
           ]
          },
          "colorway": [
           "#636efa",
           "#EF553B",
           "#00cc96",
           "#ab63fa",
           "#FFA15A",
           "#19d3f3",
           "#FF6692",
           "#B6E880",
           "#FF97FF",
           "#FECB52"
          ],
          "font": {
           "color": "#2a3f5f"
          },
          "geo": {
           "bgcolor": "white",
           "lakecolor": "white",
           "landcolor": "#E5ECF6",
           "showlakes": true,
           "showland": true,
           "subunitcolor": "white"
          },
          "hoverlabel": {
           "align": "left"
          },
          "hovermode": "closest",
          "mapbox": {
           "style": "light"
          },
          "paper_bgcolor": "white",
          "plot_bgcolor": "#E5ECF6",
          "polar": {
           "angularaxis": {
            "gridcolor": "white",
            "linecolor": "white",
            "ticks": ""
           },
           "bgcolor": "#E5ECF6",
           "radialaxis": {
            "gridcolor": "white",
            "linecolor": "white",
            "ticks": ""
           }
          },
          "scene": {
           "xaxis": {
            "backgroundcolor": "#E5ECF6",
            "gridcolor": "white",
            "gridwidth": 2,
            "linecolor": "white",
            "showbackground": true,
            "ticks": "",
            "zerolinecolor": "white"
           },
           "yaxis": {
            "backgroundcolor": "#E5ECF6",
            "gridcolor": "white",
            "gridwidth": 2,
            "linecolor": "white",
            "showbackground": true,
            "ticks": "",
            "zerolinecolor": "white"
           },
           "zaxis": {
            "backgroundcolor": "#E5ECF6",
            "gridcolor": "white",
            "gridwidth": 2,
            "linecolor": "white",
            "showbackground": true,
            "ticks": "",
            "zerolinecolor": "white"
           }
          },
          "shapedefaults": {
           "line": {
            "color": "#2a3f5f"
           }
          },
          "ternary": {
           "aaxis": {
            "gridcolor": "white",
            "linecolor": "white",
            "ticks": ""
           },
           "baxis": {
            "gridcolor": "white",
            "linecolor": "white",
            "ticks": ""
           },
           "bgcolor": "#E5ECF6",
           "caxis": {
            "gridcolor": "white",
            "linecolor": "white",
            "ticks": ""
           }
          },
          "title": {
           "x": 0.05
          },
          "xaxis": {
           "automargin": true,
           "gridcolor": "white",
           "linecolor": "white",
           "ticks": "",
           "title": {
            "standoff": 15
           },
           "zerolinecolor": "white",
           "zerolinewidth": 2
          },
          "yaxis": {
           "automargin": true,
           "gridcolor": "white",
           "linecolor": "white",
           "ticks": "",
           "title": {
            "standoff": 15
           },
           "zerolinecolor": "white",
           "zerolinewidth": 2
          }
         }
        },
        "title": {
         "text": "alpha = 2.8571471428571433, Rsquared = -0.031581755698755105"
        },
        "xaxis": {
         "anchor": "y",
         "domain": [
          0,
          1
         ],
         "title": {
          "text": "Feature number"
         }
        },
        "yaxis": {
         "anchor": "x",
         "domain": [
          0,
          1
         ],
         "title": {
          "text": "Coefficient value"
         }
        }
       }
      },
      "text/html": [
       "<div>                            <div id=\"152d03f8-1ce5-4462-953e-07b85a0a069b\" class=\"plotly-graph-div\" style=\"height:525px; width:100%;\"></div>            <script type=\"text/javascript\">                require([\"plotly\"], function(Plotly) {                    window.PLOTLYENV=window.PLOTLYENV || {};                                    if (document.getElementById(\"152d03f8-1ce5-4462-953e-07b85a0a069b\")) {                    Plotly.newPlot(                        \"152d03f8-1ce5-4462-953e-07b85a0a069b\",                        [{\"error_y\":{\"array\":[0.2952924905656565,0.11256142062839913,0.09613937358012245,0.09682243728261519,0.2633547282150945,0.0785461301339178,0.08191646132871476,0.10695097380135463,0.09701626545032158,0.08635732958386436,0.08951090714351236,0.07692957775713724,0.07632924593167939,0.11053384623886005,0.08683333341695178,0.10738545997071171,0.14003353254565815,0.07153790477576547,0.14356037483669185,0.10999279705438206,0.11184709611663432,0.22027646518415253,0.09666041299202958,0.08823677910817064,0.0936678975398754,0.4080145286609827,0.10194248351205133,0.07980008554656216,0.10769137304525958,0.09327359781674907,0.07385991767432724,0.08957224335563309,0.08318060485649095,0.08009239797395216,0.07705870189339753,0.08506715080335361,0.15921100796152465,0.10515416233352626,0.08536762830540942,0.08335236834370624,0.07189423607810641,0.07997226199540923,0.07566299043950402,0.08031565564258548,0.07683645242115816,0.08143809992507094,0.05602521716262845,0.07124025466040698,0.04795323290917722,0.07856899913024669,0.088568121470458,0.06407336196663707,0.10202307398173337,0.06447647248854714,0.06804544373529539,0.07593901605883388,0.07314855522473139,0.08990391082227134,0.0720915416238745,0.13096523988873315,0.07643312684435508,0.09037850389678645,0.06551957906862395,0.07144300982122853,0.08291605327307318,0.10264640127985647,0.09645338989838449,0.06280978613090142,0.0796331163761178,0.08483882130197713,0.07608432955077124,0.07432424142543537,0.1051054860010858,0.07564296167499228,0.07956509886711127,0.06111453390492739,0.07567886261155253,0.05579380999192924,0.05700219458577313,0.10963710981713023,0.07418330580737191,0.08376791315859536,0.07076890999808723,0.0770843335820993,0.07651270105157394,0.08388038639731223,0.061368109201557317,0.08361025364051484,0.07709209502773924,0.08103675488667268,0.07248548561226681,0.07568753731096567,0.06333005988291827,0.09232514994380726,0.0728756924504823,0.07708484867528155,0.06572760428012607,0.0774099630276548,0.06326795789670835,0.06306847889198049,0.062372587136486496,0.07184098811030872,0.057567715161007706,0.11247817712645462,0.09059777305327996,0.08399558953835544,0.05599422414659604,0.08214422121361395,0.0671578024434448,0.060498287553161056,0.0894694789231598,0.07780351138234196,0.049675963009061845,0.054819486123815875,0.09148153056421617,0.07493256213195912,0.08093369833020578,0.08270009915130878,0.09716963993707904,0.049423378303403875,0.0653353364864534,0.08429379227380855,0.0715653127516679,0.06131505644673896,0.07150299234644107,0.07507498094892542,0.06473336232187071,0.05293635636033674,0.06843759101907838,0.07482061807025062,0.07124468283585442,0.05557863121925177,0.07478309837284311,0.06978958525989845,0.05858469509915578,0.056192614154383855,0.07467196848146371,0.06632708462202887,0.061953127833790034,0.09406535679354308,0.0668536401017826,0.07444891470397447,0.0999064750024287,0.06760793420259342,0.07940644502659049,0.06683622070487456,0.07176299961419913,0.06567673715873075,0.06540380252964872,0.07884671806005211,0.07394907308741461,0.055140101554777984,0.07678707954498992,0.05993071449100814,0.0609836656176163,0.11099422863661687,0.11146988343797404,0.07312520230399185,0.05406570371725453,0.045072750497246516,0.07859403980544835,0.08139907969744396,0.09986668035731094,0.049875151519570685,0.09935552371406844,0.06708910160410006,0.06798736153321093,0.06143562930580708,0.09794894305194075,0.08001022367427171,0.08690142959684558,0.07738499340996173,0.0615358223508388,0.06281136400175413,0.05964285359745015,0.05220282578110072,0.05563747530199164,0.0533311509634961,0.059477353995291984,0.06692283287619438,0.07786432282886692,0.06580084601578222,0.07944482100684203,0.06069299674044327,0.049671787411816604,0.06381077030354494,0.051855004266828146,0.06471414948835733,0.06477477337464228,0.06993757221270816,0.05591594747918612,0.05823477917048898,0.06507772188981725,0.049866267211701926,0.056277491250203926,0.0740764570475604,0.09208193211865298,0.05305897110766956,0.09270710702619428,0.059958306303018225,0.05456589343071919,0.06101724397519643,0.06063463970677238,0.06524569880023232,0.06573970231710588,0.05007612300674747,0.07001848083614061,0.0583586875635217,0.0623293780579836,0.06465691467314402,0.06890384096428805,0.09100096267926909,0.05962086621213018,0.0590633052565876,0.06627157910857517,0.05045696145481878,0.0811099881633953,0.04591449569019289,0.05233227820539209,0.08043259052176974,0.05162844694996226,0.05890920157005594,0.04877531536143794,0.04755054236786073,0.052241209384146524,0.04535416915161118,0.0494948110362346,0.07150955012315081,0.04872436653633607,0.053323568158365406,0.06072787861545911,0.04712386249005218,0.05175003035726727,0.03108315053872641,0.07569696447287734,0.06601917282327223,0.05434820088630305,0.05626145746873289,0.05931672748558166]},\"hovertemplate\":\"x=%{x}<br>y=%{y}<extra></extra>\",\"legendgroup\":\"\",\"marker\":{\"color\":\"#636efa\",\"symbol\":\"circle\"},\"mode\":\"markers\",\"name\":\"\",\"orientation\":\"v\",\"showlegend\":false,\"x\":[0,1,2,3,4,5,6,7,8,9,10,11,12,13,14,15,16,17,18,19,20,21,22,23,24,25,26,27,28,29,30,31,32,33,34,35,36,37,38,39,40,41,42,43,44,45,46,47,48,49,50,51,52,53,54,55,56,57,58,59,60,61,62,63,64,65,66,67,68,69,70,71,72,73,74,75,76,77,78,79,80,81,82,83,84,85,86,87,88,89,90,91,92,93,94,95,96,97,98,99,100,101,102,103,104,105,106,107,108,109,110,111,112,113,114,115,116,117,118,119,120,121,122,123,124,125,126,127,128,129,130,131,132,133,134,135,136,137,138,139,140,141,142,143,144,145,146,147,148,149,150,151,152,153,154,155,156,157,158,159,160,161,162,163,164,165,166,167,168,169,170,171,172,173,174,175,176,177,178,179,180,181,182,183,184,185,186,187,188,189,190,191,192,193,194,195,196,197,198,199,200,201,202,203,204,205,206,207,208,209,210,211,212,213,214,215,216,217,218,219,220,221,222,223,224,225,226,227,228,229,230,231,232,233,234,235,236,237,238],\"xaxis\":\"x\",\"y\":[-2.6023126893939446,-0.02185922926687617,0.010375878076338623,-0.01784912223031038,0.09200011449882751,-0.015413078102883964,0.006002755775624972,0.025621622933494282,0.02344677378235479,0.012187926588605829,0.015811609902633486,0.004543996223961826,0.01093545275052422,0.02866239981429777,0.008385759955582947,0.019402696454521185,0.04126473866454176,-0.0017370174166202001,0.04145801215330587,0.019342053730968582,-0.021895565434771443,0.08350753167168601,0.019916205893741743,-0.015044766760317095,0.004549750517239298,0.33662736693906126,-0.019865612453873496,0.009681112124352591,0.021066711512355903,0.01614420152329394,0.0027530277999405646,-0.011077113071302047,-0.017990336615026234,-0.01692329362115459,0.0016990323159510176,-0.015984795731259577,0.04798555113181778,-0.010465572527010056,-0.009309660331098701,-0.019285088281975813,-0.01594257265012796,0.014854472523251464,0.008684565360234632,0.0068109440850593105,0.009304026482866346,0.011566966111253092,-0.004124682929162885,-0.01317140885605954,0.003773646479208721,0.00022523209907057988,-0.010887991834957441,-0.0008945282168808512,0.023169279335342963,-0.005476405961167366,0.006662209857360542,0.0060920510247528484,0.01047195940375694,0.017824810262788295,-0.01523437901129748,-0.03591915310371874,0.00432964971558731,-0.01674207936222275,0.008671984913468675,-0.010467474810650877,0.020762873752798717,-0.022788054996733104,0.01438368510215414,-0.0067350264724165484,0.009831233823573234,-0.0107039385657512,0.00579992342113648,0.016586750949120422,0.029876750931407747,-0.0071201817670989015,-0.020322587625860842,0.002965391623999433,-0.011439305176521431,-0.007668533257880526,-0.00879889171559171,0.0322846570868348,-0.004789143113774329,-0.015608745253234597,-0.010657744260073277,0.01489064144132776,-0.00412376784909641,0.02075685155691508,-0.0005380788474902594,0.016989389559637028,0.015455760149837839,-0.01473349469932776,-0.0037578511324327267,0.0170696732597475,0.009188545799800812,-0.004234941459608509,-0.012324397765313208,0.007800462527035077,0.0041765740779553815,0.0009257157033162786,0.0011386327629242313,0.002163012021409661,0.0002977310333148019,0.00922543030733053,-0.00560823721945403,-0.02893201673794125,-0.02343710714137837,-0.015836146037847255,-0.004073980693084678,0.009762239392437689,0.0053030243698215206,-0.008677154408620415,-0.025180965641927695,-0.016993345768516764,-0.001184924273130395,0.003670961325462035,0.026093146228137007,0.013134552206822333,0.014600809007716507,-0.0034206151484227746,-0.026684135838070677,-0.004469133905008145,-0.0028126082726559576,0.01864795847361714,-0.009517678133191217,-0.005361974861349674,-0.005101054431276135,-0.010500655391151725,0.006979796301802685,-0.0041134303674495755,-0.013953898515687268,-0.013853939755408329,0.008649729116209974,-0.0024004336461987577,0.016880844865863144,-0.009848031279106795,-0.0038546410740923237,-0.0015884542738763907,0.00890186298260209,-0.01149095939847901,0.0023132949851682612,0.01728746479469125,-0.005362425322558306,0.00521606717049778,0.027945514841881795,0.00021888436415019,0.015717854047124738,-0.007632948675649571,0.013660836453110252,-0.016541143177989773,-0.0090041905917711,-0.017139331745211178,0.014738850498200454,0.0026960718962692402,-0.010798219806470003,-0.005877785999503176,-0.005354942190549975,-0.032041737518300625,0.03325842876354898,-0.01007758226952132,-0.0016403399513343772,-0.004832578749578635,-0.014734972085403614,0.02002695537543125,0.029851554998095796,0.0015599589278461898,0.02618070036989152,0.00694272891685778,0.006615028672971224,-0.006667655854978732,-0.02431205670008873,0.02039719999510046,-0.02019015020521802,0.017514204687757398,0.0033357794117057945,0.0005201054309973952,0.010008282769354114,0.006809747563739783,-0.007944904648510392,-0.00023998929980479137,0.0076286850711336915,0.0030559295724732084,0.002347283302483936,-0.015038066618839463,0.01885837693543806,-0.001983687778485439,0.004207441957737777,-0.008098961952986358,0.0029037991579453784,0.006728806306862017,-0.015023939914876192,-0.01633717132728417,0.005841439939335593,0.012775666433124269,0.00860307935460104,0.007592007649600395,-0.00899455392402705,0.016928840980634748,0.02493412805083092,-0.0023618573884167274,-0.024416998398243198,-0.005233413041220722,0.0013913253444974324,0.009557744221129982,-0.0025923616820302878,0.011714150887775825,-0.007570561056801842,0.0014417503052831997,-0.015154445511258226,0.01027653009245455,0.009097596106743088,0.011950832601381635,-0.012500805865300344,-0.024686057398946026,0.002037435713353426,0.0008013566741369861,0.012496667493982256,-0.0008903957430806856,0.023341919187752094,-0.004925556102100334,-0.0001336900042788866,0.010109955263993215,-0.0005508112837106583,0.0048005771727266085,-0.00035009103075381894,0.0004072295763666134,0.004739298338219279,-0.005950930566972876,0.00439275795389187,0.014695397193798549,0.0025537901766334364,-0.007173319350969524,0.0027538064687647286,0.006422849384387713,-0.003697363617790874,-0.0014052300253982995,-0.018354622064527953,0.008757312842979158,0.012323913734477205,0.011507647341585596,0.01057332024104701],\"yaxis\":\"y\",\"type\":\"scatter\"}],                        {\"template\":{\"data\":{\"histogram2dcontour\":[{\"type\":\"histogram2dcontour\",\"colorbar\":{\"outlinewidth\":0,\"ticks\":\"\"},\"colorscale\":[[0.0,\"#0d0887\"],[0.1111111111111111,\"#46039f\"],[0.2222222222222222,\"#7201a8\"],[0.3333333333333333,\"#9c179e\"],[0.4444444444444444,\"#bd3786\"],[0.5555555555555556,\"#d8576b\"],[0.6666666666666666,\"#ed7953\"],[0.7777777777777778,\"#fb9f3a\"],[0.8888888888888888,\"#fdca26\"],[1.0,\"#f0f921\"]]}],\"choropleth\":[{\"type\":\"choropleth\",\"colorbar\":{\"outlinewidth\":0,\"ticks\":\"\"}}],\"histogram2d\":[{\"type\":\"histogram2d\",\"colorbar\":{\"outlinewidth\":0,\"ticks\":\"\"},\"colorscale\":[[0.0,\"#0d0887\"],[0.1111111111111111,\"#46039f\"],[0.2222222222222222,\"#7201a8\"],[0.3333333333333333,\"#9c179e\"],[0.4444444444444444,\"#bd3786\"],[0.5555555555555556,\"#d8576b\"],[0.6666666666666666,\"#ed7953\"],[0.7777777777777778,\"#fb9f3a\"],[0.8888888888888888,\"#fdca26\"],[1.0,\"#f0f921\"]]}],\"heatmap\":[{\"type\":\"heatmap\",\"colorbar\":{\"outlinewidth\":0,\"ticks\":\"\"},\"colorscale\":[[0.0,\"#0d0887\"],[0.1111111111111111,\"#46039f\"],[0.2222222222222222,\"#7201a8\"],[0.3333333333333333,\"#9c179e\"],[0.4444444444444444,\"#bd3786\"],[0.5555555555555556,\"#d8576b\"],[0.6666666666666666,\"#ed7953\"],[0.7777777777777778,\"#fb9f3a\"],[0.8888888888888888,\"#fdca26\"],[1.0,\"#f0f921\"]]}],\"heatmapgl\":[{\"type\":\"heatmapgl\",\"colorbar\":{\"outlinewidth\":0,\"ticks\":\"\"},\"colorscale\":[[0.0,\"#0d0887\"],[0.1111111111111111,\"#46039f\"],[0.2222222222222222,\"#7201a8\"],[0.3333333333333333,\"#9c179e\"],[0.4444444444444444,\"#bd3786\"],[0.5555555555555556,\"#d8576b\"],[0.6666666666666666,\"#ed7953\"],[0.7777777777777778,\"#fb9f3a\"],[0.8888888888888888,\"#fdca26\"],[1.0,\"#f0f921\"]]}],\"contourcarpet\":[{\"type\":\"contourcarpet\",\"colorbar\":{\"outlinewidth\":0,\"ticks\":\"\"}}],\"contour\":[{\"type\":\"contour\",\"colorbar\":{\"outlinewidth\":0,\"ticks\":\"\"},\"colorscale\":[[0.0,\"#0d0887\"],[0.1111111111111111,\"#46039f\"],[0.2222222222222222,\"#7201a8\"],[0.3333333333333333,\"#9c179e\"],[0.4444444444444444,\"#bd3786\"],[0.5555555555555556,\"#d8576b\"],[0.6666666666666666,\"#ed7953\"],[0.7777777777777778,\"#fb9f3a\"],[0.8888888888888888,\"#fdca26\"],[1.0,\"#f0f921\"]]}],\"surface\":[{\"type\":\"surface\",\"colorbar\":{\"outlinewidth\":0,\"ticks\":\"\"},\"colorscale\":[[0.0,\"#0d0887\"],[0.1111111111111111,\"#46039f\"],[0.2222222222222222,\"#7201a8\"],[0.3333333333333333,\"#9c179e\"],[0.4444444444444444,\"#bd3786\"],[0.5555555555555556,\"#d8576b\"],[0.6666666666666666,\"#ed7953\"],[0.7777777777777778,\"#fb9f3a\"],[0.8888888888888888,\"#fdca26\"],[1.0,\"#f0f921\"]]}],\"mesh3d\":[{\"type\":\"mesh3d\",\"colorbar\":{\"outlinewidth\":0,\"ticks\":\"\"}}],\"scatter\":[{\"fillpattern\":{\"fillmode\":\"overlay\",\"size\":10,\"solidity\":0.2},\"type\":\"scatter\"}],\"parcoords\":[{\"type\":\"parcoords\",\"line\":{\"colorbar\":{\"outlinewidth\":0,\"ticks\":\"\"}}}],\"scatterpolargl\":[{\"type\":\"scatterpolargl\",\"marker\":{\"colorbar\":{\"outlinewidth\":0,\"ticks\":\"\"}}}],\"bar\":[{\"error_x\":{\"color\":\"#2a3f5f\"},\"error_y\":{\"color\":\"#2a3f5f\"},\"marker\":{\"line\":{\"color\":\"#E5ECF6\",\"width\":0.5},\"pattern\":{\"fillmode\":\"overlay\",\"size\":10,\"solidity\":0.2}},\"type\":\"bar\"}],\"scattergeo\":[{\"type\":\"scattergeo\",\"marker\":{\"colorbar\":{\"outlinewidth\":0,\"ticks\":\"\"}}}],\"scatterpolar\":[{\"type\":\"scatterpolar\",\"marker\":{\"colorbar\":{\"outlinewidth\":0,\"ticks\":\"\"}}}],\"histogram\":[{\"marker\":{\"pattern\":{\"fillmode\":\"overlay\",\"size\":10,\"solidity\":0.2}},\"type\":\"histogram\"}],\"scattergl\":[{\"type\":\"scattergl\",\"marker\":{\"colorbar\":{\"outlinewidth\":0,\"ticks\":\"\"}}}],\"scatter3d\":[{\"type\":\"scatter3d\",\"line\":{\"colorbar\":{\"outlinewidth\":0,\"ticks\":\"\"}},\"marker\":{\"colorbar\":{\"outlinewidth\":0,\"ticks\":\"\"}}}],\"scattermapbox\":[{\"type\":\"scattermapbox\",\"marker\":{\"colorbar\":{\"outlinewidth\":0,\"ticks\":\"\"}}}],\"scatterternary\":[{\"type\":\"scatterternary\",\"marker\":{\"colorbar\":{\"outlinewidth\":0,\"ticks\":\"\"}}}],\"scattercarpet\":[{\"type\":\"scattercarpet\",\"marker\":{\"colorbar\":{\"outlinewidth\":0,\"ticks\":\"\"}}}],\"carpet\":[{\"aaxis\":{\"endlinecolor\":\"#2a3f5f\",\"gridcolor\":\"white\",\"linecolor\":\"white\",\"minorgridcolor\":\"white\",\"startlinecolor\":\"#2a3f5f\"},\"baxis\":{\"endlinecolor\":\"#2a3f5f\",\"gridcolor\":\"white\",\"linecolor\":\"white\",\"minorgridcolor\":\"white\",\"startlinecolor\":\"#2a3f5f\"},\"type\":\"carpet\"}],\"table\":[{\"cells\":{\"fill\":{\"color\":\"#EBF0F8\"},\"line\":{\"color\":\"white\"}},\"header\":{\"fill\":{\"color\":\"#C8D4E3\"},\"line\":{\"color\":\"white\"}},\"type\":\"table\"}],\"barpolar\":[{\"marker\":{\"line\":{\"color\":\"#E5ECF6\",\"width\":0.5},\"pattern\":{\"fillmode\":\"overlay\",\"size\":10,\"solidity\":0.2}},\"type\":\"barpolar\"}],\"pie\":[{\"automargin\":true,\"type\":\"pie\"}]},\"layout\":{\"autotypenumbers\":\"strict\",\"colorway\":[\"#636efa\",\"#EF553B\",\"#00cc96\",\"#ab63fa\",\"#FFA15A\",\"#19d3f3\",\"#FF6692\",\"#B6E880\",\"#FF97FF\",\"#FECB52\"],\"font\":{\"color\":\"#2a3f5f\"},\"hovermode\":\"closest\",\"hoverlabel\":{\"align\":\"left\"},\"paper_bgcolor\":\"white\",\"plot_bgcolor\":\"#E5ECF6\",\"polar\":{\"bgcolor\":\"#E5ECF6\",\"angularaxis\":{\"gridcolor\":\"white\",\"linecolor\":\"white\",\"ticks\":\"\"},\"radialaxis\":{\"gridcolor\":\"white\",\"linecolor\":\"white\",\"ticks\":\"\"}},\"ternary\":{\"bgcolor\":\"#E5ECF6\",\"aaxis\":{\"gridcolor\":\"white\",\"linecolor\":\"white\",\"ticks\":\"\"},\"baxis\":{\"gridcolor\":\"white\",\"linecolor\":\"white\",\"ticks\":\"\"},\"caxis\":{\"gridcolor\":\"white\",\"linecolor\":\"white\",\"ticks\":\"\"}},\"coloraxis\":{\"colorbar\":{\"outlinewidth\":0,\"ticks\":\"\"}},\"colorscale\":{\"sequential\":[[0.0,\"#0d0887\"],[0.1111111111111111,\"#46039f\"],[0.2222222222222222,\"#7201a8\"],[0.3333333333333333,\"#9c179e\"],[0.4444444444444444,\"#bd3786\"],[0.5555555555555556,\"#d8576b\"],[0.6666666666666666,\"#ed7953\"],[0.7777777777777778,\"#fb9f3a\"],[0.8888888888888888,\"#fdca26\"],[1.0,\"#f0f921\"]],\"sequentialminus\":[[0.0,\"#0d0887\"],[0.1111111111111111,\"#46039f\"],[0.2222222222222222,\"#7201a8\"],[0.3333333333333333,\"#9c179e\"],[0.4444444444444444,\"#bd3786\"],[0.5555555555555556,\"#d8576b\"],[0.6666666666666666,\"#ed7953\"],[0.7777777777777778,\"#fb9f3a\"],[0.8888888888888888,\"#fdca26\"],[1.0,\"#f0f921\"]],\"diverging\":[[0,\"#8e0152\"],[0.1,\"#c51b7d\"],[0.2,\"#de77ae\"],[0.3,\"#f1b6da\"],[0.4,\"#fde0ef\"],[0.5,\"#f7f7f7\"],[0.6,\"#e6f5d0\"],[0.7,\"#b8e186\"],[0.8,\"#7fbc41\"],[0.9,\"#4d9221\"],[1,\"#276419\"]]},\"xaxis\":{\"gridcolor\":\"white\",\"linecolor\":\"white\",\"ticks\":\"\",\"title\":{\"standoff\":15},\"zerolinecolor\":\"white\",\"automargin\":true,\"zerolinewidth\":2},\"yaxis\":{\"gridcolor\":\"white\",\"linecolor\":\"white\",\"ticks\":\"\",\"title\":{\"standoff\":15},\"zerolinecolor\":\"white\",\"automargin\":true,\"zerolinewidth\":2},\"scene\":{\"xaxis\":{\"backgroundcolor\":\"#E5ECF6\",\"gridcolor\":\"white\",\"linecolor\":\"white\",\"showbackground\":true,\"ticks\":\"\",\"zerolinecolor\":\"white\",\"gridwidth\":2},\"yaxis\":{\"backgroundcolor\":\"#E5ECF6\",\"gridcolor\":\"white\",\"linecolor\":\"white\",\"showbackground\":true,\"ticks\":\"\",\"zerolinecolor\":\"white\",\"gridwidth\":2},\"zaxis\":{\"backgroundcolor\":\"#E5ECF6\",\"gridcolor\":\"white\",\"linecolor\":\"white\",\"showbackground\":true,\"ticks\":\"\",\"zerolinecolor\":\"white\",\"gridwidth\":2}},\"shapedefaults\":{\"line\":{\"color\":\"#2a3f5f\"}},\"annotationdefaults\":{\"arrowcolor\":\"#2a3f5f\",\"arrowhead\":0,\"arrowwidth\":1},\"geo\":{\"bgcolor\":\"white\",\"landcolor\":\"#E5ECF6\",\"subunitcolor\":\"white\",\"showland\":true,\"showlakes\":true,\"lakecolor\":\"white\"},\"title\":{\"x\":0.05},\"mapbox\":{\"style\":\"light\"}}},\"xaxis\":{\"anchor\":\"y\",\"domain\":[0.0,1.0],\"title\":{\"text\":\"Feature number\"}},\"yaxis\":{\"anchor\":\"x\",\"domain\":[0.0,1.0],\"title\":{\"text\":\"Coefficient value\"}},\"legend\":{\"tracegroupgap\":0},\"margin\":{\"t\":60},\"title\":{\"text\":\"alpha = 2.8571471428571433, Rsquared = -0.031581755698755105\"}},                        {\"responsive\": true}                    ).then(function(){\n",
       "                            \n",
       "var gd = document.getElementById('152d03f8-1ce5-4462-953e-07b85a0a069b');\n",
       "var x = new MutationObserver(function (mutations, observer) {{\n",
       "        var display = window.getComputedStyle(gd).display;\n",
       "        if (!display || display === 'none') {{\n",
       "            console.log([gd, 'removed!']);\n",
       "            Plotly.purge(gd);\n",
       "            observer.disconnect();\n",
       "        }}\n",
       "}});\n",
       "\n",
       "// Listen for the removal of the full notebook cells\n",
       "var notebookContainer = gd.closest('#notebook-container');\n",
       "if (notebookContainer) {{\n",
       "    x.observe(notebookContainer, {childList: true});\n",
       "}}\n",
       "\n",
       "// Listen for the clearing of the current output cell\n",
       "var outputEl = gd.closest('.output');\n",
       "if (outputEl) {{\n",
       "    x.observe(outputEl, {childList: true});\n",
       "}}\n",
       "\n",
       "                        })                };                });            </script>        </div>"
      ]
     },
     "metadata": {},
     "output_type": "display_data"
    },
    {
     "data": {
      "application/vnd.plotly.v1+json": {
       "config": {
        "plotlyServerURL": "https://plot.ly"
       },
       "data": [
        {
         "error_y": {
          "array": [
           0.29441416428182626,
           0.10698630942259187,
           0.09125892029426648,
           0.0920097773609506,
           0.25136010718101404,
           0.07465872869934584,
           0.07773364104348064,
           0.10175333801854297,
           0.09230610919006012,
           0.0820073084272867,
           0.08504988464767357,
           0.072994535765697,
           0.07248655721904682,
           0.10521357342377076,
           0.08241573818372368,
           0.1020409482927317,
           0.13342301635255768,
           0.06786881602322214,
           0.1367600530504836,
           0.10450954127394049,
           0.10631059702337012,
           0.21046891625313693,
           0.09189456387054981,
           0.08383034843816514,
           0.08887165210157934,
           0.4000336093557148,
           0.09689458591883598,
           0.07576069853028437,
           0.10236030097449146,
           0.08861955098377597,
           0.07007453759790663,
           0.0850406451106783,
           0.07909639954449763,
           0.07615174850209973,
           0.07310608037449567,
           0.08084413623593455,
           0.15172529693851497,
           0.0998073925579376,
           0.08103498655542044,
           0.07928636638387034,
           0.06837234798637083,
           0.07599911447939452,
           0.07182748262897627,
           0.07622151332472227,
           0.07294687944247308,
           0.07733685557943401,
           0.05316459003077281,
           0.06769985403738864,
           0.045506515231269785,
           0.07453712784613228,
           0.0840865642042374,
           0.060785920726780567,
           0.0970368499986215,
           0.061189812437279466,
           0.06458450917549212,
           0.07206525460788678,
           0.06946588797643877,
           0.08545780836479071,
           0.0685445774929023,
           0.1247109512175236,
           0.07252246354943721,
           0.08588756207906412,
           0.06221175143178091,
           0.0678494982272125,
           0.07890730907034474,
           0.09761860435738814,
           0.0916054087722575,
           0.05962084168118216,
           0.07560415785959812,
           0.08054920686756452,
           0.07220090167666958,
           0.07068553179225012,
           0.10011384864710153,
           0.07179299836907135,
           0.07572790201151293,
           0.057985162311105024,
           0.07187724545933924,
           0.05298062746217643,
           0.05414141680287032,
           0.10446086914074527,
           0.07039112731529365,
           0.07960705942945956,
           0.06721337393875164,
           0.07326493597651204,
           0.07259686337231307,
           0.07981919267776934,
           0.05821912402185896,
           0.07948323473939391,
           0.0732828168887942,
           0.07700517454206933,
           0.06877500993865639,
           0.07198587785704644,
           0.06014337436452267,
           0.08759654163583051,
           0.06923474608423359,
           0.07316654122733685,
           0.06236726791641677,
           0.0734380641344299,
           0.060022226969566515,
           0.05983553127251891,
           0.05917189908587722,
           0.06821051668322015,
           0.05463943955786934,
           0.10705859068777712,
           0.08623570984922249,
           0.07982671027061765,
           0.0531348433956866,
           0.07798386300721198,
           0.06373134528787551,
           0.057452718716874324,
           0.08521370890689452,
           0.07398673791377235,
           0.04712809708536606,
           0.05201799005271918,
           0.08713931429693114,
           0.07119639360560877,
           0.07690529044869657,
           0.07846291362417473,
           0.09253015136941176,
           0.046906298882288776,
           0.061988285532759486,
           0.08016355934138605,
           0.06795283178833056,
           0.058190807710991076,
           0.06785095423881977,
           0.07129201376564175,
           0.061447147678465326,
           0.05023499646743805,
           0.06506041418242782,
           0.07110264585638752,
           0.06763843546671838,
           0.052731436645889807,
           0.07112599584623046,
           0.06627409844332459,
           0.05559035071916194,
           0.05331112439052682,
           0.07089036940243842,
           0.06301775727778715,
           0.05877799472236649,
           0.08938880966505908,
           0.06344333124806113,
           0.07064577462695806,
           0.0951496664978137,
           0.06413855160791188,
           0.07547900201256691,
           0.06344774172332934,
           0.06820359934053351,
           0.06250372205736725,
           0.06210626729360397,
           0.07497708020656763,
           0.07029345562493522,
           0.05231674599831559,
           0.07291861330367524,
           0.05688260576491871,
           0.05787648496126574,
           0.10573621648450865,
           0.10621926614253577,
           0.06943850430846067,
           0.05129359073961228,
           0.04278433588603443,
           0.07469177685566156,
           0.0774553178469829,
           0.09516416784298641,
           0.0473180375507979,
           0.09458359635641339,
           0.0636803810625428,
           0.06452899712388706,
           0.058317270859454456,
           0.09320832982935066,
           0.07615061668991098,
           0.08266414225197394,
           0.07360163549457686,
           0.05838658371011459,
           0.05958829624059818,
           0.0566617851984841,
           0.04956606759820029,
           0.05283613089611034,
           0.05059442341129463,
           0.056471566205336034,
           0.06349519263423153,
           0.07387193898320424,
           0.06258697239076451,
           0.07558001773344172,
           0.05758150761790977,
           0.04713969717043028,
           0.06058495153654088,
           0.04920168904844508,
           0.061426410807483,
           0.06161581638277546,
           0.06652938366869793,
           0.053075464030893346,
           0.055379148993854085,
           0.06179207121811707,
           0.04736209050791548,
           0.05345766174555163,
           0.07045837103551254,
           0.08767626798161428,
           0.05034114645925891,
           0.08825420107182094,
           0.05690310729948686,
           0.051767434493704176,
           0.0579570116448894,
           0.05752832701942374,
           0.061997185504884256,
           0.062407498108736324,
           0.04750835046394056,
           0.06658076330616777,
           0.05544968357972709,
           0.0591937935524492,
           0.06144362431965243,
           0.0654754128121842,
           0.08664816106757484,
           0.056564622531060746,
           0.056032886955576525,
           0.06298241802797452,
           0.047868421905694875,
           0.07726566656089098,
           0.043583372084982405,
           0.049646774482563695,
           0.07636530929571288,
           0.04897932407041196,
           0.055904729007191636,
           0.046272446234058275,
           0.04511057078738803,
           0.04958075279293467,
           0.043063764526625435,
           0.046973389877468776,
           0.06798301336229019,
           0.04623034145357747,
           0.05063293113153291,
           0.057617447249306696,
           0.044747126654796,
           0.04910691827610738,
           0.0294910790426628,
           0.07202324403250257,
           0.06268636382643285,
           0.051691617715976294,
           0.05348583711709495,
           0.05636211762096442
          ]
         },
         "hovertemplate": "x=%{x}<br>y=%{y}<extra></extra>",
         "legendgroup": "",
         "marker": {
          "color": "#636efa",
          "symbol": "circle"
         },
         "mode": "markers",
         "name": "",
         "orientation": "v",
         "showlegend": false,
         "type": "scatter",
         "x": [
          0,
          1,
          2,
          3,
          4,
          5,
          6,
          7,
          8,
          9,
          10,
          11,
          12,
          13,
          14,
          15,
          16,
          17,
          18,
          19,
          20,
          21,
          22,
          23,
          24,
          25,
          26,
          27,
          28,
          29,
          30,
          31,
          32,
          33,
          34,
          35,
          36,
          37,
          38,
          39,
          40,
          41,
          42,
          43,
          44,
          45,
          46,
          47,
          48,
          49,
          50,
          51,
          52,
          53,
          54,
          55,
          56,
          57,
          58,
          59,
          60,
          61,
          62,
          63,
          64,
          65,
          66,
          67,
          68,
          69,
          70,
          71,
          72,
          73,
          74,
          75,
          76,
          77,
          78,
          79,
          80,
          81,
          82,
          83,
          84,
          85,
          86,
          87,
          88,
          89,
          90,
          91,
          92,
          93,
          94,
          95,
          96,
          97,
          98,
          99,
          100,
          101,
          102,
          103,
          104,
          105,
          106,
          107,
          108,
          109,
          110,
          111,
          112,
          113,
          114,
          115,
          116,
          117,
          118,
          119,
          120,
          121,
          122,
          123,
          124,
          125,
          126,
          127,
          128,
          129,
          130,
          131,
          132,
          133,
          134,
          135,
          136,
          137,
          138,
          139,
          140,
          141,
          142,
          143,
          144,
          145,
          146,
          147,
          148,
          149,
          150,
          151,
          152,
          153,
          154,
          155,
          156,
          157,
          158,
          159,
          160,
          161,
          162,
          163,
          164,
          165,
          166,
          167,
          168,
          169,
          170,
          171,
          172,
          173,
          174,
          175,
          176,
          177,
          178,
          179,
          180,
          181,
          182,
          183,
          184,
          185,
          186,
          187,
          188,
          189,
          190,
          191,
          192,
          193,
          194,
          195,
          196,
          197,
          198,
          199,
          200,
          201,
          202,
          203,
          204,
          205,
          206,
          207,
          208,
          209,
          210,
          211,
          212,
          213,
          214,
          215,
          216,
          217,
          218,
          219,
          220,
          221,
          222,
          223,
          224,
          225,
          226,
          227,
          228,
          229,
          230,
          231,
          232,
          233,
          234,
          235,
          236,
          237,
          238
         ],
         "xaxis": "x",
         "y": [
          -2.603590534090908,
          -0.019673306340188556,
          0.00933829026870476,
          -0.016064210007279343,
          0.08280010304894476,
          -0.013871770292595568,
          0.005402480198062475,
          0.023059460640144854,
          0.02110209640411931,
          0.010969133929745245,
          0.01423044891237014,
          0.004089596601565644,
          0.009841907475471796,
          0.025796159832867992,
          0.0075471839600246525,
          0.017462426809069065,
          0.03713826479808758,
          -0.00156331567495818,
          0.037312210937975286,
          0.017407848357871725,
          -0.0197060088912943,
          0.07515677850451741,
          0.01792458530436757,
          -0.013540290084285386,
          0.004094775465515368,
          0.30296463024515513,
          -0.017879051208486145,
          0.008713000911917332,
          0.01896004036112031,
          0.014529781370964546,
          0.0024777250199465085,
          -0.009969401764171843,
          -0.01619130295352361,
          -0.015230964259039128,
          0.0015291290843559159,
          -0.014386316158133619,
          0.043186996018636,
          -0.00941901527430905,
          -0.00837869429798883,
          -0.01735657945377823,
          -0.014348315385115166,
          0.013369025270926317,
          0.007816108824211168,
          0.00612984967655338,
          0.008373623834579711,
          0.010410269500127783,
          -0.0037122146362465963,
          -0.011854267970453585,
          0.003396281831287849,
          0.0002027088891635219,
          -0.009799192651461697,
          -0.000805075395192766,
          0.020852351401808668,
          -0.00492876536505063,
          0.005995988871624488,
          0.005482845922277563,
          0.009424763463381247,
          0.016042329236509466,
          -0.013710941110167732,
          -0.03232723779334686,
          0.0038966847440285797,
          -0.015067871426000475,
          0.007804786422121807,
          -0.00942072732958579,
          0.018686586377518844,
          -0.020509249497059793,
          0.012945316591938726,
          -0.006061523825174894,
          0.008848110441215912,
          -0.009633544709176082,
          0.005219931079022831,
          0.014928075854208378,
          0.02688907583826697,
          -0.006408163590389012,
          -0.01829032886327476,
          0.0026688524615994897,
          -0.010295374658869288,
          -0.0069016799320924735,
          -0.00791900254403254,
          0.029056191378151318,
          -0.0043102288023968965,
          -0.014047870727911138,
          -0.009591969834065949,
          0.013401577297194983,
          -0.003711391064186769,
          0.01868116640122357,
          -0.0004842709627412335,
          0.015290450603673327,
          0.013910184134854054,
          -0.013260145229394985,
          -0.003382066019189454,
          0.015362705933772747,
          0.00826969121982073,
          -0.003811447313647658,
          -0.011091957988781887,
          0.007020416274331569,
          0.003758916670159843,
          0.0008331441329846507,
          0.0010247694866318082,
          0.0019467108192686951,
          0.0002679579299833217,
          0.008302887276597478,
          -0.005047413497508627,
          -0.02603881506414713,
          -0.02109339642724053,
          -0.01425253143406253,
          -0.0036665826237762098,
          0.00878601545319392,
          0.004772721932839369,
          -0.007809438967758374,
          -0.022662869077734925,
          -0.01529401119166509,
          -0.0010664318458173557,
          0.0033038651929158313,
          0.023483831605323306,
          0.0118210969861401,
          0.013140728106944857,
          -0.003078553633580497,
          -0.024015722254263606,
          -0.00402222051450733,
          -0.0025313474453903615,
          0.016783162626255427,
          -0.008565910319872095,
          -0.004825777375214706,
          -0.004590948988148521,
          -0.009450589852036551,
          0.006281816671622417,
          -0.003702087330704618,
          -0.012558508664118541,
          -0.012468545779867496,
          0.007784756204588976,
          -0.0021603902815788816,
          0.015192760379276832,
          -0.008863228151196115,
          -0.0034691769666830917,
          -0.0014296088464887517,
          0.008011676684341882,
          -0.01034186345863111,
          0.002081965486651435,
          0.015558718315222125,
          -0.004826182790302475,
          0.004694460453448002,
          0.025150963357693616,
          0.00019699592773517101,
          0.014146068642412263,
          -0.006869653808084614,
          0.012294752807799226,
          -0.014887028860190795,
          -0.00810377153259399,
          -0.015425398570690061,
          0.01326496544838041,
          0.0024264647066423164,
          -0.009718397825823002,
          -0.005290007399552859,
          -0.0048194479714949775,
          -0.02883756376647056,
          0.029932585887194087,
          -0.009069824042569188,
          -0.0014763059562009394,
          -0.004349320874620771,
          -0.013261474876863253,
          0.018024259837888128,
          0.026866399498286217,
          0.0014039630350615709,
          0.02356263033290237,
          0.006248456025172002,
          0.0059535258056741015,
          -0.006000890269480859,
          -0.021880851030079855,
          0.018357479995590415,
          -0.018171135184696218,
          0.015762784218981658,
          0.0030022014705352153,
          0.00046809488789765574,
          0.009007454492418703,
          0.006128772807365805,
          -0.007150414183659353,
          -0.00021599036982431223,
          0.006865816564020322,
          0.0027503366152258875,
          0.0021125549722355425,
          -0.013534259956955518,
          0.016972539241894253,
          -0.001785319000636895,
          0.0037866977619639996,
          -0.0072890657576877215,
          0.0026134192421508407,
          0.006055925676175816,
          -0.013521545923388572,
          -0.014703454194555753,
          0.005257295945402034,
          0.011498099789811842,
          0.007742771419140936,
          0.006832806884640355,
          -0.008095098531624345,
          0.015235956882571273,
          0.02244071524574783,
          -0.0021256716495750548,
          -0.021975298558418878,
          -0.00471007173709865,
          0.0012521928100476891,
          0.008601969799016984,
          -0.0023331255138272586,
          0.010542735798998242,
          -0.006813504951121658,
          0.0012975752747548797,
          -0.013639000960132404,
          0.009248877083209095,
          0.008187836496068778,
          0.010755749341243471,
          -0.01125072527877031,
          -0.022217451659051424,
          0.0018336921420180833,
          0.0007212210067232875,
          0.01124700074458403,
          -0.000801356168772617,
          0.021007727268976886,
          -0.0044330004918903,
          -0.00012032100385099793,
          0.009098959737593892,
          -0.0004957301553395925,
          0.004320519455453947,
          -0.00031508192767843704,
          0.0003665066187299521,
          0.004265368504397351,
          -0.005355837510275588,
          0.003953482158502683,
          0.013225857474418694,
          0.0022984111589700925,
          -0.006455987415872572,
          0.0024784258218882556,
          0.005780564445948941,
          -0.0033276272560117865,
          -0.0012647070228584696,
          -0.016519159858075158,
          0.007881581558681242,
          0.011091522361029485,
          0.010356882607427037,
          0.00951598821694231
         ],
         "yaxis": "y"
        }
       ],
       "layout": {
        "legend": {
         "tracegroupgap": 0
        },
        "margin": {
         "t": 60
        },
        "template": {
         "data": {
          "bar": [
           {
            "error_x": {
             "color": "#2a3f5f"
            },
            "error_y": {
             "color": "#2a3f5f"
            },
            "marker": {
             "line": {
              "color": "#E5ECF6",
              "width": 0.5
             },
             "pattern": {
              "fillmode": "overlay",
              "size": 10,
              "solidity": 0.2
             }
            },
            "type": "bar"
           }
          ],
          "barpolar": [
           {
            "marker": {
             "line": {
              "color": "#E5ECF6",
              "width": 0.5
             },
             "pattern": {
              "fillmode": "overlay",
              "size": 10,
              "solidity": 0.2
             }
            },
            "type": "barpolar"
           }
          ],
          "carpet": [
           {
            "aaxis": {
             "endlinecolor": "#2a3f5f",
             "gridcolor": "white",
             "linecolor": "white",
             "minorgridcolor": "white",
             "startlinecolor": "#2a3f5f"
            },
            "baxis": {
             "endlinecolor": "#2a3f5f",
             "gridcolor": "white",
             "linecolor": "white",
             "minorgridcolor": "white",
             "startlinecolor": "#2a3f5f"
            },
            "type": "carpet"
           }
          ],
          "choropleth": [
           {
            "colorbar": {
             "outlinewidth": 0,
             "ticks": ""
            },
            "type": "choropleth"
           }
          ],
          "contour": [
           {
            "colorbar": {
             "outlinewidth": 0,
             "ticks": ""
            },
            "colorscale": [
             [
              0,
              "#0d0887"
             ],
             [
              0.1111111111111111,
              "#46039f"
             ],
             [
              0.2222222222222222,
              "#7201a8"
             ],
             [
              0.3333333333333333,
              "#9c179e"
             ],
             [
              0.4444444444444444,
              "#bd3786"
             ],
             [
              0.5555555555555556,
              "#d8576b"
             ],
             [
              0.6666666666666666,
              "#ed7953"
             ],
             [
              0.7777777777777778,
              "#fb9f3a"
             ],
             [
              0.8888888888888888,
              "#fdca26"
             ],
             [
              1,
              "#f0f921"
             ]
            ],
            "type": "contour"
           }
          ],
          "contourcarpet": [
           {
            "colorbar": {
             "outlinewidth": 0,
             "ticks": ""
            },
            "type": "contourcarpet"
           }
          ],
          "heatmap": [
           {
            "colorbar": {
             "outlinewidth": 0,
             "ticks": ""
            },
            "colorscale": [
             [
              0,
              "#0d0887"
             ],
             [
              0.1111111111111111,
              "#46039f"
             ],
             [
              0.2222222222222222,
              "#7201a8"
             ],
             [
              0.3333333333333333,
              "#9c179e"
             ],
             [
              0.4444444444444444,
              "#bd3786"
             ],
             [
              0.5555555555555556,
              "#d8576b"
             ],
             [
              0.6666666666666666,
              "#ed7953"
             ],
             [
              0.7777777777777778,
              "#fb9f3a"
             ],
             [
              0.8888888888888888,
              "#fdca26"
             ],
             [
              1,
              "#f0f921"
             ]
            ],
            "type": "heatmap"
           }
          ],
          "heatmapgl": [
           {
            "colorbar": {
             "outlinewidth": 0,
             "ticks": ""
            },
            "colorscale": [
             [
              0,
              "#0d0887"
             ],
             [
              0.1111111111111111,
              "#46039f"
             ],
             [
              0.2222222222222222,
              "#7201a8"
             ],
             [
              0.3333333333333333,
              "#9c179e"
             ],
             [
              0.4444444444444444,
              "#bd3786"
             ],
             [
              0.5555555555555556,
              "#d8576b"
             ],
             [
              0.6666666666666666,
              "#ed7953"
             ],
             [
              0.7777777777777778,
              "#fb9f3a"
             ],
             [
              0.8888888888888888,
              "#fdca26"
             ],
             [
              1,
              "#f0f921"
             ]
            ],
            "type": "heatmapgl"
           }
          ],
          "histogram": [
           {
            "marker": {
             "pattern": {
              "fillmode": "overlay",
              "size": 10,
              "solidity": 0.2
             }
            },
            "type": "histogram"
           }
          ],
          "histogram2d": [
           {
            "colorbar": {
             "outlinewidth": 0,
             "ticks": ""
            },
            "colorscale": [
             [
              0,
              "#0d0887"
             ],
             [
              0.1111111111111111,
              "#46039f"
             ],
             [
              0.2222222222222222,
              "#7201a8"
             ],
             [
              0.3333333333333333,
              "#9c179e"
             ],
             [
              0.4444444444444444,
              "#bd3786"
             ],
             [
              0.5555555555555556,
              "#d8576b"
             ],
             [
              0.6666666666666666,
              "#ed7953"
             ],
             [
              0.7777777777777778,
              "#fb9f3a"
             ],
             [
              0.8888888888888888,
              "#fdca26"
             ],
             [
              1,
              "#f0f921"
             ]
            ],
            "type": "histogram2d"
           }
          ],
          "histogram2dcontour": [
           {
            "colorbar": {
             "outlinewidth": 0,
             "ticks": ""
            },
            "colorscale": [
             [
              0,
              "#0d0887"
             ],
             [
              0.1111111111111111,
              "#46039f"
             ],
             [
              0.2222222222222222,
              "#7201a8"
             ],
             [
              0.3333333333333333,
              "#9c179e"
             ],
             [
              0.4444444444444444,
              "#bd3786"
             ],
             [
              0.5555555555555556,
              "#d8576b"
             ],
             [
              0.6666666666666666,
              "#ed7953"
             ],
             [
              0.7777777777777778,
              "#fb9f3a"
             ],
             [
              0.8888888888888888,
              "#fdca26"
             ],
             [
              1,
              "#f0f921"
             ]
            ],
            "type": "histogram2dcontour"
           }
          ],
          "mesh3d": [
           {
            "colorbar": {
             "outlinewidth": 0,
             "ticks": ""
            },
            "type": "mesh3d"
           }
          ],
          "parcoords": [
           {
            "line": {
             "colorbar": {
              "outlinewidth": 0,
              "ticks": ""
             }
            },
            "type": "parcoords"
           }
          ],
          "pie": [
           {
            "automargin": true,
            "type": "pie"
           }
          ],
          "scatter": [
           {
            "fillpattern": {
             "fillmode": "overlay",
             "size": 10,
             "solidity": 0.2
            },
            "type": "scatter"
           }
          ],
          "scatter3d": [
           {
            "line": {
             "colorbar": {
              "outlinewidth": 0,
              "ticks": ""
             }
            },
            "marker": {
             "colorbar": {
              "outlinewidth": 0,
              "ticks": ""
             }
            },
            "type": "scatter3d"
           }
          ],
          "scattercarpet": [
           {
            "marker": {
             "colorbar": {
              "outlinewidth": 0,
              "ticks": ""
             }
            },
            "type": "scattercarpet"
           }
          ],
          "scattergeo": [
           {
            "marker": {
             "colorbar": {
              "outlinewidth": 0,
              "ticks": ""
             }
            },
            "type": "scattergeo"
           }
          ],
          "scattergl": [
           {
            "marker": {
             "colorbar": {
              "outlinewidth": 0,
              "ticks": ""
             }
            },
            "type": "scattergl"
           }
          ],
          "scattermapbox": [
           {
            "marker": {
             "colorbar": {
              "outlinewidth": 0,
              "ticks": ""
             }
            },
            "type": "scattermapbox"
           }
          ],
          "scatterpolar": [
           {
            "marker": {
             "colorbar": {
              "outlinewidth": 0,
              "ticks": ""
             }
            },
            "type": "scatterpolar"
           }
          ],
          "scatterpolargl": [
           {
            "marker": {
             "colorbar": {
              "outlinewidth": 0,
              "ticks": ""
             }
            },
            "type": "scatterpolargl"
           }
          ],
          "scatterternary": [
           {
            "marker": {
             "colorbar": {
              "outlinewidth": 0,
              "ticks": ""
             }
            },
            "type": "scatterternary"
           }
          ],
          "surface": [
           {
            "colorbar": {
             "outlinewidth": 0,
             "ticks": ""
            },
            "colorscale": [
             [
              0,
              "#0d0887"
             ],
             [
              0.1111111111111111,
              "#46039f"
             ],
             [
              0.2222222222222222,
              "#7201a8"
             ],
             [
              0.3333333333333333,
              "#9c179e"
             ],
             [
              0.4444444444444444,
              "#bd3786"
             ],
             [
              0.5555555555555556,
              "#d8576b"
             ],
             [
              0.6666666666666666,
              "#ed7953"
             ],
             [
              0.7777777777777778,
              "#fb9f3a"
             ],
             [
              0.8888888888888888,
              "#fdca26"
             ],
             [
              1,
              "#f0f921"
             ]
            ],
            "type": "surface"
           }
          ],
          "table": [
           {
            "cells": {
             "fill": {
              "color": "#EBF0F8"
             },
             "line": {
              "color": "white"
             }
            },
            "header": {
             "fill": {
              "color": "#C8D4E3"
             },
             "line": {
              "color": "white"
             }
            },
            "type": "table"
           }
          ]
         },
         "layout": {
          "annotationdefaults": {
           "arrowcolor": "#2a3f5f",
           "arrowhead": 0,
           "arrowwidth": 1
          },
          "autotypenumbers": "strict",
          "coloraxis": {
           "colorbar": {
            "outlinewidth": 0,
            "ticks": ""
           }
          },
          "colorscale": {
           "diverging": [
            [
             0,
             "#8e0152"
            ],
            [
             0.1,
             "#c51b7d"
            ],
            [
             0.2,
             "#de77ae"
            ],
            [
             0.3,
             "#f1b6da"
            ],
            [
             0.4,
             "#fde0ef"
            ],
            [
             0.5,
             "#f7f7f7"
            ],
            [
             0.6,
             "#e6f5d0"
            ],
            [
             0.7,
             "#b8e186"
            ],
            [
             0.8,
             "#7fbc41"
            ],
            [
             0.9,
             "#4d9221"
            ],
            [
             1,
             "#276419"
            ]
           ],
           "sequential": [
            [
             0,
             "#0d0887"
            ],
            [
             0.1111111111111111,
             "#46039f"
            ],
            [
             0.2222222222222222,
             "#7201a8"
            ],
            [
             0.3333333333333333,
             "#9c179e"
            ],
            [
             0.4444444444444444,
             "#bd3786"
            ],
            [
             0.5555555555555556,
             "#d8576b"
            ],
            [
             0.6666666666666666,
             "#ed7953"
            ],
            [
             0.7777777777777778,
             "#fb9f3a"
            ],
            [
             0.8888888888888888,
             "#fdca26"
            ],
            [
             1,
             "#f0f921"
            ]
           ],
           "sequentialminus": [
            [
             0,
             "#0d0887"
            ],
            [
             0.1111111111111111,
             "#46039f"
            ],
            [
             0.2222222222222222,
             "#7201a8"
            ],
            [
             0.3333333333333333,
             "#9c179e"
            ],
            [
             0.4444444444444444,
             "#bd3786"
            ],
            [
             0.5555555555555556,
             "#d8576b"
            ],
            [
             0.6666666666666666,
             "#ed7953"
            ],
            [
             0.7777777777777778,
             "#fb9f3a"
            ],
            [
             0.8888888888888888,
             "#fdca26"
            ],
            [
             1,
             "#f0f921"
            ]
           ]
          },
          "colorway": [
           "#636efa",
           "#EF553B",
           "#00cc96",
           "#ab63fa",
           "#FFA15A",
           "#19d3f3",
           "#FF6692",
           "#B6E880",
           "#FF97FF",
           "#FECB52"
          ],
          "font": {
           "color": "#2a3f5f"
          },
          "geo": {
           "bgcolor": "white",
           "lakecolor": "white",
           "landcolor": "#E5ECF6",
           "showlakes": true,
           "showland": true,
           "subunitcolor": "white"
          },
          "hoverlabel": {
           "align": "left"
          },
          "hovermode": "closest",
          "mapbox": {
           "style": "light"
          },
          "paper_bgcolor": "white",
          "plot_bgcolor": "#E5ECF6",
          "polar": {
           "angularaxis": {
            "gridcolor": "white",
            "linecolor": "white",
            "ticks": ""
           },
           "bgcolor": "#E5ECF6",
           "radialaxis": {
            "gridcolor": "white",
            "linecolor": "white",
            "ticks": ""
           }
          },
          "scene": {
           "xaxis": {
            "backgroundcolor": "#E5ECF6",
            "gridcolor": "white",
            "gridwidth": 2,
            "linecolor": "white",
            "showbackground": true,
            "ticks": "",
            "zerolinecolor": "white"
           },
           "yaxis": {
            "backgroundcolor": "#E5ECF6",
            "gridcolor": "white",
            "gridwidth": 2,
            "linecolor": "white",
            "showbackground": true,
            "ticks": "",
            "zerolinecolor": "white"
           },
           "zaxis": {
            "backgroundcolor": "#E5ECF6",
            "gridcolor": "white",
            "gridwidth": 2,
            "linecolor": "white",
            "showbackground": true,
            "ticks": "",
            "zerolinecolor": "white"
           }
          },
          "shapedefaults": {
           "line": {
            "color": "#2a3f5f"
           }
          },
          "ternary": {
           "aaxis": {
            "gridcolor": "white",
            "linecolor": "white",
            "ticks": ""
           },
           "baxis": {
            "gridcolor": "white",
            "linecolor": "white",
            "ticks": ""
           },
           "bgcolor": "#E5ECF6",
           "caxis": {
            "gridcolor": "white",
            "linecolor": "white",
            "ticks": ""
           }
          },
          "title": {
           "x": 0.05
          },
          "xaxis": {
           "automargin": true,
           "gridcolor": "white",
           "linecolor": "white",
           "ticks": "",
           "title": {
            "standoff": 15
           },
           "zerolinecolor": "white",
           "zerolinewidth": 2
          },
          "yaxis": {
           "automargin": true,
           "gridcolor": "white",
           "linecolor": "white",
           "ticks": "",
           "title": {
            "standoff": 15
           },
           "zerolinecolor": "white",
           "zerolinewidth": 2
          }
         }
        },
        "title": {
         "text": "alpha = 3.2142892857142864, Rsquared = -0.030412960546965205"
        },
        "xaxis": {
         "anchor": "y",
         "domain": [
          0,
          1
         ],
         "title": {
          "text": "Feature number"
         }
        },
        "yaxis": {
         "anchor": "x",
         "domain": [
          0,
          1
         ],
         "title": {
          "text": "Coefficient value"
         }
        }
       }
      },
      "text/html": [
       "<div>                            <div id=\"97fbe8c3-0460-47d7-a761-c6e628b22560\" class=\"plotly-graph-div\" style=\"height:525px; width:100%;\"></div>            <script type=\"text/javascript\">                require([\"plotly\"], function(Plotly) {                    window.PLOTLYENV=window.PLOTLYENV || {};                                    if (document.getElementById(\"97fbe8c3-0460-47d7-a761-c6e628b22560\")) {                    Plotly.newPlot(                        \"97fbe8c3-0460-47d7-a761-c6e628b22560\",                        [{\"error_y\":{\"array\":[0.29441416428182626,0.10698630942259187,0.09125892029426648,0.0920097773609506,0.25136010718101404,0.07465872869934584,0.07773364104348064,0.10175333801854297,0.09230610919006012,0.0820073084272867,0.08504988464767357,0.072994535765697,0.07248655721904682,0.10521357342377076,0.08241573818372368,0.1020409482927317,0.13342301635255768,0.06786881602322214,0.1367600530504836,0.10450954127394049,0.10631059702337012,0.21046891625313693,0.09189456387054981,0.08383034843816514,0.08887165210157934,0.4000336093557148,0.09689458591883598,0.07576069853028437,0.10236030097449146,0.08861955098377597,0.07007453759790663,0.0850406451106783,0.07909639954449763,0.07615174850209973,0.07310608037449567,0.08084413623593455,0.15172529693851497,0.0998073925579376,0.08103498655542044,0.07928636638387034,0.06837234798637083,0.07599911447939452,0.07182748262897627,0.07622151332472227,0.07294687944247308,0.07733685557943401,0.05316459003077281,0.06769985403738864,0.045506515231269785,0.07453712784613228,0.0840865642042374,0.060785920726780567,0.0970368499986215,0.061189812437279466,0.06458450917549212,0.07206525460788678,0.06946588797643877,0.08545780836479071,0.0685445774929023,0.1247109512175236,0.07252246354943721,0.08588756207906412,0.06221175143178091,0.0678494982272125,0.07890730907034474,0.09761860435738814,0.0916054087722575,0.05962084168118216,0.07560415785959812,0.08054920686756452,0.07220090167666958,0.07068553179225012,0.10011384864710153,0.07179299836907135,0.07572790201151293,0.057985162311105024,0.07187724545933924,0.05298062746217643,0.05414141680287032,0.10446086914074527,0.07039112731529365,0.07960705942945956,0.06721337393875164,0.07326493597651204,0.07259686337231307,0.07981919267776934,0.05821912402185896,0.07948323473939391,0.0732828168887942,0.07700517454206933,0.06877500993865639,0.07198587785704644,0.06014337436452267,0.08759654163583051,0.06923474608423359,0.07316654122733685,0.06236726791641677,0.0734380641344299,0.060022226969566515,0.05983553127251891,0.05917189908587722,0.06821051668322015,0.05463943955786934,0.10705859068777712,0.08623570984922249,0.07982671027061765,0.0531348433956866,0.07798386300721198,0.06373134528787551,0.057452718716874324,0.08521370890689452,0.07398673791377235,0.04712809708536606,0.05201799005271918,0.08713931429693114,0.07119639360560877,0.07690529044869657,0.07846291362417473,0.09253015136941176,0.046906298882288776,0.061988285532759486,0.08016355934138605,0.06795283178833056,0.058190807710991076,0.06785095423881977,0.07129201376564175,0.061447147678465326,0.05023499646743805,0.06506041418242782,0.07110264585638752,0.06763843546671838,0.052731436645889807,0.07112599584623046,0.06627409844332459,0.05559035071916194,0.05331112439052682,0.07089036940243842,0.06301775727778715,0.05877799472236649,0.08938880966505908,0.06344333124806113,0.07064577462695806,0.0951496664978137,0.06413855160791188,0.07547900201256691,0.06344774172332934,0.06820359934053351,0.06250372205736725,0.06210626729360397,0.07497708020656763,0.07029345562493522,0.05231674599831559,0.07291861330367524,0.05688260576491871,0.05787648496126574,0.10573621648450865,0.10621926614253577,0.06943850430846067,0.05129359073961228,0.04278433588603443,0.07469177685566156,0.0774553178469829,0.09516416784298641,0.0473180375507979,0.09458359635641339,0.0636803810625428,0.06452899712388706,0.058317270859454456,0.09320832982935066,0.07615061668991098,0.08266414225197394,0.07360163549457686,0.05838658371011459,0.05958829624059818,0.0566617851984841,0.04956606759820029,0.05283613089611034,0.05059442341129463,0.056471566205336034,0.06349519263423153,0.07387193898320424,0.06258697239076451,0.07558001773344172,0.05758150761790977,0.04713969717043028,0.06058495153654088,0.04920168904844508,0.061426410807483,0.06161581638277546,0.06652938366869793,0.053075464030893346,0.055379148993854085,0.06179207121811707,0.04736209050791548,0.05345766174555163,0.07045837103551254,0.08767626798161428,0.05034114645925891,0.08825420107182094,0.05690310729948686,0.051767434493704176,0.0579570116448894,0.05752832701942374,0.061997185504884256,0.062407498108736324,0.04750835046394056,0.06658076330616777,0.05544968357972709,0.0591937935524492,0.06144362431965243,0.0654754128121842,0.08664816106757484,0.056564622531060746,0.056032886955576525,0.06298241802797452,0.047868421905694875,0.07726566656089098,0.043583372084982405,0.049646774482563695,0.07636530929571288,0.04897932407041196,0.055904729007191636,0.046272446234058275,0.04511057078738803,0.04958075279293467,0.043063764526625435,0.046973389877468776,0.06798301336229019,0.04623034145357747,0.05063293113153291,0.057617447249306696,0.044747126654796,0.04910691827610738,0.0294910790426628,0.07202324403250257,0.06268636382643285,0.051691617715976294,0.05348583711709495,0.05636211762096442]},\"hovertemplate\":\"x=%{x}<br>y=%{y}<extra></extra>\",\"legendgroup\":\"\",\"marker\":{\"color\":\"#636efa\",\"symbol\":\"circle\"},\"mode\":\"markers\",\"name\":\"\",\"orientation\":\"v\",\"showlegend\":false,\"x\":[0,1,2,3,4,5,6,7,8,9,10,11,12,13,14,15,16,17,18,19,20,21,22,23,24,25,26,27,28,29,30,31,32,33,34,35,36,37,38,39,40,41,42,43,44,45,46,47,48,49,50,51,52,53,54,55,56,57,58,59,60,61,62,63,64,65,66,67,68,69,70,71,72,73,74,75,76,77,78,79,80,81,82,83,84,85,86,87,88,89,90,91,92,93,94,95,96,97,98,99,100,101,102,103,104,105,106,107,108,109,110,111,112,113,114,115,116,117,118,119,120,121,122,123,124,125,126,127,128,129,130,131,132,133,134,135,136,137,138,139,140,141,142,143,144,145,146,147,148,149,150,151,152,153,154,155,156,157,158,159,160,161,162,163,164,165,166,167,168,169,170,171,172,173,174,175,176,177,178,179,180,181,182,183,184,185,186,187,188,189,190,191,192,193,194,195,196,197,198,199,200,201,202,203,204,205,206,207,208,209,210,211,212,213,214,215,216,217,218,219,220,221,222,223,224,225,226,227,228,229,230,231,232,233,234,235,236,237,238],\"xaxis\":\"x\",\"y\":[-2.603590534090908,-0.019673306340188556,0.00933829026870476,-0.016064210007279343,0.08280010304894476,-0.013871770292595568,0.005402480198062475,0.023059460640144854,0.02110209640411931,0.010969133929745245,0.01423044891237014,0.004089596601565644,0.009841907475471796,0.025796159832867992,0.0075471839600246525,0.017462426809069065,0.03713826479808758,-0.00156331567495818,0.037312210937975286,0.017407848357871725,-0.0197060088912943,0.07515677850451741,0.01792458530436757,-0.013540290084285386,0.004094775465515368,0.30296463024515513,-0.017879051208486145,0.008713000911917332,0.01896004036112031,0.014529781370964546,0.0024777250199465085,-0.009969401764171843,-0.01619130295352361,-0.015230964259039128,0.0015291290843559159,-0.014386316158133619,0.043186996018636,-0.00941901527430905,-0.00837869429798883,-0.01735657945377823,-0.014348315385115166,0.013369025270926317,0.007816108824211168,0.00612984967655338,0.008373623834579711,0.010410269500127783,-0.0037122146362465963,-0.011854267970453585,0.003396281831287849,0.0002027088891635219,-0.009799192651461697,-0.000805075395192766,0.020852351401808668,-0.00492876536505063,0.005995988871624488,0.005482845922277563,0.009424763463381247,0.016042329236509466,-0.013710941110167732,-0.03232723779334686,0.0038966847440285797,-0.015067871426000475,0.007804786422121807,-0.00942072732958579,0.018686586377518844,-0.020509249497059793,0.012945316591938726,-0.006061523825174894,0.008848110441215912,-0.009633544709176082,0.005219931079022831,0.014928075854208378,0.02688907583826697,-0.006408163590389012,-0.01829032886327476,0.0026688524615994897,-0.010295374658869288,-0.0069016799320924735,-0.00791900254403254,0.029056191378151318,-0.0043102288023968965,-0.014047870727911138,-0.009591969834065949,0.013401577297194983,-0.003711391064186769,0.01868116640122357,-0.0004842709627412335,0.015290450603673327,0.013910184134854054,-0.013260145229394985,-0.003382066019189454,0.015362705933772747,0.00826969121982073,-0.003811447313647658,-0.011091957988781887,0.007020416274331569,0.003758916670159843,0.0008331441329846507,0.0010247694866318082,0.0019467108192686951,0.0002679579299833217,0.008302887276597478,-0.005047413497508627,-0.02603881506414713,-0.02109339642724053,-0.01425253143406253,-0.0036665826237762098,0.00878601545319392,0.004772721932839369,-0.007809438967758374,-0.022662869077734925,-0.01529401119166509,-0.0010664318458173557,0.0033038651929158313,0.023483831605323306,0.0118210969861401,0.013140728106944857,-0.003078553633580497,-0.024015722254263606,-0.00402222051450733,-0.0025313474453903615,0.016783162626255427,-0.008565910319872095,-0.004825777375214706,-0.004590948988148521,-0.009450589852036551,0.006281816671622417,-0.003702087330704618,-0.012558508664118541,-0.012468545779867496,0.007784756204588976,-0.0021603902815788816,0.015192760379276832,-0.008863228151196115,-0.0034691769666830917,-0.0014296088464887517,0.008011676684341882,-0.01034186345863111,0.002081965486651435,0.015558718315222125,-0.004826182790302475,0.004694460453448002,0.025150963357693616,0.00019699592773517101,0.014146068642412263,-0.006869653808084614,0.012294752807799226,-0.014887028860190795,-0.00810377153259399,-0.015425398570690061,0.01326496544838041,0.0024264647066423164,-0.009718397825823002,-0.005290007399552859,-0.0048194479714949775,-0.02883756376647056,0.029932585887194087,-0.009069824042569188,-0.0014763059562009394,-0.004349320874620771,-0.013261474876863253,0.018024259837888128,0.026866399498286217,0.0014039630350615709,0.02356263033290237,0.006248456025172002,0.0059535258056741015,-0.006000890269480859,-0.021880851030079855,0.018357479995590415,-0.018171135184696218,0.015762784218981658,0.0030022014705352153,0.00046809488789765574,0.009007454492418703,0.006128772807365805,-0.007150414183659353,-0.00021599036982431223,0.006865816564020322,0.0027503366152258875,0.0021125549722355425,-0.013534259956955518,0.016972539241894253,-0.001785319000636895,0.0037866977619639996,-0.0072890657576877215,0.0026134192421508407,0.006055925676175816,-0.013521545923388572,-0.014703454194555753,0.005257295945402034,0.011498099789811842,0.007742771419140936,0.006832806884640355,-0.008095098531624345,0.015235956882571273,0.02244071524574783,-0.0021256716495750548,-0.021975298558418878,-0.00471007173709865,0.0012521928100476891,0.008601969799016984,-0.0023331255138272586,0.010542735798998242,-0.006813504951121658,0.0012975752747548797,-0.013639000960132404,0.009248877083209095,0.008187836496068778,0.010755749341243471,-0.01125072527877031,-0.022217451659051424,0.0018336921420180833,0.0007212210067232875,0.01124700074458403,-0.000801356168772617,0.021007727268976886,-0.0044330004918903,-0.00012032100385099793,0.009098959737593892,-0.0004957301553395925,0.004320519455453947,-0.00031508192767843704,0.0003665066187299521,0.004265368504397351,-0.005355837510275588,0.003953482158502683,0.013225857474418694,0.0022984111589700925,-0.006455987415872572,0.0024784258218882556,0.005780564445948941,-0.0033276272560117865,-0.0012647070228584696,-0.016519159858075158,0.007881581558681242,0.011091522361029485,0.010356882607427037,0.00951598821694231],\"yaxis\":\"y\",\"type\":\"scatter\"}],                        {\"template\":{\"data\":{\"histogram2dcontour\":[{\"type\":\"histogram2dcontour\",\"colorbar\":{\"outlinewidth\":0,\"ticks\":\"\"},\"colorscale\":[[0.0,\"#0d0887\"],[0.1111111111111111,\"#46039f\"],[0.2222222222222222,\"#7201a8\"],[0.3333333333333333,\"#9c179e\"],[0.4444444444444444,\"#bd3786\"],[0.5555555555555556,\"#d8576b\"],[0.6666666666666666,\"#ed7953\"],[0.7777777777777778,\"#fb9f3a\"],[0.8888888888888888,\"#fdca26\"],[1.0,\"#f0f921\"]]}],\"choropleth\":[{\"type\":\"choropleth\",\"colorbar\":{\"outlinewidth\":0,\"ticks\":\"\"}}],\"histogram2d\":[{\"type\":\"histogram2d\",\"colorbar\":{\"outlinewidth\":0,\"ticks\":\"\"},\"colorscale\":[[0.0,\"#0d0887\"],[0.1111111111111111,\"#46039f\"],[0.2222222222222222,\"#7201a8\"],[0.3333333333333333,\"#9c179e\"],[0.4444444444444444,\"#bd3786\"],[0.5555555555555556,\"#d8576b\"],[0.6666666666666666,\"#ed7953\"],[0.7777777777777778,\"#fb9f3a\"],[0.8888888888888888,\"#fdca26\"],[1.0,\"#f0f921\"]]}],\"heatmap\":[{\"type\":\"heatmap\",\"colorbar\":{\"outlinewidth\":0,\"ticks\":\"\"},\"colorscale\":[[0.0,\"#0d0887\"],[0.1111111111111111,\"#46039f\"],[0.2222222222222222,\"#7201a8\"],[0.3333333333333333,\"#9c179e\"],[0.4444444444444444,\"#bd3786\"],[0.5555555555555556,\"#d8576b\"],[0.6666666666666666,\"#ed7953\"],[0.7777777777777778,\"#fb9f3a\"],[0.8888888888888888,\"#fdca26\"],[1.0,\"#f0f921\"]]}],\"heatmapgl\":[{\"type\":\"heatmapgl\",\"colorbar\":{\"outlinewidth\":0,\"ticks\":\"\"},\"colorscale\":[[0.0,\"#0d0887\"],[0.1111111111111111,\"#46039f\"],[0.2222222222222222,\"#7201a8\"],[0.3333333333333333,\"#9c179e\"],[0.4444444444444444,\"#bd3786\"],[0.5555555555555556,\"#d8576b\"],[0.6666666666666666,\"#ed7953\"],[0.7777777777777778,\"#fb9f3a\"],[0.8888888888888888,\"#fdca26\"],[1.0,\"#f0f921\"]]}],\"contourcarpet\":[{\"type\":\"contourcarpet\",\"colorbar\":{\"outlinewidth\":0,\"ticks\":\"\"}}],\"contour\":[{\"type\":\"contour\",\"colorbar\":{\"outlinewidth\":0,\"ticks\":\"\"},\"colorscale\":[[0.0,\"#0d0887\"],[0.1111111111111111,\"#46039f\"],[0.2222222222222222,\"#7201a8\"],[0.3333333333333333,\"#9c179e\"],[0.4444444444444444,\"#bd3786\"],[0.5555555555555556,\"#d8576b\"],[0.6666666666666666,\"#ed7953\"],[0.7777777777777778,\"#fb9f3a\"],[0.8888888888888888,\"#fdca26\"],[1.0,\"#f0f921\"]]}],\"surface\":[{\"type\":\"surface\",\"colorbar\":{\"outlinewidth\":0,\"ticks\":\"\"},\"colorscale\":[[0.0,\"#0d0887\"],[0.1111111111111111,\"#46039f\"],[0.2222222222222222,\"#7201a8\"],[0.3333333333333333,\"#9c179e\"],[0.4444444444444444,\"#bd3786\"],[0.5555555555555556,\"#d8576b\"],[0.6666666666666666,\"#ed7953\"],[0.7777777777777778,\"#fb9f3a\"],[0.8888888888888888,\"#fdca26\"],[1.0,\"#f0f921\"]]}],\"mesh3d\":[{\"type\":\"mesh3d\",\"colorbar\":{\"outlinewidth\":0,\"ticks\":\"\"}}],\"scatter\":[{\"fillpattern\":{\"fillmode\":\"overlay\",\"size\":10,\"solidity\":0.2},\"type\":\"scatter\"}],\"parcoords\":[{\"type\":\"parcoords\",\"line\":{\"colorbar\":{\"outlinewidth\":0,\"ticks\":\"\"}}}],\"scatterpolargl\":[{\"type\":\"scatterpolargl\",\"marker\":{\"colorbar\":{\"outlinewidth\":0,\"ticks\":\"\"}}}],\"bar\":[{\"error_x\":{\"color\":\"#2a3f5f\"},\"error_y\":{\"color\":\"#2a3f5f\"},\"marker\":{\"line\":{\"color\":\"#E5ECF6\",\"width\":0.5},\"pattern\":{\"fillmode\":\"overlay\",\"size\":10,\"solidity\":0.2}},\"type\":\"bar\"}],\"scattergeo\":[{\"type\":\"scattergeo\",\"marker\":{\"colorbar\":{\"outlinewidth\":0,\"ticks\":\"\"}}}],\"scatterpolar\":[{\"type\":\"scatterpolar\",\"marker\":{\"colorbar\":{\"outlinewidth\":0,\"ticks\":\"\"}}}],\"histogram\":[{\"marker\":{\"pattern\":{\"fillmode\":\"overlay\",\"size\":10,\"solidity\":0.2}},\"type\":\"histogram\"}],\"scattergl\":[{\"type\":\"scattergl\",\"marker\":{\"colorbar\":{\"outlinewidth\":0,\"ticks\":\"\"}}}],\"scatter3d\":[{\"type\":\"scatter3d\",\"line\":{\"colorbar\":{\"outlinewidth\":0,\"ticks\":\"\"}},\"marker\":{\"colorbar\":{\"outlinewidth\":0,\"ticks\":\"\"}}}],\"scattermapbox\":[{\"type\":\"scattermapbox\",\"marker\":{\"colorbar\":{\"outlinewidth\":0,\"ticks\":\"\"}}}],\"scatterternary\":[{\"type\":\"scatterternary\",\"marker\":{\"colorbar\":{\"outlinewidth\":0,\"ticks\":\"\"}}}],\"scattercarpet\":[{\"type\":\"scattercarpet\",\"marker\":{\"colorbar\":{\"outlinewidth\":0,\"ticks\":\"\"}}}],\"carpet\":[{\"aaxis\":{\"endlinecolor\":\"#2a3f5f\",\"gridcolor\":\"white\",\"linecolor\":\"white\",\"minorgridcolor\":\"white\",\"startlinecolor\":\"#2a3f5f\"},\"baxis\":{\"endlinecolor\":\"#2a3f5f\",\"gridcolor\":\"white\",\"linecolor\":\"white\",\"minorgridcolor\":\"white\",\"startlinecolor\":\"#2a3f5f\"},\"type\":\"carpet\"}],\"table\":[{\"cells\":{\"fill\":{\"color\":\"#EBF0F8\"},\"line\":{\"color\":\"white\"}},\"header\":{\"fill\":{\"color\":\"#C8D4E3\"},\"line\":{\"color\":\"white\"}},\"type\":\"table\"}],\"barpolar\":[{\"marker\":{\"line\":{\"color\":\"#E5ECF6\",\"width\":0.5},\"pattern\":{\"fillmode\":\"overlay\",\"size\":10,\"solidity\":0.2}},\"type\":\"barpolar\"}],\"pie\":[{\"automargin\":true,\"type\":\"pie\"}]},\"layout\":{\"autotypenumbers\":\"strict\",\"colorway\":[\"#636efa\",\"#EF553B\",\"#00cc96\",\"#ab63fa\",\"#FFA15A\",\"#19d3f3\",\"#FF6692\",\"#B6E880\",\"#FF97FF\",\"#FECB52\"],\"font\":{\"color\":\"#2a3f5f\"},\"hovermode\":\"closest\",\"hoverlabel\":{\"align\":\"left\"},\"paper_bgcolor\":\"white\",\"plot_bgcolor\":\"#E5ECF6\",\"polar\":{\"bgcolor\":\"#E5ECF6\",\"angularaxis\":{\"gridcolor\":\"white\",\"linecolor\":\"white\",\"ticks\":\"\"},\"radialaxis\":{\"gridcolor\":\"white\",\"linecolor\":\"white\",\"ticks\":\"\"}},\"ternary\":{\"bgcolor\":\"#E5ECF6\",\"aaxis\":{\"gridcolor\":\"white\",\"linecolor\":\"white\",\"ticks\":\"\"},\"baxis\":{\"gridcolor\":\"white\",\"linecolor\":\"white\",\"ticks\":\"\"},\"caxis\":{\"gridcolor\":\"white\",\"linecolor\":\"white\",\"ticks\":\"\"}},\"coloraxis\":{\"colorbar\":{\"outlinewidth\":0,\"ticks\":\"\"}},\"colorscale\":{\"sequential\":[[0.0,\"#0d0887\"],[0.1111111111111111,\"#46039f\"],[0.2222222222222222,\"#7201a8\"],[0.3333333333333333,\"#9c179e\"],[0.4444444444444444,\"#bd3786\"],[0.5555555555555556,\"#d8576b\"],[0.6666666666666666,\"#ed7953\"],[0.7777777777777778,\"#fb9f3a\"],[0.8888888888888888,\"#fdca26\"],[1.0,\"#f0f921\"]],\"sequentialminus\":[[0.0,\"#0d0887\"],[0.1111111111111111,\"#46039f\"],[0.2222222222222222,\"#7201a8\"],[0.3333333333333333,\"#9c179e\"],[0.4444444444444444,\"#bd3786\"],[0.5555555555555556,\"#d8576b\"],[0.6666666666666666,\"#ed7953\"],[0.7777777777777778,\"#fb9f3a\"],[0.8888888888888888,\"#fdca26\"],[1.0,\"#f0f921\"]],\"diverging\":[[0,\"#8e0152\"],[0.1,\"#c51b7d\"],[0.2,\"#de77ae\"],[0.3,\"#f1b6da\"],[0.4,\"#fde0ef\"],[0.5,\"#f7f7f7\"],[0.6,\"#e6f5d0\"],[0.7,\"#b8e186\"],[0.8,\"#7fbc41\"],[0.9,\"#4d9221\"],[1,\"#276419\"]]},\"xaxis\":{\"gridcolor\":\"white\",\"linecolor\":\"white\",\"ticks\":\"\",\"title\":{\"standoff\":15},\"zerolinecolor\":\"white\",\"automargin\":true,\"zerolinewidth\":2},\"yaxis\":{\"gridcolor\":\"white\",\"linecolor\":\"white\",\"ticks\":\"\",\"title\":{\"standoff\":15},\"zerolinecolor\":\"white\",\"automargin\":true,\"zerolinewidth\":2},\"scene\":{\"xaxis\":{\"backgroundcolor\":\"#E5ECF6\",\"gridcolor\":\"white\",\"linecolor\":\"white\",\"showbackground\":true,\"ticks\":\"\",\"zerolinecolor\":\"white\",\"gridwidth\":2},\"yaxis\":{\"backgroundcolor\":\"#E5ECF6\",\"gridcolor\":\"white\",\"linecolor\":\"white\",\"showbackground\":true,\"ticks\":\"\",\"zerolinecolor\":\"white\",\"gridwidth\":2},\"zaxis\":{\"backgroundcolor\":\"#E5ECF6\",\"gridcolor\":\"white\",\"linecolor\":\"white\",\"showbackground\":true,\"ticks\":\"\",\"zerolinecolor\":\"white\",\"gridwidth\":2}},\"shapedefaults\":{\"line\":{\"color\":\"#2a3f5f\"}},\"annotationdefaults\":{\"arrowcolor\":\"#2a3f5f\",\"arrowhead\":0,\"arrowwidth\":1},\"geo\":{\"bgcolor\":\"white\",\"landcolor\":\"#E5ECF6\",\"subunitcolor\":\"white\",\"showland\":true,\"showlakes\":true,\"lakecolor\":\"white\"},\"title\":{\"x\":0.05},\"mapbox\":{\"style\":\"light\"}}},\"xaxis\":{\"anchor\":\"y\",\"domain\":[0.0,1.0],\"title\":{\"text\":\"Feature number\"}},\"yaxis\":{\"anchor\":\"x\",\"domain\":[0.0,1.0],\"title\":{\"text\":\"Coefficient value\"}},\"legend\":{\"tracegroupgap\":0},\"margin\":{\"t\":60},\"title\":{\"text\":\"alpha = 3.2142892857142864, Rsquared = -0.030412960546965205\"}},                        {\"responsive\": true}                    ).then(function(){\n",
       "                            \n",
       "var gd = document.getElementById('97fbe8c3-0460-47d7-a761-c6e628b22560');\n",
       "var x = new MutationObserver(function (mutations, observer) {{\n",
       "        var display = window.getComputedStyle(gd).display;\n",
       "        if (!display || display === 'none') {{\n",
       "            console.log([gd, 'removed!']);\n",
       "            Plotly.purge(gd);\n",
       "            observer.disconnect();\n",
       "        }}\n",
       "}});\n",
       "\n",
       "// Listen for the removal of the full notebook cells\n",
       "var notebookContainer = gd.closest('#notebook-container');\n",
       "if (notebookContainer) {{\n",
       "    x.observe(notebookContainer, {childList: true});\n",
       "}}\n",
       "\n",
       "// Listen for the clearing of the current output cell\n",
       "var outputEl = gd.closest('.output');\n",
       "if (outputEl) {{\n",
       "    x.observe(outputEl, {childList: true});\n",
       "}}\n",
       "\n",
       "                        })                };                });            </script>        </div>"
      ]
     },
     "metadata": {},
     "output_type": "display_data"
    },
    {
     "data": {
      "application/vnd.plotly.v1+json": {
       "config": {
        "plotlyServerURL": "https://plot.ly"
       },
       "data": [
        {
         "error_y": {
          "array": [
           0.2938600209514886,
           0.10216410936199798,
           0.08705336993737219,
           0.0878493494819421,
           0.24084163641695205,
           0.0712959200970821,
           0.07413238952671133,
           0.09724421778561722,
           0.08821924894635988,
           0.07825446249231338,
           0.08119500928192812,
           0.06960748841667601,
           0.06917111008689408,
           0.10059093916964441,
           0.07861027044215059,
           0.09742165437301346,
           0.12766108441354224,
           0.06471193768052562,
           0.1308360384234957,
           0.09977152394162425,
           0.10152136127477558,
           0.20183401927034275,
           0.08776942478453484,
           0.08002382907899035,
           0.0847439718258803,
           0.39123488980781473,
           0.09252823069595945,
           0.07227840700645163,
           0.09774880376005449,
           0.08459860867161272,
           0.06681724683107187,
           0.08113370940440418,
           0.0755589654919653,
           0.07273974840236352,
           0.06970529883735337,
           0.07719273083452347,
           0.14519617384115224,
           0.0952011309529215,
           0.07730136476001206,
           0.07576107380982575,
           0.06532084312617444,
           0.07256416382968375,
           0.06852166902615087,
           0.07269572331919309,
           0.06959376634503271,
           0.07379850569111028,
           0.050701680170105005,
           0.06463917413184835,
           0.043399743823487984,
           0.07106838680318533,
           0.08022286995547691,
           0.05795756348007975,
           0.09271500515695251,
           0.058359400395192884,
           0.06160303400436302,
           0.0687296005726886,
           0.06628852017975208,
           0.08161123496778747,
           0.06547344427079771,
           0.11926984655355008,
           0.0691565292831415,
           0.08200506297011234,
           0.059358998057283174,
           0.06474862301735956,
           0.0754267123816174,
           0.09326224484712142,
           0.087421578222762,
           0.05687294412711716,
           0.07213060044609963,
           0.07685057261200898,
           0.06885721236919745,
           0.06753250573359222,
           0.09576729371463574,
           0.06847672303052507,
           0.07239492397143538,
           0.05529200643450772,
           0.06859614553324521,
           0.05055399611856272,
           0.051671989749829096,
           0.09994918843617202,
           0.06712674389395804,
           0.07600971321848111,
           0.0641447355426664,
           0.06996153698546514,
           0.06922661595231239,
           0.07629386677210383,
           0.05550993131227076,
           0.0759116649158865,
           0.06998676202177695,
           0.07352044603474152,
           0.06558160665039024,
           0.06877778654282592,
           0.05739371641271927,
           0.08352721252162432,
           0.06608971003714932,
           0.06979074777740524,
           0.05947467454320887,
           0.07002085641539083,
           0.057229706199078134,
           0.05705368539849329,
           0.05641824470245652,
           0.06507996250335359,
           0.052116865094596745,
           0.10235046747626066,
           0.08244582772299654,
           0.07622198715948905,
           0.05067304957789679,
           0.07439758385635407,
           0.06078094183199812,
           0.05482500417708959,
           0.08150888187526138,
           0.0706804694619282,
           0.04493592330595981,
           0.0496063010073804,
           0.08335791167239329,
           0.06796810714226344,
           0.07342356424961322,
           0.074816687520046,
           0.08849376545825662,
           0.04473834663453971,
           0.0591079910247605,
           0.07658508651018112,
           0.0648372633192182,
           0.05550009995520381,
           0.06470680774207675,
           0.06802854113170725,
           0.05861538226223677,
           0.047909012438689155,
           0.0621376428473129,
           0.06788840707240486,
           0.06452953702922186,
           0.05028128794801596,
           0.06795647616855355,
           0.06324122399017658,
           0.05301270174687232,
           0.05083182415928529,
           0.06763054482390826,
           0.06015858463595823,
           0.056045814995282946,
           0.08534617206498253,
           0.06050675197530935,
           0.06737162151054918,
           0.09100931763163173,
           0.06115373570920055,
           0.07208121478492513,
           0.060527275028782614,
           0.06512556310862071,
           0.05974843378392806,
           0.05926181154480209,
           0.07162524777644774,
           0.06713057970348872,
           0.04988693726020895,
           0.06958128196799324,
           0.05425675370456349,
           0.05520045342439816,
           0.10115581113329336,
           0.10164100542185897,
           0.06625833887624588,
           0.048908361298921406,
           0.04081242109720866,
           0.0713177869763642,
           0.07403230411336177,
           0.09106360082210602,
           0.045117783932477125,
           0.09043596028575171,
           0.06074342698697155,
           0.06154978542403683,
           0.05563009142413883,
           0.08909299250217127,
           0.07279830492338589,
           0.07899008971772968,
           0.07032255882750768,
           0.05567611321008951,
           0.056815370585156205,
           0.05408691441101858,
           0.047292222802298764,
           0.05041919517697511,
           0.04823992990907466,
           0.05387969083612326,
           0.06054545366890487,
           0.07043674845546427,
           0.059801045097149806,
           0.07222771438435743,
           0.054904212290045745,
           0.044959118824696095,
           0.05780347894756163,
           0.04691798560627619,
           0.05859365437352541,
           0.05887683552812445,
           0.06357395600258044,
           0.050628033314865935,
           0.05290530904546957,
           0.05895846081408639,
           0.04520068294663481,
           0.05102297992449426,
           0.06732205619005319,
           0.08384459913993,
           0.04800228969668752,
           0.08438389148582699,
           0.054271878019464724,
           0.04935962481733113,
           0.055315146007176005,
           0.05485520834631448,
           0.059189645058450424,
           0.05953544528769831,
           0.04529897076478549,
           0.06360323866037706,
           0.05293601566345396,
           0.05648813070156988,
           0.05866573951175055,
           0.06251208500120634,
           0.0828623059478171,
           0.05393482765214948,
           0.05342566380090551,
           0.060138359626704316,
           0.04564133090031481,
           0.073917052084433,
           0.04157465160511999,
           0.04733635478365457,
           0.07285843636548361,
           0.046700170596912075,
           0.05331753690024184,
           0.044119139380377356,
           0.043011370677565046,
           0.04728929333081951,
           0.04108854675701481,
           0.04480178839365764,
           0.06493067789110064,
           0.044083853112920623,
           0.04831226820752144,
           0.05494070063763398,
           0.042697062538342975,
           0.046831380973912054,
           0.028120991039114918,
           0.06883547707075491,
           0.059812034524865575,
           0.04938905977774729,
           0.05108358691514051,
           0.053808756362648376
          ]
         },
         "hovertemplate": "x=%{x}<br>y=%{y}<extra></extra>",
         "legendgroup": "",
         "marker": {
          "color": "#636efa",
          "symbol": "circle"
         },
         "mode": "markers",
         "name": "",
         "orientation": "v",
         "showlegend": false,
         "type": "scatter",
         "x": [
          0,
          1,
          2,
          3,
          4,
          5,
          6,
          7,
          8,
          9,
          10,
          11,
          12,
          13,
          14,
          15,
          16,
          17,
          18,
          19,
          20,
          21,
          22,
          23,
          24,
          25,
          26,
          27,
          28,
          29,
          30,
          31,
          32,
          33,
          34,
          35,
          36,
          37,
          38,
          39,
          40,
          41,
          42,
          43,
          44,
          45,
          46,
          47,
          48,
          49,
          50,
          51,
          52,
          53,
          54,
          55,
          56,
          57,
          58,
          59,
          60,
          61,
          62,
          63,
          64,
          65,
          66,
          67,
          68,
          69,
          70,
          71,
          72,
          73,
          74,
          75,
          76,
          77,
          78,
          79,
          80,
          81,
          82,
          83,
          84,
          85,
          86,
          87,
          88,
          89,
          90,
          91,
          92,
          93,
          94,
          95,
          96,
          97,
          98,
          99,
          100,
          101,
          102,
          103,
          104,
          105,
          106,
          107,
          108,
          109,
          110,
          111,
          112,
          113,
          114,
          115,
          116,
          117,
          118,
          119,
          120,
          121,
          122,
          123,
          124,
          125,
          126,
          127,
          128,
          129,
          130,
          131,
          132,
          133,
          134,
          135,
          136,
          137,
          138,
          139,
          140,
          141,
          142,
          143,
          144,
          145,
          146,
          147,
          148,
          149,
          150,
          151,
          152,
          153,
          154,
          155,
          156,
          157,
          158,
          159,
          160,
          161,
          162,
          163,
          164,
          165,
          166,
          167,
          168,
          169,
          170,
          171,
          172,
          173,
          174,
          175,
          176,
          177,
          178,
          179,
          180,
          181,
          182,
          183,
          184,
          185,
          186,
          187,
          188,
          189,
          190,
          191,
          192,
          193,
          194,
          195,
          196,
          197,
          198,
          199,
          200,
          201,
          202,
          203,
          204,
          205,
          206,
          207,
          208,
          209,
          210,
          211,
          212,
          213,
          214,
          215,
          216,
          217,
          218,
          219,
          220,
          221,
          222,
          223,
          224,
          225,
          226,
          227,
          228,
          229,
          230,
          231,
          232,
          233,
          234,
          235,
          236,
          237,
          238
         ],
         "xaxis": "x",
         "y": [
          -2.6041883471074345,
          -0.017884823945625957,
          0.0084893547897316,
          -0.014603827279344856,
          0.07527282095358614,
          -0.01261070026599597,
          0.004911345634602249,
          0.020963146036495323,
          0.019183724003744827,
          0.009971939936132043,
          0.012936771738518309,
          0.003717815092332403,
          0.00894718861406527,
          0.023451054393516357,
          0.006861076327295139,
          0.01587493346279006,
          0.033762058907352344,
          -0.0014211960681438,
          0.03392019176179571,
          0.015825316688974297,
          -0.017914553537540272,
          0.06832434409501582,
          0.016295077549425063,
          -0.012309354622077624,
          0.0037225231504685163,
          0.2754223911319592,
          -0.016253682916805588,
          0.007920909919924848,
          0.017236400328291192,
          0.013208892155422314,
          0.002252477290860462,
          -0.009063092512883494,
          -0.014719366321385098,
          -0.013846331144581026,
          0.0013901173494144689,
          -0.013078469234666925,
          0.03926090547148727,
          -0.008562741158462773,
          -0.007616994816353482,
          -0.015778708594343847,
          -0.013043923077377423,
          0.012153659337205743,
          0.007105553476555608,
          0.005572590615048527,
          0.007612385304163374,
          0.00946388136375253,
          -0.0033747405784059965,
          -0.010776607245866897,
          0.003087528937534408,
          0.00018428080833047446,
          -0.008908356955874271,
          -0.0007318867229025146,
          0.018956683092553335,
          -0.004480695786409664,
          0.005450898974204079,
          0.004984405383888694,
          0.008567966784892042,
          0.014583935669554059,
          -0.012464491918334302,
          -0.029388397993951695,
          0.003542440676389618,
          -0.013698064932727703,
          0.007095260383747098,
          -0.008564297572350717,
          0.016987805797744403,
          -0.018644772270054358,
          0.011768469629035206,
          -0.005510476204704449,
          0.008043736764741738,
          -0.008757767917432801,
          0.004745391890020756,
          0.013570978049280345,
          0.024444614398424522,
          -0.005825603263990011,
          -0.016627571693886144,
          0.0024262295105449906,
          -0.009359431508062989,
          -0.00627425448372043,
          -0.007199093221847763,
          0.026414719434683015,
          -0.003918389820360815,
          -0.012770791570828307,
          -0.00871997257642359,
          0.012183252088359077,
          -0.0033739918765334264,
          0.016982878546566885,
          -0.0004402463297647577,
          0.013900409639703024,
          0.012645621940776413,
          -0.012054677481268167,
          -0.0030746054719904127,
          0.01396609630342977,
          0.0075179011089279366,
          -0.003464952103316053,
          -0.010083598171619898,
          0.0063821966130286996,
          0.0034171969728725845,
          0.0007574037572587734,
          0.0009316086242107346,
          0.0017697371084260864,
          0.00024359811816665613,
          0.007548079342361344,
          -0.004588557725007843,
          -0.02367165005831557,
          -0.019175814933855027,
          -0.012956846758238664,
          -0.003333256930705645,
          0.007987286775630837,
          0.004338838120763062,
          -0.00709948997068943,
          -0.020602608252486294,
          -0.013903646537877354,
          -0.000969483496197596,
          0.003003513811741665,
          0.021348937823021188,
          0.010746451805581909,
          0.011946116460858962,
          -0.0027986851214368154,
          -0.02183247477660328,
          -0.003656564104097573,
          -0.0023012249503548744,
          0.015257420569323115,
          -0.007787191199883723,
          -0.004387070341104278,
          -0.004173589989225929,
          -0.008591445320033229,
          0.0057107424287476515,
          -0.003365533937004198,
          -0.011416826058289583,
          -0.01133504161806136,
          0.007077051095080888,
          -0.0019639911650717106,
          0.013811600344797118,
          -0.008057480137451015,
          -0.003153797242439174,
          -0.001299644405898865,
          0.007283342440310802,
          -0.00940169405330101,
          0.00189269589695585,
          0.01414428937747466,
          -0.004387438900274977,
          0.0042676913213163655,
          0.022864512143357833,
          0.00017908720703197365,
          0.012860062402192967,
          -0.006245139825531467,
          0.011177048007090205,
          -0.013533662600173451,
          -0.0073670650296309,
          -0.014023089609718237,
          0.012059059498527643,
          0.0022058770060384694,
          -0.008834907114384548,
          -0.004809097635957145,
          -0.004381316337722706,
          -0.026215967060427784,
          0.027211441715630988,
          -0.008245294584153807,
          -0.001342096323819036,
          -0.003953928067837065,
          -0.012055886251693865,
          0.01638569076171648,
          0.02442399954389656,
          0.0012763300318741552,
          0.021420573029911245,
          0.005680414568338184,
          0.005412296186976456,
          -0.005455354790437144,
          -0.01989168275461805,
          0.016688618177809467,
          -0.016519213804269288,
          0.014329803835437872,
          0.002729274064122923,
          0.00042554080717968704,
          0.00818859499310791,
          0.005571611643059822,
          -0.006500376530599412,
          -0.00019635488165846567,
          0.006241651421836657,
          0.002500306013841716,
          0.0019205045202141293,
          -0.01230387268814138,
          0.015429581128994776,
          -0.0016230172733062683,
          0.0034424525108763633,
          -0.006626423416079747,
          0.002375835674682582,
          0.005505386978341651,
          -0.012292314475807793,
          -0.01336677654050523,
          0.004779359950365485,
          0.010452817990738038,
          0.007038883108309942,
          0.006211642622400323,
          -0.007359180483294859,
          0.013850869893246612,
          0.020400650223407115,
          -0.0019324287723409587,
          -0.01997754414401716,
          -0.004281883397362409,
          0.0011383571000433538,
          0.007819972544560894,
          -0.0021210231943884173,
          0.009584305271816584,
          -0.006194095410110598,
          0.0011796138861407996,
          -0.01239909178193855,
          0.008408070075644631,
          0.00744348772369889,
          0.009777953946584974,
          -0.010227932071609372,
          -0.020197683326410386,
          0.0016669928563800757,
          0.0006556554606575341,
          0.010224546131440027,
          -0.0007285056079751064,
          0.01909793388088808,
          -0.004030000447173,
          -0.00010938273077363448,
          0.008271781579630811,
          -0.0004506637775814477,
          0.003927744959503589,
          -0.0002864381160713064,
          0.00033318783520904736,
          0.003877607731270319,
          -0.004868943191159626,
          0.0035940746895478932,
          0.012023506794926087,
          0.0020894646899728116,
          -0.0058690794689750655,
          0.002253114383534778,
          0.00525505858722631,
          -0.0030251156872834425,
          -0.0011497336571440631,
          -0.015017418052795599,
          0.007165074144255675,
          0.010083202146390441,
          0.00941534782493367,
          0.008650898379038463
         ],
         "yaxis": "y"
        }
       ],
       "layout": {
        "legend": {
         "tracegroupgap": 0
        },
        "margin": {
         "t": 60
        },
        "template": {
         "data": {
          "bar": [
           {
            "error_x": {
             "color": "#2a3f5f"
            },
            "error_y": {
             "color": "#2a3f5f"
            },
            "marker": {
             "line": {
              "color": "#E5ECF6",
              "width": 0.5
             },
             "pattern": {
              "fillmode": "overlay",
              "size": 10,
              "solidity": 0.2
             }
            },
            "type": "bar"
           }
          ],
          "barpolar": [
           {
            "marker": {
             "line": {
              "color": "#E5ECF6",
              "width": 0.5
             },
             "pattern": {
              "fillmode": "overlay",
              "size": 10,
              "solidity": 0.2
             }
            },
            "type": "barpolar"
           }
          ],
          "carpet": [
           {
            "aaxis": {
             "endlinecolor": "#2a3f5f",
             "gridcolor": "white",
             "linecolor": "white",
             "minorgridcolor": "white",
             "startlinecolor": "#2a3f5f"
            },
            "baxis": {
             "endlinecolor": "#2a3f5f",
             "gridcolor": "white",
             "linecolor": "white",
             "minorgridcolor": "white",
             "startlinecolor": "#2a3f5f"
            },
            "type": "carpet"
           }
          ],
          "choropleth": [
           {
            "colorbar": {
             "outlinewidth": 0,
             "ticks": ""
            },
            "type": "choropleth"
           }
          ],
          "contour": [
           {
            "colorbar": {
             "outlinewidth": 0,
             "ticks": ""
            },
            "colorscale": [
             [
              0,
              "#0d0887"
             ],
             [
              0.1111111111111111,
              "#46039f"
             ],
             [
              0.2222222222222222,
              "#7201a8"
             ],
             [
              0.3333333333333333,
              "#9c179e"
             ],
             [
              0.4444444444444444,
              "#bd3786"
             ],
             [
              0.5555555555555556,
              "#d8576b"
             ],
             [
              0.6666666666666666,
              "#ed7953"
             ],
             [
              0.7777777777777778,
              "#fb9f3a"
             ],
             [
              0.8888888888888888,
              "#fdca26"
             ],
             [
              1,
              "#f0f921"
             ]
            ],
            "type": "contour"
           }
          ],
          "contourcarpet": [
           {
            "colorbar": {
             "outlinewidth": 0,
             "ticks": ""
            },
            "type": "contourcarpet"
           }
          ],
          "heatmap": [
           {
            "colorbar": {
             "outlinewidth": 0,
             "ticks": ""
            },
            "colorscale": [
             [
              0,
              "#0d0887"
             ],
             [
              0.1111111111111111,
              "#46039f"
             ],
             [
              0.2222222222222222,
              "#7201a8"
             ],
             [
              0.3333333333333333,
              "#9c179e"
             ],
             [
              0.4444444444444444,
              "#bd3786"
             ],
             [
              0.5555555555555556,
              "#d8576b"
             ],
             [
              0.6666666666666666,
              "#ed7953"
             ],
             [
              0.7777777777777778,
              "#fb9f3a"
             ],
             [
              0.8888888888888888,
              "#fdca26"
             ],
             [
              1,
              "#f0f921"
             ]
            ],
            "type": "heatmap"
           }
          ],
          "heatmapgl": [
           {
            "colorbar": {
             "outlinewidth": 0,
             "ticks": ""
            },
            "colorscale": [
             [
              0,
              "#0d0887"
             ],
             [
              0.1111111111111111,
              "#46039f"
             ],
             [
              0.2222222222222222,
              "#7201a8"
             ],
             [
              0.3333333333333333,
              "#9c179e"
             ],
             [
              0.4444444444444444,
              "#bd3786"
             ],
             [
              0.5555555555555556,
              "#d8576b"
             ],
             [
              0.6666666666666666,
              "#ed7953"
             ],
             [
              0.7777777777777778,
              "#fb9f3a"
             ],
             [
              0.8888888888888888,
              "#fdca26"
             ],
             [
              1,
              "#f0f921"
             ]
            ],
            "type": "heatmapgl"
           }
          ],
          "histogram": [
           {
            "marker": {
             "pattern": {
              "fillmode": "overlay",
              "size": 10,
              "solidity": 0.2
             }
            },
            "type": "histogram"
           }
          ],
          "histogram2d": [
           {
            "colorbar": {
             "outlinewidth": 0,
             "ticks": ""
            },
            "colorscale": [
             [
              0,
              "#0d0887"
             ],
             [
              0.1111111111111111,
              "#46039f"
             ],
             [
              0.2222222222222222,
              "#7201a8"
             ],
             [
              0.3333333333333333,
              "#9c179e"
             ],
             [
              0.4444444444444444,
              "#bd3786"
             ],
             [
              0.5555555555555556,
              "#d8576b"
             ],
             [
              0.6666666666666666,
              "#ed7953"
             ],
             [
              0.7777777777777778,
              "#fb9f3a"
             ],
             [
              0.8888888888888888,
              "#fdca26"
             ],
             [
              1,
              "#f0f921"
             ]
            ],
            "type": "histogram2d"
           }
          ],
          "histogram2dcontour": [
           {
            "colorbar": {
             "outlinewidth": 0,
             "ticks": ""
            },
            "colorscale": [
             [
              0,
              "#0d0887"
             ],
             [
              0.1111111111111111,
              "#46039f"
             ],
             [
              0.2222222222222222,
              "#7201a8"
             ],
             [
              0.3333333333333333,
              "#9c179e"
             ],
             [
              0.4444444444444444,
              "#bd3786"
             ],
             [
              0.5555555555555556,
              "#d8576b"
             ],
             [
              0.6666666666666666,
              "#ed7953"
             ],
             [
              0.7777777777777778,
              "#fb9f3a"
             ],
             [
              0.8888888888888888,
              "#fdca26"
             ],
             [
              1,
              "#f0f921"
             ]
            ],
            "type": "histogram2dcontour"
           }
          ],
          "mesh3d": [
           {
            "colorbar": {
             "outlinewidth": 0,
             "ticks": ""
            },
            "type": "mesh3d"
           }
          ],
          "parcoords": [
           {
            "line": {
             "colorbar": {
              "outlinewidth": 0,
              "ticks": ""
             }
            },
            "type": "parcoords"
           }
          ],
          "pie": [
           {
            "automargin": true,
            "type": "pie"
           }
          ],
          "scatter": [
           {
            "fillpattern": {
             "fillmode": "overlay",
             "size": 10,
             "solidity": 0.2
            },
            "type": "scatter"
           }
          ],
          "scatter3d": [
           {
            "line": {
             "colorbar": {
              "outlinewidth": 0,
              "ticks": ""
             }
            },
            "marker": {
             "colorbar": {
              "outlinewidth": 0,
              "ticks": ""
             }
            },
            "type": "scatter3d"
           }
          ],
          "scattercarpet": [
           {
            "marker": {
             "colorbar": {
              "outlinewidth": 0,
              "ticks": ""
             }
            },
            "type": "scattercarpet"
           }
          ],
          "scattergeo": [
           {
            "marker": {
             "colorbar": {
              "outlinewidth": 0,
              "ticks": ""
             }
            },
            "type": "scattergeo"
           }
          ],
          "scattergl": [
           {
            "marker": {
             "colorbar": {
              "outlinewidth": 0,
              "ticks": ""
             }
            },
            "type": "scattergl"
           }
          ],
          "scattermapbox": [
           {
            "marker": {
             "colorbar": {
              "outlinewidth": 0,
              "ticks": ""
             }
            },
            "type": "scattermapbox"
           }
          ],
          "scatterpolar": [
           {
            "marker": {
             "colorbar": {
              "outlinewidth": 0,
              "ticks": ""
             }
            },
            "type": "scatterpolar"
           }
          ],
          "scatterpolargl": [
           {
            "marker": {
             "colorbar": {
              "outlinewidth": 0,
              "ticks": ""
             }
            },
            "type": "scatterpolargl"
           }
          ],
          "scatterternary": [
           {
            "marker": {
             "colorbar": {
              "outlinewidth": 0,
              "ticks": ""
             }
            },
            "type": "scatterternary"
           }
          ],
          "surface": [
           {
            "colorbar": {
             "outlinewidth": 0,
             "ticks": ""
            },
            "colorscale": [
             [
              0,
              "#0d0887"
             ],
             [
              0.1111111111111111,
              "#46039f"
             ],
             [
              0.2222222222222222,
              "#7201a8"
             ],
             [
              0.3333333333333333,
              "#9c179e"
             ],
             [
              0.4444444444444444,
              "#bd3786"
             ],
             [
              0.5555555555555556,
              "#d8576b"
             ],
             [
              0.6666666666666666,
              "#ed7953"
             ],
             [
              0.7777777777777778,
              "#fb9f3a"
             ],
             [
              0.8888888888888888,
              "#fdca26"
             ],
             [
              1,
              "#f0f921"
             ]
            ],
            "type": "surface"
           }
          ],
          "table": [
           {
            "cells": {
             "fill": {
              "color": "#EBF0F8"
             },
             "line": {
              "color": "white"
             }
            },
            "header": {
             "fill": {
              "color": "#C8D4E3"
             },
             "line": {
              "color": "white"
             }
            },
            "type": "table"
           }
          ]
         },
         "layout": {
          "annotationdefaults": {
           "arrowcolor": "#2a3f5f",
           "arrowhead": 0,
           "arrowwidth": 1
          },
          "autotypenumbers": "strict",
          "coloraxis": {
           "colorbar": {
            "outlinewidth": 0,
            "ticks": ""
           }
          },
          "colorscale": {
           "diverging": [
            [
             0,
             "#8e0152"
            ],
            [
             0.1,
             "#c51b7d"
            ],
            [
             0.2,
             "#de77ae"
            ],
            [
             0.3,
             "#f1b6da"
            ],
            [
             0.4,
             "#fde0ef"
            ],
            [
             0.5,
             "#f7f7f7"
            ],
            [
             0.6,
             "#e6f5d0"
            ],
            [
             0.7,
             "#b8e186"
            ],
            [
             0.8,
             "#7fbc41"
            ],
            [
             0.9,
             "#4d9221"
            ],
            [
             1,
             "#276419"
            ]
           ],
           "sequential": [
            [
             0,
             "#0d0887"
            ],
            [
             0.1111111111111111,
             "#46039f"
            ],
            [
             0.2222222222222222,
             "#7201a8"
            ],
            [
             0.3333333333333333,
             "#9c179e"
            ],
            [
             0.4444444444444444,
             "#bd3786"
            ],
            [
             0.5555555555555556,
             "#d8576b"
            ],
            [
             0.6666666666666666,
             "#ed7953"
            ],
            [
             0.7777777777777778,
             "#fb9f3a"
            ],
            [
             0.8888888888888888,
             "#fdca26"
            ],
            [
             1,
             "#f0f921"
            ]
           ],
           "sequentialminus": [
            [
             0,
             "#0d0887"
            ],
            [
             0.1111111111111111,
             "#46039f"
            ],
            [
             0.2222222222222222,
             "#7201a8"
            ],
            [
             0.3333333333333333,
             "#9c179e"
            ],
            [
             0.4444444444444444,
             "#bd3786"
            ],
            [
             0.5555555555555556,
             "#d8576b"
            ],
            [
             0.6666666666666666,
             "#ed7953"
            ],
            [
             0.7777777777777778,
             "#fb9f3a"
            ],
            [
             0.8888888888888888,
             "#fdca26"
            ],
            [
             1,
             "#f0f921"
            ]
           ]
          },
          "colorway": [
           "#636efa",
           "#EF553B",
           "#00cc96",
           "#ab63fa",
           "#FFA15A",
           "#19d3f3",
           "#FF6692",
           "#B6E880",
           "#FF97FF",
           "#FECB52"
          ],
          "font": {
           "color": "#2a3f5f"
          },
          "geo": {
           "bgcolor": "white",
           "lakecolor": "white",
           "landcolor": "#E5ECF6",
           "showlakes": true,
           "showland": true,
           "subunitcolor": "white"
          },
          "hoverlabel": {
           "align": "left"
          },
          "hovermode": "closest",
          "mapbox": {
           "style": "light"
          },
          "paper_bgcolor": "white",
          "plot_bgcolor": "#E5ECF6",
          "polar": {
           "angularaxis": {
            "gridcolor": "white",
            "linecolor": "white",
            "ticks": ""
           },
           "bgcolor": "#E5ECF6",
           "radialaxis": {
            "gridcolor": "white",
            "linecolor": "white",
            "ticks": ""
           }
          },
          "scene": {
           "xaxis": {
            "backgroundcolor": "#E5ECF6",
            "gridcolor": "white",
            "gridwidth": 2,
            "linecolor": "white",
            "showbackground": true,
            "ticks": "",
            "zerolinecolor": "white"
           },
           "yaxis": {
            "backgroundcolor": "#E5ECF6",
            "gridcolor": "white",
            "gridwidth": 2,
            "linecolor": "white",
            "showbackground": true,
            "ticks": "",
            "zerolinecolor": "white"
           },
           "zaxis": {
            "backgroundcolor": "#E5ECF6",
            "gridcolor": "white",
            "gridwidth": 2,
            "linecolor": "white",
            "showbackground": true,
            "ticks": "",
            "zerolinecolor": "white"
           }
          },
          "shapedefaults": {
           "line": {
            "color": "#2a3f5f"
           }
          },
          "ternary": {
           "aaxis": {
            "gridcolor": "white",
            "linecolor": "white",
            "ticks": ""
           },
           "baxis": {
            "gridcolor": "white",
            "linecolor": "white",
            "ticks": ""
           },
           "bgcolor": "#E5ECF6",
           "caxis": {
            "gridcolor": "white",
            "linecolor": "white",
            "ticks": ""
           }
          },
          "title": {
           "x": 0.05
          },
          "xaxis": {
           "automargin": true,
           "gridcolor": "white",
           "linecolor": "white",
           "ticks": "",
           "title": {
            "standoff": 15
           },
           "zerolinecolor": "white",
           "zerolinewidth": 2
          },
          "yaxis": {
           "automargin": true,
           "gridcolor": "white",
           "linecolor": "white",
           "ticks": "",
           "title": {
            "standoff": 15
           },
           "zerolinecolor": "white",
           "zerolinewidth": 2
          }
         }
        },
        "title": {
         "text": "alpha = 3.571431428571429, Rsquared = -0.030727626474565044"
        },
        "xaxis": {
         "anchor": "y",
         "domain": [
          0,
          1
         ],
         "title": {
          "text": "Feature number"
         }
        },
        "yaxis": {
         "anchor": "x",
         "domain": [
          0,
          1
         ],
         "title": {
          "text": "Coefficient value"
         }
        }
       }
      },
      "text/html": [
       "<div>                            <div id=\"f6d15747-3277-4ed3-86ae-5be6e3a1bb81\" class=\"plotly-graph-div\" style=\"height:525px; width:100%;\"></div>            <script type=\"text/javascript\">                require([\"plotly\"], function(Plotly) {                    window.PLOTLYENV=window.PLOTLYENV || {};                                    if (document.getElementById(\"f6d15747-3277-4ed3-86ae-5be6e3a1bb81\")) {                    Plotly.newPlot(                        \"f6d15747-3277-4ed3-86ae-5be6e3a1bb81\",                        [{\"error_y\":{\"array\":[0.2938600209514886,0.10216410936199798,0.08705336993737219,0.0878493494819421,0.24084163641695205,0.0712959200970821,0.07413238952671133,0.09724421778561722,0.08821924894635988,0.07825446249231338,0.08119500928192812,0.06960748841667601,0.06917111008689408,0.10059093916964441,0.07861027044215059,0.09742165437301346,0.12766108441354224,0.06471193768052562,0.1308360384234957,0.09977152394162425,0.10152136127477558,0.20183401927034275,0.08776942478453484,0.08002382907899035,0.0847439718258803,0.39123488980781473,0.09252823069595945,0.07227840700645163,0.09774880376005449,0.08459860867161272,0.06681724683107187,0.08113370940440418,0.0755589654919653,0.07273974840236352,0.06970529883735337,0.07719273083452347,0.14519617384115224,0.0952011309529215,0.07730136476001206,0.07576107380982575,0.06532084312617444,0.07256416382968375,0.06852166902615087,0.07269572331919309,0.06959376634503271,0.07379850569111028,0.050701680170105005,0.06463917413184835,0.043399743823487984,0.07106838680318533,0.08022286995547691,0.05795756348007975,0.09271500515695251,0.058359400395192884,0.06160303400436302,0.0687296005726886,0.06628852017975208,0.08161123496778747,0.06547344427079771,0.11926984655355008,0.0691565292831415,0.08200506297011234,0.059358998057283174,0.06474862301735956,0.0754267123816174,0.09326224484712142,0.087421578222762,0.05687294412711716,0.07213060044609963,0.07685057261200898,0.06885721236919745,0.06753250573359222,0.09576729371463574,0.06847672303052507,0.07239492397143538,0.05529200643450772,0.06859614553324521,0.05055399611856272,0.051671989749829096,0.09994918843617202,0.06712674389395804,0.07600971321848111,0.0641447355426664,0.06996153698546514,0.06922661595231239,0.07629386677210383,0.05550993131227076,0.0759116649158865,0.06998676202177695,0.07352044603474152,0.06558160665039024,0.06877778654282592,0.05739371641271927,0.08352721252162432,0.06608971003714932,0.06979074777740524,0.05947467454320887,0.07002085641539083,0.057229706199078134,0.05705368539849329,0.05641824470245652,0.06507996250335359,0.052116865094596745,0.10235046747626066,0.08244582772299654,0.07622198715948905,0.05067304957789679,0.07439758385635407,0.06078094183199812,0.05482500417708959,0.08150888187526138,0.0706804694619282,0.04493592330595981,0.0496063010073804,0.08335791167239329,0.06796810714226344,0.07342356424961322,0.074816687520046,0.08849376545825662,0.04473834663453971,0.0591079910247605,0.07658508651018112,0.0648372633192182,0.05550009995520381,0.06470680774207675,0.06802854113170725,0.05861538226223677,0.047909012438689155,0.0621376428473129,0.06788840707240486,0.06452953702922186,0.05028128794801596,0.06795647616855355,0.06324122399017658,0.05301270174687232,0.05083182415928529,0.06763054482390826,0.06015858463595823,0.056045814995282946,0.08534617206498253,0.06050675197530935,0.06737162151054918,0.09100931763163173,0.06115373570920055,0.07208121478492513,0.060527275028782614,0.06512556310862071,0.05974843378392806,0.05926181154480209,0.07162524777644774,0.06713057970348872,0.04988693726020895,0.06958128196799324,0.05425675370456349,0.05520045342439816,0.10115581113329336,0.10164100542185897,0.06625833887624588,0.048908361298921406,0.04081242109720866,0.0713177869763642,0.07403230411336177,0.09106360082210602,0.045117783932477125,0.09043596028575171,0.06074342698697155,0.06154978542403683,0.05563009142413883,0.08909299250217127,0.07279830492338589,0.07899008971772968,0.07032255882750768,0.05567611321008951,0.056815370585156205,0.05408691441101858,0.047292222802298764,0.05041919517697511,0.04823992990907466,0.05387969083612326,0.06054545366890487,0.07043674845546427,0.059801045097149806,0.07222771438435743,0.054904212290045745,0.044959118824696095,0.05780347894756163,0.04691798560627619,0.05859365437352541,0.05887683552812445,0.06357395600258044,0.050628033314865935,0.05290530904546957,0.05895846081408639,0.04520068294663481,0.05102297992449426,0.06732205619005319,0.08384459913993,0.04800228969668752,0.08438389148582699,0.054271878019464724,0.04935962481733113,0.055315146007176005,0.05485520834631448,0.059189645058450424,0.05953544528769831,0.04529897076478549,0.06360323866037706,0.05293601566345396,0.05648813070156988,0.05866573951175055,0.06251208500120634,0.0828623059478171,0.05393482765214948,0.05342566380090551,0.060138359626704316,0.04564133090031481,0.073917052084433,0.04157465160511999,0.04733635478365457,0.07285843636548361,0.046700170596912075,0.05331753690024184,0.044119139380377356,0.043011370677565046,0.04728929333081951,0.04108854675701481,0.04480178839365764,0.06493067789110064,0.044083853112920623,0.04831226820752144,0.05494070063763398,0.042697062538342975,0.046831380973912054,0.028120991039114918,0.06883547707075491,0.059812034524865575,0.04938905977774729,0.05108358691514051,0.053808756362648376]},\"hovertemplate\":\"x=%{x}<br>y=%{y}<extra></extra>\",\"legendgroup\":\"\",\"marker\":{\"color\":\"#636efa\",\"symbol\":\"circle\"},\"mode\":\"markers\",\"name\":\"\",\"orientation\":\"v\",\"showlegend\":false,\"x\":[0,1,2,3,4,5,6,7,8,9,10,11,12,13,14,15,16,17,18,19,20,21,22,23,24,25,26,27,28,29,30,31,32,33,34,35,36,37,38,39,40,41,42,43,44,45,46,47,48,49,50,51,52,53,54,55,56,57,58,59,60,61,62,63,64,65,66,67,68,69,70,71,72,73,74,75,76,77,78,79,80,81,82,83,84,85,86,87,88,89,90,91,92,93,94,95,96,97,98,99,100,101,102,103,104,105,106,107,108,109,110,111,112,113,114,115,116,117,118,119,120,121,122,123,124,125,126,127,128,129,130,131,132,133,134,135,136,137,138,139,140,141,142,143,144,145,146,147,148,149,150,151,152,153,154,155,156,157,158,159,160,161,162,163,164,165,166,167,168,169,170,171,172,173,174,175,176,177,178,179,180,181,182,183,184,185,186,187,188,189,190,191,192,193,194,195,196,197,198,199,200,201,202,203,204,205,206,207,208,209,210,211,212,213,214,215,216,217,218,219,220,221,222,223,224,225,226,227,228,229,230,231,232,233,234,235,236,237,238],\"xaxis\":\"x\",\"y\":[-2.6041883471074345,-0.017884823945625957,0.0084893547897316,-0.014603827279344856,0.07527282095358614,-0.01261070026599597,0.004911345634602249,0.020963146036495323,0.019183724003744827,0.009971939936132043,0.012936771738518309,0.003717815092332403,0.00894718861406527,0.023451054393516357,0.006861076327295139,0.01587493346279006,0.033762058907352344,-0.0014211960681438,0.03392019176179571,0.015825316688974297,-0.017914553537540272,0.06832434409501582,0.016295077549425063,-0.012309354622077624,0.0037225231504685163,0.2754223911319592,-0.016253682916805588,0.007920909919924848,0.017236400328291192,0.013208892155422314,0.002252477290860462,-0.009063092512883494,-0.014719366321385098,-0.013846331144581026,0.0013901173494144689,-0.013078469234666925,0.03926090547148727,-0.008562741158462773,-0.007616994816353482,-0.015778708594343847,-0.013043923077377423,0.012153659337205743,0.007105553476555608,0.005572590615048527,0.007612385304163374,0.00946388136375253,-0.0033747405784059965,-0.010776607245866897,0.003087528937534408,0.00018428080833047446,-0.008908356955874271,-0.0007318867229025146,0.018956683092553335,-0.004480695786409664,0.005450898974204079,0.004984405383888694,0.008567966784892042,0.014583935669554059,-0.012464491918334302,-0.029388397993951695,0.003542440676389618,-0.013698064932727703,0.007095260383747098,-0.008564297572350717,0.016987805797744403,-0.018644772270054358,0.011768469629035206,-0.005510476204704449,0.008043736764741738,-0.008757767917432801,0.004745391890020756,0.013570978049280345,0.024444614398424522,-0.005825603263990011,-0.016627571693886144,0.0024262295105449906,-0.009359431508062989,-0.00627425448372043,-0.007199093221847763,0.026414719434683015,-0.003918389820360815,-0.012770791570828307,-0.00871997257642359,0.012183252088359077,-0.0033739918765334264,0.016982878546566885,-0.0004402463297647577,0.013900409639703024,0.012645621940776413,-0.012054677481268167,-0.0030746054719904127,0.01396609630342977,0.0075179011089279366,-0.003464952103316053,-0.010083598171619898,0.0063821966130286996,0.0034171969728725845,0.0007574037572587734,0.0009316086242107346,0.0017697371084260864,0.00024359811816665613,0.007548079342361344,-0.004588557725007843,-0.02367165005831557,-0.019175814933855027,-0.012956846758238664,-0.003333256930705645,0.007987286775630837,0.004338838120763062,-0.00709948997068943,-0.020602608252486294,-0.013903646537877354,-0.000969483496197596,0.003003513811741665,0.021348937823021188,0.010746451805581909,0.011946116460858962,-0.0027986851214368154,-0.02183247477660328,-0.003656564104097573,-0.0023012249503548744,0.015257420569323115,-0.007787191199883723,-0.004387070341104278,-0.004173589989225929,-0.008591445320033229,0.0057107424287476515,-0.003365533937004198,-0.011416826058289583,-0.01133504161806136,0.007077051095080888,-0.0019639911650717106,0.013811600344797118,-0.008057480137451015,-0.003153797242439174,-0.001299644405898865,0.007283342440310802,-0.00940169405330101,0.00189269589695585,0.01414428937747466,-0.004387438900274977,0.0042676913213163655,0.022864512143357833,0.00017908720703197365,0.012860062402192967,-0.006245139825531467,0.011177048007090205,-0.013533662600173451,-0.0073670650296309,-0.014023089609718237,0.012059059498527643,0.0022058770060384694,-0.008834907114384548,-0.004809097635957145,-0.004381316337722706,-0.026215967060427784,0.027211441715630988,-0.008245294584153807,-0.001342096323819036,-0.003953928067837065,-0.012055886251693865,0.01638569076171648,0.02442399954389656,0.0012763300318741552,0.021420573029911245,0.005680414568338184,0.005412296186976456,-0.005455354790437144,-0.01989168275461805,0.016688618177809467,-0.016519213804269288,0.014329803835437872,0.002729274064122923,0.00042554080717968704,0.00818859499310791,0.005571611643059822,-0.006500376530599412,-0.00019635488165846567,0.006241651421836657,0.002500306013841716,0.0019205045202141293,-0.01230387268814138,0.015429581128994776,-0.0016230172733062683,0.0034424525108763633,-0.006626423416079747,0.002375835674682582,0.005505386978341651,-0.012292314475807793,-0.01336677654050523,0.004779359950365485,0.010452817990738038,0.007038883108309942,0.006211642622400323,-0.007359180483294859,0.013850869893246612,0.020400650223407115,-0.0019324287723409587,-0.01997754414401716,-0.004281883397362409,0.0011383571000433538,0.007819972544560894,-0.0021210231943884173,0.009584305271816584,-0.006194095410110598,0.0011796138861407996,-0.01239909178193855,0.008408070075644631,0.00744348772369889,0.009777953946584974,-0.010227932071609372,-0.020197683326410386,0.0016669928563800757,0.0006556554606575341,0.010224546131440027,-0.0007285056079751064,0.01909793388088808,-0.004030000447173,-0.00010938273077363448,0.008271781579630811,-0.0004506637775814477,0.003927744959503589,-0.0002864381160713064,0.00033318783520904736,0.003877607731270319,-0.004868943191159626,0.0035940746895478932,0.012023506794926087,0.0020894646899728116,-0.0058690794689750655,0.002253114383534778,0.00525505858722631,-0.0030251156872834425,-0.0011497336571440631,-0.015017418052795599,0.007165074144255675,0.010083202146390441,0.00941534782493367,0.008650898379038463],\"yaxis\":\"y\",\"type\":\"scatter\"}],                        {\"template\":{\"data\":{\"histogram2dcontour\":[{\"type\":\"histogram2dcontour\",\"colorbar\":{\"outlinewidth\":0,\"ticks\":\"\"},\"colorscale\":[[0.0,\"#0d0887\"],[0.1111111111111111,\"#46039f\"],[0.2222222222222222,\"#7201a8\"],[0.3333333333333333,\"#9c179e\"],[0.4444444444444444,\"#bd3786\"],[0.5555555555555556,\"#d8576b\"],[0.6666666666666666,\"#ed7953\"],[0.7777777777777778,\"#fb9f3a\"],[0.8888888888888888,\"#fdca26\"],[1.0,\"#f0f921\"]]}],\"choropleth\":[{\"type\":\"choropleth\",\"colorbar\":{\"outlinewidth\":0,\"ticks\":\"\"}}],\"histogram2d\":[{\"type\":\"histogram2d\",\"colorbar\":{\"outlinewidth\":0,\"ticks\":\"\"},\"colorscale\":[[0.0,\"#0d0887\"],[0.1111111111111111,\"#46039f\"],[0.2222222222222222,\"#7201a8\"],[0.3333333333333333,\"#9c179e\"],[0.4444444444444444,\"#bd3786\"],[0.5555555555555556,\"#d8576b\"],[0.6666666666666666,\"#ed7953\"],[0.7777777777777778,\"#fb9f3a\"],[0.8888888888888888,\"#fdca26\"],[1.0,\"#f0f921\"]]}],\"heatmap\":[{\"type\":\"heatmap\",\"colorbar\":{\"outlinewidth\":0,\"ticks\":\"\"},\"colorscale\":[[0.0,\"#0d0887\"],[0.1111111111111111,\"#46039f\"],[0.2222222222222222,\"#7201a8\"],[0.3333333333333333,\"#9c179e\"],[0.4444444444444444,\"#bd3786\"],[0.5555555555555556,\"#d8576b\"],[0.6666666666666666,\"#ed7953\"],[0.7777777777777778,\"#fb9f3a\"],[0.8888888888888888,\"#fdca26\"],[1.0,\"#f0f921\"]]}],\"heatmapgl\":[{\"type\":\"heatmapgl\",\"colorbar\":{\"outlinewidth\":0,\"ticks\":\"\"},\"colorscale\":[[0.0,\"#0d0887\"],[0.1111111111111111,\"#46039f\"],[0.2222222222222222,\"#7201a8\"],[0.3333333333333333,\"#9c179e\"],[0.4444444444444444,\"#bd3786\"],[0.5555555555555556,\"#d8576b\"],[0.6666666666666666,\"#ed7953\"],[0.7777777777777778,\"#fb9f3a\"],[0.8888888888888888,\"#fdca26\"],[1.0,\"#f0f921\"]]}],\"contourcarpet\":[{\"type\":\"contourcarpet\",\"colorbar\":{\"outlinewidth\":0,\"ticks\":\"\"}}],\"contour\":[{\"type\":\"contour\",\"colorbar\":{\"outlinewidth\":0,\"ticks\":\"\"},\"colorscale\":[[0.0,\"#0d0887\"],[0.1111111111111111,\"#46039f\"],[0.2222222222222222,\"#7201a8\"],[0.3333333333333333,\"#9c179e\"],[0.4444444444444444,\"#bd3786\"],[0.5555555555555556,\"#d8576b\"],[0.6666666666666666,\"#ed7953\"],[0.7777777777777778,\"#fb9f3a\"],[0.8888888888888888,\"#fdca26\"],[1.0,\"#f0f921\"]]}],\"surface\":[{\"type\":\"surface\",\"colorbar\":{\"outlinewidth\":0,\"ticks\":\"\"},\"colorscale\":[[0.0,\"#0d0887\"],[0.1111111111111111,\"#46039f\"],[0.2222222222222222,\"#7201a8\"],[0.3333333333333333,\"#9c179e\"],[0.4444444444444444,\"#bd3786\"],[0.5555555555555556,\"#d8576b\"],[0.6666666666666666,\"#ed7953\"],[0.7777777777777778,\"#fb9f3a\"],[0.8888888888888888,\"#fdca26\"],[1.0,\"#f0f921\"]]}],\"mesh3d\":[{\"type\":\"mesh3d\",\"colorbar\":{\"outlinewidth\":0,\"ticks\":\"\"}}],\"scatter\":[{\"fillpattern\":{\"fillmode\":\"overlay\",\"size\":10,\"solidity\":0.2},\"type\":\"scatter\"}],\"parcoords\":[{\"type\":\"parcoords\",\"line\":{\"colorbar\":{\"outlinewidth\":0,\"ticks\":\"\"}}}],\"scatterpolargl\":[{\"type\":\"scatterpolargl\",\"marker\":{\"colorbar\":{\"outlinewidth\":0,\"ticks\":\"\"}}}],\"bar\":[{\"error_x\":{\"color\":\"#2a3f5f\"},\"error_y\":{\"color\":\"#2a3f5f\"},\"marker\":{\"line\":{\"color\":\"#E5ECF6\",\"width\":0.5},\"pattern\":{\"fillmode\":\"overlay\",\"size\":10,\"solidity\":0.2}},\"type\":\"bar\"}],\"scattergeo\":[{\"type\":\"scattergeo\",\"marker\":{\"colorbar\":{\"outlinewidth\":0,\"ticks\":\"\"}}}],\"scatterpolar\":[{\"type\":\"scatterpolar\",\"marker\":{\"colorbar\":{\"outlinewidth\":0,\"ticks\":\"\"}}}],\"histogram\":[{\"marker\":{\"pattern\":{\"fillmode\":\"overlay\",\"size\":10,\"solidity\":0.2}},\"type\":\"histogram\"}],\"scattergl\":[{\"type\":\"scattergl\",\"marker\":{\"colorbar\":{\"outlinewidth\":0,\"ticks\":\"\"}}}],\"scatter3d\":[{\"type\":\"scatter3d\",\"line\":{\"colorbar\":{\"outlinewidth\":0,\"ticks\":\"\"}},\"marker\":{\"colorbar\":{\"outlinewidth\":0,\"ticks\":\"\"}}}],\"scattermapbox\":[{\"type\":\"scattermapbox\",\"marker\":{\"colorbar\":{\"outlinewidth\":0,\"ticks\":\"\"}}}],\"scatterternary\":[{\"type\":\"scatterternary\",\"marker\":{\"colorbar\":{\"outlinewidth\":0,\"ticks\":\"\"}}}],\"scattercarpet\":[{\"type\":\"scattercarpet\",\"marker\":{\"colorbar\":{\"outlinewidth\":0,\"ticks\":\"\"}}}],\"carpet\":[{\"aaxis\":{\"endlinecolor\":\"#2a3f5f\",\"gridcolor\":\"white\",\"linecolor\":\"white\",\"minorgridcolor\":\"white\",\"startlinecolor\":\"#2a3f5f\"},\"baxis\":{\"endlinecolor\":\"#2a3f5f\",\"gridcolor\":\"white\",\"linecolor\":\"white\",\"minorgridcolor\":\"white\",\"startlinecolor\":\"#2a3f5f\"},\"type\":\"carpet\"}],\"table\":[{\"cells\":{\"fill\":{\"color\":\"#EBF0F8\"},\"line\":{\"color\":\"white\"}},\"header\":{\"fill\":{\"color\":\"#C8D4E3\"},\"line\":{\"color\":\"white\"}},\"type\":\"table\"}],\"barpolar\":[{\"marker\":{\"line\":{\"color\":\"#E5ECF6\",\"width\":0.5},\"pattern\":{\"fillmode\":\"overlay\",\"size\":10,\"solidity\":0.2}},\"type\":\"barpolar\"}],\"pie\":[{\"automargin\":true,\"type\":\"pie\"}]},\"layout\":{\"autotypenumbers\":\"strict\",\"colorway\":[\"#636efa\",\"#EF553B\",\"#00cc96\",\"#ab63fa\",\"#FFA15A\",\"#19d3f3\",\"#FF6692\",\"#B6E880\",\"#FF97FF\",\"#FECB52\"],\"font\":{\"color\":\"#2a3f5f\"},\"hovermode\":\"closest\",\"hoverlabel\":{\"align\":\"left\"},\"paper_bgcolor\":\"white\",\"plot_bgcolor\":\"#E5ECF6\",\"polar\":{\"bgcolor\":\"#E5ECF6\",\"angularaxis\":{\"gridcolor\":\"white\",\"linecolor\":\"white\",\"ticks\":\"\"},\"radialaxis\":{\"gridcolor\":\"white\",\"linecolor\":\"white\",\"ticks\":\"\"}},\"ternary\":{\"bgcolor\":\"#E5ECF6\",\"aaxis\":{\"gridcolor\":\"white\",\"linecolor\":\"white\",\"ticks\":\"\"},\"baxis\":{\"gridcolor\":\"white\",\"linecolor\":\"white\",\"ticks\":\"\"},\"caxis\":{\"gridcolor\":\"white\",\"linecolor\":\"white\",\"ticks\":\"\"}},\"coloraxis\":{\"colorbar\":{\"outlinewidth\":0,\"ticks\":\"\"}},\"colorscale\":{\"sequential\":[[0.0,\"#0d0887\"],[0.1111111111111111,\"#46039f\"],[0.2222222222222222,\"#7201a8\"],[0.3333333333333333,\"#9c179e\"],[0.4444444444444444,\"#bd3786\"],[0.5555555555555556,\"#d8576b\"],[0.6666666666666666,\"#ed7953\"],[0.7777777777777778,\"#fb9f3a\"],[0.8888888888888888,\"#fdca26\"],[1.0,\"#f0f921\"]],\"sequentialminus\":[[0.0,\"#0d0887\"],[0.1111111111111111,\"#46039f\"],[0.2222222222222222,\"#7201a8\"],[0.3333333333333333,\"#9c179e\"],[0.4444444444444444,\"#bd3786\"],[0.5555555555555556,\"#d8576b\"],[0.6666666666666666,\"#ed7953\"],[0.7777777777777778,\"#fb9f3a\"],[0.8888888888888888,\"#fdca26\"],[1.0,\"#f0f921\"]],\"diverging\":[[0,\"#8e0152\"],[0.1,\"#c51b7d\"],[0.2,\"#de77ae\"],[0.3,\"#f1b6da\"],[0.4,\"#fde0ef\"],[0.5,\"#f7f7f7\"],[0.6,\"#e6f5d0\"],[0.7,\"#b8e186\"],[0.8,\"#7fbc41\"],[0.9,\"#4d9221\"],[1,\"#276419\"]]},\"xaxis\":{\"gridcolor\":\"white\",\"linecolor\":\"white\",\"ticks\":\"\",\"title\":{\"standoff\":15},\"zerolinecolor\":\"white\",\"automargin\":true,\"zerolinewidth\":2},\"yaxis\":{\"gridcolor\":\"white\",\"linecolor\":\"white\",\"ticks\":\"\",\"title\":{\"standoff\":15},\"zerolinecolor\":\"white\",\"automargin\":true,\"zerolinewidth\":2},\"scene\":{\"xaxis\":{\"backgroundcolor\":\"#E5ECF6\",\"gridcolor\":\"white\",\"linecolor\":\"white\",\"showbackground\":true,\"ticks\":\"\",\"zerolinecolor\":\"white\",\"gridwidth\":2},\"yaxis\":{\"backgroundcolor\":\"#E5ECF6\",\"gridcolor\":\"white\",\"linecolor\":\"white\",\"showbackground\":true,\"ticks\":\"\",\"zerolinecolor\":\"white\",\"gridwidth\":2},\"zaxis\":{\"backgroundcolor\":\"#E5ECF6\",\"gridcolor\":\"white\",\"linecolor\":\"white\",\"showbackground\":true,\"ticks\":\"\",\"zerolinecolor\":\"white\",\"gridwidth\":2}},\"shapedefaults\":{\"line\":{\"color\":\"#2a3f5f\"}},\"annotationdefaults\":{\"arrowcolor\":\"#2a3f5f\",\"arrowhead\":0,\"arrowwidth\":1},\"geo\":{\"bgcolor\":\"white\",\"landcolor\":\"#E5ECF6\",\"subunitcolor\":\"white\",\"showland\":true,\"showlakes\":true,\"lakecolor\":\"white\"},\"title\":{\"x\":0.05},\"mapbox\":{\"style\":\"light\"}}},\"xaxis\":{\"anchor\":\"y\",\"domain\":[0.0,1.0],\"title\":{\"text\":\"Feature number\"}},\"yaxis\":{\"anchor\":\"x\",\"domain\":[0.0,1.0],\"title\":{\"text\":\"Coefficient value\"}},\"legend\":{\"tracegroupgap\":0},\"margin\":{\"t\":60},\"title\":{\"text\":\"alpha = 3.571431428571429, Rsquared = -0.030727626474565044\"}},                        {\"responsive\": true}                    ).then(function(){\n",
       "                            \n",
       "var gd = document.getElementById('f6d15747-3277-4ed3-86ae-5be6e3a1bb81');\n",
       "var x = new MutationObserver(function (mutations, observer) {{\n",
       "        var display = window.getComputedStyle(gd).display;\n",
       "        if (!display || display === 'none') {{\n",
       "            console.log([gd, 'removed!']);\n",
       "            Plotly.purge(gd);\n",
       "            observer.disconnect();\n",
       "        }}\n",
       "}});\n",
       "\n",
       "// Listen for the removal of the full notebook cells\n",
       "var notebookContainer = gd.closest('#notebook-container');\n",
       "if (notebookContainer) {{\n",
       "    x.observe(notebookContainer, {childList: true});\n",
       "}}\n",
       "\n",
       "// Listen for the clearing of the current output cell\n",
       "var outputEl = gd.closest('.output');\n",
       "if (outputEl) {{\n",
       "    x.observe(outputEl, {childList: true});\n",
       "}}\n",
       "\n",
       "                        })                };                });            </script>        </div>"
      ]
     },
     "metadata": {},
     "output_type": "display_data"
    },
    {
     "data": {
      "application/vnd.plotly.v1+json": {
       "config": {
        "plotlyServerURL": "https://plot.ly"
       },
       "data": [
        {
         "error_y": {
          "array": [
           0.2948083370759787,
           0.09793950897081365,
           0.08338027583242108,
           0.08420614059754745,
           0.2315249200521695,
           0.0683495718887455,
           0.07098933849096133,
           0.09328435434530853,
           0.08462975346526866,
           0.0749736191678521,
           0.077820486937489,
           0.06665201746369773,
           0.06627244798676465,
           0.09652634791260994,
           0.07528748917382697,
           0.0933772717416134,
           0.12258186520075864,
           0.061958208457933026,
           0.1256162994484964,
           0.09562404573828995,
           0.09732533145132943,
           0.19416184887009585,
           0.08415342797866188,
           0.07669248059184779,
           0.08114269877961702,
           0.3822355474458497,
           0.08870286319007067,
           0.06923592620292131,
           0.09370852447295842,
           0.08107923374875528,
           0.0639756725015939,
           0.07771998965000695,
           0.07245650114298562,
           0.06974807352157782,
           0.0667388485920809,
           0.07399475607823014,
           0.1394376159851329,
           0.09117886230432162,
           0.07404035760831755,
           0.07266668407539877,
           0.06264377016268452,
           0.0695560557777735,
           0.06563389106126022,
           0.06961789522708259,
           0.0666641675557635,
           0.07070508890273311,
           0.04855212310319856,
           0.06195893026970109,
           0.04156085280985875,
           0.06804281909228387,
           0.07684700335251177,
           0.05549051107322118,
           0.08892234604243783,
           0.05588859405188514,
           0.058999652582728886,
           0.06581800151592765,
           0.06351058936255402,
           0.07824070621985292,
           0.06278064162025507,
           0.11448069853377851,
           0.06621957421638644,
           0.07860509655219819,
           0.056865737082506335,
           0.06203726093774377,
           0.07236804952119315,
           0.08944037493635362,
           0.08376296476738912,
           0.05447299362440002,
           0.06909556704338457,
           0.0736186245547659,
           0.06593880675169343,
           0.06476615400940514,
           0.09193877683988233,
           0.06558123911263443,
           0.06946504615463883,
           0.05294231276553677,
           0.06572673355592246,
           0.0484328207468743,
           0.04951215995679367,
           0.0959721468182011,
           0.06427808821901643,
           0.07285930709444005,
           0.061461179824109285,
           0.06706765586571879,
           0.06628599845097512,
           0.07319646991383742,
           0.05314685227638321,
           0.07278135588823297,
           0.06709831171247321,
           0.07046927313947751,
           0.0627953580234812,
           0.06596275506205729,
           0.05498957056743977,
           0.0799769513411238,
           0.06333742522319821,
           0.06684283263298149,
           0.05695049763060875,
           0.06704019286967589,
           0.05479387705913972,
           0.054626934874192984,
           0.05401639880886887,
           0.06234423417861918,
           0.04991421323156679,
           0.09821127377173024,
           0.07911359386983526,
           0.0730648082641317,
           0.04852449742747895,
           0.07126446383865348,
           0.058205675921035815,
           0.05252760737718787,
           0.07824628385642705,
           0.06778041660498385,
           0.043023705491214294,
           0.04750167140327444,
           0.08002694938765398,
           0.06514225577388534,
           0.07037520567282578,
           0.07163570104164202,
           0.08494093404473882,
           0.04284562648964076,
           0.05659516687705308,
           0.07344579636392445,
           0.06211425282397767,
           0.05315113244800134,
           0.0619627898635948,
           0.06517563984376486,
           0.056142147179677936,
           0.04587881784158104,
           0.0595758865992257,
           0.06507365711310903,
           0.06181328307388563,
           0.0481437283191974,
           0.06517525910816245,
           0.06058980199320177,
           0.05076328198840767,
           0.04866909195462209,
           0.0647825999094522,
           0.057656044943924935,
           0.053662332332427086,
           0.08180619838276107,
           0.057943494649025665,
           0.06451420041226899,
           0.08736364388583481,
           0.05855026523040275,
           0.06910397734059176,
           0.05797615376913561,
           0.06242945654963055,
           0.0573269318790736,
           0.05677538802636107,
           0.06868539212605412,
           0.06435899610188156,
           0.047766996977931554,
           0.06666374186612024,
           0.0519638886497521,
           0.05286428135065052,
           0.09711997873675306,
           0.09760404327422917,
           0.06347844887106455,
           0.04682766007312711,
           0.03909019658169111,
           0.06836283498839286,
           0.07102506552793648,
           0.08744769585106331,
           0.043198429720297804,
           0.08678800620099597,
           0.058178590941465,
           0.058948415877797526,
           0.05328309504556402,
           0.08547703406578114,
           0.06985152468440509,
           0.07576494410656388,
           0.0674451112749584,
           0.05331115705316614,
           0.054396703083743954,
           0.05183371067350059,
           0.045305034364328055,
           0.048306125663166034,
           0.04618624845508905,
           0.05161471336201261,
           0.057971977518657694,
           0.06744014126052385,
           0.05735604064723336,
           0.06928413876908733,
           0.05256869511148552,
           0.04305559290011731,
           0.05537291329865877,
           0.04492535041516252,
           0.0561197849642464,
           0.056472566072253275,
           0.0609794420199704,
           0.0484906469406992,
           0.050735297758842925,
           0.05648194266733469,
           0.04331039930546459,
           0.04889310934190073,
           0.0645695433406392,
           0.08047286767032344,
           0.04596179669778671,
           0.0809798824362748,
           0.051974842335561024,
           0.047259290137850914,
           0.05300430417178536,
           0.05252313502504565,
           0.05673164820905063,
           0.05702655177254534,
           0.043371687969013695,
           0.0609918147989113,
           0.050735624923401855,
           0.05412238168832605,
           0.056233145575038355,
           0.059917485989838044,
           0.07953077501526053,
           0.0516407213879439,
           0.05115149976513031,
           0.05764740153830333,
           0.04369871131166106,
           0.07096676058747875,
           0.03982027928907176,
           0.04532111933542586,
           0.06979409582964032,
           0.044712182758732386,
           0.051059196636738545,
           0.04224093420076911,
           0.04118035519326052,
           0.045288733657785255,
           0.039362298456979,
           0.0429059471412868,
           0.06225514697691248,
           0.04221102659939363,
           0.0462839095861091,
           0.05260540207750526,
           0.040905118853276884,
           0.044845428415900335,
           0.02692567429892483,
           0.06603552151032868,
           0.05729989405961382,
           0.04736847568805158,
           0.04897799059276338,
           0.05157341564333865
          ]
         },
         "hovertemplate": "x=%{x}<br>y=%{y}<extra></extra>",
         "legendgroup": "",
         "marker": {
          "color": "#636efa",
          "symbol": "circle"
         },
         "mode": "markers",
         "name": "",
         "orientation": "v",
         "showlegend": false,
         "type": "scatter",
         "x": [
          0,
          1,
          2,
          3,
          4,
          5,
          6,
          7,
          8,
          9,
          10,
          11,
          12,
          13,
          14,
          15,
          16,
          17,
          18,
          19,
          20,
          21,
          22,
          23,
          24,
          25,
          26,
          27,
          28,
          29,
          30,
          31,
          32,
          33,
          34,
          35,
          36,
          37,
          38,
          39,
          40,
          41,
          42,
          43,
          44,
          45,
          46,
          47,
          48,
          49,
          50,
          51,
          52,
          53,
          54,
          55,
          56,
          57,
          58,
          59,
          60,
          61,
          62,
          63,
          64,
          65,
          66,
          67,
          68,
          69,
          70,
          71,
          72,
          73,
          74,
          75,
          76,
          77,
          78,
          79,
          80,
          81,
          82,
          83,
          84,
          85,
          86,
          87,
          88,
          89,
          90,
          91,
          92,
          93,
          94,
          95,
          96,
          97,
          98,
          99,
          100,
          101,
          102,
          103,
          104,
          105,
          106,
          107,
          108,
          109,
          110,
          111,
          112,
          113,
          114,
          115,
          116,
          117,
          118,
          119,
          120,
          121,
          122,
          123,
          124,
          125,
          126,
          127,
          128,
          129,
          130,
          131,
          132,
          133,
          134,
          135,
          136,
          137,
          138,
          139,
          140,
          141,
          142,
          143,
          144,
          145,
          146,
          147,
          148,
          149,
          150,
          151,
          152,
          153,
          154,
          155,
          156,
          157,
          158,
          159,
          160,
          161,
          162,
          163,
          164,
          165,
          166,
          167,
          168,
          169,
          170,
          171,
          172,
          173,
          174,
          175,
          176,
          177,
          178,
          179,
          180,
          181,
          182,
          183,
          184,
          185,
          186,
          187,
          188,
          189,
          190,
          191,
          192,
          193,
          194,
          195,
          196,
          197,
          198,
          199,
          200,
          201,
          202,
          203,
          204,
          205,
          206,
          207,
          208,
          209,
          210,
          211,
          212,
          213,
          214,
          215,
          216,
          217,
          218,
          219,
          220,
          221,
          222,
          223,
          224,
          225,
          226,
          227,
          228,
          229,
          230,
          231,
          232,
          233,
          234,
          235,
          236,
          237,
          238
         ],
         "xaxis": "x",
         "y": [
          -2.6055151325757593,
          -0.01639442195015713,
          0.007781908557253967,
          -0.013386841672732786,
          0.06900008587412064,
          -0.011559808577162973,
          0.0045020668317187285,
          0.019216217200120712,
          0.017585080336766094,
          0.00914094494145437,
          0.011858707426975116,
          0.0034079971679713693,
          0.008201589562893165,
          0.02149679986072333,
          0.00628931996668721,
          0.014552022340890888,
          0.030948553998406316,
          -0.00130276306246515,
          0.031093509114979403,
          0.014506540298226438,
          -0.016421674076078585,
          0.0626306487537645,
          0.014937154420306306,
          -0.011283575070237821,
          0.0034123128879294732,
          0.25247052520429597,
          -0.014899209340405123,
          0.007260834093264444,
          0.015800033634266925,
          0.012108151142470455,
          0.0020647708499554234,
          -0.008307834803476535,
          -0.013492752461269674,
          -0.01269247021586594,
          0.0012742742369632632,
          -0.011988596798444683,
          0.03598916334886333,
          -0.007849179395257542,
          -0.006982245248324026,
          -0.01446381621148186,
          -0.011956929487595972,
          0.011140854392438598,
          0.006513424020175974,
          0.005108208063794483,
          0.00697801986214976,
          0.008675224583439818,
          -0.0030935121968721636,
          -0.009878556642044655,
          0.0028302348594065408,
          0.0001689240743029349,
          -0.008165993876218082,
          -0.0006708961626606384,
          0.017376959501507222,
          -0.004107304470875525,
          0.004996657393020406,
          0.004569038268564636,
          0.007853969552817705,
          0.013368607697091221,
          -0.01142578425847311,
          -0.026939364827789053,
          0.003247237286690483,
          -0.012556559521667062,
          0.006503988685101506,
          -0.007850606107988158,
          0.015572155314599037,
          -0.017091041247549826,
          0.010787763826615605,
          -0.005051269854312411,
          0.007373425367679926,
          -0.008027953924313401,
          0.00434994256585236,
          0.012440063211840316,
          0.022407563198555813,
          -0.005340136325324176,
          -0.01524194071939563,
          0.002224043717999575,
          -0.008579478882391073,
          -0.005751399943410394,
          -0.006599168786693783,
          0.024213492815126098,
          -0.003591857335330747,
          -0.011706558939925948,
          -0.007993308195054958,
          0.01116798108099582,
          -0.0030928258868223074,
          0.01556763866768631,
          -0.00040355913561769454,
          0.012742042169727772,
          0.011591820112378378,
          -0.01105012102449582,
          -0.0028183883493245448,
          0.012802254944810623,
          0.006891409349850609,
          -0.003176206094706382,
          -0.009243298323984905,
          0.005850346895276307,
          0.003132430558466536,
          0.000694286777487209,
          0.0008539745721931735,
          0.0016222590160572458,
          0.00022329827498610144,
          0.006919072730497898,
          -0.004206177914590522,
          -0.021699012553455937,
          -0.017577830356033778,
          -0.011877109528385442,
          -0.003055485519813508,
          0.007321679544328267,
          0.00397726827736614,
          -0.006507865806465311,
          -0.018885724231445772,
          -0.012745009326387575,
          -0.0008886932048477964,
          0.0027532209940965263,
          0.019569859671102755,
          0.00985091415511675,
          0.01095060675578738,
          -0.0025654613613170806,
          -0.020013101878553007,
          -0.0033518504287561087,
          -0.002109456204491968,
          0.013985968855212855,
          -0.007138258599893413,
          -0.004021481146012256,
          -0.003825790823457101,
          -0.007875491543363793,
          0.005234847226352014,
          -0.0030850727755871816,
          -0.01046542388676545,
          -0.010390454816556247,
          0.00648729683715748,
          -0.0018003252346490682,
          0.01266063364939736,
          -0.007386023459330096,
          -0.002890980805569243,
          -0.001191340705407293,
          0.006676397236951568,
          -0.008618219548859258,
          0.001734971238876196,
          0.012965598596018438,
          -0.004021818991918729,
          0.003912050377873335,
          0.020959136131411347,
          0.0001641632731126425,
          0.011788390535343552,
          -0.005724711506737179,
          0.010245627339832688,
          -0.01240585738349233,
          -0.006753142943828325,
          -0.012854498808908384,
          0.01105413787365034,
          0.00202205392220193,
          -0.008098664854852501,
          -0.004408339499627382,
          -0.004016206642912481,
          -0.02403130313872547,
          0.02494382157266174,
          -0.00755818670214099,
          -0.001230254963500783,
          -0.003624434062183976,
          -0.01105122906405271,
          0.01502021653157344,
          0.02238866624857185,
          0.0011699691958846424,
          0.01963552527741864,
          0.0052070466876433345,
          0.004961271504728418,
          -0.005000741891234049,
          -0.018234042525066548,
          0.015297899996325345,
          -0.015142612653913515,
          0.013135653515818049,
          0.0025018345587793462,
          0.00039007907324804645,
          0.007506212077015586,
          0.005107310672804837,
          -0.0059586784863827945,
          -0.00017999197485359353,
          0.005721513803350268,
          0.0022919471793549063,
          0.0017604624768629519,
          -0.011278549964129598,
          0.014143782701578544,
          -0.0014877658338640792,
          0.003155581468303333,
          -0.006074221464739768,
          0.0021778493684590336,
          0.005046604730146513,
          -0.011267954936157143,
          -0.012252878495463127,
          0.004381079954501694,
          0.009581749824843201,
          0.00645230951595078,
          0.005694005737200296,
          -0.006745915443020287,
          0.01269663073547606,
          0.01870059603812319,
          -0.0017713930413125454,
          -0.018312748798682398,
          -0.003925059780915542,
          0.0010434940083730742,
          0.007168308165847487,
          -0.0019442712615227156,
          0.008785613165831868,
          -0.005677920792601382,
          0.0010813127289623996,
          -0.01136583413344367,
          0.0077073975693409125,
          0.006823197080057316,
          0.008963124451036225,
          -0.009375604398975258,
          -0.01851454304920952,
          0.0015280767850150694,
          0.0006010175056027396,
          0.00937250062048669,
          -0.0006677968073105142,
          0.01750643939081407,
          -0.00369416707657525,
          -0.00010026750320916494,
          0.007582466447994911,
          -0.00041310846278299376,
          0.003600432879544956,
          -0.0002625682730653642,
          0.00030542218227496006,
          0.0035544737536644592,
          -0.004463197925229657,
          0.003294568465418902,
          0.011021547895348913,
          0.0019153426324750773,
          -0.005379989513227143,
          0.002065354851573546,
          0.004817137038290785,
          -0.002773022713343156,
          -0.0010539225190487247,
          -0.013765966548395965,
          0.006567984632234368,
          0.009242935300857904,
          0.008630735506189197,
          0.007929990180785258
         ],
         "yaxis": "y"
        }
       ],
       "layout": {
        "legend": {
         "tracegroupgap": 0
        },
        "margin": {
         "t": 60
        },
        "template": {
         "data": {
          "bar": [
           {
            "error_x": {
             "color": "#2a3f5f"
            },
            "error_y": {
             "color": "#2a3f5f"
            },
            "marker": {
             "line": {
              "color": "#E5ECF6",
              "width": 0.5
             },
             "pattern": {
              "fillmode": "overlay",
              "size": 10,
              "solidity": 0.2
             }
            },
            "type": "bar"
           }
          ],
          "barpolar": [
           {
            "marker": {
             "line": {
              "color": "#E5ECF6",
              "width": 0.5
             },
             "pattern": {
              "fillmode": "overlay",
              "size": 10,
              "solidity": 0.2
             }
            },
            "type": "barpolar"
           }
          ],
          "carpet": [
           {
            "aaxis": {
             "endlinecolor": "#2a3f5f",
             "gridcolor": "white",
             "linecolor": "white",
             "minorgridcolor": "white",
             "startlinecolor": "#2a3f5f"
            },
            "baxis": {
             "endlinecolor": "#2a3f5f",
             "gridcolor": "white",
             "linecolor": "white",
             "minorgridcolor": "white",
             "startlinecolor": "#2a3f5f"
            },
            "type": "carpet"
           }
          ],
          "choropleth": [
           {
            "colorbar": {
             "outlinewidth": 0,
             "ticks": ""
            },
            "type": "choropleth"
           }
          ],
          "contour": [
           {
            "colorbar": {
             "outlinewidth": 0,
             "ticks": ""
            },
            "colorscale": [
             [
              0,
              "#0d0887"
             ],
             [
              0.1111111111111111,
              "#46039f"
             ],
             [
              0.2222222222222222,
              "#7201a8"
             ],
             [
              0.3333333333333333,
              "#9c179e"
             ],
             [
              0.4444444444444444,
              "#bd3786"
             ],
             [
              0.5555555555555556,
              "#d8576b"
             ],
             [
              0.6666666666666666,
              "#ed7953"
             ],
             [
              0.7777777777777778,
              "#fb9f3a"
             ],
             [
              0.8888888888888888,
              "#fdca26"
             ],
             [
              1,
              "#f0f921"
             ]
            ],
            "type": "contour"
           }
          ],
          "contourcarpet": [
           {
            "colorbar": {
             "outlinewidth": 0,
             "ticks": ""
            },
            "type": "contourcarpet"
           }
          ],
          "heatmap": [
           {
            "colorbar": {
             "outlinewidth": 0,
             "ticks": ""
            },
            "colorscale": [
             [
              0,
              "#0d0887"
             ],
             [
              0.1111111111111111,
              "#46039f"
             ],
             [
              0.2222222222222222,
              "#7201a8"
             ],
             [
              0.3333333333333333,
              "#9c179e"
             ],
             [
              0.4444444444444444,
              "#bd3786"
             ],
             [
              0.5555555555555556,
              "#d8576b"
             ],
             [
              0.6666666666666666,
              "#ed7953"
             ],
             [
              0.7777777777777778,
              "#fb9f3a"
             ],
             [
              0.8888888888888888,
              "#fdca26"
             ],
             [
              1,
              "#f0f921"
             ]
            ],
            "type": "heatmap"
           }
          ],
          "heatmapgl": [
           {
            "colorbar": {
             "outlinewidth": 0,
             "ticks": ""
            },
            "colorscale": [
             [
              0,
              "#0d0887"
             ],
             [
              0.1111111111111111,
              "#46039f"
             ],
             [
              0.2222222222222222,
              "#7201a8"
             ],
             [
              0.3333333333333333,
              "#9c179e"
             ],
             [
              0.4444444444444444,
              "#bd3786"
             ],
             [
              0.5555555555555556,
              "#d8576b"
             ],
             [
              0.6666666666666666,
              "#ed7953"
             ],
             [
              0.7777777777777778,
              "#fb9f3a"
             ],
             [
              0.8888888888888888,
              "#fdca26"
             ],
             [
              1,
              "#f0f921"
             ]
            ],
            "type": "heatmapgl"
           }
          ],
          "histogram": [
           {
            "marker": {
             "pattern": {
              "fillmode": "overlay",
              "size": 10,
              "solidity": 0.2
             }
            },
            "type": "histogram"
           }
          ],
          "histogram2d": [
           {
            "colorbar": {
             "outlinewidth": 0,
             "ticks": ""
            },
            "colorscale": [
             [
              0,
              "#0d0887"
             ],
             [
              0.1111111111111111,
              "#46039f"
             ],
             [
              0.2222222222222222,
              "#7201a8"
             ],
             [
              0.3333333333333333,
              "#9c179e"
             ],
             [
              0.4444444444444444,
              "#bd3786"
             ],
             [
              0.5555555555555556,
              "#d8576b"
             ],
             [
              0.6666666666666666,
              "#ed7953"
             ],
             [
              0.7777777777777778,
              "#fb9f3a"
             ],
             [
              0.8888888888888888,
              "#fdca26"
             ],
             [
              1,
              "#f0f921"
             ]
            ],
            "type": "histogram2d"
           }
          ],
          "histogram2dcontour": [
           {
            "colorbar": {
             "outlinewidth": 0,
             "ticks": ""
            },
            "colorscale": [
             [
              0,
              "#0d0887"
             ],
             [
              0.1111111111111111,
              "#46039f"
             ],
             [
              0.2222222222222222,
              "#7201a8"
             ],
             [
              0.3333333333333333,
              "#9c179e"
             ],
             [
              0.4444444444444444,
              "#bd3786"
             ],
             [
              0.5555555555555556,
              "#d8576b"
             ],
             [
              0.6666666666666666,
              "#ed7953"
             ],
             [
              0.7777777777777778,
              "#fb9f3a"
             ],
             [
              0.8888888888888888,
              "#fdca26"
             ],
             [
              1,
              "#f0f921"
             ]
            ],
            "type": "histogram2dcontour"
           }
          ],
          "mesh3d": [
           {
            "colorbar": {
             "outlinewidth": 0,
             "ticks": ""
            },
            "type": "mesh3d"
           }
          ],
          "parcoords": [
           {
            "line": {
             "colorbar": {
              "outlinewidth": 0,
              "ticks": ""
             }
            },
            "type": "parcoords"
           }
          ],
          "pie": [
           {
            "automargin": true,
            "type": "pie"
           }
          ],
          "scatter": [
           {
            "fillpattern": {
             "fillmode": "overlay",
             "size": 10,
             "solidity": 0.2
            },
            "type": "scatter"
           }
          ],
          "scatter3d": [
           {
            "line": {
             "colorbar": {
              "outlinewidth": 0,
              "ticks": ""
             }
            },
            "marker": {
             "colorbar": {
              "outlinewidth": 0,
              "ticks": ""
             }
            },
            "type": "scatter3d"
           }
          ],
          "scattercarpet": [
           {
            "marker": {
             "colorbar": {
              "outlinewidth": 0,
              "ticks": ""
             }
            },
            "type": "scattercarpet"
           }
          ],
          "scattergeo": [
           {
            "marker": {
             "colorbar": {
              "outlinewidth": 0,
              "ticks": ""
             }
            },
            "type": "scattergeo"
           }
          ],
          "scattergl": [
           {
            "marker": {
             "colorbar": {
              "outlinewidth": 0,
              "ticks": ""
             }
            },
            "type": "scattergl"
           }
          ],
          "scattermapbox": [
           {
            "marker": {
             "colorbar": {
              "outlinewidth": 0,
              "ticks": ""
             }
            },
            "type": "scattermapbox"
           }
          ],
          "scatterpolar": [
           {
            "marker": {
             "colorbar": {
              "outlinewidth": 0,
              "ticks": ""
             }
            },
            "type": "scatterpolar"
           }
          ],
          "scatterpolargl": [
           {
            "marker": {
             "colorbar": {
              "outlinewidth": 0,
              "ticks": ""
             }
            },
            "type": "scatterpolargl"
           }
          ],
          "scatterternary": [
           {
            "marker": {
             "colorbar": {
              "outlinewidth": 0,
              "ticks": ""
             }
            },
            "type": "scatterternary"
           }
          ],
          "surface": [
           {
            "colorbar": {
             "outlinewidth": 0,
             "ticks": ""
            },
            "colorscale": [
             [
              0,
              "#0d0887"
             ],
             [
              0.1111111111111111,
              "#46039f"
             ],
             [
              0.2222222222222222,
              "#7201a8"
             ],
             [
              0.3333333333333333,
              "#9c179e"
             ],
             [
              0.4444444444444444,
              "#bd3786"
             ],
             [
              0.5555555555555556,
              "#d8576b"
             ],
             [
              0.6666666666666666,
              "#ed7953"
             ],
             [
              0.7777777777777778,
              "#fb9f3a"
             ],
             [
              0.8888888888888888,
              "#fdca26"
             ],
             [
              1,
              "#f0f921"
             ]
            ],
            "type": "surface"
           }
          ],
          "table": [
           {
            "cells": {
             "fill": {
              "color": "#EBF0F8"
             },
             "line": {
              "color": "white"
             }
            },
            "header": {
             "fill": {
              "color": "#C8D4E3"
             },
             "line": {
              "color": "white"
             }
            },
            "type": "table"
           }
          ]
         },
         "layout": {
          "annotationdefaults": {
           "arrowcolor": "#2a3f5f",
           "arrowhead": 0,
           "arrowwidth": 1
          },
          "autotypenumbers": "strict",
          "coloraxis": {
           "colorbar": {
            "outlinewidth": 0,
            "ticks": ""
           }
          },
          "colorscale": {
           "diverging": [
            [
             0,
             "#8e0152"
            ],
            [
             0.1,
             "#c51b7d"
            ],
            [
             0.2,
             "#de77ae"
            ],
            [
             0.3,
             "#f1b6da"
            ],
            [
             0.4,
             "#fde0ef"
            ],
            [
             0.5,
             "#f7f7f7"
            ],
            [
             0.6,
             "#e6f5d0"
            ],
            [
             0.7,
             "#b8e186"
            ],
            [
             0.8,
             "#7fbc41"
            ],
            [
             0.9,
             "#4d9221"
            ],
            [
             1,
             "#276419"
            ]
           ],
           "sequential": [
            [
             0,
             "#0d0887"
            ],
            [
             0.1111111111111111,
             "#46039f"
            ],
            [
             0.2222222222222222,
             "#7201a8"
            ],
            [
             0.3333333333333333,
             "#9c179e"
            ],
            [
             0.4444444444444444,
             "#bd3786"
            ],
            [
             0.5555555555555556,
             "#d8576b"
            ],
            [
             0.6666666666666666,
             "#ed7953"
            ],
            [
             0.7777777777777778,
             "#fb9f3a"
            ],
            [
             0.8888888888888888,
             "#fdca26"
            ],
            [
             1,
             "#f0f921"
            ]
           ],
           "sequentialminus": [
            [
             0,
             "#0d0887"
            ],
            [
             0.1111111111111111,
             "#46039f"
            ],
            [
             0.2222222222222222,
             "#7201a8"
            ],
            [
             0.3333333333333333,
             "#9c179e"
            ],
            [
             0.4444444444444444,
             "#bd3786"
            ],
            [
             0.5555555555555556,
             "#d8576b"
            ],
            [
             0.6666666666666666,
             "#ed7953"
            ],
            [
             0.7777777777777778,
             "#fb9f3a"
            ],
            [
             0.8888888888888888,
             "#fdca26"
            ],
            [
             1,
             "#f0f921"
            ]
           ]
          },
          "colorway": [
           "#636efa",
           "#EF553B",
           "#00cc96",
           "#ab63fa",
           "#FFA15A",
           "#19d3f3",
           "#FF6692",
           "#B6E880",
           "#FF97FF",
           "#FECB52"
          ],
          "font": {
           "color": "#2a3f5f"
          },
          "geo": {
           "bgcolor": "white",
           "lakecolor": "white",
           "landcolor": "#E5ECF6",
           "showlakes": true,
           "showland": true,
           "subunitcolor": "white"
          },
          "hoverlabel": {
           "align": "left"
          },
          "hovermode": "closest",
          "mapbox": {
           "style": "light"
          },
          "paper_bgcolor": "white",
          "plot_bgcolor": "#E5ECF6",
          "polar": {
           "angularaxis": {
            "gridcolor": "white",
            "linecolor": "white",
            "ticks": ""
           },
           "bgcolor": "#E5ECF6",
           "radialaxis": {
            "gridcolor": "white",
            "linecolor": "white",
            "ticks": ""
           }
          },
          "scene": {
           "xaxis": {
            "backgroundcolor": "#E5ECF6",
            "gridcolor": "white",
            "gridwidth": 2,
            "linecolor": "white",
            "showbackground": true,
            "ticks": "",
            "zerolinecolor": "white"
           },
           "yaxis": {
            "backgroundcolor": "#E5ECF6",
            "gridcolor": "white",
            "gridwidth": 2,
            "linecolor": "white",
            "showbackground": true,
            "ticks": "",
            "zerolinecolor": "white"
           },
           "zaxis": {
            "backgroundcolor": "#E5ECF6",
            "gridcolor": "white",
            "gridwidth": 2,
            "linecolor": "white",
            "showbackground": true,
            "ticks": "",
            "zerolinecolor": "white"
           }
          },
          "shapedefaults": {
           "line": {
            "color": "#2a3f5f"
           }
          },
          "ternary": {
           "aaxis": {
            "gridcolor": "white",
            "linecolor": "white",
            "ticks": ""
           },
           "baxis": {
            "gridcolor": "white",
            "linecolor": "white",
            "ticks": ""
           },
           "bgcolor": "#E5ECF6",
           "caxis": {
            "gridcolor": "white",
            "linecolor": "white",
            "ticks": ""
           }
          },
          "title": {
           "x": 0.05
          },
          "xaxis": {
           "automargin": true,
           "gridcolor": "white",
           "linecolor": "white",
           "ticks": "",
           "title": {
            "standoff": 15
           },
           "zerolinecolor": "white",
           "zerolinewidth": 2
          },
          "yaxis": {
           "automargin": true,
           "gridcolor": "white",
           "linecolor": "white",
           "ticks": "",
           "title": {
            "standoff": 15
           },
           "zerolinecolor": "white",
           "zerolinewidth": 2
          }
         }
        },
        "title": {
         "text": "alpha = 3.928573571428572, Rsquared = -0.03431732369584088"
        },
        "xaxis": {
         "anchor": "y",
         "domain": [
          0,
          1
         ],
         "title": {
          "text": "Feature number"
         }
        },
        "yaxis": {
         "anchor": "x",
         "domain": [
          0,
          1
         ],
         "title": {
          "text": "Coefficient value"
         }
        }
       }
      },
      "text/html": [
       "<div>                            <div id=\"addf473e-3ac0-4b48-8f74-87b478136f55\" class=\"plotly-graph-div\" style=\"height:525px; width:100%;\"></div>            <script type=\"text/javascript\">                require([\"plotly\"], function(Plotly) {                    window.PLOTLYENV=window.PLOTLYENV || {};                                    if (document.getElementById(\"addf473e-3ac0-4b48-8f74-87b478136f55\")) {                    Plotly.newPlot(                        \"addf473e-3ac0-4b48-8f74-87b478136f55\",                        [{\"error_y\":{\"array\":[0.2948083370759787,0.09793950897081365,0.08338027583242108,0.08420614059754745,0.2315249200521695,0.0683495718887455,0.07098933849096133,0.09328435434530853,0.08462975346526866,0.0749736191678521,0.077820486937489,0.06665201746369773,0.06627244798676465,0.09652634791260994,0.07528748917382697,0.0933772717416134,0.12258186520075864,0.061958208457933026,0.1256162994484964,0.09562404573828995,0.09732533145132943,0.19416184887009585,0.08415342797866188,0.07669248059184779,0.08114269877961702,0.3822355474458497,0.08870286319007067,0.06923592620292131,0.09370852447295842,0.08107923374875528,0.0639756725015939,0.07771998965000695,0.07245650114298562,0.06974807352157782,0.0667388485920809,0.07399475607823014,0.1394376159851329,0.09117886230432162,0.07404035760831755,0.07266668407539877,0.06264377016268452,0.0695560557777735,0.06563389106126022,0.06961789522708259,0.0666641675557635,0.07070508890273311,0.04855212310319856,0.06195893026970109,0.04156085280985875,0.06804281909228387,0.07684700335251177,0.05549051107322118,0.08892234604243783,0.05588859405188514,0.058999652582728886,0.06581800151592765,0.06351058936255402,0.07824070621985292,0.06278064162025507,0.11448069853377851,0.06621957421638644,0.07860509655219819,0.056865737082506335,0.06203726093774377,0.07236804952119315,0.08944037493635362,0.08376296476738912,0.05447299362440002,0.06909556704338457,0.0736186245547659,0.06593880675169343,0.06476615400940514,0.09193877683988233,0.06558123911263443,0.06946504615463883,0.05294231276553677,0.06572673355592246,0.0484328207468743,0.04951215995679367,0.0959721468182011,0.06427808821901643,0.07285930709444005,0.061461179824109285,0.06706765586571879,0.06628599845097512,0.07319646991383742,0.05314685227638321,0.07278135588823297,0.06709831171247321,0.07046927313947751,0.0627953580234812,0.06596275506205729,0.05498957056743977,0.0799769513411238,0.06333742522319821,0.06684283263298149,0.05695049763060875,0.06704019286967589,0.05479387705913972,0.054626934874192984,0.05401639880886887,0.06234423417861918,0.04991421323156679,0.09821127377173024,0.07911359386983526,0.0730648082641317,0.04852449742747895,0.07126446383865348,0.058205675921035815,0.05252760737718787,0.07824628385642705,0.06778041660498385,0.043023705491214294,0.04750167140327444,0.08002694938765398,0.06514225577388534,0.07037520567282578,0.07163570104164202,0.08494093404473882,0.04284562648964076,0.05659516687705308,0.07344579636392445,0.06211425282397767,0.05315113244800134,0.0619627898635948,0.06517563984376486,0.056142147179677936,0.04587881784158104,0.0595758865992257,0.06507365711310903,0.06181328307388563,0.0481437283191974,0.06517525910816245,0.06058980199320177,0.05076328198840767,0.04866909195462209,0.0647825999094522,0.057656044943924935,0.053662332332427086,0.08180619838276107,0.057943494649025665,0.06451420041226899,0.08736364388583481,0.05855026523040275,0.06910397734059176,0.05797615376913561,0.06242945654963055,0.0573269318790736,0.05677538802636107,0.06868539212605412,0.06435899610188156,0.047766996977931554,0.06666374186612024,0.0519638886497521,0.05286428135065052,0.09711997873675306,0.09760404327422917,0.06347844887106455,0.04682766007312711,0.03909019658169111,0.06836283498839286,0.07102506552793648,0.08744769585106331,0.043198429720297804,0.08678800620099597,0.058178590941465,0.058948415877797526,0.05328309504556402,0.08547703406578114,0.06985152468440509,0.07576494410656388,0.0674451112749584,0.05331115705316614,0.054396703083743954,0.05183371067350059,0.045305034364328055,0.048306125663166034,0.04618624845508905,0.05161471336201261,0.057971977518657694,0.06744014126052385,0.05735604064723336,0.06928413876908733,0.05256869511148552,0.04305559290011731,0.05537291329865877,0.04492535041516252,0.0561197849642464,0.056472566072253275,0.0609794420199704,0.0484906469406992,0.050735297758842925,0.05648194266733469,0.04331039930546459,0.04889310934190073,0.0645695433406392,0.08047286767032344,0.04596179669778671,0.0809798824362748,0.051974842335561024,0.047259290137850914,0.05300430417178536,0.05252313502504565,0.05673164820905063,0.05702655177254534,0.043371687969013695,0.0609918147989113,0.050735624923401855,0.05412238168832605,0.056233145575038355,0.059917485989838044,0.07953077501526053,0.0516407213879439,0.05115149976513031,0.05764740153830333,0.04369871131166106,0.07096676058747875,0.03982027928907176,0.04532111933542586,0.06979409582964032,0.044712182758732386,0.051059196636738545,0.04224093420076911,0.04118035519326052,0.045288733657785255,0.039362298456979,0.0429059471412868,0.06225514697691248,0.04221102659939363,0.0462839095861091,0.05260540207750526,0.040905118853276884,0.044845428415900335,0.02692567429892483,0.06603552151032868,0.05729989405961382,0.04736847568805158,0.04897799059276338,0.05157341564333865]},\"hovertemplate\":\"x=%{x}<br>y=%{y}<extra></extra>\",\"legendgroup\":\"\",\"marker\":{\"color\":\"#636efa\",\"symbol\":\"circle\"},\"mode\":\"markers\",\"name\":\"\",\"orientation\":\"v\",\"showlegend\":false,\"x\":[0,1,2,3,4,5,6,7,8,9,10,11,12,13,14,15,16,17,18,19,20,21,22,23,24,25,26,27,28,29,30,31,32,33,34,35,36,37,38,39,40,41,42,43,44,45,46,47,48,49,50,51,52,53,54,55,56,57,58,59,60,61,62,63,64,65,66,67,68,69,70,71,72,73,74,75,76,77,78,79,80,81,82,83,84,85,86,87,88,89,90,91,92,93,94,95,96,97,98,99,100,101,102,103,104,105,106,107,108,109,110,111,112,113,114,115,116,117,118,119,120,121,122,123,124,125,126,127,128,129,130,131,132,133,134,135,136,137,138,139,140,141,142,143,144,145,146,147,148,149,150,151,152,153,154,155,156,157,158,159,160,161,162,163,164,165,166,167,168,169,170,171,172,173,174,175,176,177,178,179,180,181,182,183,184,185,186,187,188,189,190,191,192,193,194,195,196,197,198,199,200,201,202,203,204,205,206,207,208,209,210,211,212,213,214,215,216,217,218,219,220,221,222,223,224,225,226,227,228,229,230,231,232,233,234,235,236,237,238],\"xaxis\":\"x\",\"y\":[-2.6055151325757593,-0.01639442195015713,0.007781908557253967,-0.013386841672732786,0.06900008587412064,-0.011559808577162973,0.0045020668317187285,0.019216217200120712,0.017585080336766094,0.00914094494145437,0.011858707426975116,0.0034079971679713693,0.008201589562893165,0.02149679986072333,0.00628931996668721,0.014552022340890888,0.030948553998406316,-0.00130276306246515,0.031093509114979403,0.014506540298226438,-0.016421674076078585,0.0626306487537645,0.014937154420306306,-0.011283575070237821,0.0034123128879294732,0.25247052520429597,-0.014899209340405123,0.007260834093264444,0.015800033634266925,0.012108151142470455,0.0020647708499554234,-0.008307834803476535,-0.013492752461269674,-0.01269247021586594,0.0012742742369632632,-0.011988596798444683,0.03598916334886333,-0.007849179395257542,-0.006982245248324026,-0.01446381621148186,-0.011956929487595972,0.011140854392438598,0.006513424020175974,0.005108208063794483,0.00697801986214976,0.008675224583439818,-0.0030935121968721636,-0.009878556642044655,0.0028302348594065408,0.0001689240743029349,-0.008165993876218082,-0.0006708961626606384,0.017376959501507222,-0.004107304470875525,0.004996657393020406,0.004569038268564636,0.007853969552817705,0.013368607697091221,-0.01142578425847311,-0.026939364827789053,0.003247237286690483,-0.012556559521667062,0.006503988685101506,-0.007850606107988158,0.015572155314599037,-0.017091041247549826,0.010787763826615605,-0.005051269854312411,0.007373425367679926,-0.008027953924313401,0.00434994256585236,0.012440063211840316,0.022407563198555813,-0.005340136325324176,-0.01524194071939563,0.002224043717999575,-0.008579478882391073,-0.005751399943410394,-0.006599168786693783,0.024213492815126098,-0.003591857335330747,-0.011706558939925948,-0.007993308195054958,0.01116798108099582,-0.0030928258868223074,0.01556763866768631,-0.00040355913561769454,0.012742042169727772,0.011591820112378378,-0.01105012102449582,-0.0028183883493245448,0.012802254944810623,0.006891409349850609,-0.003176206094706382,-0.009243298323984905,0.005850346895276307,0.003132430558466536,0.000694286777487209,0.0008539745721931735,0.0016222590160572458,0.00022329827498610144,0.006919072730497898,-0.004206177914590522,-0.021699012553455937,-0.017577830356033778,-0.011877109528385442,-0.003055485519813508,0.007321679544328267,0.00397726827736614,-0.006507865806465311,-0.018885724231445772,-0.012745009326387575,-0.0008886932048477964,0.0027532209940965263,0.019569859671102755,0.00985091415511675,0.01095060675578738,-0.0025654613613170806,-0.020013101878553007,-0.0033518504287561087,-0.002109456204491968,0.013985968855212855,-0.007138258599893413,-0.004021481146012256,-0.003825790823457101,-0.007875491543363793,0.005234847226352014,-0.0030850727755871816,-0.01046542388676545,-0.010390454816556247,0.00648729683715748,-0.0018003252346490682,0.01266063364939736,-0.007386023459330096,-0.002890980805569243,-0.001191340705407293,0.006676397236951568,-0.008618219548859258,0.001734971238876196,0.012965598596018438,-0.004021818991918729,0.003912050377873335,0.020959136131411347,0.0001641632731126425,0.011788390535343552,-0.005724711506737179,0.010245627339832688,-0.01240585738349233,-0.006753142943828325,-0.012854498808908384,0.01105413787365034,0.00202205392220193,-0.008098664854852501,-0.004408339499627382,-0.004016206642912481,-0.02403130313872547,0.02494382157266174,-0.00755818670214099,-0.001230254963500783,-0.003624434062183976,-0.01105122906405271,0.01502021653157344,0.02238866624857185,0.0011699691958846424,0.01963552527741864,0.0052070466876433345,0.004961271504728418,-0.005000741891234049,-0.018234042525066548,0.015297899996325345,-0.015142612653913515,0.013135653515818049,0.0025018345587793462,0.00039007907324804645,0.007506212077015586,0.005107310672804837,-0.0059586784863827945,-0.00017999197485359353,0.005721513803350268,0.0022919471793549063,0.0017604624768629519,-0.011278549964129598,0.014143782701578544,-0.0014877658338640792,0.003155581468303333,-0.006074221464739768,0.0021778493684590336,0.005046604730146513,-0.011267954936157143,-0.012252878495463127,0.004381079954501694,0.009581749824843201,0.00645230951595078,0.005694005737200296,-0.006745915443020287,0.01269663073547606,0.01870059603812319,-0.0017713930413125454,-0.018312748798682398,-0.003925059780915542,0.0010434940083730742,0.007168308165847487,-0.0019442712615227156,0.008785613165831868,-0.005677920792601382,0.0010813127289623996,-0.01136583413344367,0.0077073975693409125,0.006823197080057316,0.008963124451036225,-0.009375604398975258,-0.01851454304920952,0.0015280767850150694,0.0006010175056027396,0.00937250062048669,-0.0006677968073105142,0.01750643939081407,-0.00369416707657525,-0.00010026750320916494,0.007582466447994911,-0.00041310846278299376,0.003600432879544956,-0.0002625682730653642,0.00030542218227496006,0.0035544737536644592,-0.004463197925229657,0.003294568465418902,0.011021547895348913,0.0019153426324750773,-0.005379989513227143,0.002065354851573546,0.004817137038290785,-0.002773022713343156,-0.0010539225190487247,-0.013765966548395965,0.006567984632234368,0.009242935300857904,0.008630735506189197,0.007929990180785258],\"yaxis\":\"y\",\"type\":\"scatter\"}],                        {\"template\":{\"data\":{\"histogram2dcontour\":[{\"type\":\"histogram2dcontour\",\"colorbar\":{\"outlinewidth\":0,\"ticks\":\"\"},\"colorscale\":[[0.0,\"#0d0887\"],[0.1111111111111111,\"#46039f\"],[0.2222222222222222,\"#7201a8\"],[0.3333333333333333,\"#9c179e\"],[0.4444444444444444,\"#bd3786\"],[0.5555555555555556,\"#d8576b\"],[0.6666666666666666,\"#ed7953\"],[0.7777777777777778,\"#fb9f3a\"],[0.8888888888888888,\"#fdca26\"],[1.0,\"#f0f921\"]]}],\"choropleth\":[{\"type\":\"choropleth\",\"colorbar\":{\"outlinewidth\":0,\"ticks\":\"\"}}],\"histogram2d\":[{\"type\":\"histogram2d\",\"colorbar\":{\"outlinewidth\":0,\"ticks\":\"\"},\"colorscale\":[[0.0,\"#0d0887\"],[0.1111111111111111,\"#46039f\"],[0.2222222222222222,\"#7201a8\"],[0.3333333333333333,\"#9c179e\"],[0.4444444444444444,\"#bd3786\"],[0.5555555555555556,\"#d8576b\"],[0.6666666666666666,\"#ed7953\"],[0.7777777777777778,\"#fb9f3a\"],[0.8888888888888888,\"#fdca26\"],[1.0,\"#f0f921\"]]}],\"heatmap\":[{\"type\":\"heatmap\",\"colorbar\":{\"outlinewidth\":0,\"ticks\":\"\"},\"colorscale\":[[0.0,\"#0d0887\"],[0.1111111111111111,\"#46039f\"],[0.2222222222222222,\"#7201a8\"],[0.3333333333333333,\"#9c179e\"],[0.4444444444444444,\"#bd3786\"],[0.5555555555555556,\"#d8576b\"],[0.6666666666666666,\"#ed7953\"],[0.7777777777777778,\"#fb9f3a\"],[0.8888888888888888,\"#fdca26\"],[1.0,\"#f0f921\"]]}],\"heatmapgl\":[{\"type\":\"heatmapgl\",\"colorbar\":{\"outlinewidth\":0,\"ticks\":\"\"},\"colorscale\":[[0.0,\"#0d0887\"],[0.1111111111111111,\"#46039f\"],[0.2222222222222222,\"#7201a8\"],[0.3333333333333333,\"#9c179e\"],[0.4444444444444444,\"#bd3786\"],[0.5555555555555556,\"#d8576b\"],[0.6666666666666666,\"#ed7953\"],[0.7777777777777778,\"#fb9f3a\"],[0.8888888888888888,\"#fdca26\"],[1.0,\"#f0f921\"]]}],\"contourcarpet\":[{\"type\":\"contourcarpet\",\"colorbar\":{\"outlinewidth\":0,\"ticks\":\"\"}}],\"contour\":[{\"type\":\"contour\",\"colorbar\":{\"outlinewidth\":0,\"ticks\":\"\"},\"colorscale\":[[0.0,\"#0d0887\"],[0.1111111111111111,\"#46039f\"],[0.2222222222222222,\"#7201a8\"],[0.3333333333333333,\"#9c179e\"],[0.4444444444444444,\"#bd3786\"],[0.5555555555555556,\"#d8576b\"],[0.6666666666666666,\"#ed7953\"],[0.7777777777777778,\"#fb9f3a\"],[0.8888888888888888,\"#fdca26\"],[1.0,\"#f0f921\"]]}],\"surface\":[{\"type\":\"surface\",\"colorbar\":{\"outlinewidth\":0,\"ticks\":\"\"},\"colorscale\":[[0.0,\"#0d0887\"],[0.1111111111111111,\"#46039f\"],[0.2222222222222222,\"#7201a8\"],[0.3333333333333333,\"#9c179e\"],[0.4444444444444444,\"#bd3786\"],[0.5555555555555556,\"#d8576b\"],[0.6666666666666666,\"#ed7953\"],[0.7777777777777778,\"#fb9f3a\"],[0.8888888888888888,\"#fdca26\"],[1.0,\"#f0f921\"]]}],\"mesh3d\":[{\"type\":\"mesh3d\",\"colorbar\":{\"outlinewidth\":0,\"ticks\":\"\"}}],\"scatter\":[{\"fillpattern\":{\"fillmode\":\"overlay\",\"size\":10,\"solidity\":0.2},\"type\":\"scatter\"}],\"parcoords\":[{\"type\":\"parcoords\",\"line\":{\"colorbar\":{\"outlinewidth\":0,\"ticks\":\"\"}}}],\"scatterpolargl\":[{\"type\":\"scatterpolargl\",\"marker\":{\"colorbar\":{\"outlinewidth\":0,\"ticks\":\"\"}}}],\"bar\":[{\"error_x\":{\"color\":\"#2a3f5f\"},\"error_y\":{\"color\":\"#2a3f5f\"},\"marker\":{\"line\":{\"color\":\"#E5ECF6\",\"width\":0.5},\"pattern\":{\"fillmode\":\"overlay\",\"size\":10,\"solidity\":0.2}},\"type\":\"bar\"}],\"scattergeo\":[{\"type\":\"scattergeo\",\"marker\":{\"colorbar\":{\"outlinewidth\":0,\"ticks\":\"\"}}}],\"scatterpolar\":[{\"type\":\"scatterpolar\",\"marker\":{\"colorbar\":{\"outlinewidth\":0,\"ticks\":\"\"}}}],\"histogram\":[{\"marker\":{\"pattern\":{\"fillmode\":\"overlay\",\"size\":10,\"solidity\":0.2}},\"type\":\"histogram\"}],\"scattergl\":[{\"type\":\"scattergl\",\"marker\":{\"colorbar\":{\"outlinewidth\":0,\"ticks\":\"\"}}}],\"scatter3d\":[{\"type\":\"scatter3d\",\"line\":{\"colorbar\":{\"outlinewidth\":0,\"ticks\":\"\"}},\"marker\":{\"colorbar\":{\"outlinewidth\":0,\"ticks\":\"\"}}}],\"scattermapbox\":[{\"type\":\"scattermapbox\",\"marker\":{\"colorbar\":{\"outlinewidth\":0,\"ticks\":\"\"}}}],\"scatterternary\":[{\"type\":\"scatterternary\",\"marker\":{\"colorbar\":{\"outlinewidth\":0,\"ticks\":\"\"}}}],\"scattercarpet\":[{\"type\":\"scattercarpet\",\"marker\":{\"colorbar\":{\"outlinewidth\":0,\"ticks\":\"\"}}}],\"carpet\":[{\"aaxis\":{\"endlinecolor\":\"#2a3f5f\",\"gridcolor\":\"white\",\"linecolor\":\"white\",\"minorgridcolor\":\"white\",\"startlinecolor\":\"#2a3f5f\"},\"baxis\":{\"endlinecolor\":\"#2a3f5f\",\"gridcolor\":\"white\",\"linecolor\":\"white\",\"minorgridcolor\":\"white\",\"startlinecolor\":\"#2a3f5f\"},\"type\":\"carpet\"}],\"table\":[{\"cells\":{\"fill\":{\"color\":\"#EBF0F8\"},\"line\":{\"color\":\"white\"}},\"header\":{\"fill\":{\"color\":\"#C8D4E3\"},\"line\":{\"color\":\"white\"}},\"type\":\"table\"}],\"barpolar\":[{\"marker\":{\"line\":{\"color\":\"#E5ECF6\",\"width\":0.5},\"pattern\":{\"fillmode\":\"overlay\",\"size\":10,\"solidity\":0.2}},\"type\":\"barpolar\"}],\"pie\":[{\"automargin\":true,\"type\":\"pie\"}]},\"layout\":{\"autotypenumbers\":\"strict\",\"colorway\":[\"#636efa\",\"#EF553B\",\"#00cc96\",\"#ab63fa\",\"#FFA15A\",\"#19d3f3\",\"#FF6692\",\"#B6E880\",\"#FF97FF\",\"#FECB52\"],\"font\":{\"color\":\"#2a3f5f\"},\"hovermode\":\"closest\",\"hoverlabel\":{\"align\":\"left\"},\"paper_bgcolor\":\"white\",\"plot_bgcolor\":\"#E5ECF6\",\"polar\":{\"bgcolor\":\"#E5ECF6\",\"angularaxis\":{\"gridcolor\":\"white\",\"linecolor\":\"white\",\"ticks\":\"\"},\"radialaxis\":{\"gridcolor\":\"white\",\"linecolor\":\"white\",\"ticks\":\"\"}},\"ternary\":{\"bgcolor\":\"#E5ECF6\",\"aaxis\":{\"gridcolor\":\"white\",\"linecolor\":\"white\",\"ticks\":\"\"},\"baxis\":{\"gridcolor\":\"white\",\"linecolor\":\"white\",\"ticks\":\"\"},\"caxis\":{\"gridcolor\":\"white\",\"linecolor\":\"white\",\"ticks\":\"\"}},\"coloraxis\":{\"colorbar\":{\"outlinewidth\":0,\"ticks\":\"\"}},\"colorscale\":{\"sequential\":[[0.0,\"#0d0887\"],[0.1111111111111111,\"#46039f\"],[0.2222222222222222,\"#7201a8\"],[0.3333333333333333,\"#9c179e\"],[0.4444444444444444,\"#bd3786\"],[0.5555555555555556,\"#d8576b\"],[0.6666666666666666,\"#ed7953\"],[0.7777777777777778,\"#fb9f3a\"],[0.8888888888888888,\"#fdca26\"],[1.0,\"#f0f921\"]],\"sequentialminus\":[[0.0,\"#0d0887\"],[0.1111111111111111,\"#46039f\"],[0.2222222222222222,\"#7201a8\"],[0.3333333333333333,\"#9c179e\"],[0.4444444444444444,\"#bd3786\"],[0.5555555555555556,\"#d8576b\"],[0.6666666666666666,\"#ed7953\"],[0.7777777777777778,\"#fb9f3a\"],[0.8888888888888888,\"#fdca26\"],[1.0,\"#f0f921\"]],\"diverging\":[[0,\"#8e0152\"],[0.1,\"#c51b7d\"],[0.2,\"#de77ae\"],[0.3,\"#f1b6da\"],[0.4,\"#fde0ef\"],[0.5,\"#f7f7f7\"],[0.6,\"#e6f5d0\"],[0.7,\"#b8e186\"],[0.8,\"#7fbc41\"],[0.9,\"#4d9221\"],[1,\"#276419\"]]},\"xaxis\":{\"gridcolor\":\"white\",\"linecolor\":\"white\",\"ticks\":\"\",\"title\":{\"standoff\":15},\"zerolinecolor\":\"white\",\"automargin\":true,\"zerolinewidth\":2},\"yaxis\":{\"gridcolor\":\"white\",\"linecolor\":\"white\",\"ticks\":\"\",\"title\":{\"standoff\":15},\"zerolinecolor\":\"white\",\"automargin\":true,\"zerolinewidth\":2},\"scene\":{\"xaxis\":{\"backgroundcolor\":\"#E5ECF6\",\"gridcolor\":\"white\",\"linecolor\":\"white\",\"showbackground\":true,\"ticks\":\"\",\"zerolinecolor\":\"white\",\"gridwidth\":2},\"yaxis\":{\"backgroundcolor\":\"#E5ECF6\",\"gridcolor\":\"white\",\"linecolor\":\"white\",\"showbackground\":true,\"ticks\":\"\",\"zerolinecolor\":\"white\",\"gridwidth\":2},\"zaxis\":{\"backgroundcolor\":\"#E5ECF6\",\"gridcolor\":\"white\",\"linecolor\":\"white\",\"showbackground\":true,\"ticks\":\"\",\"zerolinecolor\":\"white\",\"gridwidth\":2}},\"shapedefaults\":{\"line\":{\"color\":\"#2a3f5f\"}},\"annotationdefaults\":{\"arrowcolor\":\"#2a3f5f\",\"arrowhead\":0,\"arrowwidth\":1},\"geo\":{\"bgcolor\":\"white\",\"landcolor\":\"#E5ECF6\",\"subunitcolor\":\"white\",\"showland\":true,\"showlakes\":true,\"lakecolor\":\"white\"},\"title\":{\"x\":0.05},\"mapbox\":{\"style\":\"light\"}}},\"xaxis\":{\"anchor\":\"y\",\"domain\":[0.0,1.0],\"title\":{\"text\":\"Feature number\"}},\"yaxis\":{\"anchor\":\"x\",\"domain\":[0.0,1.0],\"title\":{\"text\":\"Coefficient value\"}},\"legend\":{\"tracegroupgap\":0},\"margin\":{\"t\":60},\"title\":{\"text\":\"alpha = 3.928573571428572, Rsquared = -0.03431732369584088\"}},                        {\"responsive\": true}                    ).then(function(){\n",
       "                            \n",
       "var gd = document.getElementById('addf473e-3ac0-4b48-8f74-87b478136f55');\n",
       "var x = new MutationObserver(function (mutations, observer) {{\n",
       "        var display = window.getComputedStyle(gd).display;\n",
       "        if (!display || display === 'none') {{\n",
       "            console.log([gd, 'removed!']);\n",
       "            Plotly.purge(gd);\n",
       "            observer.disconnect();\n",
       "        }}\n",
       "}});\n",
       "\n",
       "// Listen for the removal of the full notebook cells\n",
       "var notebookContainer = gd.closest('#notebook-container');\n",
       "if (notebookContainer) {{\n",
       "    x.observe(notebookContainer, {childList: true});\n",
       "}}\n",
       "\n",
       "// Listen for the clearing of the current output cell\n",
       "var outputEl = gd.closest('.output');\n",
       "if (outputEl) {{\n",
       "    x.observe(outputEl, {childList: true});\n",
       "}}\n",
       "\n",
       "                        })                };                });            </script>        </div>"
      ]
     },
     "metadata": {},
     "output_type": "display_data"
    },
    {
     "data": {
      "application/vnd.plotly.v1+json": {
       "config": {
        "plotlyServerURL": "https://plot.ly"
       },
       "data": [
        {
         "error_y": {
          "array": [
           0.29497380194891587,
           0.09419859174230852,
           0.08013601157264885,
           0.0809812474529142,
           0.22320053822515218,
           0.06574035040953598,
           0.06821490003872557,
           0.0897708653031728,
           0.08144454923348797,
           0.07207349468849406,
           0.07483425253250316,
           0.06404362588211829,
           0.06371000410761869,
           0.09291625484701621,
           0.07235329194820275,
           0.08979774305632582,
           0.11806122895973005,
           0.05952853341834375,
           0.12097230860457135,
           0.09195389711136659,
           0.09360948716406155,
           0.1872897267137936,
           0.08094991276710793,
           0.07374507245283746,
           0.07796468578247691,
           0.3733513862368095,
           0.08531538134220983,
           0.06654785789499178,
           0.09013062683205443,
           0.07796519715728752,
           0.06146830039733299,
           0.07470375975171385,
           0.06970674003461198,
           0.06709707760716166,
           0.0641215107347789,
           0.07116360224437149,
           0.13431013839952777,
           0.08762678269413701,
           0.07116000187631122,
           0.06992219478907671,
           0.06027046342189953,
           0.06689320408938607,
           0.06308288389379967,
           0.06690055915898914,
           0.06407584568006064,
           0.06797057366046762,
           0.046654653961794454,
           0.05958638703408176,
           0.03993749721876516,
           0.065373441502634,
           0.07386427108110916,
           0.0533138582853291,
           0.08555921684641034,
           0.05370717729050482,
           0.056700667569777256,
           0.0632476099509812,
           0.06105488034696781,
           0.07525560000729936,
           0.06039448134309144,
           0.11022350303669687,
           0.06362759291595005,
           0.07559541774352327,
           0.05466231476857275,
           0.059640172333621275,
           0.06965268446243966,
           0.0860521318742114,
           0.08052817713238855,
           0.052353265288345475,
           0.06641394311115431,
           0.07076282872455411,
           0.06336255949316622,
           0.06231354179942857,
           0.08853349654604542,
           0.06302448273906536,
           0.06686332666447342,
           0.05086878115607866,
           0.06318957277232025,
           0.04655798006415607,
           0.04760223565083718,
           0.0924325239685409,
           0.061763806006808725,
           0.07007042900714838,
           0.05908839378166036,
           0.06450520266594326,
           0.06369085965485449,
           0.0704471364568036,
           0.05106195724874623,
           0.0700084498277916,
           0.06453993118937325,
           0.06776868686406091,
           0.060336502639762285,
           0.06346671500650425,
           0.052864174856998444,
           0.07684403045388108,
           0.060902456419785894,
           0.06423943495257917,
           0.05472263454292557,
           0.06441039958707297,
           0.05264474605440309,
           0.05248564158893595,
           0.0518973114094858,
           0.059926771601222284,
           0.04796912084076729,
           0.09453533311168759,
           0.07615406511625898,
           0.07026970514805975,
           0.046627938179733056,
           0.06849647326750011,
           0.05593224634518072,
           0.05049667840407519,
           0.07534485109726988,
           0.06520981447145854,
           0.04133651750615334,
           0.045644026119216696,
           0.0770640447902135,
           0.06264167800507191,
           0.06767724670409181,
           0.06882875029899245,
           0.08178266790524416,
           0.04117443492638482,
           0.054377782849243675,
           0.07066278568497653,
           0.05970774977873125,
           0.05107719862562482,
           0.05954065108395831,
           0.06265388482483798,
           0.05395766426894972,
           0.044086607650574906,
           0.057306554369813224,
           0.06258202434067539,
           0.059413434950157544,
           0.046257485687560045,
           0.06270917876363602,
           0.058246060413791795,
           0.0487778673355504,
           0.04676082865666356,
           0.06226652916268479,
           0.055441718927233714,
           0.05155917400529331,
           0.07867275189754941,
           0.0556806233806961,
           0.06199200417098021,
           0.08412187563289505,
           0.0562532922654869,
           0.06646722307270812,
           0.055722571206570655,
           0.06004238412201565,
           0.055177051983309425,
           0.05457770261381303,
           0.06607962831170601,
           0.06190424303792167,
           0.045896209153016974,
           0.06408479771013949,
           0.049939106965764465,
           0.050801632367511874,
           0.09352933041395764,
           0.09401019760619912,
           0.061021366697414446,
           0.0449917548661434,
           0.037569062196413906,
           0.06574686980911049,
           0.06835595282519054,
           0.08422857573620977,
           0.04150487969183346,
           0.0835472193103524,
           0.05591340077524384,
           0.05665123369410078,
           0.05121008192761078,
           0.08226728723202538,
           0.06723486376574543,
           0.07290435326281493,
           0.06489363432654265,
           0.051224041303678414,
           0.052262765193324,
           0.0498403696986726,
           0.04354893955959188,
           0.04643817722285173,
           0.044374338098020015,
           0.0496132435895584,
           0.0557010226893799,
           0.064796090020244,
           0.055187795070018905,
           0.06667265672364808,
           0.050507924473981176,
           0.04137502096460608,
           0.05322519091698666,
           0.043166781653935636,
           0.05393491255402167,
           0.054340103306939294,
           0.058678060718255896,
           0.046602931155271,
           0.04881172060665979,
           0.05429332582816629,
           0.041638938858407235,
           0.047009361180078806,
           0.0621285981578453,
           0.07747624972047304,
           0.04416118860732785,
           0.07795583385028758,
           0.04994676538367547,
           0.0454061086806524,
           0.05096069911518054,
           0.050465255344768006,
           0.05455625779475837,
           0.05481022515693704,
           0.04167116610879617,
           0.05867725464449501,
           0.04878845865805453,
           0.052030879279436885,
           0.05407982541483541,
           0.05762104436404605,
           0.07656980227597154,
           0.04961647110777722,
           0.04914503228230367,
           0.0554421121562005,
           0.04198474090219397,
           0.06834205467701011,
           0.038270748845005184,
           0.04354313120255781,
           0.06708643159259395,
           0.042958216708092085,
           0.04906547014594158,
           0.040583837162407266,
           0.03956488920674728,
           0.04352231538280131,
           0.037836769149117884,
           0.041232047697671664,
           0.05988487045715858,
           0.04055825396514489,
           0.04449124481068095,
           0.05054463183356756,
           0.03932132402958371,
           0.04309242976595805,
           0.025870875438758902,
           0.0635508312506974,
           0.05507977039845632,
           0.045576756930646604,
           0.047112698252802385,
           0.04959517181037693
          ]
         },
         "hovertemplate": "x=%{x}<br>y=%{y}<extra></extra>",
         "legendgroup": "",
         "marker": {
          "color": "#636efa",
          "symbol": "circle"
         },
         "mode": "markers",
         "name": "",
         "orientation": "v",
         "showlegend": false,
         "type": "scatter",
         "x": [
          0,
          1,
          2,
          3,
          4,
          5,
          6,
          7,
          8,
          9,
          10,
          11,
          12,
          13,
          14,
          15,
          16,
          17,
          18,
          19,
          20,
          21,
          22,
          23,
          24,
          25,
          26,
          27,
          28,
          29,
          30,
          31,
          32,
          33,
          34,
          35,
          36,
          37,
          38,
          39,
          40,
          41,
          42,
          43,
          44,
          45,
          46,
          47,
          48,
          49,
          50,
          51,
          52,
          53,
          54,
          55,
          56,
          57,
          58,
          59,
          60,
          61,
          62,
          63,
          64,
          65,
          66,
          67,
          68,
          69,
          70,
          71,
          72,
          73,
          74,
          75,
          76,
          77,
          78,
          79,
          80,
          81,
          82,
          83,
          84,
          85,
          86,
          87,
          88,
          89,
          90,
          91,
          92,
          93,
          94,
          95,
          96,
          97,
          98,
          99,
          100,
          101,
          102,
          103,
          104,
          105,
          106,
          107,
          108,
          109,
          110,
          111,
          112,
          113,
          114,
          115,
          116,
          117,
          118,
          119,
          120,
          121,
          122,
          123,
          124,
          125,
          126,
          127,
          128,
          129,
          130,
          131,
          132,
          133,
          134,
          135,
          136,
          137,
          138,
          139,
          140,
          141,
          142,
          143,
          144,
          145,
          146,
          147,
          148,
          149,
          150,
          151,
          152,
          153,
          154,
          155,
          156,
          157,
          158,
          159,
          160,
          161,
          162,
          163,
          164,
          165,
          166,
          167,
          168,
          169,
          170,
          171,
          172,
          173,
          174,
          175,
          176,
          177,
          178,
          179,
          180,
          181,
          182,
          183,
          184,
          185,
          186,
          187,
          188,
          189,
          190,
          191,
          192,
          193,
          194,
          195,
          196,
          197,
          198,
          199,
          200,
          201,
          202,
          203,
          204,
          205,
          206,
          207,
          208,
          209,
          210,
          211,
          212,
          213,
          214,
          215,
          216,
          217,
          218,
          219,
          220,
          221,
          222,
          223,
          224,
          225,
          226,
          227,
          228,
          229,
          230,
          231,
          232,
          233,
          234,
          235,
          236,
          237,
          238
         ],
         "xaxis": "x",
         "y": [
          -2.6055623513985995,
          -0.015133312569375812,
          0.0071833002066959695,
          -0.01235708462098411,
          0.06369238696072674,
          -0.01067059253276582,
          0.004155753998509596,
          0.017738046646265274,
          0.016232381849322547,
          0.008437795330573266,
          0.010946499163361646,
          0.0031458435396658794,
          0.007570698058055228,
          0.019843199871436918,
          0.005805526123095887,
          0.013432636006976206,
          0.028567895998528908,
          -0.0012025505191986,
          0.02870170072151945,
          0.01339065258297825,
          -0.015158468377918692,
          0.05781290654193647,
          0.013788142541821206,
          -0.010415607757142604,
          0.0031498272811656676,
          0.23304971557319626,
          -0.013753116314220113,
          0.0067023083937825636,
          0.014584646431631008,
          0.011176754900741957,
          0.0019059423230357755,
          -0.007668770587824495,
          -0.012454848425787392,
          -0.011716126353107023,
          0.0011762531418122429,
          -0.011066397044718169,
          0.03322076616818154,
          -0.007245396364853116,
          -0.0064451494599914085,
          -0.013351214964444795,
          -0.01103716568085782,
          0.010283865593020244,
          0.006012391403239361,
          0.004715268981964138,
          0.006441249103522856,
          0.00800789961548291,
          -0.0028555497201896893,
          -0.009118667669579682,
          0.0026125244856060378,
          0.00015592991474117069,
          -0.007537840501124383,
          -0.000619288765532897,
          0.01604027030908359,
          -0.003791357973115869,
          0.004612299132018836,
          0.004217573786367356,
          0.007249818048754805,
          0.012340253258853434,
          -0.010546877777052101,
          -0.024867105994882205,
          0.0029974498030989074,
          -0.011590670327692672,
          0.006003681863170621,
          -0.007246713330450607,
          0.014374297213476035,
          -0.015776345766969072,
          0.009957935839952865,
          -0.004662710634749918,
          0.006806238800935316,
          -0.0074104190070585245,
          0.004015331599248332,
          0.011483135272467984,
          0.020683904490974594,
          -0.004929356607991547,
          -0.014069483740980583,
          0.0020529634319996076,
          -0.00791951896836099,
          -0.005308984563148056,
          -0.0060915404184865695,
          0.02235091644473178,
          -0.003315560617228382,
          -0.01080605440608549,
          -0.007378438333896884,
          0.01030890561322691,
          -0.0028549162032205917,
          0.01437012800094121,
          -0.0003725161251855642,
          0.011761885079748713,
          0.010700141642195427,
          -0.010200111714919219,
          -0.002601589245530349,
          0.011817466102902113,
          0.006361300938323639,
          -0.0029318825489597373,
          -0.008532275375986068,
          0.005400320211024284,
          0.0028914743616614176,
          0.0006408801022958852,
          0.0007882842204860063,
          0.0014974698609759192,
          0.0002061214846025552,
          0.006386836366613444,
          -0.0038826257673143286,
          -0.020029857741651638,
          -0.016225689559415793,
          -0.01096348571850964,
          -0.002820448172135546,
          0.0067584734255337845,
          0.0036713245637225913,
          -0.006007260744429518,
          -0.01743297621364225,
          -0.011764623993588531,
          -0.0008203321890902735,
          0.0025414347637814087,
          0.018064485850248696,
          0.009093151527800077,
          0.010108252389957582,
          -0.0023681181796773054,
          -0.0184736325032797,
          -0.003094015780390254,
          -0.0019471903426079705,
          0.012910125097119559,
          -0.006589161784516997,
          -0.0037121364424728513,
          -0.003531499221652709,
          -0.007269684501566578,
          0.0048321666704787825,
          -0.0028477594851573987,
          -0.009660391280091185,
          -0.009591189061436535,
          0.005988274003529982,
          -0.0016618386781376013,
          0.01168673875328987,
          -0.006817867808612397,
          -0.002668597666679301,
          -0.0010996991126836551,
          0.006162828218724524,
          -0.007955279583562392,
          0.0016015119128087963,
          0.011968244857863174,
          -0.003712448300232673,
          0.003611123425729232,
          0.01934689489053355,
          0.00015153532902705463,
          0.010881591263394049,
          -0.0052843490831420105,
          0.009457502159845558,
          -0.011451560661685227,
          -0.006233670409687685,
          -0.011865691208223124,
          0.010203819575677238,
          0.0018665113128017816,
          -0.007475690635248463,
          -0.004069236461194507,
          -0.0037072676703807515,
          -0.022182741358823508,
          0.023025066067072372,
          -0.006976787725053221,
          -0.0011356199663084148,
          -0.003345631442015978,
          -0.01020113452066404,
          0.013864815259913944,
          0.02066646115252786,
          0.0010799715654319776,
          0.018125100256078747,
          0.004806504634747694,
          0.004579635235133924,
          -0.004616069438062199,
          -0.016831423869292195,
          0.014121138458146474,
          -0.013977796295920168,
          0.012125218629985892,
          0.00230938574656555,
          0.0003600729906905044,
          0.006928811148014386,
          0.004714440621050619,
          -0.005500318602814887,
          -0.00016614643832639403,
          0.00528139735693871,
          0.0021156435501737594,
          0.0016250422863350324,
          -0.01041096919765809,
          0.013055799416841733,
          -0.001373322308182227,
          0.00291284443228,
          -0.005606973659759786,
          0.002010322493962185,
          0.004658404366289089,
          -0.010401189171837364,
          -0.011310349380427501,
          0.00404407380415541,
          0.008844692146009109,
          0.0059559780147237975,
          0.005256005295877196,
          -0.006226998870480265,
          0.011719966832747133,
          0.017262088650575252,
          -0.0016351320381346574,
          -0.016904075814168366,
          -0.0036231321054605,
          0.0009632252384982224,
          0.0066168998453976806,
          -0.001794711933713276,
          0.008109796768460187,
          -0.005241157654708967,
          0.0009981348267345228,
          -0.01049153920010185,
          0.007114520833237765,
          0.006298335766206753,
          0.008273653339418055,
          -0.008654404060592546,
          -0.017090347430039555,
          0.001410532416936987,
          0.0005547853897871442,
          0.008651539034295407,
          -0.0006164278221327823,
          0.016159790206905295,
          -0.003410000378377154,
          -9.255461834692149e-05,
          0.0069991997981491486,
          -0.00038133088872276344,
          0.003323476504195344,
          -0.00024237071359879773,
          0.0002819281682538093,
          0.00328105269569027,
          -0.004119875007904299,
          0.0030411401219251405,
          0.01017373651878361,
          0.0017680085838231482,
          -0.004966144166055825,
          0.0019064814014525043,
          0.00444658803534534,
          -0.0025597132738552205,
          -0.0009728515560449766,
          -0.012707046044673199,
          0.006062755045139417,
          0.008531940277714988,
          0.007966832774943875,
          0.007319990936109468
         ],
         "yaxis": "y"
        }
       ],
       "layout": {
        "legend": {
         "tracegroupgap": 0
        },
        "margin": {
         "t": 60
        },
        "template": {
         "data": {
          "bar": [
           {
            "error_x": {
             "color": "#2a3f5f"
            },
            "error_y": {
             "color": "#2a3f5f"
            },
            "marker": {
             "line": {
              "color": "#E5ECF6",
              "width": 0.5
             },
             "pattern": {
              "fillmode": "overlay",
              "size": 10,
              "solidity": 0.2
             }
            },
            "type": "bar"
           }
          ],
          "barpolar": [
           {
            "marker": {
             "line": {
              "color": "#E5ECF6",
              "width": 0.5
             },
             "pattern": {
              "fillmode": "overlay",
              "size": 10,
              "solidity": 0.2
             }
            },
            "type": "barpolar"
           }
          ],
          "carpet": [
           {
            "aaxis": {
             "endlinecolor": "#2a3f5f",
             "gridcolor": "white",
             "linecolor": "white",
             "minorgridcolor": "white",
             "startlinecolor": "#2a3f5f"
            },
            "baxis": {
             "endlinecolor": "#2a3f5f",
             "gridcolor": "white",
             "linecolor": "white",
             "minorgridcolor": "white",
             "startlinecolor": "#2a3f5f"
            },
            "type": "carpet"
           }
          ],
          "choropleth": [
           {
            "colorbar": {
             "outlinewidth": 0,
             "ticks": ""
            },
            "type": "choropleth"
           }
          ],
          "contour": [
           {
            "colorbar": {
             "outlinewidth": 0,
             "ticks": ""
            },
            "colorscale": [
             [
              0,
              "#0d0887"
             ],
             [
              0.1111111111111111,
              "#46039f"
             ],
             [
              0.2222222222222222,
              "#7201a8"
             ],
             [
              0.3333333333333333,
              "#9c179e"
             ],
             [
              0.4444444444444444,
              "#bd3786"
             ],
             [
              0.5555555555555556,
              "#d8576b"
             ],
             [
              0.6666666666666666,
              "#ed7953"
             ],
             [
              0.7777777777777778,
              "#fb9f3a"
             ],
             [
              0.8888888888888888,
              "#fdca26"
             ],
             [
              1,
              "#f0f921"
             ]
            ],
            "type": "contour"
           }
          ],
          "contourcarpet": [
           {
            "colorbar": {
             "outlinewidth": 0,
             "ticks": ""
            },
            "type": "contourcarpet"
           }
          ],
          "heatmap": [
           {
            "colorbar": {
             "outlinewidth": 0,
             "ticks": ""
            },
            "colorscale": [
             [
              0,
              "#0d0887"
             ],
             [
              0.1111111111111111,
              "#46039f"
             ],
             [
              0.2222222222222222,
              "#7201a8"
             ],
             [
              0.3333333333333333,
              "#9c179e"
             ],
             [
              0.4444444444444444,
              "#bd3786"
             ],
             [
              0.5555555555555556,
              "#d8576b"
             ],
             [
              0.6666666666666666,
              "#ed7953"
             ],
             [
              0.7777777777777778,
              "#fb9f3a"
             ],
             [
              0.8888888888888888,
              "#fdca26"
             ],
             [
              1,
              "#f0f921"
             ]
            ],
            "type": "heatmap"
           }
          ],
          "heatmapgl": [
           {
            "colorbar": {
             "outlinewidth": 0,
             "ticks": ""
            },
            "colorscale": [
             [
              0,
              "#0d0887"
             ],
             [
              0.1111111111111111,
              "#46039f"
             ],
             [
              0.2222222222222222,
              "#7201a8"
             ],
             [
              0.3333333333333333,
              "#9c179e"
             ],
             [
              0.4444444444444444,
              "#bd3786"
             ],
             [
              0.5555555555555556,
              "#d8576b"
             ],
             [
              0.6666666666666666,
              "#ed7953"
             ],
             [
              0.7777777777777778,
              "#fb9f3a"
             ],
             [
              0.8888888888888888,
              "#fdca26"
             ],
             [
              1,
              "#f0f921"
             ]
            ],
            "type": "heatmapgl"
           }
          ],
          "histogram": [
           {
            "marker": {
             "pattern": {
              "fillmode": "overlay",
              "size": 10,
              "solidity": 0.2
             }
            },
            "type": "histogram"
           }
          ],
          "histogram2d": [
           {
            "colorbar": {
             "outlinewidth": 0,
             "ticks": ""
            },
            "colorscale": [
             [
              0,
              "#0d0887"
             ],
             [
              0.1111111111111111,
              "#46039f"
             ],
             [
              0.2222222222222222,
              "#7201a8"
             ],
             [
              0.3333333333333333,
              "#9c179e"
             ],
             [
              0.4444444444444444,
              "#bd3786"
             ],
             [
              0.5555555555555556,
              "#d8576b"
             ],
             [
              0.6666666666666666,
              "#ed7953"
             ],
             [
              0.7777777777777778,
              "#fb9f3a"
             ],
             [
              0.8888888888888888,
              "#fdca26"
             ],
             [
              1,
              "#f0f921"
             ]
            ],
            "type": "histogram2d"
           }
          ],
          "histogram2dcontour": [
           {
            "colorbar": {
             "outlinewidth": 0,
             "ticks": ""
            },
            "colorscale": [
             [
              0,
              "#0d0887"
             ],
             [
              0.1111111111111111,
              "#46039f"
             ],
             [
              0.2222222222222222,
              "#7201a8"
             ],
             [
              0.3333333333333333,
              "#9c179e"
             ],
             [
              0.4444444444444444,
              "#bd3786"
             ],
             [
              0.5555555555555556,
              "#d8576b"
             ],
             [
              0.6666666666666666,
              "#ed7953"
             ],
             [
              0.7777777777777778,
              "#fb9f3a"
             ],
             [
              0.8888888888888888,
              "#fdca26"
             ],
             [
              1,
              "#f0f921"
             ]
            ],
            "type": "histogram2dcontour"
           }
          ],
          "mesh3d": [
           {
            "colorbar": {
             "outlinewidth": 0,
             "ticks": ""
            },
            "type": "mesh3d"
           }
          ],
          "parcoords": [
           {
            "line": {
             "colorbar": {
              "outlinewidth": 0,
              "ticks": ""
             }
            },
            "type": "parcoords"
           }
          ],
          "pie": [
           {
            "automargin": true,
            "type": "pie"
           }
          ],
          "scatter": [
           {
            "fillpattern": {
             "fillmode": "overlay",
             "size": 10,
             "solidity": 0.2
            },
            "type": "scatter"
           }
          ],
          "scatter3d": [
           {
            "line": {
             "colorbar": {
              "outlinewidth": 0,
              "ticks": ""
             }
            },
            "marker": {
             "colorbar": {
              "outlinewidth": 0,
              "ticks": ""
             }
            },
            "type": "scatter3d"
           }
          ],
          "scattercarpet": [
           {
            "marker": {
             "colorbar": {
              "outlinewidth": 0,
              "ticks": ""
             }
            },
            "type": "scattercarpet"
           }
          ],
          "scattergeo": [
           {
            "marker": {
             "colorbar": {
              "outlinewidth": 0,
              "ticks": ""
             }
            },
            "type": "scattergeo"
           }
          ],
          "scattergl": [
           {
            "marker": {
             "colorbar": {
              "outlinewidth": 0,
              "ticks": ""
             }
            },
            "type": "scattergl"
           }
          ],
          "scattermapbox": [
           {
            "marker": {
             "colorbar": {
              "outlinewidth": 0,
              "ticks": ""
             }
            },
            "type": "scattermapbox"
           }
          ],
          "scatterpolar": [
           {
            "marker": {
             "colorbar": {
              "outlinewidth": 0,
              "ticks": ""
             }
            },
            "type": "scatterpolar"
           }
          ],
          "scatterpolargl": [
           {
            "marker": {
             "colorbar": {
              "outlinewidth": 0,
              "ticks": ""
             }
            },
            "type": "scatterpolargl"
           }
          ],
          "scatterternary": [
           {
            "marker": {
             "colorbar": {
              "outlinewidth": 0,
              "ticks": ""
             }
            },
            "type": "scatterternary"
           }
          ],
          "surface": [
           {
            "colorbar": {
             "outlinewidth": 0,
             "ticks": ""
            },
            "colorscale": [
             [
              0,
              "#0d0887"
             ],
             [
              0.1111111111111111,
              "#46039f"
             ],
             [
              0.2222222222222222,
              "#7201a8"
             ],
             [
              0.3333333333333333,
              "#9c179e"
             ],
             [
              0.4444444444444444,
              "#bd3786"
             ],
             [
              0.5555555555555556,
              "#d8576b"
             ],
             [
              0.6666666666666666,
              "#ed7953"
             ],
             [
              0.7777777777777778,
              "#fb9f3a"
             ],
             [
              0.8888888888888888,
              "#fdca26"
             ],
             [
              1,
              "#f0f921"
             ]
            ],
            "type": "surface"
           }
          ],
          "table": [
           {
            "cells": {
             "fill": {
              "color": "#EBF0F8"
             },
             "line": {
              "color": "white"
             }
            },
            "header": {
             "fill": {
              "color": "#C8D4E3"
             },
             "line": {
              "color": "white"
             }
            },
            "type": "table"
           }
          ]
         },
         "layout": {
          "annotationdefaults": {
           "arrowcolor": "#2a3f5f",
           "arrowhead": 0,
           "arrowwidth": 1
          },
          "autotypenumbers": "strict",
          "coloraxis": {
           "colorbar": {
            "outlinewidth": 0,
            "ticks": ""
           }
          },
          "colorscale": {
           "diverging": [
            [
             0,
             "#8e0152"
            ],
            [
             0.1,
             "#c51b7d"
            ],
            [
             0.2,
             "#de77ae"
            ],
            [
             0.3,
             "#f1b6da"
            ],
            [
             0.4,
             "#fde0ef"
            ],
            [
             0.5,
             "#f7f7f7"
            ],
            [
             0.6,
             "#e6f5d0"
            ],
            [
             0.7,
             "#b8e186"
            ],
            [
             0.8,
             "#7fbc41"
            ],
            [
             0.9,
             "#4d9221"
            ],
            [
             1,
             "#276419"
            ]
           ],
           "sequential": [
            [
             0,
             "#0d0887"
            ],
            [
             0.1111111111111111,
             "#46039f"
            ],
            [
             0.2222222222222222,
             "#7201a8"
            ],
            [
             0.3333333333333333,
             "#9c179e"
            ],
            [
             0.4444444444444444,
             "#bd3786"
            ],
            [
             0.5555555555555556,
             "#d8576b"
            ],
            [
             0.6666666666666666,
             "#ed7953"
            ],
            [
             0.7777777777777778,
             "#fb9f3a"
            ],
            [
             0.8888888888888888,
             "#fdca26"
            ],
            [
             1,
             "#f0f921"
            ]
           ],
           "sequentialminus": [
            [
             0,
             "#0d0887"
            ],
            [
             0.1111111111111111,
             "#46039f"
            ],
            [
             0.2222222222222222,
             "#7201a8"
            ],
            [
             0.3333333333333333,
             "#9c179e"
            ],
            [
             0.4444444444444444,
             "#bd3786"
            ],
            [
             0.5555555555555556,
             "#d8576b"
            ],
            [
             0.6666666666666666,
             "#ed7953"
            ],
            [
             0.7777777777777778,
             "#fb9f3a"
            ],
            [
             0.8888888888888888,
             "#fdca26"
            ],
            [
             1,
             "#f0f921"
            ]
           ]
          },
          "colorway": [
           "#636efa",
           "#EF553B",
           "#00cc96",
           "#ab63fa",
           "#FFA15A",
           "#19d3f3",
           "#FF6692",
           "#B6E880",
           "#FF97FF",
           "#FECB52"
          ],
          "font": {
           "color": "#2a3f5f"
          },
          "geo": {
           "bgcolor": "white",
           "lakecolor": "white",
           "landcolor": "#E5ECF6",
           "showlakes": true,
           "showland": true,
           "subunitcolor": "white"
          },
          "hoverlabel": {
           "align": "left"
          },
          "hovermode": "closest",
          "mapbox": {
           "style": "light"
          },
          "paper_bgcolor": "white",
          "plot_bgcolor": "#E5ECF6",
          "polar": {
           "angularaxis": {
            "gridcolor": "white",
            "linecolor": "white",
            "ticks": ""
           },
           "bgcolor": "#E5ECF6",
           "radialaxis": {
            "gridcolor": "white",
            "linecolor": "white",
            "ticks": ""
           }
          },
          "scene": {
           "xaxis": {
            "backgroundcolor": "#E5ECF6",
            "gridcolor": "white",
            "gridwidth": 2,
            "linecolor": "white",
            "showbackground": true,
            "ticks": "",
            "zerolinecolor": "white"
           },
           "yaxis": {
            "backgroundcolor": "#E5ECF6",
            "gridcolor": "white",
            "gridwidth": 2,
            "linecolor": "white",
            "showbackground": true,
            "ticks": "",
            "zerolinecolor": "white"
           },
           "zaxis": {
            "backgroundcolor": "#E5ECF6",
            "gridcolor": "white",
            "gridwidth": 2,
            "linecolor": "white",
            "showbackground": true,
            "ticks": "",
            "zerolinecolor": "white"
           }
          },
          "shapedefaults": {
           "line": {
            "color": "#2a3f5f"
           }
          },
          "ternary": {
           "aaxis": {
            "gridcolor": "white",
            "linecolor": "white",
            "ticks": ""
           },
           "baxis": {
            "gridcolor": "white",
            "linecolor": "white",
            "ticks": ""
           },
           "bgcolor": "#E5ECF6",
           "caxis": {
            "gridcolor": "white",
            "linecolor": "white",
            "ticks": ""
           }
          },
          "title": {
           "x": 0.05
          },
          "xaxis": {
           "automargin": true,
           "gridcolor": "white",
           "linecolor": "white",
           "ticks": "",
           "title": {
            "standoff": 15
           },
           "zerolinecolor": "white",
           "zerolinewidth": 2
          },
          "yaxis": {
           "automargin": true,
           "gridcolor": "white",
           "linecolor": "white",
           "ticks": "",
           "title": {
            "standoff": 15
           },
           "zerolinecolor": "white",
           "zerolinewidth": 2
          }
         }
        },
        "title": {
         "text": "alpha = 4.285715714285715, Rsquared = -0.032705999244529986"
        },
        "xaxis": {
         "anchor": "y",
         "domain": [
          0,
          1
         ],
         "title": {
          "text": "Feature number"
         }
        },
        "yaxis": {
         "anchor": "x",
         "domain": [
          0,
          1
         ],
         "title": {
          "text": "Coefficient value"
         }
        }
       }
      },
      "text/html": [
       "<div>                            <div id=\"8f7feea1-ef1a-43c8-be07-c14313b2e767\" class=\"plotly-graph-div\" style=\"height:525px; width:100%;\"></div>            <script type=\"text/javascript\">                require([\"plotly\"], function(Plotly) {                    window.PLOTLYENV=window.PLOTLYENV || {};                                    if (document.getElementById(\"8f7feea1-ef1a-43c8-be07-c14313b2e767\")) {                    Plotly.newPlot(                        \"8f7feea1-ef1a-43c8-be07-c14313b2e767\",                        [{\"error_y\":{\"array\":[0.29497380194891587,0.09419859174230852,0.08013601157264885,0.0809812474529142,0.22320053822515218,0.06574035040953598,0.06821490003872557,0.0897708653031728,0.08144454923348797,0.07207349468849406,0.07483425253250316,0.06404362588211829,0.06371000410761869,0.09291625484701621,0.07235329194820275,0.08979774305632582,0.11806122895973005,0.05952853341834375,0.12097230860457135,0.09195389711136659,0.09360948716406155,0.1872897267137936,0.08094991276710793,0.07374507245283746,0.07796468578247691,0.3733513862368095,0.08531538134220983,0.06654785789499178,0.09013062683205443,0.07796519715728752,0.06146830039733299,0.07470375975171385,0.06970674003461198,0.06709707760716166,0.0641215107347789,0.07116360224437149,0.13431013839952777,0.08762678269413701,0.07116000187631122,0.06992219478907671,0.06027046342189953,0.06689320408938607,0.06308288389379967,0.06690055915898914,0.06407584568006064,0.06797057366046762,0.046654653961794454,0.05958638703408176,0.03993749721876516,0.065373441502634,0.07386427108110916,0.0533138582853291,0.08555921684641034,0.05370717729050482,0.056700667569777256,0.0632476099509812,0.06105488034696781,0.07525560000729936,0.06039448134309144,0.11022350303669687,0.06362759291595005,0.07559541774352327,0.05466231476857275,0.059640172333621275,0.06965268446243966,0.0860521318742114,0.08052817713238855,0.052353265288345475,0.06641394311115431,0.07076282872455411,0.06336255949316622,0.06231354179942857,0.08853349654604542,0.06302448273906536,0.06686332666447342,0.05086878115607866,0.06318957277232025,0.04655798006415607,0.04760223565083718,0.0924325239685409,0.061763806006808725,0.07007042900714838,0.05908839378166036,0.06450520266594326,0.06369085965485449,0.0704471364568036,0.05106195724874623,0.0700084498277916,0.06453993118937325,0.06776868686406091,0.060336502639762285,0.06346671500650425,0.052864174856998444,0.07684403045388108,0.060902456419785894,0.06423943495257917,0.05472263454292557,0.06441039958707297,0.05264474605440309,0.05248564158893595,0.0518973114094858,0.059926771601222284,0.04796912084076729,0.09453533311168759,0.07615406511625898,0.07026970514805975,0.046627938179733056,0.06849647326750011,0.05593224634518072,0.05049667840407519,0.07534485109726988,0.06520981447145854,0.04133651750615334,0.045644026119216696,0.0770640447902135,0.06264167800507191,0.06767724670409181,0.06882875029899245,0.08178266790524416,0.04117443492638482,0.054377782849243675,0.07066278568497653,0.05970774977873125,0.05107719862562482,0.05954065108395831,0.06265388482483798,0.05395766426894972,0.044086607650574906,0.057306554369813224,0.06258202434067539,0.059413434950157544,0.046257485687560045,0.06270917876363602,0.058246060413791795,0.0487778673355504,0.04676082865666356,0.06226652916268479,0.055441718927233714,0.05155917400529331,0.07867275189754941,0.0556806233806961,0.06199200417098021,0.08412187563289505,0.0562532922654869,0.06646722307270812,0.055722571206570655,0.06004238412201565,0.055177051983309425,0.05457770261381303,0.06607962831170601,0.06190424303792167,0.045896209153016974,0.06408479771013949,0.049939106965764465,0.050801632367511874,0.09352933041395764,0.09401019760619912,0.061021366697414446,0.0449917548661434,0.037569062196413906,0.06574686980911049,0.06835595282519054,0.08422857573620977,0.04150487969183346,0.0835472193103524,0.05591340077524384,0.05665123369410078,0.05121008192761078,0.08226728723202538,0.06723486376574543,0.07290435326281493,0.06489363432654265,0.051224041303678414,0.052262765193324,0.0498403696986726,0.04354893955959188,0.04643817722285173,0.044374338098020015,0.0496132435895584,0.0557010226893799,0.064796090020244,0.055187795070018905,0.06667265672364808,0.050507924473981176,0.04137502096460608,0.05322519091698666,0.043166781653935636,0.05393491255402167,0.054340103306939294,0.058678060718255896,0.046602931155271,0.04881172060665979,0.05429332582816629,0.041638938858407235,0.047009361180078806,0.0621285981578453,0.07747624972047304,0.04416118860732785,0.07795583385028758,0.04994676538367547,0.0454061086806524,0.05096069911518054,0.050465255344768006,0.05455625779475837,0.05481022515693704,0.04167116610879617,0.05867725464449501,0.04878845865805453,0.052030879279436885,0.05407982541483541,0.05762104436404605,0.07656980227597154,0.04961647110777722,0.04914503228230367,0.0554421121562005,0.04198474090219397,0.06834205467701011,0.038270748845005184,0.04354313120255781,0.06708643159259395,0.042958216708092085,0.04906547014594158,0.040583837162407266,0.03956488920674728,0.04352231538280131,0.037836769149117884,0.041232047697671664,0.05988487045715858,0.04055825396514489,0.04449124481068095,0.05054463183356756,0.03932132402958371,0.04309242976595805,0.025870875438758902,0.0635508312506974,0.05507977039845632,0.045576756930646604,0.047112698252802385,0.04959517181037693]},\"hovertemplate\":\"x=%{x}<br>y=%{y}<extra></extra>\",\"legendgroup\":\"\",\"marker\":{\"color\":\"#636efa\",\"symbol\":\"circle\"},\"mode\":\"markers\",\"name\":\"\",\"orientation\":\"v\",\"showlegend\":false,\"x\":[0,1,2,3,4,5,6,7,8,9,10,11,12,13,14,15,16,17,18,19,20,21,22,23,24,25,26,27,28,29,30,31,32,33,34,35,36,37,38,39,40,41,42,43,44,45,46,47,48,49,50,51,52,53,54,55,56,57,58,59,60,61,62,63,64,65,66,67,68,69,70,71,72,73,74,75,76,77,78,79,80,81,82,83,84,85,86,87,88,89,90,91,92,93,94,95,96,97,98,99,100,101,102,103,104,105,106,107,108,109,110,111,112,113,114,115,116,117,118,119,120,121,122,123,124,125,126,127,128,129,130,131,132,133,134,135,136,137,138,139,140,141,142,143,144,145,146,147,148,149,150,151,152,153,154,155,156,157,158,159,160,161,162,163,164,165,166,167,168,169,170,171,172,173,174,175,176,177,178,179,180,181,182,183,184,185,186,187,188,189,190,191,192,193,194,195,196,197,198,199,200,201,202,203,204,205,206,207,208,209,210,211,212,213,214,215,216,217,218,219,220,221,222,223,224,225,226,227,228,229,230,231,232,233,234,235,236,237,238],\"xaxis\":\"x\",\"y\":[-2.6055623513985995,-0.015133312569375812,0.0071833002066959695,-0.01235708462098411,0.06369238696072674,-0.01067059253276582,0.004155753998509596,0.017738046646265274,0.016232381849322547,0.008437795330573266,0.010946499163361646,0.0031458435396658794,0.007570698058055228,0.019843199871436918,0.005805526123095887,0.013432636006976206,0.028567895998528908,-0.0012025505191986,0.02870170072151945,0.01339065258297825,-0.015158468377918692,0.05781290654193647,0.013788142541821206,-0.010415607757142604,0.0031498272811656676,0.23304971557319626,-0.013753116314220113,0.0067023083937825636,0.014584646431631008,0.011176754900741957,0.0019059423230357755,-0.007668770587824495,-0.012454848425787392,-0.011716126353107023,0.0011762531418122429,-0.011066397044718169,0.03322076616818154,-0.007245396364853116,-0.0064451494599914085,-0.013351214964444795,-0.01103716568085782,0.010283865593020244,0.006012391403239361,0.004715268981964138,0.006441249103522856,0.00800789961548291,-0.0028555497201896893,-0.009118667669579682,0.0026125244856060378,0.00015592991474117069,-0.007537840501124383,-0.000619288765532897,0.01604027030908359,-0.003791357973115869,0.004612299132018836,0.004217573786367356,0.007249818048754805,0.012340253258853434,-0.010546877777052101,-0.024867105994882205,0.0029974498030989074,-0.011590670327692672,0.006003681863170621,-0.007246713330450607,0.014374297213476035,-0.015776345766969072,0.009957935839952865,-0.004662710634749918,0.006806238800935316,-0.0074104190070585245,0.004015331599248332,0.011483135272467984,0.020683904490974594,-0.004929356607991547,-0.014069483740980583,0.0020529634319996076,-0.00791951896836099,-0.005308984563148056,-0.0060915404184865695,0.02235091644473178,-0.003315560617228382,-0.01080605440608549,-0.007378438333896884,0.01030890561322691,-0.0028549162032205917,0.01437012800094121,-0.0003725161251855642,0.011761885079748713,0.010700141642195427,-0.010200111714919219,-0.002601589245530349,0.011817466102902113,0.006361300938323639,-0.0029318825489597373,-0.008532275375986068,0.005400320211024284,0.0028914743616614176,0.0006408801022958852,0.0007882842204860063,0.0014974698609759192,0.0002061214846025552,0.006386836366613444,-0.0038826257673143286,-0.020029857741651638,-0.016225689559415793,-0.01096348571850964,-0.002820448172135546,0.0067584734255337845,0.0036713245637225913,-0.006007260744429518,-0.01743297621364225,-0.011764623993588531,-0.0008203321890902735,0.0025414347637814087,0.018064485850248696,0.009093151527800077,0.010108252389957582,-0.0023681181796773054,-0.0184736325032797,-0.003094015780390254,-0.0019471903426079705,0.012910125097119559,-0.006589161784516997,-0.0037121364424728513,-0.003531499221652709,-0.007269684501566578,0.0048321666704787825,-0.0028477594851573987,-0.009660391280091185,-0.009591189061436535,0.005988274003529982,-0.0016618386781376013,0.01168673875328987,-0.006817867808612397,-0.002668597666679301,-0.0010996991126836551,0.006162828218724524,-0.007955279583562392,0.0016015119128087963,0.011968244857863174,-0.003712448300232673,0.003611123425729232,0.01934689489053355,0.00015153532902705463,0.010881591263394049,-0.0052843490831420105,0.009457502159845558,-0.011451560661685227,-0.006233670409687685,-0.011865691208223124,0.010203819575677238,0.0018665113128017816,-0.007475690635248463,-0.004069236461194507,-0.0037072676703807515,-0.022182741358823508,0.023025066067072372,-0.006976787725053221,-0.0011356199663084148,-0.003345631442015978,-0.01020113452066404,0.013864815259913944,0.02066646115252786,0.0010799715654319776,0.018125100256078747,0.004806504634747694,0.004579635235133924,-0.004616069438062199,-0.016831423869292195,0.014121138458146474,-0.013977796295920168,0.012125218629985892,0.00230938574656555,0.0003600729906905044,0.006928811148014386,0.004714440621050619,-0.005500318602814887,-0.00016614643832639403,0.00528139735693871,0.0021156435501737594,0.0016250422863350324,-0.01041096919765809,0.013055799416841733,-0.001373322308182227,0.00291284443228,-0.005606973659759786,0.002010322493962185,0.004658404366289089,-0.010401189171837364,-0.011310349380427501,0.00404407380415541,0.008844692146009109,0.0059559780147237975,0.005256005295877196,-0.006226998870480265,0.011719966832747133,0.017262088650575252,-0.0016351320381346574,-0.016904075814168366,-0.0036231321054605,0.0009632252384982224,0.0066168998453976806,-0.001794711933713276,0.008109796768460187,-0.005241157654708967,0.0009981348267345228,-0.01049153920010185,0.007114520833237765,0.006298335766206753,0.008273653339418055,-0.008654404060592546,-0.017090347430039555,0.001410532416936987,0.0005547853897871442,0.008651539034295407,-0.0006164278221327823,0.016159790206905295,-0.003410000378377154,-9.255461834692149e-05,0.0069991997981491486,-0.00038133088872276344,0.003323476504195344,-0.00024237071359879773,0.0002819281682538093,0.00328105269569027,-0.004119875007904299,0.0030411401219251405,0.01017373651878361,0.0017680085838231482,-0.004966144166055825,0.0019064814014525043,0.00444658803534534,-0.0025597132738552205,-0.0009728515560449766,-0.012707046044673199,0.006062755045139417,0.008531940277714988,0.007966832774943875,0.007319990936109468],\"yaxis\":\"y\",\"type\":\"scatter\"}],                        {\"template\":{\"data\":{\"histogram2dcontour\":[{\"type\":\"histogram2dcontour\",\"colorbar\":{\"outlinewidth\":0,\"ticks\":\"\"},\"colorscale\":[[0.0,\"#0d0887\"],[0.1111111111111111,\"#46039f\"],[0.2222222222222222,\"#7201a8\"],[0.3333333333333333,\"#9c179e\"],[0.4444444444444444,\"#bd3786\"],[0.5555555555555556,\"#d8576b\"],[0.6666666666666666,\"#ed7953\"],[0.7777777777777778,\"#fb9f3a\"],[0.8888888888888888,\"#fdca26\"],[1.0,\"#f0f921\"]]}],\"choropleth\":[{\"type\":\"choropleth\",\"colorbar\":{\"outlinewidth\":0,\"ticks\":\"\"}}],\"histogram2d\":[{\"type\":\"histogram2d\",\"colorbar\":{\"outlinewidth\":0,\"ticks\":\"\"},\"colorscale\":[[0.0,\"#0d0887\"],[0.1111111111111111,\"#46039f\"],[0.2222222222222222,\"#7201a8\"],[0.3333333333333333,\"#9c179e\"],[0.4444444444444444,\"#bd3786\"],[0.5555555555555556,\"#d8576b\"],[0.6666666666666666,\"#ed7953\"],[0.7777777777777778,\"#fb9f3a\"],[0.8888888888888888,\"#fdca26\"],[1.0,\"#f0f921\"]]}],\"heatmap\":[{\"type\":\"heatmap\",\"colorbar\":{\"outlinewidth\":0,\"ticks\":\"\"},\"colorscale\":[[0.0,\"#0d0887\"],[0.1111111111111111,\"#46039f\"],[0.2222222222222222,\"#7201a8\"],[0.3333333333333333,\"#9c179e\"],[0.4444444444444444,\"#bd3786\"],[0.5555555555555556,\"#d8576b\"],[0.6666666666666666,\"#ed7953\"],[0.7777777777777778,\"#fb9f3a\"],[0.8888888888888888,\"#fdca26\"],[1.0,\"#f0f921\"]]}],\"heatmapgl\":[{\"type\":\"heatmapgl\",\"colorbar\":{\"outlinewidth\":0,\"ticks\":\"\"},\"colorscale\":[[0.0,\"#0d0887\"],[0.1111111111111111,\"#46039f\"],[0.2222222222222222,\"#7201a8\"],[0.3333333333333333,\"#9c179e\"],[0.4444444444444444,\"#bd3786\"],[0.5555555555555556,\"#d8576b\"],[0.6666666666666666,\"#ed7953\"],[0.7777777777777778,\"#fb9f3a\"],[0.8888888888888888,\"#fdca26\"],[1.0,\"#f0f921\"]]}],\"contourcarpet\":[{\"type\":\"contourcarpet\",\"colorbar\":{\"outlinewidth\":0,\"ticks\":\"\"}}],\"contour\":[{\"type\":\"contour\",\"colorbar\":{\"outlinewidth\":0,\"ticks\":\"\"},\"colorscale\":[[0.0,\"#0d0887\"],[0.1111111111111111,\"#46039f\"],[0.2222222222222222,\"#7201a8\"],[0.3333333333333333,\"#9c179e\"],[0.4444444444444444,\"#bd3786\"],[0.5555555555555556,\"#d8576b\"],[0.6666666666666666,\"#ed7953\"],[0.7777777777777778,\"#fb9f3a\"],[0.8888888888888888,\"#fdca26\"],[1.0,\"#f0f921\"]]}],\"surface\":[{\"type\":\"surface\",\"colorbar\":{\"outlinewidth\":0,\"ticks\":\"\"},\"colorscale\":[[0.0,\"#0d0887\"],[0.1111111111111111,\"#46039f\"],[0.2222222222222222,\"#7201a8\"],[0.3333333333333333,\"#9c179e\"],[0.4444444444444444,\"#bd3786\"],[0.5555555555555556,\"#d8576b\"],[0.6666666666666666,\"#ed7953\"],[0.7777777777777778,\"#fb9f3a\"],[0.8888888888888888,\"#fdca26\"],[1.0,\"#f0f921\"]]}],\"mesh3d\":[{\"type\":\"mesh3d\",\"colorbar\":{\"outlinewidth\":0,\"ticks\":\"\"}}],\"scatter\":[{\"fillpattern\":{\"fillmode\":\"overlay\",\"size\":10,\"solidity\":0.2},\"type\":\"scatter\"}],\"parcoords\":[{\"type\":\"parcoords\",\"line\":{\"colorbar\":{\"outlinewidth\":0,\"ticks\":\"\"}}}],\"scatterpolargl\":[{\"type\":\"scatterpolargl\",\"marker\":{\"colorbar\":{\"outlinewidth\":0,\"ticks\":\"\"}}}],\"bar\":[{\"error_x\":{\"color\":\"#2a3f5f\"},\"error_y\":{\"color\":\"#2a3f5f\"},\"marker\":{\"line\":{\"color\":\"#E5ECF6\",\"width\":0.5},\"pattern\":{\"fillmode\":\"overlay\",\"size\":10,\"solidity\":0.2}},\"type\":\"bar\"}],\"scattergeo\":[{\"type\":\"scattergeo\",\"marker\":{\"colorbar\":{\"outlinewidth\":0,\"ticks\":\"\"}}}],\"scatterpolar\":[{\"type\":\"scatterpolar\",\"marker\":{\"colorbar\":{\"outlinewidth\":0,\"ticks\":\"\"}}}],\"histogram\":[{\"marker\":{\"pattern\":{\"fillmode\":\"overlay\",\"size\":10,\"solidity\":0.2}},\"type\":\"histogram\"}],\"scattergl\":[{\"type\":\"scattergl\",\"marker\":{\"colorbar\":{\"outlinewidth\":0,\"ticks\":\"\"}}}],\"scatter3d\":[{\"type\":\"scatter3d\",\"line\":{\"colorbar\":{\"outlinewidth\":0,\"ticks\":\"\"}},\"marker\":{\"colorbar\":{\"outlinewidth\":0,\"ticks\":\"\"}}}],\"scattermapbox\":[{\"type\":\"scattermapbox\",\"marker\":{\"colorbar\":{\"outlinewidth\":0,\"ticks\":\"\"}}}],\"scatterternary\":[{\"type\":\"scatterternary\",\"marker\":{\"colorbar\":{\"outlinewidth\":0,\"ticks\":\"\"}}}],\"scattercarpet\":[{\"type\":\"scattercarpet\",\"marker\":{\"colorbar\":{\"outlinewidth\":0,\"ticks\":\"\"}}}],\"carpet\":[{\"aaxis\":{\"endlinecolor\":\"#2a3f5f\",\"gridcolor\":\"white\",\"linecolor\":\"white\",\"minorgridcolor\":\"white\",\"startlinecolor\":\"#2a3f5f\"},\"baxis\":{\"endlinecolor\":\"#2a3f5f\",\"gridcolor\":\"white\",\"linecolor\":\"white\",\"minorgridcolor\":\"white\",\"startlinecolor\":\"#2a3f5f\"},\"type\":\"carpet\"}],\"table\":[{\"cells\":{\"fill\":{\"color\":\"#EBF0F8\"},\"line\":{\"color\":\"white\"}},\"header\":{\"fill\":{\"color\":\"#C8D4E3\"},\"line\":{\"color\":\"white\"}},\"type\":\"table\"}],\"barpolar\":[{\"marker\":{\"line\":{\"color\":\"#E5ECF6\",\"width\":0.5},\"pattern\":{\"fillmode\":\"overlay\",\"size\":10,\"solidity\":0.2}},\"type\":\"barpolar\"}],\"pie\":[{\"automargin\":true,\"type\":\"pie\"}]},\"layout\":{\"autotypenumbers\":\"strict\",\"colorway\":[\"#636efa\",\"#EF553B\",\"#00cc96\",\"#ab63fa\",\"#FFA15A\",\"#19d3f3\",\"#FF6692\",\"#B6E880\",\"#FF97FF\",\"#FECB52\"],\"font\":{\"color\":\"#2a3f5f\"},\"hovermode\":\"closest\",\"hoverlabel\":{\"align\":\"left\"},\"paper_bgcolor\":\"white\",\"plot_bgcolor\":\"#E5ECF6\",\"polar\":{\"bgcolor\":\"#E5ECF6\",\"angularaxis\":{\"gridcolor\":\"white\",\"linecolor\":\"white\",\"ticks\":\"\"},\"radialaxis\":{\"gridcolor\":\"white\",\"linecolor\":\"white\",\"ticks\":\"\"}},\"ternary\":{\"bgcolor\":\"#E5ECF6\",\"aaxis\":{\"gridcolor\":\"white\",\"linecolor\":\"white\",\"ticks\":\"\"},\"baxis\":{\"gridcolor\":\"white\",\"linecolor\":\"white\",\"ticks\":\"\"},\"caxis\":{\"gridcolor\":\"white\",\"linecolor\":\"white\",\"ticks\":\"\"}},\"coloraxis\":{\"colorbar\":{\"outlinewidth\":0,\"ticks\":\"\"}},\"colorscale\":{\"sequential\":[[0.0,\"#0d0887\"],[0.1111111111111111,\"#46039f\"],[0.2222222222222222,\"#7201a8\"],[0.3333333333333333,\"#9c179e\"],[0.4444444444444444,\"#bd3786\"],[0.5555555555555556,\"#d8576b\"],[0.6666666666666666,\"#ed7953\"],[0.7777777777777778,\"#fb9f3a\"],[0.8888888888888888,\"#fdca26\"],[1.0,\"#f0f921\"]],\"sequentialminus\":[[0.0,\"#0d0887\"],[0.1111111111111111,\"#46039f\"],[0.2222222222222222,\"#7201a8\"],[0.3333333333333333,\"#9c179e\"],[0.4444444444444444,\"#bd3786\"],[0.5555555555555556,\"#d8576b\"],[0.6666666666666666,\"#ed7953\"],[0.7777777777777778,\"#fb9f3a\"],[0.8888888888888888,\"#fdca26\"],[1.0,\"#f0f921\"]],\"diverging\":[[0,\"#8e0152\"],[0.1,\"#c51b7d\"],[0.2,\"#de77ae\"],[0.3,\"#f1b6da\"],[0.4,\"#fde0ef\"],[0.5,\"#f7f7f7\"],[0.6,\"#e6f5d0\"],[0.7,\"#b8e186\"],[0.8,\"#7fbc41\"],[0.9,\"#4d9221\"],[1,\"#276419\"]]},\"xaxis\":{\"gridcolor\":\"white\",\"linecolor\":\"white\",\"ticks\":\"\",\"title\":{\"standoff\":15},\"zerolinecolor\":\"white\",\"automargin\":true,\"zerolinewidth\":2},\"yaxis\":{\"gridcolor\":\"white\",\"linecolor\":\"white\",\"ticks\":\"\",\"title\":{\"standoff\":15},\"zerolinecolor\":\"white\",\"automargin\":true,\"zerolinewidth\":2},\"scene\":{\"xaxis\":{\"backgroundcolor\":\"#E5ECF6\",\"gridcolor\":\"white\",\"linecolor\":\"white\",\"showbackground\":true,\"ticks\":\"\",\"zerolinecolor\":\"white\",\"gridwidth\":2},\"yaxis\":{\"backgroundcolor\":\"#E5ECF6\",\"gridcolor\":\"white\",\"linecolor\":\"white\",\"showbackground\":true,\"ticks\":\"\",\"zerolinecolor\":\"white\",\"gridwidth\":2},\"zaxis\":{\"backgroundcolor\":\"#E5ECF6\",\"gridcolor\":\"white\",\"linecolor\":\"white\",\"showbackground\":true,\"ticks\":\"\",\"zerolinecolor\":\"white\",\"gridwidth\":2}},\"shapedefaults\":{\"line\":{\"color\":\"#2a3f5f\"}},\"annotationdefaults\":{\"arrowcolor\":\"#2a3f5f\",\"arrowhead\":0,\"arrowwidth\":1},\"geo\":{\"bgcolor\":\"white\",\"landcolor\":\"#E5ECF6\",\"subunitcolor\":\"white\",\"showland\":true,\"showlakes\":true,\"lakecolor\":\"white\"},\"title\":{\"x\":0.05},\"mapbox\":{\"style\":\"light\"}}},\"xaxis\":{\"anchor\":\"y\",\"domain\":[0.0,1.0],\"title\":{\"text\":\"Feature number\"}},\"yaxis\":{\"anchor\":\"x\",\"domain\":[0.0,1.0],\"title\":{\"text\":\"Coefficient value\"}},\"legend\":{\"tracegroupgap\":0},\"margin\":{\"t\":60},\"title\":{\"text\":\"alpha = 4.285715714285715, Rsquared = -0.032705999244529986\"}},                        {\"responsive\": true}                    ).then(function(){\n",
       "                            \n",
       "var gd = document.getElementById('8f7feea1-ef1a-43c8-be07-c14313b2e767');\n",
       "var x = new MutationObserver(function (mutations, observer) {{\n",
       "        var display = window.getComputedStyle(gd).display;\n",
       "        if (!display || display === 'none') {{\n",
       "            console.log([gd, 'removed!']);\n",
       "            Plotly.purge(gd);\n",
       "            observer.disconnect();\n",
       "        }}\n",
       "}});\n",
       "\n",
       "// Listen for the removal of the full notebook cells\n",
       "var notebookContainer = gd.closest('#notebook-container');\n",
       "if (notebookContainer) {{\n",
       "    x.observe(notebookContainer, {childList: true});\n",
       "}}\n",
       "\n",
       "// Listen for the clearing of the current output cell\n",
       "var outputEl = gd.closest('.output');\n",
       "if (outputEl) {{\n",
       "    x.observe(outputEl, {childList: true});\n",
       "}}\n",
       "\n",
       "                        })                };                });            </script>        </div>"
      ]
     },
     "metadata": {},
     "output_type": "display_data"
    },
    {
     "data": {
      "application/vnd.plotly.v1+json": {
       "config": {
        "plotlyServerURL": "https://plot.ly"
       },
       "data": [
        {
         "error_y": {
          "array": [
           0.295201726762946,
           0.09085566642544471,
           0.07724314979415199,
           0.07810034858184188,
           0.21570601651702923,
           0.0634085653931432,
           0.06574223492111445,
           0.08662590814992621,
           0.07859319276617094,
           0.06948574530566026,
           0.07216717518190009,
           0.0617192998643482,
           0.06142344922812119,
           0.08968206652594522,
           0.06973740634900463,
           0.08660039508290189,
           0.1140043010614013,
           0.05736396617532866,
           0.116805955844279,
           0.08867607636435414,
           0.09028879676536386,
           0.18109002036755822,
           0.0780860707739443,
           0.07111313933677596,
           0.07513303045675723,
           0.3647424803966511,
           0.08228822318034376,
           0.0641503470510331,
           0.08693322840564568,
           0.07518426534894639,
           0.059234370176020124,
           0.07201343212926642,
           0.0672476382476941,
           0.06472673023204212,
           0.06178977640285709,
           0.06863416232385039,
           0.1297069669772094,
           0.08445989566479671,
           0.06859158063885665,
           0.06746639145257487,
           0.05814759027155335,
           0.06451429163366862,
           0.06080790592064858,
           0.06447842841986814,
           0.06176730997158747,
           0.06553054439593474,
           0.04496356405526101,
           0.057466883981915816,
           0.038490616349187046,
           0.062995437293995,
           0.07120386104455062,
           0.05137476689756816,
           0.08255035131482025,
           0.0517627411889076,
           0.05465104097740144,
           0.060956600194040894,
           0.05886357409315484,
           0.07258771732849996,
           0.05826093095130252,
           0.10640692497113836,
           0.06131794219142413,
           0.07290670214832333,
           0.05269661288694108,
           0.05750100360669354,
           0.06722101909038831,
           0.08302139019104518,
           0.07764125958252473,
           0.050463158395639106,
           0.06402207759858838,
           0.06821547003924044,
           0.06106644656489626,
           0.06011961353584967,
           0.085479155852455,
           0.060745178212102735,
           0.06453292013975578,
           0.04902123538674018,
           0.06092514509082642,
           0.04488522162109331,
           0.04589748147522831,
           0.08925601608166467,
           0.05952321771128576,
           0.06757888264609065,
           0.05697070069048753,
           0.06221544238189602,
           0.061378452018794244,
           0.06798536501753628,
           0.04920462672146801,
           0.06752980293822922,
           0.06225325596225465,
           0.06535635537917171,
           0.05814556915888952,
           0.061233737318862586,
           0.050967530625874634,
           0.07405261023322833,
           0.05872819918696617,
           0.06191829027818684,
           0.05273730784589135,
           0.06206763353922762,
           0.05073015286759138,
           0.05057790009507233,
           0.050009528778677134,
           0.057770303417029906,
           0.046235015501336116,
           0.0912424627360719,
           0.07350277401268512,
           0.06777242456879842,
           0.0449376764962866,
           0.06602779900162221,
           0.05390595396546125,
           0.04868440525750894,
           0.07274279862617707,
           0.06291075251729979,
           0.0398334252242787,
           0.043988553792161,
           0.07440635901525561,
           0.06040844134909256,
           0.06526736485123436,
           0.0663278473589681,
           0.07895123282815837,
           0.039684678891667255,
           0.05240214227086151,
           0.06817349028395311,
           0.05756084719808757,
           0.04922850403045934,
           0.057382015211169445,
           0.06040381617591554,
           0.05200979710117877,
           0.04248924833004121,
           0.055277993863725824,
           0.06035611410971452,
           0.05727298622851257,
           0.04457688319129181,
           0.060502986038403025,
           0.05615476654659065,
           0.04700855331332603,
           0.045060752017554107,
           0.06002251724133555,
           0.05346424745284308,
           0.04968537522025539,
           0.0758735941836828,
           0.05366370912927059,
           0.05974422884465884,
           0.0812148543504172,
           0.05420704283572462,
           0.06411069885063024,
           0.053712856929528034,
           0.057909534157588045,
           0.0532516687040634,
           0.05261688764958366,
           0.06374920866756015,
           0.059710276644798777,
           0.04422930606271015,
           0.061783661134746384,
           0.04813393752343124,
           0.04896298762244589,
           0.0903080004722733,
           0.09078436376133726,
           0.05882910616951142,
           0.04335612627107717,
           0.03621270631188913,
           0.06340971738835126,
           0.06596615684936089,
           0.08133901010318724,
           0.03999606991919959,
           0.08064332657995034,
           0.05389371904196735,
           0.05460323421286103,
           0.04936158749010823,
           0.0793931656254502,
           0.06489112475029181,
           0.07034456247757236,
           0.06261099202983504,
           0.0493643043478,
           0.050361746058702965,
           0.04806052071750251,
           0.041982368884710124,
           0.04477136241048787,
           0.04276020353935175,
           0.0478278624733811,
           0.05367761392222467,
           0.06244047725715039,
           0.05324783810543459,
           0.06433530447672982,
           0.04867193893048331,
           0.0398770246176754,
           0.05130940104416924,
           0.04159977354334907,
           0.05198682729977503,
           0.05243190550699518,
           0.0566185728612436,
           0.044919783941906044,
           0.04709127437757317,
           0.05234083889245317,
           0.040147111900611605,
           0.04532773223704358,
           0.05994465398632723,
           0.07479022852506015,
           0.04255686969141986,
           0.0752461644159321,
           0.04813895161556098,
           0.04375512435542096,
           0.04913651761488634,
           0.048631733379790494,
           0.05261319733364358,
           0.05283369986003217,
           0.040156163211359806,
           0.05660733978459081,
           0.04704942615867964,
           0.050164441527445744,
           0.05215616764997106,
           0.05556974420790668,
           0.07391566970320274,
           0.0478130079093516,
           0.04735755361114171,
           0.05347179775078927,
           0.04045782012852341,
           0.06598742290006443,
           0.03688907150097729,
           0.04195921789452594,
           0.06467122927753705,
           0.04139568990868329,
           0.0472884168997839,
           0.03910761384794114,
           0.0381257503526495,
           0.04194766427002138,
           0.03647585824104754,
           0.039739914056610245,
           0.05776595755548705,
           0.03908556375822328,
           0.042891909174520106,
           0.0487085006847358,
           0.037908277134035454,
           0.04153013678845367,
           0.024931058347927082,
           0.061326492470527974,
           0.05309915649833602,
           0.043973794528437825,
           0.045445272580861534,
           0.047828270803082586
          ]
         },
         "hovertemplate": "x=%{x}<br>y=%{y}<extra></extra>",
         "legendgroup": "",
         "marker": {
          "color": "#636efa",
          "symbol": "circle"
         },
         "mode": "markers",
         "name": "",
         "orientation": "v",
         "showlegend": false,
         "type": "scatter",
         "x": [
          0,
          1,
          2,
          3,
          4,
          5,
          6,
          7,
          8,
          9,
          10,
          11,
          12,
          13,
          14,
          15,
          16,
          17,
          18,
          19,
          20,
          21,
          22,
          23,
          24,
          25,
          26,
          27,
          28,
          29,
          30,
          31,
          32,
          33,
          34,
          35,
          36,
          37,
          38,
          39,
          40,
          41,
          42,
          43,
          44,
          45,
          46,
          47,
          48,
          49,
          50,
          51,
          52,
          53,
          54,
          55,
          56,
          57,
          58,
          59,
          60,
          61,
          62,
          63,
          64,
          65,
          66,
          67,
          68,
          69,
          70,
          71,
          72,
          73,
          74,
          75,
          76,
          77,
          78,
          79,
          80,
          81,
          82,
          83,
          84,
          85,
          86,
          87,
          88,
          89,
          90,
          91,
          92,
          93,
          94,
          95,
          96,
          97,
          98,
          99,
          100,
          101,
          102,
          103,
          104,
          105,
          106,
          107,
          108,
          109,
          110,
          111,
          112,
          113,
          114,
          115,
          116,
          117,
          118,
          119,
          120,
          121,
          122,
          123,
          124,
          125,
          126,
          127,
          128,
          129,
          130,
          131,
          132,
          133,
          134,
          135,
          136,
          137,
          138,
          139,
          140,
          141,
          142,
          143,
          144,
          145,
          146,
          147,
          148,
          149,
          150,
          151,
          152,
          153,
          154,
          155,
          156,
          157,
          158,
          159,
          160,
          161,
          162,
          163,
          164,
          165,
          166,
          167,
          168,
          169,
          170,
          171,
          172,
          173,
          174,
          175,
          176,
          177,
          178,
          179,
          180,
          181,
          182,
          183,
          184,
          185,
          186,
          187,
          188,
          189,
          190,
          191,
          192,
          193,
          194,
          195,
          196,
          197,
          198,
          199,
          200,
          201,
          202,
          203,
          204,
          205,
          206,
          207,
          208,
          209,
          210,
          211,
          212,
          213,
          214,
          215,
          216,
          217,
          218,
          219,
          220,
          221,
          222,
          223,
          224,
          225,
          226,
          227,
          228,
          229,
          230,
          231,
          232,
          233,
          234,
          235,
          236,
          237,
          238
         ],
         "xaxis": "x",
         "y": [
          -2.605582264610391,
          -0.014052361671563254,
          0.006670207334789115,
          -0.011474435719485246,
          0.05914293074924626,
          -0.009908407351853978,
          0.0038589144271874818,
          0.016471043314389183,
          0.015072926002942365,
          0.007835095664103746,
          0.01016460636597867,
          0.002921140429689745,
          0.007029933911051283,
          0.018425828452048567,
          0.005390845685731895,
          0.012473162006477904,
          0.026527331998633986,
          -0.0011166540535415572,
          0.026651579241410917,
          0.012434177398479804,
          -0.014075720636638785,
          0.05368341321751244,
          0.012803275217405406,
          -0.00967163577448956,
          0.002924839618225263,
          0.21640330731796797,
          -0.01277075086320439,
          0.0062235720799409516,
          0.013542885972228795,
          0.010378415264974676,
          0.0017698035856760774,
          -0.0071210012601227455,
          -0.011565216395374006,
          -0.01087926018502795,
          0.0010922350602542256,
          -0.010275940112952586,
          0.030847854299025715,
          -0.006727868053077893,
          -0.0059847816414205935,
          -0.012397556752698737,
          -0.01024879670365369,
          0.00954930376494737,
          0.0055829348744365495,
          0.004378464054680986,
          0.005981159881842652,
          0.007435906785805559,
          -0.002651581883033283,
          -0.008467334264609704,
          0.002425915593777035,
          0.00014479206368822993,
          -0.006999423322472641,
          -0.0005750538537091187,
          0.01489453671557762,
          -0.0035205466893218785,
          0.004282849194017491,
          0.0039163185159125456,
          0.006731973902415176,
          0.011458806597506761,
          -0.009793529364405524,
          -0.023090884138104905,
          0.0027833462457347,
          -0.010762765304286053,
          0.00557484744437272,
          -0.006729090949704135,
          0.013347561698227746,
          -0.01464946392647128,
          0.009246654708527662,
          -0.0043296598751249235,
          0.006320078886582794,
          -0.006881103363697201,
          0.0037285221993020225,
          0.010662911324434556,
          0.019206482741619266,
          -0.004577259707420723,
          -0.013064520616624827,
          0.0019063231868567784,
          -0.0073538390420494915,
          -0.004929771380066053,
          -0.005656430388594672,
          0.020754422412965226,
          -0.003078734858854926,
          -0.010034193377079384,
          -0.006851407024332821,
          0.009572555212282131,
          -0.0026509936172762634,
          0.013343690286588265,
          -0.00034590783052945246,
          0.010921750431195233,
          0.00993584581061004,
          -0.009471532306710703,
          -0.0024157614422781813,
          0.010973361381266249,
          0.00590692229987195,
          -0.0027224623668911847,
          -0.007922827134844206,
          0.005014583053093978,
          0.0026849404786856023,
          0.0005951029521318934,
          0.0007319782047370058,
          0.001390507728049068,
          0.00019139852141665837,
          0.005930633768998199,
          -0.0036052953553633053,
          -0.018599153617247947,
          -0.015066711733743236,
          -0.01018037959575895,
          -0.0026189875884115783,
          0.006275725323709943,
          0.003409087094885263,
          -0.005578170691255981,
          -0.016187763626953518,
          -0.010924293708332207,
          -0.0007617370327266825,
          0.0023599037092255936,
          0.01677416543237379,
          0.008443640704385786,
          0.009386234362103469,
          -0.0021989668811289264,
          -0.017154087324474005,
          -0.0028730146532195216,
          -0.0018081053181359726,
          0.011987973304468161,
          -0.0061185073713372114,
          -0.0034469838394390762,
          -0.003279249277248944,
          -0.006750421322883252,
          0.004487011908301726,
          -0.0026443480933604413,
          -0.008970363331513244,
          -0.008906104128476783,
          0.005560540146134983,
          -0.001543135915413487,
          0.01085197169948345,
          -0.006330877250854368,
          -0.0024779835476307797,
          -0.001021149176063394,
          0.005722626203101344,
          -0.00738704532759365,
          0.0014871182047510251,
          0.011113370225158662,
          -0.0034472734216446253,
          0.0033531860381771444,
          0.01796497382692401,
          0.00014071137695369356,
          0.010104334744580187,
          -0.004906895577203295,
          0.008781966291285161,
          -0.010633592042993426,
          -0.005788408237567135,
          -0.011018141836207185,
          0.00947497532027172,
          0.001733189076173083,
          -0.0069417127327307164,
          -0.0037785767139663275,
          -0.0034424628367821265,
          -0.020598259833193258,
          0.02138041849085292,
          -0.006478445744692277,
          -0.0010545042544292424,
          -0.0031066577675862655,
          -0.009472482054902323,
          0.012874471312777233,
          0.019190285355918726,
          0.0010028307393296935,
          0.016830450237787408,
          0.004463182875122858,
          0.0042525184326243585,
          -0.004286350192486328,
          -0.015629179307199897,
          0.013112485711136011,
          -0.012979382274783012,
          0.0112591315849869,
          0.002144429621810868,
          0.00033435349135546837,
          0.0064338960660133586,
          0.004377694862404146,
          -0.005107438702613824,
          -0.00015427883558879446,
          0.004904154688585944,
          0.001964526153732777,
          0.0015089678373111017,
          -0.009667328540682512,
          0.012123242315638752,
          -0.0012752278575977822,
          0.002704784115688571,
          -0.005206475541205516,
          0.0018667280301077433,
          0.00432566119726844,
          -0.009658247088134694,
          -0.010502467281825537,
          0.003755211389572881,
          0.008212928421294173,
          0.005530551013672097,
          0.004880576346171683,
          -0.005782213236874532,
          0.010882826344693767,
          0.016029082318391306,
          -0.0015183368925536104,
          -0.015696641827442053,
          -0.0033643369550704644,
          0.0008944234357483494,
          0.006144264142154989,
          -0.0016665182241623277,
          0.00753052557071303,
          -0.004866789250801184,
          0.0009268394819677712,
          -0.009742143542951717,
          0.006606340773720782,
          0.005848454640049128,
          0.007682678100888194,
          -0.008036232341978793,
          -0.015869608327893872,
          0.001309780101441488,
          0.0005151578619452053,
          0.008033571960417164,
          -0.0005723972634090121,
          0.015005519477840632,
          -0.003166428922778786,
          -8.594357417928424e-05,
          0.0064992569554242095,
          -0.00035409296809970893,
          0.003086085325324248,
          -0.00022505851977031217,
          0.00026179044194996574,
          0.003046691788855251,
          -0.00382559822162542,
          0.002823915827501916,
          0.00944704105315621,
          0.001641722256407209,
          -0.004611419582766123,
          0.0017703041584916112,
          0.004128974604249244,
          -0.0023768766114369904,
          -0.0009033621591846211,
          -0.011799399898625114,
          0.005629701113343744,
          0.007922515972163917,
          0.007397773291019312,
          0.006797134440673078
         ],
         "yaxis": "y"
        }
       ],
       "layout": {
        "legend": {
         "tracegroupgap": 0
        },
        "margin": {
         "t": 60
        },
        "template": {
         "data": {
          "bar": [
           {
            "error_x": {
             "color": "#2a3f5f"
            },
            "error_y": {
             "color": "#2a3f5f"
            },
            "marker": {
             "line": {
              "color": "#E5ECF6",
              "width": 0.5
             },
             "pattern": {
              "fillmode": "overlay",
              "size": 10,
              "solidity": 0.2
             }
            },
            "type": "bar"
           }
          ],
          "barpolar": [
           {
            "marker": {
             "line": {
              "color": "#E5ECF6",
              "width": 0.5
             },
             "pattern": {
              "fillmode": "overlay",
              "size": 10,
              "solidity": 0.2
             }
            },
            "type": "barpolar"
           }
          ],
          "carpet": [
           {
            "aaxis": {
             "endlinecolor": "#2a3f5f",
             "gridcolor": "white",
             "linecolor": "white",
             "minorgridcolor": "white",
             "startlinecolor": "#2a3f5f"
            },
            "baxis": {
             "endlinecolor": "#2a3f5f",
             "gridcolor": "white",
             "linecolor": "white",
             "minorgridcolor": "white",
             "startlinecolor": "#2a3f5f"
            },
            "type": "carpet"
           }
          ],
          "choropleth": [
           {
            "colorbar": {
             "outlinewidth": 0,
             "ticks": ""
            },
            "type": "choropleth"
           }
          ],
          "contour": [
           {
            "colorbar": {
             "outlinewidth": 0,
             "ticks": ""
            },
            "colorscale": [
             [
              0,
              "#0d0887"
             ],
             [
              0.1111111111111111,
              "#46039f"
             ],
             [
              0.2222222222222222,
              "#7201a8"
             ],
             [
              0.3333333333333333,
              "#9c179e"
             ],
             [
              0.4444444444444444,
              "#bd3786"
             ],
             [
              0.5555555555555556,
              "#d8576b"
             ],
             [
              0.6666666666666666,
              "#ed7953"
             ],
             [
              0.7777777777777778,
              "#fb9f3a"
             ],
             [
              0.8888888888888888,
              "#fdca26"
             ],
             [
              1,
              "#f0f921"
             ]
            ],
            "type": "contour"
           }
          ],
          "contourcarpet": [
           {
            "colorbar": {
             "outlinewidth": 0,
             "ticks": ""
            },
            "type": "contourcarpet"
           }
          ],
          "heatmap": [
           {
            "colorbar": {
             "outlinewidth": 0,
             "ticks": ""
            },
            "colorscale": [
             [
              0,
              "#0d0887"
             ],
             [
              0.1111111111111111,
              "#46039f"
             ],
             [
              0.2222222222222222,
              "#7201a8"
             ],
             [
              0.3333333333333333,
              "#9c179e"
             ],
             [
              0.4444444444444444,
              "#bd3786"
             ],
             [
              0.5555555555555556,
              "#d8576b"
             ],
             [
              0.6666666666666666,
              "#ed7953"
             ],
             [
              0.7777777777777778,
              "#fb9f3a"
             ],
             [
              0.8888888888888888,
              "#fdca26"
             ],
             [
              1,
              "#f0f921"
             ]
            ],
            "type": "heatmap"
           }
          ],
          "heatmapgl": [
           {
            "colorbar": {
             "outlinewidth": 0,
             "ticks": ""
            },
            "colorscale": [
             [
              0,
              "#0d0887"
             ],
             [
              0.1111111111111111,
              "#46039f"
             ],
             [
              0.2222222222222222,
              "#7201a8"
             ],
             [
              0.3333333333333333,
              "#9c179e"
             ],
             [
              0.4444444444444444,
              "#bd3786"
             ],
             [
              0.5555555555555556,
              "#d8576b"
             ],
             [
              0.6666666666666666,
              "#ed7953"
             ],
             [
              0.7777777777777778,
              "#fb9f3a"
             ],
             [
              0.8888888888888888,
              "#fdca26"
             ],
             [
              1,
              "#f0f921"
             ]
            ],
            "type": "heatmapgl"
           }
          ],
          "histogram": [
           {
            "marker": {
             "pattern": {
              "fillmode": "overlay",
              "size": 10,
              "solidity": 0.2
             }
            },
            "type": "histogram"
           }
          ],
          "histogram2d": [
           {
            "colorbar": {
             "outlinewidth": 0,
             "ticks": ""
            },
            "colorscale": [
             [
              0,
              "#0d0887"
             ],
             [
              0.1111111111111111,
              "#46039f"
             ],
             [
              0.2222222222222222,
              "#7201a8"
             ],
             [
              0.3333333333333333,
              "#9c179e"
             ],
             [
              0.4444444444444444,
              "#bd3786"
             ],
             [
              0.5555555555555556,
              "#d8576b"
             ],
             [
              0.6666666666666666,
              "#ed7953"
             ],
             [
              0.7777777777777778,
              "#fb9f3a"
             ],
             [
              0.8888888888888888,
              "#fdca26"
             ],
             [
              1,
              "#f0f921"
             ]
            ],
            "type": "histogram2d"
           }
          ],
          "histogram2dcontour": [
           {
            "colorbar": {
             "outlinewidth": 0,
             "ticks": ""
            },
            "colorscale": [
             [
              0,
              "#0d0887"
             ],
             [
              0.1111111111111111,
              "#46039f"
             ],
             [
              0.2222222222222222,
              "#7201a8"
             ],
             [
              0.3333333333333333,
              "#9c179e"
             ],
             [
              0.4444444444444444,
              "#bd3786"
             ],
             [
              0.5555555555555556,
              "#d8576b"
             ],
             [
              0.6666666666666666,
              "#ed7953"
             ],
             [
              0.7777777777777778,
              "#fb9f3a"
             ],
             [
              0.8888888888888888,
              "#fdca26"
             ],
             [
              1,
              "#f0f921"
             ]
            ],
            "type": "histogram2dcontour"
           }
          ],
          "mesh3d": [
           {
            "colorbar": {
             "outlinewidth": 0,
             "ticks": ""
            },
            "type": "mesh3d"
           }
          ],
          "parcoords": [
           {
            "line": {
             "colorbar": {
              "outlinewidth": 0,
              "ticks": ""
             }
            },
            "type": "parcoords"
           }
          ],
          "pie": [
           {
            "automargin": true,
            "type": "pie"
           }
          ],
          "scatter": [
           {
            "fillpattern": {
             "fillmode": "overlay",
             "size": 10,
             "solidity": 0.2
            },
            "type": "scatter"
           }
          ],
          "scatter3d": [
           {
            "line": {
             "colorbar": {
              "outlinewidth": 0,
              "ticks": ""
             }
            },
            "marker": {
             "colorbar": {
              "outlinewidth": 0,
              "ticks": ""
             }
            },
            "type": "scatter3d"
           }
          ],
          "scattercarpet": [
           {
            "marker": {
             "colorbar": {
              "outlinewidth": 0,
              "ticks": ""
             }
            },
            "type": "scattercarpet"
           }
          ],
          "scattergeo": [
           {
            "marker": {
             "colorbar": {
              "outlinewidth": 0,
              "ticks": ""
             }
            },
            "type": "scattergeo"
           }
          ],
          "scattergl": [
           {
            "marker": {
             "colorbar": {
              "outlinewidth": 0,
              "ticks": ""
             }
            },
            "type": "scattergl"
           }
          ],
          "scattermapbox": [
           {
            "marker": {
             "colorbar": {
              "outlinewidth": 0,
              "ticks": ""
             }
            },
            "type": "scattermapbox"
           }
          ],
          "scatterpolar": [
           {
            "marker": {
             "colorbar": {
              "outlinewidth": 0,
              "ticks": ""
             }
            },
            "type": "scatterpolar"
           }
          ],
          "scatterpolargl": [
           {
            "marker": {
             "colorbar": {
              "outlinewidth": 0,
              "ticks": ""
             }
            },
            "type": "scatterpolargl"
           }
          ],
          "scatterternary": [
           {
            "marker": {
             "colorbar": {
              "outlinewidth": 0,
              "ticks": ""
             }
            },
            "type": "scatterternary"
           }
          ],
          "surface": [
           {
            "colorbar": {
             "outlinewidth": 0,
             "ticks": ""
            },
            "colorscale": [
             [
              0,
              "#0d0887"
             ],
             [
              0.1111111111111111,
              "#46039f"
             ],
             [
              0.2222222222222222,
              "#7201a8"
             ],
             [
              0.3333333333333333,
              "#9c179e"
             ],
             [
              0.4444444444444444,
              "#bd3786"
             ],
             [
              0.5555555555555556,
              "#d8576b"
             ],
             [
              0.6666666666666666,
              "#ed7953"
             ],
             [
              0.7777777777777778,
              "#fb9f3a"
             ],
             [
              0.8888888888888888,
              "#fdca26"
             ],
             [
              1,
              "#f0f921"
             ]
            ],
            "type": "surface"
           }
          ],
          "table": [
           {
            "cells": {
             "fill": {
              "color": "#EBF0F8"
             },
             "line": {
              "color": "white"
             }
            },
            "header": {
             "fill": {
              "color": "#C8D4E3"
             },
             "line": {
              "color": "white"
             }
            },
            "type": "table"
           }
          ]
         },
         "layout": {
          "annotationdefaults": {
           "arrowcolor": "#2a3f5f",
           "arrowhead": 0,
           "arrowwidth": 1
          },
          "autotypenumbers": "strict",
          "coloraxis": {
           "colorbar": {
            "outlinewidth": 0,
            "ticks": ""
           }
          },
          "colorscale": {
           "diverging": [
            [
             0,
             "#8e0152"
            ],
            [
             0.1,
             "#c51b7d"
            ],
            [
             0.2,
             "#de77ae"
            ],
            [
             0.3,
             "#f1b6da"
            ],
            [
             0.4,
             "#fde0ef"
            ],
            [
             0.5,
             "#f7f7f7"
            ],
            [
             0.6,
             "#e6f5d0"
            ],
            [
             0.7,
             "#b8e186"
            ],
            [
             0.8,
             "#7fbc41"
            ],
            [
             0.9,
             "#4d9221"
            ],
            [
             1,
             "#276419"
            ]
           ],
           "sequential": [
            [
             0,
             "#0d0887"
            ],
            [
             0.1111111111111111,
             "#46039f"
            ],
            [
             0.2222222222222222,
             "#7201a8"
            ],
            [
             0.3333333333333333,
             "#9c179e"
            ],
            [
             0.4444444444444444,
             "#bd3786"
            ],
            [
             0.5555555555555556,
             "#d8576b"
            ],
            [
             0.6666666666666666,
             "#ed7953"
            ],
            [
             0.7777777777777778,
             "#fb9f3a"
            ],
            [
             0.8888888888888888,
             "#fdca26"
            ],
            [
             1,
             "#f0f921"
            ]
           ],
           "sequentialminus": [
            [
             0,
             "#0d0887"
            ],
            [
             0.1111111111111111,
             "#46039f"
            ],
            [
             0.2222222222222222,
             "#7201a8"
            ],
            [
             0.3333333333333333,
             "#9c179e"
            ],
            [
             0.4444444444444444,
             "#bd3786"
            ],
            [
             0.5555555555555556,
             "#d8576b"
            ],
            [
             0.6666666666666666,
             "#ed7953"
            ],
            [
             0.7777777777777778,
             "#fb9f3a"
            ],
            [
             0.8888888888888888,
             "#fdca26"
            ],
            [
             1,
             "#f0f921"
            ]
           ]
          },
          "colorway": [
           "#636efa",
           "#EF553B",
           "#00cc96",
           "#ab63fa",
           "#FFA15A",
           "#19d3f3",
           "#FF6692",
           "#B6E880",
           "#FF97FF",
           "#FECB52"
          ],
          "font": {
           "color": "#2a3f5f"
          },
          "geo": {
           "bgcolor": "white",
           "lakecolor": "white",
           "landcolor": "#E5ECF6",
           "showlakes": true,
           "showland": true,
           "subunitcolor": "white"
          },
          "hoverlabel": {
           "align": "left"
          },
          "hovermode": "closest",
          "mapbox": {
           "style": "light"
          },
          "paper_bgcolor": "white",
          "plot_bgcolor": "#E5ECF6",
          "polar": {
           "angularaxis": {
            "gridcolor": "white",
            "linecolor": "white",
            "ticks": ""
           },
           "bgcolor": "#E5ECF6",
           "radialaxis": {
            "gridcolor": "white",
            "linecolor": "white",
            "ticks": ""
           }
          },
          "scene": {
           "xaxis": {
            "backgroundcolor": "#E5ECF6",
            "gridcolor": "white",
            "gridwidth": 2,
            "linecolor": "white",
            "showbackground": true,
            "ticks": "",
            "zerolinecolor": "white"
           },
           "yaxis": {
            "backgroundcolor": "#E5ECF6",
            "gridcolor": "white",
            "gridwidth": 2,
            "linecolor": "white",
            "showbackground": true,
            "ticks": "",
            "zerolinecolor": "white"
           },
           "zaxis": {
            "backgroundcolor": "#E5ECF6",
            "gridcolor": "white",
            "gridwidth": 2,
            "linecolor": "white",
            "showbackground": true,
            "ticks": "",
            "zerolinecolor": "white"
           }
          },
          "shapedefaults": {
           "line": {
            "color": "#2a3f5f"
           }
          },
          "ternary": {
           "aaxis": {
            "gridcolor": "white",
            "linecolor": "white",
            "ticks": ""
           },
           "baxis": {
            "gridcolor": "white",
            "linecolor": "white",
            "ticks": ""
           },
           "bgcolor": "#E5ECF6",
           "caxis": {
            "gridcolor": "white",
            "linecolor": "white",
            "ticks": ""
           }
          },
          "title": {
           "x": 0.05
          },
          "xaxis": {
           "automargin": true,
           "gridcolor": "white",
           "linecolor": "white",
           "ticks": "",
           "title": {
            "standoff": 15
           },
           "zerolinecolor": "white",
           "zerolinewidth": 2
          },
          "yaxis": {
           "automargin": true,
           "gridcolor": "white",
           "linecolor": "white",
           "ticks": "",
           "title": {
            "standoff": 15
           },
           "zerolinecolor": "white",
           "zerolinewidth": 2
          }
         }
        },
        "title": {
         "text": "alpha = 4.642857857142857, Rsquared = -0.032231860882397996"
        },
        "xaxis": {
         "anchor": "y",
         "domain": [
          0,
          1
         ],
         "title": {
          "text": "Feature number"
         }
        },
        "yaxis": {
         "anchor": "x",
         "domain": [
          0,
          1
         ],
         "title": {
          "text": "Coefficient value"
         }
        }
       }
      },
      "text/html": [
       "<div>                            <div id=\"65b85949-f16d-40fe-8ce4-a3323c846380\" class=\"plotly-graph-div\" style=\"height:525px; width:100%;\"></div>            <script type=\"text/javascript\">                require([\"plotly\"], function(Plotly) {                    window.PLOTLYENV=window.PLOTLYENV || {};                                    if (document.getElementById(\"65b85949-f16d-40fe-8ce4-a3323c846380\")) {                    Plotly.newPlot(                        \"65b85949-f16d-40fe-8ce4-a3323c846380\",                        [{\"error_y\":{\"array\":[0.295201726762946,0.09085566642544471,0.07724314979415199,0.07810034858184188,0.21570601651702923,0.0634085653931432,0.06574223492111445,0.08662590814992621,0.07859319276617094,0.06948574530566026,0.07216717518190009,0.0617192998643482,0.06142344922812119,0.08968206652594522,0.06973740634900463,0.08660039508290189,0.1140043010614013,0.05736396617532866,0.116805955844279,0.08867607636435414,0.09028879676536386,0.18109002036755822,0.0780860707739443,0.07111313933677596,0.07513303045675723,0.3647424803966511,0.08228822318034376,0.0641503470510331,0.08693322840564568,0.07518426534894639,0.059234370176020124,0.07201343212926642,0.0672476382476941,0.06472673023204212,0.06178977640285709,0.06863416232385039,0.1297069669772094,0.08445989566479671,0.06859158063885665,0.06746639145257487,0.05814759027155335,0.06451429163366862,0.06080790592064858,0.06447842841986814,0.06176730997158747,0.06553054439593474,0.04496356405526101,0.057466883981915816,0.038490616349187046,0.062995437293995,0.07120386104455062,0.05137476689756816,0.08255035131482025,0.0517627411889076,0.05465104097740144,0.060956600194040894,0.05886357409315484,0.07258771732849996,0.05826093095130252,0.10640692497113836,0.06131794219142413,0.07290670214832333,0.05269661288694108,0.05750100360669354,0.06722101909038831,0.08302139019104518,0.07764125958252473,0.050463158395639106,0.06402207759858838,0.06821547003924044,0.06106644656489626,0.06011961353584967,0.085479155852455,0.060745178212102735,0.06453292013975578,0.04902123538674018,0.06092514509082642,0.04488522162109331,0.04589748147522831,0.08925601608166467,0.05952321771128576,0.06757888264609065,0.05697070069048753,0.06221544238189602,0.061378452018794244,0.06798536501753628,0.04920462672146801,0.06752980293822922,0.06225325596225465,0.06535635537917171,0.05814556915888952,0.061233737318862586,0.050967530625874634,0.07405261023322833,0.05872819918696617,0.06191829027818684,0.05273730784589135,0.06206763353922762,0.05073015286759138,0.05057790009507233,0.050009528778677134,0.057770303417029906,0.046235015501336116,0.0912424627360719,0.07350277401268512,0.06777242456879842,0.0449376764962866,0.06602779900162221,0.05390595396546125,0.04868440525750894,0.07274279862617707,0.06291075251729979,0.0398334252242787,0.043988553792161,0.07440635901525561,0.06040844134909256,0.06526736485123436,0.0663278473589681,0.07895123282815837,0.039684678891667255,0.05240214227086151,0.06817349028395311,0.05756084719808757,0.04922850403045934,0.057382015211169445,0.06040381617591554,0.05200979710117877,0.04248924833004121,0.055277993863725824,0.06035611410971452,0.05727298622851257,0.04457688319129181,0.060502986038403025,0.05615476654659065,0.04700855331332603,0.045060752017554107,0.06002251724133555,0.05346424745284308,0.04968537522025539,0.0758735941836828,0.05366370912927059,0.05974422884465884,0.0812148543504172,0.05420704283572462,0.06411069885063024,0.053712856929528034,0.057909534157588045,0.0532516687040634,0.05261688764958366,0.06374920866756015,0.059710276644798777,0.04422930606271015,0.061783661134746384,0.04813393752343124,0.04896298762244589,0.0903080004722733,0.09078436376133726,0.05882910616951142,0.04335612627107717,0.03621270631188913,0.06340971738835126,0.06596615684936089,0.08133901010318724,0.03999606991919959,0.08064332657995034,0.05389371904196735,0.05460323421286103,0.04936158749010823,0.0793931656254502,0.06489112475029181,0.07034456247757236,0.06261099202983504,0.0493643043478,0.050361746058702965,0.04806052071750251,0.041982368884710124,0.04477136241048787,0.04276020353935175,0.0478278624733811,0.05367761392222467,0.06244047725715039,0.05324783810543459,0.06433530447672982,0.04867193893048331,0.0398770246176754,0.05130940104416924,0.04159977354334907,0.05198682729977503,0.05243190550699518,0.0566185728612436,0.044919783941906044,0.04709127437757317,0.05234083889245317,0.040147111900611605,0.04532773223704358,0.05994465398632723,0.07479022852506015,0.04255686969141986,0.0752461644159321,0.04813895161556098,0.04375512435542096,0.04913651761488634,0.048631733379790494,0.05261319733364358,0.05283369986003217,0.040156163211359806,0.05660733978459081,0.04704942615867964,0.050164441527445744,0.05215616764997106,0.05556974420790668,0.07391566970320274,0.0478130079093516,0.04735755361114171,0.05347179775078927,0.04045782012852341,0.06598742290006443,0.03688907150097729,0.04195921789452594,0.06467122927753705,0.04139568990868329,0.0472884168997839,0.03910761384794114,0.0381257503526495,0.04194766427002138,0.03647585824104754,0.039739914056610245,0.05776595755548705,0.03908556375822328,0.042891909174520106,0.0487085006847358,0.037908277134035454,0.04153013678845367,0.024931058347927082,0.061326492470527974,0.05309915649833602,0.043973794528437825,0.045445272580861534,0.047828270803082586]},\"hovertemplate\":\"x=%{x}<br>y=%{y}<extra></extra>\",\"legendgroup\":\"\",\"marker\":{\"color\":\"#636efa\",\"symbol\":\"circle\"},\"mode\":\"markers\",\"name\":\"\",\"orientation\":\"v\",\"showlegend\":false,\"x\":[0,1,2,3,4,5,6,7,8,9,10,11,12,13,14,15,16,17,18,19,20,21,22,23,24,25,26,27,28,29,30,31,32,33,34,35,36,37,38,39,40,41,42,43,44,45,46,47,48,49,50,51,52,53,54,55,56,57,58,59,60,61,62,63,64,65,66,67,68,69,70,71,72,73,74,75,76,77,78,79,80,81,82,83,84,85,86,87,88,89,90,91,92,93,94,95,96,97,98,99,100,101,102,103,104,105,106,107,108,109,110,111,112,113,114,115,116,117,118,119,120,121,122,123,124,125,126,127,128,129,130,131,132,133,134,135,136,137,138,139,140,141,142,143,144,145,146,147,148,149,150,151,152,153,154,155,156,157,158,159,160,161,162,163,164,165,166,167,168,169,170,171,172,173,174,175,176,177,178,179,180,181,182,183,184,185,186,187,188,189,190,191,192,193,194,195,196,197,198,199,200,201,202,203,204,205,206,207,208,209,210,211,212,213,214,215,216,217,218,219,220,221,222,223,224,225,226,227,228,229,230,231,232,233,234,235,236,237,238],\"xaxis\":\"x\",\"y\":[-2.605582264610391,-0.014052361671563254,0.006670207334789115,-0.011474435719485246,0.05914293074924626,-0.009908407351853978,0.0038589144271874818,0.016471043314389183,0.015072926002942365,0.007835095664103746,0.01016460636597867,0.002921140429689745,0.007029933911051283,0.018425828452048567,0.005390845685731895,0.012473162006477904,0.026527331998633986,-0.0011166540535415572,0.026651579241410917,0.012434177398479804,-0.014075720636638785,0.05368341321751244,0.012803275217405406,-0.00967163577448956,0.002924839618225263,0.21640330731796797,-0.01277075086320439,0.0062235720799409516,0.013542885972228795,0.010378415264974676,0.0017698035856760774,-0.0071210012601227455,-0.011565216395374006,-0.01087926018502795,0.0010922350602542256,-0.010275940112952586,0.030847854299025715,-0.006727868053077893,-0.0059847816414205935,-0.012397556752698737,-0.01024879670365369,0.00954930376494737,0.0055829348744365495,0.004378464054680986,0.005981159881842652,0.007435906785805559,-0.002651581883033283,-0.008467334264609704,0.002425915593777035,0.00014479206368822993,-0.006999423322472641,-0.0005750538537091187,0.01489453671557762,-0.0035205466893218785,0.004282849194017491,0.0039163185159125456,0.006731973902415176,0.011458806597506761,-0.009793529364405524,-0.023090884138104905,0.0027833462457347,-0.010762765304286053,0.00557484744437272,-0.006729090949704135,0.013347561698227746,-0.01464946392647128,0.009246654708527662,-0.0043296598751249235,0.006320078886582794,-0.006881103363697201,0.0037285221993020225,0.010662911324434556,0.019206482741619266,-0.004577259707420723,-0.013064520616624827,0.0019063231868567784,-0.0073538390420494915,-0.004929771380066053,-0.005656430388594672,0.020754422412965226,-0.003078734858854926,-0.010034193377079384,-0.006851407024332821,0.009572555212282131,-0.0026509936172762634,0.013343690286588265,-0.00034590783052945246,0.010921750431195233,0.00993584581061004,-0.009471532306710703,-0.0024157614422781813,0.010973361381266249,0.00590692229987195,-0.0027224623668911847,-0.007922827134844206,0.005014583053093978,0.0026849404786856023,0.0005951029521318934,0.0007319782047370058,0.001390507728049068,0.00019139852141665837,0.005930633768998199,-0.0036052953553633053,-0.018599153617247947,-0.015066711733743236,-0.01018037959575895,-0.0026189875884115783,0.006275725323709943,0.003409087094885263,-0.005578170691255981,-0.016187763626953518,-0.010924293708332207,-0.0007617370327266825,0.0023599037092255936,0.01677416543237379,0.008443640704385786,0.009386234362103469,-0.0021989668811289264,-0.017154087324474005,-0.0028730146532195216,-0.0018081053181359726,0.011987973304468161,-0.0061185073713372114,-0.0034469838394390762,-0.003279249277248944,-0.006750421322883252,0.004487011908301726,-0.0026443480933604413,-0.008970363331513244,-0.008906104128476783,0.005560540146134983,-0.001543135915413487,0.01085197169948345,-0.006330877250854368,-0.0024779835476307797,-0.001021149176063394,0.005722626203101344,-0.00738704532759365,0.0014871182047510251,0.011113370225158662,-0.0034472734216446253,0.0033531860381771444,0.01796497382692401,0.00014071137695369356,0.010104334744580187,-0.004906895577203295,0.008781966291285161,-0.010633592042993426,-0.005788408237567135,-0.011018141836207185,0.00947497532027172,0.001733189076173083,-0.0069417127327307164,-0.0037785767139663275,-0.0034424628367821265,-0.020598259833193258,0.02138041849085292,-0.006478445744692277,-0.0010545042544292424,-0.0031066577675862655,-0.009472482054902323,0.012874471312777233,0.019190285355918726,0.0010028307393296935,0.016830450237787408,0.004463182875122858,0.0042525184326243585,-0.004286350192486328,-0.015629179307199897,0.013112485711136011,-0.012979382274783012,0.0112591315849869,0.002144429621810868,0.00033435349135546837,0.0064338960660133586,0.004377694862404146,-0.005107438702613824,-0.00015427883558879446,0.004904154688585944,0.001964526153732777,0.0015089678373111017,-0.009667328540682512,0.012123242315638752,-0.0012752278575977822,0.002704784115688571,-0.005206475541205516,0.0018667280301077433,0.00432566119726844,-0.009658247088134694,-0.010502467281825537,0.003755211389572881,0.008212928421294173,0.005530551013672097,0.004880576346171683,-0.005782213236874532,0.010882826344693767,0.016029082318391306,-0.0015183368925536104,-0.015696641827442053,-0.0033643369550704644,0.0008944234357483494,0.006144264142154989,-0.0016665182241623277,0.00753052557071303,-0.004866789250801184,0.0009268394819677712,-0.009742143542951717,0.006606340773720782,0.005848454640049128,0.007682678100888194,-0.008036232341978793,-0.015869608327893872,0.001309780101441488,0.0005151578619452053,0.008033571960417164,-0.0005723972634090121,0.015005519477840632,-0.003166428922778786,-8.594357417928424e-05,0.0064992569554242095,-0.00035409296809970893,0.003086085325324248,-0.00022505851977031217,0.00026179044194996574,0.003046691788855251,-0.00382559822162542,0.002823915827501916,0.00944704105315621,0.001641722256407209,-0.004611419582766123,0.0017703041584916112,0.004128974604249244,-0.0023768766114369904,-0.0009033621591846211,-0.011799399898625114,0.005629701113343744,0.007922515972163917,0.007397773291019312,0.006797134440673078],\"yaxis\":\"y\",\"type\":\"scatter\"}],                        {\"template\":{\"data\":{\"histogram2dcontour\":[{\"type\":\"histogram2dcontour\",\"colorbar\":{\"outlinewidth\":0,\"ticks\":\"\"},\"colorscale\":[[0.0,\"#0d0887\"],[0.1111111111111111,\"#46039f\"],[0.2222222222222222,\"#7201a8\"],[0.3333333333333333,\"#9c179e\"],[0.4444444444444444,\"#bd3786\"],[0.5555555555555556,\"#d8576b\"],[0.6666666666666666,\"#ed7953\"],[0.7777777777777778,\"#fb9f3a\"],[0.8888888888888888,\"#fdca26\"],[1.0,\"#f0f921\"]]}],\"choropleth\":[{\"type\":\"choropleth\",\"colorbar\":{\"outlinewidth\":0,\"ticks\":\"\"}}],\"histogram2d\":[{\"type\":\"histogram2d\",\"colorbar\":{\"outlinewidth\":0,\"ticks\":\"\"},\"colorscale\":[[0.0,\"#0d0887\"],[0.1111111111111111,\"#46039f\"],[0.2222222222222222,\"#7201a8\"],[0.3333333333333333,\"#9c179e\"],[0.4444444444444444,\"#bd3786\"],[0.5555555555555556,\"#d8576b\"],[0.6666666666666666,\"#ed7953\"],[0.7777777777777778,\"#fb9f3a\"],[0.8888888888888888,\"#fdca26\"],[1.0,\"#f0f921\"]]}],\"heatmap\":[{\"type\":\"heatmap\",\"colorbar\":{\"outlinewidth\":0,\"ticks\":\"\"},\"colorscale\":[[0.0,\"#0d0887\"],[0.1111111111111111,\"#46039f\"],[0.2222222222222222,\"#7201a8\"],[0.3333333333333333,\"#9c179e\"],[0.4444444444444444,\"#bd3786\"],[0.5555555555555556,\"#d8576b\"],[0.6666666666666666,\"#ed7953\"],[0.7777777777777778,\"#fb9f3a\"],[0.8888888888888888,\"#fdca26\"],[1.0,\"#f0f921\"]]}],\"heatmapgl\":[{\"type\":\"heatmapgl\",\"colorbar\":{\"outlinewidth\":0,\"ticks\":\"\"},\"colorscale\":[[0.0,\"#0d0887\"],[0.1111111111111111,\"#46039f\"],[0.2222222222222222,\"#7201a8\"],[0.3333333333333333,\"#9c179e\"],[0.4444444444444444,\"#bd3786\"],[0.5555555555555556,\"#d8576b\"],[0.6666666666666666,\"#ed7953\"],[0.7777777777777778,\"#fb9f3a\"],[0.8888888888888888,\"#fdca26\"],[1.0,\"#f0f921\"]]}],\"contourcarpet\":[{\"type\":\"contourcarpet\",\"colorbar\":{\"outlinewidth\":0,\"ticks\":\"\"}}],\"contour\":[{\"type\":\"contour\",\"colorbar\":{\"outlinewidth\":0,\"ticks\":\"\"},\"colorscale\":[[0.0,\"#0d0887\"],[0.1111111111111111,\"#46039f\"],[0.2222222222222222,\"#7201a8\"],[0.3333333333333333,\"#9c179e\"],[0.4444444444444444,\"#bd3786\"],[0.5555555555555556,\"#d8576b\"],[0.6666666666666666,\"#ed7953\"],[0.7777777777777778,\"#fb9f3a\"],[0.8888888888888888,\"#fdca26\"],[1.0,\"#f0f921\"]]}],\"surface\":[{\"type\":\"surface\",\"colorbar\":{\"outlinewidth\":0,\"ticks\":\"\"},\"colorscale\":[[0.0,\"#0d0887\"],[0.1111111111111111,\"#46039f\"],[0.2222222222222222,\"#7201a8\"],[0.3333333333333333,\"#9c179e\"],[0.4444444444444444,\"#bd3786\"],[0.5555555555555556,\"#d8576b\"],[0.6666666666666666,\"#ed7953\"],[0.7777777777777778,\"#fb9f3a\"],[0.8888888888888888,\"#fdca26\"],[1.0,\"#f0f921\"]]}],\"mesh3d\":[{\"type\":\"mesh3d\",\"colorbar\":{\"outlinewidth\":0,\"ticks\":\"\"}}],\"scatter\":[{\"fillpattern\":{\"fillmode\":\"overlay\",\"size\":10,\"solidity\":0.2},\"type\":\"scatter\"}],\"parcoords\":[{\"type\":\"parcoords\",\"line\":{\"colorbar\":{\"outlinewidth\":0,\"ticks\":\"\"}}}],\"scatterpolargl\":[{\"type\":\"scatterpolargl\",\"marker\":{\"colorbar\":{\"outlinewidth\":0,\"ticks\":\"\"}}}],\"bar\":[{\"error_x\":{\"color\":\"#2a3f5f\"},\"error_y\":{\"color\":\"#2a3f5f\"},\"marker\":{\"line\":{\"color\":\"#E5ECF6\",\"width\":0.5},\"pattern\":{\"fillmode\":\"overlay\",\"size\":10,\"solidity\":0.2}},\"type\":\"bar\"}],\"scattergeo\":[{\"type\":\"scattergeo\",\"marker\":{\"colorbar\":{\"outlinewidth\":0,\"ticks\":\"\"}}}],\"scatterpolar\":[{\"type\":\"scatterpolar\",\"marker\":{\"colorbar\":{\"outlinewidth\":0,\"ticks\":\"\"}}}],\"histogram\":[{\"marker\":{\"pattern\":{\"fillmode\":\"overlay\",\"size\":10,\"solidity\":0.2}},\"type\":\"histogram\"}],\"scattergl\":[{\"type\":\"scattergl\",\"marker\":{\"colorbar\":{\"outlinewidth\":0,\"ticks\":\"\"}}}],\"scatter3d\":[{\"type\":\"scatter3d\",\"line\":{\"colorbar\":{\"outlinewidth\":0,\"ticks\":\"\"}},\"marker\":{\"colorbar\":{\"outlinewidth\":0,\"ticks\":\"\"}}}],\"scattermapbox\":[{\"type\":\"scattermapbox\",\"marker\":{\"colorbar\":{\"outlinewidth\":0,\"ticks\":\"\"}}}],\"scatterternary\":[{\"type\":\"scatterternary\",\"marker\":{\"colorbar\":{\"outlinewidth\":0,\"ticks\":\"\"}}}],\"scattercarpet\":[{\"type\":\"scattercarpet\",\"marker\":{\"colorbar\":{\"outlinewidth\":0,\"ticks\":\"\"}}}],\"carpet\":[{\"aaxis\":{\"endlinecolor\":\"#2a3f5f\",\"gridcolor\":\"white\",\"linecolor\":\"white\",\"minorgridcolor\":\"white\",\"startlinecolor\":\"#2a3f5f\"},\"baxis\":{\"endlinecolor\":\"#2a3f5f\",\"gridcolor\":\"white\",\"linecolor\":\"white\",\"minorgridcolor\":\"white\",\"startlinecolor\":\"#2a3f5f\"},\"type\":\"carpet\"}],\"table\":[{\"cells\":{\"fill\":{\"color\":\"#EBF0F8\"},\"line\":{\"color\":\"white\"}},\"header\":{\"fill\":{\"color\":\"#C8D4E3\"},\"line\":{\"color\":\"white\"}},\"type\":\"table\"}],\"barpolar\":[{\"marker\":{\"line\":{\"color\":\"#E5ECF6\",\"width\":0.5},\"pattern\":{\"fillmode\":\"overlay\",\"size\":10,\"solidity\":0.2}},\"type\":\"barpolar\"}],\"pie\":[{\"automargin\":true,\"type\":\"pie\"}]},\"layout\":{\"autotypenumbers\":\"strict\",\"colorway\":[\"#636efa\",\"#EF553B\",\"#00cc96\",\"#ab63fa\",\"#FFA15A\",\"#19d3f3\",\"#FF6692\",\"#B6E880\",\"#FF97FF\",\"#FECB52\"],\"font\":{\"color\":\"#2a3f5f\"},\"hovermode\":\"closest\",\"hoverlabel\":{\"align\":\"left\"},\"paper_bgcolor\":\"white\",\"plot_bgcolor\":\"#E5ECF6\",\"polar\":{\"bgcolor\":\"#E5ECF6\",\"angularaxis\":{\"gridcolor\":\"white\",\"linecolor\":\"white\",\"ticks\":\"\"},\"radialaxis\":{\"gridcolor\":\"white\",\"linecolor\":\"white\",\"ticks\":\"\"}},\"ternary\":{\"bgcolor\":\"#E5ECF6\",\"aaxis\":{\"gridcolor\":\"white\",\"linecolor\":\"white\",\"ticks\":\"\"},\"baxis\":{\"gridcolor\":\"white\",\"linecolor\":\"white\",\"ticks\":\"\"},\"caxis\":{\"gridcolor\":\"white\",\"linecolor\":\"white\",\"ticks\":\"\"}},\"coloraxis\":{\"colorbar\":{\"outlinewidth\":0,\"ticks\":\"\"}},\"colorscale\":{\"sequential\":[[0.0,\"#0d0887\"],[0.1111111111111111,\"#46039f\"],[0.2222222222222222,\"#7201a8\"],[0.3333333333333333,\"#9c179e\"],[0.4444444444444444,\"#bd3786\"],[0.5555555555555556,\"#d8576b\"],[0.6666666666666666,\"#ed7953\"],[0.7777777777777778,\"#fb9f3a\"],[0.8888888888888888,\"#fdca26\"],[1.0,\"#f0f921\"]],\"sequentialminus\":[[0.0,\"#0d0887\"],[0.1111111111111111,\"#46039f\"],[0.2222222222222222,\"#7201a8\"],[0.3333333333333333,\"#9c179e\"],[0.4444444444444444,\"#bd3786\"],[0.5555555555555556,\"#d8576b\"],[0.6666666666666666,\"#ed7953\"],[0.7777777777777778,\"#fb9f3a\"],[0.8888888888888888,\"#fdca26\"],[1.0,\"#f0f921\"]],\"diverging\":[[0,\"#8e0152\"],[0.1,\"#c51b7d\"],[0.2,\"#de77ae\"],[0.3,\"#f1b6da\"],[0.4,\"#fde0ef\"],[0.5,\"#f7f7f7\"],[0.6,\"#e6f5d0\"],[0.7,\"#b8e186\"],[0.8,\"#7fbc41\"],[0.9,\"#4d9221\"],[1,\"#276419\"]]},\"xaxis\":{\"gridcolor\":\"white\",\"linecolor\":\"white\",\"ticks\":\"\",\"title\":{\"standoff\":15},\"zerolinecolor\":\"white\",\"automargin\":true,\"zerolinewidth\":2},\"yaxis\":{\"gridcolor\":\"white\",\"linecolor\":\"white\",\"ticks\":\"\",\"title\":{\"standoff\":15},\"zerolinecolor\":\"white\",\"automargin\":true,\"zerolinewidth\":2},\"scene\":{\"xaxis\":{\"backgroundcolor\":\"#E5ECF6\",\"gridcolor\":\"white\",\"linecolor\":\"white\",\"showbackground\":true,\"ticks\":\"\",\"zerolinecolor\":\"white\",\"gridwidth\":2},\"yaxis\":{\"backgroundcolor\":\"#E5ECF6\",\"gridcolor\":\"white\",\"linecolor\":\"white\",\"showbackground\":true,\"ticks\":\"\",\"zerolinecolor\":\"white\",\"gridwidth\":2},\"zaxis\":{\"backgroundcolor\":\"#E5ECF6\",\"gridcolor\":\"white\",\"linecolor\":\"white\",\"showbackground\":true,\"ticks\":\"\",\"zerolinecolor\":\"white\",\"gridwidth\":2}},\"shapedefaults\":{\"line\":{\"color\":\"#2a3f5f\"}},\"annotationdefaults\":{\"arrowcolor\":\"#2a3f5f\",\"arrowhead\":0,\"arrowwidth\":1},\"geo\":{\"bgcolor\":\"white\",\"landcolor\":\"#E5ECF6\",\"subunitcolor\":\"white\",\"showland\":true,\"showlakes\":true,\"lakecolor\":\"white\"},\"title\":{\"x\":0.05},\"mapbox\":{\"style\":\"light\"}}},\"xaxis\":{\"anchor\":\"y\",\"domain\":[0.0,1.0],\"title\":{\"text\":\"Feature number\"}},\"yaxis\":{\"anchor\":\"x\",\"domain\":[0.0,1.0],\"title\":{\"text\":\"Coefficient value\"}},\"legend\":{\"tracegroupgap\":0},\"margin\":{\"t\":60},\"title\":{\"text\":\"alpha = 4.642857857142857, Rsquared = -0.032231860882397996\"}},                        {\"responsive\": true}                    ).then(function(){\n",
       "                            \n",
       "var gd = document.getElementById('65b85949-f16d-40fe-8ce4-a3323c846380');\n",
       "var x = new MutationObserver(function (mutations, observer) {{\n",
       "        var display = window.getComputedStyle(gd).display;\n",
       "        if (!display || display === 'none') {{\n",
       "            console.log([gd, 'removed!']);\n",
       "            Plotly.purge(gd);\n",
       "            observer.disconnect();\n",
       "        }}\n",
       "}});\n",
       "\n",
       "// Listen for the removal of the full notebook cells\n",
       "var notebookContainer = gd.closest('#notebook-container');\n",
       "if (notebookContainer) {{\n",
       "    x.observe(notebookContainer, {childList: true});\n",
       "}}\n",
       "\n",
       "// Listen for the clearing of the current output cell\n",
       "var outputEl = gd.closest('.output');\n",
       "if (outputEl) {{\n",
       "    x.observe(outputEl, {childList: true});\n",
       "}}\n",
       "\n",
       "                        })                };                });            </script>        </div>"
      ]
     },
     "metadata": {},
     "output_type": "display_data"
    },
    {
     "data": {
      "application/vnd.plotly.v1+json": {
       "config": {
        "plotlyServerURL": "https://plot.ly"
       },
       "data": [
        {
         "error_y": {
          "array": [
           0.29521812600467134,
           0.08784487614727138,
           0.07464251881092827,
           0.07550637387840205,
           0.2089133618998137,
           0.06130833426044616,
           0.06352032682873367,
           0.0837893710028869,
           0.07602127166357962,
           0.06715805206229426,
           0.06976620371248392,
           0.05963096055520679,
           0.05936659381458649,
           0.08676293366270918,
           0.06738615368294534,
           0.08372176371170717,
           0.11033721502750433,
           0.05541955635791107,
           0.1130409339980986,
           0.08572535711515639,
           0.08729790108824066,
           0.17546131924574446,
           0.0755058840461736,
           0.06874416567300828,
           0.07258906992698949,
           0.3564853847780988,
           0.07956177587712823,
           0.06199456375857484,
           0.0840533914673827,
           0.07268102151237009,
           0.05722754111625132,
           0.0695942573206913,
           0.0650314104517243,
           0.06259082054108871,
           0.059695217003450776,
           0.0663564267737779,
           0.12554486919765812,
           0.08161326781622298,
           0.06628257631991799,
           0.06525204898170364,
           0.0562340507006475,
           0.06237222858086182,
           0.05876252271192803,
           0.06230165387063976,
           0.05969153901949396,
           0.06333568662961556,
           0.0434439650250134,
           0.05555844646089198,
           0.03719039157798183,
           0.06085938505831557,
           0.06881161887620668,
           0.0496329474401633,
           0.07983771224171692,
           0.05001526914931781,
           0.05280872898983263,
           0.05889777276393958,
           0.056892403209742294,
           0.07018462534840889,
           0.05633839665049244,
           0.10296009406453038,
           0.05924282855774779,
           0.07048571282963934,
           0.050928753589314917,
           0.055576600456775135,
           0.06502696668753741,
           0.08028948328114109,
           0.0750440373983172,
           0.048764003935968595,
           0.061871291341774624,
           0.06592475401654034,
           0.0590031228725843,
           0.058141934881518385,
           0.08271956704190785,
           0.05869652347280594,
           0.06242983894676556,
           0.04736139993753674,
           0.05888785949930501,
           0.04338067630418154,
           0.04436362283965925,
           0.08638477463888734,
           0.05751001939079458,
           0.06533536460280652,
           0.05506545356609171,
           0.06015323913873296,
           0.05930090525473265,
           0.06576438843377855,
           0.04753626387411192,
           0.06529684643324522,
           0.06019340491028395,
           0.06318442524383644,
           0.05617718862223764,
           0.05922070314821739,
           0.049261353418311477,
           0.07154484133946218,
           0.056771240230814084,
           0.05983182822653026,
           0.0509534815659376,
           0.059963214502434,
           0.04901032395470095,
           0.0488641247429171,
           0.04831381841835266,
           0.055831018251927926,
           0.04467632096809735,
           0.08827060088176963,
           0.07110981231309862,
           0.06552361011312953,
           0.04341883507365683,
           0.06380811988753105,
           0.052085041553290995,
           0.04705418153778741,
           0.07039213054472276,
           0.060838618838302695,
           0.03848321389194967,
           0.042501057222369264,
           0.0720050470997699,
           0.05839809304591299,
           0.06309771933221962,
           0.06408113595824863,
           0.07639406849093246,
           0.03834573968043624,
           0.05062728809593686,
           0.06592969873129825,
           0.0556300016253786,
           0.04756702507098222,
           0.05544232796532146,
           0.05837991916716747,
           0.050258702052806824,
           0.04105381308817658,
           0.05345047265277031,
           0.05835185111262649,
           0.05534834392048281,
           0.043067080798777385,
           0.05851408533810689,
           0.05427363834557676,
           0.04541878335878824,
           0.04353356746441901,
           0.05800482812346042,
           0.05168422784730478,
           0.04800206609220908,
           0.07335325728676415,
           0.051851199235860526,
           0.057724468866948736,
           0.07858887122482254,
           0.052368990431092756,
           0.06198808217436803,
           0.05190598324067466,
           0.05598879617212032,
           0.05151433336967883,
           0.05085324511548439,
           0.061648881381143585,
           0.057734005037330005,
           0.042731756254146804,
           0.05971379843273924,
           0.04651135272192408,
           0.04731053350688781,
           0.08739698381952038,
           0.08786802881777982,
           0.05685728595928149,
           0.04188682325866486,
           0.03499337963957952,
           0.06130515893732251,
           0.06381022685544702,
           0.07872661549909926,
           0.038640684216314926,
           0.07802188816438765,
           0.05207818054408657,
           0.05276240007801642,
           0.047699808817445136,
           0.07680010111469457,
           0.06277605052624974,
           0.06803638143860738,
           0.06055313113981099,
           0.04769344861991091,
           0.04865414053269061,
           0.04645860270074372,
           0.04057351908043027,
           0.0432720043117676,
           0.041310299207620846,
           0.04622229574120301,
           0.05185981705942515,
           0.06032440633020866,
           0.051498788619410124,
           0.06222733291919095,
           0.047022636209931946,
           0.03853077335181712,
           0.04958660109716903,
           0.04019189684996379,
           0.05023563602300696,
           0.05071129326273123,
           0.05476143866155703,
           0.04340674245358312,
           0.045540596611083985,
           0.050584869730697216,
           0.03880489688960711,
           0.04381449637870266,
           0.05797562807682804,
           0.07236476982362498,
           0.041115586556419476,
           0.07280006985218103,
           0.046514216791562125,
           0.04227205488531801,
           0.04749512134210608,
           0.04698455704596461,
           0.05086387565458483,
           0.05105663807165383,
           0.038795228208883384,
           0.05474185170106657,
           0.04548392623181377,
           0.048485407316434734,
           0.05042407505349217,
           0.053722885394662814,
           0.07151895880332293,
           0.04619290949225184,
           0.04575192387324902,
           0.05169751760150065,
           0.039086228375876976,
           0.06385969741429144,
           0.03564698042457641,
           0.04053646130122538,
           0.06249937325870313,
           0.03999213341418235,
           0.04569143626171339,
           0.037781586103006005,
           0.03683303202709678,
           0.04053241915365242,
           0.03525194538698587,
           0.03839886598709252,
           0.05585694749066756,
           0.03776246256860468,
           0.041453483752338614,
           0.04705895422443541,
           0.036637354819914,
           0.040126304397986666,
           0.02408674468644287,
           0.059320084073750334,
           0.051317876368167994,
           0.04252866195500047,
           0.04394306754498574,
           0.046237596390594826
          ]
         },
         "hovertemplate": "x=%{x}<br>y=%{y}<extra></extra>",
         "legendgroup": "",
         "marker": {
          "color": "#636efa",
          "symbol": "circle"
         },
         "mode": "markers",
         "name": "",
         "orientation": "v",
         "showlegend": false,
         "type": "scatter",
         "x": [
          0,
          1,
          2,
          3,
          4,
          5,
          6,
          7,
          8,
          9,
          10,
          11,
          12,
          13,
          14,
          15,
          16,
          17,
          18,
          19,
          20,
          21,
          22,
          23,
          24,
          25,
          26,
          27,
          28,
          29,
          30,
          31,
          32,
          33,
          34,
          35,
          36,
          37,
          38,
          39,
          40,
          41,
          42,
          43,
          44,
          45,
          46,
          47,
          48,
          49,
          50,
          51,
          52,
          53,
          54,
          55,
          56,
          57,
          58,
          59,
          60,
          61,
          62,
          63,
          64,
          65,
          66,
          67,
          68,
          69,
          70,
          71,
          72,
          73,
          74,
          75,
          76,
          77,
          78,
          79,
          80,
          81,
          82,
          83,
          84,
          85,
          86,
          87,
          88,
          89,
          90,
          91,
          92,
          93,
          94,
          95,
          96,
          97,
          98,
          99,
          100,
          101,
          102,
          103,
          104,
          105,
          106,
          107,
          108,
          109,
          110,
          111,
          112,
          113,
          114,
          115,
          116,
          117,
          118,
          119,
          120,
          121,
          122,
          123,
          124,
          125,
          126,
          127,
          128,
          129,
          130,
          131,
          132,
          133,
          134,
          135,
          136,
          137,
          138,
          139,
          140,
          141,
          142,
          143,
          144,
          145,
          146,
          147,
          148,
          149,
          150,
          151,
          152,
          153,
          154,
          155,
          156,
          157,
          158,
          159,
          160,
          161,
          162,
          163,
          164,
          165,
          166,
          167,
          168,
          169,
          170,
          171,
          172,
          173,
          174,
          175,
          176,
          177,
          178,
          179,
          180,
          181,
          182,
          183,
          184,
          185,
          186,
          187,
          188,
          189,
          190,
          191,
          192,
          193,
          194,
          195,
          196,
          197,
          198,
          199,
          200,
          201,
          202,
          203,
          204,
          205,
          206,
          207,
          208,
          209,
          210,
          211,
          212,
          213,
          214,
          215,
          216,
          217,
          218,
          219,
          220,
          221,
          222,
          223,
          224,
          225,
          226,
          227,
          228,
          229,
          230,
          231,
          232,
          233,
          234,
          235,
          236,
          237,
          238
         ],
         "xaxis": "x",
         "y": [
          -2.6055815227272747,
          -0.013115537560125703,
          0.0062255268458031735,
          -0.010709473338186228,
          0.05520006869929651,
          -0.009247846861730379,
          0.003601653465374983,
          0.015372973760096569,
          0.014068064269412874,
          0.0073127559531634976,
          0.009486965941580092,
          0.002726397734377096,
          0.006561271650314531,
          0.017197439888578664,
          0.005031455973349769,
          0.011641617872712711,
          0.024758843198725053,
          -0.0010422104499721201,
          0.024874807291983523,
          0.01160523223858115,
          -0.013137339260862867,
          0.050104519003011605,
          0.011949723536245046,
          -0.009026860056190257,
          0.0027298503103435788,
          0.20197642016343675,
          -0.011919367472324097,
          0.005808667274611555,
          0.01264002690741354,
          0.009686520913976364,
          0.001651816679964339,
          -0.0066462678427812285,
          -0.010794201969015739,
          -0.010153976172692753,
          0.0010194193895706105,
          -0.009590877438755746,
          0.028791330679090666,
          -0.006279343516206034,
          -0.005585796198659221,
          -0.011571052969185489,
          -0.009565543590076777,
          0.008912683513950878,
          0.00521073921614078,
          0.004086566451035586,
          0.005582415889719808,
          0.0069401796667518546,
          -0.002474809757497731,
          -0.007902845313635724,
          0.0022641878875252325,
          0.00013513925944234794,
          -0.006532795100974465,
          -0.0005367169301285107,
          0.013901567601205778,
          -0.00328584357670042,
          0.003997325914416325,
          0.003655230614851709,
          0.006283175642254164,
          0.010694886157672976,
          -0.009140627406778488,
          -0.021551491862231244,
          0.0025977898293523863,
          -0.01004524761733365,
          0.0052031909480812055,
          -0.0062804848863905255,
          0.01245772425167923,
          -0.013672832998039862,
          0.008630211061292484,
          -0.004041015883449929,
          0.0058987402941439405,
          -0.0064223631394507204,
          0.003479954052681888,
          0.009952050569472253,
          0.01792605055884465,
          -0.004272109060259341,
          -0.012193552575516506,
          0.00177923497439966,
          -0.006863583105912859,
          -0.004601119954728315,
          -0.005279335029355027,
          0.01937079425210088,
          -0.0028734858682645976,
          -0.009365247151940759,
          -0.0063946465560439664,
          0.008934384864796656,
          -0.002474260709457846,
          0.012454110934149049,
          -0.00032284730849415564,
          0.010193633735782217,
          0.009273456089902703,
          -0.008840096819596657,
          -0.002254710679459636,
          0.010241803955848498,
          0.0055131274798804865,
          -0.0025409648757651056,
          -0.007394638659187925,
          0.004680277516221046,
          0.0025059444467732286,
          0.0005554294219897671,
          0.0006831796577545388,
          0.0012978072128457968,
          0.00017863861998888115,
          0.005535258184398319,
          -0.0033649423316724184,
          -0.01735921004276475,
          -0.014062264284827021,
          -0.009501687622708354,
          -0.0024443884158508065,
          0.005857343635462613,
          0.0031818146218929124,
          -0.005206292645172249,
          -0.015108579385156617,
          -0.01019600746111006,
          -0.000710954563878237,
          0.0022025767952772207,
          0.015655887736882205,
          0.0078807313240934,
          0.008760485404629904,
          -0.0020523690890536647,
          -0.016010481502842407,
          -0.002681480343004887,
          -0.0016875649635935744,
          0.011188775084170285,
          -0.0057106068799147305,
          -0.0032171849168098044,
          -0.003060632658765681,
          -0.0063003932346910345,
          0.004187877781081611,
          -0.0024680582204697453,
          -0.00837233910941236,
          -0.008312363853244997,
          0.005189837469725984,
          -0.0014402601877192545,
          0.010128506919517888,
          -0.005908818767464077,
          -0.0023127846444553945,
          -0.0009530725643258344,
          0.005341117789561254,
          -0.006894575639087406,
          0.0013879769911009567,
          0.01037247887681475,
          -0.0032174551935349833,
          0.0031296403022986682,
          0.016767308905129077,
          0.000131330618490114,
          0.009430712428274842,
          -0.004579769205389743,
          0.00819650187186615,
          -0.009924685906793865,
          -0.00540251435506266,
          -0.010283599047126708,
          0.008843310298920272,
          0.0016176431377615441,
          -0.006478931883882002,
          -0.0035266715997019056,
          -0.0032129653143299847,
          -0.019225042510980374,
          0.01995505725812939,
          -0.006046549361712792,
          -0.0009842039708006262,
          -0.002899547249747181,
          -0.008840983251242168,
          0.01201617322525875,
          0.017910932998857477,
          0.0009359753567077138,
          0.015708420221934912,
          0.004165637350114668,
          0.003969017203782735,
          -0.004000593512987239,
          -0.014587234020053238,
          0.012238319997060277,
          -0.012114090123130812,
          0.01050852281265444,
          0.0020014676470234767,
          0.00031206325859843716,
          0.0060049696616124686,
          0.00408584853824387,
          -0.004766942789106236,
          -0.00014399357988287482,
          0.004577211042680215,
          0.001833557743483925,
          0.0014083699814903615,
          -0.009022839971303678,
          0.011315026161262835,
          -0.0011902126670912635,
          0.0025244651746426663,
          -0.004859377171791814,
          0.001742279494767227,
          0.00403728378411721,
          -0.009014363948925715,
          -0.009802302796370501,
          0.003504863963601356,
          0.007665399859874561,
          0.005161847612760624,
          0.0045552045897602365,
          -0.0053967323544162294,
          0.010157304588380848,
          0.014960476830498552,
          -0.0014171144330500363,
          -0.014650199038945917,
          -0.0031400478247324334,
          0.0008347952066984594,
          0.00573464653267799,
          -0.0015554170092181726,
          0.007028490532665495,
          -0.0045423366340811054,
          0.0008650501831699198,
          -0.009092667306754936,
          0.00616591805547273,
          0.005458557664045852,
          0.007170499560828981,
          -0.007500483519180206,
          -0.014811634439367616,
          0.0012224614280120555,
          0.00048081400448219167,
          0.007498000496389353,
          -0.0005342374458484114,
          0.014005151512651257,
          -0.0029553336612602,
          -8.021400256733196e-05,
          0.006065973158395929,
          -0.000330486770226395,
          0.002880346303635965,
          -0.00021005461845229135,
          0.00024433774581996803,
          0.0028435790029315675,
          -0.0035705583401837255,
          0.002635654772335122,
          0.00881723831627913,
          0.0015322741059800619,
          -0.004303991610581715,
          0.001652283881258837,
          0.0038537096306326276,
          -0.0022184181706745246,
          -0.0008431380152389797,
          -0.011012773238716772,
          0.0052543877057874945,
          0.007394348240686323,
          0.006904588404951358,
          0.006343992144628206
         ],
         "yaxis": "y"
        }
       ],
       "layout": {
        "legend": {
         "tracegroupgap": 0
        },
        "margin": {
         "t": 60
        },
        "template": {
         "data": {
          "bar": [
           {
            "error_x": {
             "color": "#2a3f5f"
            },
            "error_y": {
             "color": "#2a3f5f"
            },
            "marker": {
             "line": {
              "color": "#E5ECF6",
              "width": 0.5
             },
             "pattern": {
              "fillmode": "overlay",
              "size": 10,
              "solidity": 0.2
             }
            },
            "type": "bar"
           }
          ],
          "barpolar": [
           {
            "marker": {
             "line": {
              "color": "#E5ECF6",
              "width": 0.5
             },
             "pattern": {
              "fillmode": "overlay",
              "size": 10,
              "solidity": 0.2
             }
            },
            "type": "barpolar"
           }
          ],
          "carpet": [
           {
            "aaxis": {
             "endlinecolor": "#2a3f5f",
             "gridcolor": "white",
             "linecolor": "white",
             "minorgridcolor": "white",
             "startlinecolor": "#2a3f5f"
            },
            "baxis": {
             "endlinecolor": "#2a3f5f",
             "gridcolor": "white",
             "linecolor": "white",
             "minorgridcolor": "white",
             "startlinecolor": "#2a3f5f"
            },
            "type": "carpet"
           }
          ],
          "choropleth": [
           {
            "colorbar": {
             "outlinewidth": 0,
             "ticks": ""
            },
            "type": "choropleth"
           }
          ],
          "contour": [
           {
            "colorbar": {
             "outlinewidth": 0,
             "ticks": ""
            },
            "colorscale": [
             [
              0,
              "#0d0887"
             ],
             [
              0.1111111111111111,
              "#46039f"
             ],
             [
              0.2222222222222222,
              "#7201a8"
             ],
             [
              0.3333333333333333,
              "#9c179e"
             ],
             [
              0.4444444444444444,
              "#bd3786"
             ],
             [
              0.5555555555555556,
              "#d8576b"
             ],
             [
              0.6666666666666666,
              "#ed7953"
             ],
             [
              0.7777777777777778,
              "#fb9f3a"
             ],
             [
              0.8888888888888888,
              "#fdca26"
             ],
             [
              1,
              "#f0f921"
             ]
            ],
            "type": "contour"
           }
          ],
          "contourcarpet": [
           {
            "colorbar": {
             "outlinewidth": 0,
             "ticks": ""
            },
            "type": "contourcarpet"
           }
          ],
          "heatmap": [
           {
            "colorbar": {
             "outlinewidth": 0,
             "ticks": ""
            },
            "colorscale": [
             [
              0,
              "#0d0887"
             ],
             [
              0.1111111111111111,
              "#46039f"
             ],
             [
              0.2222222222222222,
              "#7201a8"
             ],
             [
              0.3333333333333333,
              "#9c179e"
             ],
             [
              0.4444444444444444,
              "#bd3786"
             ],
             [
              0.5555555555555556,
              "#d8576b"
             ],
             [
              0.6666666666666666,
              "#ed7953"
             ],
             [
              0.7777777777777778,
              "#fb9f3a"
             ],
             [
              0.8888888888888888,
              "#fdca26"
             ],
             [
              1,
              "#f0f921"
             ]
            ],
            "type": "heatmap"
           }
          ],
          "heatmapgl": [
           {
            "colorbar": {
             "outlinewidth": 0,
             "ticks": ""
            },
            "colorscale": [
             [
              0,
              "#0d0887"
             ],
             [
              0.1111111111111111,
              "#46039f"
             ],
             [
              0.2222222222222222,
              "#7201a8"
             ],
             [
              0.3333333333333333,
              "#9c179e"
             ],
             [
              0.4444444444444444,
              "#bd3786"
             ],
             [
              0.5555555555555556,
              "#d8576b"
             ],
             [
              0.6666666666666666,
              "#ed7953"
             ],
             [
              0.7777777777777778,
              "#fb9f3a"
             ],
             [
              0.8888888888888888,
              "#fdca26"
             ],
             [
              1,
              "#f0f921"
             ]
            ],
            "type": "heatmapgl"
           }
          ],
          "histogram": [
           {
            "marker": {
             "pattern": {
              "fillmode": "overlay",
              "size": 10,
              "solidity": 0.2
             }
            },
            "type": "histogram"
           }
          ],
          "histogram2d": [
           {
            "colorbar": {
             "outlinewidth": 0,
             "ticks": ""
            },
            "colorscale": [
             [
              0,
              "#0d0887"
             ],
             [
              0.1111111111111111,
              "#46039f"
             ],
             [
              0.2222222222222222,
              "#7201a8"
             ],
             [
              0.3333333333333333,
              "#9c179e"
             ],
             [
              0.4444444444444444,
              "#bd3786"
             ],
             [
              0.5555555555555556,
              "#d8576b"
             ],
             [
              0.6666666666666666,
              "#ed7953"
             ],
             [
              0.7777777777777778,
              "#fb9f3a"
             ],
             [
              0.8888888888888888,
              "#fdca26"
             ],
             [
              1,
              "#f0f921"
             ]
            ],
            "type": "histogram2d"
           }
          ],
          "histogram2dcontour": [
           {
            "colorbar": {
             "outlinewidth": 0,
             "ticks": ""
            },
            "colorscale": [
             [
              0,
              "#0d0887"
             ],
             [
              0.1111111111111111,
              "#46039f"
             ],
             [
              0.2222222222222222,
              "#7201a8"
             ],
             [
              0.3333333333333333,
              "#9c179e"
             ],
             [
              0.4444444444444444,
              "#bd3786"
             ],
             [
              0.5555555555555556,
              "#d8576b"
             ],
             [
              0.6666666666666666,
              "#ed7953"
             ],
             [
              0.7777777777777778,
              "#fb9f3a"
             ],
             [
              0.8888888888888888,
              "#fdca26"
             ],
             [
              1,
              "#f0f921"
             ]
            ],
            "type": "histogram2dcontour"
           }
          ],
          "mesh3d": [
           {
            "colorbar": {
             "outlinewidth": 0,
             "ticks": ""
            },
            "type": "mesh3d"
           }
          ],
          "parcoords": [
           {
            "line": {
             "colorbar": {
              "outlinewidth": 0,
              "ticks": ""
             }
            },
            "type": "parcoords"
           }
          ],
          "pie": [
           {
            "automargin": true,
            "type": "pie"
           }
          ],
          "scatter": [
           {
            "fillpattern": {
             "fillmode": "overlay",
             "size": 10,
             "solidity": 0.2
            },
            "type": "scatter"
           }
          ],
          "scatter3d": [
           {
            "line": {
             "colorbar": {
              "outlinewidth": 0,
              "ticks": ""
             }
            },
            "marker": {
             "colorbar": {
              "outlinewidth": 0,
              "ticks": ""
             }
            },
            "type": "scatter3d"
           }
          ],
          "scattercarpet": [
           {
            "marker": {
             "colorbar": {
              "outlinewidth": 0,
              "ticks": ""
             }
            },
            "type": "scattercarpet"
           }
          ],
          "scattergeo": [
           {
            "marker": {
             "colorbar": {
              "outlinewidth": 0,
              "ticks": ""
             }
            },
            "type": "scattergeo"
           }
          ],
          "scattergl": [
           {
            "marker": {
             "colorbar": {
              "outlinewidth": 0,
              "ticks": ""
             }
            },
            "type": "scattergl"
           }
          ],
          "scattermapbox": [
           {
            "marker": {
             "colorbar": {
              "outlinewidth": 0,
              "ticks": ""
             }
            },
            "type": "scattermapbox"
           }
          ],
          "scatterpolar": [
           {
            "marker": {
             "colorbar": {
              "outlinewidth": 0,
              "ticks": ""
             }
            },
            "type": "scatterpolar"
           }
          ],
          "scatterpolargl": [
           {
            "marker": {
             "colorbar": {
              "outlinewidth": 0,
              "ticks": ""
             }
            },
            "type": "scatterpolargl"
           }
          ],
          "scatterternary": [
           {
            "marker": {
             "colorbar": {
              "outlinewidth": 0,
              "ticks": ""
             }
            },
            "type": "scatterternary"
           }
          ],
          "surface": [
           {
            "colorbar": {
             "outlinewidth": 0,
             "ticks": ""
            },
            "colorscale": [
             [
              0,
              "#0d0887"
             ],
             [
              0.1111111111111111,
              "#46039f"
             ],
             [
              0.2222222222222222,
              "#7201a8"
             ],
             [
              0.3333333333333333,
              "#9c179e"
             ],
             [
              0.4444444444444444,
              "#bd3786"
             ],
             [
              0.5555555555555556,
              "#d8576b"
             ],
             [
              0.6666666666666666,
              "#ed7953"
             ],
             [
              0.7777777777777778,
              "#fb9f3a"
             ],
             [
              0.8888888888888888,
              "#fdca26"
             ],
             [
              1,
              "#f0f921"
             ]
            ],
            "type": "surface"
           }
          ],
          "table": [
           {
            "cells": {
             "fill": {
              "color": "#EBF0F8"
             },
             "line": {
              "color": "white"
             }
            },
            "header": {
             "fill": {
              "color": "#C8D4E3"
             },
             "line": {
              "color": "white"
             }
            },
            "type": "table"
           }
          ]
         },
         "layout": {
          "annotationdefaults": {
           "arrowcolor": "#2a3f5f",
           "arrowhead": 0,
           "arrowwidth": 1
          },
          "autotypenumbers": "strict",
          "coloraxis": {
           "colorbar": {
            "outlinewidth": 0,
            "ticks": ""
           }
          },
          "colorscale": {
           "diverging": [
            [
             0,
             "#8e0152"
            ],
            [
             0.1,
             "#c51b7d"
            ],
            [
             0.2,
             "#de77ae"
            ],
            [
             0.3,
             "#f1b6da"
            ],
            [
             0.4,
             "#fde0ef"
            ],
            [
             0.5,
             "#f7f7f7"
            ],
            [
             0.6,
             "#e6f5d0"
            ],
            [
             0.7,
             "#b8e186"
            ],
            [
             0.8,
             "#7fbc41"
            ],
            [
             0.9,
             "#4d9221"
            ],
            [
             1,
             "#276419"
            ]
           ],
           "sequential": [
            [
             0,
             "#0d0887"
            ],
            [
             0.1111111111111111,
             "#46039f"
            ],
            [
             0.2222222222222222,
             "#7201a8"
            ],
            [
             0.3333333333333333,
             "#9c179e"
            ],
            [
             0.4444444444444444,
             "#bd3786"
            ],
            [
             0.5555555555555556,
             "#d8576b"
            ],
            [
             0.6666666666666666,
             "#ed7953"
            ],
            [
             0.7777777777777778,
             "#fb9f3a"
            ],
            [
             0.8888888888888888,
             "#fdca26"
            ],
            [
             1,
             "#f0f921"
            ]
           ],
           "sequentialminus": [
            [
             0,
             "#0d0887"
            ],
            [
             0.1111111111111111,
             "#46039f"
            ],
            [
             0.2222222222222222,
             "#7201a8"
            ],
            [
             0.3333333333333333,
             "#9c179e"
            ],
            [
             0.4444444444444444,
             "#bd3786"
            ],
            [
             0.5555555555555556,
             "#d8576b"
            ],
            [
             0.6666666666666666,
             "#ed7953"
            ],
            [
             0.7777777777777778,
             "#fb9f3a"
            ],
            [
             0.8888888888888888,
             "#fdca26"
            ],
            [
             1,
             "#f0f921"
            ]
           ]
          },
          "colorway": [
           "#636efa",
           "#EF553B",
           "#00cc96",
           "#ab63fa",
           "#FFA15A",
           "#19d3f3",
           "#FF6692",
           "#B6E880",
           "#FF97FF",
           "#FECB52"
          ],
          "font": {
           "color": "#2a3f5f"
          },
          "geo": {
           "bgcolor": "white",
           "lakecolor": "white",
           "landcolor": "#E5ECF6",
           "showlakes": true,
           "showland": true,
           "subunitcolor": "white"
          },
          "hoverlabel": {
           "align": "left"
          },
          "hovermode": "closest",
          "mapbox": {
           "style": "light"
          },
          "paper_bgcolor": "white",
          "plot_bgcolor": "#E5ECF6",
          "polar": {
           "angularaxis": {
            "gridcolor": "white",
            "linecolor": "white",
            "ticks": ""
           },
           "bgcolor": "#E5ECF6",
           "radialaxis": {
            "gridcolor": "white",
            "linecolor": "white",
            "ticks": ""
           }
          },
          "scene": {
           "xaxis": {
            "backgroundcolor": "#E5ECF6",
            "gridcolor": "white",
            "gridwidth": 2,
            "linecolor": "white",
            "showbackground": true,
            "ticks": "",
            "zerolinecolor": "white"
           },
           "yaxis": {
            "backgroundcolor": "#E5ECF6",
            "gridcolor": "white",
            "gridwidth": 2,
            "linecolor": "white",
            "showbackground": true,
            "ticks": "",
            "zerolinecolor": "white"
           },
           "zaxis": {
            "backgroundcolor": "#E5ECF6",
            "gridcolor": "white",
            "gridwidth": 2,
            "linecolor": "white",
            "showbackground": true,
            "ticks": "",
            "zerolinecolor": "white"
           }
          },
          "shapedefaults": {
           "line": {
            "color": "#2a3f5f"
           }
          },
          "ternary": {
           "aaxis": {
            "gridcolor": "white",
            "linecolor": "white",
            "ticks": ""
           },
           "baxis": {
            "gridcolor": "white",
            "linecolor": "white",
            "ticks": ""
           },
           "bgcolor": "#E5ECF6",
           "caxis": {
            "gridcolor": "white",
            "linecolor": "white",
            "ticks": ""
           }
          },
          "title": {
           "x": 0.05
          },
          "xaxis": {
           "automargin": true,
           "gridcolor": "white",
           "linecolor": "white",
           "ticks": "",
           "title": {
            "standoff": 15
           },
           "zerolinecolor": "white",
           "zerolinewidth": 2
          },
          "yaxis": {
           "automargin": true,
           "gridcolor": "white",
           "linecolor": "white",
           "ticks": "",
           "title": {
            "standoff": 15
           },
           "zerolinecolor": "white",
           "zerolinewidth": 2
          }
         }
        },
        "title": {
         "text": "alpha = 5.0, Rsquared = -0.03183394852667638"
        },
        "xaxis": {
         "anchor": "y",
         "domain": [
          0,
          1
         ],
         "title": {
          "text": "Feature number"
         }
        },
        "yaxis": {
         "anchor": "x",
         "domain": [
          0,
          1
         ],
         "title": {
          "text": "Coefficient value"
         }
        }
       }
      },
      "text/html": [
       "<div>                            <div id=\"7417b892-64fe-4728-8f3b-efb2e78d6e1f\" class=\"plotly-graph-div\" style=\"height:525px; width:100%;\"></div>            <script type=\"text/javascript\">                require([\"plotly\"], function(Plotly) {                    window.PLOTLYENV=window.PLOTLYENV || {};                                    if (document.getElementById(\"7417b892-64fe-4728-8f3b-efb2e78d6e1f\")) {                    Plotly.newPlot(                        \"7417b892-64fe-4728-8f3b-efb2e78d6e1f\",                        [{\"error_y\":{\"array\":[0.29521812600467134,0.08784487614727138,0.07464251881092827,0.07550637387840205,0.2089133618998137,0.06130833426044616,0.06352032682873367,0.0837893710028869,0.07602127166357962,0.06715805206229426,0.06976620371248392,0.05963096055520679,0.05936659381458649,0.08676293366270918,0.06738615368294534,0.08372176371170717,0.11033721502750433,0.05541955635791107,0.1130409339980986,0.08572535711515639,0.08729790108824066,0.17546131924574446,0.0755058840461736,0.06874416567300828,0.07258906992698949,0.3564853847780988,0.07956177587712823,0.06199456375857484,0.0840533914673827,0.07268102151237009,0.05722754111625132,0.0695942573206913,0.0650314104517243,0.06259082054108871,0.059695217003450776,0.0663564267737779,0.12554486919765812,0.08161326781622298,0.06628257631991799,0.06525204898170364,0.0562340507006475,0.06237222858086182,0.05876252271192803,0.06230165387063976,0.05969153901949396,0.06333568662961556,0.0434439650250134,0.05555844646089198,0.03719039157798183,0.06085938505831557,0.06881161887620668,0.0496329474401633,0.07983771224171692,0.05001526914931781,0.05280872898983263,0.05889777276393958,0.056892403209742294,0.07018462534840889,0.05633839665049244,0.10296009406453038,0.05924282855774779,0.07048571282963934,0.050928753589314917,0.055576600456775135,0.06502696668753741,0.08028948328114109,0.0750440373983172,0.048764003935968595,0.061871291341774624,0.06592475401654034,0.0590031228725843,0.058141934881518385,0.08271956704190785,0.05869652347280594,0.06242983894676556,0.04736139993753674,0.05888785949930501,0.04338067630418154,0.04436362283965925,0.08638477463888734,0.05751001939079458,0.06533536460280652,0.05506545356609171,0.06015323913873296,0.05930090525473265,0.06576438843377855,0.04753626387411192,0.06529684643324522,0.06019340491028395,0.06318442524383644,0.05617718862223764,0.05922070314821739,0.049261353418311477,0.07154484133946218,0.056771240230814084,0.05983182822653026,0.0509534815659376,0.059963214502434,0.04901032395470095,0.0488641247429171,0.04831381841835266,0.055831018251927926,0.04467632096809735,0.08827060088176963,0.07110981231309862,0.06552361011312953,0.04341883507365683,0.06380811988753105,0.052085041553290995,0.04705418153778741,0.07039213054472276,0.060838618838302695,0.03848321389194967,0.042501057222369264,0.0720050470997699,0.05839809304591299,0.06309771933221962,0.06408113595824863,0.07639406849093246,0.03834573968043624,0.05062728809593686,0.06592969873129825,0.0556300016253786,0.04756702507098222,0.05544232796532146,0.05837991916716747,0.050258702052806824,0.04105381308817658,0.05345047265277031,0.05835185111262649,0.05534834392048281,0.043067080798777385,0.05851408533810689,0.05427363834557676,0.04541878335878824,0.04353356746441901,0.05800482812346042,0.05168422784730478,0.04800206609220908,0.07335325728676415,0.051851199235860526,0.057724468866948736,0.07858887122482254,0.052368990431092756,0.06198808217436803,0.05190598324067466,0.05598879617212032,0.05151433336967883,0.05085324511548439,0.061648881381143585,0.057734005037330005,0.042731756254146804,0.05971379843273924,0.04651135272192408,0.04731053350688781,0.08739698381952038,0.08786802881777982,0.05685728595928149,0.04188682325866486,0.03499337963957952,0.06130515893732251,0.06381022685544702,0.07872661549909926,0.038640684216314926,0.07802188816438765,0.05207818054408657,0.05276240007801642,0.047699808817445136,0.07680010111469457,0.06277605052624974,0.06803638143860738,0.06055313113981099,0.04769344861991091,0.04865414053269061,0.04645860270074372,0.04057351908043027,0.0432720043117676,0.041310299207620846,0.04622229574120301,0.05185981705942515,0.06032440633020866,0.051498788619410124,0.06222733291919095,0.047022636209931946,0.03853077335181712,0.04958660109716903,0.04019189684996379,0.05023563602300696,0.05071129326273123,0.05476143866155703,0.04340674245358312,0.045540596611083985,0.050584869730697216,0.03880489688960711,0.04381449637870266,0.05797562807682804,0.07236476982362498,0.041115586556419476,0.07280006985218103,0.046514216791562125,0.04227205488531801,0.04749512134210608,0.04698455704596461,0.05086387565458483,0.05105663807165383,0.038795228208883384,0.05474185170106657,0.04548392623181377,0.048485407316434734,0.05042407505349217,0.053722885394662814,0.07151895880332293,0.04619290949225184,0.04575192387324902,0.05169751760150065,0.039086228375876976,0.06385969741429144,0.03564698042457641,0.04053646130122538,0.06249937325870313,0.03999213341418235,0.04569143626171339,0.037781586103006005,0.03683303202709678,0.04053241915365242,0.03525194538698587,0.03839886598709252,0.05585694749066756,0.03776246256860468,0.041453483752338614,0.04705895422443541,0.036637354819914,0.040126304397986666,0.02408674468644287,0.059320084073750334,0.051317876368167994,0.04252866195500047,0.04394306754498574,0.046237596390594826]},\"hovertemplate\":\"x=%{x}<br>y=%{y}<extra></extra>\",\"legendgroup\":\"\",\"marker\":{\"color\":\"#636efa\",\"symbol\":\"circle\"},\"mode\":\"markers\",\"name\":\"\",\"orientation\":\"v\",\"showlegend\":false,\"x\":[0,1,2,3,4,5,6,7,8,9,10,11,12,13,14,15,16,17,18,19,20,21,22,23,24,25,26,27,28,29,30,31,32,33,34,35,36,37,38,39,40,41,42,43,44,45,46,47,48,49,50,51,52,53,54,55,56,57,58,59,60,61,62,63,64,65,66,67,68,69,70,71,72,73,74,75,76,77,78,79,80,81,82,83,84,85,86,87,88,89,90,91,92,93,94,95,96,97,98,99,100,101,102,103,104,105,106,107,108,109,110,111,112,113,114,115,116,117,118,119,120,121,122,123,124,125,126,127,128,129,130,131,132,133,134,135,136,137,138,139,140,141,142,143,144,145,146,147,148,149,150,151,152,153,154,155,156,157,158,159,160,161,162,163,164,165,166,167,168,169,170,171,172,173,174,175,176,177,178,179,180,181,182,183,184,185,186,187,188,189,190,191,192,193,194,195,196,197,198,199,200,201,202,203,204,205,206,207,208,209,210,211,212,213,214,215,216,217,218,219,220,221,222,223,224,225,226,227,228,229,230,231,232,233,234,235,236,237,238],\"xaxis\":\"x\",\"y\":[-2.6055815227272747,-0.013115537560125703,0.0062255268458031735,-0.010709473338186228,0.05520006869929651,-0.009247846861730379,0.003601653465374983,0.015372973760096569,0.014068064269412874,0.0073127559531634976,0.009486965941580092,0.002726397734377096,0.006561271650314531,0.017197439888578664,0.005031455973349769,0.011641617872712711,0.024758843198725053,-0.0010422104499721201,0.024874807291983523,0.01160523223858115,-0.013137339260862867,0.050104519003011605,0.011949723536245046,-0.009026860056190257,0.0027298503103435788,0.20197642016343675,-0.011919367472324097,0.005808667274611555,0.01264002690741354,0.009686520913976364,0.001651816679964339,-0.0066462678427812285,-0.010794201969015739,-0.010153976172692753,0.0010194193895706105,-0.009590877438755746,0.028791330679090666,-0.006279343516206034,-0.005585796198659221,-0.011571052969185489,-0.009565543590076777,0.008912683513950878,0.00521073921614078,0.004086566451035586,0.005582415889719808,0.0069401796667518546,-0.002474809757497731,-0.007902845313635724,0.0022641878875252325,0.00013513925944234794,-0.006532795100974465,-0.0005367169301285107,0.013901567601205778,-0.00328584357670042,0.003997325914416325,0.003655230614851709,0.006283175642254164,0.010694886157672976,-0.009140627406778488,-0.021551491862231244,0.0025977898293523863,-0.01004524761733365,0.0052031909480812055,-0.0062804848863905255,0.01245772425167923,-0.013672832998039862,0.008630211061292484,-0.004041015883449929,0.0058987402941439405,-0.0064223631394507204,0.003479954052681888,0.009952050569472253,0.01792605055884465,-0.004272109060259341,-0.012193552575516506,0.00177923497439966,-0.006863583105912859,-0.004601119954728315,-0.005279335029355027,0.01937079425210088,-0.0028734858682645976,-0.009365247151940759,-0.0063946465560439664,0.008934384864796656,-0.002474260709457846,0.012454110934149049,-0.00032284730849415564,0.010193633735782217,0.009273456089902703,-0.008840096819596657,-0.002254710679459636,0.010241803955848498,0.0055131274798804865,-0.0025409648757651056,-0.007394638659187925,0.004680277516221046,0.0025059444467732286,0.0005554294219897671,0.0006831796577545388,0.0012978072128457968,0.00017863861998888115,0.005535258184398319,-0.0033649423316724184,-0.01735921004276475,-0.014062264284827021,-0.009501687622708354,-0.0024443884158508065,0.005857343635462613,0.0031818146218929124,-0.005206292645172249,-0.015108579385156617,-0.01019600746111006,-0.000710954563878237,0.0022025767952772207,0.015655887736882205,0.0078807313240934,0.008760485404629904,-0.0020523690890536647,-0.016010481502842407,-0.002681480343004887,-0.0016875649635935744,0.011188775084170285,-0.0057106068799147305,-0.0032171849168098044,-0.003060632658765681,-0.0063003932346910345,0.004187877781081611,-0.0024680582204697453,-0.00837233910941236,-0.008312363853244997,0.005189837469725984,-0.0014402601877192545,0.010128506919517888,-0.005908818767464077,-0.0023127846444553945,-0.0009530725643258344,0.005341117789561254,-0.006894575639087406,0.0013879769911009567,0.01037247887681475,-0.0032174551935349833,0.0031296403022986682,0.016767308905129077,0.000131330618490114,0.009430712428274842,-0.004579769205389743,0.00819650187186615,-0.009924685906793865,-0.00540251435506266,-0.010283599047126708,0.008843310298920272,0.0016176431377615441,-0.006478931883882002,-0.0035266715997019056,-0.0032129653143299847,-0.019225042510980374,0.01995505725812939,-0.006046549361712792,-0.0009842039708006262,-0.002899547249747181,-0.008840983251242168,0.01201617322525875,0.017910932998857477,0.0009359753567077138,0.015708420221934912,0.004165637350114668,0.003969017203782735,-0.004000593512987239,-0.014587234020053238,0.012238319997060277,-0.012114090123130812,0.01050852281265444,0.0020014676470234767,0.00031206325859843716,0.0060049696616124686,0.00408584853824387,-0.004766942789106236,-0.00014399357988287482,0.004577211042680215,0.001833557743483925,0.0014083699814903615,-0.009022839971303678,0.011315026161262835,-0.0011902126670912635,0.0025244651746426663,-0.004859377171791814,0.001742279494767227,0.00403728378411721,-0.009014363948925715,-0.009802302796370501,0.003504863963601356,0.007665399859874561,0.005161847612760624,0.0045552045897602365,-0.0053967323544162294,0.010157304588380848,0.014960476830498552,-0.0014171144330500363,-0.014650199038945917,-0.0031400478247324334,0.0008347952066984594,0.00573464653267799,-0.0015554170092181726,0.007028490532665495,-0.0045423366340811054,0.0008650501831699198,-0.009092667306754936,0.00616591805547273,0.005458557664045852,0.007170499560828981,-0.007500483519180206,-0.014811634439367616,0.0012224614280120555,0.00048081400448219167,0.007498000496389353,-0.0005342374458484114,0.014005151512651257,-0.0029553336612602,-8.021400256733196e-05,0.006065973158395929,-0.000330486770226395,0.002880346303635965,-0.00021005461845229135,0.00024433774581996803,0.0028435790029315675,-0.0035705583401837255,0.002635654772335122,0.00881723831627913,0.0015322741059800619,-0.004303991610581715,0.001652283881258837,0.0038537096306326276,-0.0022184181706745246,-0.0008431380152389797,-0.011012773238716772,0.0052543877057874945,0.007394348240686323,0.006904588404951358,0.006343992144628206],\"yaxis\":\"y\",\"type\":\"scatter\"}],                        {\"template\":{\"data\":{\"histogram2dcontour\":[{\"type\":\"histogram2dcontour\",\"colorbar\":{\"outlinewidth\":0,\"ticks\":\"\"},\"colorscale\":[[0.0,\"#0d0887\"],[0.1111111111111111,\"#46039f\"],[0.2222222222222222,\"#7201a8\"],[0.3333333333333333,\"#9c179e\"],[0.4444444444444444,\"#bd3786\"],[0.5555555555555556,\"#d8576b\"],[0.6666666666666666,\"#ed7953\"],[0.7777777777777778,\"#fb9f3a\"],[0.8888888888888888,\"#fdca26\"],[1.0,\"#f0f921\"]]}],\"choropleth\":[{\"type\":\"choropleth\",\"colorbar\":{\"outlinewidth\":0,\"ticks\":\"\"}}],\"histogram2d\":[{\"type\":\"histogram2d\",\"colorbar\":{\"outlinewidth\":0,\"ticks\":\"\"},\"colorscale\":[[0.0,\"#0d0887\"],[0.1111111111111111,\"#46039f\"],[0.2222222222222222,\"#7201a8\"],[0.3333333333333333,\"#9c179e\"],[0.4444444444444444,\"#bd3786\"],[0.5555555555555556,\"#d8576b\"],[0.6666666666666666,\"#ed7953\"],[0.7777777777777778,\"#fb9f3a\"],[0.8888888888888888,\"#fdca26\"],[1.0,\"#f0f921\"]]}],\"heatmap\":[{\"type\":\"heatmap\",\"colorbar\":{\"outlinewidth\":0,\"ticks\":\"\"},\"colorscale\":[[0.0,\"#0d0887\"],[0.1111111111111111,\"#46039f\"],[0.2222222222222222,\"#7201a8\"],[0.3333333333333333,\"#9c179e\"],[0.4444444444444444,\"#bd3786\"],[0.5555555555555556,\"#d8576b\"],[0.6666666666666666,\"#ed7953\"],[0.7777777777777778,\"#fb9f3a\"],[0.8888888888888888,\"#fdca26\"],[1.0,\"#f0f921\"]]}],\"heatmapgl\":[{\"type\":\"heatmapgl\",\"colorbar\":{\"outlinewidth\":0,\"ticks\":\"\"},\"colorscale\":[[0.0,\"#0d0887\"],[0.1111111111111111,\"#46039f\"],[0.2222222222222222,\"#7201a8\"],[0.3333333333333333,\"#9c179e\"],[0.4444444444444444,\"#bd3786\"],[0.5555555555555556,\"#d8576b\"],[0.6666666666666666,\"#ed7953\"],[0.7777777777777778,\"#fb9f3a\"],[0.8888888888888888,\"#fdca26\"],[1.0,\"#f0f921\"]]}],\"contourcarpet\":[{\"type\":\"contourcarpet\",\"colorbar\":{\"outlinewidth\":0,\"ticks\":\"\"}}],\"contour\":[{\"type\":\"contour\",\"colorbar\":{\"outlinewidth\":0,\"ticks\":\"\"},\"colorscale\":[[0.0,\"#0d0887\"],[0.1111111111111111,\"#46039f\"],[0.2222222222222222,\"#7201a8\"],[0.3333333333333333,\"#9c179e\"],[0.4444444444444444,\"#bd3786\"],[0.5555555555555556,\"#d8576b\"],[0.6666666666666666,\"#ed7953\"],[0.7777777777777778,\"#fb9f3a\"],[0.8888888888888888,\"#fdca26\"],[1.0,\"#f0f921\"]]}],\"surface\":[{\"type\":\"surface\",\"colorbar\":{\"outlinewidth\":0,\"ticks\":\"\"},\"colorscale\":[[0.0,\"#0d0887\"],[0.1111111111111111,\"#46039f\"],[0.2222222222222222,\"#7201a8\"],[0.3333333333333333,\"#9c179e\"],[0.4444444444444444,\"#bd3786\"],[0.5555555555555556,\"#d8576b\"],[0.6666666666666666,\"#ed7953\"],[0.7777777777777778,\"#fb9f3a\"],[0.8888888888888888,\"#fdca26\"],[1.0,\"#f0f921\"]]}],\"mesh3d\":[{\"type\":\"mesh3d\",\"colorbar\":{\"outlinewidth\":0,\"ticks\":\"\"}}],\"scatter\":[{\"fillpattern\":{\"fillmode\":\"overlay\",\"size\":10,\"solidity\":0.2},\"type\":\"scatter\"}],\"parcoords\":[{\"type\":\"parcoords\",\"line\":{\"colorbar\":{\"outlinewidth\":0,\"ticks\":\"\"}}}],\"scatterpolargl\":[{\"type\":\"scatterpolargl\",\"marker\":{\"colorbar\":{\"outlinewidth\":0,\"ticks\":\"\"}}}],\"bar\":[{\"error_x\":{\"color\":\"#2a3f5f\"},\"error_y\":{\"color\":\"#2a3f5f\"},\"marker\":{\"line\":{\"color\":\"#E5ECF6\",\"width\":0.5},\"pattern\":{\"fillmode\":\"overlay\",\"size\":10,\"solidity\":0.2}},\"type\":\"bar\"}],\"scattergeo\":[{\"type\":\"scattergeo\",\"marker\":{\"colorbar\":{\"outlinewidth\":0,\"ticks\":\"\"}}}],\"scatterpolar\":[{\"type\":\"scatterpolar\",\"marker\":{\"colorbar\":{\"outlinewidth\":0,\"ticks\":\"\"}}}],\"histogram\":[{\"marker\":{\"pattern\":{\"fillmode\":\"overlay\",\"size\":10,\"solidity\":0.2}},\"type\":\"histogram\"}],\"scattergl\":[{\"type\":\"scattergl\",\"marker\":{\"colorbar\":{\"outlinewidth\":0,\"ticks\":\"\"}}}],\"scatter3d\":[{\"type\":\"scatter3d\",\"line\":{\"colorbar\":{\"outlinewidth\":0,\"ticks\":\"\"}},\"marker\":{\"colorbar\":{\"outlinewidth\":0,\"ticks\":\"\"}}}],\"scattermapbox\":[{\"type\":\"scattermapbox\",\"marker\":{\"colorbar\":{\"outlinewidth\":0,\"ticks\":\"\"}}}],\"scatterternary\":[{\"type\":\"scatterternary\",\"marker\":{\"colorbar\":{\"outlinewidth\":0,\"ticks\":\"\"}}}],\"scattercarpet\":[{\"type\":\"scattercarpet\",\"marker\":{\"colorbar\":{\"outlinewidth\":0,\"ticks\":\"\"}}}],\"carpet\":[{\"aaxis\":{\"endlinecolor\":\"#2a3f5f\",\"gridcolor\":\"white\",\"linecolor\":\"white\",\"minorgridcolor\":\"white\",\"startlinecolor\":\"#2a3f5f\"},\"baxis\":{\"endlinecolor\":\"#2a3f5f\",\"gridcolor\":\"white\",\"linecolor\":\"white\",\"minorgridcolor\":\"white\",\"startlinecolor\":\"#2a3f5f\"},\"type\":\"carpet\"}],\"table\":[{\"cells\":{\"fill\":{\"color\":\"#EBF0F8\"},\"line\":{\"color\":\"white\"}},\"header\":{\"fill\":{\"color\":\"#C8D4E3\"},\"line\":{\"color\":\"white\"}},\"type\":\"table\"}],\"barpolar\":[{\"marker\":{\"line\":{\"color\":\"#E5ECF6\",\"width\":0.5},\"pattern\":{\"fillmode\":\"overlay\",\"size\":10,\"solidity\":0.2}},\"type\":\"barpolar\"}],\"pie\":[{\"automargin\":true,\"type\":\"pie\"}]},\"layout\":{\"autotypenumbers\":\"strict\",\"colorway\":[\"#636efa\",\"#EF553B\",\"#00cc96\",\"#ab63fa\",\"#FFA15A\",\"#19d3f3\",\"#FF6692\",\"#B6E880\",\"#FF97FF\",\"#FECB52\"],\"font\":{\"color\":\"#2a3f5f\"},\"hovermode\":\"closest\",\"hoverlabel\":{\"align\":\"left\"},\"paper_bgcolor\":\"white\",\"plot_bgcolor\":\"#E5ECF6\",\"polar\":{\"bgcolor\":\"#E5ECF6\",\"angularaxis\":{\"gridcolor\":\"white\",\"linecolor\":\"white\",\"ticks\":\"\"},\"radialaxis\":{\"gridcolor\":\"white\",\"linecolor\":\"white\",\"ticks\":\"\"}},\"ternary\":{\"bgcolor\":\"#E5ECF6\",\"aaxis\":{\"gridcolor\":\"white\",\"linecolor\":\"white\",\"ticks\":\"\"},\"baxis\":{\"gridcolor\":\"white\",\"linecolor\":\"white\",\"ticks\":\"\"},\"caxis\":{\"gridcolor\":\"white\",\"linecolor\":\"white\",\"ticks\":\"\"}},\"coloraxis\":{\"colorbar\":{\"outlinewidth\":0,\"ticks\":\"\"}},\"colorscale\":{\"sequential\":[[0.0,\"#0d0887\"],[0.1111111111111111,\"#46039f\"],[0.2222222222222222,\"#7201a8\"],[0.3333333333333333,\"#9c179e\"],[0.4444444444444444,\"#bd3786\"],[0.5555555555555556,\"#d8576b\"],[0.6666666666666666,\"#ed7953\"],[0.7777777777777778,\"#fb9f3a\"],[0.8888888888888888,\"#fdca26\"],[1.0,\"#f0f921\"]],\"sequentialminus\":[[0.0,\"#0d0887\"],[0.1111111111111111,\"#46039f\"],[0.2222222222222222,\"#7201a8\"],[0.3333333333333333,\"#9c179e\"],[0.4444444444444444,\"#bd3786\"],[0.5555555555555556,\"#d8576b\"],[0.6666666666666666,\"#ed7953\"],[0.7777777777777778,\"#fb9f3a\"],[0.8888888888888888,\"#fdca26\"],[1.0,\"#f0f921\"]],\"diverging\":[[0,\"#8e0152\"],[0.1,\"#c51b7d\"],[0.2,\"#de77ae\"],[0.3,\"#f1b6da\"],[0.4,\"#fde0ef\"],[0.5,\"#f7f7f7\"],[0.6,\"#e6f5d0\"],[0.7,\"#b8e186\"],[0.8,\"#7fbc41\"],[0.9,\"#4d9221\"],[1,\"#276419\"]]},\"xaxis\":{\"gridcolor\":\"white\",\"linecolor\":\"white\",\"ticks\":\"\",\"title\":{\"standoff\":15},\"zerolinecolor\":\"white\",\"automargin\":true,\"zerolinewidth\":2},\"yaxis\":{\"gridcolor\":\"white\",\"linecolor\":\"white\",\"ticks\":\"\",\"title\":{\"standoff\":15},\"zerolinecolor\":\"white\",\"automargin\":true,\"zerolinewidth\":2},\"scene\":{\"xaxis\":{\"backgroundcolor\":\"#E5ECF6\",\"gridcolor\":\"white\",\"linecolor\":\"white\",\"showbackground\":true,\"ticks\":\"\",\"zerolinecolor\":\"white\",\"gridwidth\":2},\"yaxis\":{\"backgroundcolor\":\"#E5ECF6\",\"gridcolor\":\"white\",\"linecolor\":\"white\",\"showbackground\":true,\"ticks\":\"\",\"zerolinecolor\":\"white\",\"gridwidth\":2},\"zaxis\":{\"backgroundcolor\":\"#E5ECF6\",\"gridcolor\":\"white\",\"linecolor\":\"white\",\"showbackground\":true,\"ticks\":\"\",\"zerolinecolor\":\"white\",\"gridwidth\":2}},\"shapedefaults\":{\"line\":{\"color\":\"#2a3f5f\"}},\"annotationdefaults\":{\"arrowcolor\":\"#2a3f5f\",\"arrowhead\":0,\"arrowwidth\":1},\"geo\":{\"bgcolor\":\"white\",\"landcolor\":\"#E5ECF6\",\"subunitcolor\":\"white\",\"showland\":true,\"showlakes\":true,\"lakecolor\":\"white\"},\"title\":{\"x\":0.05},\"mapbox\":{\"style\":\"light\"}}},\"xaxis\":{\"anchor\":\"y\",\"domain\":[0.0,1.0],\"title\":{\"text\":\"Feature number\"}},\"yaxis\":{\"anchor\":\"x\",\"domain\":[0.0,1.0],\"title\":{\"text\":\"Coefficient value\"}},\"legend\":{\"tracegroupgap\":0},\"margin\":{\"t\":60},\"title\":{\"text\":\"alpha = 5.0, Rsquared = -0.03183394852667638\"}},                        {\"responsive\": true}                    ).then(function(){\n",
       "                            \n",
       "var gd = document.getElementById('7417b892-64fe-4728-8f3b-efb2e78d6e1f');\n",
       "var x = new MutationObserver(function (mutations, observer) {{\n",
       "        var display = window.getComputedStyle(gd).display;\n",
       "        if (!display || display === 'none') {{\n",
       "            console.log([gd, 'removed!']);\n",
       "            Plotly.purge(gd);\n",
       "            observer.disconnect();\n",
       "        }}\n",
       "}});\n",
       "\n",
       "// Listen for the removal of the full notebook cells\n",
       "var notebookContainer = gd.closest('#notebook-container');\n",
       "if (notebookContainer) {{\n",
       "    x.observe(notebookContainer, {childList: true});\n",
       "}}\n",
       "\n",
       "// Listen for the clearing of the current output cell\n",
       "var outputEl = gd.closest('.output');\n",
       "if (outputEl) {{\n",
       "    x.observe(outputEl, {childList: true});\n",
       "}}\n",
       "\n",
       "                        })                };                });            </script>        </div>"
      ]
     },
     "metadata": {},
     "output_type": "display_data"
    }
   ],
   "source": [
    "\n",
    "for i in range(0,len(alpha_values)):\n",
    "    fig = px.scatter(y=hyperparam_mean.iloc[i], error_y=hyperparam_std.iloc[i])\n",
    "    fig.update_layout(\n",
    "        yaxis_title='Coefficient value',\n",
    "        xaxis_title='Feature number',\n",
    "        title = f'alpha = {alpha_values[i]}, Rsquared = {rsq[i]}')\n",
    "    fig.show()\n",
    "    "
   ]
  },
  {
   "cell_type": "code",
   "execution_count": 207,
   "metadata": {},
   "outputs": [
    {
     "data": {
      "application/vnd.plotly.v1+json": {
       "config": {
        "plotlyServerURL": "https://plot.ly"
       },
       "data": [
        {
         "hovertemplate": "x=%{x}<br>y=%{y}<extra></extra>",
         "legendgroup": "",
         "marker": {
          "color": "#636efa",
          "symbol": "circle"
         },
         "mode": "markers",
         "name": "",
         "orientation": "v",
         "showlegend": false,
         "type": "scatter",
         "x": [
          1e-05,
          0.3571521428571429,
          0.7142942857142858,
          1.0714364285714288,
          1.4285785714285717,
          1.7857207142857145,
          2.1428628571428576,
          2.5000050000000003,
          2.8571471428571433,
          3.2142892857142864,
          3.571431428571429,
          3.928573571428572,
          4.285715714285715,
          4.642857857142857,
          5
         ],
         "xaxis": "x",
         "y": [
          -0.5586782193351426,
          0.22218292583322433,
          0.20923218239243965,
          0.1292292268870341,
          0.02830674266781805,
          -0.024481712428273666,
          -0.03507368929362728,
          -0.032260430590317565,
          -0.031581755698755105,
          -0.030412960546965205,
          -0.030727626474565044,
          -0.03431732369584088,
          -0.032705999244529986,
          -0.032231860882397996,
          -0.03183394852667638
         ],
         "yaxis": "y"
        }
       ],
       "layout": {
        "legend": {
         "tracegroupgap": 0
        },
        "margin": {
         "t": 60
        },
        "template": {
         "data": {
          "bar": [
           {
            "error_x": {
             "color": "#2a3f5f"
            },
            "error_y": {
             "color": "#2a3f5f"
            },
            "marker": {
             "line": {
              "color": "#E5ECF6",
              "width": 0.5
             },
             "pattern": {
              "fillmode": "overlay",
              "size": 10,
              "solidity": 0.2
             }
            },
            "type": "bar"
           }
          ],
          "barpolar": [
           {
            "marker": {
             "line": {
              "color": "#E5ECF6",
              "width": 0.5
             },
             "pattern": {
              "fillmode": "overlay",
              "size": 10,
              "solidity": 0.2
             }
            },
            "type": "barpolar"
           }
          ],
          "carpet": [
           {
            "aaxis": {
             "endlinecolor": "#2a3f5f",
             "gridcolor": "white",
             "linecolor": "white",
             "minorgridcolor": "white",
             "startlinecolor": "#2a3f5f"
            },
            "baxis": {
             "endlinecolor": "#2a3f5f",
             "gridcolor": "white",
             "linecolor": "white",
             "minorgridcolor": "white",
             "startlinecolor": "#2a3f5f"
            },
            "type": "carpet"
           }
          ],
          "choropleth": [
           {
            "colorbar": {
             "outlinewidth": 0,
             "ticks": ""
            },
            "type": "choropleth"
           }
          ],
          "contour": [
           {
            "colorbar": {
             "outlinewidth": 0,
             "ticks": ""
            },
            "colorscale": [
             [
              0,
              "#0d0887"
             ],
             [
              0.1111111111111111,
              "#46039f"
             ],
             [
              0.2222222222222222,
              "#7201a8"
             ],
             [
              0.3333333333333333,
              "#9c179e"
             ],
             [
              0.4444444444444444,
              "#bd3786"
             ],
             [
              0.5555555555555556,
              "#d8576b"
             ],
             [
              0.6666666666666666,
              "#ed7953"
             ],
             [
              0.7777777777777778,
              "#fb9f3a"
             ],
             [
              0.8888888888888888,
              "#fdca26"
             ],
             [
              1,
              "#f0f921"
             ]
            ],
            "type": "contour"
           }
          ],
          "contourcarpet": [
           {
            "colorbar": {
             "outlinewidth": 0,
             "ticks": ""
            },
            "type": "contourcarpet"
           }
          ],
          "heatmap": [
           {
            "colorbar": {
             "outlinewidth": 0,
             "ticks": ""
            },
            "colorscale": [
             [
              0,
              "#0d0887"
             ],
             [
              0.1111111111111111,
              "#46039f"
             ],
             [
              0.2222222222222222,
              "#7201a8"
             ],
             [
              0.3333333333333333,
              "#9c179e"
             ],
             [
              0.4444444444444444,
              "#bd3786"
             ],
             [
              0.5555555555555556,
              "#d8576b"
             ],
             [
              0.6666666666666666,
              "#ed7953"
             ],
             [
              0.7777777777777778,
              "#fb9f3a"
             ],
             [
              0.8888888888888888,
              "#fdca26"
             ],
             [
              1,
              "#f0f921"
             ]
            ],
            "type": "heatmap"
           }
          ],
          "heatmapgl": [
           {
            "colorbar": {
             "outlinewidth": 0,
             "ticks": ""
            },
            "colorscale": [
             [
              0,
              "#0d0887"
             ],
             [
              0.1111111111111111,
              "#46039f"
             ],
             [
              0.2222222222222222,
              "#7201a8"
             ],
             [
              0.3333333333333333,
              "#9c179e"
             ],
             [
              0.4444444444444444,
              "#bd3786"
             ],
             [
              0.5555555555555556,
              "#d8576b"
             ],
             [
              0.6666666666666666,
              "#ed7953"
             ],
             [
              0.7777777777777778,
              "#fb9f3a"
             ],
             [
              0.8888888888888888,
              "#fdca26"
             ],
             [
              1,
              "#f0f921"
             ]
            ],
            "type": "heatmapgl"
           }
          ],
          "histogram": [
           {
            "marker": {
             "pattern": {
              "fillmode": "overlay",
              "size": 10,
              "solidity": 0.2
             }
            },
            "type": "histogram"
           }
          ],
          "histogram2d": [
           {
            "colorbar": {
             "outlinewidth": 0,
             "ticks": ""
            },
            "colorscale": [
             [
              0,
              "#0d0887"
             ],
             [
              0.1111111111111111,
              "#46039f"
             ],
             [
              0.2222222222222222,
              "#7201a8"
             ],
             [
              0.3333333333333333,
              "#9c179e"
             ],
             [
              0.4444444444444444,
              "#bd3786"
             ],
             [
              0.5555555555555556,
              "#d8576b"
             ],
             [
              0.6666666666666666,
              "#ed7953"
             ],
             [
              0.7777777777777778,
              "#fb9f3a"
             ],
             [
              0.8888888888888888,
              "#fdca26"
             ],
             [
              1,
              "#f0f921"
             ]
            ],
            "type": "histogram2d"
           }
          ],
          "histogram2dcontour": [
           {
            "colorbar": {
             "outlinewidth": 0,
             "ticks": ""
            },
            "colorscale": [
             [
              0,
              "#0d0887"
             ],
             [
              0.1111111111111111,
              "#46039f"
             ],
             [
              0.2222222222222222,
              "#7201a8"
             ],
             [
              0.3333333333333333,
              "#9c179e"
             ],
             [
              0.4444444444444444,
              "#bd3786"
             ],
             [
              0.5555555555555556,
              "#d8576b"
             ],
             [
              0.6666666666666666,
              "#ed7953"
             ],
             [
              0.7777777777777778,
              "#fb9f3a"
             ],
             [
              0.8888888888888888,
              "#fdca26"
             ],
             [
              1,
              "#f0f921"
             ]
            ],
            "type": "histogram2dcontour"
           }
          ],
          "mesh3d": [
           {
            "colorbar": {
             "outlinewidth": 0,
             "ticks": ""
            },
            "type": "mesh3d"
           }
          ],
          "parcoords": [
           {
            "line": {
             "colorbar": {
              "outlinewidth": 0,
              "ticks": ""
             }
            },
            "type": "parcoords"
           }
          ],
          "pie": [
           {
            "automargin": true,
            "type": "pie"
           }
          ],
          "scatter": [
           {
            "fillpattern": {
             "fillmode": "overlay",
             "size": 10,
             "solidity": 0.2
            },
            "type": "scatter"
           }
          ],
          "scatter3d": [
           {
            "line": {
             "colorbar": {
              "outlinewidth": 0,
              "ticks": ""
             }
            },
            "marker": {
             "colorbar": {
              "outlinewidth": 0,
              "ticks": ""
             }
            },
            "type": "scatter3d"
           }
          ],
          "scattercarpet": [
           {
            "marker": {
             "colorbar": {
              "outlinewidth": 0,
              "ticks": ""
             }
            },
            "type": "scattercarpet"
           }
          ],
          "scattergeo": [
           {
            "marker": {
             "colorbar": {
              "outlinewidth": 0,
              "ticks": ""
             }
            },
            "type": "scattergeo"
           }
          ],
          "scattergl": [
           {
            "marker": {
             "colorbar": {
              "outlinewidth": 0,
              "ticks": ""
             }
            },
            "type": "scattergl"
           }
          ],
          "scattermapbox": [
           {
            "marker": {
             "colorbar": {
              "outlinewidth": 0,
              "ticks": ""
             }
            },
            "type": "scattermapbox"
           }
          ],
          "scatterpolar": [
           {
            "marker": {
             "colorbar": {
              "outlinewidth": 0,
              "ticks": ""
             }
            },
            "type": "scatterpolar"
           }
          ],
          "scatterpolargl": [
           {
            "marker": {
             "colorbar": {
              "outlinewidth": 0,
              "ticks": ""
             }
            },
            "type": "scatterpolargl"
           }
          ],
          "scatterternary": [
           {
            "marker": {
             "colorbar": {
              "outlinewidth": 0,
              "ticks": ""
             }
            },
            "type": "scatterternary"
           }
          ],
          "surface": [
           {
            "colorbar": {
             "outlinewidth": 0,
             "ticks": ""
            },
            "colorscale": [
             [
              0,
              "#0d0887"
             ],
             [
              0.1111111111111111,
              "#46039f"
             ],
             [
              0.2222222222222222,
              "#7201a8"
             ],
             [
              0.3333333333333333,
              "#9c179e"
             ],
             [
              0.4444444444444444,
              "#bd3786"
             ],
             [
              0.5555555555555556,
              "#d8576b"
             ],
             [
              0.6666666666666666,
              "#ed7953"
             ],
             [
              0.7777777777777778,
              "#fb9f3a"
             ],
             [
              0.8888888888888888,
              "#fdca26"
             ],
             [
              1,
              "#f0f921"
             ]
            ],
            "type": "surface"
           }
          ],
          "table": [
           {
            "cells": {
             "fill": {
              "color": "#EBF0F8"
             },
             "line": {
              "color": "white"
             }
            },
            "header": {
             "fill": {
              "color": "#C8D4E3"
             },
             "line": {
              "color": "white"
             }
            },
            "type": "table"
           }
          ]
         },
         "layout": {
          "annotationdefaults": {
           "arrowcolor": "#2a3f5f",
           "arrowhead": 0,
           "arrowwidth": 1
          },
          "autotypenumbers": "strict",
          "coloraxis": {
           "colorbar": {
            "outlinewidth": 0,
            "ticks": ""
           }
          },
          "colorscale": {
           "diverging": [
            [
             0,
             "#8e0152"
            ],
            [
             0.1,
             "#c51b7d"
            ],
            [
             0.2,
             "#de77ae"
            ],
            [
             0.3,
             "#f1b6da"
            ],
            [
             0.4,
             "#fde0ef"
            ],
            [
             0.5,
             "#f7f7f7"
            ],
            [
             0.6,
             "#e6f5d0"
            ],
            [
             0.7,
             "#b8e186"
            ],
            [
             0.8,
             "#7fbc41"
            ],
            [
             0.9,
             "#4d9221"
            ],
            [
             1,
             "#276419"
            ]
           ],
           "sequential": [
            [
             0,
             "#0d0887"
            ],
            [
             0.1111111111111111,
             "#46039f"
            ],
            [
             0.2222222222222222,
             "#7201a8"
            ],
            [
             0.3333333333333333,
             "#9c179e"
            ],
            [
             0.4444444444444444,
             "#bd3786"
            ],
            [
             0.5555555555555556,
             "#d8576b"
            ],
            [
             0.6666666666666666,
             "#ed7953"
            ],
            [
             0.7777777777777778,
             "#fb9f3a"
            ],
            [
             0.8888888888888888,
             "#fdca26"
            ],
            [
             1,
             "#f0f921"
            ]
           ],
           "sequentialminus": [
            [
             0,
             "#0d0887"
            ],
            [
             0.1111111111111111,
             "#46039f"
            ],
            [
             0.2222222222222222,
             "#7201a8"
            ],
            [
             0.3333333333333333,
             "#9c179e"
            ],
            [
             0.4444444444444444,
             "#bd3786"
            ],
            [
             0.5555555555555556,
             "#d8576b"
            ],
            [
             0.6666666666666666,
             "#ed7953"
            ],
            [
             0.7777777777777778,
             "#fb9f3a"
            ],
            [
             0.8888888888888888,
             "#fdca26"
            ],
            [
             1,
             "#f0f921"
            ]
           ]
          },
          "colorway": [
           "#636efa",
           "#EF553B",
           "#00cc96",
           "#ab63fa",
           "#FFA15A",
           "#19d3f3",
           "#FF6692",
           "#B6E880",
           "#FF97FF",
           "#FECB52"
          ],
          "font": {
           "color": "#2a3f5f"
          },
          "geo": {
           "bgcolor": "white",
           "lakecolor": "white",
           "landcolor": "#E5ECF6",
           "showlakes": true,
           "showland": true,
           "subunitcolor": "white"
          },
          "hoverlabel": {
           "align": "left"
          },
          "hovermode": "closest",
          "mapbox": {
           "style": "light"
          },
          "paper_bgcolor": "white",
          "plot_bgcolor": "#E5ECF6",
          "polar": {
           "angularaxis": {
            "gridcolor": "white",
            "linecolor": "white",
            "ticks": ""
           },
           "bgcolor": "#E5ECF6",
           "radialaxis": {
            "gridcolor": "white",
            "linecolor": "white",
            "ticks": ""
           }
          },
          "scene": {
           "xaxis": {
            "backgroundcolor": "#E5ECF6",
            "gridcolor": "white",
            "gridwidth": 2,
            "linecolor": "white",
            "showbackground": true,
            "ticks": "",
            "zerolinecolor": "white"
           },
           "yaxis": {
            "backgroundcolor": "#E5ECF6",
            "gridcolor": "white",
            "gridwidth": 2,
            "linecolor": "white",
            "showbackground": true,
            "ticks": "",
            "zerolinecolor": "white"
           },
           "zaxis": {
            "backgroundcolor": "#E5ECF6",
            "gridcolor": "white",
            "gridwidth": 2,
            "linecolor": "white",
            "showbackground": true,
            "ticks": "",
            "zerolinecolor": "white"
           }
          },
          "shapedefaults": {
           "line": {
            "color": "#2a3f5f"
           }
          },
          "ternary": {
           "aaxis": {
            "gridcolor": "white",
            "linecolor": "white",
            "ticks": ""
           },
           "baxis": {
            "gridcolor": "white",
            "linecolor": "white",
            "ticks": ""
           },
           "bgcolor": "#E5ECF6",
           "caxis": {
            "gridcolor": "white",
            "linecolor": "white",
            "ticks": ""
           }
          },
          "title": {
           "x": 0.05
          },
          "xaxis": {
           "automargin": true,
           "gridcolor": "white",
           "linecolor": "white",
           "ticks": "",
           "title": {
            "standoff": 15
           },
           "zerolinecolor": "white",
           "zerolinewidth": 2
          },
          "yaxis": {
           "automargin": true,
           "gridcolor": "white",
           "linecolor": "white",
           "ticks": "",
           "title": {
            "standoff": 15
           },
           "zerolinecolor": "white",
           "zerolinewidth": 2
          }
         }
        },
        "title": {
         "text": "R-squared for different hyperparameter values"
        },
        "xaxis": {
         "anchor": "y",
         "domain": [
          0,
          1
         ],
         "title": {
          "text": "Hyperparameter value"
         }
        },
        "yaxis": {
         "anchor": "x",
         "domain": [
          0,
          1
         ],
         "title": {
          "text": "R-squared value"
         }
        }
       }
      },
      "text/html": [
       "<div>                            <div id=\"090c2790-766e-42ea-88e7-bfd954117bbf\" class=\"plotly-graph-div\" style=\"height:525px; width:100%;\"></div>            <script type=\"text/javascript\">                require([\"plotly\"], function(Plotly) {                    window.PLOTLYENV=window.PLOTLYENV || {};                                    if (document.getElementById(\"090c2790-766e-42ea-88e7-bfd954117bbf\")) {                    Plotly.newPlot(                        \"090c2790-766e-42ea-88e7-bfd954117bbf\",                        [{\"hovertemplate\":\"x=%{x}<br>y=%{y}<extra></extra>\",\"legendgroup\":\"\",\"marker\":{\"color\":\"#636efa\",\"symbol\":\"circle\"},\"mode\":\"markers\",\"name\":\"\",\"orientation\":\"v\",\"showlegend\":false,\"x\":[1e-05,0.3571521428571429,0.7142942857142858,1.0714364285714288,1.4285785714285717,1.7857207142857145,2.1428628571428576,2.5000050000000003,2.8571471428571433,3.2142892857142864,3.571431428571429,3.928573571428572,4.285715714285715,4.642857857142857,5.0],\"xaxis\":\"x\",\"y\":[-0.5586782193351426,0.22218292583322433,0.20923218239243965,0.1292292268870341,0.02830674266781805,-0.024481712428273666,-0.03507368929362728,-0.032260430590317565,-0.031581755698755105,-0.030412960546965205,-0.030727626474565044,-0.03431732369584088,-0.032705999244529986,-0.032231860882397996,-0.03183394852667638],\"yaxis\":\"y\",\"type\":\"scatter\"}],                        {\"template\":{\"data\":{\"histogram2dcontour\":[{\"type\":\"histogram2dcontour\",\"colorbar\":{\"outlinewidth\":0,\"ticks\":\"\"},\"colorscale\":[[0.0,\"#0d0887\"],[0.1111111111111111,\"#46039f\"],[0.2222222222222222,\"#7201a8\"],[0.3333333333333333,\"#9c179e\"],[0.4444444444444444,\"#bd3786\"],[0.5555555555555556,\"#d8576b\"],[0.6666666666666666,\"#ed7953\"],[0.7777777777777778,\"#fb9f3a\"],[0.8888888888888888,\"#fdca26\"],[1.0,\"#f0f921\"]]}],\"choropleth\":[{\"type\":\"choropleth\",\"colorbar\":{\"outlinewidth\":0,\"ticks\":\"\"}}],\"histogram2d\":[{\"type\":\"histogram2d\",\"colorbar\":{\"outlinewidth\":0,\"ticks\":\"\"},\"colorscale\":[[0.0,\"#0d0887\"],[0.1111111111111111,\"#46039f\"],[0.2222222222222222,\"#7201a8\"],[0.3333333333333333,\"#9c179e\"],[0.4444444444444444,\"#bd3786\"],[0.5555555555555556,\"#d8576b\"],[0.6666666666666666,\"#ed7953\"],[0.7777777777777778,\"#fb9f3a\"],[0.8888888888888888,\"#fdca26\"],[1.0,\"#f0f921\"]]}],\"heatmap\":[{\"type\":\"heatmap\",\"colorbar\":{\"outlinewidth\":0,\"ticks\":\"\"},\"colorscale\":[[0.0,\"#0d0887\"],[0.1111111111111111,\"#46039f\"],[0.2222222222222222,\"#7201a8\"],[0.3333333333333333,\"#9c179e\"],[0.4444444444444444,\"#bd3786\"],[0.5555555555555556,\"#d8576b\"],[0.6666666666666666,\"#ed7953\"],[0.7777777777777778,\"#fb9f3a\"],[0.8888888888888888,\"#fdca26\"],[1.0,\"#f0f921\"]]}],\"heatmapgl\":[{\"type\":\"heatmapgl\",\"colorbar\":{\"outlinewidth\":0,\"ticks\":\"\"},\"colorscale\":[[0.0,\"#0d0887\"],[0.1111111111111111,\"#46039f\"],[0.2222222222222222,\"#7201a8\"],[0.3333333333333333,\"#9c179e\"],[0.4444444444444444,\"#bd3786\"],[0.5555555555555556,\"#d8576b\"],[0.6666666666666666,\"#ed7953\"],[0.7777777777777778,\"#fb9f3a\"],[0.8888888888888888,\"#fdca26\"],[1.0,\"#f0f921\"]]}],\"contourcarpet\":[{\"type\":\"contourcarpet\",\"colorbar\":{\"outlinewidth\":0,\"ticks\":\"\"}}],\"contour\":[{\"type\":\"contour\",\"colorbar\":{\"outlinewidth\":0,\"ticks\":\"\"},\"colorscale\":[[0.0,\"#0d0887\"],[0.1111111111111111,\"#46039f\"],[0.2222222222222222,\"#7201a8\"],[0.3333333333333333,\"#9c179e\"],[0.4444444444444444,\"#bd3786\"],[0.5555555555555556,\"#d8576b\"],[0.6666666666666666,\"#ed7953\"],[0.7777777777777778,\"#fb9f3a\"],[0.8888888888888888,\"#fdca26\"],[1.0,\"#f0f921\"]]}],\"surface\":[{\"type\":\"surface\",\"colorbar\":{\"outlinewidth\":0,\"ticks\":\"\"},\"colorscale\":[[0.0,\"#0d0887\"],[0.1111111111111111,\"#46039f\"],[0.2222222222222222,\"#7201a8\"],[0.3333333333333333,\"#9c179e\"],[0.4444444444444444,\"#bd3786\"],[0.5555555555555556,\"#d8576b\"],[0.6666666666666666,\"#ed7953\"],[0.7777777777777778,\"#fb9f3a\"],[0.8888888888888888,\"#fdca26\"],[1.0,\"#f0f921\"]]}],\"mesh3d\":[{\"type\":\"mesh3d\",\"colorbar\":{\"outlinewidth\":0,\"ticks\":\"\"}}],\"scatter\":[{\"fillpattern\":{\"fillmode\":\"overlay\",\"size\":10,\"solidity\":0.2},\"type\":\"scatter\"}],\"parcoords\":[{\"type\":\"parcoords\",\"line\":{\"colorbar\":{\"outlinewidth\":0,\"ticks\":\"\"}}}],\"scatterpolargl\":[{\"type\":\"scatterpolargl\",\"marker\":{\"colorbar\":{\"outlinewidth\":0,\"ticks\":\"\"}}}],\"bar\":[{\"error_x\":{\"color\":\"#2a3f5f\"},\"error_y\":{\"color\":\"#2a3f5f\"},\"marker\":{\"line\":{\"color\":\"#E5ECF6\",\"width\":0.5},\"pattern\":{\"fillmode\":\"overlay\",\"size\":10,\"solidity\":0.2}},\"type\":\"bar\"}],\"scattergeo\":[{\"type\":\"scattergeo\",\"marker\":{\"colorbar\":{\"outlinewidth\":0,\"ticks\":\"\"}}}],\"scatterpolar\":[{\"type\":\"scatterpolar\",\"marker\":{\"colorbar\":{\"outlinewidth\":0,\"ticks\":\"\"}}}],\"histogram\":[{\"marker\":{\"pattern\":{\"fillmode\":\"overlay\",\"size\":10,\"solidity\":0.2}},\"type\":\"histogram\"}],\"scattergl\":[{\"type\":\"scattergl\",\"marker\":{\"colorbar\":{\"outlinewidth\":0,\"ticks\":\"\"}}}],\"scatter3d\":[{\"type\":\"scatter3d\",\"line\":{\"colorbar\":{\"outlinewidth\":0,\"ticks\":\"\"}},\"marker\":{\"colorbar\":{\"outlinewidth\":0,\"ticks\":\"\"}}}],\"scattermapbox\":[{\"type\":\"scattermapbox\",\"marker\":{\"colorbar\":{\"outlinewidth\":0,\"ticks\":\"\"}}}],\"scatterternary\":[{\"type\":\"scatterternary\",\"marker\":{\"colorbar\":{\"outlinewidth\":0,\"ticks\":\"\"}}}],\"scattercarpet\":[{\"type\":\"scattercarpet\",\"marker\":{\"colorbar\":{\"outlinewidth\":0,\"ticks\":\"\"}}}],\"carpet\":[{\"aaxis\":{\"endlinecolor\":\"#2a3f5f\",\"gridcolor\":\"white\",\"linecolor\":\"white\",\"minorgridcolor\":\"white\",\"startlinecolor\":\"#2a3f5f\"},\"baxis\":{\"endlinecolor\":\"#2a3f5f\",\"gridcolor\":\"white\",\"linecolor\":\"white\",\"minorgridcolor\":\"white\",\"startlinecolor\":\"#2a3f5f\"},\"type\":\"carpet\"}],\"table\":[{\"cells\":{\"fill\":{\"color\":\"#EBF0F8\"},\"line\":{\"color\":\"white\"}},\"header\":{\"fill\":{\"color\":\"#C8D4E3\"},\"line\":{\"color\":\"white\"}},\"type\":\"table\"}],\"barpolar\":[{\"marker\":{\"line\":{\"color\":\"#E5ECF6\",\"width\":0.5},\"pattern\":{\"fillmode\":\"overlay\",\"size\":10,\"solidity\":0.2}},\"type\":\"barpolar\"}],\"pie\":[{\"automargin\":true,\"type\":\"pie\"}]},\"layout\":{\"autotypenumbers\":\"strict\",\"colorway\":[\"#636efa\",\"#EF553B\",\"#00cc96\",\"#ab63fa\",\"#FFA15A\",\"#19d3f3\",\"#FF6692\",\"#B6E880\",\"#FF97FF\",\"#FECB52\"],\"font\":{\"color\":\"#2a3f5f\"},\"hovermode\":\"closest\",\"hoverlabel\":{\"align\":\"left\"},\"paper_bgcolor\":\"white\",\"plot_bgcolor\":\"#E5ECF6\",\"polar\":{\"bgcolor\":\"#E5ECF6\",\"angularaxis\":{\"gridcolor\":\"white\",\"linecolor\":\"white\",\"ticks\":\"\"},\"radialaxis\":{\"gridcolor\":\"white\",\"linecolor\":\"white\",\"ticks\":\"\"}},\"ternary\":{\"bgcolor\":\"#E5ECF6\",\"aaxis\":{\"gridcolor\":\"white\",\"linecolor\":\"white\",\"ticks\":\"\"},\"baxis\":{\"gridcolor\":\"white\",\"linecolor\":\"white\",\"ticks\":\"\"},\"caxis\":{\"gridcolor\":\"white\",\"linecolor\":\"white\",\"ticks\":\"\"}},\"coloraxis\":{\"colorbar\":{\"outlinewidth\":0,\"ticks\":\"\"}},\"colorscale\":{\"sequential\":[[0.0,\"#0d0887\"],[0.1111111111111111,\"#46039f\"],[0.2222222222222222,\"#7201a8\"],[0.3333333333333333,\"#9c179e\"],[0.4444444444444444,\"#bd3786\"],[0.5555555555555556,\"#d8576b\"],[0.6666666666666666,\"#ed7953\"],[0.7777777777777778,\"#fb9f3a\"],[0.8888888888888888,\"#fdca26\"],[1.0,\"#f0f921\"]],\"sequentialminus\":[[0.0,\"#0d0887\"],[0.1111111111111111,\"#46039f\"],[0.2222222222222222,\"#7201a8\"],[0.3333333333333333,\"#9c179e\"],[0.4444444444444444,\"#bd3786\"],[0.5555555555555556,\"#d8576b\"],[0.6666666666666666,\"#ed7953\"],[0.7777777777777778,\"#fb9f3a\"],[0.8888888888888888,\"#fdca26\"],[1.0,\"#f0f921\"]],\"diverging\":[[0,\"#8e0152\"],[0.1,\"#c51b7d\"],[0.2,\"#de77ae\"],[0.3,\"#f1b6da\"],[0.4,\"#fde0ef\"],[0.5,\"#f7f7f7\"],[0.6,\"#e6f5d0\"],[0.7,\"#b8e186\"],[0.8,\"#7fbc41\"],[0.9,\"#4d9221\"],[1,\"#276419\"]]},\"xaxis\":{\"gridcolor\":\"white\",\"linecolor\":\"white\",\"ticks\":\"\",\"title\":{\"standoff\":15},\"zerolinecolor\":\"white\",\"automargin\":true,\"zerolinewidth\":2},\"yaxis\":{\"gridcolor\":\"white\",\"linecolor\":\"white\",\"ticks\":\"\",\"title\":{\"standoff\":15},\"zerolinecolor\":\"white\",\"automargin\":true,\"zerolinewidth\":2},\"scene\":{\"xaxis\":{\"backgroundcolor\":\"#E5ECF6\",\"gridcolor\":\"white\",\"linecolor\":\"white\",\"showbackground\":true,\"ticks\":\"\",\"zerolinecolor\":\"white\",\"gridwidth\":2},\"yaxis\":{\"backgroundcolor\":\"#E5ECF6\",\"gridcolor\":\"white\",\"linecolor\":\"white\",\"showbackground\":true,\"ticks\":\"\",\"zerolinecolor\":\"white\",\"gridwidth\":2},\"zaxis\":{\"backgroundcolor\":\"#E5ECF6\",\"gridcolor\":\"white\",\"linecolor\":\"white\",\"showbackground\":true,\"ticks\":\"\",\"zerolinecolor\":\"white\",\"gridwidth\":2}},\"shapedefaults\":{\"line\":{\"color\":\"#2a3f5f\"}},\"annotationdefaults\":{\"arrowcolor\":\"#2a3f5f\",\"arrowhead\":0,\"arrowwidth\":1},\"geo\":{\"bgcolor\":\"white\",\"landcolor\":\"#E5ECF6\",\"subunitcolor\":\"white\",\"showland\":true,\"showlakes\":true,\"lakecolor\":\"white\"},\"title\":{\"x\":0.05},\"mapbox\":{\"style\":\"light\"}}},\"xaxis\":{\"anchor\":\"y\",\"domain\":[0.0,1.0],\"title\":{\"text\":\"Hyperparameter value\"}},\"yaxis\":{\"anchor\":\"x\",\"domain\":[0.0,1.0],\"title\":{\"text\":\"R-squared value\"}},\"legend\":{\"tracegroupgap\":0},\"margin\":{\"t\":60},\"title\":{\"text\":\"R-squared for different hyperparameter values\"}},                        {\"responsive\": true}                    ).then(function(){\n",
       "                            \n",
       "var gd = document.getElementById('090c2790-766e-42ea-88e7-bfd954117bbf');\n",
       "var x = new MutationObserver(function (mutations, observer) {{\n",
       "        var display = window.getComputedStyle(gd).display;\n",
       "        if (!display || display === 'none') {{\n",
       "            console.log([gd, 'removed!']);\n",
       "            Plotly.purge(gd);\n",
       "            observer.disconnect();\n",
       "        }}\n",
       "}});\n",
       "\n",
       "// Listen for the removal of the full notebook cells\n",
       "var notebookContainer = gd.closest('#notebook-container');\n",
       "if (notebookContainer) {{\n",
       "    x.observe(notebookContainer, {childList: true});\n",
       "}}\n",
       "\n",
       "// Listen for the clearing of the current output cell\n",
       "var outputEl = gd.closest('.output');\n",
       "if (outputEl) {{\n",
       "    x.observe(outputEl, {childList: true});\n",
       "}}\n",
       "\n",
       "                        })                };                });            </script>        </div>"
      ]
     },
     "metadata": {},
     "output_type": "display_data"
    }
   ],
   "source": [
    "fig = px.scatter(x=alpha_values,y=rsq)\n",
    "fig.update_layout(\n",
    "        yaxis_title='R-squared value',\n",
    "        xaxis_title='Hyperparameter value',\n",
    "        title = 'R-squared for different hyperparameter values')\n",
    "fig.show()"
   ]
  },
  {
   "cell_type": "markdown",
   "metadata": {},
   "source": [
    "***Answer***\n",
    "\n",
    "The elastic net estimate solves the minimization of the least-squares penalty with $L_1$ and $L_2$ regularisation terms added.\n",
    "Lasso penalizes the sum of the absolute value of the coefficients, while ridge penalizes the sum of squares of the coefficients. \n",
    "\n",
    "Ridge:\n",
    "\n",
    "$\\hat{\\beta}_{L_2}=\\underset{\\beta}{\\textrm{argmin}} \\bigg\\{\\sum \\limits _{i=1} ^{N}(y_i-\\beta_0-\\sum \\limits _{j=1} ^{p} x_{ij}\\beta{j})^2 + \\lambda\\sum \\limits _{j=1} ^{p}\\beta_{j}^2 \\bigg\\}\n",
    "= \\underset{\\beta}{\\textrm{argmin}} \\bigg\\{\\text{RSS} + \\lambda\\sum \\limits _{j=1} ^{p}\\beta_{j}^2 \\bigg\\}$\n",
    "\n",
    "where $\\lambda$ is the tuning parameter. Larger values for $\\lambda$ will shrink some coefficients towards zero.\n",
    "\n",
    "Lasso: \n",
    "\n",
    "$\\hat{\\beta}_{L_1}=\\underset{\\beta}{\\textrm{argmin}} \\bigg\\{\\sum \\limits _{i=1} ^{N}(y_i-\\beta_0-\\sum \\limits _{j=1} ^{p} x_{ij}\\beta{j})^2 + \\lambda\\sum \\limits _{j=1} ^{p}|{\\beta_{j}}| \\bigg\\}\n",
    "= \\underset{\\beta}{\\textrm{argmin}} \\bigg\\{\\text{RSS} + \\lambda\\sum \\limits _{j=1} ^{p}|{\\beta_{j}}| \\bigg\\}$\n",
    "\n",
    "where $\\lambda$ is the tuning parameter. Larger values for $\\lambda$ will make some coefficients exactly zero.\n",
    "\n",
    "\n"
   ]
  },
  {
   "cell_type": "markdown",
   "metadata": {},
   "source": [
    "Combining $L_1$ and $L_2$ with a tunable parameter $\\alpha$ that dictates the contribution of both regularization terms gives:\n",
    "\n",
    "$\\hat{\\beta}_{elasticnet}=\\underset{\\beta}{\\textrm{argmin}} \\bigg\\{\\sum \\limits _{i=1} ^{N}(y_i-\\beta_0-\\sum \\limits _{j=1} ^{p} x_{ij}\\beta{j})^2 + \\alpha\\lambda\\sum \\limits _{j=1} ^{p}\\beta_{j}^2 + (1-\\alpha)\\lambda\\sum \\limits _{j=1} ^{p}|{\\beta_{j}}| \\bigg\\}\n",
    "= \\underset{\\beta}{\\textrm{argmin}} \\bigg\\{\\text{RSS} + \\lambda\\sum \\limits _{j=1} ^{p}(\\alpha\\beta_{j}^2+(1-\\alpha)|{\\beta_{j}}|) \\bigg\\}$\n",
    "\n",
    "which boils down to Ridge for $\\alpha=1$ and Lasso for $\\alpha=0$"
   ]
  },
  {
   "cell_type": "markdown",
   "metadata": {},
   "source": [
    "For logistic regression, the maximum likelihood is used.\n",
    "\n",
    "The log likelihood can be written as \n",
    "\n",
    "$l(\\beta)=\\sum \\limits _{i=1} ^{N}\\big\\{y_i\\log{p(x_i|\\beta)+(1-y_i)\\log(1-p(x_i|\\beta))\\big\\}} \n",
    "= \\sum \\limits _{i=1} ^{N}\\big\\{y_i\\beta^{T}x_i - \\log{(1+e^{\\beta^{T}x_i})\\big\\}}$\n",
    "\n",
    "Combining $L_1$ and $L_2$ with a tunable parameter $\\alpha$ that dictates the contribution of both regularization terms gives:\n",
    "\n",
    "$\\underset{\\beta_0,\\beta}{\\textrm{max}} \\bigg\\{ \\sum \\limits _{i=1} ^{N} [ y_i(\\beta_0+\\beta^{T}x_i)-\\log(1+e^{\\beta_0+\\beta^{T}x_i})]-(1-\\alpha)\\lambda\\sum \\limits _{j=1} ^{p}|\\beta_j|-\\alpha\\lambda\\sum \\limits _{j=1} ^{p}\\beta_{j}^2\\bigg\\}$\n",
    "\n",
    "\n",
    "$=\\underset{\\beta_0,\\beta}{\\textrm{max}} \\bigg\\{ \\sum \\limits _{i=1} ^{N} [ y_i(\\beta_0+\\beta^{T}x_i)-\\log(1+e^{\\beta_0+\\beta^{T}x_i})]-\\lambda\\sum \\limits _{j=1} ^{p}(\\alpha\\beta_{j}^2+(1-\\alpha)|{\\beta_{j}}|)\\bigg\\}$\n",
    "\n"
   ]
  }
 ],
 "metadata": {
  "kernelspec": {
   "display_name": "Python 3 (ipykernel)",
   "language": "python",
   "name": "python3"
  },
  "language_info": {
   "codemirror_mode": {
    "name": "ipython",
    "version": 3
   },
   "file_extension": ".py",
   "mimetype": "text/x-python",
   "name": "python",
   "nbconvert_exporter": "python",
   "pygments_lexer": "ipython3",
   "version": "3.9.13"
  }
 },
 "nbformat": 4,
 "nbformat_minor": 2
}
